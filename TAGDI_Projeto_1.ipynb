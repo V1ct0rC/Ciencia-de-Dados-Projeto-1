{
  "cells": [
    {
      "cell_type": "markdown",
      "metadata": {},
      "source": [
        "# Introdução à Ciência de Dados - Projeto 1\n",
        "\n",
        "<p align=\"justify\">\n",
        "Nesse proejto iremos realizar uma análise de dad os sobre um dataset de carros usados da cidade de Recife - PE. O dataset foi montado a partir de dados coletados por webscraping de diversos sites de vendas. O dataset contém informações sobre o preço, ano, quilometragem, marca, modelo, tipo de combustível, tipo de câmbio e cor dos veículos. O objetivo desse projeto é realizar uma análise exploratória dos dados, respondendo a algumas perguntas sobre o dataset e gerando visualizações que possam ajudar a entender melhor o dataset.\n",
        "\n",
        "### Equipe:\n",
        "> Pedro Henrique Almeida Girão Peixinho (phagp)\n",
        "\n",
        "> Victor Gabriel de Carvalho (vgc3)\n",
        "\n",
        "### Tópicos Avançados em Gerenciamento de Dados e Informação IF697 - 2024.1 - Centro de Informáica UFPE"
      ]
    },
    {
      "cell_type": "markdown",
      "metadata": {},
      "source": [
        "## Imports e Configurações"
      ]
    },
    {
      "cell_type": "code",
      "execution_count": 1,
      "metadata": {
        "colab": {
          "base_uri": "https://localhost:8080/"
        },
        "id": "yKZfIB3jLaFb",
        "outputId": "ff898879-533b-4f22-c4a0-6a5f6b44f617"
      },
      "outputs": [],
      "source": [
        "import pandas as pd\n",
        "import numpy as np\n",
        "\n",
        "import matplotlib.pyplot as plt\n",
        "import plotly.express as px\n",
        "import plotly.graph_objects as go\n",
        "from plotly.subplots import make_subplots\n",
        "import plotly.io as pio\n",
        "\n",
        "from sklearn.preprocessing import StandardScaler, MinMaxScaler, RobustScaler\n",
        "from sklearn.covariance import EllipticEnvelope\n",
        "from sklearn.ensemble import IsolationForest\n",
        "\n",
        "from fancyimpute import KNN\n",
        "\n",
        "import warnings\n",
        "warnings.filterwarnings(\"ignore\", category=RuntimeWarning) \n",
        "\n",
        "# from google.colab import drive\n",
        "# drive.mount('/content/drive')"
      ]
    },
    {
      "cell_type": "markdown",
      "metadata": {},
      "source": [
        "Aqui está o dataset montado, ele é composto por 1165 amostras com 11 features cada."
      ]
    },
    {
      "cell_type": "code",
      "execution_count": 2,
      "metadata": {
        "colab": {
          "base_uri": "https://localhost:8080/"
        },
        "id": "wG5sRVSJMJK7",
        "outputId": "0ca467db-6be5-4178-97d5-b27d6bc40236"
      },
      "outputs": [
        {
          "data": {
            "text/plain": [
              "(1124, 12)"
            ]
          },
          "execution_count": 2,
          "metadata": {},
          "output_type": "execute_result"
        }
      ],
      "source": [
        "df_cars = pd.read_csv('carscraper\\cars.csv')\n",
        "df_cars.shape"
      ]
    },
    {
      "cell_type": "markdown",
      "metadata": {},
      "source": [
        "---"
      ]
    },
    {
      "cell_type": "markdown",
      "metadata": {},
      "source": [
        "## Pré-processamento dos Dados\n",
        "\n",
        "<p align=\"justify\">\n",
        "Nessa etapa, será feita a leitura do dataset e a análise inicial dos dados. Mais precisamente, focaremos na definição e correção de tipos de dados, tratamento de valores faltantes, mormalização e discretização de dados, e limpeza geral."
      ]
    },
    {
      "cell_type": "markdown",
      "metadata": {},
      "source": [
        "<p align=\"justify\">\n",
        "Abaixo está a aparência inicial do dataset, após a leitura dos dados. Veja que algumas colunas não apresentam valores estatísticos significantes para a análise, como a coluna de \"page\" e a de \"car_desc\" (que ja teve seus valores diluídos entre outras colunas, como a \"car_engine\" e \"car_gearbox\"). Elas serão removidas do dataset."
      ]
    },
    {
      "cell_type": "code",
      "execution_count": 3,
      "metadata": {
        "colab": {
          "base_uri": "https://localhost:8080/",
          "height": 206
        },
        "id": "zvQ8B2uJMixr",
        "outputId": "dd0bdc43-bf21-48dd-a618-f1b31ced0836"
      },
      "outputs": [
        {
          "data": {
            "text/html": [
              "<div>\n",
              "<style scoped>\n",
              "    .dataframe tbody tr th:only-of-type {\n",
              "        vertical-align: middle;\n",
              "    }\n",
              "\n",
              "    .dataframe tbody tr th {\n",
              "        vertical-align: top;\n",
              "    }\n",
              "\n",
              "    .dataframe thead th {\n",
              "        text-align: right;\n",
              "    }\n",
              "</style>\n",
              "<table border=\"1\" class=\"dataframe\">\n",
              "  <thead>\n",
              "    <tr style=\"text-align: right;\">\n",
              "      <th></th>\n",
              "      <th>page</th>\n",
              "      <th>car_brand</th>\n",
              "      <th>car_name</th>\n",
              "      <th>car_price</th>\n",
              "      <th>car_km</th>\n",
              "      <th>car_year</th>\n",
              "      <th>car_desc</th>\n",
              "      <th>car_store</th>\n",
              "      <th>car_engine</th>\n",
              "      <th>car_gearbox</th>\n",
              "      <th>car_fuel</th>\n",
              "      <th>car_color</th>\n",
              "    </tr>\n",
              "  </thead>\n",
              "  <tbody>\n",
              "    <tr>\n",
              "      <th>0</th>\n",
              "      <td>https://grupoautonunes.com/estoque/?zero_km=0&amp;...</td>\n",
              "      <td>Fiat</td>\n",
              "      <td>500E</td>\n",
              "      <td>125990.0</td>\n",
              "      <td>7521.0</td>\n",
              "      <td>2022</td>\n",
              "      <td>ICON ELÉTRICO</td>\n",
              "      <td>NaN</td>\n",
              "      <td>Elétrico</td>\n",
              "      <td>Automatico</td>\n",
              "      <td>Elétrico</td>\n",
              "      <td>NaN</td>\n",
              "    </tr>\n",
              "    <tr>\n",
              "      <th>1</th>\n",
              "      <td>https://grupoautonunes.com/estoque/?zero_km=0&amp;...</td>\n",
              "      <td>Audi</td>\n",
              "      <td>Q3</td>\n",
              "      <td>128980.0</td>\n",
              "      <td>40000.0</td>\n",
              "      <td>2018</td>\n",
              "      <td>1.4 TFSI AMBIENTE FLEX 4P S TRONIC</td>\n",
              "      <td>NaN</td>\n",
              "      <td>1.4</td>\n",
              "      <td>Automatico</td>\n",
              "      <td>Flex</td>\n",
              "      <td>NaN</td>\n",
              "    </tr>\n",
              "    <tr>\n",
              "      <th>2</th>\n",
              "      <td>https://grupoautonunes.com/estoque/?zero_km=0&amp;...</td>\n",
              "      <td>Chevrolet</td>\n",
              "      <td>Onix</td>\n",
              "      <td>70990.0</td>\n",
              "      <td>40686.0</td>\n",
              "      <td>2023</td>\n",
              "      <td>1.0 FLEX LT MANUAL</td>\n",
              "      <td>NaN</td>\n",
              "      <td>1.0</td>\n",
              "      <td>Manual</td>\n",
              "      <td>Flex</td>\n",
              "      <td>NaN</td>\n",
              "    </tr>\n",
              "    <tr>\n",
              "      <th>3</th>\n",
              "      <td>https://grupoautonunes.com/estoque/?zero_km=0&amp;...</td>\n",
              "      <td>Chevrolet</td>\n",
              "      <td>Onix</td>\n",
              "      <td>79990.0</td>\n",
              "      <td>57643.0</td>\n",
              "      <td>2022</td>\n",
              "      <td>1.0 TURBO FLEX PLUS LTZ AUTOMÁTICO</td>\n",
              "      <td>NaN</td>\n",
              "      <td>1.0 Turbo</td>\n",
              "      <td>Automatico</td>\n",
              "      <td>Flex</td>\n",
              "      <td>NaN</td>\n",
              "    </tr>\n",
              "    <tr>\n",
              "      <th>4</th>\n",
              "      <td>https://grupoautonunes.com/estoque/?zero_km=0&amp;...</td>\n",
              "      <td>Volkswagen</td>\n",
              "      <td>Saveiro</td>\n",
              "      <td>77990.0</td>\n",
              "      <td>29000.0</td>\n",
              "      <td>2023</td>\n",
              "      <td>1.6 MSI TRENDLINE CS 8V FLEX 2P MANUAL</td>\n",
              "      <td>NaN</td>\n",
              "      <td>1.6</td>\n",
              "      <td>Manual</td>\n",
              "      <td>Flex</td>\n",
              "      <td>NaN</td>\n",
              "    </tr>\n",
              "  </tbody>\n",
              "</table>\n",
              "</div>"
            ],
            "text/plain": [
              "                                                page   car_brand car_name  \\\n",
              "0  https://grupoautonunes.com/estoque/?zero_km=0&...        Fiat     500E   \n",
              "1  https://grupoautonunes.com/estoque/?zero_km=0&...        Audi       Q3   \n",
              "2  https://grupoautonunes.com/estoque/?zero_km=0&...   Chevrolet     Onix   \n",
              "3  https://grupoautonunes.com/estoque/?zero_km=0&...   Chevrolet     Onix   \n",
              "4  https://grupoautonunes.com/estoque/?zero_km=0&...  Volkswagen  Saveiro   \n",
              "\n",
              "   car_price   car_km  car_year                                car_desc  \\\n",
              "0   125990.0   7521.0      2022                           ICON ELÉTRICO   \n",
              "1   128980.0  40000.0      2018      1.4 TFSI AMBIENTE FLEX 4P S TRONIC   \n",
              "2    70990.0  40686.0      2023                      1.0 FLEX LT MANUAL   \n",
              "3    79990.0  57643.0      2022      1.0 TURBO FLEX PLUS LTZ AUTOMÁTICO   \n",
              "4    77990.0  29000.0      2023  1.6 MSI TRENDLINE CS 8V FLEX 2P MANUAL   \n",
              "\n",
              "  car_store car_engine car_gearbox  car_fuel car_color  \n",
              "0       NaN   Elétrico  Automatico  Elétrico       NaN  \n",
              "1       NaN        1.4  Automatico      Flex       NaN  \n",
              "2       NaN        1.0      Manual      Flex       NaN  \n",
              "3       NaN  1.0 Turbo  Automatico      Flex       NaN  \n",
              "4       NaN        1.6      Manual      Flex       NaN  "
            ]
          },
          "execution_count": 3,
          "metadata": {},
          "output_type": "execute_result"
        }
      ],
      "source": [
        "df_cars.head()"
      ]
    },
    {
      "cell_type": "markdown",
      "metadata": {},
      "source": [
        "<p align=\"justify\">\n",
        "Além das colunas irrelevantes, será feita a remoção de linhas duplicadas, caso existam."
      ]
    },
    {
      "cell_type": "code",
      "execution_count": 4,
      "metadata": {
        "colab": {
          "base_uri": "https://localhost:8080/"
        },
        "id": "ldL9eABXONW6",
        "outputId": "66207b1e-65ae-44c8-a5be-a0129e25652d"
      },
      "outputs": [
        {
          "data": {
            "text/plain": [
              "(1103, 9)"
            ]
          },
          "execution_count": 4,
          "metadata": {},
          "output_type": "execute_result"
        }
      ],
      "source": [
        "df_cars.drop(['page', 'car_name', 'car_desc'], axis=1, inplace=True)\n",
        "df_cars.drop_duplicates(inplace=True)\n",
        "\n",
        "df_cars.shape"
      ]
    },
    {
      "cell_type": "markdown",
      "metadata": {},
      "source": [
        "<p align=\"justify\">\n",
        "Agora podemos fazer a primeira análise dos dados numéricos do dataset."
      ]
    },
    {
      "cell_type": "code",
      "execution_count": 5,
      "metadata": {
        "colab": {
          "base_uri": "https://localhost:8080/",
          "height": 300
        },
        "id": "sZALqIBfM0EI",
        "outputId": "5552a895-ff71-4994-d29d-9636e119a1e3"
      },
      "outputs": [
        {
          "data": {
            "text/html": [
              "<div>\n",
              "<style scoped>\n",
              "    .dataframe tbody tr th:only-of-type {\n",
              "        vertical-align: middle;\n",
              "    }\n",
              "\n",
              "    .dataframe tbody tr th {\n",
              "        vertical-align: top;\n",
              "    }\n",
              "\n",
              "    .dataframe thead th {\n",
              "        text-align: right;\n",
              "    }\n",
              "</style>\n",
              "<table border=\"1\" class=\"dataframe\">\n",
              "  <thead>\n",
              "    <tr style=\"text-align: right;\">\n",
              "      <th></th>\n",
              "      <th>car_price</th>\n",
              "      <th>car_km</th>\n",
              "      <th>car_year</th>\n",
              "    </tr>\n",
              "  </thead>\n",
              "  <tbody>\n",
              "    <tr>\n",
              "      <th>count</th>\n",
              "      <td>1103.000000</td>\n",
              "      <td>1103.000000</td>\n",
              "      <td>1103.000000</td>\n",
              "    </tr>\n",
              "    <tr>\n",
              "      <th>mean</th>\n",
              "      <td>107248.161378</td>\n",
              "      <td>45323.883953</td>\n",
              "      <td>2020.113327</td>\n",
              "    </tr>\n",
              "    <tr>\n",
              "      <th>std</th>\n",
              "      <td>104532.480654</td>\n",
              "      <td>33650.024486</td>\n",
              "      <td>3.032617</td>\n",
              "    </tr>\n",
              "    <tr>\n",
              "      <th>min</th>\n",
              "      <td>24990.000000</td>\n",
              "      <td>0.000000</td>\n",
              "      <td>2000.000000</td>\n",
              "    </tr>\n",
              "    <tr>\n",
              "      <th>25%</th>\n",
              "      <td>59900.000000</td>\n",
              "      <td>25113.500000</td>\n",
              "      <td>2019.000000</td>\n",
              "    </tr>\n",
              "    <tr>\n",
              "      <th>50%</th>\n",
              "      <td>76990.000000</td>\n",
              "      <td>43339.000000</td>\n",
              "      <td>2021.000000</td>\n",
              "    </tr>\n",
              "    <tr>\n",
              "      <th>75%</th>\n",
              "      <td>109900.000000</td>\n",
              "      <td>61505.000000</td>\n",
              "      <td>2022.000000</td>\n",
              "    </tr>\n",
              "    <tr>\n",
              "      <th>max</th>\n",
              "      <td>968900.000000</td>\n",
              "      <td>654000.000000</td>\n",
              "      <td>2025.000000</td>\n",
              "    </tr>\n",
              "  </tbody>\n",
              "</table>\n",
              "</div>"
            ],
            "text/plain": [
              "           car_price         car_km     car_year\n",
              "count    1103.000000    1103.000000  1103.000000\n",
              "mean   107248.161378   45323.883953  2020.113327\n",
              "std    104532.480654   33650.024486     3.032617\n",
              "min     24990.000000       0.000000  2000.000000\n",
              "25%     59900.000000   25113.500000  2019.000000\n",
              "50%     76990.000000   43339.000000  2021.000000\n",
              "75%    109900.000000   61505.000000  2022.000000\n",
              "max    968900.000000  654000.000000  2025.000000"
            ]
          },
          "execution_count": 5,
          "metadata": {},
          "output_type": "execute_result"
        }
      ],
      "source": [
        "df_cars.describe()"
      ]
    },
    {
      "cell_type": "markdown",
      "metadata": {},
      "source": [
        "---"
      ]
    },
    {
      "cell_type": "markdown",
      "metadata": {},
      "source": [
        "### Definição de Tipos\n",
        "\n",
        "<p align=\"justify\">\n",
        "Agora iremos fazer o tratamento dos tipos de dados do dataset. Isso é importante para carantir a correture das operações estatísticas e visualizações que iremos realizar sobre os dados. Apesar do crawler ter feito um bom trabalho em relação aos tipos de dados, ainda existem algumas colunas que precisam ser ajustadas."
      ]
    },
    {
      "cell_type": "code",
      "execution_count": 6,
      "metadata": {
        "colab": {
          "base_uri": "https://localhost:8080/"
        },
        "id": "EUgrNPFAMpYa",
        "outputId": "0b6e0434-8940-477a-ed55-d5cfbffb025e"
      },
      "outputs": [
        {
          "data": {
            "text/plain": [
              "car_brand       object\n",
              "car_price      float64\n",
              "car_km         float64\n",
              "car_year         int64\n",
              "car_store       object\n",
              "car_engine      object\n",
              "car_gearbox     object\n",
              "car_fuel        object\n",
              "car_color       object\n",
              "dtype: object"
            ]
          },
          "execution_count": 6,
          "metadata": {},
          "output_type": "execute_result"
        }
      ],
      "source": [
        "df_cars.dtypes"
      ]
    },
    {
      "cell_type": "markdown",
      "metadata": {},
      "source": [
        "<p align=\"justify\">\n",
        "A primeira coisa a ser é mudar o tipo de dados de \"object\" para \"category\", para as colunas que representam categorias. Isso é importante para facilitar a manipulação desses dados e possibilitar uma série de operações nativas do pandas."
      ]
    },
    {
      "cell_type": "code",
      "execution_count": 7,
      "metadata": {},
      "outputs": [
        {
          "data": {
            "text/plain": [
              "car_brand      category\n",
              "car_price       float64\n",
              "car_km          float64\n",
              "car_year          int64\n",
              "car_store      category\n",
              "car_engine     category\n",
              "car_gearbox    category\n",
              "car_fuel       category\n",
              "car_color      category\n",
              "dtype: object"
            ]
          },
          "execution_count": 7,
          "metadata": {},
          "output_type": "execute_result"
        }
      ],
      "source": [
        "df_cars['car_brand'] = df_cars['car_brand'].astype('category')\n",
        "df_cars['car_engine'] = df_cars['car_engine'].astype('category')\n",
        "df_cars['car_gearbox'] = df_cars['car_gearbox'].astype('category')\n",
        "df_cars['car_fuel'] = df_cars['car_fuel'].astype('category')\n",
        "df_cars['car_color'] = df_cars['car_color'].astype('category')\n",
        "df_cars['car_store'] = df_cars['car_store'].astype('category')\n",
        "\n",
        "df_categories = df_cars.copy()\n",
        "\n",
        "df_cars.dtypes"
      ]
    },
    {
      "cell_type": "markdown",
      "metadata": {},
      "source": [
        "<p align=\"justify\">\n",
        "Uma das possibilidades ao se usar o tipo categórico é a visualização de todas as categorias por feature, como é mostrado abaixo."
      ]
    },
    {
      "cell_type": "code",
      "execution_count": 8,
      "metadata": {},
      "outputs": [
        {
          "name": "stdout",
          "output_type": "stream",
          "text": [
            "Index(['Alfa', 'Audi', 'Bmw', 'Byd', 'Caoa', 'Chery', 'Chevrolet', 'Citroën',\n",
            "       'Fiat', 'Ford', 'Honda', 'Hyundai', 'Jaguar', 'Jeep', 'Kia', 'Land',\n",
            "       'Lexus', 'Mercedes-Benz', 'Mini', 'Mitsubishi', 'Nissan', 'Peugeot',\n",
            "       'Porsche', 'Ram', 'Renault', 'Smart', 'Suzuki', 'Toyota', 'Troller',\n",
            "       'Volkswagen', 'Volvo'],\n",
            "      dtype='object')\n",
            "Index(['1.0', '1.0 Turbo', '1.2', '1.2 Turbo', '1.3', '1.3 Turbo', '1.4',\n",
            "       '1.4 Turbo', '1.5', '1.5 Turbo', '1.6', '1.6 Turbo', '1.8', '2.0',\n",
            "       '2.0 Turbo', '2.3', '2.4', '2.5', '2.7', '2.8', '2.8 Turbo', '2.9',\n",
            "       '3.0', '3.0 Turbo', '3.2', '3.2 Turbo', '3.6', '4.0', '6.7 Turbo',\n",
            "       'Elétrico'],\n",
            "      dtype='object')\n",
            "Index(['Automatico', 'Manual'], dtype='object')\n",
            "Index(['Diesel', 'Elétrico', 'Flex', 'Gasolina', 'Gnv', 'Híbrido'], dtype='object')\n",
            "Index(['Azul', 'Branco', 'Cinza', 'Dourado', 'Laranja', 'Prata', 'Preto',\n",
            "       'Verde', 'Vermelho'],\n",
            "      dtype='object')\n",
            "Index([' Pedragon Afogados ', ' Pedragon Av Norte ', ' Pedragon Beberibe ',\n",
            "       ' Pedragon Rui Barbosa '],\n",
            "      dtype='object')\n"
          ]
        }
      ],
      "source": [
        "print(df_cars['car_brand'].cat.categories)\n",
        "print(df_cars['car_engine'].cat.categories)\n",
        "print(df_cars['car_gearbox'].cat.categories)\n",
        "print(df_cars['car_fuel'].cat.categories)\n",
        "print(df_cars['car_color'].cat.categories)\n",
        "print(df_cars['car_store'].cat.categories)"
      ]
    },
    {
      "cell_type": "markdown",
      "metadata": {},
      "source": [
        "---"
      ]
    },
    {
      "cell_type": "markdown",
      "metadata": {},
      "source": [
        "### Tratamento de Dados Ausentes\n",
        "\n",
        "<p align=\"justify\">\n",
        "Com os tipos definidos, podemos agora analisar a presença de valores ausentes no dataset. Isso é importante para garantir a qualidade dos dados e evitar erros em operações estatísticas e visualizações. É muito comum, em datasets feios por webscraping, a presença de valores ausentes, então é importante lidar com eles de forma adequada."
      ]
    },
    {
      "cell_type": "code",
      "execution_count": 9,
      "metadata": {},
      "outputs": [
        {
          "data": {
            "text/plain": [
              "car_brand         0\n",
              "car_price         0\n",
              "car_km            0\n",
              "car_year          0\n",
              "car_store      1095\n",
              "car_engine        0\n",
              "car_gearbox       0\n",
              "car_fuel         48\n",
              "car_color       986\n",
              "dtype: int64"
            ]
          },
          "execution_count": 9,
          "metadata": {},
          "output_type": "execute_result"
        }
      ],
      "source": [
        "df_cars.isnull().sum()"
      ]
    },
    {
      "cell_type": "markdown",
      "metadata": {},
      "source": [
        "<p align=\"justify\">\n",
        "A primeira coisa que faremos é a remoção de colunas com mais de 70% dos valores ausentes. Outros métodos de inferêncoa e adição de valores seria inviável, pois a quantidade de valores ausentes é muito grande."
      ]
    },
    {
      "cell_type": "code",
      "execution_count": 10,
      "metadata": {},
      "outputs": [
        {
          "data": {
            "text/plain": [
              "Index(['car_brand', 'car_price', 'car_km', 'car_year', 'car_engine',\n",
              "       'car_gearbox', 'car_fuel'],\n",
              "      dtype='object')"
            ]
          },
          "execution_count": 10,
          "metadata": {},
          "output_type": "execute_result"
        }
      ],
      "source": [
        "df_cars.dropna(thresh=0.7*len(df_cars), axis=1, inplace=True)\n",
        "df_cars.columns"
      ]
    },
    {
      "cell_type": "markdown",
      "metadata": {},
      "source": [
        "<p align=\"justify\">\n",
        "Como era de se esperar, as colunas \"car_store\" e \"car_color\" foram removidas. Agora podemos analisar a presença de valores ausentes na coluna \"car_engine\" e \"car_fuel\", as única que ainda tem valores falntes."
      ]
    },
    {
      "cell_type": "code",
      "execution_count": 11,
      "metadata": {},
      "outputs": [
        {
          "data": {
            "text/plain": [
              "car_brand      1103\n",
              "car_price      1103\n",
              "car_km         1103\n",
              "car_year       1103\n",
              "car_engine     1103\n",
              "car_gearbox    1103\n",
              "car_fuel       1055\n",
              "dtype: int64"
            ]
          },
          "execution_count": 11,
          "metadata": {},
          "output_type": "execute_result"
        }
      ],
      "source": [
        "df_cars.count()"
      ]
    },
    {
      "cell_type": "markdown",
      "metadata": {},
      "source": [
        "<p align=\"justify\">\n",
        "Para fazer os processos de adição de valores faltantes, é importante converter os campos categóricos para um formato numérico. Dessa forma, podemos fazer operações como média, KNN etc."
      ]
    },
    {
      "cell_type": "code",
      "execution_count": 12,
      "metadata": {},
      "outputs": [
        {
          "data": {
            "text/plain": [
              "car_brand      category\n",
              "car_price       float64\n",
              "car_km          float64\n",
              "car_year          int64\n",
              "car_engine     category\n",
              "car_gearbox    category\n",
              "car_fuel       category\n",
              "dtype: object"
            ]
          },
          "execution_count": 12,
          "metadata": {},
          "output_type": "execute_result"
        }
      ],
      "source": [
        "df_cars.dtypes"
      ]
    },
    {
      "cell_type": "code",
      "execution_count": 13,
      "metadata": {},
      "outputs": [
        {
          "data": {
            "text/plain": [
              "car_brand      1103\n",
              "car_price      1103\n",
              "car_km         1103\n",
              "car_year       1103\n",
              "car_engine     1103\n",
              "car_gearbox    1103\n",
              "car_fuel       1055\n",
              "dtype: int64"
            ]
          },
          "execution_count": 13,
          "metadata": {},
          "output_type": "execute_result"
        }
      ],
      "source": [
        "df_cars['car_brand'] = df_cars['car_brand'].cat.codes\n",
        "df_cars['car_engine'] = df_cars['car_engine'].cat.codes\n",
        "df_cars['car_gearbox'] = df_cars['car_gearbox'].cat.codes\n",
        "df_cars['car_fuel'] = df_cars['car_fuel'].cat.codes.replace(-1, np.nan)\n",
        "\n",
        "df_cars.count()"
      ]
    },
    {
      "cell_type": "code",
      "execution_count": 14,
      "metadata": {},
      "outputs": [
        {
          "name": "stdout",
          "output_type": "stream",
          "text": [
            "Brand:  14.053490480507707 11.0\n",
            "Engine:  6.647325475974615 6.0\n",
            "Gearbox:  0.45602901178603805 0.0\n",
            "Fuel:  2.0113744075829385 2.0\n"
          ]
        }
      ],
      "source": [
        "print('Brand: ', df_cars['car_brand'].mean(), df_cars['car_brand'].median())\n",
        "print('Engine: ', df_cars['car_engine'].mean(), df_cars['car_engine'].median())\n",
        "print('Gearbox: ', df_cars['car_gearbox'].mean(), df_cars['car_gearbox'].median())\n",
        "print('Fuel: ', df_cars['car_fuel'].mean(), df_cars['car_fuel'].median())"
      ]
    },
    {
      "cell_type": "markdown",
      "metadata": {},
      "source": [
        "Utilizando Média e Mediana"
      ]
    },
    {
      "cell_type": "code",
      "execution_count": 15,
      "metadata": {},
      "outputs": [
        {
          "data": {
            "text/plain": [
              "car_brand      0\n",
              "car_price      0\n",
              "car_km         0\n",
              "car_year       0\n",
              "car_engine     0\n",
              "car_gearbox    0\n",
              "car_fuel       0\n",
              "dtype: int64"
            ]
          },
          "execution_count": 15,
          "metadata": {},
          "output_type": "execute_result"
        }
      ],
      "source": [
        "df_mean_fill = df_cars.copy()\n",
        "\n",
        "df_mean_fill['car_fuel'] = df_mean_fill['car_fuel'].fillna(df_mean_fill['car_fuel'].mean())\n",
        "df_mean_fill.isnull().sum()"
      ]
    },
    {
      "cell_type": "code",
      "execution_count": 16,
      "metadata": {},
      "outputs": [
        {
          "name": "stdout",
          "output_type": "stream",
          "text": [
            "Fuel:  2.011374407582938 2.0\n"
          ]
        }
      ],
      "source": [
        "print('Fuel: ', df_mean_fill['car_fuel'].mean(), df_mean_fill['car_fuel'].median())"
      ]
    },
    {
      "cell_type": "code",
      "execution_count": 17,
      "metadata": {},
      "outputs": [
        {
          "data": {
            "text/plain": [
              "car_brand      0\n",
              "car_price      0\n",
              "car_km         0\n",
              "car_year       0\n",
              "car_engine     0\n",
              "car_gearbox    0\n",
              "car_fuel       0\n",
              "dtype: int64"
            ]
          },
          "execution_count": 17,
          "metadata": {},
          "output_type": "execute_result"
        }
      ],
      "source": [
        "df_median_fill = df_cars.copy()\n",
        "\n",
        "df_median_fill['car_fuel'] = df_median_fill['car_fuel'].fillna(df_median_fill['car_fuel'].median())\n",
        "df_median_fill.isnull().sum()"
      ]
    },
    {
      "cell_type": "code",
      "execution_count": 18,
      "metadata": {},
      "outputs": [
        {
          "name": "stdout",
          "output_type": "stream",
          "text": [
            "Fuel:  2.0108794197642794 2.0\n"
          ]
        }
      ],
      "source": [
        "print('Fuel: ', df_median_fill['car_fuel'].mean(), df_median_fill['car_fuel'].median())"
      ]
    },
    {
      "cell_type": "markdown",
      "metadata": {},
      "source": [
        "Utilizando KNN"
      ]
    },
    {
      "cell_type": "code",
      "execution_count": 19,
      "metadata": {},
      "outputs": [
        {
          "name": "stdout",
          "output_type": "stream",
          "text": [
            "Imputing row 1/1103 with 0 missing, elapsed time: 0.172\n",
            "Imputing row 101/1103 with 0 missing, elapsed time: 0.172\n",
            "Imputing row 201/1103 with 0 missing, elapsed time: 0.172\n",
            "Imputing row 301/1103 with 1 missing, elapsed time: 0.173\n",
            "Imputing row 401/1103 with 0 missing, elapsed time: 0.174\n",
            "Imputing row 501/1103 with 0 missing, elapsed time: 0.174\n",
            "Imputing row 601/1103 with 0 missing, elapsed time: 0.174\n",
            "Imputing row 701/1103 with 0 missing, elapsed time: 0.175\n",
            "Imputing row 801/1103 with 0 missing, elapsed time: 0.175\n",
            "Imputing row 901/1103 with 0 missing, elapsed time: 0.175\n",
            "Imputing row 1001/1103 with 0 missing, elapsed time: 0.175\n",
            "Imputing row 1101/1103 with 0 missing, elapsed time: 0.175\n"
          ]
        },
        {
          "data": {
            "text/plain": [
              "(1103, 7)"
            ]
          },
          "execution_count": 19,
          "metadata": {},
          "output_type": "execute_result"
        }
      ],
      "source": [
        "df_knn = KNN(k=5).fit_transform(df_cars)\n",
        "df_knn.shape"
      ]
    },
    {
      "cell_type": "code",
      "execution_count": 20,
      "metadata": {},
      "outputs": [
        {
          "data": {
            "text/html": [
              "<div>\n",
              "<style scoped>\n",
              "    .dataframe tbody tr th:only-of-type {\n",
              "        vertical-align: middle;\n",
              "    }\n",
              "\n",
              "    .dataframe tbody tr th {\n",
              "        vertical-align: top;\n",
              "    }\n",
              "\n",
              "    .dataframe thead tr th {\n",
              "        text-align: left;\n",
              "    }\n",
              "</style>\n",
              "<table border=\"1\" class=\"dataframe\">\n",
              "  <thead>\n",
              "    <tr>\n",
              "      <th></th>\n",
              "      <th>car_brand</th>\n",
              "      <th>car_price</th>\n",
              "      <th>car_km</th>\n",
              "      <th>car_year</th>\n",
              "      <th>car_engine</th>\n",
              "      <th>car_gearbox</th>\n",
              "      <th>car_fuel</th>\n",
              "    </tr>\n",
              "  </thead>\n",
              "  <tbody>\n",
              "    <tr>\n",
              "      <th>0</th>\n",
              "      <td>8.0</td>\n",
              "      <td>125990.0</td>\n",
              "      <td>7521.0</td>\n",
              "      <td>2022.0</td>\n",
              "      <td>29.0</td>\n",
              "      <td>0.0</td>\n",
              "      <td>1.0</td>\n",
              "    </tr>\n",
              "    <tr>\n",
              "      <th>1</th>\n",
              "      <td>1.0</td>\n",
              "      <td>128980.0</td>\n",
              "      <td>40000.0</td>\n",
              "      <td>2018.0</td>\n",
              "      <td>6.0</td>\n",
              "      <td>0.0</td>\n",
              "      <td>2.0</td>\n",
              "    </tr>\n",
              "    <tr>\n",
              "      <th>2</th>\n",
              "      <td>6.0</td>\n",
              "      <td>70990.0</td>\n",
              "      <td>40686.0</td>\n",
              "      <td>2023.0</td>\n",
              "      <td>0.0</td>\n",
              "      <td>1.0</td>\n",
              "      <td>2.0</td>\n",
              "    </tr>\n",
              "    <tr>\n",
              "      <th>3</th>\n",
              "      <td>6.0</td>\n",
              "      <td>79990.0</td>\n",
              "      <td>57643.0</td>\n",
              "      <td>2022.0</td>\n",
              "      <td>1.0</td>\n",
              "      <td>0.0</td>\n",
              "      <td>2.0</td>\n",
              "    </tr>\n",
              "    <tr>\n",
              "      <th>4</th>\n",
              "      <td>29.0</td>\n",
              "      <td>77990.0</td>\n",
              "      <td>29000.0</td>\n",
              "      <td>2023.0</td>\n",
              "      <td>10.0</td>\n",
              "      <td>1.0</td>\n",
              "      <td>2.0</td>\n",
              "    </tr>\n",
              "  </tbody>\n",
              "</table>\n",
              "</div>"
            ],
            "text/plain": [
              "  car_brand car_price   car_km car_year car_engine car_gearbox car_fuel\n",
              "0       8.0  125990.0   7521.0   2022.0       29.0         0.0      1.0\n",
              "1       1.0  128980.0  40000.0   2018.0        6.0         0.0      2.0\n",
              "2       6.0   70990.0  40686.0   2023.0        0.0         1.0      2.0\n",
              "3       6.0   79990.0  57643.0   2022.0        1.0         0.0      2.0\n",
              "4      29.0   77990.0  29000.0   2023.0       10.0         1.0      2.0"
            ]
          },
          "execution_count": 20,
          "metadata": {},
          "output_type": "execute_result"
        }
      ],
      "source": [
        "df_knn_fill = pd.DataFrame(data=df_knn[0:,0:],columns=[df_cars.columns])\n",
        "df_knn_fill.head()"
      ]
    },
    {
      "cell_type": "code",
      "execution_count": 21,
      "metadata": {},
      "outputs": [
        {
          "data": {
            "text/plain": [
              "car_brand      0\n",
              "car_price      0\n",
              "car_km         0\n",
              "car_year       0\n",
              "car_engine     0\n",
              "car_gearbox    0\n",
              "car_fuel       0\n",
              "dtype: int64"
            ]
          },
          "execution_count": 21,
          "metadata": {},
          "output_type": "execute_result"
        }
      ],
      "source": [
        "df_knn_fill.isnull().sum()"
      ]
    },
    {
      "cell_type": "code",
      "execution_count": 22,
      "metadata": {},
      "outputs": [
        {
          "name": "stdout",
          "output_type": "stream",
          "text": [
            "Fuel:  car_fuel    2.012581\n",
            "dtype: float64 car_fuel    2.0\n",
            "dtype: float64\n"
          ]
        }
      ],
      "source": [
        "print('Fuel: ', df_knn_fill['car_fuel'].mean(), df_knn_fill['car_fuel'].median())"
      ]
    },
    {
      "cell_type": "code",
      "execution_count": 23,
      "metadata": {},
      "outputs": [
        {
          "data": {
            "text/html": [
              "<div>\n",
              "<style scoped>\n",
              "    .dataframe tbody tr th:only-of-type {\n",
              "        vertical-align: middle;\n",
              "    }\n",
              "\n",
              "    .dataframe tbody tr th {\n",
              "        vertical-align: top;\n",
              "    }\n",
              "\n",
              "    .dataframe thead tr th {\n",
              "        text-align: left;\n",
              "    }\n",
              "</style>\n",
              "<table border=\"1\" class=\"dataframe\">\n",
              "  <thead>\n",
              "    <tr>\n",
              "      <th></th>\n",
              "      <th>car_brand</th>\n",
              "      <th>car_price</th>\n",
              "      <th>car_km</th>\n",
              "      <th>car_year</th>\n",
              "      <th>car_engine</th>\n",
              "      <th>car_gearbox</th>\n",
              "      <th>car_fuel</th>\n",
              "    </tr>\n",
              "  </thead>\n",
              "  <tbody>\n",
              "    <tr>\n",
              "      <th>count</th>\n",
              "      <td>1103.000000</td>\n",
              "      <td>1103.000000</td>\n",
              "      <td>1103.000000</td>\n",
              "      <td>1103.000000</td>\n",
              "      <td>1103.000000</td>\n",
              "      <td>1103.000000</td>\n",
              "      <td>1103.000000</td>\n",
              "    </tr>\n",
              "    <tr>\n",
              "      <th>mean</th>\n",
              "      <td>14.053490</td>\n",
              "      <td>107248.161378</td>\n",
              "      <td>45323.883953</td>\n",
              "      <td>2020.113327</td>\n",
              "      <td>6.647325</td>\n",
              "      <td>0.456029</td>\n",
              "      <td>2.012581</td>\n",
              "    </tr>\n",
              "    <tr>\n",
              "      <th>std</th>\n",
              "      <td>8.661922</td>\n",
              "      <td>104532.480654</td>\n",
              "      <td>33650.024486</td>\n",
              "      <td>3.032617</td>\n",
              "      <td>6.548008</td>\n",
              "      <td>0.498289</td>\n",
              "      <td>0.727666</td>\n",
              "    </tr>\n",
              "    <tr>\n",
              "      <th>min</th>\n",
              "      <td>0.000000</td>\n",
              "      <td>24990.000000</td>\n",
              "      <td>0.000000</td>\n",
              "      <td>2000.000000</td>\n",
              "      <td>0.000000</td>\n",
              "      <td>0.000000</td>\n",
              "      <td>0.000000</td>\n",
              "    </tr>\n",
              "    <tr>\n",
              "      <th>25%</th>\n",
              "      <td>6.000000</td>\n",
              "      <td>59900.000000</td>\n",
              "      <td>25113.500000</td>\n",
              "      <td>2019.000000</td>\n",
              "      <td>0.000000</td>\n",
              "      <td>0.000000</td>\n",
              "      <td>2.000000</td>\n",
              "    </tr>\n",
              "    <tr>\n",
              "      <th>50%</th>\n",
              "      <td>11.000000</td>\n",
              "      <td>76990.000000</td>\n",
              "      <td>43339.000000</td>\n",
              "      <td>2021.000000</td>\n",
              "      <td>6.000000</td>\n",
              "      <td>0.000000</td>\n",
              "      <td>2.000000</td>\n",
              "    </tr>\n",
              "    <tr>\n",
              "      <th>75%</th>\n",
              "      <td>24.000000</td>\n",
              "      <td>109900.000000</td>\n",
              "      <td>61505.000000</td>\n",
              "      <td>2022.000000</td>\n",
              "      <td>12.000000</td>\n",
              "      <td>1.000000</td>\n",
              "      <td>2.000000</td>\n",
              "    </tr>\n",
              "    <tr>\n",
              "      <th>max</th>\n",
              "      <td>30.000000</td>\n",
              "      <td>968900.000000</td>\n",
              "      <td>654000.000000</td>\n",
              "      <td>2025.000000</td>\n",
              "      <td>29.000000</td>\n",
              "      <td>1.000000</td>\n",
              "      <td>5.000000</td>\n",
              "    </tr>\n",
              "  </tbody>\n",
              "</table>\n",
              "</div>"
            ],
            "text/plain": [
              "         car_brand      car_price         car_km     car_year   car_engine  \\\n",
              "count  1103.000000    1103.000000    1103.000000  1103.000000  1103.000000   \n",
              "mean     14.053490  107248.161378   45323.883953  2020.113327     6.647325   \n",
              "std       8.661922  104532.480654   33650.024486     3.032617     6.548008   \n",
              "min       0.000000   24990.000000       0.000000  2000.000000     0.000000   \n",
              "25%       6.000000   59900.000000   25113.500000  2019.000000     0.000000   \n",
              "50%      11.000000   76990.000000   43339.000000  2021.000000     6.000000   \n",
              "75%      24.000000  109900.000000   61505.000000  2022.000000    12.000000   \n",
              "max      30.000000  968900.000000  654000.000000  2025.000000    29.000000   \n",
              "\n",
              "       car_gearbox     car_fuel  \n",
              "count  1103.000000  1103.000000  \n",
              "mean      0.456029     2.012581  \n",
              "std       0.498289     0.727666  \n",
              "min       0.000000     0.000000  \n",
              "25%       0.000000     2.000000  \n",
              "50%       0.000000     2.000000  \n",
              "75%       1.000000     2.000000  \n",
              "max       1.000000     5.000000  "
            ]
          },
          "execution_count": 23,
          "metadata": {},
          "output_type": "execute_result"
        }
      ],
      "source": [
        "df_knn_fill.describe()"
      ]
    },
    {
      "cell_type": "markdown",
      "metadata": {},
      "source": [
        "<p align=\"justify\">\n",
        "A partir de agora, usaremos o dataset preenchido com o KNN como o dataset principal, para as anlaíses posteriores."
      ]
    },
    {
      "cell_type": "markdown",
      "metadata": {},
      "source": [
        "---"
      ]
    },
    {
      "cell_type": "markdown",
      "metadata": {},
      "source": [
        "### Normalização e Discretização\n",
        "\n",
        "<p align=\"justify\">\n",
        "O próximo passo é fazer a normalização dos dados numéricos do dataset. A normalização é importante para garantir que as features tenham a mesma escala, evitando que features com valores maiores dominem o resultado das operações. Utilizaremos tano o método de normalização Min-Max quanto o método de normalização padrão (removendo a média e escalando para variância unitária), ambos da biblioteca scikit-learn."
      ]
    },
    {
      "cell_type": "code",
      "execution_count": 24,
      "metadata": {},
      "outputs": [
        {
          "data": {
            "text/html": [
              "<div>\n",
              "<style scoped>\n",
              "    .dataframe tbody tr th:only-of-type {\n",
              "        vertical-align: middle;\n",
              "    }\n",
              "\n",
              "    .dataframe tbody tr th {\n",
              "        vertical-align: top;\n",
              "    }\n",
              "\n",
              "    .dataframe thead tr th {\n",
              "        text-align: left;\n",
              "    }\n",
              "</style>\n",
              "<table border=\"1\" class=\"dataframe\">\n",
              "  <thead>\n",
              "    <tr>\n",
              "      <th></th>\n",
              "      <th>car_brand</th>\n",
              "      <th>car_price</th>\n",
              "      <th>car_km</th>\n",
              "      <th>car_year</th>\n",
              "      <th>car_engine</th>\n",
              "      <th>car_gearbox</th>\n",
              "      <th>car_fuel</th>\n",
              "    </tr>\n",
              "  </thead>\n",
              "  <tbody>\n",
              "    <tr>\n",
              "      <th>0</th>\n",
              "      <td>8.0</td>\n",
              "      <td>125990.0</td>\n",
              "      <td>7521.0</td>\n",
              "      <td>2022.0</td>\n",
              "      <td>29.0</td>\n",
              "      <td>0.0</td>\n",
              "      <td>1.0</td>\n",
              "    </tr>\n",
              "    <tr>\n",
              "      <th>1</th>\n",
              "      <td>1.0</td>\n",
              "      <td>128980.0</td>\n",
              "      <td>40000.0</td>\n",
              "      <td>2018.0</td>\n",
              "      <td>6.0</td>\n",
              "      <td>0.0</td>\n",
              "      <td>2.0</td>\n",
              "    </tr>\n",
              "    <tr>\n",
              "      <th>2</th>\n",
              "      <td>6.0</td>\n",
              "      <td>70990.0</td>\n",
              "      <td>40686.0</td>\n",
              "      <td>2023.0</td>\n",
              "      <td>0.0</td>\n",
              "      <td>1.0</td>\n",
              "      <td>2.0</td>\n",
              "    </tr>\n",
              "    <tr>\n",
              "      <th>3</th>\n",
              "      <td>6.0</td>\n",
              "      <td>79990.0</td>\n",
              "      <td>57643.0</td>\n",
              "      <td>2022.0</td>\n",
              "      <td>1.0</td>\n",
              "      <td>0.0</td>\n",
              "      <td>2.0</td>\n",
              "    </tr>\n",
              "    <tr>\n",
              "      <th>4</th>\n",
              "      <td>29.0</td>\n",
              "      <td>77990.0</td>\n",
              "      <td>29000.0</td>\n",
              "      <td>2023.0</td>\n",
              "      <td>10.0</td>\n",
              "      <td>1.0</td>\n",
              "      <td>2.0</td>\n",
              "    </tr>\n",
              "  </tbody>\n",
              "</table>\n",
              "</div>"
            ],
            "text/plain": [
              "  car_brand car_price   car_km car_year car_engine car_gearbox car_fuel\n",
              "0       8.0  125990.0   7521.0   2022.0       29.0         0.0      1.0\n",
              "1       1.0  128980.0  40000.0   2018.0        6.0         0.0      2.0\n",
              "2       6.0   70990.0  40686.0   2023.0        0.0         1.0      2.0\n",
              "3       6.0   79990.0  57643.0   2022.0        1.0         0.0      2.0\n",
              "4      29.0   77990.0  29000.0   2023.0       10.0         1.0      2.0"
            ]
          },
          "execution_count": 24,
          "metadata": {},
          "output_type": "execute_result"
        }
      ],
      "source": [
        "df_knn_fill.head()"
      ]
    },
    {
      "cell_type": "code",
      "execution_count": 25,
      "metadata": {},
      "outputs": [
        {
          "data": {
            "text/html": [
              "<div>\n",
              "<style scoped>\n",
              "    .dataframe tbody tr th:only-of-type {\n",
              "        vertical-align: middle;\n",
              "    }\n",
              "\n",
              "    .dataframe tbody tr th {\n",
              "        vertical-align: top;\n",
              "    }\n",
              "\n",
              "    .dataframe thead tr th {\n",
              "        text-align: left;\n",
              "    }\n",
              "</style>\n",
              "<table border=\"1\" class=\"dataframe\">\n",
              "  <thead>\n",
              "    <tr>\n",
              "      <th></th>\n",
              "      <th>car_brand</th>\n",
              "      <th>car_price</th>\n",
              "      <th>car_km</th>\n",
              "      <th>car_year</th>\n",
              "      <th>car_engine</th>\n",
              "      <th>car_gearbox</th>\n",
              "      <th>car_fuel</th>\n",
              "    </tr>\n",
              "  </thead>\n",
              "  <tbody>\n",
              "    <tr>\n",
              "      <th>0</th>\n",
              "      <td>0.266667</td>\n",
              "      <td>0.107002</td>\n",
              "      <td>0.011500</td>\n",
              "      <td>0.88</td>\n",
              "      <td>1.000000</td>\n",
              "      <td>0.0</td>\n",
              "      <td>0.2</td>\n",
              "    </tr>\n",
              "    <tr>\n",
              "      <th>1</th>\n",
              "      <td>0.033333</td>\n",
              "      <td>0.110169</td>\n",
              "      <td>0.061162</td>\n",
              "      <td>0.72</td>\n",
              "      <td>0.206897</td>\n",
              "      <td>0.0</td>\n",
              "      <td>0.4</td>\n",
              "    </tr>\n",
              "    <tr>\n",
              "      <th>2</th>\n",
              "      <td>0.200000</td>\n",
              "      <td>0.048733</td>\n",
              "      <td>0.062211</td>\n",
              "      <td>0.92</td>\n",
              "      <td>0.000000</td>\n",
              "      <td>1.0</td>\n",
              "      <td>0.4</td>\n",
              "    </tr>\n",
              "    <tr>\n",
              "      <th>3</th>\n",
              "      <td>0.200000</td>\n",
              "      <td>0.058268</td>\n",
              "      <td>0.088139</td>\n",
              "      <td>0.88</td>\n",
              "      <td>0.034483</td>\n",
              "      <td>0.0</td>\n",
              "      <td>0.4</td>\n",
              "    </tr>\n",
              "    <tr>\n",
              "      <th>4</th>\n",
              "      <td>0.966667</td>\n",
              "      <td>0.056149</td>\n",
              "      <td>0.044343</td>\n",
              "      <td>0.92</td>\n",
              "      <td>0.344828</td>\n",
              "      <td>1.0</td>\n",
              "      <td>0.4</td>\n",
              "    </tr>\n",
              "  </tbody>\n",
              "</table>\n",
              "</div>"
            ],
            "text/plain": [
              "  car_brand car_price    car_km car_year car_engine car_gearbox car_fuel\n",
              "0  0.266667  0.107002  0.011500     0.88   1.000000         0.0      0.2\n",
              "1  0.033333  0.110169  0.061162     0.72   0.206897         0.0      0.4\n",
              "2  0.200000  0.048733  0.062211     0.92   0.000000         1.0      0.4\n",
              "3  0.200000  0.058268  0.088139     0.88   0.034483         0.0      0.4\n",
              "4  0.966667  0.056149  0.044343     0.92   0.344828         1.0      0.4"
            ]
          },
          "execution_count": 25,
          "metadata": {},
          "output_type": "execute_result"
        }
      ],
      "source": [
        "min_max_scaler = MinMaxScaler()\n",
        "df_knn_fill_norm = min_max_scaler.fit_transform(df_knn_fill)\n",
        "df_knn_fill_norm = pd.DataFrame(df_knn_fill_norm, columns=df_knn_fill.columns)\n",
        "df_knn_fill_norm.head()"
      ]
    },
    {
      "cell_type": "code",
      "execution_count": 26,
      "metadata": {},
      "outputs": [
        {
          "data": {
            "text/html": [
              "<div>\n",
              "<style scoped>\n",
              "    .dataframe tbody tr th:only-of-type {\n",
              "        vertical-align: middle;\n",
              "    }\n",
              "\n",
              "    .dataframe tbody tr th {\n",
              "        vertical-align: top;\n",
              "    }\n",
              "\n",
              "    .dataframe thead tr th {\n",
              "        text-align: left;\n",
              "    }\n",
              "</style>\n",
              "<table border=\"1\" class=\"dataframe\">\n",
              "  <thead>\n",
              "    <tr>\n",
              "      <th></th>\n",
              "      <th>car_brand</th>\n",
              "      <th>car_price</th>\n",
              "      <th>car_km</th>\n",
              "      <th>car_year</th>\n",
              "      <th>car_engine</th>\n",
              "      <th>car_gearbox</th>\n",
              "      <th>car_fuel</th>\n",
              "    </tr>\n",
              "  </thead>\n",
              "  <tbody>\n",
              "    <tr>\n",
              "      <th>0</th>\n",
              "      <td>-0.699179</td>\n",
              "      <td>0.179373</td>\n",
              "      <td>-1.123923</td>\n",
              "      <td>0.622409</td>\n",
              "      <td>3.415208</td>\n",
              "      <td>-0.915605</td>\n",
              "      <td>-1.392177</td>\n",
              "    </tr>\n",
              "    <tr>\n",
              "      <th>1</th>\n",
              "      <td>-1.507681</td>\n",
              "      <td>0.207990</td>\n",
              "      <td>-0.158285</td>\n",
              "      <td>-0.697182</td>\n",
              "      <td>-0.098903</td>\n",
              "      <td>-0.915605</td>\n",
              "      <td>-0.017297</td>\n",
              "    </tr>\n",
              "    <tr>\n",
              "      <th>2</th>\n",
              "      <td>-0.930180</td>\n",
              "      <td>-0.347018</td>\n",
              "      <td>-0.137890</td>\n",
              "      <td>0.952307</td>\n",
              "      <td>-1.015628</td>\n",
              "      <td>1.092173</td>\n",
              "      <td>-0.017297</td>\n",
              "    </tr>\n",
              "    <tr>\n",
              "      <th>3</th>\n",
              "      <td>-0.930180</td>\n",
              "      <td>-0.260881</td>\n",
              "      <td>0.366261</td>\n",
              "      <td>0.622409</td>\n",
              "      <td>-0.862841</td>\n",
              "      <td>-0.915605</td>\n",
              "      <td>-0.017297</td>\n",
              "    </tr>\n",
              "    <tr>\n",
              "      <th>4</th>\n",
              "      <td>1.726325</td>\n",
              "      <td>-0.280022</td>\n",
              "      <td>-0.485328</td>\n",
              "      <td>0.952307</td>\n",
              "      <td>0.512247</td>\n",
              "      <td>1.092173</td>\n",
              "      <td>-0.017297</td>\n",
              "    </tr>\n",
              "  </tbody>\n",
              "</table>\n",
              "</div>"
            ],
            "text/plain": [
              "  car_brand car_price    car_km  car_year car_engine car_gearbox  car_fuel\n",
              "0 -0.699179  0.179373 -1.123923  0.622409   3.415208   -0.915605 -1.392177\n",
              "1 -1.507681  0.207990 -0.158285 -0.697182  -0.098903   -0.915605 -0.017297\n",
              "2 -0.930180 -0.347018 -0.137890  0.952307  -1.015628    1.092173 -0.017297\n",
              "3 -0.930180 -0.260881  0.366261  0.622409  -0.862841   -0.915605 -0.017297\n",
              "4  1.726325 -0.280022 -0.485328  0.952307   0.512247    1.092173 -0.017297"
            ]
          },
          "execution_count": 26,
          "metadata": {},
          "output_type": "execute_result"
        }
      ],
      "source": [
        "standard_scaler = StandardScaler()\n",
        "df_knn_fill_std = standard_scaler.fit_transform(df_knn_fill)\n",
        "df_knn_fill_std = pd.DataFrame(df_knn_fill_std, columns=df_knn_fill.columns)\n",
        "df_knn_fill_std.head()"
      ]
    },
    {
      "cell_type": "code",
      "execution_count": 27,
      "metadata": {},
      "outputs": [
        {
          "data": {
            "text/html": [
              "<div>\n",
              "<style scoped>\n",
              "    .dataframe tbody tr th:only-of-type {\n",
              "        vertical-align: middle;\n",
              "    }\n",
              "\n",
              "    .dataframe tbody tr th {\n",
              "        vertical-align: top;\n",
              "    }\n",
              "\n",
              "    .dataframe thead tr th {\n",
              "        text-align: left;\n",
              "    }\n",
              "</style>\n",
              "<table border=\"1\" class=\"dataframe\">\n",
              "  <thead>\n",
              "    <tr>\n",
              "      <th></th>\n",
              "      <th>car_brand</th>\n",
              "      <th>car_price</th>\n",
              "      <th>car_km</th>\n",
              "      <th>car_year</th>\n",
              "      <th>car_engine</th>\n",
              "      <th>car_gearbox</th>\n",
              "      <th>car_fuel</th>\n",
              "    </tr>\n",
              "  </thead>\n",
              "  <tbody>\n",
              "    <tr>\n",
              "      <th>0</th>\n",
              "      <td>-0.166667</td>\n",
              "      <td>0.9800</td>\n",
              "      <td>-0.984241</td>\n",
              "      <td>0.333333</td>\n",
              "      <td>1.916667</td>\n",
              "      <td>0.0</td>\n",
              "      <td>-1.0</td>\n",
              "    </tr>\n",
              "    <tr>\n",
              "      <th>1</th>\n",
              "      <td>-0.555556</td>\n",
              "      <td>1.0398</td>\n",
              "      <td>-0.091752</td>\n",
              "      <td>-1.000000</td>\n",
              "      <td>0.000000</td>\n",
              "      <td>0.0</td>\n",
              "      <td>0.0</td>\n",
              "    </tr>\n",
              "    <tr>\n",
              "      <th>2</th>\n",
              "      <td>-0.277778</td>\n",
              "      <td>-0.1200</td>\n",
              "      <td>-0.072902</td>\n",
              "      <td>0.666667</td>\n",
              "      <td>-0.500000</td>\n",
              "      <td>1.0</td>\n",
              "      <td>0.0</td>\n",
              "    </tr>\n",
              "    <tr>\n",
              "      <th>3</th>\n",
              "      <td>-0.277778</td>\n",
              "      <td>0.0600</td>\n",
              "      <td>0.393059</td>\n",
              "      <td>0.333333</td>\n",
              "      <td>-0.416667</td>\n",
              "      <td>0.0</td>\n",
              "      <td>0.0</td>\n",
              "    </tr>\n",
              "    <tr>\n",
              "      <th>4</th>\n",
              "      <td>1.000000</td>\n",
              "      <td>0.0200</td>\n",
              "      <td>-0.394021</td>\n",
              "      <td>0.666667</td>\n",
              "      <td>0.333333</td>\n",
              "      <td>1.0</td>\n",
              "      <td>0.0</td>\n",
              "    </tr>\n",
              "  </tbody>\n",
              "</table>\n",
              "</div>"
            ],
            "text/plain": [
              "  car_brand car_price    car_km  car_year car_engine car_gearbox car_fuel\n",
              "0 -0.166667    0.9800 -0.984241  0.333333   1.916667         0.0     -1.0\n",
              "1 -0.555556    1.0398 -0.091752 -1.000000   0.000000         0.0      0.0\n",
              "2 -0.277778   -0.1200 -0.072902  0.666667  -0.500000         1.0      0.0\n",
              "3 -0.277778    0.0600  0.393059  0.333333  -0.416667         0.0      0.0\n",
              "4  1.000000    0.0200 -0.394021  0.666667   0.333333         1.0      0.0"
            ]
          },
          "execution_count": 27,
          "metadata": {},
          "output_type": "execute_result"
        }
      ],
      "source": [
        "robust_scaler = RobustScaler()\n",
        "df_knn_fill_robust = robust_scaler.fit_transform(df_knn_fill)\n",
        "df_knn_fill_robust = pd.DataFrame(df_knn_fill_robust, columns=df_knn_fill.columns)\n",
        "df_knn_fill_robust.head()"
      ]
    },
    {
      "cell_type": "markdown",
      "metadata": {},
      "source": [
        "---"
      ]
    },
    {
      "cell_type": "markdown",
      "metadata": {},
      "source": [
        "### Limpeza de Dados"
      ]
    },
    {
      "cell_type": "code",
      "execution_count": 28,
      "metadata": {},
      "outputs": [
        {
          "data": {
            "application/vnd.plotly.v1+json": {
              "config": {
                "plotlyServerURL": "https://plot.ly"
              },
              "data": [
                {
                  "boxpoints": "all",
                  "jitter": 0.3,
                  "name": "Price",
                  "quartilemethod": "linear",
                  "type": "box",
                  "xaxis": "x",
                  "y": [
                    125990,
                    128980,
                    70990,
                    79990,
                    77990,
                    117990,
                    229980,
                    158990,
                    65990,
                    239990,
                    70990,
                    69990,
                    83990,
                    82990,
                    69990,
                    103990,
                    99990,
                    69690,
                    73990,
                    69990,
                    136980,
                    136980,
                    78990,
                    73990,
                    70900,
                    74800,
                    81990,
                    70800,
                    71990,
                    71990,
                    249990,
                    68800,
                    82990,
                    67990,
                    83990,
                    105990,
                    68990,
                    69990,
                    112990,
                    65990,
                    79990,
                    72990,
                    74490,
                    69990,
                    68990,
                    70990,
                    79990,
                    68990,
                    143980,
                    242990,
                    81990,
                    69990,
                    69990,
                    70990,
                    99990,
                    80990,
                    136990,
                    74990,
                    81990,
                    106990,
                    73990,
                    73990,
                    73990,
                    73990,
                    65990,
                    116990,
                    72990,
                    71990,
                    100990,
                    71990,
                    69990,
                    73990,
                    75990,
                    70990,
                    81990,
                    92990,
                    106990,
                    49990,
                    93990,
                    89990,
                    107990,
                    61990,
                    66990,
                    73990,
                    124990,
                    53990,
                    82990,
                    107800,
                    106990,
                    74990,
                    64990,
                    77990,
                    55990,
                    51990,
                    74800,
                    99990,
                    56990,
                    72990,
                    44800,
                    92990,
                    86990,
                    139990,
                    83990,
                    55800,
                    73490,
                    60800,
                    82990,
                    104990,
                    79800,
                    110990,
                    112990,
                    167990,
                    125990,
                    79800,
                    58800,
                    71990,
                    70990,
                    169990,
                    115990,
                    68990,
                    75990,
                    57990,
                    112990,
                    108990,
                    101990,
                    71990,
                    68990,
                    69990,
                    112990,
                    124990,
                    69990,
                    69990,
                    68990,
                    75990,
                    90990,
                    60990,
                    110990,
                    74990,
                    53800,
                    149990,
                    72990,
                    81990,
                    77990,
                    77800,
                    176990,
                    66800,
                    49800,
                    43990,
                    72990,
                    59990,
                    146990,
                    60990,
                    140990,
                    83990,
                    75990,
                    51990,
                    71990,
                    92990,
                    115990,
                    59990,
                    94990,
                    48990,
                    71990,
                    117990,
                    90990,
                    45800,
                    73990,
                    59990,
                    60990,
                    92990,
                    85990,
                    61990,
                    80990,
                    81990,
                    123990,
                    119990,
                    161900,
                    119900,
                    71900,
                    91900,
                    45900,
                    64990,
                    49900,
                    81900,
                    52900,
                    59900,
                    106900,
                    88900,
                    156900,
                    50990,
                    98990,
                    98990,
                    129900,
                    46990,
                    91900,
                    53900,
                    78900,
                    39990,
                    65990,
                    84990,
                    54990,
                    75990,
                    113900,
                    69900,
                    89900,
                    73900,
                    75900,
                    129900,
                    35900,
                    60900,
                    40900,
                    98990,
                    41990,
                    49990,
                    41990,
                    64990,
                    89900,
                    105900,
                    48990,
                    89900,
                    48990,
                    49990,
                    65990,
                    41900,
                    99990,
                    39990,
                    114990,
                    139990,
                    89990,
                    89990,
                    92990,
                    75990,
                    125990,
                    129900,
                    219990,
                    139990,
                    74990,
                    119990,
                    85900,
                    79900,
                    115990,
                    229990,
                    79990,
                    149990,
                    85900,
                    129990,
                    95900,
                    115990,
                    105900,
                    104900,
                    139900,
                    85900,
                    119900,
                    98990,
                    142900,
                    249990,
                    99900,
                    89900,
                    90990,
                    69900,
                    74990,
                    62990,
                    89900,
                    115900,
                    121900,
                    89900,
                    81900,
                    78900,
                    95900,
                    59990,
                    78900,
                    55990,
                    90990,
                    239900,
                    89900,
                    150990,
                    129990,
                    236990,
                    219990,
                    89990,
                    99990,
                    118990,
                    230990,
                    117990,
                    207990,
                    93980,
                    66480,
                    103480,
                    54980,
                    55980,
                    110980,
                    112980,
                    49980,
                    63980,
                    88980,
                    61980,
                    57980,
                    55980,
                    48970,
                    148980,
                    114980,
                    84480,
                    98980,
                    47980,
                    73480,
                    101980,
                    74980,
                    108480,
                    129980,
                    86980,
                    97980,
                    112980,
                    52980,
                    59980,
                    47980,
                    62980,
                    38980,
                    97980,
                    73980,
                    46980,
                    62980,
                    55980,
                    47980,
                    54980,
                    74980,
                    49480,
                    47980,
                    54980,
                    74980,
                    55980,
                    72980,
                    51980,
                    73980,
                    79990,
                    86000,
                    90000,
                    93990,
                    96990,
                    118990,
                    122990,
                    131000,
                    105900,
                    78900,
                    46900,
                    94900,
                    91900,
                    64890,
                    48900,
                    76990,
                    79900,
                    68900,
                    58900,
                    56900,
                    48490,
                    78900,
                    84900,
                    139900,
                    57900,
                    59900,
                    52490,
                    60900,
                    61900,
                    74900,
                    60900,
                    56900,
                    48900,
                    205900,
                    123900,
                    72990,
                    72000,
                    53990,
                    52990,
                    54900,
                    31990,
                    36990,
                    39990,
                    74990,
                    36990,
                    54900,
                    155900,
                    101900,
                    83990,
                    110990,
                    146990,
                    112900,
                    52990,
                    39990,
                    71900,
                    68900,
                    58990,
                    54900,
                    35990,
                    60990,
                    41990,
                    51900,
                    44990,
                    75990,
                    50990,
                    46990,
                    34990,
                    106870,
                    86990,
                    45990,
                    82990,
                    78990,
                    71990,
                    61990,
                    51870,
                    125990,
                    92870,
                    53870,
                    48900,
                    132900,
                    63900,
                    54900,
                    36900,
                    54870,
                    52870,
                    49870,
                    79870,
                    55870,
                    41990,
                    77990,
                    59990,
                    55990,
                    103990,
                    99990,
                    90990,
                    55990,
                    58990,
                    129900,
                    95900,
                    89900,
                    83900,
                    144870,
                    37900,
                    229900,
                    139900,
                    138990,
                    128990,
                    67990,
                    164990,
                    119990,
                    89990,
                    124900,
                    173900,
                    119870,
                    101990,
                    97870,
                    93990,
                    84990,
                    79870,
                    75990,
                    75870,
                    55870,
                    52870,
                    92990,
                    65990,
                    53990,
                    48900,
                    47900,
                    45900,
                    42900,
                    95990,
                    82990,
                    59990,
                    49990,
                    46990,
                    749900,
                    649900,
                    528900,
                    439900,
                    399900,
                    379900,
                    319900,
                    264900,
                    229900,
                    224900,
                    207900,
                    39990,
                    95997,
                    968900,
                    795900,
                    599900,
                    489900,
                    339900,
                    248900,
                    184900,
                    149900,
                    118997,
                    109997,
                    96990,
                    96900,
                    96900,
                    91990,
                    89997,
                    71990,
                    61997,
                    61997,
                    56900,
                    78997,
                    75900,
                    68900,
                    63997,
                    41997,
                    32900,
                    248900,
                    135990,
                    83990,
                    81990,
                    76990,
                    69990,
                    68990,
                    65990,
                    59990,
                    52990,
                    52990,
                    42990,
                    104990,
                    89990,
                    87990,
                    74990,
                    56900,
                    55990,
                    798900,
                    749900,
                    715900,
                    569900,
                    508900,
                    319900,
                    289900,
                    258900,
                    199900,
                    199900,
                    184900,
                    130900,
                    112900,
                    107900,
                    174900,
                    169900,
                    155900,
                    144997,
                    139900,
                    119900,
                    114900,
                    108900,
                    105997,
                    101997,
                    96997,
                    93997,
                    89990,
                    88900,
                    84997,
                    80900,
                    78997,
                    76900,
                    74900,
                    117990,
                    211900,
                    77990,
                    207900,
                    199900,
                    197900,
                    162900,
                    154900,
                    153900,
                    149900,
                    142900,
                    138900,
                    136900,
                    136900,
                    133900,
                    132900,
                    129900,
                    125900,
                    121900,
                    119900,
                    119900,
                    117900,
                    83990,
                    855900,
                    679900,
                    599900,
                    479900,
                    397900,
                    308900,
                    299900,
                    299900,
                    289900,
                    279900,
                    279900,
                    278900,
                    258900,
                    258900,
                    249900,
                    248900,
                    239900,
                    229900,
                    104900,
                    102900,
                    102900,
                    99900,
                    98900,
                    94900,
                    92900,
                    85900,
                    79990,
                    75900,
                    74900,
                    69900,
                    68900,
                    68900,
                    58900,
                    57900,
                    52900,
                    49900,
                    49900,
                    158900,
                    89990,
                    84990,
                    84990,
                    81990,
                    43990,
                    709900,
                    569900,
                    269900,
                    135900,
                    133900,
                    132900,
                    91900,
                    69997,
                    65997,
                    64997,
                    58990,
                    69990,
                    59900,
                    58990,
                    55990,
                    42900,
                    26990,
                    130990,
                    95900,
                    89990,
                    86990,
                    78900,
                    72900,
                    69900,
                    68900,
                    62280,
                    60000,
                    59900,
                    59804,
                    54900,
                    62900,
                    58990,
                    58990,
                    56900,
                    50990,
                    49900,
                    49900,
                    46990,
                    43900,
                    42900,
                    41990,
                    40900,
                    40900,
                    39900,
                    38990,
                    38990,
                    28900,
                    109900,
                    84990,
                    77990,
                    116900,
                    114900,
                    109900,
                    96900,
                    92990,
                    86900,
                    85900,
                    80990,
                    77900,
                    75990,
                    73990,
                    72900,
                    69900,
                    69900,
                    69900,
                    69900,
                    68990,
                    64990,
                    63900,
                    68990,
                    66990,
                    43990,
                    43990,
                    36990,
                    91990,
                    84990,
                    78990,
                    76990,
                    76990,
                    76900,
                    68990,
                    58990,
                    58990,
                    58990,
                    46990,
                    44990,
                    58990,
                    58900,
                    56990,
                    49900,
                    48990,
                    38990,
                    33990,
                    32990,
                    25990,
                    99900,
                    89990,
                    82990,
                    82990,
                    64990,
                    54990,
                    45990,
                    40990,
                    30990,
                    25990,
                    81990,
                    62990,
                    47990,
                    78900,
                    49990,
                    48990,
                    47990,
                    37990,
                    28900,
                    175900,
                    88900,
                    86900,
                    79990,
                    77900,
                    76900,
                    75997,
                    64900,
                    58900,
                    56900,
                    45990,
                    91990,
                    77990,
                    74990,
                    69900,
                    61900,
                    175900,
                    74990,
                    74900,
                    69990,
                    61990,
                    60990,
                    51990,
                    51990,
                    467900,
                    198990,
                    94900,
                    82990,
                    77900,
                    74990,
                    59990,
                    57990,
                    315900,
                    79990,
                    52990,
                    43800,
                    130990,
                    68900,
                    59990,
                    57990,
                    54990,
                    52990,
                    50990,
                    47990,
                    639900,
                    459900,
                    254900,
                    218900,
                    152900,
                    126900,
                    91870,
                    87990,
                    78997,
                    62900,
                    61990,
                    59900,
                    57990,
                    45990,
                    35990,
                    33990,
                    164900,
                    146900,
                    121900,
                    95900,
                    86997,
                    83990,
                    80990,
                    64997,
                    63900,
                    54997,
                    48490,
                    39990,
                    38990,
                    98990,
                    75900,
                    65900,
                    62990,
                    62900,
                    58900,
                    50990,
                    39990,
                    38990,
                    33990,
                    30990,
                    24990,
                    91900,
                    78990,
                    77990,
                    74900,
                    71990,
                    43990,
                    92990,
                    61990,
                    57990,
                    77990,
                    64990,
                    109990,
                    92990,
                    83900,
                    72900,
                    28990,
                    88990,
                    78990,
                    69990,
                    64900,
                    55990,
                    54990,
                    49990,
                    68900,
                    74990,
                    36990,
                    779900,
                    539900,
                    518900,
                    499900,
                    428900,
                    419900,
                    379900,
                    369900,
                    238900,
                    198900,
                    184900,
                    168900,
                    139900,
                    115900,
                    114900,
                    83900,
                    71900,
                    62990,
                    45900,
                    130990,
                    106990,
                    26990,
                    112900,
                    304990,
                    111990,
                    89990,
                    35990,
                    99990,
                    77990,
                    72990,
                    368900,
                    75990,
                    59900,
                    57990,
                    104990,
                    107990,
                    70990,
                    48990,
                    44900,
                    82990,
                    48990,
                    71990,
                    69990,
                    67990,
                    67990,
                    66990,
                    65990,
                    65990,
                    54990,
                    53990,
                    52990,
                    49990,
                    134990,
                    109990,
                    95990,
                    83990,
                    64990,
                    56990,
                    66990,
                    49990,
                    101990,
                    98990,
                    96990,
                    94990,
                    90990,
                    81990,
                    78990,
                    76990,
                    70990,
                    64900,
                    60990,
                    57990,
                    53990,
                    46990,
                    45990,
                    39990,
                    38990,
                    34990,
                    32990,
                    29990,
                    75900,
                    73900,
                    67990,
                    64990,
                    52990,
                    49990,
                    49990,
                    48990,
                    39900,
                    220900,
                    138990,
                    109900,
                    59900,
                    56900,
                    46900,
                    33990,
                    75900,
                    53990,
                    46990,
                    33900,
                    26990,
                    133990,
                    129900,
                    109900,
                    85900,
                    74900,
                    69990,
                    69900,
                    59990,
                    59900,
                    58990,
                    40990,
                    37990,
                    37990,
                    185900,
                    129900,
                    129900,
                    149990,
                    131900,
                    79900,
                    71900,
                    47900,
                    73900,
                    48990,
                    130990,
                    75990,
                    99990,
                    57900,
                    61900,
                    29900,
                    49990,
                    550990,
                    299990,
                    116990,
                    74990,
                    559990,
                    269990,
                    113900,
                    109900,
                    53900,
                    45900,
                    399950,
                    274950,
                    159900,
                    155900,
                    135900,
                    109900,
                    79900,
                    61900,
                    389950,
                    77990,
                    67900,
                    75990,
                    73900,
                    51990,
                    81990,
                    49990,
                    160990,
                    77900,
                    74990,
                    74990,
                    66990,
                    119990,
                    259900,
                    91990,
                    82990,
                    59900,
                    125900,
                    139990,
                    235900,
                    131900,
                    319900,
                    135900,
                    135900,
                    489950,
                    269950,
                    179900,
                    130990,
                    129990,
                    101990,
                    98990,
                    74990,
                    71990,
                    129990,
                    124990,
                    123990,
                    104990,
                    99990,
                    95990,
                    81990,
                    79990,
                    77990,
                    74990,
                    73990,
                    73990,
                    73990,
                    364990,
                    80990,
                    74900,
                    58990,
                    57990,
                    56990,
                    53990,
                    52990,
                    52990,
                    51900,
                    48990,
                    47990,
                    47990,
                    42990,
                    87900,
                    146990,
                    113990,
                    112990,
                    103990,
                    89990,
                    86990,
                    79990,
                    75990,
                    63990,
                    59990,
                    48990,
                    42990,
                    136990,
                    78990,
                    76990,
                    68990,
                    67990,
                    57990,
                    56990,
                    47990,
                    112990,
                    90990,
                    89990,
                    74990,
                    59990,
                    37990,
                    129990,
                    89990,
                    75990,
                    70990,
                    47990,
                    235990,
                    76990,
                    74990,
                    71990,
                    70990,
                    98990,
                    95990,
                    40990,
                    73990,
                    79990,
                    76990,
                    44990,
                    46990
                  ],
                  "yaxis": "y"
                },
                {
                  "boxpoints": "all",
                  "jitter": 0.3,
                  "name": "Mileage",
                  "quartilemethod": "linear",
                  "type": "box",
                  "xaxis": "x2",
                  "y": [
                    7521,
                    40000,
                    40686,
                    57643,
                    29000,
                    63379,
                    32000,
                    40848,
                    77054,
                    19253,
                    49673,
                    24359,
                    12451,
                    7943,
                    61149,
                    20051,
                    73729,
                    55147,
                    69806,
                    58513,
                    3535,
                    5077,
                    27194,
                    48216,
                    68698,
                    48758,
                    44138,
                    80905,
                    40155,
                    44990,
                    26970,
                    101856,
                    28315,
                    37613,
                    20994,
                    68000,
                    55499,
                    53123,
                    10950,
                    84202,
                    38335,
                    23164,
                    45221,
                    30652,
                    46617,
                    62167,
                    62774,
                    49355,
                    8048,
                    41501,
                    49091,
                    51243,
                    38556,
                    53537,
                    6890,
                    14503,
                    1554,
                    35468,
                    45428,
                    24711,
                    49348,
                    44667,
                    34478,
                    30386,
                    49424,
                    41079,
                    25396,
                    34879,
                    55223,
                    39062,
                    62425,
                    26792,
                    36703,
                    46972,
                    50936,
                    68697,
                    60355,
                    58076,
                    76848,
                    34955,
                    22450,
                    49723,
                    45669,
                    65311,
                    19826,
                    51592,
                    58293,
                    25153,
                    21684,
                    49000,
                    41926,
                    24411,
                    47334,
                    40236,
                    68633,
                    35970,
                    41904,
                    15603,
                    47513,
                    21209,
                    26666,
                    947,
                    39515,
                    61506,
                    31102,
                    38900,
                    13319,
                    25077,
                    66600,
                    32217,
                    58892,
                    31112,
                    29022,
                    83457,
                    29937,
                    30815,
                    48047,
                    124000,
                    53070,
                    40185,
                    44561,
                    59615,
                    49981,
                    26738,
                    45476,
                    31423,
                    43098,
                    27021,
                    35435,
                    58669,
                    58114,
                    63524,
                    45229,
                    47400,
                    25150,
                    77514,
                    43339,
                    69505,
                    97696,
                    60161,
                    21859,
                    13649,
                    51414,
                    101618,
                    48959,
                    91539,
                    85413,
                    47216,
                    34756,
                    46700,
                    43356,
                    37574,
                    82400,
                    26893,
                    9389,
                    51283,
                    50000,
                    24167,
                    31287,
                    47284,
                    29448,
                    43926,
                    40205,
                    18459,
                    49984,
                    56127,
                    52893,
                    66566,
                    63720,
                    43165,
                    26210,
                    28794,
                    60084,
                    66266,
                    34270,
                    17984,
                    21183,
                    10623,
                    9640,
                    25708,
                    46982,
                    12148,
                    7760,
                    53926,
                    19510,
                    53689,
                    46136,
                    6511,
                    16324,
                    36023,
                    35798,
                    66463,
                    54965,
                    35898,
                    14977,
                    24776,
                    13847,
                    75616,
                    47491,
                    61344,
                    105571,
                    39688,
                    4291,
                    37915,
                    18505,
                    15811,
                    77106,
                    61382,
                    59802,
                    34541,
                    43386,
                    7833,
                    47946,
                    40079,
                    52745,
                    62853,
                    67629,
                    16553,
                    66044,
                    55020,
                    66934,
                    24153,
                    21039,
                    55582,
                    34000,
                    58738,
                    30995,
                    16793,
                    6751,
                    68669,
                    16004,
                    75149,
                    10175,
                    13175,
                    716,
                    111,
                    7818,
                    80044,
                    59563,
                    68739,
                    14659,
                    63269,
                    13222,
                    28584,
                    33903,
                    24027,
                    62501,
                    41510,
                    63920,
                    36153,
                    54008,
                    59929,
                    35138,
                    54313,
                    27644,
                    11221,
                    57240,
                    53292,
                    44760,
                    66443,
                    2844,
                    46345,
                    67787,
                    39541,
                    32553,
                    23711,
                    43887,
                    53178,
                    75239,
                    54472,
                    63160,
                    42317,
                    48200,
                    1000,
                    111,
                    20215,
                    19865,
                    104671,
                    267,
                    43200,
                    33543,
                    24019,
                    61176,
                    44600,
                    23296,
                    41621,
                    57501,
                    57822,
                    55543,
                    37101,
                    37091,
                    28381,
                    39511,
                    50431,
                    61523,
                    53011,
                    32581,
                    46971,
                    75263,
                    2931,
                    9336,
                    45283,
                    61462,
                    51472,
                    45691,
                    27701,
                    15941,
                    42061,
                    19861,
                    38571,
                    33692,
                    39361,
                    49311,
                    41871,
                    36411,
                    47531,
                    46901,
                    33411,
                    47581,
                    60243,
                    50831,
                    25631,
                    52577,
                    37321,
                    37821,
                    49342,
                    47031,
                    52002,
                    21991,
                    42891,
                    39351,
                    46183,
                    33522,
                    3902,
                    3530,
                    1491,
                    7738,
                    2312,
                    3902,
                    16902,
                    12902,
                    64553,
                    44357,
                    13183,
                    32319,
                    43712,
                    75354,
                    45200,
                    41254,
                    57070,
                    75,
                    61326,
                    74441,
                    71040,
                    35489,
                    41000,
                    15044,
                    68965,
                    41201,
                    43784,
                    51000,
                    47451,
                    63000,
                    57714,
                    54169,
                    72482,
                    52000,
                    37000,
                    50000,
                    64000,
                    45000,
                    60000,
                    36396,
                    127000,
                    91000,
                    94000,
                    88000,
                    92000,
                    41868,
                    75000,
                    47800,
                    89141,
                    53000,
                    74651,
                    21000,
                    45175,
                    131000,
                    70000,
                    0,
                    42596,
                    63000,
                    100879,
                    69721,
                    106036,
                    32000,
                    78452,
                    58465,
                    51596,
                    1,
                    85189,
                    67000,
                    20140,
                    54260,
                    22000,
                    47842,
                    35000,
                    32000,
                    64000,
                    11000,
                    59000,
                    38000,
                    113000,
                    46047,
                    35054,
                    69067,
                    109160,
                    60436,
                    38438,
                    101000,
                    55000,
                    88894,
                    65905,
                    59704,
                    14200,
                    49120,
                    59300,
                    56900,
                    82972,
                    104000,
                    48032,
                    34060,
                    36500,
                    65000,
                    92000,
                    55000,
                    138456,
                    34000,
                    38000,
                    43000,
                    22253,
                    25000,
                    42000,
                    14191,
                    46944,
                    16609,
                    38954,
                    40000,
                    38371,
                    31000,
                    44469,
                    11000,
                    54000,
                    61934,
                    37000,
                    88000,
                    80000,
                    0,
                    37000,
                    38000,
                    100000,
                    41000,
                    67000,
                    77000,
                    35000,
                    72113,
                    31836,
                    96977,
                    60531,
                    4990,
                    15511,
                    7911,
                    46272,
                    42522,
                    1941,
                    28500,
                    37212,
                    18900,
                    19346,
                    3000,
                    84109,
                    55099,
                    2611,
                    1500,
                    1433,
                    8250,
                    40599,
                    22411,
                    9340,
                    100,
                    147658,
                    116644,
                    15111,
                    55000,
                    6827,
                    70175,
                    40410,
                    52930,
                    60298,
                    43710,
                    78000,
                    104120,
                    64000,
                    88000,
                    76059,
                    85583,
                    115000,
                    35000,
                    36313,
                    79698,
                    97000,
                    84791,
                    57261,
                    45000,
                    26521,
                    80055,
                    50044,
                    69279,
                    92399,
                    39183,
                    88000,
                    11500,
                    37256,
                    88346,
                    51513,
                    281,
                    1000,
                    3651,
                    59000,
                    7390,
                    43708,
                    29260,
                    23825,
                    21522,
                    27522,
                    34476,
                    100,
                    58000,
                    22000,
                    100,
                    40450,
                    40000,
                    69086,
                    6425,
                    11221,
                    30828,
                    35000,
                    154074,
                    36923,
                    40780,
                    56622,
                    30525,
                    66088,
                    37636,
                    78430,
                    43261,
                    41254,
                    19127,
                    90189,
                    32000,
                    148223,
                    38100,
                    3000,
                    40600,
                    13369,
                    14000,
                    16737,
                    12774,
                    7540,
                    10800,
                    6539,
                    32000,
                    26671,
                    50000,
                    3300,
                    27497,
                    41258,
                    29673,
                    19536,
                    6605,
                    45962,
                    100,
                    750,
                    100,
                    14777,
                    28179,
                    20911,
                    3900,
                    9011,
                    8235,
                    9465,
                    9511,
                    22380,
                    20511,
                    21400,
                    70000,
                    53200,
                    17600,
                    40000,
                    69000,
                    75000,
                    48000,
                    47000,
                    33000,
                    29000,
                    64000,
                    14892,
                    39949,
                    94663,
                    52000,
                    26500,
                    78000,
                    38000,
                    50000,
                    55000,
                    67000,
                    82000,
                    68000,
                    78000,
                    61671,
                    14800,
                    42274,
                    67234,
                    34335,
                    8660,
                    11011,
                    24000,
                    24046,
                    31511,
                    7597,
                    36000,
                    108252,
                    37143,
                    54693,
                    98374,
                    79333,
                    29216,
                    44586,
                    58000,
                    88000,
                    0,
                    90000,
                    72000,
                    49659,
                    0,
                    41583,
                    59000,
                    52476,
                    55,
                    25000,
                    114523,
                    188000,
                    47762,
                    55225,
                    39800,
                    47000,
                    50000,
                    56900,
                    60000,
                    72000,
                    113000,
                    68990,
                    92000,
                    122000,
                    90000,
                    76000,
                    0,
                    90000,
                    89000,
                    70000,
                    122000,
                    95000,
                    108000,
                    45000,
                    90000,
                    68000,
                    36000,
                    93000,
                    31000,
                    81000,
                    133000,
                    33000,
                    76000,
                    100000,
                    50000,
                    71000,
                    81000,
                    36000,
                    0,
                    84000,
                    73000,
                    52000,
                    63000,
                    66000,
                    89000,
                    60000,
                    87000,
                    60000,
                    79000,
                    50000,
                    50000,
                    51000,
                    50000,
                    9084,
                    50000,
                    30000,
                    59000,
                    30000,
                    80000,
                    70000,
                    40000,
                    58373,
                    0,
                    0,
                    88000,
                    0,
                    60000,
                    70000,
                    0,
                    0,
                    83458,
                    60000,
                    82000,
                    50000,
                    77000,
                    75000,
                    76000,
                    87000,
                    0,
                    66000,
                    40000,
                    72000,
                    35489,
                    36000,
                    47865,
                    78000,
                    64400,
                    43745,
                    120000,
                    87000,
                    61000,
                    0,
                    40000,
                    0,
                    78591,
                    0,
                    60000,
                    1,
                    59270,
                    38000,
                    44359,
                    37000,
                    52000,
                    38145,
                    80000,
                    56112,
                    42000,
                    82300,
                    25302,
                    74742,
                    27125,
                    46248,
                    51027,
                    60931,
                    6230,
                    67823,
                    18920,
                    59452,
                    22000,
                    0,
                    18000,
                    37213,
                    37352,
                    97462,
                    65512,
                    53000,
                    24125,
                    53268,
                    46293,
                    54800,
                    79220,
                    74277,
                    11611,
                    22511,
                    36900,
                    32821,
                    24219,
                    17250,
                    59000,
                    64089,
                    56788,
                    0,
                    60298,
                    73668,
                    49613,
                    30377,
                    0,
                    70594,
                    38877,
                    16670,
                    46430,
                    35000,
                    100146,
                    67000,
                    0,
                    54343,
                    66650,
                    81171,
                    75162,
                    103153,
                    142258,
                    72000,
                    49118,
                    0,
                    16000,
                    42000,
                    82429,
                    52000,
                    75000,
                    80000,
                    81000,
                    89000,
                    10000,
                    41800,
                    52000,
                    60000,
                    0,
                    57000,
                    68830,
                    29297,
                    50000,
                    44000,
                    300,
                    26300,
                    654000,
                    0,
                    30000,
                    50000,
                    0,
                    60000,
                    300,
                    33000,
                    27000,
                    71000,
                    74000,
                    78000,
                    0,
                    0,
                    0,
                    8361,
                    3000,
                    18522,
                    870,
                    23599,
                    14111,
                    10211,
                    22511,
                    33280,
                    3550,
                    9000,
                    38600,
                    29511,
                    2221,
                    9920,
                    67000,
                    70000,
                    82000,
                    51000,
                    23317,
                    101,
                    101,
                    117000,
                    68001,
                    26674,
                    41677,
                    96000,
                    71419,
                    86505,
                    34217,
                    21011,
                    72467,
                    140000,
                    57400,
                    17999,
                    21301,
                    31370,
                    55000,
                    62000,
                    31406,
                    0,
                    32000,
                    48000,
                    40682,
                    22000,
                    42000,
                    39000,
                    49000,
                    71000,
                    50000,
                    35000,
                    37000,
                    59000,
                    32000,
                    45000,
                    57000,
                    29000,
                    64000,
                    63000,
                    11000,
                    32788,
                    46000,
                    55537,
                    19207,
                    101,
                    40840,
                    101,
                    9700,
                    101,
                    45400,
                    101,
                    32129,
                    27383,
                    101,
                    101,
                    101,
                    101,
                    101,
                    101,
                    101,
                    0,
                    84000,
                    54000,
                    13688,
                    38944,
                    81349,
                    48083,
                    60000,
                    60000,
                    45000,
                    87000,
                    0,
                    69000,
                    0,
                    0,
                    98000,
                    37000,
                    50000,
                    93000,
                    89000,
                    0,
                    127,
                    58000,
                    90000,
                    84000,
                    61504,
                    0,
                    85010,
                    6500,
                    20000,
                    28000,
                    66000,
                    0,
                    50225,
                    35000,
                    0,
                    94000,
                    40000,
                    42,
                    93000,
                    97000,
                    85000,
                    3816,
                    70000,
                    11000,
                    65000,
                    101,
                    66000,
                    0,
                    103865,
                    51000,
                    2927,
                    22213,
                    43008,
                    4030,
                    15500,
                    38572,
                    26620,
                    31684,
                    21100,
                    21362,
                    0,
                    0,
                    45373,
                    21709,
                    28099,
                    67471,
                    60002,
                    43004,
                    0,
                    50000,
                    49706,
                    58000,
                    43619,
                    25000,
                    65000,
                    4026,
                    12072,
                    45882,
                    51000,
                    61000,
                    50000,
                    85421,
                    94900,
                    31000,
                    40000,
                    40977,
                    34447,
                    22000,
                    35522,
                    48322,
                    30542,
                    38699,
                    41138,
                    0,
                    50000,
                    49005,
                    12125,
                    37959,
                    23000,
                    3817,
                    27000,
                    42000,
                    30000,
                    25339,
                    42000,
                    37000,
                    85029,
                    27000,
                    58000,
                    37000,
                    34000,
                    75000,
                    61000,
                    66287,
                    62000,
                    6000,
                    40402,
                    63404,
                    38000,
                    35000,
                    71000,
                    48000,
                    44000,
                    42387,
                    38347,
                    32753,
                    31000,
                    50000,
                    59304,
                    43473,
                    30151,
                    39481,
                    32963,
                    27815,
                    46094,
                    48356,
                    64236,
                    58849,
                    63217,
                    67143,
                    102000,
                    54900,
                    34166,
                    54100,
                    31200,
                    91139,
                    49359,
                    52554,
                    64564,
                    55856,
                    23022,
                    37904,
                    72763,
                    68868,
                    32603,
                    67990,
                    84874,
                    39279,
                    22128,
                    26869,
                    36148,
                    32205,
                    50982,
                    70881,
                    16071,
                    12908,
                    82216,
                    39648,
                    67504,
                    35179,
                    26921,
                    76283,
                    77279,
                    49000
                  ],
                  "yaxis": "y2"
                },
                {
                  "boxpoints": "all",
                  "jitter": 0.3,
                  "name": "Release Year",
                  "quartilemethod": "linear",
                  "type": "box",
                  "xaxis": "x3",
                  "y": [
                    2022,
                    2018,
                    2023,
                    2022,
                    2023,
                    2022,
                    2021,
                    2021,
                    2022,
                    2023,
                    2023,
                    2022,
                    2022,
                    2023,
                    2023,
                    2022,
                    2020,
                    2023,
                    2019,
                    2022,
                    2023,
                    2023,
                    2021,
                    2022,
                    2020,
                    2021,
                    2019,
                    2020,
                    2023,
                    2022,
                    2022,
                    2020,
                    2022,
                    2022,
                    2022,
                    2020,
                    2022,
                    2023,
                    2023,
                    2022,
                    2020,
                    2023,
                    2022,
                    2022,
                    2022,
                    2021,
                    2021,
                    2022,
                    2024,
                    2022,
                    2022,
                    2022,
                    2023,
                    2023,
                    2023,
                    2022,
                    2024,
                    2023,
                    2020,
                    2021,
                    2022,
                    2023,
                    2023,
                    2023,
                    2023,
                    2021,
                    2023,
                    2023,
                    2022,
                    2022,
                    2022,
                    2023,
                    2021,
                    2022,
                    2021,
                    2021,
                    2022,
                    2020,
                    2019,
                    2023,
                    2021,
                    2018,
                    2023,
                    2021,
                    2023,
                    2023,
                    2022,
                    2022,
                    2022,
                    2021,
                    2019,
                    2021,
                    2019,
                    2019,
                    2020,
                    2022,
                    2023,
                    2022,
                    2017,
                    2023,
                    2021,
                    2024,
                    2022,
                    2022,
                    2022,
                    2020,
                    2020,
                    2021,
                    2021,
                    2021,
                    2022,
                    2023,
                    2023,
                    2017,
                    2020,
                    2023,
                    2023,
                    2019,
                    2023,
                    2023,
                    2022,
                    2023,
                    2019,
                    2022,
                    2021,
                    2023,
                    2022,
                    2022,
                    2022,
                    2021,
                    2023,
                    2023,
                    2022,
                    2022,
                    2022,
                    2016,
                    2021,
                    2021,
                    2021,
                    2020,
                    2022,
                    2020,
                    2018,
                    2020,
                    2022,
                    2020,
                    2019,
                    2020,
                    2022,
                    2018,
                    2021,
                    2021,
                    2015,
                    2021,
                    2023,
                    2019,
                    2018,
                    2023,
                    2023,
                    2021,
                    2023,
                    2017,
                    2022,
                    2023,
                    2021,
                    2019,
                    2019,
                    2019,
                    2021,
                    2020,
                    2021,
                    2022,
                    2022,
                    2022,
                    2022,
                    2023,
                    2022,
                    2024,
                    2022,
                    2018,
                    2016,
                    2023,
                    2018,
                    2020,
                    2021,
                    2022,
                    2022,
                    2024,
                    2022,
                    2022,
                    2021,
                    2021,
                    2022,
                    2016,
                    2023,
                    2022,
                    2023,
                    2013,
                    2020,
                    2016,
                    2020,
                    2021,
                    2024,
                    2019,
                    2021,
                    2023,
                    2017,
                    2021,
                    2015,
                    2018,
                    2018,
                    2023,
                    2020,
                    2022,
                    2019,
                    2020,
                    2018,
                    2022,
                    2019,
                    2022,
                    2021,
                    2021,
                    2023,
                    2020,
                    2018,
                    2019,
                    2021,
                    2022,
                    2024,
                    2022,
                    2021,
                    2020,
                    2023,
                    2022,
                    2023,
                    2024,
                    2024,
                    2020,
                    2018,
                    2021,
                    2023,
                    2015,
                    2024,
                    2023,
                    2021,
                    2023,
                    2020,
                    2022,
                    2021,
                    2023,
                    2022,
                    2018,
                    2021,
                    2018,
                    2023,
                    2023,
                    2020,
                    2021,
                    2020,
                    2022,
                    2020,
                    2021,
                    2020,
                    2023,
                    2022,
                    2021,
                    2021,
                    2020,
                    2020,
                    2021,
                    2020,
                    2023,
                    2019,
                    2023,
                    2013,
                    2023,
                    2024,
                    2017,
                    2024,
                    2020,
                    2021,
                    2023,
                    2021,
                    2022,
                    2022,
                    2022,
                    2022,
                    2018,
                    2023,
                    2022,
                    2023,
                    2023,
                    2020,
                    2023,
                    2019,
                    2022,
                    2019,
                    2022,
                    2021,
                    2024,
                    2024,
                    2023,
                    2018,
                    2021,
                    2023,
                    2021,
                    2023,
                    2021,
                    2023,
                    2023,
                    2022,
                    2023,
                    2021,
                    2022,
                    2021,
                    2023,
                    2016,
                    2020,
                    2021,
                    2022,
                    2023,
                    2022,
                    2021,
                    2021,
                    2023,
                    2023,
                    2021,
                    2023,
                    2023,
                    2022,
                    2023,
                    2022,
                    2021,
                    2024,
                    2024,
                    2024,
                    2024,
                    2024,
                    2024,
                    2024,
                    2024,
                    2019,
                    2022,
                    2018,
                    2022,
                    2022,
                    2020,
                    2020,
                    2022,
                    2017,
                    2024,
                    2021,
                    2016,
                    2018,
                    2022,
                    2022,
                    2023,
                    2019,
                    2022,
                    2022,
                    2021,
                    2021,
                    2017,
                    2022,
                    2021,
                    2017,
                    2021,
                    2022,
                    2021,
                    2012,
                    2022,
                    2019,
                    2021,
                    2014,
                    2014,
                    2011,
                    2019,
                    2015,
                    2019,
                    2012,
                    2020,
                    2019,
                    2020,
                    2019,
                    2021,
                    2021,
                    2016,
                    2019,
                    2019,
                    2018,
                    2015,
                    2013,
                    2020,
                    2014,
                    2022,
                    2013,
                    2022,
                    2020,
                    2018,
                    2018,
                    2022,
                    2022,
                    2016,
                    2019,
                    2021,
                    2022,
                    2021,
                    2021,
                    2023,
                    2021,
                    2022,
                    2000,
                    2023,
                    2022,
                    2018,
                    2014,
                    2022,
                    2022,
                    2011,
                    2020,
                    2020,
                    2019,
                    2019,
                    2023,
                    2023,
                    2021,
                    2018,
                    2018,
                    2013,
                    2020,
                    2017,
                    2020,
                    2012,
                    2018,
                    2022,
                    2005,
                    2021,
                    2019,
                    2020,
                    2023,
                    2023,
                    2019,
                    2023,
                    2018,
                    2023,
                    2019,
                    2022,
                    2021,
                    2020,
                    2021,
                    2024,
                    2022,
                    2019,
                    2020,
                    2020,
                    2020,
                    2023,
                    2019,
                    2022,
                    2014,
                    2020,
                    2016,
                    2013,
                    2022,
                    2016,
                    2021,
                    2019,
                    2018,
                    2023,
                    2021,
                    2021,
                    2021,
                    2019,
                    2024,
                    2022,
                    2022,
                    2020,
                    2022,
                    2024,
                    2016,
                    2022,
                    2023,
                    2023,
                    2024,
                    2023,
                    2020,
                    2020,
                    2022,
                    2025,
                    2013,
                    2013,
                    2023,
                    2021,
                    2023,
                    2019,
                    2023,
                    2023,
                    2021,
                    2021,
                    2018,
                    2016,
                    2018,
                    2014,
                    2019,
                    2012,
                    2009,
                    2021,
                    2021,
                    2021,
                    2019,
                    2018,
                    2018,
                    2022,
                    2022,
                    2017,
                    2014,
                    2015,
                    2011,
                    2022,
                    2015,
                    2023,
                    2022,
                    2017,
                    2018,
                    2024,
                    2024,
                    2021,
                    2020,
                    2021,
                    2022,
                    2020,
                    2023,
                    2021,
                    2020,
                    2019,
                    2024,
                    2021,
                    2023,
                    2025,
                    2020,
                    2022,
                    2021,
                    2024,
                    2023,
                    2020,
                    2022,
                    2013,
                    2017,
                    2023,
                    2017,
                    2023,
                    2022,
                    2020,
                    2018,
                    2021,
                    2022,
                    2023,
                    2017,
                    2022,
                    2012,
                    2020,
                    2023,
                    2020,
                    2023,
                    2023,
                    2023,
                    2023,
                    2023,
                    2023,
                    2024,
                    2022,
                    2023,
                    2022,
                    2024,
                    2022,
                    2021,
                    2022,
                    2023,
                    2024,
                    2019,
                    2024,
                    2024,
                    2024,
                    2022,
                    2022,
                    2021,
                    2024,
                    2021,
                    2022,
                    2023,
                    2022,
                    2023,
                    2022,
                    2021,
                    2019,
                    2020,
                    2022,
                    2020,
                    2019,
                    2017,
                    2020,
                    2021,
                    2021,
                    2023,
                    2019,
                    2022,
                    2022,
                    2020,
                    2020,
                    2022,
                    2018,
                    2022,
                    2021,
                    2019,
                    2018,
                    2014,
                    2018,
                    2018,
                    2020,
                    2021,
                    2020,
                    2017,
                    2019,
                    2023,
                    2023,
                    2020,
                    2023,
                    2022,
                    2023,
                    2022,
                    2016,
                    2023,
                    2023,
                    2020,
                    2017,
                    2022,
                    2021,
                    2020,
                    2017,
                    2012,
                    2018,
                    2018,
                    2021,
                    2017,
                    2022,
                    2019,
                    2022,
                    2024,
                    2024,
                    2014,
                    2016,
                    2022,
                    2021,
                    2022,
                    2017,
                    2019,
                    2017,
                    2016,
                    2020,
                    2011,
                    2020,
                    2018,
                    2014,
                    2015,
                    2017,
                    2020,
                    2015,
                    2014,
                    2014,
                    2014,
                    2018,
                    2017,
                    2022,
                    2018,
                    2019,
                    2021,
                    2015,
                    2021,
                    2018,
                    2014,
                    2021,
                    2017,
                    2012,
                    2020,
                    2018,
                    2017,
                    2023,
                    2017,
                    2013,
                    2024,
                    2024,
                    2019,
                    2019,
                    2015,
                    2018,
                    2014,
                    2016,
                    2018,
                    2018,
                    2019,
                    2018,
                    2020,
                    2023,
                    2020,
                    2021,
                    2021,
                    2020,
                    2015,
                    2015,
                    2021,
                    2019,
                    2015,
                    2020,
                    2016,
                    2014,
                    2013,
                    2015,
                    2010,
                    2021,
                    2016,
                    2017,
                    2018,
                    2018,
                    2017,
                    2020,
                    2020,
                    2014,
                    2010,
                    2019,
                    2023,
                    2020,
                    2022,
                    2017,
                    2017,
                    2017,
                    2020,
                    2012,
                    2019,
                    2017,
                    2020,
                    2024,
                    2023,
                    2016,
                    2022,
                    2021,
                    2019,
                    2020,
                    2020,
                    2023,
                    2021,
                    2022,
                    2022,
                    2020,
                    2019,
                    2021,
                    2020,
                    2020,
                    2023,
                    2017,
                    2023,
                    2021,
                    2020,
                    2022,
                    2023,
                    2018,
                    2021,
                    2021,
                    2023,
                    2024,
                    2018,
                    2018,
                    2023,
                    2016,
                    2021,
                    2018,
                    2023,
                    2019,
                    2022,
                    2019,
                    2019,
                    2014,
                    2022,
                    2021,
                    2020,
                    2019,
                    2023,
                    2022,
                    2021,
                    2023,
                    2020,
                    2021,
                    2021,
                    2022,
                    2021,
                    2021,
                    2015,
                    2012,
                    2023,
                    2022,
                    2021,
                    2022,
                    2017,
                    2017,
                    2017,
                    2023,
                    2020,
                    2015,
                    2020,
                    2014,
                    2014,
                    2020,
                    2020,
                    2022,
                    2021,
                    2013,
                    2017,
                    2018,
                    2014,
                    2015,
                    2014,
                    2014,
                    2008,
                    2022,
                    2018,
                    2017,
                    2020,
                    2020,
                    2015,
                    2022,
                    2017,
                    2022,
                    2017,
                    2023,
                    2019,
                    2018,
                    2019,
                    2019,
                    2010,
                    2018,
                    2022,
                    2022,
                    2023,
                    2020,
                    2018,
                    2016,
                    2021,
                    2022,
                    2015,
                    2023,
                    2023,
                    2022,
                    2023,
                    2019,
                    2022,
                    2022,
                    2022,
                    2023,
                    2024,
                    2024,
                    2022,
                    2022,
                    2024,
                    2022,
                    2018,
                    2016,
                    2015,
                    2016,
                    2023,
                    2022,
                    2011,
                    2015,
                    2021,
                    2022,
                    2020,
                    2014,
                    2022,
                    2020,
                    2023,
                    2024,
                    2020,
                    2009,
                    2019,
                    2023,
                    2022,
                    2022,
                    2022,
                    2021,
                    2022,
                    2018,
                    2022,
                    2023,
                    2016,
                    2023,
                    2022,
                    2022,
                    2023,
                    2020,
                    2020,
                    2021,
                    2020,
                    2021,
                    2021,
                    2018,
                    2021,
                    2022,
                    2020,
                    2018,
                    2021,
                    2021,
                    2021,
                    2018,
                    2023,
                    2022,
                    2021,
                    2017,
                    2024,
                    2022,
                    2021,
                    2023,
                    2022,
                    2021,
                    2021,
                    2015,
                    2016,
                    2016,
                    2011,
                    2012,
                    2013,
                    2021,
                    2015,
                    2016,
                    2021,
                    2023,
                    2021,
                    2022,
                    2018,
                    2014,
                    2022,
                    2018,
                    2018,
                    2018,
                    2019,
                    2021,
                    2010,
                    2022,
                    2021,
                    2013,
                    2012,
                    2012,
                    2024,
                    2018,
                    2018,
                    2017,
                    2020,
                    2017,
                    2017,
                    2024,
                    2022,
                    2019,
                    2015,
                    2010,
                    2013,
                    2018,
                    2024,
                    2019,
                    2021,
                    2022,
                    2020,
                    2014,
                    2013,
                    2024,
                    2014,
                    2023,
                    2022,
                    2022,
                    2018,
                    2019,
                    2014,
                    2019,
                    2022,
                    2016,
                    2021,
                    2018,
                    2021,
                    2017,
                    2021,
                    2021,
                    2022,
                    2016,
                    2022,
                    2022,
                    2020,
                    2022,
                    2020,
                    2018,
                    2018,
                    2021,
                    2022,
                    2018,
                    2019,
                    2022,
                    2019,
                    2021,
                    2020,
                    2017,
                    2024,
                    2018,
                    2020,
                    2020,
                    2022,
                    2020,
                    2019,
                    2022,
                    2022,
                    2020,
                    2018,
                    2023,
                    2020,
                    2018,
                    2019,
                    2019,
                    2021,
                    2022,
                    2019,
                    2018,
                    2023,
                    2020,
                    2023,
                    2022,
                    2021,
                    2023,
                    2023,
                    2022,
                    2023,
                    2021,
                    2016,
                    2022,
                    2021,
                    2020,
                    2020,
                    2016,
                    2023,
                    2019,
                    2019,
                    2022,
                    2022,
                    2016,
                    2020,
                    2020,
                    2021,
                    2019,
                    2019,
                    2020,
                    2020,
                    2020,
                    2018,
                    2018,
                    2016,
                    2017,
                    2023,
                    2020,
                    2023,
                    2023,
                    2022,
                    2018,
                    2020,
                    2019,
                    2019,
                    2018,
                    2020,
                    2020,
                    2021,
                    2020,
                    2021,
                    2021,
                    2020,
                    2021,
                    2017,
                    2019,
                    2023,
                    2021,
                    2018,
                    2022,
                    2023,
                    2015,
                    2021,
                    2022,
                    2023,
                    2022,
                    2023,
                    2022,
                    2022,
                    2020,
                    2023,
                    2022,
                    2021,
                    2023,
                    2016,
                    2022,
                    2020,
                    2021,
                    2021,
                    2014
                  ],
                  "yaxis": "y3"
                }
              ],
              "layout": {
                "height": 500,
                "template": {
                  "data": {
                    "bar": [
                      {
                        "error_x": {
                          "color": "#2a3f5f"
                        },
                        "error_y": {
                          "color": "#2a3f5f"
                        },
                        "marker": {
                          "line": {
                            "color": "#E5ECF6",
                            "width": 0.5
                          },
                          "pattern": {
                            "fillmode": "overlay",
                            "size": 10,
                            "solidity": 0.2
                          }
                        },
                        "type": "bar"
                      }
                    ],
                    "barpolar": [
                      {
                        "marker": {
                          "line": {
                            "color": "#E5ECF6",
                            "width": 0.5
                          },
                          "pattern": {
                            "fillmode": "overlay",
                            "size": 10,
                            "solidity": 0.2
                          }
                        },
                        "type": "barpolar"
                      }
                    ],
                    "carpet": [
                      {
                        "aaxis": {
                          "endlinecolor": "#2a3f5f",
                          "gridcolor": "white",
                          "linecolor": "white",
                          "minorgridcolor": "white",
                          "startlinecolor": "#2a3f5f"
                        },
                        "baxis": {
                          "endlinecolor": "#2a3f5f",
                          "gridcolor": "white",
                          "linecolor": "white",
                          "minorgridcolor": "white",
                          "startlinecolor": "#2a3f5f"
                        },
                        "type": "carpet"
                      }
                    ],
                    "choropleth": [
                      {
                        "colorbar": {
                          "outlinewidth": 0,
                          "ticks": ""
                        },
                        "type": "choropleth"
                      }
                    ],
                    "contour": [
                      {
                        "colorbar": {
                          "outlinewidth": 0,
                          "ticks": ""
                        },
                        "colorscale": [
                          [
                            0,
                            "#0d0887"
                          ],
                          [
                            0.1111111111111111,
                            "#46039f"
                          ],
                          [
                            0.2222222222222222,
                            "#7201a8"
                          ],
                          [
                            0.3333333333333333,
                            "#9c179e"
                          ],
                          [
                            0.4444444444444444,
                            "#bd3786"
                          ],
                          [
                            0.5555555555555556,
                            "#d8576b"
                          ],
                          [
                            0.6666666666666666,
                            "#ed7953"
                          ],
                          [
                            0.7777777777777778,
                            "#fb9f3a"
                          ],
                          [
                            0.8888888888888888,
                            "#fdca26"
                          ],
                          [
                            1,
                            "#f0f921"
                          ]
                        ],
                        "type": "contour"
                      }
                    ],
                    "contourcarpet": [
                      {
                        "colorbar": {
                          "outlinewidth": 0,
                          "ticks": ""
                        },
                        "type": "contourcarpet"
                      }
                    ],
                    "heatmap": [
                      {
                        "colorbar": {
                          "outlinewidth": 0,
                          "ticks": ""
                        },
                        "colorscale": [
                          [
                            0,
                            "#0d0887"
                          ],
                          [
                            0.1111111111111111,
                            "#46039f"
                          ],
                          [
                            0.2222222222222222,
                            "#7201a8"
                          ],
                          [
                            0.3333333333333333,
                            "#9c179e"
                          ],
                          [
                            0.4444444444444444,
                            "#bd3786"
                          ],
                          [
                            0.5555555555555556,
                            "#d8576b"
                          ],
                          [
                            0.6666666666666666,
                            "#ed7953"
                          ],
                          [
                            0.7777777777777778,
                            "#fb9f3a"
                          ],
                          [
                            0.8888888888888888,
                            "#fdca26"
                          ],
                          [
                            1,
                            "#f0f921"
                          ]
                        ],
                        "type": "heatmap"
                      }
                    ],
                    "heatmapgl": [
                      {
                        "colorbar": {
                          "outlinewidth": 0,
                          "ticks": ""
                        },
                        "colorscale": [
                          [
                            0,
                            "#0d0887"
                          ],
                          [
                            0.1111111111111111,
                            "#46039f"
                          ],
                          [
                            0.2222222222222222,
                            "#7201a8"
                          ],
                          [
                            0.3333333333333333,
                            "#9c179e"
                          ],
                          [
                            0.4444444444444444,
                            "#bd3786"
                          ],
                          [
                            0.5555555555555556,
                            "#d8576b"
                          ],
                          [
                            0.6666666666666666,
                            "#ed7953"
                          ],
                          [
                            0.7777777777777778,
                            "#fb9f3a"
                          ],
                          [
                            0.8888888888888888,
                            "#fdca26"
                          ],
                          [
                            1,
                            "#f0f921"
                          ]
                        ],
                        "type": "heatmapgl"
                      }
                    ],
                    "histogram": [
                      {
                        "marker": {
                          "pattern": {
                            "fillmode": "overlay",
                            "size": 10,
                            "solidity": 0.2
                          }
                        },
                        "type": "histogram"
                      }
                    ],
                    "histogram2d": [
                      {
                        "colorbar": {
                          "outlinewidth": 0,
                          "ticks": ""
                        },
                        "colorscale": [
                          [
                            0,
                            "#0d0887"
                          ],
                          [
                            0.1111111111111111,
                            "#46039f"
                          ],
                          [
                            0.2222222222222222,
                            "#7201a8"
                          ],
                          [
                            0.3333333333333333,
                            "#9c179e"
                          ],
                          [
                            0.4444444444444444,
                            "#bd3786"
                          ],
                          [
                            0.5555555555555556,
                            "#d8576b"
                          ],
                          [
                            0.6666666666666666,
                            "#ed7953"
                          ],
                          [
                            0.7777777777777778,
                            "#fb9f3a"
                          ],
                          [
                            0.8888888888888888,
                            "#fdca26"
                          ],
                          [
                            1,
                            "#f0f921"
                          ]
                        ],
                        "type": "histogram2d"
                      }
                    ],
                    "histogram2dcontour": [
                      {
                        "colorbar": {
                          "outlinewidth": 0,
                          "ticks": ""
                        },
                        "colorscale": [
                          [
                            0,
                            "#0d0887"
                          ],
                          [
                            0.1111111111111111,
                            "#46039f"
                          ],
                          [
                            0.2222222222222222,
                            "#7201a8"
                          ],
                          [
                            0.3333333333333333,
                            "#9c179e"
                          ],
                          [
                            0.4444444444444444,
                            "#bd3786"
                          ],
                          [
                            0.5555555555555556,
                            "#d8576b"
                          ],
                          [
                            0.6666666666666666,
                            "#ed7953"
                          ],
                          [
                            0.7777777777777778,
                            "#fb9f3a"
                          ],
                          [
                            0.8888888888888888,
                            "#fdca26"
                          ],
                          [
                            1,
                            "#f0f921"
                          ]
                        ],
                        "type": "histogram2dcontour"
                      }
                    ],
                    "mesh3d": [
                      {
                        "colorbar": {
                          "outlinewidth": 0,
                          "ticks": ""
                        },
                        "type": "mesh3d"
                      }
                    ],
                    "parcoords": [
                      {
                        "line": {
                          "colorbar": {
                            "outlinewidth": 0,
                            "ticks": ""
                          }
                        },
                        "type": "parcoords"
                      }
                    ],
                    "pie": [
                      {
                        "automargin": true,
                        "type": "pie"
                      }
                    ],
                    "scatter": [
                      {
                        "fillpattern": {
                          "fillmode": "overlay",
                          "size": 10,
                          "solidity": 0.2
                        },
                        "type": "scatter"
                      }
                    ],
                    "scatter3d": [
                      {
                        "line": {
                          "colorbar": {
                            "outlinewidth": 0,
                            "ticks": ""
                          }
                        },
                        "marker": {
                          "colorbar": {
                            "outlinewidth": 0,
                            "ticks": ""
                          }
                        },
                        "type": "scatter3d"
                      }
                    ],
                    "scattercarpet": [
                      {
                        "marker": {
                          "colorbar": {
                            "outlinewidth": 0,
                            "ticks": ""
                          }
                        },
                        "type": "scattercarpet"
                      }
                    ],
                    "scattergeo": [
                      {
                        "marker": {
                          "colorbar": {
                            "outlinewidth": 0,
                            "ticks": ""
                          }
                        },
                        "type": "scattergeo"
                      }
                    ],
                    "scattergl": [
                      {
                        "marker": {
                          "colorbar": {
                            "outlinewidth": 0,
                            "ticks": ""
                          }
                        },
                        "type": "scattergl"
                      }
                    ],
                    "scattermapbox": [
                      {
                        "marker": {
                          "colorbar": {
                            "outlinewidth": 0,
                            "ticks": ""
                          }
                        },
                        "type": "scattermapbox"
                      }
                    ],
                    "scatterpolar": [
                      {
                        "marker": {
                          "colorbar": {
                            "outlinewidth": 0,
                            "ticks": ""
                          }
                        },
                        "type": "scatterpolar"
                      }
                    ],
                    "scatterpolargl": [
                      {
                        "marker": {
                          "colorbar": {
                            "outlinewidth": 0,
                            "ticks": ""
                          }
                        },
                        "type": "scatterpolargl"
                      }
                    ],
                    "scatterternary": [
                      {
                        "marker": {
                          "colorbar": {
                            "outlinewidth": 0,
                            "ticks": ""
                          }
                        },
                        "type": "scatterternary"
                      }
                    ],
                    "surface": [
                      {
                        "colorbar": {
                          "outlinewidth": 0,
                          "ticks": ""
                        },
                        "colorscale": [
                          [
                            0,
                            "#0d0887"
                          ],
                          [
                            0.1111111111111111,
                            "#46039f"
                          ],
                          [
                            0.2222222222222222,
                            "#7201a8"
                          ],
                          [
                            0.3333333333333333,
                            "#9c179e"
                          ],
                          [
                            0.4444444444444444,
                            "#bd3786"
                          ],
                          [
                            0.5555555555555556,
                            "#d8576b"
                          ],
                          [
                            0.6666666666666666,
                            "#ed7953"
                          ],
                          [
                            0.7777777777777778,
                            "#fb9f3a"
                          ],
                          [
                            0.8888888888888888,
                            "#fdca26"
                          ],
                          [
                            1,
                            "#f0f921"
                          ]
                        ],
                        "type": "surface"
                      }
                    ],
                    "table": [
                      {
                        "cells": {
                          "fill": {
                            "color": "#EBF0F8"
                          },
                          "line": {
                            "color": "white"
                          }
                        },
                        "header": {
                          "fill": {
                            "color": "#C8D4E3"
                          },
                          "line": {
                            "color": "white"
                          }
                        },
                        "type": "table"
                      }
                    ]
                  },
                  "layout": {
                    "annotationdefaults": {
                      "arrowcolor": "#2a3f5f",
                      "arrowhead": 0,
                      "arrowwidth": 1
                    },
                    "autotypenumbers": "strict",
                    "coloraxis": {
                      "colorbar": {
                        "outlinewidth": 0,
                        "ticks": ""
                      }
                    },
                    "colorscale": {
                      "diverging": [
                        [
                          0,
                          "#8e0152"
                        ],
                        [
                          0.1,
                          "#c51b7d"
                        ],
                        [
                          0.2,
                          "#de77ae"
                        ],
                        [
                          0.3,
                          "#f1b6da"
                        ],
                        [
                          0.4,
                          "#fde0ef"
                        ],
                        [
                          0.5,
                          "#f7f7f7"
                        ],
                        [
                          0.6,
                          "#e6f5d0"
                        ],
                        [
                          0.7,
                          "#b8e186"
                        ],
                        [
                          0.8,
                          "#7fbc41"
                        ],
                        [
                          0.9,
                          "#4d9221"
                        ],
                        [
                          1,
                          "#276419"
                        ]
                      ],
                      "sequential": [
                        [
                          0,
                          "#0d0887"
                        ],
                        [
                          0.1111111111111111,
                          "#46039f"
                        ],
                        [
                          0.2222222222222222,
                          "#7201a8"
                        ],
                        [
                          0.3333333333333333,
                          "#9c179e"
                        ],
                        [
                          0.4444444444444444,
                          "#bd3786"
                        ],
                        [
                          0.5555555555555556,
                          "#d8576b"
                        ],
                        [
                          0.6666666666666666,
                          "#ed7953"
                        ],
                        [
                          0.7777777777777778,
                          "#fb9f3a"
                        ],
                        [
                          0.8888888888888888,
                          "#fdca26"
                        ],
                        [
                          1,
                          "#f0f921"
                        ]
                      ],
                      "sequentialminus": [
                        [
                          0,
                          "#0d0887"
                        ],
                        [
                          0.1111111111111111,
                          "#46039f"
                        ],
                        [
                          0.2222222222222222,
                          "#7201a8"
                        ],
                        [
                          0.3333333333333333,
                          "#9c179e"
                        ],
                        [
                          0.4444444444444444,
                          "#bd3786"
                        ],
                        [
                          0.5555555555555556,
                          "#d8576b"
                        ],
                        [
                          0.6666666666666666,
                          "#ed7953"
                        ],
                        [
                          0.7777777777777778,
                          "#fb9f3a"
                        ],
                        [
                          0.8888888888888888,
                          "#fdca26"
                        ],
                        [
                          1,
                          "#f0f921"
                        ]
                      ]
                    },
                    "colorway": [
                      "#636efa",
                      "#EF553B",
                      "#00cc96",
                      "#ab63fa",
                      "#FFA15A",
                      "#19d3f3",
                      "#FF6692",
                      "#B6E880",
                      "#FF97FF",
                      "#FECB52"
                    ],
                    "font": {
                      "color": "#2a3f5f"
                    },
                    "geo": {
                      "bgcolor": "white",
                      "lakecolor": "white",
                      "landcolor": "#E5ECF6",
                      "showlakes": true,
                      "showland": true,
                      "subunitcolor": "white"
                    },
                    "hoverlabel": {
                      "align": "left"
                    },
                    "hovermode": "closest",
                    "mapbox": {
                      "style": "light"
                    },
                    "paper_bgcolor": "white",
                    "plot_bgcolor": "#E5ECF6",
                    "polar": {
                      "angularaxis": {
                        "gridcolor": "white",
                        "linecolor": "white",
                        "ticks": ""
                      },
                      "bgcolor": "#E5ECF6",
                      "radialaxis": {
                        "gridcolor": "white",
                        "linecolor": "white",
                        "ticks": ""
                      }
                    },
                    "scene": {
                      "xaxis": {
                        "backgroundcolor": "#E5ECF6",
                        "gridcolor": "white",
                        "gridwidth": 2,
                        "linecolor": "white",
                        "showbackground": true,
                        "ticks": "",
                        "zerolinecolor": "white"
                      },
                      "yaxis": {
                        "backgroundcolor": "#E5ECF6",
                        "gridcolor": "white",
                        "gridwidth": 2,
                        "linecolor": "white",
                        "showbackground": true,
                        "ticks": "",
                        "zerolinecolor": "white"
                      },
                      "zaxis": {
                        "backgroundcolor": "#E5ECF6",
                        "gridcolor": "white",
                        "gridwidth": 2,
                        "linecolor": "white",
                        "showbackground": true,
                        "ticks": "",
                        "zerolinecolor": "white"
                      }
                    },
                    "shapedefaults": {
                      "line": {
                        "color": "#2a3f5f"
                      }
                    },
                    "ternary": {
                      "aaxis": {
                        "gridcolor": "white",
                        "linecolor": "white",
                        "ticks": ""
                      },
                      "baxis": {
                        "gridcolor": "white",
                        "linecolor": "white",
                        "ticks": ""
                      },
                      "bgcolor": "#E5ECF6",
                      "caxis": {
                        "gridcolor": "white",
                        "linecolor": "white",
                        "ticks": ""
                      }
                    },
                    "title": {
                      "x": 0.05
                    },
                    "xaxis": {
                      "automargin": true,
                      "gridcolor": "white",
                      "linecolor": "white",
                      "ticks": "",
                      "title": {
                        "standoff": 15
                      },
                      "zerolinecolor": "white",
                      "zerolinewidth": 2
                    },
                    "yaxis": {
                      "automargin": true,
                      "gridcolor": "white",
                      "linecolor": "white",
                      "ticks": "",
                      "title": {
                        "standoff": 15
                      },
                      "zerolinecolor": "white",
                      "zerolinewidth": 2
                    }
                  }
                },
                "title": {
                  "text": "Numerical Columns Outliers"
                },
                "width": 970,
                "xaxis": {
                  "anchor": "y",
                  "domain": [
                    0,
                    0.2888888888888889
                  ]
                },
                "xaxis2": {
                  "anchor": "y2",
                  "domain": [
                    0.35555555555555557,
                    0.6444444444444445
                  ]
                },
                "xaxis3": {
                  "anchor": "y3",
                  "domain": [
                    0.7111111111111111,
                    1
                  ]
                },
                "yaxis": {
                  "anchor": "x",
                  "domain": [
                    0,
                    1
                  ]
                },
                "yaxis2": {
                  "anchor": "x2",
                  "domain": [
                    0,
                    1
                  ]
                },
                "yaxis3": {
                  "anchor": "x3",
                  "domain": [
                    0,
                    1
                  ]
                }
              }
            }
          },
          "metadata": {},
          "output_type": "display_data"
        }
      ],
      "source": [
        "fig = make_subplots(rows=1, cols=3)\n",
        "\n",
        "fig.append_trace(go.Box(y=df_cars['car_price'], name='Price', quartilemethod=\"linear\"), row=1, col=1)\n",
        "fig.append_trace(go.Box(y=df_cars['car_km'], name='Mileage', quartilemethod=\"linear\"), row=1, col=2)\n",
        "fig.append_trace(go.Box(y=df_cars['car_year'], name='Release Year', quartilemethod=\"linear\"), row=1, col=3)\n",
        "\n",
        "fig.update_traces(boxpoints='all', jitter=0.3)\n",
        "fig.update_layout(height=500, width=970, title_text=\"Numerical Columns Outliers\")"
      ]
    },
    {
      "cell_type": "markdown",
      "metadata": {},
      "source": [
        "#### Correlação dos dados"
      ]
    },
    {
      "cell_type": "code",
      "execution_count": 29,
      "metadata": {},
      "outputs": [
        {
          "data": {
            "application/vnd.plotly.v1+json": {
              "config": {
                "plotlyServerURL": "https://plot.ly"
              },
              "data": [
                {
                  "text": [
                    [
                      1,
                      0.0793370911359545,
                      0.044328001998244916,
                      -0.03750515484010381,
                      0.11285440444441812,
                      0.010321766497084677,
                      0.05324267277780577
                    ],
                    [
                      0.0793370911359545,
                      1,
                      -0.25899983900791235,
                      0.2587694110906542,
                      0.5512063513383245,
                      -0.3977757632752509,
                      0.24616481587584957
                    ],
                    [
                      0.044328001998244916,
                      -0.25899983900791235,
                      1,
                      -0.4484438281987098,
                      0.09362923272687991,
                      0.11703154160683941,
                      -0.1880044671350041
                    ],
                    [
                      -0.03750515484010381,
                      0.2587694110906542,
                      -0.4484438281987098,
                      1,
                      -0.17949559853105027,
                      -0.07386483508336869,
                      0.014392619523797128
                    ],
                    [
                      0.11285440444441812,
                      0.5512063513383245,
                      0.09362923272687991,
                      -0.17949559853105027,
                      1,
                      -0.4943827403343071,
                      -0.06723437634654451
                    ],
                    [
                      0.010321766497084677,
                      -0.3977757632752509,
                      0.11703154160683941,
                      -0.07386483508336869,
                      -0.4943827403343071,
                      1,
                      -0.016347922659393516
                    ],
                    [
                      0.05324267277780577,
                      0.24616481587584957,
                      -0.1880044671350041,
                      0.014392619523797128,
                      -0.06723437634654451,
                      -0.016347922659393516,
                      1
                    ]
                  ],
                  "texttemplate": "%{text:.2f}",
                  "type": "heatmap",
                  "x": [
                    "car_brand",
                    "car_price",
                    "car_km",
                    "car_year",
                    "car_engine",
                    "car_gearbox",
                    "car_fuel"
                  ],
                  "y": [
                    "car_brand",
                    "car_price",
                    "car_km",
                    "car_year",
                    "car_engine",
                    "car_gearbox",
                    "car_fuel"
                  ],
                  "z": [
                    [
                      1,
                      0.0793370911359545,
                      0.044328001998244916,
                      -0.03750515484010381,
                      0.11285440444441812,
                      0.010321766497084677,
                      0.05324267277780577
                    ],
                    [
                      0.0793370911359545,
                      1,
                      -0.25899983900791235,
                      0.2587694110906542,
                      0.5512063513383245,
                      -0.3977757632752509,
                      0.24616481587584957
                    ],
                    [
                      0.044328001998244916,
                      -0.25899983900791235,
                      1,
                      -0.4484438281987098,
                      0.09362923272687991,
                      0.11703154160683941,
                      -0.1880044671350041
                    ],
                    [
                      -0.03750515484010381,
                      0.2587694110906542,
                      -0.4484438281987098,
                      1,
                      -0.17949559853105027,
                      -0.07386483508336869,
                      0.014392619523797128
                    ],
                    [
                      0.11285440444441812,
                      0.5512063513383245,
                      0.09362923272687991,
                      -0.17949559853105027,
                      1,
                      -0.4943827403343071,
                      -0.06723437634654451
                    ],
                    [
                      0.010321766497084677,
                      -0.3977757632752509,
                      0.11703154160683941,
                      -0.07386483508336869,
                      -0.4943827403343071,
                      1,
                      -0.016347922659393516
                    ],
                    [
                      0.05324267277780577,
                      0.24616481587584957,
                      -0.1880044671350041,
                      0.014392619523797128,
                      -0.06723437634654451,
                      -0.016347922659393516,
                      1
                    ]
                  ]
                }
              ],
              "layout": {
                "height": 900,
                "template": {
                  "data": {
                    "bar": [
                      {
                        "error_x": {
                          "color": "#2a3f5f"
                        },
                        "error_y": {
                          "color": "#2a3f5f"
                        },
                        "marker": {
                          "line": {
                            "color": "#E5ECF6",
                            "width": 0.5
                          },
                          "pattern": {
                            "fillmode": "overlay",
                            "size": 10,
                            "solidity": 0.2
                          }
                        },
                        "type": "bar"
                      }
                    ],
                    "barpolar": [
                      {
                        "marker": {
                          "line": {
                            "color": "#E5ECF6",
                            "width": 0.5
                          },
                          "pattern": {
                            "fillmode": "overlay",
                            "size": 10,
                            "solidity": 0.2
                          }
                        },
                        "type": "barpolar"
                      }
                    ],
                    "carpet": [
                      {
                        "aaxis": {
                          "endlinecolor": "#2a3f5f",
                          "gridcolor": "white",
                          "linecolor": "white",
                          "minorgridcolor": "white",
                          "startlinecolor": "#2a3f5f"
                        },
                        "baxis": {
                          "endlinecolor": "#2a3f5f",
                          "gridcolor": "white",
                          "linecolor": "white",
                          "minorgridcolor": "white",
                          "startlinecolor": "#2a3f5f"
                        },
                        "type": "carpet"
                      }
                    ],
                    "choropleth": [
                      {
                        "colorbar": {
                          "outlinewidth": 0,
                          "ticks": ""
                        },
                        "type": "choropleth"
                      }
                    ],
                    "contour": [
                      {
                        "colorbar": {
                          "outlinewidth": 0,
                          "ticks": ""
                        },
                        "colorscale": [
                          [
                            0,
                            "#0d0887"
                          ],
                          [
                            0.1111111111111111,
                            "#46039f"
                          ],
                          [
                            0.2222222222222222,
                            "#7201a8"
                          ],
                          [
                            0.3333333333333333,
                            "#9c179e"
                          ],
                          [
                            0.4444444444444444,
                            "#bd3786"
                          ],
                          [
                            0.5555555555555556,
                            "#d8576b"
                          ],
                          [
                            0.6666666666666666,
                            "#ed7953"
                          ],
                          [
                            0.7777777777777778,
                            "#fb9f3a"
                          ],
                          [
                            0.8888888888888888,
                            "#fdca26"
                          ],
                          [
                            1,
                            "#f0f921"
                          ]
                        ],
                        "type": "contour"
                      }
                    ],
                    "contourcarpet": [
                      {
                        "colorbar": {
                          "outlinewidth": 0,
                          "ticks": ""
                        },
                        "type": "contourcarpet"
                      }
                    ],
                    "heatmap": [
                      {
                        "colorbar": {
                          "outlinewidth": 0,
                          "ticks": ""
                        },
                        "colorscale": [
                          [
                            0,
                            "#0d0887"
                          ],
                          [
                            0.1111111111111111,
                            "#46039f"
                          ],
                          [
                            0.2222222222222222,
                            "#7201a8"
                          ],
                          [
                            0.3333333333333333,
                            "#9c179e"
                          ],
                          [
                            0.4444444444444444,
                            "#bd3786"
                          ],
                          [
                            0.5555555555555556,
                            "#d8576b"
                          ],
                          [
                            0.6666666666666666,
                            "#ed7953"
                          ],
                          [
                            0.7777777777777778,
                            "#fb9f3a"
                          ],
                          [
                            0.8888888888888888,
                            "#fdca26"
                          ],
                          [
                            1,
                            "#f0f921"
                          ]
                        ],
                        "type": "heatmap"
                      }
                    ],
                    "heatmapgl": [
                      {
                        "colorbar": {
                          "outlinewidth": 0,
                          "ticks": ""
                        },
                        "colorscale": [
                          [
                            0,
                            "#0d0887"
                          ],
                          [
                            0.1111111111111111,
                            "#46039f"
                          ],
                          [
                            0.2222222222222222,
                            "#7201a8"
                          ],
                          [
                            0.3333333333333333,
                            "#9c179e"
                          ],
                          [
                            0.4444444444444444,
                            "#bd3786"
                          ],
                          [
                            0.5555555555555556,
                            "#d8576b"
                          ],
                          [
                            0.6666666666666666,
                            "#ed7953"
                          ],
                          [
                            0.7777777777777778,
                            "#fb9f3a"
                          ],
                          [
                            0.8888888888888888,
                            "#fdca26"
                          ],
                          [
                            1,
                            "#f0f921"
                          ]
                        ],
                        "type": "heatmapgl"
                      }
                    ],
                    "histogram": [
                      {
                        "marker": {
                          "pattern": {
                            "fillmode": "overlay",
                            "size": 10,
                            "solidity": 0.2
                          }
                        },
                        "type": "histogram"
                      }
                    ],
                    "histogram2d": [
                      {
                        "colorbar": {
                          "outlinewidth": 0,
                          "ticks": ""
                        },
                        "colorscale": [
                          [
                            0,
                            "#0d0887"
                          ],
                          [
                            0.1111111111111111,
                            "#46039f"
                          ],
                          [
                            0.2222222222222222,
                            "#7201a8"
                          ],
                          [
                            0.3333333333333333,
                            "#9c179e"
                          ],
                          [
                            0.4444444444444444,
                            "#bd3786"
                          ],
                          [
                            0.5555555555555556,
                            "#d8576b"
                          ],
                          [
                            0.6666666666666666,
                            "#ed7953"
                          ],
                          [
                            0.7777777777777778,
                            "#fb9f3a"
                          ],
                          [
                            0.8888888888888888,
                            "#fdca26"
                          ],
                          [
                            1,
                            "#f0f921"
                          ]
                        ],
                        "type": "histogram2d"
                      }
                    ],
                    "histogram2dcontour": [
                      {
                        "colorbar": {
                          "outlinewidth": 0,
                          "ticks": ""
                        },
                        "colorscale": [
                          [
                            0,
                            "#0d0887"
                          ],
                          [
                            0.1111111111111111,
                            "#46039f"
                          ],
                          [
                            0.2222222222222222,
                            "#7201a8"
                          ],
                          [
                            0.3333333333333333,
                            "#9c179e"
                          ],
                          [
                            0.4444444444444444,
                            "#bd3786"
                          ],
                          [
                            0.5555555555555556,
                            "#d8576b"
                          ],
                          [
                            0.6666666666666666,
                            "#ed7953"
                          ],
                          [
                            0.7777777777777778,
                            "#fb9f3a"
                          ],
                          [
                            0.8888888888888888,
                            "#fdca26"
                          ],
                          [
                            1,
                            "#f0f921"
                          ]
                        ],
                        "type": "histogram2dcontour"
                      }
                    ],
                    "mesh3d": [
                      {
                        "colorbar": {
                          "outlinewidth": 0,
                          "ticks": ""
                        },
                        "type": "mesh3d"
                      }
                    ],
                    "parcoords": [
                      {
                        "line": {
                          "colorbar": {
                            "outlinewidth": 0,
                            "ticks": ""
                          }
                        },
                        "type": "parcoords"
                      }
                    ],
                    "pie": [
                      {
                        "automargin": true,
                        "type": "pie"
                      }
                    ],
                    "scatter": [
                      {
                        "fillpattern": {
                          "fillmode": "overlay",
                          "size": 10,
                          "solidity": 0.2
                        },
                        "type": "scatter"
                      }
                    ],
                    "scatter3d": [
                      {
                        "line": {
                          "colorbar": {
                            "outlinewidth": 0,
                            "ticks": ""
                          }
                        },
                        "marker": {
                          "colorbar": {
                            "outlinewidth": 0,
                            "ticks": ""
                          }
                        },
                        "type": "scatter3d"
                      }
                    ],
                    "scattercarpet": [
                      {
                        "marker": {
                          "colorbar": {
                            "outlinewidth": 0,
                            "ticks": ""
                          }
                        },
                        "type": "scattercarpet"
                      }
                    ],
                    "scattergeo": [
                      {
                        "marker": {
                          "colorbar": {
                            "outlinewidth": 0,
                            "ticks": ""
                          }
                        },
                        "type": "scattergeo"
                      }
                    ],
                    "scattergl": [
                      {
                        "marker": {
                          "colorbar": {
                            "outlinewidth": 0,
                            "ticks": ""
                          }
                        },
                        "type": "scattergl"
                      }
                    ],
                    "scattermapbox": [
                      {
                        "marker": {
                          "colorbar": {
                            "outlinewidth": 0,
                            "ticks": ""
                          }
                        },
                        "type": "scattermapbox"
                      }
                    ],
                    "scatterpolar": [
                      {
                        "marker": {
                          "colorbar": {
                            "outlinewidth": 0,
                            "ticks": ""
                          }
                        },
                        "type": "scatterpolar"
                      }
                    ],
                    "scatterpolargl": [
                      {
                        "marker": {
                          "colorbar": {
                            "outlinewidth": 0,
                            "ticks": ""
                          }
                        },
                        "type": "scatterpolargl"
                      }
                    ],
                    "scatterternary": [
                      {
                        "marker": {
                          "colorbar": {
                            "outlinewidth": 0,
                            "ticks": ""
                          }
                        },
                        "type": "scatterternary"
                      }
                    ],
                    "surface": [
                      {
                        "colorbar": {
                          "outlinewidth": 0,
                          "ticks": ""
                        },
                        "colorscale": [
                          [
                            0,
                            "#0d0887"
                          ],
                          [
                            0.1111111111111111,
                            "#46039f"
                          ],
                          [
                            0.2222222222222222,
                            "#7201a8"
                          ],
                          [
                            0.3333333333333333,
                            "#9c179e"
                          ],
                          [
                            0.4444444444444444,
                            "#bd3786"
                          ],
                          [
                            0.5555555555555556,
                            "#d8576b"
                          ],
                          [
                            0.6666666666666666,
                            "#ed7953"
                          ],
                          [
                            0.7777777777777778,
                            "#fb9f3a"
                          ],
                          [
                            0.8888888888888888,
                            "#fdca26"
                          ],
                          [
                            1,
                            "#f0f921"
                          ]
                        ],
                        "type": "surface"
                      }
                    ],
                    "table": [
                      {
                        "cells": {
                          "fill": {
                            "color": "#EBF0F8"
                          },
                          "line": {
                            "color": "white"
                          }
                        },
                        "header": {
                          "fill": {
                            "color": "#C8D4E3"
                          },
                          "line": {
                            "color": "white"
                          }
                        },
                        "type": "table"
                      }
                    ]
                  },
                  "layout": {
                    "annotationdefaults": {
                      "arrowcolor": "#2a3f5f",
                      "arrowhead": 0,
                      "arrowwidth": 1
                    },
                    "autotypenumbers": "strict",
                    "coloraxis": {
                      "colorbar": {
                        "outlinewidth": 0,
                        "ticks": ""
                      }
                    },
                    "colorscale": {
                      "diverging": [
                        [
                          0,
                          "#8e0152"
                        ],
                        [
                          0.1,
                          "#c51b7d"
                        ],
                        [
                          0.2,
                          "#de77ae"
                        ],
                        [
                          0.3,
                          "#f1b6da"
                        ],
                        [
                          0.4,
                          "#fde0ef"
                        ],
                        [
                          0.5,
                          "#f7f7f7"
                        ],
                        [
                          0.6,
                          "#e6f5d0"
                        ],
                        [
                          0.7,
                          "#b8e186"
                        ],
                        [
                          0.8,
                          "#7fbc41"
                        ],
                        [
                          0.9,
                          "#4d9221"
                        ],
                        [
                          1,
                          "#276419"
                        ]
                      ],
                      "sequential": [
                        [
                          0,
                          "#0d0887"
                        ],
                        [
                          0.1111111111111111,
                          "#46039f"
                        ],
                        [
                          0.2222222222222222,
                          "#7201a8"
                        ],
                        [
                          0.3333333333333333,
                          "#9c179e"
                        ],
                        [
                          0.4444444444444444,
                          "#bd3786"
                        ],
                        [
                          0.5555555555555556,
                          "#d8576b"
                        ],
                        [
                          0.6666666666666666,
                          "#ed7953"
                        ],
                        [
                          0.7777777777777778,
                          "#fb9f3a"
                        ],
                        [
                          0.8888888888888888,
                          "#fdca26"
                        ],
                        [
                          1,
                          "#f0f921"
                        ]
                      ],
                      "sequentialminus": [
                        [
                          0,
                          "#0d0887"
                        ],
                        [
                          0.1111111111111111,
                          "#46039f"
                        ],
                        [
                          0.2222222222222222,
                          "#7201a8"
                        ],
                        [
                          0.3333333333333333,
                          "#9c179e"
                        ],
                        [
                          0.4444444444444444,
                          "#bd3786"
                        ],
                        [
                          0.5555555555555556,
                          "#d8576b"
                        ],
                        [
                          0.6666666666666666,
                          "#ed7953"
                        ],
                        [
                          0.7777777777777778,
                          "#fb9f3a"
                        ],
                        [
                          0.8888888888888888,
                          "#fdca26"
                        ],
                        [
                          1,
                          "#f0f921"
                        ]
                      ]
                    },
                    "colorway": [
                      "#636efa",
                      "#EF553B",
                      "#00cc96",
                      "#ab63fa",
                      "#FFA15A",
                      "#19d3f3",
                      "#FF6692",
                      "#B6E880",
                      "#FF97FF",
                      "#FECB52"
                    ],
                    "font": {
                      "color": "#2a3f5f"
                    },
                    "geo": {
                      "bgcolor": "white",
                      "lakecolor": "white",
                      "landcolor": "#E5ECF6",
                      "showlakes": true,
                      "showland": true,
                      "subunitcolor": "white"
                    },
                    "hoverlabel": {
                      "align": "left"
                    },
                    "hovermode": "closest",
                    "mapbox": {
                      "style": "light"
                    },
                    "paper_bgcolor": "white",
                    "plot_bgcolor": "#E5ECF6",
                    "polar": {
                      "angularaxis": {
                        "gridcolor": "white",
                        "linecolor": "white",
                        "ticks": ""
                      },
                      "bgcolor": "#E5ECF6",
                      "radialaxis": {
                        "gridcolor": "white",
                        "linecolor": "white",
                        "ticks": ""
                      }
                    },
                    "scene": {
                      "xaxis": {
                        "backgroundcolor": "#E5ECF6",
                        "gridcolor": "white",
                        "gridwidth": 2,
                        "linecolor": "white",
                        "showbackground": true,
                        "ticks": "",
                        "zerolinecolor": "white"
                      },
                      "yaxis": {
                        "backgroundcolor": "#E5ECF6",
                        "gridcolor": "white",
                        "gridwidth": 2,
                        "linecolor": "white",
                        "showbackground": true,
                        "ticks": "",
                        "zerolinecolor": "white"
                      },
                      "zaxis": {
                        "backgroundcolor": "#E5ECF6",
                        "gridcolor": "white",
                        "gridwidth": 2,
                        "linecolor": "white",
                        "showbackground": true,
                        "ticks": "",
                        "zerolinecolor": "white"
                      }
                    },
                    "shapedefaults": {
                      "line": {
                        "color": "#2a3f5f"
                      }
                    },
                    "ternary": {
                      "aaxis": {
                        "gridcolor": "white",
                        "linecolor": "white",
                        "ticks": ""
                      },
                      "baxis": {
                        "gridcolor": "white",
                        "linecolor": "white",
                        "ticks": ""
                      },
                      "bgcolor": "#E5ECF6",
                      "caxis": {
                        "gridcolor": "white",
                        "linecolor": "white",
                        "ticks": ""
                      }
                    },
                    "title": {
                      "x": 0.05
                    },
                    "xaxis": {
                      "automargin": true,
                      "gridcolor": "white",
                      "linecolor": "white",
                      "ticks": "",
                      "title": {
                        "standoff": 15
                      },
                      "zerolinecolor": "white",
                      "zerolinewidth": 2
                    },
                    "yaxis": {
                      "automargin": true,
                      "gridcolor": "white",
                      "linecolor": "white",
                      "ticks": "",
                      "title": {
                        "standoff": 15
                      },
                      "zerolinecolor": "white",
                      "zerolinewidth": 2
                    }
                  }
                },
                "title": {
                  "text": "Correlation Matrix"
                },
                "width": 970
              }
            }
          },
          "metadata": {},
          "output_type": "display_data"
        }
      ],
      "source": [
        "df_corr = df_cars.corr()\n",
        "\n",
        "fig = go.Figure(\n",
        "    go.Heatmap(\n",
        "        x = df_corr.columns,\n",
        "        y = df_corr.index,\n",
        "        z = np.array(df_corr),\n",
        "        text=df_corr.values,\n",
        "        texttemplate='%{text:.2f}'\n",
        "    )\n",
        ")\n",
        "\n",
        "fig.update_layout(height=900, width=970, title_text=\"Correlation Matrix\")\n",
        "fig.show()"
      ]
    },
    {
      "cell_type": "markdown",
      "metadata": {},
      "source": [
        "#### Método de Tukey (univariado)"
      ]
    },
    {
      "cell_type": "markdown",
      "metadata": {},
      "source": [
        "Calcula o IQR para cada coluna"
      ]
    },
    {
      "cell_type": "code",
      "execution_count": 30,
      "metadata": {},
      "outputs": [
        {
          "data": {
            "text/plain": [
              "car_brand         18.0\n",
              "car_price      50000.0\n",
              "car_km         36391.5\n",
              "car_year           3.0\n",
              "car_engine        12.0\n",
              "car_gearbox        1.0\n",
              "car_fuel           0.0\n",
              "dtype: float64"
            ]
          },
          "execution_count": 30,
          "metadata": {},
          "output_type": "execute_result"
        }
      ],
      "source": [
        "q1 = df_cars.quantile(q=0.25)\n",
        "q3 = df_cars.quantile(q=0.75)\n",
        "iqr = q3 - q1\n",
        "iqr"
      ]
    },
    {
      "cell_type": "markdown",
      "metadata": {},
      "source": [
        "Remove outliers com base no preço e kilometragem do carro"
      ]
    },
    {
      "cell_type": "code",
      "execution_count": 31,
      "metadata": {},
      "outputs": [
        {
          "data": {
            "text/plain": [
              "981"
            ]
          },
          "execution_count": 31,
          "metadata": {},
          "output_type": "execute_result"
        }
      ],
      "source": [
        "df_cars_tukey = df_cars[(df_cars['car_price'] > (q1['car_price']-1.5*iqr['car_price'])) & (df_cars['car_price'] < (q3['car_price']+1.5*iqr['car_price']))]\n",
        "df_cars_tukey = df_cars_tukey[(df_cars_tukey['car_km'] > (q1['car_km']-1.5*iqr['car_km'])) & (df_cars_tukey['car_km'] < (q3['car_km']+1.5*iqr['car_km']))]\n",
        "len(df_cars_tukey)"
      ]
    },
    {
      "cell_type": "code",
      "execution_count": 32,
      "metadata": {},
      "outputs": [
        {
          "data": {
            "text/html": [
              "<div>\n",
              "<style scoped>\n",
              "    .dataframe tbody tr th:only-of-type {\n",
              "        vertical-align: middle;\n",
              "    }\n",
              "\n",
              "    .dataframe tbody tr th {\n",
              "        vertical-align: top;\n",
              "    }\n",
              "\n",
              "    .dataframe thead th {\n",
              "        text-align: right;\n",
              "    }\n",
              "</style>\n",
              "<table border=\"1\" class=\"dataframe\">\n",
              "  <thead>\n",
              "    <tr style=\"text-align: right;\">\n",
              "      <th></th>\n",
              "      <th>car_brand</th>\n",
              "      <th>car_price</th>\n",
              "      <th>car_km</th>\n",
              "      <th>car_year</th>\n",
              "      <th>car_engine</th>\n",
              "      <th>car_gearbox</th>\n",
              "      <th>car_fuel</th>\n",
              "    </tr>\n",
              "  </thead>\n",
              "  <tbody>\n",
              "    <tr>\n",
              "      <th>0</th>\n",
              "      <td>8</td>\n",
              "      <td>125990.0</td>\n",
              "      <td>7521.0</td>\n",
              "      <td>2022</td>\n",
              "      <td>29</td>\n",
              "      <td>0</td>\n",
              "      <td>1.0</td>\n",
              "    </tr>\n",
              "    <tr>\n",
              "      <th>1</th>\n",
              "      <td>1</td>\n",
              "      <td>128980.0</td>\n",
              "      <td>40000.0</td>\n",
              "      <td>2018</td>\n",
              "      <td>6</td>\n",
              "      <td>0</td>\n",
              "      <td>2.0</td>\n",
              "    </tr>\n",
              "    <tr>\n",
              "      <th>2</th>\n",
              "      <td>6</td>\n",
              "      <td>70990.0</td>\n",
              "      <td>40686.0</td>\n",
              "      <td>2023</td>\n",
              "      <td>0</td>\n",
              "      <td>1</td>\n",
              "      <td>2.0</td>\n",
              "    </tr>\n",
              "    <tr>\n",
              "      <th>3</th>\n",
              "      <td>6</td>\n",
              "      <td>79990.0</td>\n",
              "      <td>57643.0</td>\n",
              "      <td>2022</td>\n",
              "      <td>1</td>\n",
              "      <td>0</td>\n",
              "      <td>2.0</td>\n",
              "    </tr>\n",
              "    <tr>\n",
              "      <th>4</th>\n",
              "      <td>29</td>\n",
              "      <td>77990.0</td>\n",
              "      <td>29000.0</td>\n",
              "      <td>2023</td>\n",
              "      <td>10</td>\n",
              "      <td>1</td>\n",
              "      <td>2.0</td>\n",
              "    </tr>\n",
              "  </tbody>\n",
              "</table>\n",
              "</div>"
            ],
            "text/plain": [
              "   car_brand  car_price   car_km  car_year  car_engine  car_gearbox  car_fuel\n",
              "0          8   125990.0   7521.0      2022          29            0       1.0\n",
              "1          1   128980.0  40000.0      2018           6            0       2.0\n",
              "2          6    70990.0  40686.0      2023           0            1       2.0\n",
              "3          6    79990.0  57643.0      2022           1            0       2.0\n",
              "4         29    77990.0  29000.0      2023          10            1       2.0"
            ]
          },
          "execution_count": 32,
          "metadata": {},
          "output_type": "execute_result"
        }
      ],
      "source": [
        "df_cars_tukey.head()"
      ]
    },
    {
      "cell_type": "markdown",
      "metadata": {},
      "source": [
        "#### Razão de Duas Variáveis (bivariado)"
      ]
    },
    {
      "cell_type": "code",
      "execution_count": 33,
      "metadata": {},
      "outputs": [
        {
          "data": {
            "application/vnd.plotly.v1+json": {
              "config": {
                "plotlyServerURL": "https://plot.ly"
              },
              "data": [
                {
                  "mode": "markers",
                  "type": "scatter",
                  "x": [
                    125990,
                    128980,
                    70990,
                    79990,
                    77990,
                    117990,
                    229980,
                    158990,
                    65990,
                    239990,
                    70990,
                    69990,
                    83990,
                    82990,
                    69990,
                    103990,
                    99990,
                    69690,
                    73990,
                    69990,
                    136980,
                    136980,
                    78990,
                    73990,
                    70900,
                    74800,
                    81990,
                    70800,
                    71990,
                    71990,
                    249990,
                    68800,
                    82990,
                    67990,
                    83990,
                    105990,
                    68990,
                    69990,
                    112990,
                    65990,
                    79990,
                    72990,
                    74490,
                    69990,
                    68990,
                    70990,
                    79990,
                    68990,
                    143980,
                    242990,
                    81990,
                    69990,
                    69990,
                    70990,
                    99990,
                    80990,
                    136990,
                    74990,
                    81990,
                    106990,
                    73990,
                    73990,
                    73990,
                    73990,
                    65990,
                    116990,
                    72990,
                    71990,
                    100990,
                    71990,
                    69990,
                    73990,
                    75990,
                    70990,
                    81990,
                    92990,
                    106990,
                    49990,
                    93990,
                    89990,
                    107990,
                    61990,
                    66990,
                    73990,
                    124990,
                    53990,
                    82990,
                    107800,
                    106990,
                    74990,
                    64990,
                    77990,
                    55990,
                    51990,
                    74800,
                    99990,
                    56990,
                    72990,
                    44800,
                    92990,
                    86990,
                    139990,
                    83990,
                    55800,
                    73490,
                    60800,
                    82990,
                    104990,
                    79800,
                    110990,
                    112990,
                    167990,
                    125990,
                    79800,
                    58800,
                    71990,
                    70990,
                    169990,
                    115990,
                    68990,
                    75990,
                    57990,
                    112990,
                    108990,
                    101990,
                    71990,
                    68990,
                    69990,
                    112990,
                    124990,
                    69990,
                    69990,
                    68990,
                    75990,
                    90990,
                    60990,
                    110990,
                    74990,
                    53800,
                    149990,
                    72990,
                    81990,
                    77990,
                    77800,
                    176990,
                    66800,
                    49800,
                    43990,
                    72990,
                    59990,
                    146990,
                    60990,
                    140990,
                    83990,
                    75990,
                    51990,
                    71990,
                    92990,
                    115990,
                    59990,
                    94990,
                    48990,
                    71990,
                    117990,
                    90990,
                    45800,
                    73990,
                    59990,
                    60990,
                    92990,
                    85990,
                    61990,
                    80990,
                    81990,
                    123990,
                    119990,
                    161900,
                    119900,
                    71900,
                    91900,
                    45900,
                    64990,
                    49900,
                    81900,
                    52900,
                    59900,
                    106900,
                    88900,
                    156900,
                    50990,
                    98990,
                    98990,
                    129900,
                    46990,
                    91900,
                    53900,
                    78900,
                    39990,
                    65990,
                    84990,
                    54990,
                    75990,
                    113900,
                    69900,
                    89900,
                    73900,
                    75900,
                    129900,
                    35900,
                    60900,
                    40900,
                    98990,
                    41990,
                    49990,
                    41990,
                    64990,
                    89900,
                    105900,
                    48990,
                    89900,
                    48990,
                    49990,
                    65990,
                    41900,
                    99990,
                    39990,
                    114990,
                    139990,
                    89990,
                    89990,
                    92990,
                    75990,
                    125990,
                    129900,
                    219990,
                    139990,
                    74990,
                    119990,
                    85900,
                    79900,
                    115990,
                    229990,
                    79990,
                    149990,
                    85900,
                    129990,
                    95900,
                    115990,
                    105900,
                    104900,
                    139900,
                    85900,
                    119900,
                    98990,
                    142900,
                    249990,
                    99900,
                    89900,
                    90990,
                    69900,
                    74990,
                    62990,
                    89900,
                    115900,
                    121900,
                    89900,
                    81900,
                    78900,
                    95900,
                    59990,
                    78900,
                    55990,
                    90990,
                    239900,
                    89900,
                    150990,
                    129990,
                    236990,
                    219990,
                    89990,
                    99990,
                    118990,
                    230990,
                    117990,
                    207990,
                    93980,
                    66480,
                    103480,
                    54980,
                    55980,
                    110980,
                    112980,
                    49980,
                    63980,
                    88980,
                    61980,
                    57980,
                    55980,
                    48970,
                    148980,
                    114980,
                    84480,
                    98980,
                    47980,
                    73480,
                    101980,
                    74980,
                    108480,
                    129980,
                    86980,
                    97980,
                    112980,
                    52980,
                    59980,
                    47980,
                    62980,
                    38980,
                    97980,
                    73980,
                    46980,
                    62980,
                    55980,
                    47980,
                    54980,
                    74980,
                    49480,
                    47980,
                    54980,
                    74980,
                    55980,
                    72980,
                    51980,
                    73980,
                    79990,
                    86000,
                    90000,
                    93990,
                    96990,
                    118990,
                    122990,
                    131000,
                    105900,
                    78900,
                    46900,
                    94900,
                    91900,
                    64890,
                    48900,
                    76990,
                    79900,
                    68900,
                    58900,
                    56900,
                    48490,
                    78900,
                    84900,
                    139900,
                    57900,
                    59900,
                    52490,
                    60900,
                    61900,
                    74900,
                    60900,
                    56900,
                    48900,
                    205900,
                    123900,
                    72990,
                    72000,
                    53990,
                    52990,
                    54900,
                    31990,
                    36990,
                    39990,
                    74990,
                    36990,
                    54900,
                    155900,
                    101900,
                    83990,
                    110990,
                    146990,
                    112900,
                    52990,
                    39990,
                    71900,
                    68900,
                    58990,
                    54900,
                    35990,
                    60990,
                    41990,
                    51900,
                    44990,
                    75990,
                    50990,
                    46990,
                    34990,
                    106870,
                    86990,
                    45990,
                    82990,
                    78990,
                    71990,
                    61990,
                    51870,
                    125990,
                    92870,
                    53870,
                    48900,
                    132900,
                    63900,
                    54900,
                    36900,
                    54870,
                    52870,
                    49870,
                    79870,
                    55870,
                    41990,
                    77990,
                    59990,
                    55990,
                    103990,
                    99990,
                    90990,
                    55990,
                    58990,
                    129900,
                    95900,
                    89900,
                    83900,
                    144870,
                    37900,
                    229900,
                    139900,
                    138990,
                    128990,
                    67990,
                    164990,
                    119990,
                    89990,
                    124900,
                    173900,
                    119870,
                    101990,
                    97870,
                    93990,
                    84990,
                    79870,
                    75990,
                    75870,
                    55870,
                    52870,
                    92990,
                    65990,
                    53990,
                    48900,
                    47900,
                    45900,
                    42900,
                    95990,
                    82990,
                    59990,
                    49990,
                    46990,
                    749900,
                    649900,
                    528900,
                    439900,
                    399900,
                    379900,
                    319900,
                    264900,
                    229900,
                    224900,
                    207900,
                    39990,
                    95997,
                    968900,
                    795900,
                    599900,
                    489900,
                    339900,
                    248900,
                    184900,
                    149900,
                    118997,
                    109997,
                    96990,
                    96900,
                    96900,
                    91990,
                    89997,
                    71990,
                    61997,
                    61997,
                    56900,
                    78997,
                    75900,
                    68900,
                    63997,
                    41997,
                    32900,
                    248900,
                    135990,
                    83990,
                    81990,
                    76990,
                    69990,
                    68990,
                    65990,
                    59990,
                    52990,
                    52990,
                    42990,
                    104990,
                    89990,
                    87990,
                    74990,
                    56900,
                    55990,
                    798900,
                    749900,
                    715900,
                    569900,
                    508900,
                    319900,
                    289900,
                    258900,
                    199900,
                    199900,
                    184900,
                    130900,
                    112900,
                    107900,
                    174900,
                    169900,
                    155900,
                    144997,
                    139900,
                    119900,
                    114900,
                    108900,
                    105997,
                    101997,
                    96997,
                    93997,
                    89990,
                    88900,
                    84997,
                    80900,
                    78997,
                    76900,
                    74900,
                    117990,
                    211900,
                    77990,
                    207900,
                    199900,
                    197900,
                    162900,
                    154900,
                    153900,
                    149900,
                    142900,
                    138900,
                    136900,
                    136900,
                    133900,
                    132900,
                    129900,
                    125900,
                    121900,
                    119900,
                    119900,
                    117900,
                    83990,
                    855900,
                    679900,
                    599900,
                    479900,
                    397900,
                    308900,
                    299900,
                    299900,
                    289900,
                    279900,
                    279900,
                    278900,
                    258900,
                    258900,
                    249900,
                    248900,
                    239900,
                    229900,
                    104900,
                    102900,
                    102900,
                    99900,
                    98900,
                    94900,
                    92900,
                    85900,
                    79990,
                    75900,
                    74900,
                    69900,
                    68900,
                    68900,
                    58900,
                    57900,
                    52900,
                    49900,
                    49900,
                    158900,
                    89990,
                    84990,
                    84990,
                    81990,
                    43990,
                    709900,
                    569900,
                    269900,
                    135900,
                    133900,
                    132900,
                    91900,
                    69997,
                    65997,
                    64997,
                    58990,
                    69990,
                    59900,
                    58990,
                    55990,
                    42900,
                    26990,
                    130990,
                    95900,
                    89990,
                    86990,
                    78900,
                    72900,
                    69900,
                    68900,
                    62280,
                    60000,
                    59900,
                    59804,
                    54900,
                    62900,
                    58990,
                    58990,
                    56900,
                    50990,
                    49900,
                    49900,
                    46990,
                    43900,
                    42900,
                    41990,
                    40900,
                    40900,
                    39900,
                    38990,
                    38990,
                    28900,
                    109900,
                    84990,
                    77990,
                    116900,
                    114900,
                    109900,
                    96900,
                    92990,
                    86900,
                    85900,
                    80990,
                    77900,
                    75990,
                    73990,
                    72900,
                    69900,
                    69900,
                    69900,
                    69900,
                    68990,
                    64990,
                    63900,
                    68990,
                    66990,
                    43990,
                    43990,
                    36990,
                    91990,
                    84990,
                    78990,
                    76990,
                    76990,
                    76900,
                    68990,
                    58990,
                    58990,
                    58990,
                    46990,
                    44990,
                    58990,
                    58900,
                    56990,
                    49900,
                    48990,
                    38990,
                    33990,
                    32990,
                    25990,
                    99900,
                    89990,
                    82990,
                    82990,
                    64990,
                    54990,
                    45990,
                    40990,
                    30990,
                    25990,
                    81990,
                    62990,
                    47990,
                    78900,
                    49990,
                    48990,
                    47990,
                    37990,
                    28900,
                    175900,
                    88900,
                    86900,
                    79990,
                    77900,
                    76900,
                    75997,
                    64900,
                    58900,
                    56900,
                    45990,
                    91990,
                    77990,
                    74990,
                    69900,
                    61900,
                    175900,
                    74990,
                    74900,
                    69990,
                    61990,
                    60990,
                    51990,
                    51990,
                    467900,
                    198990,
                    94900,
                    82990,
                    77900,
                    74990,
                    59990,
                    57990,
                    315900,
                    79990,
                    52990,
                    43800,
                    130990,
                    68900,
                    59990,
                    57990,
                    54990,
                    52990,
                    50990,
                    47990,
                    639900,
                    459900,
                    254900,
                    218900,
                    152900,
                    126900,
                    91870,
                    87990,
                    78997,
                    62900,
                    61990,
                    59900,
                    57990,
                    45990,
                    35990,
                    33990,
                    164900,
                    146900,
                    121900,
                    95900,
                    86997,
                    83990,
                    80990,
                    64997,
                    63900,
                    54997,
                    48490,
                    39990,
                    38990,
                    98990,
                    75900,
                    65900,
                    62990,
                    62900,
                    58900,
                    50990,
                    39990,
                    38990,
                    33990,
                    30990,
                    24990,
                    91900,
                    78990,
                    77990,
                    74900,
                    71990,
                    43990,
                    92990,
                    61990,
                    57990,
                    77990,
                    64990,
                    109990,
                    92990,
                    83900,
                    72900,
                    28990,
                    88990,
                    78990,
                    69990,
                    64900,
                    55990,
                    54990,
                    49990,
                    68900,
                    74990,
                    36990,
                    779900,
                    539900,
                    518900,
                    499900,
                    428900,
                    419900,
                    379900,
                    369900,
                    238900,
                    198900,
                    184900,
                    168900,
                    139900,
                    115900,
                    114900,
                    83900,
                    71900,
                    62990,
                    45900,
                    130990,
                    106990,
                    26990,
                    112900,
                    304990,
                    111990,
                    89990,
                    35990,
                    99990,
                    77990,
                    72990,
                    368900,
                    75990,
                    59900,
                    57990,
                    104990,
                    107990,
                    70990,
                    48990,
                    44900,
                    82990,
                    48990,
                    71990,
                    69990,
                    67990,
                    67990,
                    66990,
                    65990,
                    65990,
                    54990,
                    53990,
                    52990,
                    49990,
                    134990,
                    109990,
                    95990,
                    83990,
                    64990,
                    56990,
                    66990,
                    49990,
                    101990,
                    98990,
                    96990,
                    94990,
                    90990,
                    81990,
                    78990,
                    76990,
                    70990,
                    64900,
                    60990,
                    57990,
                    53990,
                    46990,
                    45990,
                    39990,
                    38990,
                    34990,
                    32990,
                    29990,
                    75900,
                    73900,
                    67990,
                    64990,
                    52990,
                    49990,
                    49990,
                    48990,
                    39900,
                    220900,
                    138990,
                    109900,
                    59900,
                    56900,
                    46900,
                    33990,
                    75900,
                    53990,
                    46990,
                    33900,
                    26990,
                    133990,
                    129900,
                    109900,
                    85900,
                    74900,
                    69990,
                    69900,
                    59990,
                    59900,
                    58990,
                    40990,
                    37990,
                    37990,
                    185900,
                    129900,
                    129900,
                    149990,
                    131900,
                    79900,
                    71900,
                    47900,
                    73900,
                    48990,
                    130990,
                    75990,
                    99990,
                    57900,
                    61900,
                    29900,
                    49990,
                    550990,
                    299990,
                    116990,
                    74990,
                    559990,
                    269990,
                    113900,
                    109900,
                    53900,
                    45900,
                    399950,
                    274950,
                    159900,
                    155900,
                    135900,
                    109900,
                    79900,
                    61900,
                    389950,
                    77990,
                    67900,
                    75990,
                    73900,
                    51990,
                    81990,
                    49990,
                    160990,
                    77900,
                    74990,
                    74990,
                    66990,
                    119990,
                    259900,
                    91990,
                    82990,
                    59900,
                    125900,
                    139990,
                    235900,
                    131900,
                    319900,
                    135900,
                    135900,
                    489950,
                    269950,
                    179900,
                    130990,
                    129990,
                    101990,
                    98990,
                    74990,
                    71990,
                    129990,
                    124990,
                    123990,
                    104990,
                    99990,
                    95990,
                    81990,
                    79990,
                    77990,
                    74990,
                    73990,
                    73990,
                    73990,
                    364990,
                    80990,
                    74900,
                    58990,
                    57990,
                    56990,
                    53990,
                    52990,
                    52990,
                    51900,
                    48990,
                    47990,
                    47990,
                    42990,
                    87900,
                    146990,
                    113990,
                    112990,
                    103990,
                    89990,
                    86990,
                    79990,
                    75990,
                    63990,
                    59990,
                    48990,
                    42990,
                    136990,
                    78990,
                    76990,
                    68990,
                    67990,
                    57990,
                    56990,
                    47990,
                    112990,
                    90990,
                    89990,
                    74990,
                    59990,
                    37990,
                    129990,
                    89990,
                    75990,
                    70990,
                    47990,
                    235990,
                    76990,
                    74990,
                    71990,
                    70990,
                    98990,
                    95990,
                    40990,
                    73990,
                    79990,
                    76990,
                    44990,
                    46990
                  ],
                  "y": [
                    7521,
                    40000,
                    40686,
                    57643,
                    29000,
                    63379,
                    32000,
                    40848,
                    77054,
                    19253,
                    49673,
                    24359,
                    12451,
                    7943,
                    61149,
                    20051,
                    73729,
                    55147,
                    69806,
                    58513,
                    3535,
                    5077,
                    27194,
                    48216,
                    68698,
                    48758,
                    44138,
                    80905,
                    40155,
                    44990,
                    26970,
                    101856,
                    28315,
                    37613,
                    20994,
                    68000,
                    55499,
                    53123,
                    10950,
                    84202,
                    38335,
                    23164,
                    45221,
                    30652,
                    46617,
                    62167,
                    62774,
                    49355,
                    8048,
                    41501,
                    49091,
                    51243,
                    38556,
                    53537,
                    6890,
                    14503,
                    1554,
                    35468,
                    45428,
                    24711,
                    49348,
                    44667,
                    34478,
                    30386,
                    49424,
                    41079,
                    25396,
                    34879,
                    55223,
                    39062,
                    62425,
                    26792,
                    36703,
                    46972,
                    50936,
                    68697,
                    60355,
                    58076,
                    76848,
                    34955,
                    22450,
                    49723,
                    45669,
                    65311,
                    19826,
                    51592,
                    58293,
                    25153,
                    21684,
                    49000,
                    41926,
                    24411,
                    47334,
                    40236,
                    68633,
                    35970,
                    41904,
                    15603,
                    47513,
                    21209,
                    26666,
                    947,
                    39515,
                    61506,
                    31102,
                    38900,
                    13319,
                    25077,
                    66600,
                    32217,
                    58892,
                    31112,
                    29022,
                    83457,
                    29937,
                    30815,
                    48047,
                    124000,
                    53070,
                    40185,
                    44561,
                    59615,
                    49981,
                    26738,
                    45476,
                    31423,
                    43098,
                    27021,
                    35435,
                    58669,
                    58114,
                    63524,
                    45229,
                    47400,
                    25150,
                    77514,
                    43339,
                    69505,
                    97696,
                    60161,
                    21859,
                    13649,
                    51414,
                    101618,
                    48959,
                    91539,
                    85413,
                    47216,
                    34756,
                    46700,
                    43356,
                    37574,
                    82400,
                    26893,
                    9389,
                    51283,
                    50000,
                    24167,
                    31287,
                    47284,
                    29448,
                    43926,
                    40205,
                    18459,
                    49984,
                    56127,
                    52893,
                    66566,
                    63720,
                    43165,
                    26210,
                    28794,
                    60084,
                    66266,
                    34270,
                    17984,
                    21183,
                    10623,
                    9640,
                    25708,
                    46982,
                    12148,
                    7760,
                    53926,
                    19510,
                    53689,
                    46136,
                    6511,
                    16324,
                    36023,
                    35798,
                    66463,
                    54965,
                    35898,
                    14977,
                    24776,
                    13847,
                    75616,
                    47491,
                    61344,
                    105571,
                    39688,
                    4291,
                    37915,
                    18505,
                    15811,
                    77106,
                    61382,
                    59802,
                    34541,
                    43386,
                    7833,
                    47946,
                    40079,
                    52745,
                    62853,
                    67629,
                    16553,
                    66044,
                    55020,
                    66934,
                    24153,
                    21039,
                    55582,
                    34000,
                    58738,
                    30995,
                    16793,
                    6751,
                    68669,
                    16004,
                    75149,
                    10175,
                    13175,
                    716,
                    111,
                    7818,
                    80044,
                    59563,
                    68739,
                    14659,
                    63269,
                    13222,
                    28584,
                    33903,
                    24027,
                    62501,
                    41510,
                    63920,
                    36153,
                    54008,
                    59929,
                    35138,
                    54313,
                    27644,
                    11221,
                    57240,
                    53292,
                    44760,
                    66443,
                    2844,
                    46345,
                    67787,
                    39541,
                    32553,
                    23711,
                    43887,
                    53178,
                    75239,
                    54472,
                    63160,
                    42317,
                    48200,
                    1000,
                    111,
                    20215,
                    19865,
                    104671,
                    267,
                    43200,
                    33543,
                    24019,
                    61176,
                    44600,
                    23296,
                    41621,
                    57501,
                    57822,
                    55543,
                    37101,
                    37091,
                    28381,
                    39511,
                    50431,
                    61523,
                    53011,
                    32581,
                    46971,
                    75263,
                    2931,
                    9336,
                    45283,
                    61462,
                    51472,
                    45691,
                    27701,
                    15941,
                    42061,
                    19861,
                    38571,
                    33692,
                    39361,
                    49311,
                    41871,
                    36411,
                    47531,
                    46901,
                    33411,
                    47581,
                    60243,
                    50831,
                    25631,
                    52577,
                    37321,
                    37821,
                    49342,
                    47031,
                    52002,
                    21991,
                    42891,
                    39351,
                    46183,
                    33522,
                    3902,
                    3530,
                    1491,
                    7738,
                    2312,
                    3902,
                    16902,
                    12902,
                    64553,
                    44357,
                    13183,
                    32319,
                    43712,
                    75354,
                    45200,
                    41254,
                    57070,
                    75,
                    61326,
                    74441,
                    71040,
                    35489,
                    41000,
                    15044,
                    68965,
                    41201,
                    43784,
                    51000,
                    47451,
                    63000,
                    57714,
                    54169,
                    72482,
                    52000,
                    37000,
                    50000,
                    64000,
                    45000,
                    60000,
                    36396,
                    127000,
                    91000,
                    94000,
                    88000,
                    92000,
                    41868,
                    75000,
                    47800,
                    89141,
                    53000,
                    74651,
                    21000,
                    45175,
                    131000,
                    70000,
                    0,
                    42596,
                    63000,
                    100879,
                    69721,
                    106036,
                    32000,
                    78452,
                    58465,
                    51596,
                    1,
                    85189,
                    67000,
                    20140,
                    54260,
                    22000,
                    47842,
                    35000,
                    32000,
                    64000,
                    11000,
                    59000,
                    38000,
                    113000,
                    46047,
                    35054,
                    69067,
                    109160,
                    60436,
                    38438,
                    101000,
                    55000,
                    88894,
                    65905,
                    59704,
                    14200,
                    49120,
                    59300,
                    56900,
                    82972,
                    104000,
                    48032,
                    34060,
                    36500,
                    65000,
                    92000,
                    55000,
                    138456,
                    34000,
                    38000,
                    43000,
                    22253,
                    25000,
                    42000,
                    14191,
                    46944,
                    16609,
                    38954,
                    40000,
                    38371,
                    31000,
                    44469,
                    11000,
                    54000,
                    61934,
                    37000,
                    88000,
                    80000,
                    0,
                    37000,
                    38000,
                    100000,
                    41000,
                    67000,
                    77000,
                    35000,
                    72113,
                    31836,
                    96977,
                    60531,
                    4990,
                    15511,
                    7911,
                    46272,
                    42522,
                    1941,
                    28500,
                    37212,
                    18900,
                    19346,
                    3000,
                    84109,
                    55099,
                    2611,
                    1500,
                    1433,
                    8250,
                    40599,
                    22411,
                    9340,
                    100,
                    147658,
                    116644,
                    15111,
                    55000,
                    6827,
                    70175,
                    40410,
                    52930,
                    60298,
                    43710,
                    78000,
                    104120,
                    64000,
                    88000,
                    76059,
                    85583,
                    115000,
                    35000,
                    36313,
                    79698,
                    97000,
                    84791,
                    57261,
                    45000,
                    26521,
                    80055,
                    50044,
                    69279,
                    92399,
                    39183,
                    88000,
                    11500,
                    37256,
                    88346,
                    51513,
                    281,
                    1000,
                    3651,
                    59000,
                    7390,
                    43708,
                    29260,
                    23825,
                    21522,
                    27522,
                    34476,
                    100,
                    58000,
                    22000,
                    100,
                    40450,
                    40000,
                    69086,
                    6425,
                    11221,
                    30828,
                    35000,
                    154074,
                    36923,
                    40780,
                    56622,
                    30525,
                    66088,
                    37636,
                    78430,
                    43261,
                    41254,
                    19127,
                    90189,
                    32000,
                    148223,
                    38100,
                    3000,
                    40600,
                    13369,
                    14000,
                    16737,
                    12774,
                    7540,
                    10800,
                    6539,
                    32000,
                    26671,
                    50000,
                    3300,
                    27497,
                    41258,
                    29673,
                    19536,
                    6605,
                    45962,
                    100,
                    750,
                    100,
                    14777,
                    28179,
                    20911,
                    3900,
                    9011,
                    8235,
                    9465,
                    9511,
                    22380,
                    20511,
                    21400,
                    70000,
                    53200,
                    17600,
                    40000,
                    69000,
                    75000,
                    48000,
                    47000,
                    33000,
                    29000,
                    64000,
                    14892,
                    39949,
                    94663,
                    52000,
                    26500,
                    78000,
                    38000,
                    50000,
                    55000,
                    67000,
                    82000,
                    68000,
                    78000,
                    61671,
                    14800,
                    42274,
                    67234,
                    34335,
                    8660,
                    11011,
                    24000,
                    24046,
                    31511,
                    7597,
                    36000,
                    108252,
                    37143,
                    54693,
                    98374,
                    79333,
                    29216,
                    44586,
                    58000,
                    88000,
                    0,
                    90000,
                    72000,
                    49659,
                    0,
                    41583,
                    59000,
                    52476,
                    55,
                    25000,
                    114523,
                    188000,
                    47762,
                    55225,
                    39800,
                    47000,
                    50000,
                    56900,
                    60000,
                    72000,
                    113000,
                    68990,
                    92000,
                    122000,
                    90000,
                    76000,
                    0,
                    90000,
                    89000,
                    70000,
                    122000,
                    95000,
                    108000,
                    45000,
                    90000,
                    68000,
                    36000,
                    93000,
                    31000,
                    81000,
                    133000,
                    33000,
                    76000,
                    100000,
                    50000,
                    71000,
                    81000,
                    36000,
                    0,
                    84000,
                    73000,
                    52000,
                    63000,
                    66000,
                    89000,
                    60000,
                    87000,
                    60000,
                    79000,
                    50000,
                    50000,
                    51000,
                    50000,
                    9084,
                    50000,
                    30000,
                    59000,
                    30000,
                    80000,
                    70000,
                    40000,
                    58373,
                    0,
                    0,
                    88000,
                    0,
                    60000,
                    70000,
                    0,
                    0,
                    83458,
                    60000,
                    82000,
                    50000,
                    77000,
                    75000,
                    76000,
                    87000,
                    0,
                    66000,
                    40000,
                    72000,
                    35489,
                    36000,
                    47865,
                    78000,
                    64400,
                    43745,
                    120000,
                    87000,
                    61000,
                    0,
                    40000,
                    0,
                    78591,
                    0,
                    60000,
                    1,
                    59270,
                    38000,
                    44359,
                    37000,
                    52000,
                    38145,
                    80000,
                    56112,
                    42000,
                    82300,
                    25302,
                    74742,
                    27125,
                    46248,
                    51027,
                    60931,
                    6230,
                    67823,
                    18920,
                    59452,
                    22000,
                    0,
                    18000,
                    37213,
                    37352,
                    97462,
                    65512,
                    53000,
                    24125,
                    53268,
                    46293,
                    54800,
                    79220,
                    74277,
                    11611,
                    22511,
                    36900,
                    32821,
                    24219,
                    17250,
                    59000,
                    64089,
                    56788,
                    0,
                    60298,
                    73668,
                    49613,
                    30377,
                    0,
                    70594,
                    38877,
                    16670,
                    46430,
                    35000,
                    100146,
                    67000,
                    0,
                    54343,
                    66650,
                    81171,
                    75162,
                    103153,
                    142258,
                    72000,
                    49118,
                    0,
                    16000,
                    42000,
                    82429,
                    52000,
                    75000,
                    80000,
                    81000,
                    89000,
                    10000,
                    41800,
                    52000,
                    60000,
                    0,
                    57000,
                    68830,
                    29297,
                    50000,
                    44000,
                    300,
                    26300,
                    654000,
                    0,
                    30000,
                    50000,
                    0,
                    60000,
                    300,
                    33000,
                    27000,
                    71000,
                    74000,
                    78000,
                    0,
                    0,
                    0,
                    8361,
                    3000,
                    18522,
                    870,
                    23599,
                    14111,
                    10211,
                    22511,
                    33280,
                    3550,
                    9000,
                    38600,
                    29511,
                    2221,
                    9920,
                    67000,
                    70000,
                    82000,
                    51000,
                    23317,
                    101,
                    101,
                    117000,
                    68001,
                    26674,
                    41677,
                    96000,
                    71419,
                    86505,
                    34217,
                    21011,
                    72467,
                    140000,
                    57400,
                    17999,
                    21301,
                    31370,
                    55000,
                    62000,
                    31406,
                    0,
                    32000,
                    48000,
                    40682,
                    22000,
                    42000,
                    39000,
                    49000,
                    71000,
                    50000,
                    35000,
                    37000,
                    59000,
                    32000,
                    45000,
                    57000,
                    29000,
                    64000,
                    63000,
                    11000,
                    32788,
                    46000,
                    55537,
                    19207,
                    101,
                    40840,
                    101,
                    9700,
                    101,
                    45400,
                    101,
                    32129,
                    27383,
                    101,
                    101,
                    101,
                    101,
                    101,
                    101,
                    101,
                    0,
                    84000,
                    54000,
                    13688,
                    38944,
                    81349,
                    48083,
                    60000,
                    60000,
                    45000,
                    87000,
                    0,
                    69000,
                    0,
                    0,
                    98000,
                    37000,
                    50000,
                    93000,
                    89000,
                    0,
                    127,
                    58000,
                    90000,
                    84000,
                    61504,
                    0,
                    85010,
                    6500,
                    20000,
                    28000,
                    66000,
                    0,
                    50225,
                    35000,
                    0,
                    94000,
                    40000,
                    42,
                    93000,
                    97000,
                    85000,
                    3816,
                    70000,
                    11000,
                    65000,
                    101,
                    66000,
                    0,
                    103865,
                    51000,
                    2927,
                    22213,
                    43008,
                    4030,
                    15500,
                    38572,
                    26620,
                    31684,
                    21100,
                    21362,
                    0,
                    0,
                    45373,
                    21709,
                    28099,
                    67471,
                    60002,
                    43004,
                    0,
                    50000,
                    49706,
                    58000,
                    43619,
                    25000,
                    65000,
                    4026,
                    12072,
                    45882,
                    51000,
                    61000,
                    50000,
                    85421,
                    94900,
                    31000,
                    40000,
                    40977,
                    34447,
                    22000,
                    35522,
                    48322,
                    30542,
                    38699,
                    41138,
                    0,
                    50000,
                    49005,
                    12125,
                    37959,
                    23000,
                    3817,
                    27000,
                    42000,
                    30000,
                    25339,
                    42000,
                    37000,
                    85029,
                    27000,
                    58000,
                    37000,
                    34000,
                    75000,
                    61000,
                    66287,
                    62000,
                    6000,
                    40402,
                    63404,
                    38000,
                    35000,
                    71000,
                    48000,
                    44000,
                    42387,
                    38347,
                    32753,
                    31000,
                    50000,
                    59304,
                    43473,
                    30151,
                    39481,
                    32963,
                    27815,
                    46094,
                    48356,
                    64236,
                    58849,
                    63217,
                    67143,
                    102000,
                    54900,
                    34166,
                    54100,
                    31200,
                    91139,
                    49359,
                    52554,
                    64564,
                    55856,
                    23022,
                    37904,
                    72763,
                    68868,
                    32603,
                    67990,
                    84874,
                    39279,
                    22128,
                    26869,
                    36148,
                    32205,
                    50982,
                    70881,
                    16071,
                    12908,
                    82216,
                    39648,
                    67504,
                    35179,
                    26921,
                    76283,
                    77279,
                    49000
                  ]
                }
              ],
              "layout": {
                "height": 500,
                "template": {
                  "data": {
                    "bar": [
                      {
                        "error_x": {
                          "color": "#2a3f5f"
                        },
                        "error_y": {
                          "color": "#2a3f5f"
                        },
                        "marker": {
                          "line": {
                            "color": "#E5ECF6",
                            "width": 0.5
                          },
                          "pattern": {
                            "fillmode": "overlay",
                            "size": 10,
                            "solidity": 0.2
                          }
                        },
                        "type": "bar"
                      }
                    ],
                    "barpolar": [
                      {
                        "marker": {
                          "line": {
                            "color": "#E5ECF6",
                            "width": 0.5
                          },
                          "pattern": {
                            "fillmode": "overlay",
                            "size": 10,
                            "solidity": 0.2
                          }
                        },
                        "type": "barpolar"
                      }
                    ],
                    "carpet": [
                      {
                        "aaxis": {
                          "endlinecolor": "#2a3f5f",
                          "gridcolor": "white",
                          "linecolor": "white",
                          "minorgridcolor": "white",
                          "startlinecolor": "#2a3f5f"
                        },
                        "baxis": {
                          "endlinecolor": "#2a3f5f",
                          "gridcolor": "white",
                          "linecolor": "white",
                          "minorgridcolor": "white",
                          "startlinecolor": "#2a3f5f"
                        },
                        "type": "carpet"
                      }
                    ],
                    "choropleth": [
                      {
                        "colorbar": {
                          "outlinewidth": 0,
                          "ticks": ""
                        },
                        "type": "choropleth"
                      }
                    ],
                    "contour": [
                      {
                        "colorbar": {
                          "outlinewidth": 0,
                          "ticks": ""
                        },
                        "colorscale": [
                          [
                            0,
                            "#0d0887"
                          ],
                          [
                            0.1111111111111111,
                            "#46039f"
                          ],
                          [
                            0.2222222222222222,
                            "#7201a8"
                          ],
                          [
                            0.3333333333333333,
                            "#9c179e"
                          ],
                          [
                            0.4444444444444444,
                            "#bd3786"
                          ],
                          [
                            0.5555555555555556,
                            "#d8576b"
                          ],
                          [
                            0.6666666666666666,
                            "#ed7953"
                          ],
                          [
                            0.7777777777777778,
                            "#fb9f3a"
                          ],
                          [
                            0.8888888888888888,
                            "#fdca26"
                          ],
                          [
                            1,
                            "#f0f921"
                          ]
                        ],
                        "type": "contour"
                      }
                    ],
                    "contourcarpet": [
                      {
                        "colorbar": {
                          "outlinewidth": 0,
                          "ticks": ""
                        },
                        "type": "contourcarpet"
                      }
                    ],
                    "heatmap": [
                      {
                        "colorbar": {
                          "outlinewidth": 0,
                          "ticks": ""
                        },
                        "colorscale": [
                          [
                            0,
                            "#0d0887"
                          ],
                          [
                            0.1111111111111111,
                            "#46039f"
                          ],
                          [
                            0.2222222222222222,
                            "#7201a8"
                          ],
                          [
                            0.3333333333333333,
                            "#9c179e"
                          ],
                          [
                            0.4444444444444444,
                            "#bd3786"
                          ],
                          [
                            0.5555555555555556,
                            "#d8576b"
                          ],
                          [
                            0.6666666666666666,
                            "#ed7953"
                          ],
                          [
                            0.7777777777777778,
                            "#fb9f3a"
                          ],
                          [
                            0.8888888888888888,
                            "#fdca26"
                          ],
                          [
                            1,
                            "#f0f921"
                          ]
                        ],
                        "type": "heatmap"
                      }
                    ],
                    "heatmapgl": [
                      {
                        "colorbar": {
                          "outlinewidth": 0,
                          "ticks": ""
                        },
                        "colorscale": [
                          [
                            0,
                            "#0d0887"
                          ],
                          [
                            0.1111111111111111,
                            "#46039f"
                          ],
                          [
                            0.2222222222222222,
                            "#7201a8"
                          ],
                          [
                            0.3333333333333333,
                            "#9c179e"
                          ],
                          [
                            0.4444444444444444,
                            "#bd3786"
                          ],
                          [
                            0.5555555555555556,
                            "#d8576b"
                          ],
                          [
                            0.6666666666666666,
                            "#ed7953"
                          ],
                          [
                            0.7777777777777778,
                            "#fb9f3a"
                          ],
                          [
                            0.8888888888888888,
                            "#fdca26"
                          ],
                          [
                            1,
                            "#f0f921"
                          ]
                        ],
                        "type": "heatmapgl"
                      }
                    ],
                    "histogram": [
                      {
                        "marker": {
                          "pattern": {
                            "fillmode": "overlay",
                            "size": 10,
                            "solidity": 0.2
                          }
                        },
                        "type": "histogram"
                      }
                    ],
                    "histogram2d": [
                      {
                        "colorbar": {
                          "outlinewidth": 0,
                          "ticks": ""
                        },
                        "colorscale": [
                          [
                            0,
                            "#0d0887"
                          ],
                          [
                            0.1111111111111111,
                            "#46039f"
                          ],
                          [
                            0.2222222222222222,
                            "#7201a8"
                          ],
                          [
                            0.3333333333333333,
                            "#9c179e"
                          ],
                          [
                            0.4444444444444444,
                            "#bd3786"
                          ],
                          [
                            0.5555555555555556,
                            "#d8576b"
                          ],
                          [
                            0.6666666666666666,
                            "#ed7953"
                          ],
                          [
                            0.7777777777777778,
                            "#fb9f3a"
                          ],
                          [
                            0.8888888888888888,
                            "#fdca26"
                          ],
                          [
                            1,
                            "#f0f921"
                          ]
                        ],
                        "type": "histogram2d"
                      }
                    ],
                    "histogram2dcontour": [
                      {
                        "colorbar": {
                          "outlinewidth": 0,
                          "ticks": ""
                        },
                        "colorscale": [
                          [
                            0,
                            "#0d0887"
                          ],
                          [
                            0.1111111111111111,
                            "#46039f"
                          ],
                          [
                            0.2222222222222222,
                            "#7201a8"
                          ],
                          [
                            0.3333333333333333,
                            "#9c179e"
                          ],
                          [
                            0.4444444444444444,
                            "#bd3786"
                          ],
                          [
                            0.5555555555555556,
                            "#d8576b"
                          ],
                          [
                            0.6666666666666666,
                            "#ed7953"
                          ],
                          [
                            0.7777777777777778,
                            "#fb9f3a"
                          ],
                          [
                            0.8888888888888888,
                            "#fdca26"
                          ],
                          [
                            1,
                            "#f0f921"
                          ]
                        ],
                        "type": "histogram2dcontour"
                      }
                    ],
                    "mesh3d": [
                      {
                        "colorbar": {
                          "outlinewidth": 0,
                          "ticks": ""
                        },
                        "type": "mesh3d"
                      }
                    ],
                    "parcoords": [
                      {
                        "line": {
                          "colorbar": {
                            "outlinewidth": 0,
                            "ticks": ""
                          }
                        },
                        "type": "parcoords"
                      }
                    ],
                    "pie": [
                      {
                        "automargin": true,
                        "type": "pie"
                      }
                    ],
                    "scatter": [
                      {
                        "fillpattern": {
                          "fillmode": "overlay",
                          "size": 10,
                          "solidity": 0.2
                        },
                        "type": "scatter"
                      }
                    ],
                    "scatter3d": [
                      {
                        "line": {
                          "colorbar": {
                            "outlinewidth": 0,
                            "ticks": ""
                          }
                        },
                        "marker": {
                          "colorbar": {
                            "outlinewidth": 0,
                            "ticks": ""
                          }
                        },
                        "type": "scatter3d"
                      }
                    ],
                    "scattercarpet": [
                      {
                        "marker": {
                          "colorbar": {
                            "outlinewidth": 0,
                            "ticks": ""
                          }
                        },
                        "type": "scattercarpet"
                      }
                    ],
                    "scattergeo": [
                      {
                        "marker": {
                          "colorbar": {
                            "outlinewidth": 0,
                            "ticks": ""
                          }
                        },
                        "type": "scattergeo"
                      }
                    ],
                    "scattergl": [
                      {
                        "marker": {
                          "colorbar": {
                            "outlinewidth": 0,
                            "ticks": ""
                          }
                        },
                        "type": "scattergl"
                      }
                    ],
                    "scattermapbox": [
                      {
                        "marker": {
                          "colorbar": {
                            "outlinewidth": 0,
                            "ticks": ""
                          }
                        },
                        "type": "scattermapbox"
                      }
                    ],
                    "scatterpolar": [
                      {
                        "marker": {
                          "colorbar": {
                            "outlinewidth": 0,
                            "ticks": ""
                          }
                        },
                        "type": "scatterpolar"
                      }
                    ],
                    "scatterpolargl": [
                      {
                        "marker": {
                          "colorbar": {
                            "outlinewidth": 0,
                            "ticks": ""
                          }
                        },
                        "type": "scatterpolargl"
                      }
                    ],
                    "scatterternary": [
                      {
                        "marker": {
                          "colorbar": {
                            "outlinewidth": 0,
                            "ticks": ""
                          }
                        },
                        "type": "scatterternary"
                      }
                    ],
                    "surface": [
                      {
                        "colorbar": {
                          "outlinewidth": 0,
                          "ticks": ""
                        },
                        "colorscale": [
                          [
                            0,
                            "#0d0887"
                          ],
                          [
                            0.1111111111111111,
                            "#46039f"
                          ],
                          [
                            0.2222222222222222,
                            "#7201a8"
                          ],
                          [
                            0.3333333333333333,
                            "#9c179e"
                          ],
                          [
                            0.4444444444444444,
                            "#bd3786"
                          ],
                          [
                            0.5555555555555556,
                            "#d8576b"
                          ],
                          [
                            0.6666666666666666,
                            "#ed7953"
                          ],
                          [
                            0.7777777777777778,
                            "#fb9f3a"
                          ],
                          [
                            0.8888888888888888,
                            "#fdca26"
                          ],
                          [
                            1,
                            "#f0f921"
                          ]
                        ],
                        "type": "surface"
                      }
                    ],
                    "table": [
                      {
                        "cells": {
                          "fill": {
                            "color": "#EBF0F8"
                          },
                          "line": {
                            "color": "white"
                          }
                        },
                        "header": {
                          "fill": {
                            "color": "#C8D4E3"
                          },
                          "line": {
                            "color": "white"
                          }
                        },
                        "type": "table"
                      }
                    ]
                  },
                  "layout": {
                    "annotationdefaults": {
                      "arrowcolor": "#2a3f5f",
                      "arrowhead": 0,
                      "arrowwidth": 1
                    },
                    "autotypenumbers": "strict",
                    "coloraxis": {
                      "colorbar": {
                        "outlinewidth": 0,
                        "ticks": ""
                      }
                    },
                    "colorscale": {
                      "diverging": [
                        [
                          0,
                          "#8e0152"
                        ],
                        [
                          0.1,
                          "#c51b7d"
                        ],
                        [
                          0.2,
                          "#de77ae"
                        ],
                        [
                          0.3,
                          "#f1b6da"
                        ],
                        [
                          0.4,
                          "#fde0ef"
                        ],
                        [
                          0.5,
                          "#f7f7f7"
                        ],
                        [
                          0.6,
                          "#e6f5d0"
                        ],
                        [
                          0.7,
                          "#b8e186"
                        ],
                        [
                          0.8,
                          "#7fbc41"
                        ],
                        [
                          0.9,
                          "#4d9221"
                        ],
                        [
                          1,
                          "#276419"
                        ]
                      ],
                      "sequential": [
                        [
                          0,
                          "#0d0887"
                        ],
                        [
                          0.1111111111111111,
                          "#46039f"
                        ],
                        [
                          0.2222222222222222,
                          "#7201a8"
                        ],
                        [
                          0.3333333333333333,
                          "#9c179e"
                        ],
                        [
                          0.4444444444444444,
                          "#bd3786"
                        ],
                        [
                          0.5555555555555556,
                          "#d8576b"
                        ],
                        [
                          0.6666666666666666,
                          "#ed7953"
                        ],
                        [
                          0.7777777777777778,
                          "#fb9f3a"
                        ],
                        [
                          0.8888888888888888,
                          "#fdca26"
                        ],
                        [
                          1,
                          "#f0f921"
                        ]
                      ],
                      "sequentialminus": [
                        [
                          0,
                          "#0d0887"
                        ],
                        [
                          0.1111111111111111,
                          "#46039f"
                        ],
                        [
                          0.2222222222222222,
                          "#7201a8"
                        ],
                        [
                          0.3333333333333333,
                          "#9c179e"
                        ],
                        [
                          0.4444444444444444,
                          "#bd3786"
                        ],
                        [
                          0.5555555555555556,
                          "#d8576b"
                        ],
                        [
                          0.6666666666666666,
                          "#ed7953"
                        ],
                        [
                          0.7777777777777778,
                          "#fb9f3a"
                        ],
                        [
                          0.8888888888888888,
                          "#fdca26"
                        ],
                        [
                          1,
                          "#f0f921"
                        ]
                      ]
                    },
                    "colorway": [
                      "#636efa",
                      "#EF553B",
                      "#00cc96",
                      "#ab63fa",
                      "#FFA15A",
                      "#19d3f3",
                      "#FF6692",
                      "#B6E880",
                      "#FF97FF",
                      "#FECB52"
                    ],
                    "font": {
                      "color": "#2a3f5f"
                    },
                    "geo": {
                      "bgcolor": "white",
                      "lakecolor": "white",
                      "landcolor": "#E5ECF6",
                      "showlakes": true,
                      "showland": true,
                      "subunitcolor": "white"
                    },
                    "hoverlabel": {
                      "align": "left"
                    },
                    "hovermode": "closest",
                    "mapbox": {
                      "style": "light"
                    },
                    "paper_bgcolor": "white",
                    "plot_bgcolor": "#E5ECF6",
                    "polar": {
                      "angularaxis": {
                        "gridcolor": "white",
                        "linecolor": "white",
                        "ticks": ""
                      },
                      "bgcolor": "#E5ECF6",
                      "radialaxis": {
                        "gridcolor": "white",
                        "linecolor": "white",
                        "ticks": ""
                      }
                    },
                    "scene": {
                      "xaxis": {
                        "backgroundcolor": "#E5ECF6",
                        "gridcolor": "white",
                        "gridwidth": 2,
                        "linecolor": "white",
                        "showbackground": true,
                        "ticks": "",
                        "zerolinecolor": "white"
                      },
                      "yaxis": {
                        "backgroundcolor": "#E5ECF6",
                        "gridcolor": "white",
                        "gridwidth": 2,
                        "linecolor": "white",
                        "showbackground": true,
                        "ticks": "",
                        "zerolinecolor": "white"
                      },
                      "zaxis": {
                        "backgroundcolor": "#E5ECF6",
                        "gridcolor": "white",
                        "gridwidth": 2,
                        "linecolor": "white",
                        "showbackground": true,
                        "ticks": "",
                        "zerolinecolor": "white"
                      }
                    },
                    "shapedefaults": {
                      "line": {
                        "color": "#2a3f5f"
                      }
                    },
                    "ternary": {
                      "aaxis": {
                        "gridcolor": "white",
                        "linecolor": "white",
                        "ticks": ""
                      },
                      "baxis": {
                        "gridcolor": "white",
                        "linecolor": "white",
                        "ticks": ""
                      },
                      "bgcolor": "#E5ECF6",
                      "caxis": {
                        "gridcolor": "white",
                        "linecolor": "white",
                        "ticks": ""
                      }
                    },
                    "title": {
                      "x": 0.05
                    },
                    "xaxis": {
                      "automargin": true,
                      "gridcolor": "white",
                      "linecolor": "white",
                      "ticks": "",
                      "title": {
                        "standoff": 15
                      },
                      "zerolinecolor": "white",
                      "zerolinewidth": 2
                    },
                    "yaxis": {
                      "automargin": true,
                      "gridcolor": "white",
                      "linecolor": "white",
                      "ticks": "",
                      "title": {
                        "standoff": 15
                      },
                      "zerolinecolor": "white",
                      "zerolinewidth": 2
                    }
                  }
                },
                "title": {
                  "text": "Scatter Plot of car_price x car_km"
                },
                "width": 970
              }
            }
          },
          "metadata": {},
          "output_type": "display_data"
        }
      ],
      "source": [
        "# df_cars.plot.scatter(x='car_price',y='car_km')\n",
        "fig = go.Figure(\n",
        "    go.Scatter(\n",
        "        x=df_categories['car_price'], \n",
        "        y=df_categories['car_km'],\n",
        "        mode='markers',\n",
        "    )\n",
        ")\n",
        "\n",
        "fig.update_layout(height=500, width=970, title_text=\"Scatter Plot of car_price x car_km\")\n",
        "fig.show()"
      ]
    },
    {
      "cell_type": "code",
      "execution_count": 34,
      "metadata": {},
      "outputs": [
        {
          "data": {
            "text/html": [
              "<div>\n",
              "<style scoped>\n",
              "    .dataframe tbody tr th:only-of-type {\n",
              "        vertical-align: middle;\n",
              "    }\n",
              "\n",
              "    .dataframe tbody tr th {\n",
              "        vertical-align: top;\n",
              "    }\n",
              "\n",
              "    .dataframe thead th {\n",
              "        text-align: right;\n",
              "    }\n",
              "</style>\n",
              "<table border=\"1\" class=\"dataframe\">\n",
              "  <thead>\n",
              "    <tr style=\"text-align: right;\">\n",
              "      <th></th>\n",
              "      <th>car_brand</th>\n",
              "      <th>car_price</th>\n",
              "      <th>car_km</th>\n",
              "      <th>car_year</th>\n",
              "      <th>car_engine</th>\n",
              "      <th>car_gearbox</th>\n",
              "      <th>car_fuel</th>\n",
              "      <th>car_price_per_km</th>\n",
              "    </tr>\n",
              "  </thead>\n",
              "  <tbody>\n",
              "    <tr>\n",
              "      <th>0</th>\n",
              "      <td>8</td>\n",
              "      <td>125990.0</td>\n",
              "      <td>7521.0</td>\n",
              "      <td>2022</td>\n",
              "      <td>29</td>\n",
              "      <td>0</td>\n",
              "      <td>1.0</td>\n",
              "      <td>16.751762</td>\n",
              "    </tr>\n",
              "    <tr>\n",
              "      <th>1</th>\n",
              "      <td>1</td>\n",
              "      <td>128980.0</td>\n",
              "      <td>40000.0</td>\n",
              "      <td>2018</td>\n",
              "      <td>6</td>\n",
              "      <td>0</td>\n",
              "      <td>2.0</td>\n",
              "      <td>3.224500</td>\n",
              "    </tr>\n",
              "    <tr>\n",
              "      <th>2</th>\n",
              "      <td>6</td>\n",
              "      <td>70990.0</td>\n",
              "      <td>40686.0</td>\n",
              "      <td>2023</td>\n",
              "      <td>0</td>\n",
              "      <td>1</td>\n",
              "      <td>2.0</td>\n",
              "      <td>1.744826</td>\n",
              "    </tr>\n",
              "    <tr>\n",
              "      <th>3</th>\n",
              "      <td>6</td>\n",
              "      <td>79990.0</td>\n",
              "      <td>57643.0</td>\n",
              "      <td>2022</td>\n",
              "      <td>1</td>\n",
              "      <td>0</td>\n",
              "      <td>2.0</td>\n",
              "      <td>1.387679</td>\n",
              "    </tr>\n",
              "    <tr>\n",
              "      <th>4</th>\n",
              "      <td>29</td>\n",
              "      <td>77990.0</td>\n",
              "      <td>29000.0</td>\n",
              "      <td>2023</td>\n",
              "      <td>10</td>\n",
              "      <td>1</td>\n",
              "      <td>2.0</td>\n",
              "      <td>2.689310</td>\n",
              "    </tr>\n",
              "  </tbody>\n",
              "</table>\n",
              "</div>"
            ],
            "text/plain": [
              "   car_brand  car_price   car_km  car_year  car_engine  car_gearbox  car_fuel  \\\n",
              "0          8   125990.0   7521.0      2022          29            0       1.0   \n",
              "1          1   128980.0  40000.0      2018           6            0       2.0   \n",
              "2          6    70990.0  40686.0      2023           0            1       2.0   \n",
              "3          6    79990.0  57643.0      2022           1            0       2.0   \n",
              "4         29    77990.0  29000.0      2023          10            1       2.0   \n",
              "\n",
              "   car_price_per_km  \n",
              "0         16.751762  \n",
              "1          3.224500  \n",
              "2          1.744826  \n",
              "3          1.387679  \n",
              "4          2.689310  "
            ]
          },
          "execution_count": 34,
          "metadata": {},
          "output_type": "execute_result"
        }
      ],
      "source": [
        "df_cars_2_var = df_cars.copy()\n",
        "df_cars_2_var['car_price_per_km'] = df_cars_2_var['car_price'] / df_cars_2_var['car_km']\n",
        "df_cars_2_var.head()"
      ]
    },
    {
      "cell_type": "code",
      "execution_count": 35,
      "metadata": {},
      "outputs": [
        {
          "data": {
            "application/vnd.plotly.v1+json": {
              "config": {
                "plotlyServerURL": "https://plot.ly"
              },
              "data": [
                {
                  "name": "Price per km",
                  "quartilemethod": "linear",
                  "type": "box",
                  "y": [
                    16.751761733811993,
                    3.2245,
                    1.744826230152878,
                    1.387679336606353,
                    2.6893103448275864,
                    1.8616576468546364,
                    7.186875,
                    3.892234625930278,
                    0.8564123861188258,
                    12.46507037864229,
                    1.4291466188875244,
                    2.873270659715095,
                    6.74564292024737,
                    10.448193377816946,
                    1.1445812687043124,
                    5.18627499875318,
                    1.3561827774688386,
                    1.2637133479609044,
                    1.0599375411855714,
                    1.196144446533249,
                    38.74964639321075,
                    26.980500295450067,
                    2.90468485695374,
                    1.5345528455284554,
                    1.0320533348860228,
                    1.5341072234300013,
                    1.8575830350265077,
                    0.8751004264260552,
                    1.7928028888058771,
                    1.600133362969549,
                    9.269187986651835,
                    0.6754633993088281,
                    2.930955324033198,
                    1.807619705952729,
                    4.000666857197294,
                    1.5586764705882352,
                    1.2430854609992972,
                    1.3175084238465449,
                    10.318721461187215,
                    0.7837106006983207,
                    2.086604930220425,
                    3.151010188223105,
                    1.6472435372946197,
                    2.283374657444865,
                    1.479932213570157,
                    1.141924171988354,
                    1.27425367190238,
                    1.3978320332286496,
                    17.890159045725646,
                    5.855039637599094,
                    1.6701635737711598,
                    1.3658450910368245,
                    1.8152816682228448,
                    1.325998841922409,
                    14.512336719883889,
                    5.584361856167689,
                    88.15315315315316,
                    2.114300214277659,
                    1.8048340230694726,
                    4.329650762818178,
                    1.4993515441355272,
                    1.6564801755210783,
                    2.146006148848541,
                    2.435002961890344,
                    1.3351812884428618,
                    2.847927164731371,
                    2.8740746574263665,
                    2.0639926603400327,
                    1.8287669992575557,
                    1.8429675899851519,
                    1.1211854225070084,
                    2.7616452672439533,
                    2.0704029643353405,
                    1.511325896278634,
                    1.6096670331396261,
                    1.3536253402623113,
                    1.7726783199403529,
                    0.8607686479785109,
                    1.2230637101811368,
                    2.5744528679731085,
                    4.8102449888641425,
                    1.2467067554250548,
                    1.466859357551074,
                    1.1328872624825834,
                    6.304347826086956,
                    1.0464800744301441,
                    1.4236700804556293,
                    4.285771080984375,
                    4.934052757793765,
                    1.5304081632653062,
                    1.5501121022754376,
                    3.1948711646388923,
                    1.1828706637934676,
                    1.292126453921861,
                    1.0898547346028877,
                    2.779816513761468,
                    1.3600133638793432,
                    4.677946548740627,
                    0.9428998379390904,
                    4.38445942760149,
                    3.2622065551638793,
                    147.8247096092925,
                    2.1255219536884726,
                    0.9072285630670178,
                    2.362870554948235,
                    1.562982005141388,
                    6.230948269389594,
                    4.186704948757826,
                    1.1981981981981982,
                    3.4450755812148866,
                    1.9185967533790669,
                    5.399524299305734,
                    4.341189442491903,
                    0.9561810273554046,
                    1.9641246617897585,
                    2.336199902644816,
                    1.4775116032218454,
                    1.3708870967741935,
                    2.1856039193517995,
                    1.7168097548836632,
                    1.705302843293463,
                    0.9727417596242557,
                    2.260659050439167,
                    4.07622110853467,
                    2.2427214354824523,
                    2.2909970403844317,
                    1.6007703373706437,
                    2.5902076162984344,
                    3.188655284323409,
                    2.130426630759004,
                    1.2043569535740097,
                    1.101788300484856,
                    1.5253487806495831,
                    1.6031645569620254,
                    3.617892644135189,
                    0.7868256056970354,
                    2.560972795865156,
                    1.0789151859578447,
                    0.5506878480183426,
                    2.4931433985472315,
                    3.339128047943639,
                    6.007033482306396,
                    1.5169020111253744,
                    0.7656123915054419,
                    3.615065667190915,
                    0.7297436065502135,
                    0.5830494187067542,
                    0.9316757031514741,
                    2.1000690528254116,
                    1.2845824411134903,
                    3.390303533536304,
                    1.6231968914675041,
                    1.7110436893203884,
                    3.1231175398802664,
                    8.093513686228565,
                    1.0137862449544683,
                    1.4398,
                    3.84780899573799,
                    3.7072905679675263,
                    1.26871669063531,
                    3.225685954903559,
                    1.115284797158858,
                    1.790573311777142,
                    6.392003900536324,
                    1.8203825224071704,
                    0.8160065565592317,
                    1.3988618531752783,
                    0.9012108283508097,
                    0.9571563088512242,
                    2.154291671493108,
                    3.280808851583365,
                    2.152879072028895,
                    1.3479462086412357,
                    1.2372860893972777,
                    3.6180332652465714,
                    6.67204181494662,
                    7.64292121040457,
                    11.28683046220465,
                    7.45850622406639,
                    3.5747627197759453,
                    0.976969903367247,
                    5.34985182746131,
                    6.430412371134021,
                    1.5187479138078106,
                    2.711430035879036,
                    1.1156847771424314,
                    2.3170625975377144,
                    13.653816618031025,
                    9.611614800294046,
                    1.4154845515365184,
                    2.7652382814682386,
                    1.4894001173585303,
                    2.3633221140725915,
                    1.3089865730681376,
                    6.136075315483741,
                    2.175492412011624,
                    5.697985123131364,
                    0.5288563267033433,
                    1.3895264365879851,
                    1.385465571205008,
                    0.5208816815223878,
                    1.9146845394073775,
                    26.543929154043347,
                    1.8435975207701438,
                    4.858146446906241,
                    4.6739611662766425,
                    0.9843591938370555,
                    2.1162555798116713,
                    0.6003143707568309,
                    1.7631220867954025,
                    0.9427004102705941,
                    12.637559045065748,
                    0.8757769156968256,
                    1.2472866089473291,
                    0.7960944165323728,
                    1.033999968179721,
                    1.3293113900841356,
                    6.397631849211623,
                    0.7417782084670825,
                    1.63395129043984,
                    0.7319150207667254,
                    2.069722187719952,
                    3.1365559199581727,
                    0.7538411716023173,
                    2.9408823529411765,
                    0.6808199121522694,
                    3.7099532182610098,
                    8.336211516703388,
                    13.329877055251075,
                    1.3104894493876422,
                    5.8104223944013995,
                    1.01119110034731,
                    12.382309582309583,
                    9.859582542694497,
                    307.2486033519553,
                    1261.1711711711712,
                    9.591967255052444,
                    1.499050522212783,
                    1.4421704749592867,
                    1.162367797029343,
                    7.912545194078723,
                    3.635113562724241,
                    6.049765542278021,
                    5.24734116988525,
                    2.533699082677049,
                    5.410163565988263,
                    1.5343754499928002,
                    2.794266441821248,
                    1.656758448060075,
                    2.901557270489309,
                    2.590356984150496,
                    1.4333628126616496,
                    3.4122602310888497,
                    1.8225839117706626,
                    5.16929532629142,
                    22.27876303359772,
                    1.7452830188679245,
                    1.6869323725887564,
                    2.0328418230563003,
                    1.0520295591710187,
                    26.367791842475388,
                    1.3591541698133562,
                    1.3262129906914306,
                    2.9311347715029967,
                    3.7446625503025834,
                    3.7914891822360928,
                    1.866156264953175,
                    1.4836962653728987,
                    1.2746049256369703,
                    1.101299750330445,
                    1.2492083597213426,
                    1.3231089160384715,
                    1.887759336099585,
                    239.9,
                    809.9099099099099,
                    7.469206035122434,
                    6.543669770953939,
                    2.264141930429632,
                    823.9325842696629,
                    2.083101851851852,
                    2.980949825596995,
                    4.953994754152962,
                    3.7758271217470902,
                    2.6455156950672647,
                    8.92814217032967,
                    2.2579947622594365,
                    1.1561538060207648,
                    1.7896302445435994,
                    0.9898637091982788,
                    1.5088542087814345,
                    2.9921005095575746,
                    3.98083224692576,
                    1.2649641871883779,
                    1.2686641153258909,
                    1.4462883799554638,
                    1.1691912999188847,
                    1.77956477701728,
                    1.1917991952481317,
                    0.6506517146539468,
                    50.82906857727738,
                    12.315766923736076,
                    1.8656007773336571,
                    1.6104259542481534,
                    0.9321572894000622,
                    1.608194173907334,
                    3.681455543121187,
                    4.703594504736214,
                    2.579111290744395,
                    6.544484164946377,
                    2.255062093282518,
                    2.9081087498515967,
                    2.8703539036101726,
                    1.0744053051043378,
                    1.4324950443027393,
                    1.3177336519183762,
                    1.3250299804338221,
                    0.8311123430204047,
                    2.93256711861363,
                    1.5548223030201132,
                    0.7798416413525223,
                    1.2390076921563613,
                    2.184073972923413,
                    0.9125663312855431,
                    1.4731652420889043,
                    1.9824964966552974,
                    1.0027968059665193,
                    1.0201781803491314,
                    1.0572670281912233,
                    3.409576644991133,
                    1.3051689165559208,
                    1.854590734670021,
                    1.125522378364333,
                    2.2069088956506175,
                    20.49974372116863,
                    24.362606232294617,
                    60.36217303822938,
                    12.146549495993797,
                    41.950692041522494,
                    30.49461814454126,
                    7.276653650455567,
                    10.153464579135019,
                    1.6405124471364616,
                    1.7787496900151047,
                    3.5576120761586894,
                    2.9363532287508898,
                    2.1023975109809663,
                    0.8611354407198025,
                    1.081858407079646,
                    1.866243273379551,
                    1.4000350446819696,
                    918.6666666666666,
                    0.9604409222841862,
                    0.764363724291721,
                    0.6825731981981982,
                    2.2232240976077096,
                    2.0707317073170732,
                    9.29938846051582,
                    0.8395562966722251,
                    1.4538482075677774,
                    1.1988397588160058,
                    1.1941176470588235,
                    1.3045035931803335,
                    1.1888888888888889,
                    1.0552032435804137,
                    1.0504162897598257,
                    0.6746502579950885,
                    3.9596153846153848,
                    3.348648648648649,
                    1.4598,
                    1.125,
                    1.1997777777777778,
                    0.8831666666666667,
                    1.5084075173095945,
                    0.25188976377952754,
                    0.4064835164835165,
                    0.42542553191489363,
                    0.8521590909090909,
                    0.40206521739130435,
                    1.3112639724849526,
                    2.078666666666667,
                    2.1317991631799162,
                    0.9422151423026441,
                    2.0941509433962264,
                    1.9690292159515612,
                    5.376190476190477,
                    1.172993912562258,
                    0.3052671755725191,
                    1.0271428571428571,
                    null,
                    1.3848718189501361,
                    0.8714285714285714,
                    0.3567640440527761,
                    0.874772306765537,
                    0.3959975857256026,
                    1.621875,
                    0.5734716769489624,
                    1.2997519883691098,
                    0.98825490348089,
                    46990,
                    0.4107337801828875,
                    1.5950746268656717,
                    4.319265143992055,
                    0.8475856984887579,
                    3.7722727272727274,
                    1.6510597383052548,
                    2.056857142857143,
                    1.9371875,
                    0.81046875,
                    11.453636363636363,
                    1.5740677966101695,
                    1.4176315789473684,
                    0.4327433628318584,
                    2.886181510196104,
                    1.8229018086381013,
                    0.7948803335891236,
                    0.3380359105899597,
                    0.907902574624396,
                    1.3754617826109579,
                    0.49376237623762376,
                    1.4521818181818182,
                    0.6285013611717326,
                    0.6371292011228283,
                    1.3062776363392739,
                    4.224647887323943,
                    1.1398615635179152,
                    1.7536256323777404,
                    1.7572934973637961,
                    1.0966350094007618,
                    0.5383653846153846,
                    1.2281395736175882,
                    3.8138578978273636,
                    2.627397260273973,
                    1.383076923076923,
                    0.9119565217391304,
                    2.634,
                    0.27373317154908416,
                    6.761764705882353,
                    3.681578947368421,
                    3.2323255813953486,
                    5.796521817283063,
                    2.7196,
                    3.9283333333333332,
                    8.455359030371362,
                    1.9169648943421949,
                    7.520019266662652,
                    4.464239872670329,
                    2.99675,
                    2.6579969247608872,
                    3.1570967741935485,
                    2.1136072320043175,
                    7.7263636363636365,
                    1.479074074074074,
                    1.2269512707075274,
                    2.0505405405405406,
                    0.6348863636363636,
                    0.660875,
                    null,
                    1.7835135135135136,
                    1.4207894736842106,
                    0.489,
                    1.1682926829268292,
                    0.6850746268656717,
                    0.5571428571428572,
                    2.7425714285714284,
                    1.1508327208686366,
                    1.8843447669305189,
                    0.5154830526825949,
                    0.7762964431448349,
                    150.28056112224448,
                    41.8992972729031,
                    66.85627607129314,
                    9.50682918395574,
                    9.40454353040779,
                    195.7238536836682,
                    11.224561403508773,
                    7.118671396323767,
                    12.164021164021165,
                    11.6251421482477,
                    69.3,
                    0.4754544697951468,
                    1.7422639249351168,
                    371.0838759096132,
                    530.6,
                    418.6322400558269,
                    59.38181818181818,
                    8.372127392300303,
                    11.106153228325375,
                    19.796573875803,
                    1499,
                    0.8058960571049316,
                    0.9430146428448956,
                    6.418503077228509,
                    1.7618181818181817,
                    14.193642888530833,
                    1.3108656929105806,
                    2.2270972531551596,
                    1.3600982429624031,
                    1.0281767222793459,
                    1.4183710821322353,
                    0.7294871794871794,
                    0.7587111025739531,
                    1.1859375,
                    0.7829545454545455,
                    0.8414125875964712,
                    0.49071661428087354,
                    0.28608695652173916,
                    7.111428571428571,
                    3.744939828711481,
                    1.053853296193129,
                    0.8452577319587629,
                    0.9079973110353693,
                    1.222297899093624,
                    1.533111111111111,
                    2.488216884732853,
                    0.7493598151271001,
                    1.058868195987531,
                    0.764878245933111,
                    0.46526477559280943,
                    2.679478345200725,
                    1.0226136363636364,
                    7.651304347826087,
                    2.012830148164054,
                    0.644058587825142,
                    1.086910100363015,
                    2843.0604982206405,
                    749.9,
                    196.08326485894275,
                    9.659322033898306,
                    68.86332882273342,
                    7.319026265214606,
                    9.907723855092277,
                    10.866736621196223,
                    9.288170244401078,
                    7.2632802848630185,
                    5.363151177630816,
                    1309,
                    1.946551724137931,
                    4.904545454545454,
                    1749,
                    4.200247218788628,
                    3.8975,
                    2.0987899140202066,
                    21.77431906614786,
                    10.685322163800018,
                    3.7271311794472557,
                    3.111428571428571,
                    0.6879616288277062,
                    2.7624245050510523,
                    2.37854340362923,
                    1.6600791211896435,
                    2.948075348075348,
                    1.3451761287979664,
                    2.2583962163885642,
                    1.0314930511283948,
                    1.8260558008367813,
                    1.864061666747467,
                    3.9159303602237676,
                    1.308252669394272,
                    6.621875,
                    0.526166654297916,
                    5.456692913385827,
                    66.63333333333334,
                    4.874384236453202,
                    12.184905378113546,
                    11.064285714285715,
                    9.195196271733286,
                    11.734773759198372,
                    18.952254641909814,
                    12.86111111111111,
                    20.935922923994493,
                    4.278125,
                    5.02043417944584,
                    2.658,
                    39.36363636363637,
                    4.578681310688439,
                    2.9545785059867176,
                    4.040710410137161,
                    6.137387387387387,
                    17.85011355034065,
                    1.8273791392889778,
                    8559,
                    906.5333333333333,
                    5999,
                    32.47614536103404,
                    14.120444302494766,
                    14.772129501219453,
                    76.8974358974359,
                    33.28154477860393,
                    35.20340012143291,
                    29.572107765451666,
                    29.429082115445272,
                    12.462019660411082,
                    12.622495246453123,
                    12.098130841121495,
                    3.57,
                    4.678571428571429,
                    13.630681818181818,
                    5.7475,
                    1.5202898550724637,
                    1.372,
                    2.14375,
                    2.125531914893617,
                    2.996969696969697,
                    3.2724137931034485,
                    1.4515625,
                    5.768197690034918,
                    2.002302936243711,
                    0.8017916186894563,
                    1.4403846153846154,
                    2.637735849056604,
                    0.8833333333333333,
                    1.813157894736842,
                    1.178,
                    1.0527272727272727,
                    0.7895522388059701,
                    0.6085365853658536,
                    0.7338235294117647,
                    2.037179487179487,
                    1.4591947592871852,
                    5.742567567567567,
                    2.010455599186261,
                    1.2194722908052473,
                    1.2811999417504005,
                    81.97459584295612,
                    51.757333575515396,
                    11.245833333333334,
                    5.6516676370290275,
                    4.249309764844023,
                    17.493747531920494,
                    2.5527777777777776,
                    0.6466116099471604,
                    1.7768354737097165,
                    1.1883970526392775,
                    0.5996503141073861,
                    0.882230597607553,
                    2.0502464403066814,
                    1.3230610505539855,
                    0.9653448275862069,
                    0.4875,
                    null,
                    1.4554444444444445,
                    1.3319444444444444,
                    1.81215892386073,
                    null,
                    1.8974099992785514,
                    1.235593220338983,
                    1.3320375028584497,
                    1252.7272727272727,
                    2.4912,
                    0.5239122272381967,
                    0.31861702127659575,
                    1.2521251203885935,
                    0.9941149841557265,
                    1.5804020100502512,
                    1.2551063829787235,
                    1.1798,
                    1,
                    0.8498333333333333,
                    0.6930555555555555,
                    0.4415929203539823,
                    0.6811132048122917,
                    0.4771739130434783,
                    0.3516393442622951,
                    0.46655555555555556,
                    0.5381578947368421,
                    null,
                    0.44333333333333336,
                    0.4380898876404494,
                    0.557,
                    0.23688524590163934,
                    1.156842105263158,
                    0.7869444444444444,
                    1.733111111111111,
                    1.298888888888889,
                    1.6897058823529412,
                    3.0527777777777776,
                    1.0419354838709678,
                    2.9996774193548386,
                    1.0728395061728395,
                    0.6458646616541354,
                    2.454242424242424,
                    1.025,
                    0.7599,
                    1.4798,
                    1.0267605633802817,
                    0.8629629629629629,
                    1.9416666666666667,
                    null,
                    0.8321428571428572,
                    0.945068493150685,
                    1.2498076923076924,
                    1.0142857142857142,
                    1.0453030303030304,
                    0.7526966292134831,
                    0.7331666666666666,
                    0.505632183908046,
                    0.6165,
                    1.1644303797468354,
                    1.6998,
                    1.5798,
                    1.5096078431372548,
                    1.5398,
                    8.465433729634523,
                    1.3798,
                    1.9663333333333333,
                    0.9998305084745762,
                    1.9663333333333333,
                    0.587375,
                    0.6427142857142857,
                    1.47475,
                    1.009028146574615,
                    null,
                    null,
                    0.5567045454545455,
                    null,
                    0.5665,
                    0.4712857142857143,
                    null,
                    null,
                    1.0782669126986029,
                    1.3831666666666667,
                    1.0120731707317072,
                    1.2998,
                    0.7141558441558442,
                    0.6132,
                    0.5393421052631578,
                    0.35620689655172416,
                    null,
                    1.2422727272727272,
                    1.57475,
                    0.6665277777777778,
                    2.2232240976077096,
                    1.388611111111111,
                    1.023503603885929,
                    0.6152564102564102,
                    0.5899068322981367,
                    0.6606469310778375,
                    1.4658333333333333,
                    1.0218390804597701,
                    1.4245901639344263,
                    null,
                    1.9475,
                    null,
                    0.9669936761206754,
                    null,
                    0.9816666666666667,
                    56900,
                    0.775940610764299,
                    2.4207894736842106,
                    1.7581550530895647,
                    2.0267567567567566,
                    1.3442307692307693,
                    1.6227552759208284,
                    2.19875,
                    1.3364342743085258,
                    1.7833333333333334,
                    0.8504252733900365,
                    2.4500039522567385,
                    0.8160070643011961,
                    1.9166820276497696,
                    1.124156720290607,
                    9.169655280537755,
                    3.265825277773219,
                    15.23274478330658,
                    1.2236262035002876,
                    4.117336152219873,
                    1.2613536971001817,
                    2.726818181818182,
                    null,
                    17.55,
                    2.1495176416843575,
                    1.4186656671664168,
                    0.44940592230818166,
                    1.999481011112468,
                    1.3,
                    2.4866321243523317,
                    1.088646091462041,
                    1.1878685762426284,
                    0.966970802919708,
                    0.6436505932845241,
                    0.6460950226853535,
                    55.11153216777194,
                    20.4300119941362,
                    6.907859078590786,
                    6.669510374455379,
                    6.313225153804864,
                    7.356521739130435,
                    1.5571186440677967,
                    1.3729345129429387,
                    1.3910861449602028,
                    null,
                    1.0280606321934393,
                    0.8131074550686865,
                    1.1688468748110374,
                    1.5139743885176284,
                    null,
                    0.4814856786695753,
                    4.241582426627569,
                    8.812237552489503,
                    2.625457678225285,
                    2.74,
                    0.8687016955245341,
                    1.2535820895522387,
                    null,
                    1.1960510093296284,
                    0.9587396849212303,
                    0.6775449359993101,
                    0.6451398312977302,
                    0.3876765581224007,
                    0.2740794893784532,
                    1.374861111111111,
                    1.5452583574249765,
                    null,
                    3.936875,
                    1.4976190476190476,
                    0.7145543437382474,
                    0.9805769230769231,
                    0.5332,
                    0.487375,
                    0.41962962962962963,
                    0.3482022471910112,
                    2.499,
                    2.1985645933014353,
                    1.5190384615384616,
                    1.2998333333333334,
                    null,
                    1.2629824561403509,
                    0.6391108528258027,
                    3.174045124074137,
                    1.2398,
                    1.3179545454545454,
                    259.96666666666664,
                    2.4711026615969582,
                    0.16818042813455658,
                    null,
                    2.796666666666667,
                    1.458,
                    null,
                    1.4831666666666667,
                    263.3,
                    2.120909090909091,
                    2.403703703703704,
                    0.7885915492957747,
                    0.7431081081081081,
                    0.6408974358974359,
                    null,
                    null,
                    null,
                    93.27831599091017,
                    179.96666666666667,
                    28.015333117373935,
                    574.5977011494252,
                    18.17449891944574,
                    29.75692721989937,
                    37.20497502693174,
                    16.431966594109547,
                    7.178485576923077,
                    56.028169014084504,
                    20.544444444444444,
                    4.375647668393782,
                    4.74060519806174,
                    52.18370103556956,
                    11.58266129032258,
                    1.2522388059701492,
                    1.0271428571428571,
                    0.7681707317073171,
                    0.9,
                    5.6177895955740444,
                    1059.3069306930693,
                    267.2277227722772,
                    0.964957264957265,
                    4.485081101748504,
                    4.198470420634326,
                    2.1592245123209444,
                    0.3748958333333333,
                    1.4000476063792548,
                    0.9015663834460436,
                    2.133150188502791,
                    17.557469896720765,
                    1.0486152317606634,
                    0.4278571428571429,
                    1.0102787456445994,
                    5.833101838991055,
                    5.06971503685273,
                    2.262990117947083,
                    0.8907272727272727,
                    0.7241935483870968,
                    2.642488696427434,
                    null,
                    2.2496875,
                    1.458125,
                    1.6712551005358636,
                    3.0904545454545453,
                    1.595,
                    1.692051282051282,
                    1.346734693877551,
                    0.7745070422535211,
                    1.0798,
                    1.514,
                    1.3510810810810812,
                    2.287966101694915,
                    3.4371875,
                    2.133111111111111,
                    1.4735087719298245,
                    2.2410344827586206,
                    0.89046875,
                    1.0633333333333332,
                    4.544545454545455,
                    3.110589239965841,
                    2.1519565217391303,
                    1.7464032987017664,
                    4.945592752642266,
                    900.8910891089109,
                    2.007590597453477,
                    782.0792079207921,
                    7.937113402061856,
                    702.8712871287129,
                    1.4295154185022025,
                    603.8613861386139,
                    1.804911450714308,
                    1.9716612496804586,
                    465.2475247524753,
                    455.34653465346537,
                    395.94059405940595,
                    386.03960396039605,
                    346.43564356435644,
                    326.63366336633663,
                    296.9306930693069,
                    null,
                    0.8797619047619047,
                    1.259074074074074,
                    4.747954412624196,
                    1.3606717337715695,
                    0.6145127782763157,
                    1.0396605869018156,
                    0.8165,
                    0.665,
                    4.908888888888889,
                    1.5975862068965516,
                    null,
                    0.8681159420289855,
                    null,
                    null,
                    0.34683673469387755,
                    2.0513513513513515,
                    1.0798,
                    0.5052688172043011,
                    0.3808988764044944,
                    null,
                    1055.0393700787401,
                    2.239655172413793,
                    1.221111111111111,
                    1.0226190476190475,
                    1.2178069719042663,
                    null,
                    0.822256205152335,
                    9.22923076923077,
                    2.995,
                    2.1067857142857145,
                    0.6210606060606061,
                    null,
                    0.7563962170233948,
                    5.311428571428571,
                    null,
                    1.3819148936170214,
                    3.74975,
                    3140.4761904761904,
                    0.8591397849462366,
                    0.7412371134020619,
                    0.5635294117647058,
                    19.365828092243188,
                    0.6998571428571428,
                    11.908181818181818,
                    1.1690769230769231,
                    990,
                    0.8772727272727273,
                    null,
                    0.2878736821836037,
                    0.9801960784313726,
                    188.2439357704134,
                    13.505154639175258,
                    2.7201915922619047,
                    18.607940446650122,
                    36.12838709677419,
                    6.999637042414187,
                    4.2787377911344855,
                    3.468627698522914,
                    2.5545023696682465,
                    2.1486752176762476,
                    null,
                    null,
                    3.5241222753619996,
                    7.181353355751071,
                    4.836471048791772,
                    1.6288479494894104,
                    1.331622279257358,
                    1.439400985954795,
                    null,
                    1.5598,
                    1.3660322697461071,
                    1.3101724137931035,
                    1.6942158233797198,
                    2.0796,
                    1.2613846153846153,
                    12.41679085941381,
                    13.335818422796555,
                    1.6978335730787673,
                    1.4703921568627452,
                    1.2293442622950819,
                    1.3398,
                    1.4046897133023495,
                    2.738672286617492,
                    2.9674193548387096,
                    2.07475,
                    1.461795641457403,
                    3.6548901210555345,
                    6.363181818181818,
                    6.640954901187996,
                    2.729605562683664,
                    10.474101237639971,
                    3.511718649060699,
                    3.3035149982984104,
                    null,
                    5.399,
                    3.671053974084277,
                    10.803298969072165,
                    3.424484312020865,
                    4.434347826086957,
                    25.933979565103485,
                    2.7774074074074075,
                    1.714047619047619,
                    4.333,
                    4.932712419590355,
                    2.952142857142857,
                    2.8375675675675676,
                    1.1759517341142434,
                    3.5551851851851852,
                    1.4136206896551724,
                    2.1618918918918917,
                    2.293823529411765,
                    0.9998666666666667,
                    1.2129508196721313,
                    1.1162067977129755,
                    1.1933870967741935,
                    60.83166666666666,
                    2.0046037324884907,
                    1.1813134817992557,
                    1.5523684210526316,
                    1.6568571428571428,
                    0.8026760563380282,
                    1.1247916666666666,
                    1.2043181818181818,
                    1.2501474508693704,
                    1.353430516076877,
                    1.4957408481665802,
                    1.5480645161290323,
                    0.9598,
                    0.7249089437474706,
                    2.0219446553032916,
                    4.875128519783755,
                    2.8872115701223375,
                    3.4277826654127357,
                    3.7386302354844507,
                    1.9523148349025903,
                    1.798949458185127,
                    1.245251883678934,
                    1.291270879709086,
                    1.0122277235553727,
                    0.8934661841145018,
                    0.4802941176470588,
                    0.7830601092896174,
                    4.009541649593163,
                    1.4600739371534195,
                    2.467628205128205,
                    0.7569756086856341,
                    1.3774590246966105,
                    1.1034364653499258,
                    0.8826900439873614,
                    0.8591735892294472,
                    4.907914169055686,
                    2.4005382017729,
                    1.2367549441336942,
                    1.0888946971017017,
                    1.8400147225715424,
                    0.5587586409766142,
                    1.5315644366943941,
                    2.291046106061763,
                    3.434110629067245,
                    2.6420782314191076,
                    1.3275976540887462,
                    7.327744139108834,
                    1.51014083401985,
                    1.0579704010947928,
                    4.479497231037272,
                    5.499690114657577,
                    1.2040235477279362,
                    2.4210552865213883,
                    0.6072232756577388,
                    2.103243412262998,
                    2.9712863563760634,
                    1.0092681200267426,
                    0.5821762703968737,
                    0.9589795918367346
                  ]
                }
              ],
              "layout": {
                "height": 500,
                "template": {
                  "data": {
                    "bar": [
                      {
                        "error_x": {
                          "color": "#2a3f5f"
                        },
                        "error_y": {
                          "color": "#2a3f5f"
                        },
                        "marker": {
                          "line": {
                            "color": "#E5ECF6",
                            "width": 0.5
                          },
                          "pattern": {
                            "fillmode": "overlay",
                            "size": 10,
                            "solidity": 0.2
                          }
                        },
                        "type": "bar"
                      }
                    ],
                    "barpolar": [
                      {
                        "marker": {
                          "line": {
                            "color": "#E5ECF6",
                            "width": 0.5
                          },
                          "pattern": {
                            "fillmode": "overlay",
                            "size": 10,
                            "solidity": 0.2
                          }
                        },
                        "type": "barpolar"
                      }
                    ],
                    "carpet": [
                      {
                        "aaxis": {
                          "endlinecolor": "#2a3f5f",
                          "gridcolor": "white",
                          "linecolor": "white",
                          "minorgridcolor": "white",
                          "startlinecolor": "#2a3f5f"
                        },
                        "baxis": {
                          "endlinecolor": "#2a3f5f",
                          "gridcolor": "white",
                          "linecolor": "white",
                          "minorgridcolor": "white",
                          "startlinecolor": "#2a3f5f"
                        },
                        "type": "carpet"
                      }
                    ],
                    "choropleth": [
                      {
                        "colorbar": {
                          "outlinewidth": 0,
                          "ticks": ""
                        },
                        "type": "choropleth"
                      }
                    ],
                    "contour": [
                      {
                        "colorbar": {
                          "outlinewidth": 0,
                          "ticks": ""
                        },
                        "colorscale": [
                          [
                            0,
                            "#0d0887"
                          ],
                          [
                            0.1111111111111111,
                            "#46039f"
                          ],
                          [
                            0.2222222222222222,
                            "#7201a8"
                          ],
                          [
                            0.3333333333333333,
                            "#9c179e"
                          ],
                          [
                            0.4444444444444444,
                            "#bd3786"
                          ],
                          [
                            0.5555555555555556,
                            "#d8576b"
                          ],
                          [
                            0.6666666666666666,
                            "#ed7953"
                          ],
                          [
                            0.7777777777777778,
                            "#fb9f3a"
                          ],
                          [
                            0.8888888888888888,
                            "#fdca26"
                          ],
                          [
                            1,
                            "#f0f921"
                          ]
                        ],
                        "type": "contour"
                      }
                    ],
                    "contourcarpet": [
                      {
                        "colorbar": {
                          "outlinewidth": 0,
                          "ticks": ""
                        },
                        "type": "contourcarpet"
                      }
                    ],
                    "heatmap": [
                      {
                        "colorbar": {
                          "outlinewidth": 0,
                          "ticks": ""
                        },
                        "colorscale": [
                          [
                            0,
                            "#0d0887"
                          ],
                          [
                            0.1111111111111111,
                            "#46039f"
                          ],
                          [
                            0.2222222222222222,
                            "#7201a8"
                          ],
                          [
                            0.3333333333333333,
                            "#9c179e"
                          ],
                          [
                            0.4444444444444444,
                            "#bd3786"
                          ],
                          [
                            0.5555555555555556,
                            "#d8576b"
                          ],
                          [
                            0.6666666666666666,
                            "#ed7953"
                          ],
                          [
                            0.7777777777777778,
                            "#fb9f3a"
                          ],
                          [
                            0.8888888888888888,
                            "#fdca26"
                          ],
                          [
                            1,
                            "#f0f921"
                          ]
                        ],
                        "type": "heatmap"
                      }
                    ],
                    "heatmapgl": [
                      {
                        "colorbar": {
                          "outlinewidth": 0,
                          "ticks": ""
                        },
                        "colorscale": [
                          [
                            0,
                            "#0d0887"
                          ],
                          [
                            0.1111111111111111,
                            "#46039f"
                          ],
                          [
                            0.2222222222222222,
                            "#7201a8"
                          ],
                          [
                            0.3333333333333333,
                            "#9c179e"
                          ],
                          [
                            0.4444444444444444,
                            "#bd3786"
                          ],
                          [
                            0.5555555555555556,
                            "#d8576b"
                          ],
                          [
                            0.6666666666666666,
                            "#ed7953"
                          ],
                          [
                            0.7777777777777778,
                            "#fb9f3a"
                          ],
                          [
                            0.8888888888888888,
                            "#fdca26"
                          ],
                          [
                            1,
                            "#f0f921"
                          ]
                        ],
                        "type": "heatmapgl"
                      }
                    ],
                    "histogram": [
                      {
                        "marker": {
                          "pattern": {
                            "fillmode": "overlay",
                            "size": 10,
                            "solidity": 0.2
                          }
                        },
                        "type": "histogram"
                      }
                    ],
                    "histogram2d": [
                      {
                        "colorbar": {
                          "outlinewidth": 0,
                          "ticks": ""
                        },
                        "colorscale": [
                          [
                            0,
                            "#0d0887"
                          ],
                          [
                            0.1111111111111111,
                            "#46039f"
                          ],
                          [
                            0.2222222222222222,
                            "#7201a8"
                          ],
                          [
                            0.3333333333333333,
                            "#9c179e"
                          ],
                          [
                            0.4444444444444444,
                            "#bd3786"
                          ],
                          [
                            0.5555555555555556,
                            "#d8576b"
                          ],
                          [
                            0.6666666666666666,
                            "#ed7953"
                          ],
                          [
                            0.7777777777777778,
                            "#fb9f3a"
                          ],
                          [
                            0.8888888888888888,
                            "#fdca26"
                          ],
                          [
                            1,
                            "#f0f921"
                          ]
                        ],
                        "type": "histogram2d"
                      }
                    ],
                    "histogram2dcontour": [
                      {
                        "colorbar": {
                          "outlinewidth": 0,
                          "ticks": ""
                        },
                        "colorscale": [
                          [
                            0,
                            "#0d0887"
                          ],
                          [
                            0.1111111111111111,
                            "#46039f"
                          ],
                          [
                            0.2222222222222222,
                            "#7201a8"
                          ],
                          [
                            0.3333333333333333,
                            "#9c179e"
                          ],
                          [
                            0.4444444444444444,
                            "#bd3786"
                          ],
                          [
                            0.5555555555555556,
                            "#d8576b"
                          ],
                          [
                            0.6666666666666666,
                            "#ed7953"
                          ],
                          [
                            0.7777777777777778,
                            "#fb9f3a"
                          ],
                          [
                            0.8888888888888888,
                            "#fdca26"
                          ],
                          [
                            1,
                            "#f0f921"
                          ]
                        ],
                        "type": "histogram2dcontour"
                      }
                    ],
                    "mesh3d": [
                      {
                        "colorbar": {
                          "outlinewidth": 0,
                          "ticks": ""
                        },
                        "type": "mesh3d"
                      }
                    ],
                    "parcoords": [
                      {
                        "line": {
                          "colorbar": {
                            "outlinewidth": 0,
                            "ticks": ""
                          }
                        },
                        "type": "parcoords"
                      }
                    ],
                    "pie": [
                      {
                        "automargin": true,
                        "type": "pie"
                      }
                    ],
                    "scatter": [
                      {
                        "fillpattern": {
                          "fillmode": "overlay",
                          "size": 10,
                          "solidity": 0.2
                        },
                        "type": "scatter"
                      }
                    ],
                    "scatter3d": [
                      {
                        "line": {
                          "colorbar": {
                            "outlinewidth": 0,
                            "ticks": ""
                          }
                        },
                        "marker": {
                          "colorbar": {
                            "outlinewidth": 0,
                            "ticks": ""
                          }
                        },
                        "type": "scatter3d"
                      }
                    ],
                    "scattercarpet": [
                      {
                        "marker": {
                          "colorbar": {
                            "outlinewidth": 0,
                            "ticks": ""
                          }
                        },
                        "type": "scattercarpet"
                      }
                    ],
                    "scattergeo": [
                      {
                        "marker": {
                          "colorbar": {
                            "outlinewidth": 0,
                            "ticks": ""
                          }
                        },
                        "type": "scattergeo"
                      }
                    ],
                    "scattergl": [
                      {
                        "marker": {
                          "colorbar": {
                            "outlinewidth": 0,
                            "ticks": ""
                          }
                        },
                        "type": "scattergl"
                      }
                    ],
                    "scattermapbox": [
                      {
                        "marker": {
                          "colorbar": {
                            "outlinewidth": 0,
                            "ticks": ""
                          }
                        },
                        "type": "scattermapbox"
                      }
                    ],
                    "scatterpolar": [
                      {
                        "marker": {
                          "colorbar": {
                            "outlinewidth": 0,
                            "ticks": ""
                          }
                        },
                        "type": "scatterpolar"
                      }
                    ],
                    "scatterpolargl": [
                      {
                        "marker": {
                          "colorbar": {
                            "outlinewidth": 0,
                            "ticks": ""
                          }
                        },
                        "type": "scatterpolargl"
                      }
                    ],
                    "scatterternary": [
                      {
                        "marker": {
                          "colorbar": {
                            "outlinewidth": 0,
                            "ticks": ""
                          }
                        },
                        "type": "scatterternary"
                      }
                    ],
                    "surface": [
                      {
                        "colorbar": {
                          "outlinewidth": 0,
                          "ticks": ""
                        },
                        "colorscale": [
                          [
                            0,
                            "#0d0887"
                          ],
                          [
                            0.1111111111111111,
                            "#46039f"
                          ],
                          [
                            0.2222222222222222,
                            "#7201a8"
                          ],
                          [
                            0.3333333333333333,
                            "#9c179e"
                          ],
                          [
                            0.4444444444444444,
                            "#bd3786"
                          ],
                          [
                            0.5555555555555556,
                            "#d8576b"
                          ],
                          [
                            0.6666666666666666,
                            "#ed7953"
                          ],
                          [
                            0.7777777777777778,
                            "#fb9f3a"
                          ],
                          [
                            0.8888888888888888,
                            "#fdca26"
                          ],
                          [
                            1,
                            "#f0f921"
                          ]
                        ],
                        "type": "surface"
                      }
                    ],
                    "table": [
                      {
                        "cells": {
                          "fill": {
                            "color": "#EBF0F8"
                          },
                          "line": {
                            "color": "white"
                          }
                        },
                        "header": {
                          "fill": {
                            "color": "#C8D4E3"
                          },
                          "line": {
                            "color": "white"
                          }
                        },
                        "type": "table"
                      }
                    ]
                  },
                  "layout": {
                    "annotationdefaults": {
                      "arrowcolor": "#2a3f5f",
                      "arrowhead": 0,
                      "arrowwidth": 1
                    },
                    "autotypenumbers": "strict",
                    "coloraxis": {
                      "colorbar": {
                        "outlinewidth": 0,
                        "ticks": ""
                      }
                    },
                    "colorscale": {
                      "diverging": [
                        [
                          0,
                          "#8e0152"
                        ],
                        [
                          0.1,
                          "#c51b7d"
                        ],
                        [
                          0.2,
                          "#de77ae"
                        ],
                        [
                          0.3,
                          "#f1b6da"
                        ],
                        [
                          0.4,
                          "#fde0ef"
                        ],
                        [
                          0.5,
                          "#f7f7f7"
                        ],
                        [
                          0.6,
                          "#e6f5d0"
                        ],
                        [
                          0.7,
                          "#b8e186"
                        ],
                        [
                          0.8,
                          "#7fbc41"
                        ],
                        [
                          0.9,
                          "#4d9221"
                        ],
                        [
                          1,
                          "#276419"
                        ]
                      ],
                      "sequential": [
                        [
                          0,
                          "#0d0887"
                        ],
                        [
                          0.1111111111111111,
                          "#46039f"
                        ],
                        [
                          0.2222222222222222,
                          "#7201a8"
                        ],
                        [
                          0.3333333333333333,
                          "#9c179e"
                        ],
                        [
                          0.4444444444444444,
                          "#bd3786"
                        ],
                        [
                          0.5555555555555556,
                          "#d8576b"
                        ],
                        [
                          0.6666666666666666,
                          "#ed7953"
                        ],
                        [
                          0.7777777777777778,
                          "#fb9f3a"
                        ],
                        [
                          0.8888888888888888,
                          "#fdca26"
                        ],
                        [
                          1,
                          "#f0f921"
                        ]
                      ],
                      "sequentialminus": [
                        [
                          0,
                          "#0d0887"
                        ],
                        [
                          0.1111111111111111,
                          "#46039f"
                        ],
                        [
                          0.2222222222222222,
                          "#7201a8"
                        ],
                        [
                          0.3333333333333333,
                          "#9c179e"
                        ],
                        [
                          0.4444444444444444,
                          "#bd3786"
                        ],
                        [
                          0.5555555555555556,
                          "#d8576b"
                        ],
                        [
                          0.6666666666666666,
                          "#ed7953"
                        ],
                        [
                          0.7777777777777778,
                          "#fb9f3a"
                        ],
                        [
                          0.8888888888888888,
                          "#fdca26"
                        ],
                        [
                          1,
                          "#f0f921"
                        ]
                      ]
                    },
                    "colorway": [
                      "#636efa",
                      "#EF553B",
                      "#00cc96",
                      "#ab63fa",
                      "#FFA15A",
                      "#19d3f3",
                      "#FF6692",
                      "#B6E880",
                      "#FF97FF",
                      "#FECB52"
                    ],
                    "font": {
                      "color": "#2a3f5f"
                    },
                    "geo": {
                      "bgcolor": "white",
                      "lakecolor": "white",
                      "landcolor": "#E5ECF6",
                      "showlakes": true,
                      "showland": true,
                      "subunitcolor": "white"
                    },
                    "hoverlabel": {
                      "align": "left"
                    },
                    "hovermode": "closest",
                    "mapbox": {
                      "style": "light"
                    },
                    "paper_bgcolor": "white",
                    "plot_bgcolor": "#E5ECF6",
                    "polar": {
                      "angularaxis": {
                        "gridcolor": "white",
                        "linecolor": "white",
                        "ticks": ""
                      },
                      "bgcolor": "#E5ECF6",
                      "radialaxis": {
                        "gridcolor": "white",
                        "linecolor": "white",
                        "ticks": ""
                      }
                    },
                    "scene": {
                      "xaxis": {
                        "backgroundcolor": "#E5ECF6",
                        "gridcolor": "white",
                        "gridwidth": 2,
                        "linecolor": "white",
                        "showbackground": true,
                        "ticks": "",
                        "zerolinecolor": "white"
                      },
                      "yaxis": {
                        "backgroundcolor": "#E5ECF6",
                        "gridcolor": "white",
                        "gridwidth": 2,
                        "linecolor": "white",
                        "showbackground": true,
                        "ticks": "",
                        "zerolinecolor": "white"
                      },
                      "zaxis": {
                        "backgroundcolor": "#E5ECF6",
                        "gridcolor": "white",
                        "gridwidth": 2,
                        "linecolor": "white",
                        "showbackground": true,
                        "ticks": "",
                        "zerolinecolor": "white"
                      }
                    },
                    "shapedefaults": {
                      "line": {
                        "color": "#2a3f5f"
                      }
                    },
                    "ternary": {
                      "aaxis": {
                        "gridcolor": "white",
                        "linecolor": "white",
                        "ticks": ""
                      },
                      "baxis": {
                        "gridcolor": "white",
                        "linecolor": "white",
                        "ticks": ""
                      },
                      "bgcolor": "#E5ECF6",
                      "caxis": {
                        "gridcolor": "white",
                        "linecolor": "white",
                        "ticks": ""
                      }
                    },
                    "title": {
                      "x": 0.05
                    },
                    "xaxis": {
                      "automargin": true,
                      "gridcolor": "white",
                      "linecolor": "white",
                      "ticks": "",
                      "title": {
                        "standoff": 15
                      },
                      "zerolinecolor": "white",
                      "zerolinewidth": 2
                    },
                    "yaxis": {
                      "automargin": true,
                      "gridcolor": "white",
                      "linecolor": "white",
                      "ticks": "",
                      "title": {
                        "standoff": 15
                      },
                      "zerolinecolor": "white",
                      "zerolinewidth": 2
                    }
                  }
                },
                "title": {
                  "text": "Box Plot of car price per km"
                },
                "width": 970
              }
            }
          },
          "metadata": {},
          "output_type": "display_data"
        }
      ],
      "source": [
        "fig = go.Figure(\n",
        "    go.Box(y=df_cars_2_var['car_price_per_km'], name='Price per km', quartilemethod=\"linear\")\n",
        ")\n",
        "\n",
        "fig.update_layout(height=500, width=970, title_text=\"Box Plot of car price per km\")\n",
        "fig.show()"
      ]
    },
    {
      "cell_type": "code",
      "execution_count": 36,
      "metadata": {},
      "outputs": [
        {
          "data": {
            "application/vnd.plotly.v1+json": {
              "config": {
                "plotlyServerURL": "https://plot.ly"
              },
              "data": [
                {
                  "name": "Price per km",
                  "type": "histogram",
                  "x": [
                    16.751761733811993,
                    3.2245,
                    1.744826230152878,
                    1.387679336606353,
                    2.6893103448275864,
                    1.8616576468546364,
                    7.186875,
                    3.892234625930278,
                    0.8564123861188258,
                    12.46507037864229,
                    1.4291466188875244,
                    2.873270659715095,
                    6.74564292024737,
                    10.448193377816946,
                    1.1445812687043124,
                    5.18627499875318,
                    1.3561827774688386,
                    1.2637133479609044,
                    1.0599375411855714,
                    1.196144446533249,
                    38.74964639321075,
                    26.980500295450067,
                    2.90468485695374,
                    1.5345528455284554,
                    1.0320533348860228,
                    1.5341072234300013,
                    1.8575830350265077,
                    0.8751004264260552,
                    1.7928028888058771,
                    1.600133362969549,
                    9.269187986651835,
                    0.6754633993088281,
                    2.930955324033198,
                    1.807619705952729,
                    4.000666857197294,
                    1.5586764705882352,
                    1.2430854609992972,
                    1.3175084238465449,
                    10.318721461187215,
                    0.7837106006983207,
                    2.086604930220425,
                    3.151010188223105,
                    1.6472435372946197,
                    2.283374657444865,
                    1.479932213570157,
                    1.141924171988354,
                    1.27425367190238,
                    1.3978320332286496,
                    17.890159045725646,
                    5.855039637599094,
                    1.6701635737711598,
                    1.3658450910368245,
                    1.8152816682228448,
                    1.325998841922409,
                    14.512336719883889,
                    5.584361856167689,
                    88.15315315315316,
                    2.114300214277659,
                    1.8048340230694726,
                    4.329650762818178,
                    1.4993515441355272,
                    1.6564801755210783,
                    2.146006148848541,
                    2.435002961890344,
                    1.3351812884428618,
                    2.847927164731371,
                    2.8740746574263665,
                    2.0639926603400327,
                    1.8287669992575557,
                    1.8429675899851519,
                    1.1211854225070084,
                    2.7616452672439533,
                    2.0704029643353405,
                    1.511325896278634,
                    1.6096670331396261,
                    1.3536253402623113,
                    1.7726783199403529,
                    0.8607686479785109,
                    1.2230637101811368,
                    2.5744528679731085,
                    4.8102449888641425,
                    1.2467067554250548,
                    1.466859357551074,
                    1.1328872624825834,
                    6.304347826086956,
                    1.0464800744301441,
                    1.4236700804556293,
                    4.285771080984375,
                    4.934052757793765,
                    1.5304081632653062,
                    1.5501121022754376,
                    3.1948711646388923,
                    1.1828706637934676,
                    1.292126453921861,
                    1.0898547346028877,
                    2.779816513761468,
                    1.3600133638793432,
                    4.677946548740627,
                    0.9428998379390904,
                    4.38445942760149,
                    3.2622065551638793,
                    147.8247096092925,
                    2.1255219536884726,
                    0.9072285630670178,
                    2.362870554948235,
                    1.562982005141388,
                    6.230948269389594,
                    4.186704948757826,
                    1.1981981981981982,
                    3.4450755812148866,
                    1.9185967533790669,
                    5.399524299305734,
                    4.341189442491903,
                    0.9561810273554046,
                    1.9641246617897585,
                    2.336199902644816,
                    1.4775116032218454,
                    1.3708870967741935,
                    2.1856039193517995,
                    1.7168097548836632,
                    1.705302843293463,
                    0.9727417596242557,
                    2.260659050439167,
                    4.07622110853467,
                    2.2427214354824523,
                    2.2909970403844317,
                    1.6007703373706437,
                    2.5902076162984344,
                    3.188655284323409,
                    2.130426630759004,
                    1.2043569535740097,
                    1.101788300484856,
                    1.5253487806495831,
                    1.6031645569620254,
                    3.617892644135189,
                    0.7868256056970354,
                    2.560972795865156,
                    1.0789151859578447,
                    0.5506878480183426,
                    2.4931433985472315,
                    3.339128047943639,
                    6.007033482306396,
                    1.5169020111253744,
                    0.7656123915054419,
                    3.615065667190915,
                    0.7297436065502135,
                    0.5830494187067542,
                    0.9316757031514741,
                    2.1000690528254116,
                    1.2845824411134903,
                    3.390303533536304,
                    1.6231968914675041,
                    1.7110436893203884,
                    3.1231175398802664,
                    8.093513686228565,
                    1.0137862449544683,
                    1.4398,
                    3.84780899573799,
                    3.7072905679675263,
                    1.26871669063531,
                    3.225685954903559,
                    1.115284797158858,
                    1.790573311777142,
                    6.392003900536324,
                    1.8203825224071704,
                    0.8160065565592317,
                    1.3988618531752783,
                    0.9012108283508097,
                    0.9571563088512242,
                    2.154291671493108,
                    3.280808851583365,
                    2.152879072028895,
                    1.3479462086412357,
                    1.2372860893972777,
                    3.6180332652465714,
                    6.67204181494662,
                    7.64292121040457,
                    11.28683046220465,
                    7.45850622406639,
                    3.5747627197759453,
                    0.976969903367247,
                    5.34985182746131,
                    6.430412371134021,
                    1.5187479138078106,
                    2.711430035879036,
                    1.1156847771424314,
                    2.3170625975377144,
                    13.653816618031025,
                    9.611614800294046,
                    1.4154845515365184,
                    2.7652382814682386,
                    1.4894001173585303,
                    2.3633221140725915,
                    1.3089865730681376,
                    6.136075315483741,
                    2.175492412011624,
                    5.697985123131364,
                    0.5288563267033433,
                    1.3895264365879851,
                    1.385465571205008,
                    0.5208816815223878,
                    1.9146845394073775,
                    26.543929154043347,
                    1.8435975207701438,
                    4.858146446906241,
                    4.6739611662766425,
                    0.9843591938370555,
                    2.1162555798116713,
                    0.6003143707568309,
                    1.7631220867954025,
                    0.9427004102705941,
                    12.637559045065748,
                    0.8757769156968256,
                    1.2472866089473291,
                    0.7960944165323728,
                    1.033999968179721,
                    1.3293113900841356,
                    6.397631849211623,
                    0.7417782084670825,
                    1.63395129043984,
                    0.7319150207667254,
                    2.069722187719952,
                    3.1365559199581727,
                    0.7538411716023173,
                    2.9408823529411765,
                    0.6808199121522694,
                    3.7099532182610098,
                    8.336211516703388,
                    13.329877055251075,
                    1.3104894493876422,
                    5.8104223944013995,
                    1.01119110034731,
                    12.382309582309583,
                    9.859582542694497,
                    307.2486033519553,
                    1261.1711711711712,
                    9.591967255052444,
                    1.499050522212783,
                    1.4421704749592867,
                    1.162367797029343,
                    7.912545194078723,
                    3.635113562724241,
                    6.049765542278021,
                    5.24734116988525,
                    2.533699082677049,
                    5.410163565988263,
                    1.5343754499928002,
                    2.794266441821248,
                    1.656758448060075,
                    2.901557270489309,
                    2.590356984150496,
                    1.4333628126616496,
                    3.4122602310888497,
                    1.8225839117706626,
                    5.16929532629142,
                    22.27876303359772,
                    1.7452830188679245,
                    1.6869323725887564,
                    2.0328418230563003,
                    1.0520295591710187,
                    26.367791842475388,
                    1.3591541698133562,
                    1.3262129906914306,
                    2.9311347715029967,
                    3.7446625503025834,
                    3.7914891822360928,
                    1.866156264953175,
                    1.4836962653728987,
                    1.2746049256369703,
                    1.101299750330445,
                    1.2492083597213426,
                    1.3231089160384715,
                    1.887759336099585,
                    239.9,
                    809.9099099099099,
                    7.469206035122434,
                    6.543669770953939,
                    2.264141930429632,
                    823.9325842696629,
                    2.083101851851852,
                    2.980949825596995,
                    4.953994754152962,
                    3.7758271217470902,
                    2.6455156950672647,
                    8.92814217032967,
                    2.2579947622594365,
                    1.1561538060207648,
                    1.7896302445435994,
                    0.9898637091982788,
                    1.5088542087814345,
                    2.9921005095575746,
                    3.98083224692576,
                    1.2649641871883779,
                    1.2686641153258909,
                    1.4462883799554638,
                    1.1691912999188847,
                    1.77956477701728,
                    1.1917991952481317,
                    0.6506517146539468,
                    50.82906857727738,
                    12.315766923736076,
                    1.8656007773336571,
                    1.6104259542481534,
                    0.9321572894000622,
                    1.608194173907334,
                    3.681455543121187,
                    4.703594504736214,
                    2.579111290744395,
                    6.544484164946377,
                    2.255062093282518,
                    2.9081087498515967,
                    2.8703539036101726,
                    1.0744053051043378,
                    1.4324950443027393,
                    1.3177336519183762,
                    1.3250299804338221,
                    0.8311123430204047,
                    2.93256711861363,
                    1.5548223030201132,
                    0.7798416413525223,
                    1.2390076921563613,
                    2.184073972923413,
                    0.9125663312855431,
                    1.4731652420889043,
                    1.9824964966552974,
                    1.0027968059665193,
                    1.0201781803491314,
                    1.0572670281912233,
                    3.409576644991133,
                    1.3051689165559208,
                    1.854590734670021,
                    1.125522378364333,
                    2.2069088956506175,
                    20.49974372116863,
                    24.362606232294617,
                    60.36217303822938,
                    12.146549495993797,
                    41.950692041522494,
                    30.49461814454126,
                    7.276653650455567,
                    10.153464579135019,
                    1.6405124471364616,
                    1.7787496900151047,
                    3.5576120761586894,
                    2.9363532287508898,
                    2.1023975109809663,
                    0.8611354407198025,
                    1.081858407079646,
                    1.866243273379551,
                    1.4000350446819696,
                    918.6666666666666,
                    0.9604409222841862,
                    0.764363724291721,
                    0.6825731981981982,
                    2.2232240976077096,
                    2.0707317073170732,
                    9.29938846051582,
                    0.8395562966722251,
                    1.4538482075677774,
                    1.1988397588160058,
                    1.1941176470588235,
                    1.3045035931803335,
                    1.1888888888888889,
                    1.0552032435804137,
                    1.0504162897598257,
                    0.6746502579950885,
                    3.9596153846153848,
                    3.348648648648649,
                    1.4598,
                    1.125,
                    1.1997777777777778,
                    0.8831666666666667,
                    1.5084075173095945,
                    0.25188976377952754,
                    0.4064835164835165,
                    0.42542553191489363,
                    0.8521590909090909,
                    0.40206521739130435,
                    1.3112639724849526,
                    2.078666666666667,
                    2.1317991631799162,
                    0.9422151423026441,
                    2.0941509433962264,
                    1.9690292159515612,
                    5.376190476190477,
                    1.172993912562258,
                    0.3052671755725191,
                    1.0271428571428571,
                    null,
                    1.3848718189501361,
                    0.8714285714285714,
                    0.3567640440527761,
                    0.874772306765537,
                    0.3959975857256026,
                    1.621875,
                    0.5734716769489624,
                    1.2997519883691098,
                    0.98825490348089,
                    46990,
                    0.4107337801828875,
                    1.5950746268656717,
                    4.319265143992055,
                    0.8475856984887579,
                    3.7722727272727274,
                    1.6510597383052548,
                    2.056857142857143,
                    1.9371875,
                    0.81046875,
                    11.453636363636363,
                    1.5740677966101695,
                    1.4176315789473684,
                    0.4327433628318584,
                    2.886181510196104,
                    1.8229018086381013,
                    0.7948803335891236,
                    0.3380359105899597,
                    0.907902574624396,
                    1.3754617826109579,
                    0.49376237623762376,
                    1.4521818181818182,
                    0.6285013611717326,
                    0.6371292011228283,
                    1.3062776363392739,
                    4.224647887323943,
                    1.1398615635179152,
                    1.7536256323777404,
                    1.7572934973637961,
                    1.0966350094007618,
                    0.5383653846153846,
                    1.2281395736175882,
                    3.8138578978273636,
                    2.627397260273973,
                    1.383076923076923,
                    0.9119565217391304,
                    2.634,
                    0.27373317154908416,
                    6.761764705882353,
                    3.681578947368421,
                    3.2323255813953486,
                    5.796521817283063,
                    2.7196,
                    3.9283333333333332,
                    8.455359030371362,
                    1.9169648943421949,
                    7.520019266662652,
                    4.464239872670329,
                    2.99675,
                    2.6579969247608872,
                    3.1570967741935485,
                    2.1136072320043175,
                    7.7263636363636365,
                    1.479074074074074,
                    1.2269512707075274,
                    2.0505405405405406,
                    0.6348863636363636,
                    0.660875,
                    null,
                    1.7835135135135136,
                    1.4207894736842106,
                    0.489,
                    1.1682926829268292,
                    0.6850746268656717,
                    0.5571428571428572,
                    2.7425714285714284,
                    1.1508327208686366,
                    1.8843447669305189,
                    0.5154830526825949,
                    0.7762964431448349,
                    150.28056112224448,
                    41.8992972729031,
                    66.85627607129314,
                    9.50682918395574,
                    9.40454353040779,
                    195.7238536836682,
                    11.224561403508773,
                    7.118671396323767,
                    12.164021164021165,
                    11.6251421482477,
                    69.3,
                    0.4754544697951468,
                    1.7422639249351168,
                    371.0838759096132,
                    530.6,
                    418.6322400558269,
                    59.38181818181818,
                    8.372127392300303,
                    11.106153228325375,
                    19.796573875803,
                    1499,
                    0.8058960571049316,
                    0.9430146428448956,
                    6.418503077228509,
                    1.7618181818181817,
                    14.193642888530833,
                    1.3108656929105806,
                    2.2270972531551596,
                    1.3600982429624031,
                    1.0281767222793459,
                    1.4183710821322353,
                    0.7294871794871794,
                    0.7587111025739531,
                    1.1859375,
                    0.7829545454545455,
                    0.8414125875964712,
                    0.49071661428087354,
                    0.28608695652173916,
                    7.111428571428571,
                    3.744939828711481,
                    1.053853296193129,
                    0.8452577319587629,
                    0.9079973110353693,
                    1.222297899093624,
                    1.533111111111111,
                    2.488216884732853,
                    0.7493598151271001,
                    1.058868195987531,
                    0.764878245933111,
                    0.46526477559280943,
                    2.679478345200725,
                    1.0226136363636364,
                    7.651304347826087,
                    2.012830148164054,
                    0.644058587825142,
                    1.086910100363015,
                    2843.0604982206405,
                    749.9,
                    196.08326485894275,
                    9.659322033898306,
                    68.86332882273342,
                    7.319026265214606,
                    9.907723855092277,
                    10.866736621196223,
                    9.288170244401078,
                    7.2632802848630185,
                    5.363151177630816,
                    1309,
                    1.946551724137931,
                    4.904545454545454,
                    1749,
                    4.200247218788628,
                    3.8975,
                    2.0987899140202066,
                    21.77431906614786,
                    10.685322163800018,
                    3.7271311794472557,
                    3.111428571428571,
                    0.6879616288277062,
                    2.7624245050510523,
                    2.37854340362923,
                    1.6600791211896435,
                    2.948075348075348,
                    1.3451761287979664,
                    2.2583962163885642,
                    1.0314930511283948,
                    1.8260558008367813,
                    1.864061666747467,
                    3.9159303602237676,
                    1.308252669394272,
                    6.621875,
                    0.526166654297916,
                    5.456692913385827,
                    66.63333333333334,
                    4.874384236453202,
                    12.184905378113546,
                    11.064285714285715,
                    9.195196271733286,
                    11.734773759198372,
                    18.952254641909814,
                    12.86111111111111,
                    20.935922923994493,
                    4.278125,
                    5.02043417944584,
                    2.658,
                    39.36363636363637,
                    4.578681310688439,
                    2.9545785059867176,
                    4.040710410137161,
                    6.137387387387387,
                    17.85011355034065,
                    1.8273791392889778,
                    8559,
                    906.5333333333333,
                    5999,
                    32.47614536103404,
                    14.120444302494766,
                    14.772129501219453,
                    76.8974358974359,
                    33.28154477860393,
                    35.20340012143291,
                    29.572107765451666,
                    29.429082115445272,
                    12.462019660411082,
                    12.622495246453123,
                    12.098130841121495,
                    3.57,
                    4.678571428571429,
                    13.630681818181818,
                    5.7475,
                    1.5202898550724637,
                    1.372,
                    2.14375,
                    2.125531914893617,
                    2.996969696969697,
                    3.2724137931034485,
                    1.4515625,
                    5.768197690034918,
                    2.002302936243711,
                    0.8017916186894563,
                    1.4403846153846154,
                    2.637735849056604,
                    0.8833333333333333,
                    1.813157894736842,
                    1.178,
                    1.0527272727272727,
                    0.7895522388059701,
                    0.6085365853658536,
                    0.7338235294117647,
                    2.037179487179487,
                    1.4591947592871852,
                    5.742567567567567,
                    2.010455599186261,
                    1.2194722908052473,
                    1.2811999417504005,
                    81.97459584295612,
                    51.757333575515396,
                    11.245833333333334,
                    5.6516676370290275,
                    4.249309764844023,
                    17.493747531920494,
                    2.5527777777777776,
                    0.6466116099471604,
                    1.7768354737097165,
                    1.1883970526392775,
                    0.5996503141073861,
                    0.882230597607553,
                    2.0502464403066814,
                    1.3230610505539855,
                    0.9653448275862069,
                    0.4875,
                    null,
                    1.4554444444444445,
                    1.3319444444444444,
                    1.81215892386073,
                    null,
                    1.8974099992785514,
                    1.235593220338983,
                    1.3320375028584497,
                    1252.7272727272727,
                    2.4912,
                    0.5239122272381967,
                    0.31861702127659575,
                    1.2521251203885935,
                    0.9941149841557265,
                    1.5804020100502512,
                    1.2551063829787235,
                    1.1798,
                    1,
                    0.8498333333333333,
                    0.6930555555555555,
                    0.4415929203539823,
                    0.6811132048122917,
                    0.4771739130434783,
                    0.3516393442622951,
                    0.46655555555555556,
                    0.5381578947368421,
                    null,
                    0.44333333333333336,
                    0.4380898876404494,
                    0.557,
                    0.23688524590163934,
                    1.156842105263158,
                    0.7869444444444444,
                    1.733111111111111,
                    1.298888888888889,
                    1.6897058823529412,
                    3.0527777777777776,
                    1.0419354838709678,
                    2.9996774193548386,
                    1.0728395061728395,
                    0.6458646616541354,
                    2.454242424242424,
                    1.025,
                    0.7599,
                    1.4798,
                    1.0267605633802817,
                    0.8629629629629629,
                    1.9416666666666667,
                    null,
                    0.8321428571428572,
                    0.945068493150685,
                    1.2498076923076924,
                    1.0142857142857142,
                    1.0453030303030304,
                    0.7526966292134831,
                    0.7331666666666666,
                    0.505632183908046,
                    0.6165,
                    1.1644303797468354,
                    1.6998,
                    1.5798,
                    1.5096078431372548,
                    1.5398,
                    8.465433729634523,
                    1.3798,
                    1.9663333333333333,
                    0.9998305084745762,
                    1.9663333333333333,
                    0.587375,
                    0.6427142857142857,
                    1.47475,
                    1.009028146574615,
                    null,
                    null,
                    0.5567045454545455,
                    null,
                    0.5665,
                    0.4712857142857143,
                    null,
                    null,
                    1.0782669126986029,
                    1.3831666666666667,
                    1.0120731707317072,
                    1.2998,
                    0.7141558441558442,
                    0.6132,
                    0.5393421052631578,
                    0.35620689655172416,
                    null,
                    1.2422727272727272,
                    1.57475,
                    0.6665277777777778,
                    2.2232240976077096,
                    1.388611111111111,
                    1.023503603885929,
                    0.6152564102564102,
                    0.5899068322981367,
                    0.6606469310778375,
                    1.4658333333333333,
                    1.0218390804597701,
                    1.4245901639344263,
                    null,
                    1.9475,
                    null,
                    0.9669936761206754,
                    null,
                    0.9816666666666667,
                    56900,
                    0.775940610764299,
                    2.4207894736842106,
                    1.7581550530895647,
                    2.0267567567567566,
                    1.3442307692307693,
                    1.6227552759208284,
                    2.19875,
                    1.3364342743085258,
                    1.7833333333333334,
                    0.8504252733900365,
                    2.4500039522567385,
                    0.8160070643011961,
                    1.9166820276497696,
                    1.124156720290607,
                    9.169655280537755,
                    3.265825277773219,
                    15.23274478330658,
                    1.2236262035002876,
                    4.117336152219873,
                    1.2613536971001817,
                    2.726818181818182,
                    null,
                    17.55,
                    2.1495176416843575,
                    1.4186656671664168,
                    0.44940592230818166,
                    1.999481011112468,
                    1.3,
                    2.4866321243523317,
                    1.088646091462041,
                    1.1878685762426284,
                    0.966970802919708,
                    0.6436505932845241,
                    0.6460950226853535,
                    55.11153216777194,
                    20.4300119941362,
                    6.907859078590786,
                    6.669510374455379,
                    6.313225153804864,
                    7.356521739130435,
                    1.5571186440677967,
                    1.3729345129429387,
                    1.3910861449602028,
                    null,
                    1.0280606321934393,
                    0.8131074550686865,
                    1.1688468748110374,
                    1.5139743885176284,
                    null,
                    0.4814856786695753,
                    4.241582426627569,
                    8.812237552489503,
                    2.625457678225285,
                    2.74,
                    0.8687016955245341,
                    1.2535820895522387,
                    null,
                    1.1960510093296284,
                    0.9587396849212303,
                    0.6775449359993101,
                    0.6451398312977302,
                    0.3876765581224007,
                    0.2740794893784532,
                    1.374861111111111,
                    1.5452583574249765,
                    null,
                    3.936875,
                    1.4976190476190476,
                    0.7145543437382474,
                    0.9805769230769231,
                    0.5332,
                    0.487375,
                    0.41962962962962963,
                    0.3482022471910112,
                    2.499,
                    2.1985645933014353,
                    1.5190384615384616,
                    1.2998333333333334,
                    null,
                    1.2629824561403509,
                    0.6391108528258027,
                    3.174045124074137,
                    1.2398,
                    1.3179545454545454,
                    259.96666666666664,
                    2.4711026615969582,
                    0.16818042813455658,
                    null,
                    2.796666666666667,
                    1.458,
                    null,
                    1.4831666666666667,
                    263.3,
                    2.120909090909091,
                    2.403703703703704,
                    0.7885915492957747,
                    0.7431081081081081,
                    0.6408974358974359,
                    null,
                    null,
                    null,
                    93.27831599091017,
                    179.96666666666667,
                    28.015333117373935,
                    574.5977011494252,
                    18.17449891944574,
                    29.75692721989937,
                    37.20497502693174,
                    16.431966594109547,
                    7.178485576923077,
                    56.028169014084504,
                    20.544444444444444,
                    4.375647668393782,
                    4.74060519806174,
                    52.18370103556956,
                    11.58266129032258,
                    1.2522388059701492,
                    1.0271428571428571,
                    0.7681707317073171,
                    0.9,
                    5.6177895955740444,
                    1059.3069306930693,
                    267.2277227722772,
                    0.964957264957265,
                    4.485081101748504,
                    4.198470420634326,
                    2.1592245123209444,
                    0.3748958333333333,
                    1.4000476063792548,
                    0.9015663834460436,
                    2.133150188502791,
                    17.557469896720765,
                    1.0486152317606634,
                    0.4278571428571429,
                    1.0102787456445994,
                    5.833101838991055,
                    5.06971503685273,
                    2.262990117947083,
                    0.8907272727272727,
                    0.7241935483870968,
                    2.642488696427434,
                    null,
                    2.2496875,
                    1.458125,
                    1.6712551005358636,
                    3.0904545454545453,
                    1.595,
                    1.692051282051282,
                    1.346734693877551,
                    0.7745070422535211,
                    1.0798,
                    1.514,
                    1.3510810810810812,
                    2.287966101694915,
                    3.4371875,
                    2.133111111111111,
                    1.4735087719298245,
                    2.2410344827586206,
                    0.89046875,
                    1.0633333333333332,
                    4.544545454545455,
                    3.110589239965841,
                    2.1519565217391303,
                    1.7464032987017664,
                    4.945592752642266,
                    900.8910891089109,
                    2.007590597453477,
                    782.0792079207921,
                    7.937113402061856,
                    702.8712871287129,
                    1.4295154185022025,
                    603.8613861386139,
                    1.804911450714308,
                    1.9716612496804586,
                    465.2475247524753,
                    455.34653465346537,
                    395.94059405940595,
                    386.03960396039605,
                    346.43564356435644,
                    326.63366336633663,
                    296.9306930693069,
                    null,
                    0.8797619047619047,
                    1.259074074074074,
                    4.747954412624196,
                    1.3606717337715695,
                    0.6145127782763157,
                    1.0396605869018156,
                    0.8165,
                    0.665,
                    4.908888888888889,
                    1.5975862068965516,
                    null,
                    0.8681159420289855,
                    null,
                    null,
                    0.34683673469387755,
                    2.0513513513513515,
                    1.0798,
                    0.5052688172043011,
                    0.3808988764044944,
                    null,
                    1055.0393700787401,
                    2.239655172413793,
                    1.221111111111111,
                    1.0226190476190475,
                    1.2178069719042663,
                    null,
                    0.822256205152335,
                    9.22923076923077,
                    2.995,
                    2.1067857142857145,
                    0.6210606060606061,
                    null,
                    0.7563962170233948,
                    5.311428571428571,
                    null,
                    1.3819148936170214,
                    3.74975,
                    3140.4761904761904,
                    0.8591397849462366,
                    0.7412371134020619,
                    0.5635294117647058,
                    19.365828092243188,
                    0.6998571428571428,
                    11.908181818181818,
                    1.1690769230769231,
                    990,
                    0.8772727272727273,
                    null,
                    0.2878736821836037,
                    0.9801960784313726,
                    188.2439357704134,
                    13.505154639175258,
                    2.7201915922619047,
                    18.607940446650122,
                    36.12838709677419,
                    6.999637042414187,
                    4.2787377911344855,
                    3.468627698522914,
                    2.5545023696682465,
                    2.1486752176762476,
                    null,
                    null,
                    3.5241222753619996,
                    7.181353355751071,
                    4.836471048791772,
                    1.6288479494894104,
                    1.331622279257358,
                    1.439400985954795,
                    null,
                    1.5598,
                    1.3660322697461071,
                    1.3101724137931035,
                    1.6942158233797198,
                    2.0796,
                    1.2613846153846153,
                    12.41679085941381,
                    13.335818422796555,
                    1.6978335730787673,
                    1.4703921568627452,
                    1.2293442622950819,
                    1.3398,
                    1.4046897133023495,
                    2.738672286617492,
                    2.9674193548387096,
                    2.07475,
                    1.461795641457403,
                    3.6548901210555345,
                    6.363181818181818,
                    6.640954901187996,
                    2.729605562683664,
                    10.474101237639971,
                    3.511718649060699,
                    3.3035149982984104,
                    null,
                    5.399,
                    3.671053974084277,
                    10.803298969072165,
                    3.424484312020865,
                    4.434347826086957,
                    25.933979565103485,
                    2.7774074074074075,
                    1.714047619047619,
                    4.333,
                    4.932712419590355,
                    2.952142857142857,
                    2.8375675675675676,
                    1.1759517341142434,
                    3.5551851851851852,
                    1.4136206896551724,
                    2.1618918918918917,
                    2.293823529411765,
                    0.9998666666666667,
                    1.2129508196721313,
                    1.1162067977129755,
                    1.1933870967741935,
                    60.83166666666666,
                    2.0046037324884907,
                    1.1813134817992557,
                    1.5523684210526316,
                    1.6568571428571428,
                    0.8026760563380282,
                    1.1247916666666666,
                    1.2043181818181818,
                    1.2501474508693704,
                    1.353430516076877,
                    1.4957408481665802,
                    1.5480645161290323,
                    0.9598,
                    0.7249089437474706,
                    2.0219446553032916,
                    4.875128519783755,
                    2.8872115701223375,
                    3.4277826654127357,
                    3.7386302354844507,
                    1.9523148349025903,
                    1.798949458185127,
                    1.245251883678934,
                    1.291270879709086,
                    1.0122277235553727,
                    0.8934661841145018,
                    0.4802941176470588,
                    0.7830601092896174,
                    4.009541649593163,
                    1.4600739371534195,
                    2.467628205128205,
                    0.7569756086856341,
                    1.3774590246966105,
                    1.1034364653499258,
                    0.8826900439873614,
                    0.8591735892294472,
                    4.907914169055686,
                    2.4005382017729,
                    1.2367549441336942,
                    1.0888946971017017,
                    1.8400147225715424,
                    0.5587586409766142,
                    1.5315644366943941,
                    2.291046106061763,
                    3.434110629067245,
                    2.6420782314191076,
                    1.3275976540887462,
                    7.327744139108834,
                    1.51014083401985,
                    1.0579704010947928,
                    4.479497231037272,
                    5.499690114657577,
                    1.2040235477279362,
                    2.4210552865213883,
                    0.6072232756577388,
                    2.103243412262998,
                    2.9712863563760634,
                    1.0092681200267426,
                    0.5821762703968737,
                    0.9589795918367346
                  ]
                }
              ],
              "layout": {
                "height": 500,
                "template": {
                  "data": {
                    "bar": [
                      {
                        "error_x": {
                          "color": "#2a3f5f"
                        },
                        "error_y": {
                          "color": "#2a3f5f"
                        },
                        "marker": {
                          "line": {
                            "color": "#E5ECF6",
                            "width": 0.5
                          },
                          "pattern": {
                            "fillmode": "overlay",
                            "size": 10,
                            "solidity": 0.2
                          }
                        },
                        "type": "bar"
                      }
                    ],
                    "barpolar": [
                      {
                        "marker": {
                          "line": {
                            "color": "#E5ECF6",
                            "width": 0.5
                          },
                          "pattern": {
                            "fillmode": "overlay",
                            "size": 10,
                            "solidity": 0.2
                          }
                        },
                        "type": "barpolar"
                      }
                    ],
                    "carpet": [
                      {
                        "aaxis": {
                          "endlinecolor": "#2a3f5f",
                          "gridcolor": "white",
                          "linecolor": "white",
                          "minorgridcolor": "white",
                          "startlinecolor": "#2a3f5f"
                        },
                        "baxis": {
                          "endlinecolor": "#2a3f5f",
                          "gridcolor": "white",
                          "linecolor": "white",
                          "minorgridcolor": "white",
                          "startlinecolor": "#2a3f5f"
                        },
                        "type": "carpet"
                      }
                    ],
                    "choropleth": [
                      {
                        "colorbar": {
                          "outlinewidth": 0,
                          "ticks": ""
                        },
                        "type": "choropleth"
                      }
                    ],
                    "contour": [
                      {
                        "colorbar": {
                          "outlinewidth": 0,
                          "ticks": ""
                        },
                        "colorscale": [
                          [
                            0,
                            "#0d0887"
                          ],
                          [
                            0.1111111111111111,
                            "#46039f"
                          ],
                          [
                            0.2222222222222222,
                            "#7201a8"
                          ],
                          [
                            0.3333333333333333,
                            "#9c179e"
                          ],
                          [
                            0.4444444444444444,
                            "#bd3786"
                          ],
                          [
                            0.5555555555555556,
                            "#d8576b"
                          ],
                          [
                            0.6666666666666666,
                            "#ed7953"
                          ],
                          [
                            0.7777777777777778,
                            "#fb9f3a"
                          ],
                          [
                            0.8888888888888888,
                            "#fdca26"
                          ],
                          [
                            1,
                            "#f0f921"
                          ]
                        ],
                        "type": "contour"
                      }
                    ],
                    "contourcarpet": [
                      {
                        "colorbar": {
                          "outlinewidth": 0,
                          "ticks": ""
                        },
                        "type": "contourcarpet"
                      }
                    ],
                    "heatmap": [
                      {
                        "colorbar": {
                          "outlinewidth": 0,
                          "ticks": ""
                        },
                        "colorscale": [
                          [
                            0,
                            "#0d0887"
                          ],
                          [
                            0.1111111111111111,
                            "#46039f"
                          ],
                          [
                            0.2222222222222222,
                            "#7201a8"
                          ],
                          [
                            0.3333333333333333,
                            "#9c179e"
                          ],
                          [
                            0.4444444444444444,
                            "#bd3786"
                          ],
                          [
                            0.5555555555555556,
                            "#d8576b"
                          ],
                          [
                            0.6666666666666666,
                            "#ed7953"
                          ],
                          [
                            0.7777777777777778,
                            "#fb9f3a"
                          ],
                          [
                            0.8888888888888888,
                            "#fdca26"
                          ],
                          [
                            1,
                            "#f0f921"
                          ]
                        ],
                        "type": "heatmap"
                      }
                    ],
                    "heatmapgl": [
                      {
                        "colorbar": {
                          "outlinewidth": 0,
                          "ticks": ""
                        },
                        "colorscale": [
                          [
                            0,
                            "#0d0887"
                          ],
                          [
                            0.1111111111111111,
                            "#46039f"
                          ],
                          [
                            0.2222222222222222,
                            "#7201a8"
                          ],
                          [
                            0.3333333333333333,
                            "#9c179e"
                          ],
                          [
                            0.4444444444444444,
                            "#bd3786"
                          ],
                          [
                            0.5555555555555556,
                            "#d8576b"
                          ],
                          [
                            0.6666666666666666,
                            "#ed7953"
                          ],
                          [
                            0.7777777777777778,
                            "#fb9f3a"
                          ],
                          [
                            0.8888888888888888,
                            "#fdca26"
                          ],
                          [
                            1,
                            "#f0f921"
                          ]
                        ],
                        "type": "heatmapgl"
                      }
                    ],
                    "histogram": [
                      {
                        "marker": {
                          "pattern": {
                            "fillmode": "overlay",
                            "size": 10,
                            "solidity": 0.2
                          }
                        },
                        "type": "histogram"
                      }
                    ],
                    "histogram2d": [
                      {
                        "colorbar": {
                          "outlinewidth": 0,
                          "ticks": ""
                        },
                        "colorscale": [
                          [
                            0,
                            "#0d0887"
                          ],
                          [
                            0.1111111111111111,
                            "#46039f"
                          ],
                          [
                            0.2222222222222222,
                            "#7201a8"
                          ],
                          [
                            0.3333333333333333,
                            "#9c179e"
                          ],
                          [
                            0.4444444444444444,
                            "#bd3786"
                          ],
                          [
                            0.5555555555555556,
                            "#d8576b"
                          ],
                          [
                            0.6666666666666666,
                            "#ed7953"
                          ],
                          [
                            0.7777777777777778,
                            "#fb9f3a"
                          ],
                          [
                            0.8888888888888888,
                            "#fdca26"
                          ],
                          [
                            1,
                            "#f0f921"
                          ]
                        ],
                        "type": "histogram2d"
                      }
                    ],
                    "histogram2dcontour": [
                      {
                        "colorbar": {
                          "outlinewidth": 0,
                          "ticks": ""
                        },
                        "colorscale": [
                          [
                            0,
                            "#0d0887"
                          ],
                          [
                            0.1111111111111111,
                            "#46039f"
                          ],
                          [
                            0.2222222222222222,
                            "#7201a8"
                          ],
                          [
                            0.3333333333333333,
                            "#9c179e"
                          ],
                          [
                            0.4444444444444444,
                            "#bd3786"
                          ],
                          [
                            0.5555555555555556,
                            "#d8576b"
                          ],
                          [
                            0.6666666666666666,
                            "#ed7953"
                          ],
                          [
                            0.7777777777777778,
                            "#fb9f3a"
                          ],
                          [
                            0.8888888888888888,
                            "#fdca26"
                          ],
                          [
                            1,
                            "#f0f921"
                          ]
                        ],
                        "type": "histogram2dcontour"
                      }
                    ],
                    "mesh3d": [
                      {
                        "colorbar": {
                          "outlinewidth": 0,
                          "ticks": ""
                        },
                        "type": "mesh3d"
                      }
                    ],
                    "parcoords": [
                      {
                        "line": {
                          "colorbar": {
                            "outlinewidth": 0,
                            "ticks": ""
                          }
                        },
                        "type": "parcoords"
                      }
                    ],
                    "pie": [
                      {
                        "automargin": true,
                        "type": "pie"
                      }
                    ],
                    "scatter": [
                      {
                        "fillpattern": {
                          "fillmode": "overlay",
                          "size": 10,
                          "solidity": 0.2
                        },
                        "type": "scatter"
                      }
                    ],
                    "scatter3d": [
                      {
                        "line": {
                          "colorbar": {
                            "outlinewidth": 0,
                            "ticks": ""
                          }
                        },
                        "marker": {
                          "colorbar": {
                            "outlinewidth": 0,
                            "ticks": ""
                          }
                        },
                        "type": "scatter3d"
                      }
                    ],
                    "scattercarpet": [
                      {
                        "marker": {
                          "colorbar": {
                            "outlinewidth": 0,
                            "ticks": ""
                          }
                        },
                        "type": "scattercarpet"
                      }
                    ],
                    "scattergeo": [
                      {
                        "marker": {
                          "colorbar": {
                            "outlinewidth": 0,
                            "ticks": ""
                          }
                        },
                        "type": "scattergeo"
                      }
                    ],
                    "scattergl": [
                      {
                        "marker": {
                          "colorbar": {
                            "outlinewidth": 0,
                            "ticks": ""
                          }
                        },
                        "type": "scattergl"
                      }
                    ],
                    "scattermapbox": [
                      {
                        "marker": {
                          "colorbar": {
                            "outlinewidth": 0,
                            "ticks": ""
                          }
                        },
                        "type": "scattermapbox"
                      }
                    ],
                    "scatterpolar": [
                      {
                        "marker": {
                          "colorbar": {
                            "outlinewidth": 0,
                            "ticks": ""
                          }
                        },
                        "type": "scatterpolar"
                      }
                    ],
                    "scatterpolargl": [
                      {
                        "marker": {
                          "colorbar": {
                            "outlinewidth": 0,
                            "ticks": ""
                          }
                        },
                        "type": "scatterpolargl"
                      }
                    ],
                    "scatterternary": [
                      {
                        "marker": {
                          "colorbar": {
                            "outlinewidth": 0,
                            "ticks": ""
                          }
                        },
                        "type": "scatterternary"
                      }
                    ],
                    "surface": [
                      {
                        "colorbar": {
                          "outlinewidth": 0,
                          "ticks": ""
                        },
                        "colorscale": [
                          [
                            0,
                            "#0d0887"
                          ],
                          [
                            0.1111111111111111,
                            "#46039f"
                          ],
                          [
                            0.2222222222222222,
                            "#7201a8"
                          ],
                          [
                            0.3333333333333333,
                            "#9c179e"
                          ],
                          [
                            0.4444444444444444,
                            "#bd3786"
                          ],
                          [
                            0.5555555555555556,
                            "#d8576b"
                          ],
                          [
                            0.6666666666666666,
                            "#ed7953"
                          ],
                          [
                            0.7777777777777778,
                            "#fb9f3a"
                          ],
                          [
                            0.8888888888888888,
                            "#fdca26"
                          ],
                          [
                            1,
                            "#f0f921"
                          ]
                        ],
                        "type": "surface"
                      }
                    ],
                    "table": [
                      {
                        "cells": {
                          "fill": {
                            "color": "#EBF0F8"
                          },
                          "line": {
                            "color": "white"
                          }
                        },
                        "header": {
                          "fill": {
                            "color": "#C8D4E3"
                          },
                          "line": {
                            "color": "white"
                          }
                        },
                        "type": "table"
                      }
                    ]
                  },
                  "layout": {
                    "annotationdefaults": {
                      "arrowcolor": "#2a3f5f",
                      "arrowhead": 0,
                      "arrowwidth": 1
                    },
                    "autotypenumbers": "strict",
                    "coloraxis": {
                      "colorbar": {
                        "outlinewidth": 0,
                        "ticks": ""
                      }
                    },
                    "colorscale": {
                      "diverging": [
                        [
                          0,
                          "#8e0152"
                        ],
                        [
                          0.1,
                          "#c51b7d"
                        ],
                        [
                          0.2,
                          "#de77ae"
                        ],
                        [
                          0.3,
                          "#f1b6da"
                        ],
                        [
                          0.4,
                          "#fde0ef"
                        ],
                        [
                          0.5,
                          "#f7f7f7"
                        ],
                        [
                          0.6,
                          "#e6f5d0"
                        ],
                        [
                          0.7,
                          "#b8e186"
                        ],
                        [
                          0.8,
                          "#7fbc41"
                        ],
                        [
                          0.9,
                          "#4d9221"
                        ],
                        [
                          1,
                          "#276419"
                        ]
                      ],
                      "sequential": [
                        [
                          0,
                          "#0d0887"
                        ],
                        [
                          0.1111111111111111,
                          "#46039f"
                        ],
                        [
                          0.2222222222222222,
                          "#7201a8"
                        ],
                        [
                          0.3333333333333333,
                          "#9c179e"
                        ],
                        [
                          0.4444444444444444,
                          "#bd3786"
                        ],
                        [
                          0.5555555555555556,
                          "#d8576b"
                        ],
                        [
                          0.6666666666666666,
                          "#ed7953"
                        ],
                        [
                          0.7777777777777778,
                          "#fb9f3a"
                        ],
                        [
                          0.8888888888888888,
                          "#fdca26"
                        ],
                        [
                          1,
                          "#f0f921"
                        ]
                      ],
                      "sequentialminus": [
                        [
                          0,
                          "#0d0887"
                        ],
                        [
                          0.1111111111111111,
                          "#46039f"
                        ],
                        [
                          0.2222222222222222,
                          "#7201a8"
                        ],
                        [
                          0.3333333333333333,
                          "#9c179e"
                        ],
                        [
                          0.4444444444444444,
                          "#bd3786"
                        ],
                        [
                          0.5555555555555556,
                          "#d8576b"
                        ],
                        [
                          0.6666666666666666,
                          "#ed7953"
                        ],
                        [
                          0.7777777777777778,
                          "#fb9f3a"
                        ],
                        [
                          0.8888888888888888,
                          "#fdca26"
                        ],
                        [
                          1,
                          "#f0f921"
                        ]
                      ]
                    },
                    "colorway": [
                      "#636efa",
                      "#EF553B",
                      "#00cc96",
                      "#ab63fa",
                      "#FFA15A",
                      "#19d3f3",
                      "#FF6692",
                      "#B6E880",
                      "#FF97FF",
                      "#FECB52"
                    ],
                    "font": {
                      "color": "#2a3f5f"
                    },
                    "geo": {
                      "bgcolor": "white",
                      "lakecolor": "white",
                      "landcolor": "#E5ECF6",
                      "showlakes": true,
                      "showland": true,
                      "subunitcolor": "white"
                    },
                    "hoverlabel": {
                      "align": "left"
                    },
                    "hovermode": "closest",
                    "mapbox": {
                      "style": "light"
                    },
                    "paper_bgcolor": "white",
                    "plot_bgcolor": "#E5ECF6",
                    "polar": {
                      "angularaxis": {
                        "gridcolor": "white",
                        "linecolor": "white",
                        "ticks": ""
                      },
                      "bgcolor": "#E5ECF6",
                      "radialaxis": {
                        "gridcolor": "white",
                        "linecolor": "white",
                        "ticks": ""
                      }
                    },
                    "scene": {
                      "xaxis": {
                        "backgroundcolor": "#E5ECF6",
                        "gridcolor": "white",
                        "gridwidth": 2,
                        "linecolor": "white",
                        "showbackground": true,
                        "ticks": "",
                        "zerolinecolor": "white"
                      },
                      "yaxis": {
                        "backgroundcolor": "#E5ECF6",
                        "gridcolor": "white",
                        "gridwidth": 2,
                        "linecolor": "white",
                        "showbackground": true,
                        "ticks": "",
                        "zerolinecolor": "white"
                      },
                      "zaxis": {
                        "backgroundcolor": "#E5ECF6",
                        "gridcolor": "white",
                        "gridwidth": 2,
                        "linecolor": "white",
                        "showbackground": true,
                        "ticks": "",
                        "zerolinecolor": "white"
                      }
                    },
                    "shapedefaults": {
                      "line": {
                        "color": "#2a3f5f"
                      }
                    },
                    "ternary": {
                      "aaxis": {
                        "gridcolor": "white",
                        "linecolor": "white",
                        "ticks": ""
                      },
                      "baxis": {
                        "gridcolor": "white",
                        "linecolor": "white",
                        "ticks": ""
                      },
                      "bgcolor": "#E5ECF6",
                      "caxis": {
                        "gridcolor": "white",
                        "linecolor": "white",
                        "ticks": ""
                      }
                    },
                    "title": {
                      "x": 0.05
                    },
                    "xaxis": {
                      "automargin": true,
                      "gridcolor": "white",
                      "linecolor": "white",
                      "ticks": "",
                      "title": {
                        "standoff": 15
                      },
                      "zerolinecolor": "white",
                      "zerolinewidth": 2
                    },
                    "yaxis": {
                      "automargin": true,
                      "gridcolor": "white",
                      "linecolor": "white",
                      "ticks": "",
                      "title": {
                        "standoff": 15
                      },
                      "zerolinecolor": "white",
                      "zerolinewidth": 2
                    }
                  }
                },
                "title": {
                  "text": "Histogram of car price per km"
                },
                "width": 970
              }
            }
          },
          "metadata": {},
          "output_type": "display_data"
        }
      ],
      "source": [
        "fig = go.Figure(\n",
        "    go.Histogram(x=df_cars_2_var['car_price_per_km'], name='Price per km')\n",
        ")\n",
        "\n",
        "fig.update_layout(height=500, width=970, title_text=\"Histogram of car price per km\")\n",
        "fig.show()\n"
      ]
    },
    {
      "cell_type": "code",
      "execution_count": 37,
      "metadata": {},
      "outputs": [
        {
          "data": {
            "application/vnd.plotly.v1+json": {
              "config": {
                "plotlyServerURL": "https://plot.ly"
              },
              "data": [
                {
                  "name": "Log of price per km",
                  "type": "histogram",
                  "x": [
                    1.224060487255817,
                    0.5084623812733606,
                    0.24175218141350743,
                    0.14228912142758002,
                    0.42964092244233554,
                    0.2698998185614647,
                    0.8565400913180897,
                    0.5901990118829471,
                    -0.06731706021907671,
                    1.0956947349031458,
                    0.15507678617891504,
                    0.4583765380992209,
                    0.829023348138299,
                    1.0190412020379693,
                    0.058646634316630024,
                    0.7148555412174863,
                    0.13231822485315667,
                    0.10164857274610975,
                    0.025280274399064592,
                    0.07778362826809936,
                    1.5882677437409607,
                    1.4310499984692737,
                    0.46309902061265146,
                    0.18598184886182795,
                    0.013702141523912994,
                    0.1858557148389097,
                    0.268948236078813,
                    -0.05794210453200495,
                    0.25353254332142744,
                    0.20415618039847455,
                    0.9670416900924254,
                    -0.17039817870539778,
                    0.4670091986248124,
                    0.25710706719107485,
                    0.6021323883935676,
                    0.19275597944827158,
                    0.09450098702021587,
                    0.11975340067272482,
                    1.0136258894666095,
                    -0.10584427879843175,
                    0.319440229196244,
                    0.4984498073891446,
                    0.21675781233565192,
                    0.3585771766287664,
                    0.17024182353912437,
                    0.0576372660986203,
                    0.10525589372995821,
                    0.14545498870257478,
                    1.2526142015161703,
                    0.7675298395163739,
                    0.2227590074992838,
                    0.1354014461076949,
                    0.2589440219142722,
                    0.12254314477242925,
                    1.1617373464725667,
                    0.7469735519942555,
                    1.9452378512073625,
                    0.32516665380734033,
                    0.2564372693001767,
                    0.6364528668157601,
                    0.17590347125959124,
                    0.21918624268503487,
                    0.33163096199487435,
                    0.3864994938183534,
                    0.12554023740474718,
                    0.45452887809693215,
                    0.45849804524816645,
                    0.3147081485852656,
                    0.2621583761255422,
                    0.265517697880837,
                    0.04967744249002968,
                    0.4411678927898726,
                    0.3160548807977057,
                    0.17935812396468412,
                    0.20673604955653774,
                    0.13149847589078273,
                    0.24862993326036667,
                    -0.0651135598211527,
                    0.08744908030648064,
                    0.4106849453508358,
                    0.6821671958337772,
                    0.09576431275886359,
                    0.16638847569223805,
                    0.05418669387240902,
                    0.799640166217382,
                    0.01973096354195704,
                    0.15340935809414216,
                    0.6320289700374964,
                    0.6932037889105499,
                    0.18480727357152738,
                    0.19036310696974543,
                    0.5044533496260155,
                    0.07293726105097675,
                    0.11130501795713459,
                    0.037368615220762284,
                    0.4440161305616814,
                    0.13354317589267362,
                    0.6700552551559863,
                    -0.02553443890711521,
                    0.6419160556081646,
                    0.5135114560690158,
                    2.169747034532596,
                    0.3274655949848742,
                    -0.04228328496449013,
                    0.37343993034521816,
                    0.19395397794702718,
                    0.7945541456678726,
                    0.6218723557702733,
                    0.07852866218042835,
                    0.5371987542971979,
                    0.28298370522790395,
                    0.73235549995504,
                    0.6376087381615971,
                    -0.019459877871562833,
                    0.29316904873058763,
                    0.3685100014973472,
                    0.16953090017625924,
                    0.13700168873040525,
                    0.339571460804208,
                    0.23472217228270453,
                    0.23180151616839714,
                    -0.012002439542336379,
                    0.35423506757385836,
                    0.6102577336297916,
                    0.3507753339727086,
                    0.3600245281481317,
                    0.20432902812965203,
                    0.41333457604999524,
                    0.5036075715452112,
                    0.3284665822327051,
                    0.08075522445665761,
                    0.04209815643642698,
                    0.1833691592188703,
                    0.20497810283612536,
                    0.5584556756383797,
                    -0.10412151526009822,
                    0.408404965165658,
                    0.03298730592643443,
                    -0.2590945069521786,
                    0.39674725861076793,
                    0.5236330735764012,
                    0.7786600526466034,
                    0.18095752712685845,
                    -0.11599104607906405,
                    0.558116190604169,
                    -0.1368297012760576,
                    -0.23429463329920253,
                    -0.03073523017902132,
                    0.3222335750996283,
                    0.10876198137134281,
                    0.5302385822852845,
                    0.210371202322602,
                    0.23326109883889215,
                    0.49458832939856384,
                    0.9081371054505869,
                    0.005946394422499965,
                    0.15830216922802254,
                    0.5852135056329694,
                    0.5690566262560216,
                    0.10336465327645837,
                    0.5086220832353836,
                    0.04738578221925667,
                    0.25299210711193704,
                    0.8056370313217179,
                    0.26016265716913844,
                    -0.08830635170440487,
                    0.14577482716795942,
                    -0.04517359872278243,
                    -0.01901713377139283,
                    0.3333045024645283,
                    0.5159809280023696,
                    0.3330196360355085,
                    0.12967256151947243,
                    0.09247013025244658,
                    0.5584725555715038,
                    0.8242587594437818,
                    0.8832593825389319,
                    1.0525720016210751,
                    0.8726518564800518,
                    0.5532472201477489,
                    -0.010118814994488594,
                    0.7283417537208436,
                    0.8082388243652014,
                    0.18148569438444284,
                    0.43319840264066767,
                    0.04754150742824191,
                    0.36493776680593704,
                    1.135254065623317,
                    0.9827963574857034,
                    0.1509051338784051,
                    0.44173256054778,
                    0.17301138372794952,
                    0.373522918767524,
                    0.11693519179726182,
                    0.7878906815957893,
                    0.33755757283800836,
                    0.7557213110055305,
                    -0.2766622958187533,
                    0.1428668139094055,
                    0.14159573804213108,
                    -0.28326091565932543,
                    0.28209723048208124,
                    1.4239652095464286,
                    0.2656661154231001,
                    0.6864706023020982,
                    0.6696850997246231,
                    -0.006846398076423063,
                    0.3255681161982553,
                    -0.2216212600662661,
                    0.24628238591576104,
                    -0.025626303910179265,
                    1.1016631977097466,
                    -0.057606506412235275,
                    0.09596625971924523,
                    -0.09903542202696776,
                    0.014520525392960629,
                    0.12362672598011358,
                    0.8060192450547284,
                    -0.12972592927312723,
                    0.21323910567956406,
                    -0.13553933991769682,
                    0.31591205539060907,
                    0.49645303474367763,
                    -0.12272014691903863,
                    0.4684776513379374,
                    -0.1669677507915786,
                    0.5693684332864223,
                    0.9209687255537821,
                    1.1248261438270422,
                    0.11743352883761925,
                    0.7642077050047451,
                    0.004833238660755767,
                    1.0928016580364384,
                    0.9938585271884437,
                    2.487489917407417,
                    3.100774034749212,
                    0.9819076875038127,
                    0.17581627003872352,
                    0.15901660016020217,
                    0.06534356948835805,
                    0.8983162035919772,
                    0.5605179829788516,
                    0.7817385439635515,
                    0.7199393019306958,
                    0.4037550341886498,
                    0.7332103953713204,
                    0.18593164117046704,
                    0.4462678150550741,
                    0.21925919380155,
                    0.46263114702256153,
                    0.41335961951106376,
                    0.15635613289106126,
                    0.5330421445987273,
                    0.2606875323700112,
                    0.713431344494039,
                    1.347891074176915,
                    0.24186586313824354,
                    0.22709767251192803,
                    0.30810358717401354,
                    0.022027942483607673,
                    1.4210737615423124,
                    0.13326872185515148,
                    0.12261327765378584,
                    0.46703578745053126,
                    0.5734126874174373,
                    0.57880982120828,
                    0.2709480071304267,
                    0.1713450035214542,
                    0.10537559245298145,
                    0.04190554076716836,
                    0.09663488187316367,
                    0.12159559602994323,
                    0.27594662679147636,
                    2.380030247967831,
                    2.908436712946571,
                    0.8732744394471088,
                    0.8158213743626556,
                    0.35490364763566273,
                    2.9158916783506976,
                    0.31871050500095033,
                    0.474354666187028,
                    0.6949555423702002,
                    0.5770121016773968,
                    0.4225103424172673,
                    0.950761097285491,
                    0.3537229301821897,
                    0.06301561320458975,
                    0.252763310676974,
                    -0.004424597743650322,
                    0.1786472786221332,
                    0.47597617810053705,
                    0.599973876712586,
                    0.10207823023386503,
                    0.10334665584641971,
                    0.1602548969255524,
                    0.06788557506439455,
                    0.25031380115646373,
                    0.07620308783535824,
                    -0.18665142138575438,
                    1.7061121514997724,
                    1.0904614612726422,
                    0.27081871403499186,
                    0.2069407611950071,
                    -0.030510799926082778,
                    0.20633848444063185,
                    0.5660195603488531,
                    0.6724298743040026,
                    0.41147008270147356,
                    0.8158754212235345,
                    0.35315850470563853,
                    0.4636106431008115,
                    0.4579354468766487,
                    0.031168144087177604,
                    0.1560931282061312,
                    0.1198276369714723,
                    0.12222570483106993,
                    -0.08034026784503635,
                    0.467247960739811,
                    0.1916807617052373,
                    -0.10799357842377408,
                    0.09307400262359508,
                    0.3392673435054104,
                    -0.03973555836265293,
                    0.1682514635448982,
                    0.2972124285320793,
                    0.0012129420060385024,
                    0.008676030570087817,
                    0.0241846885599466,
                    0.5327004575384121,
                    0.11566672223429504,
                    0.26824808576521975,
                    0.051354134346334894,
                    0.3437844052355672,
                    1.3117484317299979,
                    1.386723745855745,
                    1.7807648659863304,
                    1.0844529242161414,
                    1.6227391295827271,
                    1.4842231994659145,
                    0.8619317041401348,
                    1.0066142580977333,
                    0.21497952987730767,
                    0.25011483740731405,
                    0.5511585906370161,
                    0.4678082978618947,
                    0.32271483372069154,
                    -0.06492853666335892,
                    0.034170424312238115,
                    0.2709682553804187,
                    0.14613890676503327,
                    2.9631579585159256,
                    -0.017529343884081814,
                    -0.1166999321792527,
                    -0.16585076865502024,
                    0.3469832411286792,
                    0.3161238335242172,
                    0.9684543897414661,
                    -0.07595017681676001,
                    0.16251906535589947,
                    0.07876113763369191,
                    0.07704711653493898,
                    0.11544527967713046,
                    0.07514126824588477,
                    0.02333611751453163,
                    0.02136144813278221,
                    -0.17092130922311904,
                    0.5976530029832322,
                    0.5248695823090684,
                    0.1642933593144621,
                    0.05115252244738129,
                    0.07910081369589883,
                    -0.05395733086931405,
                    0.1785186880918036,
                    -0.5987894808718498,
                    -0.3909570610056995,
                    -0.371176449466177,
                    -0.06947931855012758,
                    -0.3957034960301612,
                    0.11769012895435621,
                    0.31778485179714167,
                    0.3287462873943075,
                    -0.025849920512093873,
                    0.32100798179434653,
                    0.2942521601362965,
                    0.7304746471910486,
                    0.06929575828136014,
                    -0.5153198915222426,
                    0.011630850368625774,
                    null,
                    0.14140957780563923,
                    -0.05976820500348979,
                    -0.4476189218304878,
                    -0.05810497415896034,
                    -0.40230746182510585,
                    0.21001737952855187,
                    -0.2414880264959752,
                    0.11386049049266982,
                    -0.005131022115870136,
                    4.672005445022952,
                    -0.386439577780069,
                    0.2027810066896176,
                    0.6354098646259309,
                    -0.07181637985153967,
                    0.5766030837651541,
                    0.21776278710105784,
                    0.3132041292137657,
                    0.28717165803166755,
                    -0.09126372599030219,
                    1.0589433907754708,
                    0.19702343390588895,
                    0.15156337892914476,
                    -0.3637695843597995,
                    0.4603236401316179,
                    0.2607632758326285,
                    -0.09969824791422245,
                    -0.47103716083879854,
                    -0.04196075233036364,
                    0.13844852796324875,
                    -0.30648200556427957,
                    0.16202099493822764,
                    -0.20169377740724817,
                    -0.19577248972900077,
                    0.11603549172895274,
                    0.6257905175543985,
                    0.056852109361872495,
                    0.24393688484194237,
                    0.24484430198512133,
                    0.040062106354016525,
                    -0.26892287180379654,
                    0.08924772560597125,
                    0.5813645074464456,
                    0.4195257427141889,
                    0.1408463350903732,
                    -0.04002586651685499,
                    0.420615770625765,
                    -0.562672570701676,
                    0.8300600542270239,
                    0.5660341178750175,
                    0.5095150993432311,
                    0.7631674748263516,
                    0.43450503250207334,
                    0.5942083321406801,
                    0.9271320532819143,
                    0.2826141596526738,
                    0.8762189532770885,
                    0.6497475220805653,
                    0.4766505140003138,
                    0.4245544741386358,
                    0.4992878944845818,
                    0.3250242862726259,
                    0.8879751440818746,
                    0.16998992460950293,
                    0.08882731473754064,
                    0.31186835999707224,
                    -0.19730400079000418,
                    -0.17988067658683216,
                    null,
                    0.25127640429512765,
                    0.15252973085443236,
                    -0.3106911408763798,
                    0.0675516566948277,
                    -0.16426211716356517,
                    -0.2540334329877576,
                    0.43815794732439917,
                    0.061012201402743826,
                    0.275160365907501,
                    -0.2877856082610052,
                    -0.10997240369373877,
                    2.176902807976651,
                    1.622206739122387,
                    1.8251421825058878,
                    0.9780356906984449,
                    0.9733377209883615,
                    2.2916437581663573,
                    1.050169380075597,
                    0.8523989460122798,
                    1.0850771670960349,
                    1.065398271998306,
                    1.8407332346118068,
                    -0.32289106540052664,
                    0.2411139442772073,
                    2.569472084083047,
                    2.7247672456463103,
                    2.6218326715401106,
                    1.7736534909064054,
                    0.9228358280460244,
                    1.0455636610109509,
                    1.2965900349290798,
                    3.1758016328482794,
                    -0.093720969034597,
                    -0.025481563617534238,
                    0.8074337537538449,
                    0.24596108755652146,
                    1.152093874199088,
                    0.11755819755140734,
                    0.34773918227266665,
                    0.13357027957277348,
                    0.012067767299865733,
                    0.1517898682510513,
                    -0.13698233629540926,
                    -0.11992356065542288,
                    0.07406180191159321,
                    -0.10626345024254281,
                    -0.07499099519185777,
                    -0.309169237783595,
                    -0.5435019424036374,
                    0.8519568522583175,
                    0.5734448441266713,
                    0.02278015823115994,
                    -0.07301084785392174,
                    -0.04191543760692186,
                    0.08717706528907093,
                    0.18557363117125092,
                    0.39588823282644386,
                    -0.1253095999218137,
                    0.02484190409447122,
                    -0.11640769076493356,
                    -0.3322998259209353,
                    0.42805025154651466,
                    0.009711579665693857,
                    0.8837354773466028,
                    0.30380712867536613,
                    -0.19107462454727359,
                    0.03619362455467876,
                    3.453786101253524,
                    2.8750033536000412,
                    2.2924405294681067,
                    0.9849466453316864,
                    1.8379880124784689,
                    0.8644533056794703,
                    0.9959738935657054,
                    1.036099141124508,
                    0.9679301670585068,
                    0.8611328036024908,
                    0.7294200391196007,
                    3.116939646550756,
                    0.28926594836203057,
                    0.6905987638607044,
                    3.2427898094786767,
                    0.6232748529207546,
                    0.5907861238608793,
                    0.3219689684785151,
                    1.3379445824884955,
                    1.028787620730447,
                    0.5713746783743142,
                    0.4929598354054993,
                    -0.16243578393470995,
                    0.4412904179193181,
                    0.3763110808283112,
                    0.22012878748414424,
                    0.4695385791989423,
                    0.1287791518158767,
                    0.3538001375428017,
                    0.013466306602181746,
                    0.2615140446250179,
                    0.2704602755529114,
                    0.5928349598319521,
                    0.11669162955886098,
                    0.8209809783908886,
                    -0.2788766787005113,
                    0.7369295136558499,
                    1.8236915393984545,
                    0.6879197606292021,
                    1.0858221610199053,
                    1.043923382080968,
                    0.9635610037014471,
                    1.0694747210263134,
                    1.2776608829211962,
                    1.1092784902506658,
                    1.3208921107712257,
                    0.631253469814084,
                    0.7007412776198417,
                    0.42455497660671315,
                    1.5950952111951404,
                    0.6607404164418635,
                    0.4704955340902187,
                    0.6064577265163708,
                    0.7879835364980414,
                    1.2516409831445432,
                    0.2618286628525396,
                    3.932423026376739,
                    2.957383777782411,
                    3.778078861937455,
                    1.5115644766105083,
                    1.1498483620901483,
                    1.1694431062777824,
                    1.885911858733028,
                    1.52220347606981,
                    1.5465846118492244,
                    1.4708822801663468,
                    1.4687767167916363,
                    1.0955884320737186,
                    1.1011452158151716,
                    1.0827182770856811,
                    0.5526682161121932,
                    0.670113264313545,
                    1.1345175801536809,
                    0.7594789799413166,
                    0.18192639745630254,
                    0.13735411137073292,
                    0.3311741373868457,
                    0.3274676302902648,
                    0.47668235171929196,
                    0.5148682145283366,
                    0.16183574000975462,
                    0.7610401362848876,
                    0.3015297842252823,
                    -0.09593848784097841,
                    0.1584784740646673,
                    0.4212313018088736,
                    -0.0538753807828546,
                    0.25843562529081565,
                    0.07114529045108281,
                    0.022315874233192354,
                    -0.10261913066564068,
                    -0.2157133067603268,
                    -0.13440836708284642,
                    0.30902929451689914,
                    0.16411326121409436,
                    0.7591061138451423,
                    0.3032944861724143,
                    0.086171936599649,
                    0.10761691024663883,
                    1.913679284156814,
                    1.713971894336287,
                    1.0509916428449106,
                    0.7521766139605852,
                    0.6283183913057759,
                    1.2428828545384472,
                    0.40701301061882394,
                    -0.1893565018730542,
                    0.2496472161181946,
                    0.07496156603293472,
                    -0.22210193449211044,
                    -0.05441788405287022,
                    0.31180606653510645,
                    0.12157988448000456,
                    -0.015317526067953504,
                    -0.3120253799654444,
                    null,
                    0.16299563270049497,
                    0.12448611073939511,
                    0.2581962820434434,
                    null,
                    0.2781611849661007,
                    0.09187551667583041,
                    0.12451645235319962,
                    3.097856532413382,
                    0.3964085952240451,
                    -0.2807414657243931,
                    -0.4967310268743685,
                    0.09764772853838335,
                    -0.0025633800933806523,
                    0.19876757337158105,
                    0.0986805382334302,
                    0.07180839183312883,
                    0,
                    -0.07066623841617005,
                    -0.15923195080787855,
                    -0.3549778978600298,
                    -0.16678069992364275,
                    -0.3213233071034339,
                    -0.453902538490024,
                    -0.33109663480138524,
                    -0.2690902842734496,
                    null,
                    -0.3532696137525766,
                    -0.35843677145692704,
                    -0.25414480482627105,
                    -0.6254619879182004,
                    0.0632740871346428,
                    -0.10405592624685006,
                    0.2388264065659479,
                    0.11357200172251526,
                    0.22781111598204887,
                    0.4846951916562033,
                    0.017840828496830233,
                    0.47707455387743203,
                    0.030534757570016724,
                    -0.18985847713584347,
                    0.38991745908811887,
                    0.010723865391773066,
                    -0.11924355548978958,
                    0.17020302298566428,
                    0.011469179598899322,
                    -0.06400784313296835,
                    0.28817467497839416,
                    null,
                    -0.07980211031620023,
                    -0.02453671517386127,
                    0.09684319333227216,
                    0.006160308704818433,
                    0.01924220940472598,
                    -0.1233800288538124,
                    -0.1347972884067807,
                    -0.29616529064175556,
                    -0.2100669190682495,
                    0.06611352756744265,
                    0.23039782490408084,
                    0.19860210948971183,
                    0.1788641435310019,
                    0.18746431529291951,
                    0.9276492142537335,
                    0.1398161406105758,
                    0.2936571414494852,
                    -0.00007361547299656614,
                    0.2936571414494852,
                    -0.23108454196899175,
                    -0.19198204684869,
                    0.16871840484118525,
                    0.003903280936164129,
                    null,
                    null,
                    -0.254375232693838,
                    null,
                    -0.24680008580058393,
                    -0.32671572446891295,
                    null,
                    null,
                    0.03272627881341972,
                    0.14087451420371666,
                    0.005211912203643554,
                    0.1138765326310525,
                    -0.14620700549060273,
                    -0.21239785381766246,
                    -0.26813567396428967,
                    -0.4482976763793355,
                    null,
                    0.09421695087045442,
                    0.19721161702191028,
                    -0.17618174649884702,
                    0.3469832411286792,
                    0.14258063598530293,
                    0.010089376207138897,
                    -0.21094385275805905,
                    -0.22921657380509172,
                    -0.18003057811028458,
                    0.16608459340983642,
                    0.009382508351595173,
                    0.15368994143789946,
                    null,
                    0.2894774663446021,
                    null,
                    -0.01457636607715893,
                    null,
                    -0.008035955596541982,
                    4.755112266395071,
                    -0.11017151766498053,
                    0.383957022241074,
                    0.24505717320179515,
                    0.306801629533046,
                    0.12847383211088229,
                    0.21025302978872784,
                    0.3421758524655177,
                    0.1259476050626137,
                    0.25123252730156603,
                    -0.07036384169885476,
                    0.3891667849530664,
                    -0.08830608147438898,
                    0.2825500705769935,
                    0.05082686106652043,
                    0.962353009326043,
                    0.5139929461909919,
                    1.1827781657681231,
                    0.08764876866711227,
                    0.6146163256067905,
                    0.10083688447958261,
                    0.4356561811152488,
                    null,
                    1.2442771208018428,
                    0.33234101384229164,
                    0.1518800585915802,
                    -0.3473612087108014,
                    0.30091728403431567,
                    0.11394335230683679,
                    0.39561153992162484,
                    0.036886717675224,
                    0.07476839370078867,
                    -0.014586638970039562,
                    -0.1913498261008005,
                    -0.18970360461624947,
                    1.7412424851092847,
                    1.3102686215999286,
                    0.8393434693102071,
                    0.8240939524356918,
                    0.8002512782092407,
                    0.8666725226854118,
                    0.19232170473310747,
                    0.1376498224910908,
                    0.14335402511960352,
                    null,
                    0.012018728910735438,
                    -0.0898520570386108,
                    0.06775761998952387,
                    0.18011852838760184,
                    null,
                    -0.3174166260208074,
                    0.627527911059877,
                    0.9450861959622512,
                    0.4192050219522078,
                    0.437750562820388,
                    -0.06112933083393345,
                    0.09815277855929125,
                    null,
                    0.0777497018915083,
                    -0.018299295591477856,
                    -0.169061896306878,
                    -0.19034614369145592,
                    -0.41153045895121476,
                    -0.5621234634865868,
                    0.13825882782108498,
                    0.18900110112245228,
                    null,
                    0.5951516256939479,
                    0.17540135504736845,
                    -0.14596473637873808,
                    -0.008518331667325555,
                    -0.2731098592581784,
                    -0.31213675180395783,
                    -0.37713385429559004,
                    -0.45816843040562977,
                    0.39776625612645006,
                    0.34213922961107607,
                    0.18156877019093146,
                    0.11388766995764797,
                    null,
                    0.10139731789154996,
                    -0.19442380757687033,
                    0.5016130966460178,
                    0.09335163201555471,
                    0.119900432262028,
                    2.414917665621629,
                    0.3928907884773134,
                    -0.774224546277293,
                    null,
                    0.4466407061090379,
                    0.1637575239819558,
                    null,
                    0.17118995638685375,
                    2.4204508591060683,
                    0.3265220536355276,
                    0.38088093264138195,
                    -0.10314788122409148,
                    -0.12894800004909707,
                    -0.1932114659378902,
                    null,
                    null,
                    null,
                    1.969780696908325,
                    2.25519207275158,
                    1.4473957908291883,
                    2.759363884133972,
                    1.2594624459674122,
                    1.4735880827763608,
                    1.5706010173625018,
                    1.215689543341285,
                    0.8560328321311915,
                    1.7484064300693414,
                    1.312694401719848,
                    0.6410423448992537,
                    0.6758337883831376,
                    1.717534877415122,
                    1.0638083565341065,
                    0.09768715812787383,
                    0.011630850368625774,
                    -0.11454224403384404,
                    -0.045757490560675115,
                    0.7495654694343862,
                    3.025021813736464,
                    2.426881510773874,
                    -0.015491919821193776,
                    0.6517703006071774,
                    0.6230910978099126,
                    0.3342978018491727,
                    -0.4260893863866572,
                    0.14614280341844976,
                    -0.045002290125286996,
                    0.3290214338562603,
                    1.2444619324664097,
                    0.020616161809481764,
                    -0.36870121328892663,
                    0.004441216350241973,
                    0.7658995587591378,
                    0.7049835488006952,
                    0.3546826574764156,
                    -0.05025525003791326,
                    -0.14014534849493068,
                    0.42201313823502085,
                    null,
                    0.35212219524413535,
                    0.16379475613782782,
                    0.22304274570381794,
                    0.4900223603519048,
                    0.2027606873931999,
                    0.2284135213356234,
                    0.12928204833360896,
                    -0.11097462903719621,
                    0.03334332313522373,
                    0.18012587516405396,
                    0.13068141268559524,
                    0.35944958569970054,
                    0.5362032237270683,
                    0.3290134778993311,
                    0.16835272558762632,
                    0.3504485390681152,
                    -0.05038131701005658,
                    0.026669428337518654,
                    0.6574904515943653,
                    0.4928426653696646,
                    0.3328334925707793,
                    0.24214454302095312,
                    0.6942183512970002,
                    2.9546722912476833,
                    0.30267515299745046,
                    2.8932507400430882,
                    0.8996625853626935,
                    2.846875802391518,
                    0.1551888439432653,
                    2.7809372595750586,
                    0.25645590019764475,
                    0.29483230105555447,
                    2.667684071240309,
                    2.658342035791395,
                    2.5976300303508792,
                    2.586631861405343,
                    2.539622568700264,
                    2.5140609417627013,
                    2.4726550919768844,
                    null,
                    -0.05563484766705593,
                    0.10005128135114248,
                    0.6765065404340274,
                    0.13375336296435864,
                    -0.2114690818951955,
                    0.016891580361899666,
                    -0.08804381092731303,
                    -0.17717835469689538,
                    0.6909832020960912,
                    0.2034643023041991,
                    null,
                    -0.06142226834794396,
                    null,
                    null,
                    -0.4598749111094352,
                    0.3120400518284854,
                    0.03334332313522373,
                    -0.2964775035309833,
                    -0.41919030844183064,
                    null,
                    3.023268666163498,
                    0.35018115751009055,
                    0.08675518298416567,
                    0.009713877769360611,
                    0.08557845604703393,
                    null,
                    -0.0849928404318081,
                    0.9651655052945994,
                    0.4763968267253302,
                    0.32362036482692846,
                    -0.2068660172253669,
                    null,
                    -0.1212506518655664,
                    0.7252113454216229,
                    null,
                    0.14048129747332924,
                    0.5740023137971169,
                    3.496995505148465,
                    -0.06593616923994373,
                    -0.13004284388336224,
                    -0.24908341229972955,
                    1.2870360723627683,
                    -0.15499060055792624,
                    1.0758454569815947,
                    0.06784308786735485,
                    2.99563519459755,
                    -0.05686537181443246,
                    null,
                    -0.5407980371187209,
                    -0.00868703934534613,
                    2.2747209944139475,
                    1.1304995613895195,
                    0.43459949393558134,
                    1.2696983074589316,
                    1.5578485735080592,
                    0.8450755207909025,
                    0.6313156729404441,
                    0.5401576878057026,
                    0.40730630988904604,
                    0.33217077480705015,
                    null,
                    null,
                    0.5470509685804531,
                    0.8562062965471524,
                    0.6845285924220673,
                    0.21188054546274898,
                    0.12438105268888697,
                    0.15818179583277214,
                    null,
                    0.1930689160052728,
                    0.13546095879436626,
                    0.11732845094727312,
                    0.22896873358176684,
                    0.31797980876154186,
                    0.10084752976946752,
                    1.0940093661999546,
                    1.125019673614014,
                    0.22989511709999086,
                    0.16743317750210468,
                    0.08967351858927397,
                    0.1270399734550816,
                    0.14758040204690948,
                    0.43754006707371995,
                    0.4723789250236114,
                    0.31696577325939784,
                    0.1648866626417967,
                    0.562874325059525,
                    0.8036743327136633,
                    0.8222305309493246,
                    0.4360998945403152,
                    1.0201167672679607,
                    0.5455197139382092,
                    0.5189762828905002,
                    null,
                    0.7323133274712424,
                    0.5647907698144327,
                    1.0335563948655186,
                    0.5345951809946312,
                    0.6468297557666541,
                    1.4138691643032546,
                    0.44363958944105375,
                    0.2340228831661409,
                    0.6367886890343748,
                    0.6930857965434993,
                    0.47013736960347013,
                    0.4529462116539996,
                    0.07038949687785982,
                    0.5508622275156875,
                    0.15033289284938584,
                    0.3348339727215022,
                    0.3605600032990365,
                    -0.00005790979165900247,
                    0.08384319231091611,
                    0.04774466304737278,
                    0.07678133782342922,
                    1.784129715430879,
                    0.30202853466072843,
                    0.07236516039928978,
                    0.1909947995523375,
                    0.2192850643979398,
                    -0.0954596917452447,
                    0.05107209009565526,
                    0.08074124302814216,
                    0.09696123966588524,
                    0.13143596438506452,
                    0.17485635424989354,
                    0.18978905609814872,
                    -0.01781925440359742,
                    -0.13971654199667854,
                    0.30576926390318426,
                    0.6879860692032082,
                    0.46047860943321095,
                    0.5350132781857673,
                    0.5727125139293582,
                    0.2905498543324793,
                    0.25501896193385215,
                    0.09525720735744081,
                    0.11101735707879068,
                    0.005278227877168513,
                    -0.048921880013835205,
                    -0.31849273230558695,
                    -0.10620489933308502,
                    0.6030947291214932,
                    0.16437484871916114,
                    0.3922797256104955,
                    -0.12091811413783744,
                    0.13907868874862625,
                    0.04274733202209471,
                    -0.05419177186710279,
                    -0.06591908153768218,
                    0.6908969590607865,
                    0.38030862165163604,
                    0.09228365520415033,
                    0.036985882805457886,
                    0.26482129795844966,
                    -0.25277574761939064,
                    0.18513527336728017,
                    0.3600338292185213,
                    0.535814281744975,
                    0.4219456728434673,
                    0.12306647632378184,
                    0.864970296779731,
                    0.1790174509922291,
                    0.024473517584783448,
                    0.6512292724715195,
                    0.7403382194422933,
                    0.08063498073268564,
                    0.3840047069787054,
                    -0.21665158972130402,
                    0.32288953730127773,
                    0.47294450875454797,
                    0.004006555314934035,
                    -0.23494550045289744,
                    -0.018190635005561822
                  ]
                }
              ],
              "layout": {
                "height": 500,
                "template": {
                  "data": {
                    "bar": [
                      {
                        "error_x": {
                          "color": "#2a3f5f"
                        },
                        "error_y": {
                          "color": "#2a3f5f"
                        },
                        "marker": {
                          "line": {
                            "color": "#E5ECF6",
                            "width": 0.5
                          },
                          "pattern": {
                            "fillmode": "overlay",
                            "size": 10,
                            "solidity": 0.2
                          }
                        },
                        "type": "bar"
                      }
                    ],
                    "barpolar": [
                      {
                        "marker": {
                          "line": {
                            "color": "#E5ECF6",
                            "width": 0.5
                          },
                          "pattern": {
                            "fillmode": "overlay",
                            "size": 10,
                            "solidity": 0.2
                          }
                        },
                        "type": "barpolar"
                      }
                    ],
                    "carpet": [
                      {
                        "aaxis": {
                          "endlinecolor": "#2a3f5f",
                          "gridcolor": "white",
                          "linecolor": "white",
                          "minorgridcolor": "white",
                          "startlinecolor": "#2a3f5f"
                        },
                        "baxis": {
                          "endlinecolor": "#2a3f5f",
                          "gridcolor": "white",
                          "linecolor": "white",
                          "minorgridcolor": "white",
                          "startlinecolor": "#2a3f5f"
                        },
                        "type": "carpet"
                      }
                    ],
                    "choropleth": [
                      {
                        "colorbar": {
                          "outlinewidth": 0,
                          "ticks": ""
                        },
                        "type": "choropleth"
                      }
                    ],
                    "contour": [
                      {
                        "colorbar": {
                          "outlinewidth": 0,
                          "ticks": ""
                        },
                        "colorscale": [
                          [
                            0,
                            "#0d0887"
                          ],
                          [
                            0.1111111111111111,
                            "#46039f"
                          ],
                          [
                            0.2222222222222222,
                            "#7201a8"
                          ],
                          [
                            0.3333333333333333,
                            "#9c179e"
                          ],
                          [
                            0.4444444444444444,
                            "#bd3786"
                          ],
                          [
                            0.5555555555555556,
                            "#d8576b"
                          ],
                          [
                            0.6666666666666666,
                            "#ed7953"
                          ],
                          [
                            0.7777777777777778,
                            "#fb9f3a"
                          ],
                          [
                            0.8888888888888888,
                            "#fdca26"
                          ],
                          [
                            1,
                            "#f0f921"
                          ]
                        ],
                        "type": "contour"
                      }
                    ],
                    "contourcarpet": [
                      {
                        "colorbar": {
                          "outlinewidth": 0,
                          "ticks": ""
                        },
                        "type": "contourcarpet"
                      }
                    ],
                    "heatmap": [
                      {
                        "colorbar": {
                          "outlinewidth": 0,
                          "ticks": ""
                        },
                        "colorscale": [
                          [
                            0,
                            "#0d0887"
                          ],
                          [
                            0.1111111111111111,
                            "#46039f"
                          ],
                          [
                            0.2222222222222222,
                            "#7201a8"
                          ],
                          [
                            0.3333333333333333,
                            "#9c179e"
                          ],
                          [
                            0.4444444444444444,
                            "#bd3786"
                          ],
                          [
                            0.5555555555555556,
                            "#d8576b"
                          ],
                          [
                            0.6666666666666666,
                            "#ed7953"
                          ],
                          [
                            0.7777777777777778,
                            "#fb9f3a"
                          ],
                          [
                            0.8888888888888888,
                            "#fdca26"
                          ],
                          [
                            1,
                            "#f0f921"
                          ]
                        ],
                        "type": "heatmap"
                      }
                    ],
                    "heatmapgl": [
                      {
                        "colorbar": {
                          "outlinewidth": 0,
                          "ticks": ""
                        },
                        "colorscale": [
                          [
                            0,
                            "#0d0887"
                          ],
                          [
                            0.1111111111111111,
                            "#46039f"
                          ],
                          [
                            0.2222222222222222,
                            "#7201a8"
                          ],
                          [
                            0.3333333333333333,
                            "#9c179e"
                          ],
                          [
                            0.4444444444444444,
                            "#bd3786"
                          ],
                          [
                            0.5555555555555556,
                            "#d8576b"
                          ],
                          [
                            0.6666666666666666,
                            "#ed7953"
                          ],
                          [
                            0.7777777777777778,
                            "#fb9f3a"
                          ],
                          [
                            0.8888888888888888,
                            "#fdca26"
                          ],
                          [
                            1,
                            "#f0f921"
                          ]
                        ],
                        "type": "heatmapgl"
                      }
                    ],
                    "histogram": [
                      {
                        "marker": {
                          "pattern": {
                            "fillmode": "overlay",
                            "size": 10,
                            "solidity": 0.2
                          }
                        },
                        "type": "histogram"
                      }
                    ],
                    "histogram2d": [
                      {
                        "colorbar": {
                          "outlinewidth": 0,
                          "ticks": ""
                        },
                        "colorscale": [
                          [
                            0,
                            "#0d0887"
                          ],
                          [
                            0.1111111111111111,
                            "#46039f"
                          ],
                          [
                            0.2222222222222222,
                            "#7201a8"
                          ],
                          [
                            0.3333333333333333,
                            "#9c179e"
                          ],
                          [
                            0.4444444444444444,
                            "#bd3786"
                          ],
                          [
                            0.5555555555555556,
                            "#d8576b"
                          ],
                          [
                            0.6666666666666666,
                            "#ed7953"
                          ],
                          [
                            0.7777777777777778,
                            "#fb9f3a"
                          ],
                          [
                            0.8888888888888888,
                            "#fdca26"
                          ],
                          [
                            1,
                            "#f0f921"
                          ]
                        ],
                        "type": "histogram2d"
                      }
                    ],
                    "histogram2dcontour": [
                      {
                        "colorbar": {
                          "outlinewidth": 0,
                          "ticks": ""
                        },
                        "colorscale": [
                          [
                            0,
                            "#0d0887"
                          ],
                          [
                            0.1111111111111111,
                            "#46039f"
                          ],
                          [
                            0.2222222222222222,
                            "#7201a8"
                          ],
                          [
                            0.3333333333333333,
                            "#9c179e"
                          ],
                          [
                            0.4444444444444444,
                            "#bd3786"
                          ],
                          [
                            0.5555555555555556,
                            "#d8576b"
                          ],
                          [
                            0.6666666666666666,
                            "#ed7953"
                          ],
                          [
                            0.7777777777777778,
                            "#fb9f3a"
                          ],
                          [
                            0.8888888888888888,
                            "#fdca26"
                          ],
                          [
                            1,
                            "#f0f921"
                          ]
                        ],
                        "type": "histogram2dcontour"
                      }
                    ],
                    "mesh3d": [
                      {
                        "colorbar": {
                          "outlinewidth": 0,
                          "ticks": ""
                        },
                        "type": "mesh3d"
                      }
                    ],
                    "parcoords": [
                      {
                        "line": {
                          "colorbar": {
                            "outlinewidth": 0,
                            "ticks": ""
                          }
                        },
                        "type": "parcoords"
                      }
                    ],
                    "pie": [
                      {
                        "automargin": true,
                        "type": "pie"
                      }
                    ],
                    "scatter": [
                      {
                        "fillpattern": {
                          "fillmode": "overlay",
                          "size": 10,
                          "solidity": 0.2
                        },
                        "type": "scatter"
                      }
                    ],
                    "scatter3d": [
                      {
                        "line": {
                          "colorbar": {
                            "outlinewidth": 0,
                            "ticks": ""
                          }
                        },
                        "marker": {
                          "colorbar": {
                            "outlinewidth": 0,
                            "ticks": ""
                          }
                        },
                        "type": "scatter3d"
                      }
                    ],
                    "scattercarpet": [
                      {
                        "marker": {
                          "colorbar": {
                            "outlinewidth": 0,
                            "ticks": ""
                          }
                        },
                        "type": "scattercarpet"
                      }
                    ],
                    "scattergeo": [
                      {
                        "marker": {
                          "colorbar": {
                            "outlinewidth": 0,
                            "ticks": ""
                          }
                        },
                        "type": "scattergeo"
                      }
                    ],
                    "scattergl": [
                      {
                        "marker": {
                          "colorbar": {
                            "outlinewidth": 0,
                            "ticks": ""
                          }
                        },
                        "type": "scattergl"
                      }
                    ],
                    "scattermapbox": [
                      {
                        "marker": {
                          "colorbar": {
                            "outlinewidth": 0,
                            "ticks": ""
                          }
                        },
                        "type": "scattermapbox"
                      }
                    ],
                    "scatterpolar": [
                      {
                        "marker": {
                          "colorbar": {
                            "outlinewidth": 0,
                            "ticks": ""
                          }
                        },
                        "type": "scatterpolar"
                      }
                    ],
                    "scatterpolargl": [
                      {
                        "marker": {
                          "colorbar": {
                            "outlinewidth": 0,
                            "ticks": ""
                          }
                        },
                        "type": "scatterpolargl"
                      }
                    ],
                    "scatterternary": [
                      {
                        "marker": {
                          "colorbar": {
                            "outlinewidth": 0,
                            "ticks": ""
                          }
                        },
                        "type": "scatterternary"
                      }
                    ],
                    "surface": [
                      {
                        "colorbar": {
                          "outlinewidth": 0,
                          "ticks": ""
                        },
                        "colorscale": [
                          [
                            0,
                            "#0d0887"
                          ],
                          [
                            0.1111111111111111,
                            "#46039f"
                          ],
                          [
                            0.2222222222222222,
                            "#7201a8"
                          ],
                          [
                            0.3333333333333333,
                            "#9c179e"
                          ],
                          [
                            0.4444444444444444,
                            "#bd3786"
                          ],
                          [
                            0.5555555555555556,
                            "#d8576b"
                          ],
                          [
                            0.6666666666666666,
                            "#ed7953"
                          ],
                          [
                            0.7777777777777778,
                            "#fb9f3a"
                          ],
                          [
                            0.8888888888888888,
                            "#fdca26"
                          ],
                          [
                            1,
                            "#f0f921"
                          ]
                        ],
                        "type": "surface"
                      }
                    ],
                    "table": [
                      {
                        "cells": {
                          "fill": {
                            "color": "#EBF0F8"
                          },
                          "line": {
                            "color": "white"
                          }
                        },
                        "header": {
                          "fill": {
                            "color": "#C8D4E3"
                          },
                          "line": {
                            "color": "white"
                          }
                        },
                        "type": "table"
                      }
                    ]
                  },
                  "layout": {
                    "annotationdefaults": {
                      "arrowcolor": "#2a3f5f",
                      "arrowhead": 0,
                      "arrowwidth": 1
                    },
                    "autotypenumbers": "strict",
                    "coloraxis": {
                      "colorbar": {
                        "outlinewidth": 0,
                        "ticks": ""
                      }
                    },
                    "colorscale": {
                      "diverging": [
                        [
                          0,
                          "#8e0152"
                        ],
                        [
                          0.1,
                          "#c51b7d"
                        ],
                        [
                          0.2,
                          "#de77ae"
                        ],
                        [
                          0.3,
                          "#f1b6da"
                        ],
                        [
                          0.4,
                          "#fde0ef"
                        ],
                        [
                          0.5,
                          "#f7f7f7"
                        ],
                        [
                          0.6,
                          "#e6f5d0"
                        ],
                        [
                          0.7,
                          "#b8e186"
                        ],
                        [
                          0.8,
                          "#7fbc41"
                        ],
                        [
                          0.9,
                          "#4d9221"
                        ],
                        [
                          1,
                          "#276419"
                        ]
                      ],
                      "sequential": [
                        [
                          0,
                          "#0d0887"
                        ],
                        [
                          0.1111111111111111,
                          "#46039f"
                        ],
                        [
                          0.2222222222222222,
                          "#7201a8"
                        ],
                        [
                          0.3333333333333333,
                          "#9c179e"
                        ],
                        [
                          0.4444444444444444,
                          "#bd3786"
                        ],
                        [
                          0.5555555555555556,
                          "#d8576b"
                        ],
                        [
                          0.6666666666666666,
                          "#ed7953"
                        ],
                        [
                          0.7777777777777778,
                          "#fb9f3a"
                        ],
                        [
                          0.8888888888888888,
                          "#fdca26"
                        ],
                        [
                          1,
                          "#f0f921"
                        ]
                      ],
                      "sequentialminus": [
                        [
                          0,
                          "#0d0887"
                        ],
                        [
                          0.1111111111111111,
                          "#46039f"
                        ],
                        [
                          0.2222222222222222,
                          "#7201a8"
                        ],
                        [
                          0.3333333333333333,
                          "#9c179e"
                        ],
                        [
                          0.4444444444444444,
                          "#bd3786"
                        ],
                        [
                          0.5555555555555556,
                          "#d8576b"
                        ],
                        [
                          0.6666666666666666,
                          "#ed7953"
                        ],
                        [
                          0.7777777777777778,
                          "#fb9f3a"
                        ],
                        [
                          0.8888888888888888,
                          "#fdca26"
                        ],
                        [
                          1,
                          "#f0f921"
                        ]
                      ]
                    },
                    "colorway": [
                      "#636efa",
                      "#EF553B",
                      "#00cc96",
                      "#ab63fa",
                      "#FFA15A",
                      "#19d3f3",
                      "#FF6692",
                      "#B6E880",
                      "#FF97FF",
                      "#FECB52"
                    ],
                    "font": {
                      "color": "#2a3f5f"
                    },
                    "geo": {
                      "bgcolor": "white",
                      "lakecolor": "white",
                      "landcolor": "#E5ECF6",
                      "showlakes": true,
                      "showland": true,
                      "subunitcolor": "white"
                    },
                    "hoverlabel": {
                      "align": "left"
                    },
                    "hovermode": "closest",
                    "mapbox": {
                      "style": "light"
                    },
                    "paper_bgcolor": "white",
                    "plot_bgcolor": "#E5ECF6",
                    "polar": {
                      "angularaxis": {
                        "gridcolor": "white",
                        "linecolor": "white",
                        "ticks": ""
                      },
                      "bgcolor": "#E5ECF6",
                      "radialaxis": {
                        "gridcolor": "white",
                        "linecolor": "white",
                        "ticks": ""
                      }
                    },
                    "scene": {
                      "xaxis": {
                        "backgroundcolor": "#E5ECF6",
                        "gridcolor": "white",
                        "gridwidth": 2,
                        "linecolor": "white",
                        "showbackground": true,
                        "ticks": "",
                        "zerolinecolor": "white"
                      },
                      "yaxis": {
                        "backgroundcolor": "#E5ECF6",
                        "gridcolor": "white",
                        "gridwidth": 2,
                        "linecolor": "white",
                        "showbackground": true,
                        "ticks": "",
                        "zerolinecolor": "white"
                      },
                      "zaxis": {
                        "backgroundcolor": "#E5ECF6",
                        "gridcolor": "white",
                        "gridwidth": 2,
                        "linecolor": "white",
                        "showbackground": true,
                        "ticks": "",
                        "zerolinecolor": "white"
                      }
                    },
                    "shapedefaults": {
                      "line": {
                        "color": "#2a3f5f"
                      }
                    },
                    "ternary": {
                      "aaxis": {
                        "gridcolor": "white",
                        "linecolor": "white",
                        "ticks": ""
                      },
                      "baxis": {
                        "gridcolor": "white",
                        "linecolor": "white",
                        "ticks": ""
                      },
                      "bgcolor": "#E5ECF6",
                      "caxis": {
                        "gridcolor": "white",
                        "linecolor": "white",
                        "ticks": ""
                      }
                    },
                    "title": {
                      "x": 0.05
                    },
                    "xaxis": {
                      "automargin": true,
                      "gridcolor": "white",
                      "linecolor": "white",
                      "ticks": "",
                      "title": {
                        "standoff": 15
                      },
                      "zerolinecolor": "white",
                      "zerolinewidth": 2
                    },
                    "yaxis": {
                      "automargin": true,
                      "gridcolor": "white",
                      "linecolor": "white",
                      "ticks": "",
                      "title": {
                        "standoff": 15
                      },
                      "zerolinecolor": "white",
                      "zerolinewidth": 2
                    }
                  }
                },
                "title": {
                  "text": "Histogram of the log of car price per km"
                },
                "width": 970
              }
            }
          },
          "metadata": {},
          "output_type": "display_data"
        }
      ],
      "source": [
        "df_cars_2_var['car_price_per_km_log'] = np.log10(df_cars_2_var['car_price_per_km'])\n",
        "\n",
        "fig = go.Figure(\n",
        "    go.Histogram(x=df_cars_2_var['car_price_per_km_log'], name='Log of price per km')\n",
        ")\n",
        "\n",
        "fig.update_layout(height=500, width=970, title_text=\"Histogram of the log of car price per km\")\n",
        "fig.show()"
      ]
    },
    {
      "cell_type": "code",
      "execution_count": 38,
      "metadata": {},
      "outputs": [
        {
          "name": "stdout",
          "output_type": "stream",
          "text": [
            "0.3994815643854331\n"
          ]
        }
      ],
      "source": [
        "mad = abs(df_cars_2_var['car_price_per_km_log'] - df_cars_2_var['car_price_per_km_log'].median()).median()*(1/0.6745)\n",
        "print(mad)"
      ]
    },
    {
      "cell_type": "code",
      "execution_count": 39,
      "metadata": {},
      "outputs": [
        {
          "data": {
            "application/vnd.plotly.v1+json": {
              "config": {
                "plotlyServerURL": "https://plot.ly"
              },
              "data": [
                {
                  "name": "Log of price per km",
                  "type": "histogram",
                  "x": [
                    2.4113683766737415,
                    0.6200514054304239,
                    0.04758941616834792,
                    0.29656976683595004,
                    0.4227420278317732,
                    0.02287099967402,
                    1.491374993491905,
                    0.8246581705394246,
                    0.8212652730456477,
                    2.09003752239477,
                    0.26455911630441,
                    0.4946742976001981,
                    1.4224938594597931,
                    1.8981549933897053,
                    0.5059473566119052,
                    1.1367039329673159,
                    0.3215293581246312,
                    0.3983029938598107,
                    0.5894715111467874,
                    0.4580427831407616,
                    3.323068161982844,
                    2.929513717202513,
                    0.5064958256366562,
                    0.1871961903569821,
                    0.6184544077491964,
                    0.1875119346469903,
                    0.020488956126865004,
                    0.7977974674624431,
                    0.018100290866550708,
                    0.14170139621145952,
                    1.7679875048710783,
                    1.0793025084933014,
                    0.5162839569567496,
                    0.009152383908324756,
                    0.8545303287927822,
                    0.17023888571423837,
                    0.4161951479993636,
                    0.3529821842388017,
                    1.8845991423714215,
                    0.917708318267586,
                    0.14688275653942826,
                    0.5949874856482444,
                    0.11015643128532117,
                    0.2448521021154404,
                    0.22659732103723818,
                    0.5084740519790932,
                    0.3892729877082177,
                    0.2886448272211141,
                    2.482845302784914,
                    1.26856057666481,
                    0.09513397293267059,
                    0.3138113016999712,
                    0.004554037233620683,
                    0.34599877286662434,
                    2.255358321793915,
                    1.2171031644717283,
                    4.216651594338648,
                    0.16121739703755975,
                    0.010829051746372765,
                    0.9404428751576976,
                    0.21242483292961595,
                    0.10407747654527234,
                    0.1773991404866693,
                    0.3147484870275777,
                    0.33849631743559916,
                    0.48504266413994557,
                    0.4949784596937167,
                    0.13503720211876735,
                    0.003492277034260565,
                    0.011901480498913097,
                    0.5283994360724396,
                    0.45159685212202627,
                    0.13840840202510588,
                    0.203776992796098,
                    0.1352433531174507,
                    0.3235813901467723,
                    0.030372722182881912,
                    0.8157493729532018,
                    0.4338477941848865,
                    0.3752905838066607,
                    1.0548770145361805,
                    0.4130327348837765,
                    0.23624319256278492,
                    0.5171116776765886,
                    1.3489405730493915,
                    0.6033627926271848,
                    0.2687330963661384,
                    0.9293687801989741,
                    1.0825043046559426,
                    0.19013643940729197,
                    0.17622883041220555,
                    0.610015819298902,
                    0.470174424871409,
                    0.3741305511943264,
                    0.55921143934524,
                    0.45872668745295203,
                    0.3184630062608063,
                    1.0245578665263744,
                    0.716673159073529,
                    0.9541185720595287,
                    0.632690473777477,
                    4.778652956455623,
                    0.1669722087297353,
                    0.7585996146363571,
                    0.2820572075358038,
                    0.16724000264788558,
                    1.3362090204498773,
                    0.9039442921306747,
                    0.4561777811513077,
                    0.6919855710734507,
                    0.0556231660638949,
                    1.180510607161345,
                    0.9433363036632539,
                    0.7014670480108132,
                    0.08111957043077209,
                    0.26971639061861963,
                    0.2283769359838223,
                    0.30980550327177037,
                    0.19727614988396008,
                    0.06518724735141626,
                    0.07249836349466197,
                    0.6827992570685726,
                    0.23398274181945775,
                    0.8748700539781588,
                    0.2253221829611979,
                    0.24847517674115405,
                    0.14126871609155614,
                    0.3819232570896836,
                    0.6078986300310931,
                    0.16947792448002483,
                    0.45060415154050293,
                    0.5473722416517478,
                    0.19373639114691607,
                    0.13964392344944293,
                    0.745196840969932,
                    0.9133958200400801,
                    0.3695832361129434,
                    0.5701789274221131,
                    1.3013310979307948,
                    0.3404011471401408,
                    0.6580273564017267,
                    1.2964222206617046,
                    0.19977329574280628,
                    0.9431081569215731,
                    0.7443470269497706,
                    0.995272404423337,
                    1.2392509524023558,
                    0.7296920108443411,
                    0.15387518410659679,
                    0.3804963933570406,
                    0.6745625592690864,
                    0.12614367721211417,
                    0.06884467130803894,
                    0.5853212623857985,
                    1.6205349316028779,
                    0.6378689384631345,
                    0.2564851941596686,
                    0.8121782298001129,
                    0.7717336115314234,
                    0.3940072248348028,
                    0.620451178476944,
                    0.5341360218753377,
                    0.019453134796462258,
                    1.3639521922052382,
                    0.0015034953225289292,
                    0.8738065999967883,
                    0.28784419336488926,
                    0.765834776445986,
                    0.7003587513091839,
                    0.18158842134179098,
                    0.638872165633903,
                    0.18087533104072026,
                    0.32815210012213575,
                    0.42127887888665394,
                    0.745239095568464,
                    1.4105669293601597,
                    1.5582599103514536,
                    1.9820907806010373,
                    1.5317066798533234,
                    0.7321588037863047,
                    0.6780840844153725,
                    1.170463219266559,
                    1.370465116143258,
                    0.19845116399838666,
                    0.43164727031475236,
                    0.5337462036136995,
                    0.26077421403305995,
                    2.1890641965819246,
                    1.8074252882329092,
                    0.27500178167978884,
                    0.4530103535404861,
                    0.2196644349274977,
                    0.28226494784150113,
                    0.36003684990228124,
                    1.3195287411425345,
                    0.19223489605464292,
                    1.2390009434711988,
                    1.345307567517323,
                    0.2951236613499204,
                    0.29830547493180587,
                    1.3618255258634697,
                    0.053404103096154516,
                    2.9117787588102666,
                    0.012273005884549871,
                    1.0656494927979534,
                    1.0236312770054472,
                    0.6698924250002507,
                    0.162222355530532,
                    1.2075264014773757,
                    0.03624920699192966,
                    0.7169031196305459,
                    2.1049780436570784,
                    0.7969573833391972,
                    0.41252721228051875,
                    0.9006640854956963,
                    0.6164057928893176,
                    0.3432863042465734,
                    1.364908966602571,
                    0.9774899267416474,
                    0.11896461411473679,
                    0.992042314543355,
                    0.13805087512066316,
                    0.589989075650179,
                    0.9599527411023894,
                    0.5199598530281592,
                    1.0707153089335506,
                    0.7725141407427786,
                    1.6526556131240275,
                    2.1629605594533445,
                    0.3587893904829108,
                    1.2602444619606443,
                    0.6406554394208362,
                    2.0827954438493976,
                    1.8351166028991028,
                    5.574041057440059,
                    7.10924110674716,
                    1.8052007300527144,
                    0.21264311889983806,
                    0.2546967989097433,
                    0.489183290960889,
                    1.5959508137507352,
                    0.7503593003280867,
                    1.304128436896449,
                    1.149429828644205,
                    0.3579433223057525,
                    1.1826506193483792,
                    0.1873218724806069,
                    0.4643632041138817,
                    0.10389486206936437,
                    0.5053246236794152,
                    0.38198594699405264,
                    0.26135659877618717,
                    0.6815805610078045,
                    0.00018960440072827742,
                    1.1331388204554573,
                    2.7213466033576195,
                    0.04730484302437569,
                    0.08427323391629347,
                    0.11850437056892456,
                    0.5976128928910497,
                    2.9045407577061,
                    0.31915003180088186,
                    0.3458232131221729,
                    0.5163505152865683,
                    0.7826378973602754,
                    0.7961482424475278,
                    0.02549487186840909,
                    0.22383579189376698,
                    0.388973352546812,
                    0.5478544057524991,
                    0.4108534875995136,
                    0.34837071897618693,
                    0.03800763868091413,
                    5.305043238717427,
                    6.6277737777140056,
                    1.5332651571963636,
                    1.3894460921718244,
                    0.2356563611336129,
                    6.64643537832027,
                    0.14505607851383207,
                    0.5346714577004095,
                    1.086889371742443,
                    0.7916481110493523,
                    0.4048924431180506,
                    1.7272332016481482,
                    0.23270073674756778,
                    0.4950107345560638,
                    0.020025868197351544,
                    0.6638300668123367,
                    0.20555641243876535,
                    0.5387304983622824,
                    0.8491270464553298,
                    0.3972274561477857,
                    0.39405227680125926,
                    0.2515970394320932,
                    0.4828200296675997,
                    0.026157589255064468,
                    0.4619992621717093,
                    1.11998834766428,
                    3.618061519035765,
                    2.0769373593408016,
                    0.02517121964772711,
                    0.13473090984917552,
                    0.7291302070642749,
                    0.13623855577847338,
                    0.7641310932228734,
                    1.0305021186764567,
                    0.37725597450459103,
                    1.3895813846751521,
                    0.23128784181856277,
                    0.5077765417792075,
                    0.49357013845520536,
                    0.5747327341592411,
                    0.26201496378818634,
                    0.3527963526376321,
                    0.3467934026309482,
                    0.8538655449655664,
                    0.5168816368906557,
                    0.17293041853800814,
                    0.9230885405780922,
                    0.4197672387385597,
                    0.19651486995039041,
                    0.7522220322171116,
                    0.23157967860181855,
                    0.09124113838776164,
                    0.6497179268482267,
                    0.6310359919871509,
                    0.5922140302935807,
                    0.6807252347780675,
                    0.36321213926743184,
                    0.01873630875583953,
                    0.5242022665262437,
                    0.20782217955579338,
                    2.630872735051533,
                    2.8185542723487296,
                    3.8049355105837974,
                    2.061896522435738,
                    3.4093584665049006,
                    3.0626192362981013,
                    1.5048715182447794,
                    1.867047315218489,
                    0.11460790693997365,
                    0.02665564415142939,
                    0.7269304536021206,
                    0.5182842976691218,
                    0.1550798920680358,
                    0.8152862147644668,
                    0.5672172929155901,
                    0.025545558187371323,
                    0.28693281314229013,
                    6.764754430760005,
                    0.6966344495642466,
                    0.9448826721017146,
                    1.0679192296244173,
                    0.21582964768021887,
                    0.13858100755351754,
                    1.7715238373954942,
                    0.8428760740621216,
                    0.24592927242554738,
                    0.45559583826835837,
                    0.4598864520327002,
                    0.36376646411470037,
                    0.46465725614223696,
                    0.5943382110344878,
                    0.5992812911608192,
                    1.0806120320467252,
                    0.8433173322250268,
                    0.6611226399965267,
                    0.24148778096074794,
                    0.524706950388849,
                    0.45474554605843004,
                    0.7878226049958331,
                    0.20587830596726253,
                    2.151670648498696,
                    1.6314153015820438,
                    1.5818995959700635,
                    0.8266779341640081,
                    1.643296788608269,
                    0.3581470576705526,
                    0.1427389422894541,
                    0.1701780948671933,
                    0.7174628866432206,
                    0.15080722449457507,
                    0.08383086302164583,
                    1.175802372960638,
                    0.4792899963877535,
                    1.9427258640803764,
                    0.6236393557917268,
                    null,
                    0.2987714795064556,
                    0.8023686432920315,
                    1.7732537889524373,
                    0.798205169948554,
                    1.6598281291849093,
                    0.1270293821496986,
                    1.2572577738381312,
                    0.3677335788097144,
                    0.6655984196856578,
                    11.042417379076374,
                    1.620106936870445,
                    0.1451437921352177,
                    0.9378319857379723,
                    0.8325281698438636,
                    0.7906242392397185,
                    0.10764073380388173,
                    0.1312722740079704,
                    0.06610663558321152,
                    0.8812096306984603,
                    1.9980399249982201,
                    0.15955640412292274,
                    0.2733540334244912,
                    1.5633584021661084,
                    0.4995483699128778,
                    0,
                    0.9023233007044742,
                    1.8318753652555582,
                    0.7577922366172422,
                    0.3061837110244377,
                    1.419953589772195,
                    0.24717606442316575,
                    1.1576430415539343,
                    1.1428206111688006,
                    0.3622890190848396,
                    0.9137524087834492,
                    0.5104394912051955,
                    0.04212056948503248,
                    0.03984908257780826,
                    0.5524689726749746,
                    1.3259338974785984,
                    0.42934534536160307,
                    0.802543246537631,
                    0.39742126054252935,
                    0.30018141369486434,
                    0.7529487444864217,
                    0.40014986683817405,
                    2.061261194370978,
                    1.425088988199513,
                    0.7641675342691246,
                    0.6226866160727222,
                    1.257640511563099,
                    0.4349180842343279,
                    0.8346944791332919,
                    1.6680839289153055,
                    0.05469810316193425,
                    1.5406359950334227,
                    0.9737226468669575,
                    0.5404185259457683,
                    0.4100094044589655,
                    0.5970854224997898,
                    0.16086101629960645,
                    1.5700646141559897,
                    0.2272278856291461,
                    0.4303977365253289,
                    0.12792851715964512,
                    1.1466543576981545,
                    1.1030395184752824,
                    null,
                    0.023747958312157758,
                    0.27093501835235834,
                    1.4304900842874695,
                    0.4836559089655106,
                    1.0639424466309415,
                    1.288661992731392,
                    0.4440622229080249,
                    0.5000257639853393,
                    0.03603943550441719,
                    1.3731519374054906,
                    0.9280420239084404,
                    4.796565606455038,
                    3.4080257630517155,
                    3.9160227808758012,
                    1.7955081756257671,
                    1.783748009127694,
                    5.0837902506416235,
                    1.9760764316055477,
                    1.4810086945810135,
                    2.0634591549463366,
                    2.0141980704504774,
                    3.955050995181272,
                    1.4610294773703902,
                    0.04918707972331571,
                    5.779262459338172,
                    6.168004207163685,
                    5.910333808118974,
                    3.7871340005419882,
                    1.6573294270335996,
                    1.9645471910216135,
                    2.592927562727403,
                    7.297053523609227,
                    0.887360710656493,
                    0.7165407992995245,
                    1.3684498276215082,
                    0.03705349531931185,
                    2.2312183535620536,
                    0.3584773142198175,
                    0.21772195313654305,
                    0.3183951591246273,
                    0.6225456459182509,
                    0.2727870752915046,
                    0.9956544871849944,
                    0.9529522021215278,
                    0.4673594242283969,
                    0.9187576068492905,
                    0.840475008004473,
                    1.42668038885102,
                    2.0132724259092067,
                    1.479902025854905,
                    0.7827183934634772,
                    0.5957299130125928,
                    0.8355182152148425,
                    0.7576788027882955,
                    0.43452871426145667,
                    0.18821805901619054,
                    0.3382507956323169,
                    0.9664347749022686,
                    0.5905688591690116,
                    0.9441511204097893,
                    1.4845819047142732,
                    0.41876018977557156,
                    0.6284437594840087,
                    1.559451692025793,
                    0.10774928477352089,
                    1.131060706330753,
                    0.5621527281826639,
                    7.992916595120171,
                    6.544081907231911,
                    5.085784763962845,
                    1.8128079843012272,
                    3.94817903317331,
                    1.5111837032468953,
                    1.8404118819954387,
                    1.9408551843554154,
                    1.7702115798855242,
                    1.502871674925669,
                    1.173162431182423,
                    7.14970758440906,
                    0.07134915618259109,
                    1.075983290216007,
                    7.46474130347825,
                    0.9074550853074232,
                    0.8261278553265946,
                    0.15321280905677367,
                    2.696448103463835,
                    1.9225526616712731,
                    0.7775362625795605,
                    0.5812447438721849,
                    1.0593706881527627,
                    0.45190356246955876,
                    0.28924439898357457,
                    0.10171805652908361,
                    0.5226156147843671,
                    0.33038852298427746,
                    0.232894005642794,
                    0.6190447602028674,
                    0.0018793577960085235,
                    0.02427396051480098,
                    0.8312565925543683,
                    0.3606465457183461,
                    1.4023618422044213,
                    1.3508507091267854,
                    1.1919604814699294,
                    3.9123914666005986,
                    1.0692770903050708,
                    2.0653240568349047,
                    1.9604411719303285,
                    1.7592744960584366,
                    2.0244024187644696,
                    2.545543268443374,
                    2.124040982275121,
                    2.653761598659781,
                    0.9274275135860696,
                    1.1013724812660137,
                    0.41001066225938027,
                    3.340158981842537,
                    1.001240548420712,
                    0.525011106783475,
                    0.8653577073464266,
                    1.3197611796591777,
                    2.4804090993192442,
                    0.0026669241208917985,
                    9.191061810806296,
                    6.750300245014544,
                    8.804700641232102,
                    3.1310611359553633,
                    2.225597287888111,
                    2.2746477220871935,
                    4.06814413426198,
                    3.1576931520677185,
                    3.2187250943475143,
                    3.029223654401622,
                    3.0239529146167965,
                    2.089771420429362,
                    2.1036814083658557,
                    2.05755427667246,
                    0.7307094151607084,
                    1.0247030776267865,
                    2.1872205934340068,
                    1.2484073072956896,
                    0.19734797648950203,
                    0.30892330326118955,
                    0.17625559683220446,
                    0.16697730359661295,
                    0.5404982235383898,
                    0.6360867718304499,
                    0.24763980279056205,
                    1.252315263213437,
                    0.10204853496899034,
                    0.8929117022517945,
                    0.25604386005976837,
                    0.40169069184234046,
                    0.7876174638985574,
                    0.005826678248328468,
                    0.47466016529012073,
                    0.596892129343356,
                    0.9096349841758047,
                    1.1927373502854186,
                    0.9892112130966829,
                    0.12082164231664519,
                    0.24193861052692528,
                    1.2474739323181785,
                    0.10646601528462593,
                    0.43704479705233146,
                    0.38336278626922804,
                    4.1376527872244875,
                    3.6377363764940966,
                    1.978134756300903,
                    1.2301277003457032,
                    0.9200802946654081,
                    2.458485362689321,
                    0.3660988336500276,
                    1.12675982532048,
                    0.027826214537671985,
                    0.46510709470544204,
                    1.2087296470553883,
                    0.7889754821862104,
                    0.12777258139809974,
                    0.34841004882602084,
                    0.6910977289410283,
                    1.4338300108523339,
                    null,
                    0.24473630787578485,
                    0.3411350541366876,
                    0.006425812898610628,
                    null,
                    0.04355121909126736,
                    0.42276734200892824,
                    0.3410591016610053,
                    7.1019378852823145,
                    0.33955338990447503,
                    1.3555187268530864,
                    1.8961933922340939,
                    0.4083180848287302,
                    0.65917098410064,
                    0.1551903967243703,
                    0.4057327097147729,
                    0.4730002604505416,
                    0.6527542171659151,
                    0.8296490847047557,
                    1.0513507107308755,
                    1.5413506619258426,
                    1.0702470748907016,
                    1.4571049951492778,
                    1.7889832173409614,
                    1.4815700232488516,
                    1.3263529718103781,
                    null,
                    1.537074409253003,
                    1.5500090679832494,
                    1.2889407836655487,
                    2.218438453134146,
                    0.4943637111309636,
                    0.913231634708151,
                    0.054913345752083745,
                    0.3684557367160458,
                    0.08248731052526438,
                    0.5605563204601799,
                    0.60809426264642,
                    0.5414800014052694,
                    0.5763182554288779,
                    1.1280163920998796,
                    0.3233044895430472,
                    0.625909760881003,
                    0.9512499829798775,
                    0.2266944483064772,
                    0.6240440572451598,
                    0.8129814938149358,
                    0.06861743216595159,
                    null,
                    0.8525184051303051,
                    0.7141756126979187,
                    0.41033203310028293,
                    0.6373334587279244,
                    0.6045862636977033,
                    0.961604586878524,
                    0.990184778233619,
                    1.3941283306306493,
                    1.1786030617588283,
                    0.4872558976898901,
                    0.0760121458302142,
                    0.1556045932646381,
                    0.20501354656408516,
                    0.18348521452416186,
                    1.6693785092362141,
                    0.30276024228582143,
                    0.08234138580953289,
                    0.6529384946884832,
                    0.08234138580953289,
                    1.231215309167732,
                    1.1333322061503064,
                    0.23041081040384453,
                    0.6429833509128778,
                    null,
                    null,
                    1.289517600941013,
                    null,
                    1.2705551566917828,
                    1.4706035338710204,
                    null,
                    null,
                    0.5708323420882349,
                    0.300110874486411,
                    0.6397075269847009,
                    0.3676934214162002,
                    1.0187460889448525,
                    1.1844379611815312,
                    1.3239633488733884,
                    1.774952877494588,
                    null,
                    0.4169061599085074,
                    0.15908533578636297,
                    1.0937801923442365,
                    0.21582964768021887,
                    0.295840034643749,
                    0.6274980423968478,
                    1.1807982411312699,
                    1.2265393282704065,
                    1.103414758628562,
                    0.23700388419287086,
                    0.6292675054173283,
                    0.26803072767438424,
                    null,
                    0.07187863739381274,
                    null,
                    0.6892424243240687,
                    null,
                    0.6728701782338672,
                    11.250454066576513,
                    0.9285404548474201,
                    0.3083840592192737,
                    0.03931621389086071,
                    0.11524525235912564,
                    0.33115281283445896,
                    0.12643949194903692,
                    0.20379557879757285,
                    0.33747657661603664,
                    0.023857793151793275,
                    0.8288921118071942,
                    0.32142536869749,
                    0.8738059235450069,
                    0.05453767254036381,
                    0.5255221604257924,
                    1.7562505908695636,
                    0.6338957612422861,
                    2.308028635448879,
                    0.43334792540886713,
                    0.8857806750570166,
                    0.4003348479899903,
                    0.4377996905856657,
                    null,
                    2.4619755519438375,
                    0.179176573817065,
                    0.27256130682414703,
                    1.5222842272558321,
                    0.10051529727901352,
                    0.36752615543513534,
                    0.3375581656601562,
                    0.5604177466908108,
                    0.4655906522694644,
                    0.6892681398859279,
                    1.131749603086102,
                    1.1276287083282084,
                    3.7060013308855493,
                    2.6271684085894447,
                    1.448327645276129,
                    1.4101543771355196,
                    1.3504703357376868,
                    1.5167389458507827,
                    0.17132598147504577,
                    0.3081830660469571,
                    0.29390405260289965,
                    null,
                    0.6226684009925826,
                    0.8776758782614407,
                    0.48314033249576027,
                    0.20187351466166262,
                    null,
                    1.4473256174985556,
                    0.9181015293946878,
                    1.7130275365332384,
                    0.39661841808226594,
                    0.4430424399184446,
                    0.8057758739424312,
                    0.40705382117820393,
                    null,
                    0.45812770915391376,
                    0.6985618268853516,
                    1.0759574670254293,
                    1.1292371406877717,
                    1.6829155453471487,
                    2.059886644794619,
                    0.3066585768482351,
                    0.17963826395987995,
                    null,
                    0.8370557734641552,
                    0.21368175253989946,
                    1.0181396301405836,
                    0.6740776834450919,
                    1.3364149504924545,
                    1.4341088017864907,
                    1.5968124364125955,
                    1.7996617875076937,
                    0.34295194699306963,
                    0.20370390284126694,
                    0.19824320494872083,
                    0.3676655419654611,
                    null,
                    0.3989319461744096,
                    1.1394445300867981,
                    0.6029059718535833,
                    0.41907226451018265,
                    0.35261412823218874,
                    5.39237497255468,
                    0.33074745976814063,
                    2.5908274983907167,
                    null,
                    0.4652966415668401,
                    0.24282910777098665,
                    null,
                    0.22422391276947995,
                    5.406225908311757,
                    0.16461029410471836,
                    0.3006838550698674,
                    0.9109585760648679,
                    0.9755425797464815,
                    1.1364097426346031,
                    null,
                    null,
                    null,
                    4.278088336078457,
                    4.992542772248334,
                    2.9704312308431273,
                    6.254608049673627,
                    2.4999881325467266,
                    3.035996939707482,
                    3.2788440276210054,
                    2.3904138579654504,
                    1.4901051997589236,
                    3.723934436186861,
                    2.633240729157357,
                    0.9519314605960624,
                    1.0390229476272783,
                    3.6466553940320305,
                    2.0102181234242726,
                    0.40821938292855336,
                    0.6236393557917268,
                    0.9394814512750964,
                    0.767296400435546,
                    1.2235913673606853,
                    6.91961478161427,
                    5.422323401265403,
                    0.6915342791320455,
                    0.978786155942086,
                    0.9069951013501544,
                    0.1840748924913983,
                    1.7193600993225995,
                    0.2869230588663388,
                    0.7654059491538956,
                    0.17086685371486654,
                    2.462438180713331,
                    0.6011469249966309,
                    1.5757034748022234,
                    0.6416367670851476,
                    1.2644795854437405,
                    1.1119919229601,
                    0.23510316874891019,
                    0.778555391783889,
                    1.0035722798480613,
                    0.4036478195194338,
                    null,
                    0.2286937059337255,
                    0.24273590658427036,
                    0.09442370685325675,
                    0.5738915258128896,
                    0.1451946563007492,
                    0.08097934268073749,
                    0.32912965007857553,
                    0.930550838914708,
                    0.5692877293280608,
                    0.2018551238844476,
                    0.3256266990622024,
                    0.24703595526089464,
                    0.6894935147212106,
                    0.1708469380100168,
                    0.23132619495762613,
                    0.22450413543728737,
                    0.7788709682294186,
                    0.5859941192911929,
                    0.9931050920261272,
                    0.5809514386328932,
                    0.18040936844989197,
                    0.04660723916088251,
                    1.085044002296336,
                    6.743512731455817,
                    0.1049156729655339,
                    6.589759575664794,
                    1.5993211364157816,
                    6.473671771405506,
                    0.2642786083302244,
                    6.3086114815323056,
                    0.010782414056103563,
                    0.0852830975450348,
                    6.025111068918823,
                    6.001725670738344,
                    5.849748681427421,
                    5.822217576300065,
                    5.704541826287923,
                    5.6405548260945935,
                    5.536905863345797,
                    null,
                    0.7920218395720835,
                    0.4023014046436088,
                    1.040707010449864,
                    0.317936856644845,
                    1.1821130180420505,
                    0.6104704627506498,
                    0.8731493962595002,
                    1.0962749462625594,
                    1.0769456330865177,
                    0.1434333361955733,
                    null,
                    0.80650916814203,
                    null,
                    null,
                    1.8039335258204008,
                    0.12835830377990448,
                    0.5692877293280608,
                    1.3949098758058518,
                    1.702090020901233,
                    null,
                    6.91522622472138,
                    0.22383481404210362,
                    0.4355847887903383,
                    0.6284380067688107,
                    0.4385304239385886,
                    null,
                    0.8655120713676779,
                    1.7632909557306637,
                    0.5397834846882978,
                    0.1573466577637945,
                    1.170590422057152,
                    null,
                    0.9562742357983137,
                    1.1626270421352398,
                    null,
                    0.30109519207561525,
                    0.7841138763096085,
                    8.101080294642614,
                    0.8178085653969296,
                    0.9782832414737617,
                    1.2762708810272931,
                    2.5690116591712293,
                    1.0407335743519357,
                    2.040349928044609,
                    0.48292638550683614,
                    6.846052891007071,
                    0.7951021422871026,
                    null,
                    2.006503890071824,
                    0.6745,
                    5.041428436577828,
                    2.1771625103523937,
                    0.43515454429138534,
                    2.525610995787653,
                    3.2469215436033476,
                    1.4626763712042294,
                    0.9275832232155133,
                    0.6993925048904263,
                    0.36683303341384726,
                    0.17875042390072685,
                    null,
                    null,
                    0.7166480715781035,
                    1.4905394235915745,
                    1.060788167387309,
                    0.12236542240711719,
                    0.34139804011620273,
                    0.2567865181905674,
                    null,
                    0.16945552902171457,
                    0.31366232689868606,
                    0.3590524261263898,
                    0.07958951071941137,
                    0.14322696722422207,
                    0.40030820022740504,
                    2.085818632579957,
                    2.1634450118141677,
                    0.07727054633954271,
                    0.2336280485786719,
                    0.42827948144881456,
                    0.33474211152464145,
                    0.28332439811043797,
                    0.4425155176135521,
                    0.5297256946425921,
                    0.14068858850403249,
                    0.24000259771268656,
                    0.7562578005111887,
                    1.359039077851453,
                    1.4054897776833923,
                    0.4389104137444404,
                    1.9008473960582641,
                    0.7128149669275807,
                    0.6463702710664747,
                    null,
                    1.1804050391262781,
                    0.7610551301648262,
                    1.9344900689516518,
                    0.6854681907118012,
                    0.9664187646004507,
                    2.8865058898139067,
                    0.4577841129909568,
                    0.06693773893577619,
                    0.9412835202551287,
                    1.082208940920617,
                    0.5241145335278365,
                    0.48108086318583315,
                    0.476552101340751,
                    0.7261885842700914,
                    0.2764342408469587,
                    0.18541705923982985,
                    0.2498156019288059,
                    0.6528991795291923,
                    0.4428742132165428,
                    0.5332376554421626,
                    0.46055176111127716,
                    3.813358551205772,
                    0.1032970292173129,
                    0.47160653263980395,
                    0.17464754947483893,
                    0.10383010164311145,
                    0.8917131585931646,
                    0.5249082922251105,
                    0.45063915047352493,
                    0.4100365342734605,
                    0.3237378717251259,
                    0.2150460227492478,
                    0.1776658200577223,
                    0.6973601664567435,
                    1.002498872370768,
                    0.1126609888488684,
                    1.0694430768734573,
                    0.4999362959535486,
                    0.686514790175732,
                    0.7808851919778473,
                    0.07456308664875397,
                    0.014379421757831174,
                    0.4143021436541235,
                    0.3748506366850961,
                    0.639541522644483,
                    0.7752176407011091,
                    1.4500193745594978,
                    0.9186110396114561,
                    0.8569393028574704,
                    0.24128379306252187,
                    0.3292178200518299,
                    0.9554418125843901,
                    0.30460626454991274,
                    0.5457471964843532,
                    0.7884094681171624,
                    0.8177657907014619,
                    1.0767297456889668,
                    0.29925122077389843,
                    0.42174567151219877,
                    0.5601695121311349,
                    0.010158221273775395,
                    1.2855136988412803,
                    0.18931537574630078,
                    0.2484984595937781,
                    0.6885198978718532,
                    0.4034789371539676,
                    0.34468874607688327,
                    1.5124778583377718,
                    0.2046297805160498,
                    0.591491020646612,
                    0.977431830276294,
                    1.20049330523537,
                    0.4509051509724966,
                    0.30850342577303397,
                    1.1950861018790515,
                    0.15551721783263012,
                    0.5311414889654331,
                    0.6427248298997023,
                    1.2408802319779884,
                    0.6982898228791512
                  ]
                }
              ],
              "layout": {
                "height": 500,
                "template": {
                  "data": {
                    "bar": [
                      {
                        "error_x": {
                          "color": "#2a3f5f"
                        },
                        "error_y": {
                          "color": "#2a3f5f"
                        },
                        "marker": {
                          "line": {
                            "color": "#E5ECF6",
                            "width": 0.5
                          },
                          "pattern": {
                            "fillmode": "overlay",
                            "size": 10,
                            "solidity": 0.2
                          }
                        },
                        "type": "bar"
                      }
                    ],
                    "barpolar": [
                      {
                        "marker": {
                          "line": {
                            "color": "#E5ECF6",
                            "width": 0.5
                          },
                          "pattern": {
                            "fillmode": "overlay",
                            "size": 10,
                            "solidity": 0.2
                          }
                        },
                        "type": "barpolar"
                      }
                    ],
                    "carpet": [
                      {
                        "aaxis": {
                          "endlinecolor": "#2a3f5f",
                          "gridcolor": "white",
                          "linecolor": "white",
                          "minorgridcolor": "white",
                          "startlinecolor": "#2a3f5f"
                        },
                        "baxis": {
                          "endlinecolor": "#2a3f5f",
                          "gridcolor": "white",
                          "linecolor": "white",
                          "minorgridcolor": "white",
                          "startlinecolor": "#2a3f5f"
                        },
                        "type": "carpet"
                      }
                    ],
                    "choropleth": [
                      {
                        "colorbar": {
                          "outlinewidth": 0,
                          "ticks": ""
                        },
                        "type": "choropleth"
                      }
                    ],
                    "contour": [
                      {
                        "colorbar": {
                          "outlinewidth": 0,
                          "ticks": ""
                        },
                        "colorscale": [
                          [
                            0,
                            "#0d0887"
                          ],
                          [
                            0.1111111111111111,
                            "#46039f"
                          ],
                          [
                            0.2222222222222222,
                            "#7201a8"
                          ],
                          [
                            0.3333333333333333,
                            "#9c179e"
                          ],
                          [
                            0.4444444444444444,
                            "#bd3786"
                          ],
                          [
                            0.5555555555555556,
                            "#d8576b"
                          ],
                          [
                            0.6666666666666666,
                            "#ed7953"
                          ],
                          [
                            0.7777777777777778,
                            "#fb9f3a"
                          ],
                          [
                            0.8888888888888888,
                            "#fdca26"
                          ],
                          [
                            1,
                            "#f0f921"
                          ]
                        ],
                        "type": "contour"
                      }
                    ],
                    "contourcarpet": [
                      {
                        "colorbar": {
                          "outlinewidth": 0,
                          "ticks": ""
                        },
                        "type": "contourcarpet"
                      }
                    ],
                    "heatmap": [
                      {
                        "colorbar": {
                          "outlinewidth": 0,
                          "ticks": ""
                        },
                        "colorscale": [
                          [
                            0,
                            "#0d0887"
                          ],
                          [
                            0.1111111111111111,
                            "#46039f"
                          ],
                          [
                            0.2222222222222222,
                            "#7201a8"
                          ],
                          [
                            0.3333333333333333,
                            "#9c179e"
                          ],
                          [
                            0.4444444444444444,
                            "#bd3786"
                          ],
                          [
                            0.5555555555555556,
                            "#d8576b"
                          ],
                          [
                            0.6666666666666666,
                            "#ed7953"
                          ],
                          [
                            0.7777777777777778,
                            "#fb9f3a"
                          ],
                          [
                            0.8888888888888888,
                            "#fdca26"
                          ],
                          [
                            1,
                            "#f0f921"
                          ]
                        ],
                        "type": "heatmap"
                      }
                    ],
                    "heatmapgl": [
                      {
                        "colorbar": {
                          "outlinewidth": 0,
                          "ticks": ""
                        },
                        "colorscale": [
                          [
                            0,
                            "#0d0887"
                          ],
                          [
                            0.1111111111111111,
                            "#46039f"
                          ],
                          [
                            0.2222222222222222,
                            "#7201a8"
                          ],
                          [
                            0.3333333333333333,
                            "#9c179e"
                          ],
                          [
                            0.4444444444444444,
                            "#bd3786"
                          ],
                          [
                            0.5555555555555556,
                            "#d8576b"
                          ],
                          [
                            0.6666666666666666,
                            "#ed7953"
                          ],
                          [
                            0.7777777777777778,
                            "#fb9f3a"
                          ],
                          [
                            0.8888888888888888,
                            "#fdca26"
                          ],
                          [
                            1,
                            "#f0f921"
                          ]
                        ],
                        "type": "heatmapgl"
                      }
                    ],
                    "histogram": [
                      {
                        "marker": {
                          "pattern": {
                            "fillmode": "overlay",
                            "size": 10,
                            "solidity": 0.2
                          }
                        },
                        "type": "histogram"
                      }
                    ],
                    "histogram2d": [
                      {
                        "colorbar": {
                          "outlinewidth": 0,
                          "ticks": ""
                        },
                        "colorscale": [
                          [
                            0,
                            "#0d0887"
                          ],
                          [
                            0.1111111111111111,
                            "#46039f"
                          ],
                          [
                            0.2222222222222222,
                            "#7201a8"
                          ],
                          [
                            0.3333333333333333,
                            "#9c179e"
                          ],
                          [
                            0.4444444444444444,
                            "#bd3786"
                          ],
                          [
                            0.5555555555555556,
                            "#d8576b"
                          ],
                          [
                            0.6666666666666666,
                            "#ed7953"
                          ],
                          [
                            0.7777777777777778,
                            "#fb9f3a"
                          ],
                          [
                            0.8888888888888888,
                            "#fdca26"
                          ],
                          [
                            1,
                            "#f0f921"
                          ]
                        ],
                        "type": "histogram2d"
                      }
                    ],
                    "histogram2dcontour": [
                      {
                        "colorbar": {
                          "outlinewidth": 0,
                          "ticks": ""
                        },
                        "colorscale": [
                          [
                            0,
                            "#0d0887"
                          ],
                          [
                            0.1111111111111111,
                            "#46039f"
                          ],
                          [
                            0.2222222222222222,
                            "#7201a8"
                          ],
                          [
                            0.3333333333333333,
                            "#9c179e"
                          ],
                          [
                            0.4444444444444444,
                            "#bd3786"
                          ],
                          [
                            0.5555555555555556,
                            "#d8576b"
                          ],
                          [
                            0.6666666666666666,
                            "#ed7953"
                          ],
                          [
                            0.7777777777777778,
                            "#fb9f3a"
                          ],
                          [
                            0.8888888888888888,
                            "#fdca26"
                          ],
                          [
                            1,
                            "#f0f921"
                          ]
                        ],
                        "type": "histogram2dcontour"
                      }
                    ],
                    "mesh3d": [
                      {
                        "colorbar": {
                          "outlinewidth": 0,
                          "ticks": ""
                        },
                        "type": "mesh3d"
                      }
                    ],
                    "parcoords": [
                      {
                        "line": {
                          "colorbar": {
                            "outlinewidth": 0,
                            "ticks": ""
                          }
                        },
                        "type": "parcoords"
                      }
                    ],
                    "pie": [
                      {
                        "automargin": true,
                        "type": "pie"
                      }
                    ],
                    "scatter": [
                      {
                        "fillpattern": {
                          "fillmode": "overlay",
                          "size": 10,
                          "solidity": 0.2
                        },
                        "type": "scatter"
                      }
                    ],
                    "scatter3d": [
                      {
                        "line": {
                          "colorbar": {
                            "outlinewidth": 0,
                            "ticks": ""
                          }
                        },
                        "marker": {
                          "colorbar": {
                            "outlinewidth": 0,
                            "ticks": ""
                          }
                        },
                        "type": "scatter3d"
                      }
                    ],
                    "scattercarpet": [
                      {
                        "marker": {
                          "colorbar": {
                            "outlinewidth": 0,
                            "ticks": ""
                          }
                        },
                        "type": "scattercarpet"
                      }
                    ],
                    "scattergeo": [
                      {
                        "marker": {
                          "colorbar": {
                            "outlinewidth": 0,
                            "ticks": ""
                          }
                        },
                        "type": "scattergeo"
                      }
                    ],
                    "scattergl": [
                      {
                        "marker": {
                          "colorbar": {
                            "outlinewidth": 0,
                            "ticks": ""
                          }
                        },
                        "type": "scattergl"
                      }
                    ],
                    "scattermapbox": [
                      {
                        "marker": {
                          "colorbar": {
                            "outlinewidth": 0,
                            "ticks": ""
                          }
                        },
                        "type": "scattermapbox"
                      }
                    ],
                    "scatterpolar": [
                      {
                        "marker": {
                          "colorbar": {
                            "outlinewidth": 0,
                            "ticks": ""
                          }
                        },
                        "type": "scatterpolar"
                      }
                    ],
                    "scatterpolargl": [
                      {
                        "marker": {
                          "colorbar": {
                            "outlinewidth": 0,
                            "ticks": ""
                          }
                        },
                        "type": "scatterpolargl"
                      }
                    ],
                    "scatterternary": [
                      {
                        "marker": {
                          "colorbar": {
                            "outlinewidth": 0,
                            "ticks": ""
                          }
                        },
                        "type": "scatterternary"
                      }
                    ],
                    "surface": [
                      {
                        "colorbar": {
                          "outlinewidth": 0,
                          "ticks": ""
                        },
                        "colorscale": [
                          [
                            0,
                            "#0d0887"
                          ],
                          [
                            0.1111111111111111,
                            "#46039f"
                          ],
                          [
                            0.2222222222222222,
                            "#7201a8"
                          ],
                          [
                            0.3333333333333333,
                            "#9c179e"
                          ],
                          [
                            0.4444444444444444,
                            "#bd3786"
                          ],
                          [
                            0.5555555555555556,
                            "#d8576b"
                          ],
                          [
                            0.6666666666666666,
                            "#ed7953"
                          ],
                          [
                            0.7777777777777778,
                            "#fb9f3a"
                          ],
                          [
                            0.8888888888888888,
                            "#fdca26"
                          ],
                          [
                            1,
                            "#f0f921"
                          ]
                        ],
                        "type": "surface"
                      }
                    ],
                    "table": [
                      {
                        "cells": {
                          "fill": {
                            "color": "#EBF0F8"
                          },
                          "line": {
                            "color": "white"
                          }
                        },
                        "header": {
                          "fill": {
                            "color": "#C8D4E3"
                          },
                          "line": {
                            "color": "white"
                          }
                        },
                        "type": "table"
                      }
                    ]
                  },
                  "layout": {
                    "annotationdefaults": {
                      "arrowcolor": "#2a3f5f",
                      "arrowhead": 0,
                      "arrowwidth": 1
                    },
                    "autotypenumbers": "strict",
                    "coloraxis": {
                      "colorbar": {
                        "outlinewidth": 0,
                        "ticks": ""
                      }
                    },
                    "colorscale": {
                      "diverging": [
                        [
                          0,
                          "#8e0152"
                        ],
                        [
                          0.1,
                          "#c51b7d"
                        ],
                        [
                          0.2,
                          "#de77ae"
                        ],
                        [
                          0.3,
                          "#f1b6da"
                        ],
                        [
                          0.4,
                          "#fde0ef"
                        ],
                        [
                          0.5,
                          "#f7f7f7"
                        ],
                        [
                          0.6,
                          "#e6f5d0"
                        ],
                        [
                          0.7,
                          "#b8e186"
                        ],
                        [
                          0.8,
                          "#7fbc41"
                        ],
                        [
                          0.9,
                          "#4d9221"
                        ],
                        [
                          1,
                          "#276419"
                        ]
                      ],
                      "sequential": [
                        [
                          0,
                          "#0d0887"
                        ],
                        [
                          0.1111111111111111,
                          "#46039f"
                        ],
                        [
                          0.2222222222222222,
                          "#7201a8"
                        ],
                        [
                          0.3333333333333333,
                          "#9c179e"
                        ],
                        [
                          0.4444444444444444,
                          "#bd3786"
                        ],
                        [
                          0.5555555555555556,
                          "#d8576b"
                        ],
                        [
                          0.6666666666666666,
                          "#ed7953"
                        ],
                        [
                          0.7777777777777778,
                          "#fb9f3a"
                        ],
                        [
                          0.8888888888888888,
                          "#fdca26"
                        ],
                        [
                          1,
                          "#f0f921"
                        ]
                      ],
                      "sequentialminus": [
                        [
                          0,
                          "#0d0887"
                        ],
                        [
                          0.1111111111111111,
                          "#46039f"
                        ],
                        [
                          0.2222222222222222,
                          "#7201a8"
                        ],
                        [
                          0.3333333333333333,
                          "#9c179e"
                        ],
                        [
                          0.4444444444444444,
                          "#bd3786"
                        ],
                        [
                          0.5555555555555556,
                          "#d8576b"
                        ],
                        [
                          0.6666666666666666,
                          "#ed7953"
                        ],
                        [
                          0.7777777777777778,
                          "#fb9f3a"
                        ],
                        [
                          0.8888888888888888,
                          "#fdca26"
                        ],
                        [
                          1,
                          "#f0f921"
                        ]
                      ]
                    },
                    "colorway": [
                      "#636efa",
                      "#EF553B",
                      "#00cc96",
                      "#ab63fa",
                      "#FFA15A",
                      "#19d3f3",
                      "#FF6692",
                      "#B6E880",
                      "#FF97FF",
                      "#FECB52"
                    ],
                    "font": {
                      "color": "#2a3f5f"
                    },
                    "geo": {
                      "bgcolor": "white",
                      "lakecolor": "white",
                      "landcolor": "#E5ECF6",
                      "showlakes": true,
                      "showland": true,
                      "subunitcolor": "white"
                    },
                    "hoverlabel": {
                      "align": "left"
                    },
                    "hovermode": "closest",
                    "mapbox": {
                      "style": "light"
                    },
                    "paper_bgcolor": "white",
                    "plot_bgcolor": "#E5ECF6",
                    "polar": {
                      "angularaxis": {
                        "gridcolor": "white",
                        "linecolor": "white",
                        "ticks": ""
                      },
                      "bgcolor": "#E5ECF6",
                      "radialaxis": {
                        "gridcolor": "white",
                        "linecolor": "white",
                        "ticks": ""
                      }
                    },
                    "scene": {
                      "xaxis": {
                        "backgroundcolor": "#E5ECF6",
                        "gridcolor": "white",
                        "gridwidth": 2,
                        "linecolor": "white",
                        "showbackground": true,
                        "ticks": "",
                        "zerolinecolor": "white"
                      },
                      "yaxis": {
                        "backgroundcolor": "#E5ECF6",
                        "gridcolor": "white",
                        "gridwidth": 2,
                        "linecolor": "white",
                        "showbackground": true,
                        "ticks": "",
                        "zerolinecolor": "white"
                      },
                      "zaxis": {
                        "backgroundcolor": "#E5ECF6",
                        "gridcolor": "white",
                        "gridwidth": 2,
                        "linecolor": "white",
                        "showbackground": true,
                        "ticks": "",
                        "zerolinecolor": "white"
                      }
                    },
                    "shapedefaults": {
                      "line": {
                        "color": "#2a3f5f"
                      }
                    },
                    "ternary": {
                      "aaxis": {
                        "gridcolor": "white",
                        "linecolor": "white",
                        "ticks": ""
                      },
                      "baxis": {
                        "gridcolor": "white",
                        "linecolor": "white",
                        "ticks": ""
                      },
                      "bgcolor": "#E5ECF6",
                      "caxis": {
                        "gridcolor": "white",
                        "linecolor": "white",
                        "ticks": ""
                      }
                    },
                    "title": {
                      "x": 0.05
                    },
                    "xaxis": {
                      "automargin": true,
                      "gridcolor": "white",
                      "linecolor": "white",
                      "ticks": "",
                      "title": {
                        "standoff": 15
                      },
                      "zerolinecolor": "white",
                      "zerolinewidth": 2
                    },
                    "yaxis": {
                      "automargin": true,
                      "gridcolor": "white",
                      "linecolor": "white",
                      "ticks": "",
                      "title": {
                        "standoff": 15
                      },
                      "zerolinecolor": "white",
                      "zerolinewidth": 2
                    }
                  }
                },
                "title": {
                  "text": "Histogram of the log of car price per km"
                },
                "width": 970
              }
            }
          },
          "metadata": {},
          "output_type": "display_data"
        }
      ],
      "source": [
        "fig = go.Figure(\n",
        "    go.Histogram(x=abs(df_cars_2_var['car_price_per_km_log']-df_cars_2_var['car_price_per_km_log'].median())/mad, name='Log of price per km')\n",
        ")\n",
        "\n",
        "fig.update_layout(height=500, width=970, title_text=\"Histogram of the log of car price per km\")\n",
        "fig.show()"
      ]
    },
    {
      "cell_type": "code",
      "execution_count": 40,
      "metadata": {},
      "outputs": [
        {
          "data": {
            "text/plain": [
              "101"
            ]
          },
          "execution_count": 40,
          "metadata": {},
          "output_type": "execute_result"
        }
      ],
      "source": [
        "len(df_cars_2_var[abs(df_cars_2_var['car_price_per_km_log']-df_cars_2_var['car_price_per_km_log'].median())/mad > 3.5])"
      ]
    },
    {
      "cell_type": "code",
      "execution_count": 41,
      "metadata": {},
      "outputs": [
        {
          "data": {
            "text/plain": [
              "1002"
            ]
          },
          "execution_count": 41,
          "metadata": {},
          "output_type": "execute_result"
        }
      ],
      "source": [
        "df_cars_2_var = df_cars_2_var[abs(df_cars_2_var['car_price_per_km_log']-df_cars_2_var['car_price_per_km_log'].median())/mad < 3.5]\n",
        "len(df_cars_2_var)"
      ]
    },
    {
      "cell_type": "markdown",
      "metadata": {},
      "source": [
        "#### Elliptic Envelope (multivariado)"
      ]
    },
    {
      "cell_type": "code",
      "execution_count": 42,
      "metadata": {},
      "outputs": [],
      "source": [
        "df_knn_fill_ee = df_knn_fill.copy()"
      ]
    },
    {
      "cell_type": "code",
      "execution_count": 43,
      "metadata": {},
      "outputs": [
        {
          "data": {
            "text/html": [
              "<div>\n",
              "<style scoped>\n",
              "    .dataframe tbody tr th:only-of-type {\n",
              "        vertical-align: middle;\n",
              "    }\n",
              "\n",
              "    .dataframe tbody tr th {\n",
              "        vertical-align: top;\n",
              "    }\n",
              "\n",
              "    .dataframe thead tr th {\n",
              "        text-align: left;\n",
              "    }\n",
              "</style>\n",
              "<table border=\"1\" class=\"dataframe\">\n",
              "  <thead>\n",
              "    <tr>\n",
              "      <th></th>\n",
              "      <th>car_brand</th>\n",
              "      <th>car_price</th>\n",
              "      <th>car_km</th>\n",
              "      <th>car_year</th>\n",
              "      <th>car_engine</th>\n",
              "      <th>car_gearbox</th>\n",
              "      <th>car_fuel</th>\n",
              "      <th>outlier</th>\n",
              "    </tr>\n",
              "  </thead>\n",
              "  <tbody>\n",
              "    <tr>\n",
              "      <th>0</th>\n",
              "      <td>8.0</td>\n",
              "      <td>125990.0</td>\n",
              "      <td>7521.0</td>\n",
              "      <td>2022.0</td>\n",
              "      <td>29.0</td>\n",
              "      <td>0.0</td>\n",
              "      <td>1.0</td>\n",
              "      <td>1</td>\n",
              "    </tr>\n",
              "    <tr>\n",
              "      <th>1</th>\n",
              "      <td>1.0</td>\n",
              "      <td>128980.0</td>\n",
              "      <td>40000.0</td>\n",
              "      <td>2018.0</td>\n",
              "      <td>6.0</td>\n",
              "      <td>0.0</td>\n",
              "      <td>2.0</td>\n",
              "      <td>1</td>\n",
              "    </tr>\n",
              "    <tr>\n",
              "      <th>2</th>\n",
              "      <td>6.0</td>\n",
              "      <td>70990.0</td>\n",
              "      <td>40686.0</td>\n",
              "      <td>2023.0</td>\n",
              "      <td>0.0</td>\n",
              "      <td>1.0</td>\n",
              "      <td>2.0</td>\n",
              "      <td>1</td>\n",
              "    </tr>\n",
              "    <tr>\n",
              "      <th>3</th>\n",
              "      <td>6.0</td>\n",
              "      <td>79990.0</td>\n",
              "      <td>57643.0</td>\n",
              "      <td>2022.0</td>\n",
              "      <td>1.0</td>\n",
              "      <td>0.0</td>\n",
              "      <td>2.0</td>\n",
              "      <td>1</td>\n",
              "    </tr>\n",
              "    <tr>\n",
              "      <th>4</th>\n",
              "      <td>29.0</td>\n",
              "      <td>77990.0</td>\n",
              "      <td>29000.0</td>\n",
              "      <td>2023.0</td>\n",
              "      <td>10.0</td>\n",
              "      <td>1.0</td>\n",
              "      <td>2.0</td>\n",
              "      <td>1</td>\n",
              "    </tr>\n",
              "  </tbody>\n",
              "</table>\n",
              "</div>"
            ],
            "text/plain": [
              "  car_brand car_price   car_km car_year car_engine car_gearbox car_fuel  \\\n",
              "0       8.0  125990.0   7521.0   2022.0       29.0         0.0      1.0   \n",
              "1       1.0  128980.0  40000.0   2018.0        6.0         0.0      2.0   \n",
              "2       6.0   70990.0  40686.0   2023.0        0.0         1.0      2.0   \n",
              "3       6.0   79990.0  57643.0   2022.0        1.0         0.0      2.0   \n",
              "4      29.0   77990.0  29000.0   2023.0       10.0         1.0      2.0   \n",
              "\n",
              "  outlier  \n",
              "0       1  \n",
              "1       1  \n",
              "2       1  \n",
              "3       1  \n",
              "4       1  "
            ]
          },
          "execution_count": 43,
          "metadata": {},
          "output_type": "execute_result"
        }
      ],
      "source": [
        "detector = EllipticEnvelope(contamination=0.01)\n",
        "detector.fit(df_knn_fill_ee)\n",
        "\n",
        "scores = detector.predict(df_knn_fill_ee)\n",
        "df_knn_fill_ee['outlier'] = scores\n",
        "\n",
        "df_knn_fill_ee.head()"
      ]
    },
    {
      "cell_type": "code",
      "execution_count": 44,
      "metadata": {},
      "outputs": [
        {
          "data": {
            "text/html": [
              "<div>\n",
              "<style scoped>\n",
              "    .dataframe tbody tr th:only-of-type {\n",
              "        vertical-align: middle;\n",
              "    }\n",
              "\n",
              "    .dataframe tbody tr th {\n",
              "        vertical-align: top;\n",
              "    }\n",
              "\n",
              "    .dataframe thead tr th {\n",
              "        text-align: left;\n",
              "    }\n",
              "</style>\n",
              "<table border=\"1\" class=\"dataframe\">\n",
              "  <thead>\n",
              "    <tr>\n",
              "      <th></th>\n",
              "      <th>car_brand</th>\n",
              "      <th>car_price</th>\n",
              "      <th>car_km</th>\n",
              "      <th>car_year</th>\n",
              "      <th>car_engine</th>\n",
              "      <th>car_gearbox</th>\n",
              "      <th>car_fuel</th>\n",
              "      <th>outlier</th>\n",
              "    </tr>\n",
              "  </thead>\n",
              "  <tbody>\n",
              "    <tr>\n",
              "      <th>0</th>\n",
              "      <td>NaN</td>\n",
              "      <td>NaN</td>\n",
              "      <td>NaN</td>\n",
              "      <td>NaN</td>\n",
              "      <td>NaN</td>\n",
              "      <td>NaN</td>\n",
              "      <td>NaN</td>\n",
              "      <td>1.0</td>\n",
              "    </tr>\n",
              "    <tr>\n",
              "      <th>1</th>\n",
              "      <td>NaN</td>\n",
              "      <td>NaN</td>\n",
              "      <td>NaN</td>\n",
              "      <td>NaN</td>\n",
              "      <td>NaN</td>\n",
              "      <td>NaN</td>\n",
              "      <td>NaN</td>\n",
              "      <td>1.0</td>\n",
              "    </tr>\n",
              "    <tr>\n",
              "      <th>2</th>\n",
              "      <td>NaN</td>\n",
              "      <td>NaN</td>\n",
              "      <td>NaN</td>\n",
              "      <td>NaN</td>\n",
              "      <td>NaN</td>\n",
              "      <td>NaN</td>\n",
              "      <td>NaN</td>\n",
              "      <td>1.0</td>\n",
              "    </tr>\n",
              "    <tr>\n",
              "      <th>3</th>\n",
              "      <td>NaN</td>\n",
              "      <td>NaN</td>\n",
              "      <td>NaN</td>\n",
              "      <td>NaN</td>\n",
              "      <td>NaN</td>\n",
              "      <td>NaN</td>\n",
              "      <td>NaN</td>\n",
              "      <td>1.0</td>\n",
              "    </tr>\n",
              "    <tr>\n",
              "      <th>4</th>\n",
              "      <td>NaN</td>\n",
              "      <td>NaN</td>\n",
              "      <td>NaN</td>\n",
              "      <td>NaN</td>\n",
              "      <td>NaN</td>\n",
              "      <td>NaN</td>\n",
              "      <td>NaN</td>\n",
              "      <td>1.0</td>\n",
              "    </tr>\n",
              "  </tbody>\n",
              "</table>\n",
              "</div>"
            ],
            "text/plain": [
              "  car_brand car_price car_km car_year car_engine car_gearbox car_fuel outlier\n",
              "0       NaN       NaN    NaN      NaN        NaN         NaN      NaN     1.0\n",
              "1       NaN       NaN    NaN      NaN        NaN         NaN      NaN     1.0\n",
              "2       NaN       NaN    NaN      NaN        NaN         NaN      NaN     1.0\n",
              "3       NaN       NaN    NaN      NaN        NaN         NaN      NaN     1.0\n",
              "4       NaN       NaN    NaN      NaN        NaN         NaN      NaN     1.0"
            ]
          },
          "execution_count": 44,
          "metadata": {},
          "output_type": "execute_result"
        }
      ],
      "source": [
        "df_knn_fill_ee = df_knn_fill_ee[df_knn_fill_ee['outlier'] != -1]\n",
        "df_knn_fill_ee.head()"
      ]
    },
    {
      "cell_type": "code",
      "execution_count": null,
      "metadata": {},
      "outputs": [
        {
          "data": {
            "text/plain": [
              "car_brand      1103\n",
              "car_price      1103\n",
              "car_km         1103\n",
              "car_year       1103\n",
              "car_engine     1103\n",
              "car_gearbox    1103\n",
              "car_fuel       1103\n",
              "outlier        1103\n",
              "dtype: int64"
            ]
          },
          "execution_count": 164,
          "metadata": {},
          "output_type": "execute_result"
        }
      ],
      "source": [
        "df_knn_fill_ee.count()"
      ]
    },
    {
      "cell_type": "markdown",
      "metadata": {},
      "source": [
        "#### Isolation Forests (multivariado)"
      ]
    },
    {
      "cell_type": "code",
      "execution_count": null,
      "metadata": {},
      "outputs": [],
      "source": [
        "df_knn_fill_if = df_knn_fill.copy()"
      ]
    },
    {
      "cell_type": "code",
      "execution_count": null,
      "metadata": {},
      "outputs": [
        {
          "data": {
            "text/html": [
              "<div>\n",
              "<style scoped>\n",
              "    .dataframe tbody tr th:only-of-type {\n",
              "        vertical-align: middle;\n",
              "    }\n",
              "\n",
              "    .dataframe tbody tr th {\n",
              "        vertical-align: top;\n",
              "    }\n",
              "\n",
              "    .dataframe thead tr th {\n",
              "        text-align: left;\n",
              "    }\n",
              "</style>\n",
              "<table border=\"1\" class=\"dataframe\">\n",
              "  <thead>\n",
              "    <tr>\n",
              "      <th></th>\n",
              "      <th>car_brand</th>\n",
              "      <th>car_price</th>\n",
              "      <th>car_km</th>\n",
              "      <th>car_year</th>\n",
              "      <th>car_engine</th>\n",
              "      <th>car_gearbox</th>\n",
              "      <th>car_fuel</th>\n",
              "      <th>outlier</th>\n",
              "    </tr>\n",
              "  </thead>\n",
              "  <tbody>\n",
              "    <tr>\n",
              "      <th>0</th>\n",
              "      <td>8.0</td>\n",
              "      <td>125990.0</td>\n",
              "      <td>7521.0</td>\n",
              "      <td>2022.0</td>\n",
              "      <td>29.0</td>\n",
              "      <td>0.0</td>\n",
              "      <td>1.0</td>\n",
              "      <td>-1</td>\n",
              "    </tr>\n",
              "    <tr>\n",
              "      <th>1</th>\n",
              "      <td>1.0</td>\n",
              "      <td>128980.0</td>\n",
              "      <td>40000.0</td>\n",
              "      <td>2018.0</td>\n",
              "      <td>6.0</td>\n",
              "      <td>0.0</td>\n",
              "      <td>2.0</td>\n",
              "      <td>1</td>\n",
              "    </tr>\n",
              "    <tr>\n",
              "      <th>2</th>\n",
              "      <td>6.0</td>\n",
              "      <td>70990.0</td>\n",
              "      <td>40686.0</td>\n",
              "      <td>2023.0</td>\n",
              "      <td>0.0</td>\n",
              "      <td>1.0</td>\n",
              "      <td>2.0</td>\n",
              "      <td>1</td>\n",
              "    </tr>\n",
              "    <tr>\n",
              "      <th>3</th>\n",
              "      <td>6.0</td>\n",
              "      <td>79990.0</td>\n",
              "      <td>57643.0</td>\n",
              "      <td>2022.0</td>\n",
              "      <td>1.0</td>\n",
              "      <td>0.0</td>\n",
              "      <td>2.0</td>\n",
              "      <td>1</td>\n",
              "    </tr>\n",
              "    <tr>\n",
              "      <th>4</th>\n",
              "      <td>29.0</td>\n",
              "      <td>77990.0</td>\n",
              "      <td>29000.0</td>\n",
              "      <td>2023.0</td>\n",
              "      <td>10.0</td>\n",
              "      <td>1.0</td>\n",
              "      <td>2.0</td>\n",
              "      <td>-1</td>\n",
              "    </tr>\n",
              "  </tbody>\n",
              "</table>\n",
              "</div>"
            ],
            "text/plain": [
              "  car_brand car_price   car_km car_year car_engine car_gearbox car_fuel  \\\n",
              "0       8.0  125990.0   7521.0   2022.0       29.0         0.0      1.0   \n",
              "1       1.0  128980.0  40000.0   2018.0        6.0         0.0      2.0   \n",
              "2       6.0   70990.0  40686.0   2023.0        0.0         1.0      2.0   \n",
              "3       6.0   79990.0  57643.0   2022.0        1.0         0.0      2.0   \n",
              "4      29.0   77990.0  29000.0   2023.0       10.0         1.0      2.0   \n",
              "\n",
              "  outlier  \n",
              "0      -1  \n",
              "1       1  \n",
              "2       1  \n",
              "3       1  \n",
              "4      -1  "
            ]
          },
          "execution_count": 490,
          "metadata": {},
          "output_type": "execute_result"
        }
      ],
      "source": [
        "clf = IsolationForest(max_samples=100, random_state=np.random.RandomState(42))\n",
        "clf.fit(df_knn_fill_if)\n",
        "\n",
        "scores = clf.predict(df_knn_fill_if)\n",
        "df_knn_fill_if['outlier'] = scores\n",
        "\n",
        "df_knn_fill_if.head()"
      ]
    },
    {
      "cell_type": "code",
      "execution_count": null,
      "metadata": {},
      "outputs": [
        {
          "data": {
            "text/html": [
              "<div>\n",
              "<style scoped>\n",
              "    .dataframe tbody tr th:only-of-type {\n",
              "        vertical-align: middle;\n",
              "    }\n",
              "\n",
              "    .dataframe tbody tr th {\n",
              "        vertical-align: top;\n",
              "    }\n",
              "\n",
              "    .dataframe thead tr th {\n",
              "        text-align: left;\n",
              "    }\n",
              "</style>\n",
              "<table border=\"1\" class=\"dataframe\">\n",
              "  <thead>\n",
              "    <tr>\n",
              "      <th></th>\n",
              "      <th>car_brand</th>\n",
              "      <th>car_price</th>\n",
              "      <th>car_km</th>\n",
              "      <th>car_year</th>\n",
              "      <th>car_engine</th>\n",
              "      <th>car_gearbox</th>\n",
              "      <th>car_fuel</th>\n",
              "      <th>outlier</th>\n",
              "    </tr>\n",
              "  </thead>\n",
              "  <tbody>\n",
              "    <tr>\n",
              "      <th>0</th>\n",
              "      <td>NaN</td>\n",
              "      <td>NaN</td>\n",
              "      <td>NaN</td>\n",
              "      <td>NaN</td>\n",
              "      <td>NaN</td>\n",
              "      <td>NaN</td>\n",
              "      <td>NaN</td>\n",
              "      <td>NaN</td>\n",
              "    </tr>\n",
              "    <tr>\n",
              "      <th>1</th>\n",
              "      <td>NaN</td>\n",
              "      <td>NaN</td>\n",
              "      <td>NaN</td>\n",
              "      <td>NaN</td>\n",
              "      <td>NaN</td>\n",
              "      <td>NaN</td>\n",
              "      <td>NaN</td>\n",
              "      <td>1.0</td>\n",
              "    </tr>\n",
              "    <tr>\n",
              "      <th>2</th>\n",
              "      <td>NaN</td>\n",
              "      <td>NaN</td>\n",
              "      <td>NaN</td>\n",
              "      <td>NaN</td>\n",
              "      <td>NaN</td>\n",
              "      <td>NaN</td>\n",
              "      <td>NaN</td>\n",
              "      <td>1.0</td>\n",
              "    </tr>\n",
              "    <tr>\n",
              "      <th>3</th>\n",
              "      <td>NaN</td>\n",
              "      <td>NaN</td>\n",
              "      <td>NaN</td>\n",
              "      <td>NaN</td>\n",
              "      <td>NaN</td>\n",
              "      <td>NaN</td>\n",
              "      <td>NaN</td>\n",
              "      <td>1.0</td>\n",
              "    </tr>\n",
              "    <tr>\n",
              "      <th>4</th>\n",
              "      <td>NaN</td>\n",
              "      <td>NaN</td>\n",
              "      <td>NaN</td>\n",
              "      <td>NaN</td>\n",
              "      <td>NaN</td>\n",
              "      <td>NaN</td>\n",
              "      <td>NaN</td>\n",
              "      <td>NaN</td>\n",
              "    </tr>\n",
              "  </tbody>\n",
              "</table>\n",
              "</div>"
            ],
            "text/plain": [
              "  car_brand car_price car_km car_year car_engine car_gearbox car_fuel outlier\n",
              "0       NaN       NaN    NaN      NaN        NaN         NaN      NaN     NaN\n",
              "1       NaN       NaN    NaN      NaN        NaN         NaN      NaN     1.0\n",
              "2       NaN       NaN    NaN      NaN        NaN         NaN      NaN     1.0\n",
              "3       NaN       NaN    NaN      NaN        NaN         NaN      NaN     1.0\n",
              "4       NaN       NaN    NaN      NaN        NaN         NaN      NaN     NaN"
            ]
          },
          "execution_count": 491,
          "metadata": {},
          "output_type": "execute_result"
        }
      ],
      "source": [
        "df_knn_fill_if = df_knn_fill_if[df_knn_fill_if['outlier'] != -1]\n",
        "df_knn_fill_if.head()"
      ]
    },
    {
      "cell_type": "code",
      "execution_count": 524,
      "metadata": {},
      "outputs": [
        {
          "data": {
            "text/plain": [
              "car_brand        0\n",
              "car_price        0\n",
              "car_km           0\n",
              "car_year         0\n",
              "car_engine       0\n",
              "car_gearbox      0\n",
              "car_fuel         0\n",
              "outlier        836\n",
              "dtype: int64"
            ]
          },
          "execution_count": 524,
          "metadata": {},
          "output_type": "execute_result"
        }
      ],
      "source": [
        "df_knn_fill_if.count()"
      ]
    },
    {
      "cell_type": "markdown",
      "metadata": {},
      "source": [
        "---"
      ]
    },
    {
      "cell_type": "markdown",
      "metadata": {},
      "source": [
        "### Estatísticas Descritivas"
      ]
    },
    {
      "cell_type": "code",
      "execution_count": 595,
      "metadata": {
        "colab": {
          "base_uri": "https://localhost:8080/",
          "height": 917
        },
        "id": "nNu2nFJMP9j5",
        "outputId": "6834740e-dffc-4f99-c1e1-1830d36c4b28"
      },
      "outputs": [
        {
          "data": {
            "application/vnd.plotly.v1+json": {
              "config": {
                "plotlyServerURL": "https://plot.ly"
              },
              "data": [
                {
                  "name": "Price",
                  "type": "histogram",
                  "x": [
                    125990,
                    128980,
                    70990,
                    79990,
                    77990,
                    117990,
                    229980,
                    158990,
                    65990,
                    239990,
                    70990,
                    69990,
                    83990,
                    82990,
                    69990,
                    103990,
                    99990,
                    69690,
                    73990,
                    69990,
                    136980,
                    136980,
                    78990,
                    73990,
                    70900,
                    74800,
                    81990,
                    70800,
                    71990,
                    71990,
                    249990,
                    68800,
                    82990,
                    67990,
                    83990,
                    105990,
                    68990,
                    69990,
                    112990,
                    65990,
                    79990,
                    72990,
                    74490,
                    69990,
                    68990,
                    70990,
                    79990,
                    68990,
                    143980,
                    242990,
                    81990,
                    69990,
                    69990,
                    70990,
                    99990,
                    80990,
                    136990,
                    74990,
                    81990,
                    106990,
                    73990,
                    73990,
                    73990,
                    73990,
                    65990,
                    116990,
                    72990,
                    71990,
                    100990,
                    71990,
                    69990,
                    73990,
                    75990,
                    70990,
                    81990,
                    92990,
                    106990,
                    49990,
                    93990,
                    89990,
                    107990,
                    61990,
                    66990,
                    73990,
                    124990,
                    53990,
                    82990,
                    107800,
                    106990,
                    74990,
                    64990,
                    77990,
                    55990,
                    51990,
                    74800,
                    99990,
                    56990,
                    72990,
                    44800,
                    92990,
                    86990,
                    139990,
                    83990,
                    55800,
                    73490,
                    60800,
                    82990,
                    104990,
                    79800,
                    110990,
                    112990,
                    167990,
                    125990,
                    79800,
                    58800,
                    71990,
                    70990,
                    169990,
                    115990,
                    68990,
                    75990,
                    57990,
                    112990,
                    108990,
                    101990,
                    71990,
                    68990,
                    69990,
                    112990,
                    124990,
                    69990,
                    69990,
                    68990,
                    75990,
                    90990,
                    60990,
                    110990,
                    74990,
                    53800,
                    149990,
                    72990,
                    81990,
                    77990,
                    77800,
                    176990,
                    66800,
                    49800,
                    43990,
                    72990,
                    59990,
                    146990,
                    60990,
                    140990,
                    83990,
                    75990,
                    51990,
                    71990,
                    92990,
                    115990,
                    59990,
                    94990,
                    48990,
                    71990,
                    117990,
                    90990,
                    45800,
                    73990,
                    59990,
                    60990,
                    92990,
                    85990,
                    61990,
                    80990,
                    81990,
                    123990,
                    119990,
                    161900,
                    119900,
                    71900,
                    91900,
                    45900,
                    64990,
                    49900,
                    81900,
                    52900,
                    59900,
                    106900,
                    88900,
                    156900,
                    50990,
                    98990,
                    98990,
                    129900,
                    46990,
                    91900,
                    53900,
                    78900,
                    39990,
                    65990,
                    84990,
                    54990,
                    75990,
                    113900,
                    69900,
                    89900,
                    73900,
                    75900,
                    129900,
                    35900,
                    60900,
                    40900,
                    98990,
                    41990,
                    49990,
                    41990,
                    64990,
                    89900,
                    105900,
                    48990,
                    89900,
                    48990,
                    49990,
                    65990,
                    41900,
                    99990,
                    39990,
                    114990,
                    139990,
                    89990,
                    89990,
                    92990,
                    75990,
                    125990,
                    129900,
                    219990,
                    139990,
                    74990,
                    119990,
                    85900,
                    79900,
                    115990,
                    229990,
                    79990,
                    149990,
                    85900,
                    129990,
                    95900,
                    115990,
                    105900,
                    104900,
                    139900,
                    85900,
                    119900,
                    98990,
                    142900,
                    249990,
                    99900,
                    89900,
                    90990,
                    69900,
                    74990,
                    62990,
                    89900,
                    115900,
                    121900,
                    89900,
                    81900,
                    78900,
                    95900,
                    59990,
                    78900,
                    55990,
                    90990,
                    239900,
                    89900,
                    150990,
                    129990,
                    236990,
                    219990,
                    89990,
                    99990,
                    118990,
                    230990,
                    117990,
                    207990,
                    93980,
                    66480,
                    103480,
                    54980,
                    55980,
                    110980,
                    112980,
                    49980,
                    63980,
                    88980,
                    61980,
                    57980,
                    55980,
                    48970,
                    148980,
                    114980,
                    84480,
                    98980,
                    47980,
                    73480,
                    101980,
                    74980,
                    108480,
                    129980,
                    86980,
                    97980,
                    112980,
                    52980,
                    59980,
                    47980,
                    62980,
                    38980,
                    97980,
                    73980,
                    46980,
                    62980,
                    55980,
                    47980,
                    54980,
                    74980,
                    49480,
                    47980,
                    54980,
                    74980,
                    55980,
                    72980,
                    51980,
                    73980,
                    79990,
                    86000,
                    90000,
                    93990,
                    96990,
                    118990,
                    122990,
                    131000,
                    105900,
                    78900,
                    46900,
                    94900,
                    91900,
                    64890,
                    48900,
                    76990,
                    79900,
                    68900,
                    58900,
                    56900,
                    48490,
                    78900,
                    84900,
                    139900,
                    57900,
                    59900,
                    52490,
                    60900,
                    61900,
                    74900,
                    60900,
                    56900,
                    48900,
                    205900,
                    123900,
                    72990,
                    72000,
                    53990,
                    52990,
                    54900,
                    31990,
                    36990,
                    39990,
                    74990,
                    36990,
                    54900,
                    155900,
                    101900,
                    83990,
                    110990,
                    146990,
                    112900,
                    52990,
                    39990,
                    71900,
                    68900,
                    58990,
                    54900,
                    35990,
                    60990,
                    41990,
                    51900,
                    44990,
                    75990,
                    50990,
                    46990,
                    34990,
                    106870,
                    86990,
                    45990,
                    82990,
                    78990,
                    71990,
                    61990,
                    51870,
                    125990,
                    92870,
                    53870,
                    48900,
                    132900,
                    63900,
                    54900,
                    36900,
                    54870,
                    52870,
                    49870,
                    79870,
                    55870,
                    41990,
                    77990,
                    59990,
                    55990,
                    103990,
                    99990,
                    90990,
                    55990,
                    58990,
                    129900,
                    95900,
                    89900,
                    83900,
                    144870,
                    37900,
                    229900,
                    139900,
                    138990,
                    128990,
                    67990,
                    164990,
                    119990,
                    89990,
                    124900,
                    173900,
                    119870,
                    101990,
                    97870,
                    93990,
                    84990,
                    79870,
                    75990,
                    75870,
                    55870,
                    52870,
                    92990,
                    65990,
                    53990,
                    48900,
                    47900,
                    45900,
                    42900,
                    95990,
                    82990,
                    59990,
                    49990,
                    46990,
                    749900,
                    649900,
                    528900,
                    439900,
                    399900,
                    379900,
                    319900,
                    264900,
                    229900,
                    224900,
                    207900,
                    39990,
                    95997,
                    968900,
                    795900,
                    599900,
                    489900,
                    339900,
                    248900,
                    184900,
                    149900,
                    118997,
                    109997,
                    96990,
                    96900,
                    96900,
                    91990,
                    89997,
                    71990,
                    61997,
                    61997,
                    56900,
                    78997,
                    75900,
                    68900,
                    63997,
                    41997,
                    32900,
                    248900,
                    135990,
                    83990,
                    81990,
                    76990,
                    69990,
                    68990,
                    65990,
                    59990,
                    52990,
                    52990,
                    42990,
                    104990,
                    89990,
                    87990,
                    74990,
                    56900,
                    55990,
                    798900,
                    749900,
                    715900,
                    569900,
                    508900,
                    319900,
                    289900,
                    258900,
                    199900,
                    199900,
                    184900,
                    130900,
                    112900,
                    107900,
                    174900,
                    169900,
                    155900,
                    144997,
                    139900,
                    119900,
                    114900,
                    108900,
                    105997,
                    101997,
                    96997,
                    93997,
                    89990,
                    88900,
                    84997,
                    80900,
                    78997,
                    76900,
                    74900,
                    117990,
                    211900,
                    77990,
                    207900,
                    199900,
                    197900,
                    162900,
                    154900,
                    153900,
                    149900,
                    142900,
                    138900,
                    136900,
                    136900,
                    133900,
                    132900,
                    129900,
                    125900,
                    121900,
                    119900,
                    119900,
                    117900,
                    83990,
                    855900,
                    679900,
                    599900,
                    479900,
                    397900,
                    308900,
                    299900,
                    299900,
                    289900,
                    279900,
                    279900,
                    278900,
                    258900,
                    258900,
                    249900,
                    248900,
                    239900,
                    229900,
                    104900,
                    102900,
                    102900,
                    99900,
                    98900,
                    94900,
                    92900,
                    85900,
                    79990,
                    75900,
                    74900,
                    69900,
                    68900,
                    68900,
                    58900,
                    57900,
                    52900,
                    49900,
                    49900,
                    158900,
                    89990,
                    84990,
                    84990,
                    81990,
                    43990,
                    709900,
                    569900,
                    269900,
                    135900,
                    133900,
                    132900,
                    91900,
                    69997,
                    65997,
                    64997,
                    58990,
                    69990,
                    59900,
                    58990,
                    55990,
                    42900,
                    26990,
                    130990,
                    95900,
                    89990,
                    86990,
                    78900,
                    72900,
                    69900,
                    68900,
                    62280,
                    60000,
                    59900,
                    59804,
                    54900,
                    62900,
                    58990,
                    58990,
                    56900,
                    50990,
                    49900,
                    49900,
                    46990,
                    43900,
                    42900,
                    41990,
                    40900,
                    40900,
                    39900,
                    38990,
                    38990,
                    28900,
                    109900,
                    84990,
                    77990,
                    116900,
                    114900,
                    109900,
                    96900,
                    92990,
                    86900,
                    85900,
                    80990,
                    77900,
                    75990,
                    73990,
                    72900,
                    69900,
                    69900,
                    69900,
                    69900,
                    68990,
                    64990,
                    63900,
                    68990,
                    66990,
                    43990,
                    43990,
                    36990,
                    91990,
                    84990,
                    78990,
                    76990,
                    76990,
                    76900,
                    68990,
                    58990,
                    58990,
                    58990,
                    46990,
                    44990,
                    58990,
                    58900,
                    56990,
                    49900,
                    48990,
                    38990,
                    33990,
                    32990,
                    25990,
                    99900,
                    89990,
                    82990,
                    82990,
                    64990,
                    54990,
                    45990,
                    40990,
                    30990,
                    25990,
                    81990,
                    62990,
                    47990,
                    78900,
                    49990,
                    48990,
                    47990,
                    37990,
                    28900,
                    175900,
                    88900,
                    86900,
                    79990,
                    77900,
                    76900,
                    75997,
                    64900,
                    58900,
                    56900,
                    45990,
                    91990,
                    77990,
                    74990,
                    69900,
                    61900,
                    175900,
                    74990,
                    74900,
                    69990,
                    61990,
                    60990,
                    51990,
                    51990,
                    467900,
                    198990,
                    94900,
                    82990,
                    77900,
                    74990,
                    59990,
                    57990,
                    315900,
                    79990,
                    52990,
                    43800,
                    130990,
                    68900,
                    59990,
                    57990,
                    54990,
                    52990,
                    50990,
                    47990,
                    639900,
                    459900,
                    254900,
                    218900,
                    152900,
                    126900,
                    91870,
                    87990,
                    78997,
                    62900,
                    61990,
                    59900,
                    57990,
                    45990,
                    35990,
                    33990,
                    164900,
                    146900,
                    121900,
                    95900,
                    86997,
                    83990,
                    80990,
                    64997,
                    63900,
                    54997,
                    48490,
                    39990,
                    38990,
                    98990,
                    75900,
                    65900,
                    62990,
                    62900,
                    58900,
                    50990,
                    39990,
                    38990,
                    33990,
                    30990,
                    24990,
                    91900,
                    78990,
                    77990,
                    74900,
                    71990,
                    43990,
                    92990,
                    61990,
                    57990,
                    77990,
                    64990,
                    109990,
                    92990,
                    83900,
                    72900,
                    28990,
                    88990,
                    78990,
                    69990,
                    64900,
                    55990,
                    54990,
                    49990,
                    68900,
                    74990,
                    36990,
                    779900,
                    539900,
                    518900,
                    499900,
                    428900,
                    419900,
                    379900,
                    369900,
                    238900,
                    198900,
                    184900,
                    168900,
                    139900,
                    115900,
                    114900,
                    83900,
                    71900,
                    62990,
                    45900,
                    130990,
                    106990,
                    26990,
                    112900,
                    304990,
                    111990,
                    89990,
                    35990,
                    99990,
                    77990,
                    72990,
                    368900,
                    75990,
                    59900,
                    57990,
                    104990,
                    107990,
                    70990,
                    48990,
                    44900,
                    82990,
                    48990,
                    71990,
                    69990,
                    67990,
                    67990,
                    66990,
                    65990,
                    65990,
                    54990,
                    53990,
                    52990,
                    49990,
                    134990,
                    109990,
                    95990,
                    83990,
                    64990,
                    56990,
                    66990,
                    49990,
                    101990,
                    98990,
                    96990,
                    94990,
                    90990,
                    81990,
                    78990,
                    76990,
                    70990,
                    64900,
                    60990,
                    57990,
                    53990,
                    46990,
                    45990,
                    39990,
                    38990,
                    34990,
                    32990,
                    29990,
                    75900,
                    73900,
                    67990,
                    64990,
                    52990,
                    49990,
                    49990,
                    48990,
                    39900,
                    220900,
                    138990,
                    109900,
                    59900,
                    56900,
                    46900,
                    33990,
                    75900,
                    53990,
                    46990,
                    33900,
                    26990,
                    133990,
                    129900,
                    109900,
                    85900,
                    74900,
                    69990,
                    69900,
                    59990,
                    59900,
                    58990,
                    40990,
                    37990,
                    37990,
                    185900,
                    129900,
                    129900,
                    149990,
                    131900,
                    79900,
                    71900,
                    47900,
                    73900,
                    48990,
                    130990,
                    75990,
                    99990,
                    57900,
                    61900,
                    29900,
                    49990,
                    550990,
                    299990,
                    116990,
                    74990,
                    559990,
                    269990,
                    113900,
                    109900,
                    53900,
                    45900,
                    399950,
                    274950,
                    159900,
                    155900,
                    135900,
                    109900,
                    79900,
                    61900,
                    389950,
                    77990,
                    67900,
                    75990,
                    73900,
                    51990,
                    81990,
                    49990,
                    160990,
                    77900,
                    74990,
                    74990,
                    66990,
                    119990,
                    259900,
                    91990,
                    82990,
                    59900,
                    125900,
                    139990,
                    235900,
                    131900,
                    319900,
                    135900,
                    135900,
                    489950,
                    269950,
                    179900,
                    130990,
                    129990,
                    101990,
                    98990,
                    74990,
                    71990,
                    129990,
                    124990,
                    123990,
                    104990,
                    99990,
                    95990,
                    81990,
                    79990,
                    77990,
                    74990,
                    73990,
                    73990,
                    73990,
                    364990,
                    80990,
                    74900,
                    58990,
                    57990,
                    56990,
                    53990,
                    52990,
                    52990,
                    51900,
                    48990,
                    47990,
                    47990,
                    42990,
                    87900,
                    146990,
                    113990,
                    112990,
                    103990,
                    89990,
                    86990,
                    79990,
                    75990,
                    63990,
                    59990,
                    48990,
                    42990,
                    136990,
                    78990,
                    76990,
                    68990,
                    67990,
                    57990,
                    56990,
                    47990,
                    112990,
                    90990,
                    89990,
                    74990,
                    59990,
                    37990,
                    129990,
                    89990,
                    75990,
                    70990,
                    47990,
                    235990,
                    76990,
                    74990,
                    71990,
                    70990,
                    98990,
                    95990,
                    40990,
                    73990,
                    79990,
                    76990,
                    44990,
                    46990
                  ],
                  "xaxis": "x",
                  "yaxis": "y"
                },
                {
                  "name": "Mileage",
                  "type": "histogram",
                  "x": [
                    7521,
                    40000,
                    40686,
                    57643,
                    29000,
                    63379,
                    32000,
                    40848,
                    77054,
                    19253,
                    49673,
                    24359,
                    12451,
                    7943,
                    61149,
                    20051,
                    73729,
                    55147,
                    69806,
                    58513,
                    3535,
                    5077,
                    27194,
                    48216,
                    68698,
                    48758,
                    44138,
                    80905,
                    40155,
                    44990,
                    26970,
                    101856,
                    28315,
                    37613,
                    20994,
                    68000,
                    55499,
                    53123,
                    10950,
                    84202,
                    38335,
                    23164,
                    45221,
                    30652,
                    46617,
                    62167,
                    62774,
                    49355,
                    8048,
                    41501,
                    49091,
                    51243,
                    38556,
                    53537,
                    6890,
                    14503,
                    1554,
                    35468,
                    45428,
                    24711,
                    49348,
                    44667,
                    34478,
                    30386,
                    49424,
                    41079,
                    25396,
                    34879,
                    55223,
                    39062,
                    62425,
                    26792,
                    36703,
                    46972,
                    50936,
                    68697,
                    60355,
                    58076,
                    76848,
                    34955,
                    22450,
                    49723,
                    45669,
                    65311,
                    19826,
                    51592,
                    58293,
                    25153,
                    21684,
                    49000,
                    41926,
                    24411,
                    47334,
                    40236,
                    68633,
                    35970,
                    41904,
                    15603,
                    47513,
                    21209,
                    26666,
                    947,
                    39515,
                    61506,
                    31102,
                    38900,
                    13319,
                    25077,
                    66600,
                    32217,
                    58892,
                    31112,
                    29022,
                    83457,
                    29937,
                    30815,
                    48047,
                    124000,
                    53070,
                    40185,
                    44561,
                    59615,
                    49981,
                    26738,
                    45476,
                    31423,
                    43098,
                    27021,
                    35435,
                    58669,
                    58114,
                    63524,
                    45229,
                    47400,
                    25150,
                    77514,
                    43339,
                    69505,
                    97696,
                    60161,
                    21859,
                    13649,
                    51414,
                    101618,
                    48959,
                    91539,
                    85413,
                    47216,
                    34756,
                    46700,
                    43356,
                    37574,
                    82400,
                    26893,
                    9389,
                    51283,
                    50000,
                    24167,
                    31287,
                    47284,
                    29448,
                    43926,
                    40205,
                    18459,
                    49984,
                    56127,
                    52893,
                    66566,
                    63720,
                    43165,
                    26210,
                    28794,
                    60084,
                    66266,
                    34270,
                    17984,
                    21183,
                    10623,
                    9640,
                    25708,
                    46982,
                    12148,
                    7760,
                    53926,
                    19510,
                    53689,
                    46136,
                    6511,
                    16324,
                    36023,
                    35798,
                    66463,
                    54965,
                    35898,
                    14977,
                    24776,
                    13847,
                    75616,
                    47491,
                    61344,
                    105571,
                    39688,
                    4291,
                    37915,
                    18505,
                    15811,
                    77106,
                    61382,
                    59802,
                    34541,
                    43386,
                    7833,
                    47946,
                    40079,
                    52745,
                    62853,
                    67629,
                    16553,
                    66044,
                    55020,
                    66934,
                    24153,
                    21039,
                    55582,
                    34000,
                    58738,
                    30995,
                    16793,
                    6751,
                    68669,
                    16004,
                    75149,
                    10175,
                    13175,
                    716,
                    111,
                    7818,
                    80044,
                    59563,
                    68739,
                    14659,
                    63269,
                    13222,
                    28584,
                    33903,
                    24027,
                    62501,
                    41510,
                    63920,
                    36153,
                    54008,
                    59929,
                    35138,
                    54313,
                    27644,
                    11221,
                    57240,
                    53292,
                    44760,
                    66443,
                    2844,
                    46345,
                    67787,
                    39541,
                    32553,
                    23711,
                    43887,
                    53178,
                    75239,
                    54472,
                    63160,
                    42317,
                    48200,
                    1000,
                    111,
                    20215,
                    19865,
                    104671,
                    267,
                    43200,
                    33543,
                    24019,
                    61176,
                    44600,
                    23296,
                    41621,
                    57501,
                    57822,
                    55543,
                    37101,
                    37091,
                    28381,
                    39511,
                    50431,
                    61523,
                    53011,
                    32581,
                    46971,
                    75263,
                    2931,
                    9336,
                    45283,
                    61462,
                    51472,
                    45691,
                    27701,
                    15941,
                    42061,
                    19861,
                    38571,
                    33692,
                    39361,
                    49311,
                    41871,
                    36411,
                    47531,
                    46901,
                    33411,
                    47581,
                    60243,
                    50831,
                    25631,
                    52577,
                    37321,
                    37821,
                    49342,
                    47031,
                    52002,
                    21991,
                    42891,
                    39351,
                    46183,
                    33522,
                    3902,
                    3530,
                    1491,
                    7738,
                    2312,
                    3902,
                    16902,
                    12902,
                    64553,
                    44357,
                    13183,
                    32319,
                    43712,
                    75354,
                    45200,
                    41254,
                    57070,
                    75,
                    61326,
                    74441,
                    71040,
                    35489,
                    41000,
                    15044,
                    68965,
                    41201,
                    43784,
                    51000,
                    47451,
                    63000,
                    57714,
                    54169,
                    72482,
                    52000,
                    37000,
                    50000,
                    64000,
                    45000,
                    60000,
                    36396,
                    127000,
                    91000,
                    94000,
                    88000,
                    92000,
                    41868,
                    75000,
                    47800,
                    89141,
                    53000,
                    74651,
                    21000,
                    45175,
                    131000,
                    70000,
                    0,
                    42596,
                    63000,
                    100879,
                    69721,
                    106036,
                    32000,
                    78452,
                    58465,
                    51596,
                    1,
                    85189,
                    67000,
                    20140,
                    54260,
                    22000,
                    47842,
                    35000,
                    32000,
                    64000,
                    11000,
                    59000,
                    38000,
                    113000,
                    46047,
                    35054,
                    69067,
                    109160,
                    60436,
                    38438,
                    101000,
                    55000,
                    88894,
                    65905,
                    59704,
                    14200,
                    49120,
                    59300,
                    56900,
                    82972,
                    104000,
                    48032,
                    34060,
                    36500,
                    65000,
                    92000,
                    55000,
                    138456,
                    34000,
                    38000,
                    43000,
                    22253,
                    25000,
                    42000,
                    14191,
                    46944,
                    16609,
                    38954,
                    40000,
                    38371,
                    31000,
                    44469,
                    11000,
                    54000,
                    61934,
                    37000,
                    88000,
                    80000,
                    0,
                    37000,
                    38000,
                    100000,
                    41000,
                    67000,
                    77000,
                    35000,
                    72113,
                    31836,
                    96977,
                    60531,
                    4990,
                    15511,
                    7911,
                    46272,
                    42522,
                    1941,
                    28500,
                    37212,
                    18900,
                    19346,
                    3000,
                    84109,
                    55099,
                    2611,
                    1500,
                    1433,
                    8250,
                    40599,
                    22411,
                    9340,
                    100,
                    147658,
                    116644,
                    15111,
                    55000,
                    6827,
                    70175,
                    40410,
                    52930,
                    60298,
                    43710,
                    78000,
                    104120,
                    64000,
                    88000,
                    76059,
                    85583,
                    115000,
                    35000,
                    36313,
                    79698,
                    97000,
                    84791,
                    57261,
                    45000,
                    26521,
                    80055,
                    50044,
                    69279,
                    92399,
                    39183,
                    88000,
                    11500,
                    37256,
                    88346,
                    51513,
                    281,
                    1000,
                    3651,
                    59000,
                    7390,
                    43708,
                    29260,
                    23825,
                    21522,
                    27522,
                    34476,
                    100,
                    58000,
                    22000,
                    100,
                    40450,
                    40000,
                    69086,
                    6425,
                    11221,
                    30828,
                    35000,
                    154074,
                    36923,
                    40780,
                    56622,
                    30525,
                    66088,
                    37636,
                    78430,
                    43261,
                    41254,
                    19127,
                    90189,
                    32000,
                    148223,
                    38100,
                    3000,
                    40600,
                    13369,
                    14000,
                    16737,
                    12774,
                    7540,
                    10800,
                    6539,
                    32000,
                    26671,
                    50000,
                    3300,
                    27497,
                    41258,
                    29673,
                    19536,
                    6605,
                    45962,
                    100,
                    750,
                    100,
                    14777,
                    28179,
                    20911,
                    3900,
                    9011,
                    8235,
                    9465,
                    9511,
                    22380,
                    20511,
                    21400,
                    70000,
                    53200,
                    17600,
                    40000,
                    69000,
                    75000,
                    48000,
                    47000,
                    33000,
                    29000,
                    64000,
                    14892,
                    39949,
                    94663,
                    52000,
                    26500,
                    78000,
                    38000,
                    50000,
                    55000,
                    67000,
                    82000,
                    68000,
                    78000,
                    61671,
                    14800,
                    42274,
                    67234,
                    34335,
                    8660,
                    11011,
                    24000,
                    24046,
                    31511,
                    7597,
                    36000,
                    108252,
                    37143,
                    54693,
                    98374,
                    79333,
                    29216,
                    44586,
                    58000,
                    88000,
                    0,
                    90000,
                    72000,
                    49659,
                    0,
                    41583,
                    59000,
                    52476,
                    55,
                    25000,
                    114523,
                    188000,
                    47762,
                    55225,
                    39800,
                    47000,
                    50000,
                    56900,
                    60000,
                    72000,
                    113000,
                    68990,
                    92000,
                    122000,
                    90000,
                    76000,
                    0,
                    90000,
                    89000,
                    70000,
                    122000,
                    95000,
                    108000,
                    45000,
                    90000,
                    68000,
                    36000,
                    93000,
                    31000,
                    81000,
                    133000,
                    33000,
                    76000,
                    100000,
                    50000,
                    71000,
                    81000,
                    36000,
                    0,
                    84000,
                    73000,
                    52000,
                    63000,
                    66000,
                    89000,
                    60000,
                    87000,
                    60000,
                    79000,
                    50000,
                    50000,
                    51000,
                    50000,
                    9084,
                    50000,
                    30000,
                    59000,
                    30000,
                    80000,
                    70000,
                    40000,
                    58373,
                    0,
                    0,
                    88000,
                    0,
                    60000,
                    70000,
                    0,
                    0,
                    83458,
                    60000,
                    82000,
                    50000,
                    77000,
                    75000,
                    76000,
                    87000,
                    0,
                    66000,
                    40000,
                    72000,
                    35489,
                    36000,
                    47865,
                    78000,
                    64400,
                    43745,
                    120000,
                    87000,
                    61000,
                    0,
                    40000,
                    0,
                    78591,
                    0,
                    60000,
                    1,
                    59270,
                    38000,
                    44359,
                    37000,
                    52000,
                    38145,
                    80000,
                    56112,
                    42000,
                    82300,
                    25302,
                    74742,
                    27125,
                    46248,
                    51027,
                    60931,
                    6230,
                    67823,
                    18920,
                    59452,
                    22000,
                    0,
                    18000,
                    37213,
                    37352,
                    97462,
                    65512,
                    53000,
                    24125,
                    53268,
                    46293,
                    54800,
                    79220,
                    74277,
                    11611,
                    22511,
                    36900,
                    32821,
                    24219,
                    17250,
                    59000,
                    64089,
                    56788,
                    0,
                    60298,
                    73668,
                    49613,
                    30377,
                    0,
                    70594,
                    38877,
                    16670,
                    46430,
                    35000,
                    100146,
                    67000,
                    0,
                    54343,
                    66650,
                    81171,
                    75162,
                    103153,
                    142258,
                    72000,
                    49118,
                    0,
                    16000,
                    42000,
                    82429,
                    52000,
                    75000,
                    80000,
                    81000,
                    89000,
                    10000,
                    41800,
                    52000,
                    60000,
                    0,
                    57000,
                    68830,
                    29297,
                    50000,
                    44000,
                    300,
                    26300,
                    654000,
                    0,
                    30000,
                    50000,
                    0,
                    60000,
                    300,
                    33000,
                    27000,
                    71000,
                    74000,
                    78000,
                    0,
                    0,
                    0,
                    8361,
                    3000,
                    18522,
                    870,
                    23599,
                    14111,
                    10211,
                    22511,
                    33280,
                    3550,
                    9000,
                    38600,
                    29511,
                    2221,
                    9920,
                    67000,
                    70000,
                    82000,
                    51000,
                    23317,
                    101,
                    101,
                    117000,
                    68001,
                    26674,
                    41677,
                    96000,
                    71419,
                    86505,
                    34217,
                    21011,
                    72467,
                    140000,
                    57400,
                    17999,
                    21301,
                    31370,
                    55000,
                    62000,
                    31406,
                    0,
                    32000,
                    48000,
                    40682,
                    22000,
                    42000,
                    39000,
                    49000,
                    71000,
                    50000,
                    35000,
                    37000,
                    59000,
                    32000,
                    45000,
                    57000,
                    29000,
                    64000,
                    63000,
                    11000,
                    32788,
                    46000,
                    55537,
                    19207,
                    101,
                    40840,
                    101,
                    9700,
                    101,
                    45400,
                    101,
                    32129,
                    27383,
                    101,
                    101,
                    101,
                    101,
                    101,
                    101,
                    101,
                    0,
                    84000,
                    54000,
                    13688,
                    38944,
                    81349,
                    48083,
                    60000,
                    60000,
                    45000,
                    87000,
                    0,
                    69000,
                    0,
                    0,
                    98000,
                    37000,
                    50000,
                    93000,
                    89000,
                    0,
                    127,
                    58000,
                    90000,
                    84000,
                    61504,
                    0,
                    85010,
                    6500,
                    20000,
                    28000,
                    66000,
                    0,
                    50225,
                    35000,
                    0,
                    94000,
                    40000,
                    42,
                    93000,
                    97000,
                    85000,
                    3816,
                    70000,
                    11000,
                    65000,
                    101,
                    66000,
                    0,
                    103865,
                    51000,
                    2927,
                    22213,
                    43008,
                    4030,
                    15500,
                    38572,
                    26620,
                    31684,
                    21100,
                    21362,
                    0,
                    0,
                    45373,
                    21709,
                    28099,
                    67471,
                    60002,
                    43004,
                    0,
                    50000,
                    49706,
                    58000,
                    43619,
                    25000,
                    65000,
                    4026,
                    12072,
                    45882,
                    51000,
                    61000,
                    50000,
                    85421,
                    94900,
                    31000,
                    40000,
                    40977,
                    34447,
                    22000,
                    35522,
                    48322,
                    30542,
                    38699,
                    41138,
                    0,
                    50000,
                    49005,
                    12125,
                    37959,
                    23000,
                    3817,
                    27000,
                    42000,
                    30000,
                    25339,
                    42000,
                    37000,
                    85029,
                    27000,
                    58000,
                    37000,
                    34000,
                    75000,
                    61000,
                    66287,
                    62000,
                    6000,
                    40402,
                    63404,
                    38000,
                    35000,
                    71000,
                    48000,
                    44000,
                    42387,
                    38347,
                    32753,
                    31000,
                    50000,
                    59304,
                    43473,
                    30151,
                    39481,
                    32963,
                    27815,
                    46094,
                    48356,
                    64236,
                    58849,
                    63217,
                    67143,
                    102000,
                    54900,
                    34166,
                    54100,
                    31200,
                    91139,
                    49359,
                    52554,
                    64564,
                    55856,
                    23022,
                    37904,
                    72763,
                    68868,
                    32603,
                    67990,
                    84874,
                    39279,
                    22128,
                    26869,
                    36148,
                    32205,
                    50982,
                    70881,
                    16071,
                    12908,
                    82216,
                    39648,
                    67504,
                    35179,
                    26921,
                    76283,
                    77279,
                    49000
                  ],
                  "xaxis": "x2",
                  "yaxis": "y2"
                },
                {
                  "name": "Release Year",
                  "type": "histogram",
                  "x": [
                    2022,
                    2018,
                    2023,
                    2022,
                    2023,
                    2022,
                    2021,
                    2021,
                    2022,
                    2023,
                    2023,
                    2022,
                    2022,
                    2023,
                    2023,
                    2022,
                    2020,
                    2023,
                    2019,
                    2022,
                    2023,
                    2023,
                    2021,
                    2022,
                    2020,
                    2021,
                    2019,
                    2020,
                    2023,
                    2022,
                    2022,
                    2020,
                    2022,
                    2022,
                    2022,
                    2020,
                    2022,
                    2023,
                    2023,
                    2022,
                    2020,
                    2023,
                    2022,
                    2022,
                    2022,
                    2021,
                    2021,
                    2022,
                    2024,
                    2022,
                    2022,
                    2022,
                    2023,
                    2023,
                    2023,
                    2022,
                    2024,
                    2023,
                    2020,
                    2021,
                    2022,
                    2023,
                    2023,
                    2023,
                    2023,
                    2021,
                    2023,
                    2023,
                    2022,
                    2022,
                    2022,
                    2023,
                    2021,
                    2022,
                    2021,
                    2021,
                    2022,
                    2020,
                    2019,
                    2023,
                    2021,
                    2018,
                    2023,
                    2021,
                    2023,
                    2023,
                    2022,
                    2022,
                    2022,
                    2021,
                    2019,
                    2021,
                    2019,
                    2019,
                    2020,
                    2022,
                    2023,
                    2022,
                    2017,
                    2023,
                    2021,
                    2024,
                    2022,
                    2022,
                    2022,
                    2020,
                    2020,
                    2021,
                    2021,
                    2021,
                    2022,
                    2023,
                    2023,
                    2017,
                    2020,
                    2023,
                    2023,
                    2019,
                    2023,
                    2023,
                    2022,
                    2023,
                    2019,
                    2022,
                    2021,
                    2023,
                    2022,
                    2022,
                    2022,
                    2021,
                    2023,
                    2023,
                    2022,
                    2022,
                    2022,
                    2016,
                    2021,
                    2021,
                    2021,
                    2020,
                    2022,
                    2020,
                    2018,
                    2020,
                    2022,
                    2020,
                    2019,
                    2020,
                    2022,
                    2018,
                    2021,
                    2021,
                    2015,
                    2021,
                    2023,
                    2019,
                    2018,
                    2023,
                    2023,
                    2021,
                    2023,
                    2017,
                    2022,
                    2023,
                    2021,
                    2019,
                    2019,
                    2019,
                    2021,
                    2020,
                    2021,
                    2022,
                    2022,
                    2022,
                    2022,
                    2023,
                    2022,
                    2024,
                    2022,
                    2018,
                    2016,
                    2023,
                    2018,
                    2020,
                    2021,
                    2022,
                    2022,
                    2024,
                    2022,
                    2022,
                    2021,
                    2021,
                    2022,
                    2016,
                    2023,
                    2022,
                    2023,
                    2013,
                    2020,
                    2016,
                    2020,
                    2021,
                    2024,
                    2019,
                    2021,
                    2023,
                    2017,
                    2021,
                    2015,
                    2018,
                    2018,
                    2023,
                    2020,
                    2022,
                    2019,
                    2020,
                    2018,
                    2022,
                    2019,
                    2022,
                    2021,
                    2021,
                    2023,
                    2020,
                    2018,
                    2019,
                    2021,
                    2022,
                    2024,
                    2022,
                    2021,
                    2020,
                    2023,
                    2022,
                    2023,
                    2024,
                    2024,
                    2020,
                    2018,
                    2021,
                    2023,
                    2015,
                    2024,
                    2023,
                    2021,
                    2023,
                    2020,
                    2022,
                    2021,
                    2023,
                    2022,
                    2018,
                    2021,
                    2018,
                    2023,
                    2023,
                    2020,
                    2021,
                    2020,
                    2022,
                    2020,
                    2021,
                    2020,
                    2023,
                    2022,
                    2021,
                    2021,
                    2020,
                    2020,
                    2021,
                    2020,
                    2023,
                    2019,
                    2023,
                    2013,
                    2023,
                    2024,
                    2017,
                    2024,
                    2020,
                    2021,
                    2023,
                    2021,
                    2022,
                    2022,
                    2022,
                    2022,
                    2018,
                    2023,
                    2022,
                    2023,
                    2023,
                    2020,
                    2023,
                    2019,
                    2022,
                    2019,
                    2022,
                    2021,
                    2024,
                    2024,
                    2023,
                    2018,
                    2021,
                    2023,
                    2021,
                    2023,
                    2021,
                    2023,
                    2023,
                    2022,
                    2023,
                    2021,
                    2022,
                    2021,
                    2023,
                    2016,
                    2020,
                    2021,
                    2022,
                    2023,
                    2022,
                    2021,
                    2021,
                    2023,
                    2023,
                    2021,
                    2023,
                    2023,
                    2022,
                    2023,
                    2022,
                    2021,
                    2024,
                    2024,
                    2024,
                    2024,
                    2024,
                    2024,
                    2024,
                    2024,
                    2019,
                    2022,
                    2018,
                    2022,
                    2022,
                    2020,
                    2020,
                    2022,
                    2017,
                    2024,
                    2021,
                    2016,
                    2018,
                    2022,
                    2022,
                    2023,
                    2019,
                    2022,
                    2022,
                    2021,
                    2021,
                    2017,
                    2022,
                    2021,
                    2017,
                    2021,
                    2022,
                    2021,
                    2012,
                    2022,
                    2019,
                    2021,
                    2014,
                    2014,
                    2011,
                    2019,
                    2015,
                    2019,
                    2012,
                    2020,
                    2019,
                    2020,
                    2019,
                    2021,
                    2021,
                    2016,
                    2019,
                    2019,
                    2018,
                    2015,
                    2013,
                    2020,
                    2014,
                    2022,
                    2013,
                    2022,
                    2020,
                    2018,
                    2018,
                    2022,
                    2022,
                    2016,
                    2019,
                    2021,
                    2022,
                    2021,
                    2021,
                    2023,
                    2021,
                    2022,
                    2000,
                    2023,
                    2022,
                    2018,
                    2014,
                    2022,
                    2022,
                    2011,
                    2020,
                    2020,
                    2019,
                    2019,
                    2023,
                    2023,
                    2021,
                    2018,
                    2018,
                    2013,
                    2020,
                    2017,
                    2020,
                    2012,
                    2018,
                    2022,
                    2005,
                    2021,
                    2019,
                    2020,
                    2023,
                    2023,
                    2019,
                    2023,
                    2018,
                    2023,
                    2019,
                    2022,
                    2021,
                    2020,
                    2021,
                    2024,
                    2022,
                    2019,
                    2020,
                    2020,
                    2020,
                    2023,
                    2019,
                    2022,
                    2014,
                    2020,
                    2016,
                    2013,
                    2022,
                    2016,
                    2021,
                    2019,
                    2018,
                    2023,
                    2021,
                    2021,
                    2021,
                    2019,
                    2024,
                    2022,
                    2022,
                    2020,
                    2022,
                    2024,
                    2016,
                    2022,
                    2023,
                    2023,
                    2024,
                    2023,
                    2020,
                    2020,
                    2022,
                    2025,
                    2013,
                    2013,
                    2023,
                    2021,
                    2023,
                    2019,
                    2023,
                    2023,
                    2021,
                    2021,
                    2018,
                    2016,
                    2018,
                    2014,
                    2019,
                    2012,
                    2009,
                    2021,
                    2021,
                    2021,
                    2019,
                    2018,
                    2018,
                    2022,
                    2022,
                    2017,
                    2014,
                    2015,
                    2011,
                    2022,
                    2015,
                    2023,
                    2022,
                    2017,
                    2018,
                    2024,
                    2024,
                    2021,
                    2020,
                    2021,
                    2022,
                    2020,
                    2023,
                    2021,
                    2020,
                    2019,
                    2024,
                    2021,
                    2023,
                    2025,
                    2020,
                    2022,
                    2021,
                    2024,
                    2023,
                    2020,
                    2022,
                    2013,
                    2017,
                    2023,
                    2017,
                    2023,
                    2022,
                    2020,
                    2018,
                    2021,
                    2022,
                    2023,
                    2017,
                    2022,
                    2012,
                    2020,
                    2023,
                    2020,
                    2023,
                    2023,
                    2023,
                    2023,
                    2023,
                    2023,
                    2024,
                    2022,
                    2023,
                    2022,
                    2024,
                    2022,
                    2021,
                    2022,
                    2023,
                    2024,
                    2019,
                    2024,
                    2024,
                    2024,
                    2022,
                    2022,
                    2021,
                    2024,
                    2021,
                    2022,
                    2023,
                    2022,
                    2023,
                    2022,
                    2021,
                    2019,
                    2020,
                    2022,
                    2020,
                    2019,
                    2017,
                    2020,
                    2021,
                    2021,
                    2023,
                    2019,
                    2022,
                    2022,
                    2020,
                    2020,
                    2022,
                    2018,
                    2022,
                    2021,
                    2019,
                    2018,
                    2014,
                    2018,
                    2018,
                    2020,
                    2021,
                    2020,
                    2017,
                    2019,
                    2023,
                    2023,
                    2020,
                    2023,
                    2022,
                    2023,
                    2022,
                    2016,
                    2023,
                    2023,
                    2020,
                    2017,
                    2022,
                    2021,
                    2020,
                    2017,
                    2012,
                    2018,
                    2018,
                    2021,
                    2017,
                    2022,
                    2019,
                    2022,
                    2024,
                    2024,
                    2014,
                    2016,
                    2022,
                    2021,
                    2022,
                    2017,
                    2019,
                    2017,
                    2016,
                    2020,
                    2011,
                    2020,
                    2018,
                    2014,
                    2015,
                    2017,
                    2020,
                    2015,
                    2014,
                    2014,
                    2014,
                    2018,
                    2017,
                    2022,
                    2018,
                    2019,
                    2021,
                    2015,
                    2021,
                    2018,
                    2014,
                    2021,
                    2017,
                    2012,
                    2020,
                    2018,
                    2017,
                    2023,
                    2017,
                    2013,
                    2024,
                    2024,
                    2019,
                    2019,
                    2015,
                    2018,
                    2014,
                    2016,
                    2018,
                    2018,
                    2019,
                    2018,
                    2020,
                    2023,
                    2020,
                    2021,
                    2021,
                    2020,
                    2015,
                    2015,
                    2021,
                    2019,
                    2015,
                    2020,
                    2016,
                    2014,
                    2013,
                    2015,
                    2010,
                    2021,
                    2016,
                    2017,
                    2018,
                    2018,
                    2017,
                    2020,
                    2020,
                    2014,
                    2010,
                    2019,
                    2023,
                    2020,
                    2022,
                    2017,
                    2017,
                    2017,
                    2020,
                    2012,
                    2019,
                    2017,
                    2020,
                    2024,
                    2023,
                    2016,
                    2022,
                    2021,
                    2019,
                    2020,
                    2020,
                    2023,
                    2021,
                    2022,
                    2022,
                    2020,
                    2019,
                    2021,
                    2020,
                    2020,
                    2023,
                    2017,
                    2023,
                    2021,
                    2020,
                    2022,
                    2023,
                    2018,
                    2021,
                    2021,
                    2023,
                    2024,
                    2018,
                    2018,
                    2023,
                    2016,
                    2021,
                    2018,
                    2023,
                    2019,
                    2022,
                    2019,
                    2019,
                    2014,
                    2022,
                    2021,
                    2020,
                    2019,
                    2023,
                    2022,
                    2021,
                    2023,
                    2020,
                    2021,
                    2021,
                    2022,
                    2021,
                    2021,
                    2015,
                    2012,
                    2023,
                    2022,
                    2021,
                    2022,
                    2017,
                    2017,
                    2017,
                    2023,
                    2020,
                    2015,
                    2020,
                    2014,
                    2014,
                    2020,
                    2020,
                    2022,
                    2021,
                    2013,
                    2017,
                    2018,
                    2014,
                    2015,
                    2014,
                    2014,
                    2008,
                    2022,
                    2018,
                    2017,
                    2020,
                    2020,
                    2015,
                    2022,
                    2017,
                    2022,
                    2017,
                    2023,
                    2019,
                    2018,
                    2019,
                    2019,
                    2010,
                    2018,
                    2022,
                    2022,
                    2023,
                    2020,
                    2018,
                    2016,
                    2021,
                    2022,
                    2015,
                    2023,
                    2023,
                    2022,
                    2023,
                    2019,
                    2022,
                    2022,
                    2022,
                    2023,
                    2024,
                    2024,
                    2022,
                    2022,
                    2024,
                    2022,
                    2018,
                    2016,
                    2015,
                    2016,
                    2023,
                    2022,
                    2011,
                    2015,
                    2021,
                    2022,
                    2020,
                    2014,
                    2022,
                    2020,
                    2023,
                    2024,
                    2020,
                    2009,
                    2019,
                    2023,
                    2022,
                    2022,
                    2022,
                    2021,
                    2022,
                    2018,
                    2022,
                    2023,
                    2016,
                    2023,
                    2022,
                    2022,
                    2023,
                    2020,
                    2020,
                    2021,
                    2020,
                    2021,
                    2021,
                    2018,
                    2021,
                    2022,
                    2020,
                    2018,
                    2021,
                    2021,
                    2021,
                    2018,
                    2023,
                    2022,
                    2021,
                    2017,
                    2024,
                    2022,
                    2021,
                    2023,
                    2022,
                    2021,
                    2021,
                    2015,
                    2016,
                    2016,
                    2011,
                    2012,
                    2013,
                    2021,
                    2015,
                    2016,
                    2021,
                    2023,
                    2021,
                    2022,
                    2018,
                    2014,
                    2022,
                    2018,
                    2018,
                    2018,
                    2019,
                    2021,
                    2010,
                    2022,
                    2021,
                    2013,
                    2012,
                    2012,
                    2024,
                    2018,
                    2018,
                    2017,
                    2020,
                    2017,
                    2017,
                    2024,
                    2022,
                    2019,
                    2015,
                    2010,
                    2013,
                    2018,
                    2024,
                    2019,
                    2021,
                    2022,
                    2020,
                    2014,
                    2013,
                    2024,
                    2014,
                    2023,
                    2022,
                    2022,
                    2018,
                    2019,
                    2014,
                    2019,
                    2022,
                    2016,
                    2021,
                    2018,
                    2021,
                    2017,
                    2021,
                    2021,
                    2022,
                    2016,
                    2022,
                    2022,
                    2020,
                    2022,
                    2020,
                    2018,
                    2018,
                    2021,
                    2022,
                    2018,
                    2019,
                    2022,
                    2019,
                    2021,
                    2020,
                    2017,
                    2024,
                    2018,
                    2020,
                    2020,
                    2022,
                    2020,
                    2019,
                    2022,
                    2022,
                    2020,
                    2018,
                    2023,
                    2020,
                    2018,
                    2019,
                    2019,
                    2021,
                    2022,
                    2019,
                    2018,
                    2023,
                    2020,
                    2023,
                    2022,
                    2021,
                    2023,
                    2023,
                    2022,
                    2023,
                    2021,
                    2016,
                    2022,
                    2021,
                    2020,
                    2020,
                    2016,
                    2023,
                    2019,
                    2019,
                    2022,
                    2022,
                    2016,
                    2020,
                    2020,
                    2021,
                    2019,
                    2019,
                    2020,
                    2020,
                    2020,
                    2018,
                    2018,
                    2016,
                    2017,
                    2023,
                    2020,
                    2023,
                    2023,
                    2022,
                    2018,
                    2020,
                    2019,
                    2019,
                    2018,
                    2020,
                    2020,
                    2021,
                    2020,
                    2021,
                    2021,
                    2020,
                    2021,
                    2017,
                    2019,
                    2023,
                    2021,
                    2018,
                    2022,
                    2023,
                    2015,
                    2021,
                    2022,
                    2023,
                    2022,
                    2023,
                    2022,
                    2022,
                    2020,
                    2023,
                    2022,
                    2021,
                    2023,
                    2016,
                    2022,
                    2020,
                    2021,
                    2021,
                    2014
                  ],
                  "xaxis": "x3",
                  "yaxis": "y3"
                }
              ],
              "layout": {
                "height": 900,
                "template": {
                  "data": {
                    "bar": [
                      {
                        "error_x": {
                          "color": "#2a3f5f"
                        },
                        "error_y": {
                          "color": "#2a3f5f"
                        },
                        "marker": {
                          "line": {
                            "color": "#E5ECF6",
                            "width": 0.5
                          },
                          "pattern": {
                            "fillmode": "overlay",
                            "size": 10,
                            "solidity": 0.2
                          }
                        },
                        "type": "bar"
                      }
                    ],
                    "barpolar": [
                      {
                        "marker": {
                          "line": {
                            "color": "#E5ECF6",
                            "width": 0.5
                          },
                          "pattern": {
                            "fillmode": "overlay",
                            "size": 10,
                            "solidity": 0.2
                          }
                        },
                        "type": "barpolar"
                      }
                    ],
                    "carpet": [
                      {
                        "aaxis": {
                          "endlinecolor": "#2a3f5f",
                          "gridcolor": "white",
                          "linecolor": "white",
                          "minorgridcolor": "white",
                          "startlinecolor": "#2a3f5f"
                        },
                        "baxis": {
                          "endlinecolor": "#2a3f5f",
                          "gridcolor": "white",
                          "linecolor": "white",
                          "minorgridcolor": "white",
                          "startlinecolor": "#2a3f5f"
                        },
                        "type": "carpet"
                      }
                    ],
                    "choropleth": [
                      {
                        "colorbar": {
                          "outlinewidth": 0,
                          "ticks": ""
                        },
                        "type": "choropleth"
                      }
                    ],
                    "contour": [
                      {
                        "colorbar": {
                          "outlinewidth": 0,
                          "ticks": ""
                        },
                        "colorscale": [
                          [
                            0,
                            "#0d0887"
                          ],
                          [
                            0.1111111111111111,
                            "#46039f"
                          ],
                          [
                            0.2222222222222222,
                            "#7201a8"
                          ],
                          [
                            0.3333333333333333,
                            "#9c179e"
                          ],
                          [
                            0.4444444444444444,
                            "#bd3786"
                          ],
                          [
                            0.5555555555555556,
                            "#d8576b"
                          ],
                          [
                            0.6666666666666666,
                            "#ed7953"
                          ],
                          [
                            0.7777777777777778,
                            "#fb9f3a"
                          ],
                          [
                            0.8888888888888888,
                            "#fdca26"
                          ],
                          [
                            1,
                            "#f0f921"
                          ]
                        ],
                        "type": "contour"
                      }
                    ],
                    "contourcarpet": [
                      {
                        "colorbar": {
                          "outlinewidth": 0,
                          "ticks": ""
                        },
                        "type": "contourcarpet"
                      }
                    ],
                    "heatmap": [
                      {
                        "colorbar": {
                          "outlinewidth": 0,
                          "ticks": ""
                        },
                        "colorscale": [
                          [
                            0,
                            "#0d0887"
                          ],
                          [
                            0.1111111111111111,
                            "#46039f"
                          ],
                          [
                            0.2222222222222222,
                            "#7201a8"
                          ],
                          [
                            0.3333333333333333,
                            "#9c179e"
                          ],
                          [
                            0.4444444444444444,
                            "#bd3786"
                          ],
                          [
                            0.5555555555555556,
                            "#d8576b"
                          ],
                          [
                            0.6666666666666666,
                            "#ed7953"
                          ],
                          [
                            0.7777777777777778,
                            "#fb9f3a"
                          ],
                          [
                            0.8888888888888888,
                            "#fdca26"
                          ],
                          [
                            1,
                            "#f0f921"
                          ]
                        ],
                        "type": "heatmap"
                      }
                    ],
                    "heatmapgl": [
                      {
                        "colorbar": {
                          "outlinewidth": 0,
                          "ticks": ""
                        },
                        "colorscale": [
                          [
                            0,
                            "#0d0887"
                          ],
                          [
                            0.1111111111111111,
                            "#46039f"
                          ],
                          [
                            0.2222222222222222,
                            "#7201a8"
                          ],
                          [
                            0.3333333333333333,
                            "#9c179e"
                          ],
                          [
                            0.4444444444444444,
                            "#bd3786"
                          ],
                          [
                            0.5555555555555556,
                            "#d8576b"
                          ],
                          [
                            0.6666666666666666,
                            "#ed7953"
                          ],
                          [
                            0.7777777777777778,
                            "#fb9f3a"
                          ],
                          [
                            0.8888888888888888,
                            "#fdca26"
                          ],
                          [
                            1,
                            "#f0f921"
                          ]
                        ],
                        "type": "heatmapgl"
                      }
                    ],
                    "histogram": [
                      {
                        "marker": {
                          "pattern": {
                            "fillmode": "overlay",
                            "size": 10,
                            "solidity": 0.2
                          }
                        },
                        "type": "histogram"
                      }
                    ],
                    "histogram2d": [
                      {
                        "colorbar": {
                          "outlinewidth": 0,
                          "ticks": ""
                        },
                        "colorscale": [
                          [
                            0,
                            "#0d0887"
                          ],
                          [
                            0.1111111111111111,
                            "#46039f"
                          ],
                          [
                            0.2222222222222222,
                            "#7201a8"
                          ],
                          [
                            0.3333333333333333,
                            "#9c179e"
                          ],
                          [
                            0.4444444444444444,
                            "#bd3786"
                          ],
                          [
                            0.5555555555555556,
                            "#d8576b"
                          ],
                          [
                            0.6666666666666666,
                            "#ed7953"
                          ],
                          [
                            0.7777777777777778,
                            "#fb9f3a"
                          ],
                          [
                            0.8888888888888888,
                            "#fdca26"
                          ],
                          [
                            1,
                            "#f0f921"
                          ]
                        ],
                        "type": "histogram2d"
                      }
                    ],
                    "histogram2dcontour": [
                      {
                        "colorbar": {
                          "outlinewidth": 0,
                          "ticks": ""
                        },
                        "colorscale": [
                          [
                            0,
                            "#0d0887"
                          ],
                          [
                            0.1111111111111111,
                            "#46039f"
                          ],
                          [
                            0.2222222222222222,
                            "#7201a8"
                          ],
                          [
                            0.3333333333333333,
                            "#9c179e"
                          ],
                          [
                            0.4444444444444444,
                            "#bd3786"
                          ],
                          [
                            0.5555555555555556,
                            "#d8576b"
                          ],
                          [
                            0.6666666666666666,
                            "#ed7953"
                          ],
                          [
                            0.7777777777777778,
                            "#fb9f3a"
                          ],
                          [
                            0.8888888888888888,
                            "#fdca26"
                          ],
                          [
                            1,
                            "#f0f921"
                          ]
                        ],
                        "type": "histogram2dcontour"
                      }
                    ],
                    "mesh3d": [
                      {
                        "colorbar": {
                          "outlinewidth": 0,
                          "ticks": ""
                        },
                        "type": "mesh3d"
                      }
                    ],
                    "parcoords": [
                      {
                        "line": {
                          "colorbar": {
                            "outlinewidth": 0,
                            "ticks": ""
                          }
                        },
                        "type": "parcoords"
                      }
                    ],
                    "pie": [
                      {
                        "automargin": true,
                        "type": "pie"
                      }
                    ],
                    "scatter": [
                      {
                        "fillpattern": {
                          "fillmode": "overlay",
                          "size": 10,
                          "solidity": 0.2
                        },
                        "type": "scatter"
                      }
                    ],
                    "scatter3d": [
                      {
                        "line": {
                          "colorbar": {
                            "outlinewidth": 0,
                            "ticks": ""
                          }
                        },
                        "marker": {
                          "colorbar": {
                            "outlinewidth": 0,
                            "ticks": ""
                          }
                        },
                        "type": "scatter3d"
                      }
                    ],
                    "scattercarpet": [
                      {
                        "marker": {
                          "colorbar": {
                            "outlinewidth": 0,
                            "ticks": ""
                          }
                        },
                        "type": "scattercarpet"
                      }
                    ],
                    "scattergeo": [
                      {
                        "marker": {
                          "colorbar": {
                            "outlinewidth": 0,
                            "ticks": ""
                          }
                        },
                        "type": "scattergeo"
                      }
                    ],
                    "scattergl": [
                      {
                        "marker": {
                          "colorbar": {
                            "outlinewidth": 0,
                            "ticks": ""
                          }
                        },
                        "type": "scattergl"
                      }
                    ],
                    "scattermapbox": [
                      {
                        "marker": {
                          "colorbar": {
                            "outlinewidth": 0,
                            "ticks": ""
                          }
                        },
                        "type": "scattermapbox"
                      }
                    ],
                    "scatterpolar": [
                      {
                        "marker": {
                          "colorbar": {
                            "outlinewidth": 0,
                            "ticks": ""
                          }
                        },
                        "type": "scatterpolar"
                      }
                    ],
                    "scatterpolargl": [
                      {
                        "marker": {
                          "colorbar": {
                            "outlinewidth": 0,
                            "ticks": ""
                          }
                        },
                        "type": "scatterpolargl"
                      }
                    ],
                    "scatterternary": [
                      {
                        "marker": {
                          "colorbar": {
                            "outlinewidth": 0,
                            "ticks": ""
                          }
                        },
                        "type": "scatterternary"
                      }
                    ],
                    "surface": [
                      {
                        "colorbar": {
                          "outlinewidth": 0,
                          "ticks": ""
                        },
                        "colorscale": [
                          [
                            0,
                            "#0d0887"
                          ],
                          [
                            0.1111111111111111,
                            "#46039f"
                          ],
                          [
                            0.2222222222222222,
                            "#7201a8"
                          ],
                          [
                            0.3333333333333333,
                            "#9c179e"
                          ],
                          [
                            0.4444444444444444,
                            "#bd3786"
                          ],
                          [
                            0.5555555555555556,
                            "#d8576b"
                          ],
                          [
                            0.6666666666666666,
                            "#ed7953"
                          ],
                          [
                            0.7777777777777778,
                            "#fb9f3a"
                          ],
                          [
                            0.8888888888888888,
                            "#fdca26"
                          ],
                          [
                            1,
                            "#f0f921"
                          ]
                        ],
                        "type": "surface"
                      }
                    ],
                    "table": [
                      {
                        "cells": {
                          "fill": {
                            "color": "#EBF0F8"
                          },
                          "line": {
                            "color": "white"
                          }
                        },
                        "header": {
                          "fill": {
                            "color": "#C8D4E3"
                          },
                          "line": {
                            "color": "white"
                          }
                        },
                        "type": "table"
                      }
                    ]
                  },
                  "layout": {
                    "annotationdefaults": {
                      "arrowcolor": "#2a3f5f",
                      "arrowhead": 0,
                      "arrowwidth": 1
                    },
                    "autotypenumbers": "strict",
                    "coloraxis": {
                      "colorbar": {
                        "outlinewidth": 0,
                        "ticks": ""
                      }
                    },
                    "colorscale": {
                      "diverging": [
                        [
                          0,
                          "#8e0152"
                        ],
                        [
                          0.1,
                          "#c51b7d"
                        ],
                        [
                          0.2,
                          "#de77ae"
                        ],
                        [
                          0.3,
                          "#f1b6da"
                        ],
                        [
                          0.4,
                          "#fde0ef"
                        ],
                        [
                          0.5,
                          "#f7f7f7"
                        ],
                        [
                          0.6,
                          "#e6f5d0"
                        ],
                        [
                          0.7,
                          "#b8e186"
                        ],
                        [
                          0.8,
                          "#7fbc41"
                        ],
                        [
                          0.9,
                          "#4d9221"
                        ],
                        [
                          1,
                          "#276419"
                        ]
                      ],
                      "sequential": [
                        [
                          0,
                          "#0d0887"
                        ],
                        [
                          0.1111111111111111,
                          "#46039f"
                        ],
                        [
                          0.2222222222222222,
                          "#7201a8"
                        ],
                        [
                          0.3333333333333333,
                          "#9c179e"
                        ],
                        [
                          0.4444444444444444,
                          "#bd3786"
                        ],
                        [
                          0.5555555555555556,
                          "#d8576b"
                        ],
                        [
                          0.6666666666666666,
                          "#ed7953"
                        ],
                        [
                          0.7777777777777778,
                          "#fb9f3a"
                        ],
                        [
                          0.8888888888888888,
                          "#fdca26"
                        ],
                        [
                          1,
                          "#f0f921"
                        ]
                      ],
                      "sequentialminus": [
                        [
                          0,
                          "#0d0887"
                        ],
                        [
                          0.1111111111111111,
                          "#46039f"
                        ],
                        [
                          0.2222222222222222,
                          "#7201a8"
                        ],
                        [
                          0.3333333333333333,
                          "#9c179e"
                        ],
                        [
                          0.4444444444444444,
                          "#bd3786"
                        ],
                        [
                          0.5555555555555556,
                          "#d8576b"
                        ],
                        [
                          0.6666666666666666,
                          "#ed7953"
                        ],
                        [
                          0.7777777777777778,
                          "#fb9f3a"
                        ],
                        [
                          0.8888888888888888,
                          "#fdca26"
                        ],
                        [
                          1,
                          "#f0f921"
                        ]
                      ]
                    },
                    "colorway": [
                      "#636efa",
                      "#EF553B",
                      "#00cc96",
                      "#ab63fa",
                      "#FFA15A",
                      "#19d3f3",
                      "#FF6692",
                      "#B6E880",
                      "#FF97FF",
                      "#FECB52"
                    ],
                    "font": {
                      "color": "#2a3f5f"
                    },
                    "geo": {
                      "bgcolor": "white",
                      "lakecolor": "white",
                      "landcolor": "#E5ECF6",
                      "showlakes": true,
                      "showland": true,
                      "subunitcolor": "white"
                    },
                    "hoverlabel": {
                      "align": "left"
                    },
                    "hovermode": "closest",
                    "mapbox": {
                      "style": "light"
                    },
                    "paper_bgcolor": "white",
                    "plot_bgcolor": "#E5ECF6",
                    "polar": {
                      "angularaxis": {
                        "gridcolor": "white",
                        "linecolor": "white",
                        "ticks": ""
                      },
                      "bgcolor": "#E5ECF6",
                      "radialaxis": {
                        "gridcolor": "white",
                        "linecolor": "white",
                        "ticks": ""
                      }
                    },
                    "scene": {
                      "xaxis": {
                        "backgroundcolor": "#E5ECF6",
                        "gridcolor": "white",
                        "gridwidth": 2,
                        "linecolor": "white",
                        "showbackground": true,
                        "ticks": "",
                        "zerolinecolor": "white"
                      },
                      "yaxis": {
                        "backgroundcolor": "#E5ECF6",
                        "gridcolor": "white",
                        "gridwidth": 2,
                        "linecolor": "white",
                        "showbackground": true,
                        "ticks": "",
                        "zerolinecolor": "white"
                      },
                      "zaxis": {
                        "backgroundcolor": "#E5ECF6",
                        "gridcolor": "white",
                        "gridwidth": 2,
                        "linecolor": "white",
                        "showbackground": true,
                        "ticks": "",
                        "zerolinecolor": "white"
                      }
                    },
                    "shapedefaults": {
                      "line": {
                        "color": "#2a3f5f"
                      }
                    },
                    "ternary": {
                      "aaxis": {
                        "gridcolor": "white",
                        "linecolor": "white",
                        "ticks": ""
                      },
                      "baxis": {
                        "gridcolor": "white",
                        "linecolor": "white",
                        "ticks": ""
                      },
                      "bgcolor": "#E5ECF6",
                      "caxis": {
                        "gridcolor": "white",
                        "linecolor": "white",
                        "ticks": ""
                      }
                    },
                    "title": {
                      "x": 0.05
                    },
                    "xaxis": {
                      "automargin": true,
                      "gridcolor": "white",
                      "linecolor": "white",
                      "ticks": "",
                      "title": {
                        "standoff": 15
                      },
                      "zerolinecolor": "white",
                      "zerolinewidth": 2
                    },
                    "yaxis": {
                      "automargin": true,
                      "gridcolor": "white",
                      "linecolor": "white",
                      "ticks": "",
                      "title": {
                        "standoff": 15
                      },
                      "zerolinecolor": "white",
                      "zerolinewidth": 2
                    }
                  }
                },
                "title": {
                  "text": "Numerical Columns Histogram"
                },
                "width": 970,
                "xaxis": {
                  "anchor": "y",
                  "domain": [
                    0,
                    1
                  ]
                },
                "xaxis2": {
                  "anchor": "y2",
                  "domain": [
                    0,
                    1
                  ]
                },
                "xaxis3": {
                  "anchor": "y3",
                  "domain": [
                    0,
                    1
                  ]
                },
                "yaxis": {
                  "anchor": "x",
                  "domain": [
                    0.7333333333333333,
                    1
                  ]
                },
                "yaxis2": {
                  "anchor": "x2",
                  "domain": [
                    0.36666666666666664,
                    0.6333333333333333
                  ]
                },
                "yaxis3": {
                  "anchor": "x3",
                  "domain": [
                    0,
                    0.26666666666666666
                  ]
                }
              }
            }
          },
          "metadata": {},
          "output_type": "display_data"
        }
      ],
      "source": [
        "fig = make_subplots(rows=3, cols=1)\n",
        "\n",
        "fig.append_trace(go.Histogram(x=df_cars['car_price'], name='Price'), row=1, col=1)\n",
        "fig.append_trace(go.Histogram(x=df_cars['car_km'], name='Mileage'), row=2, col=1)\n",
        "fig.append_trace(go.Histogram(x=df_cars['car_year'], name='Release Year'), row=3, col=1)\n",
        "\n",
        "fig.update_layout(height=900, width=970, title_text=\"Numerical Columns Histogram\")\n",
        "fig.show()"
      ]
    },
    {
      "cell_type": "markdown",
      "metadata": {},
      "source": [
        "Mostrar histograma dos motores (utilizando dataframe antes de utilizar cat codes)"
      ]
    },
    {
      "cell_type": "code",
      "execution_count": 66,
      "metadata": {},
      "outputs": [
        {
          "data": {
            "application/vnd.plotly.v1+json": {
              "config": {
                "plotlyServerURL": "https://plot.ly"
              },
              "data": [
                {
                  "type": "histogram",
                  "x": [
                    "Elétrico",
                    "1.4",
                    "1.0",
                    "1.0 Turbo",
                    "1.6",
                    "1.3 Turbo",
                    "2.8 Turbo",
                    "1.5 Turbo",
                    "1.0",
                    "2.8 Turbo",
                    "1.0",
                    "1.0",
                    "1.0 Turbo",
                    "1.0",
                    "1.0",
                    "1.4 Turbo",
                    "2.0 Turbo",
                    "1.0",
                    "1.6",
                    "1.0",
                    "1.2 Turbo",
                    "1.2 Turbo",
                    "1.0 Turbo",
                    "1.6",
                    "1.0 Turbo",
                    "1.0 Turbo",
                    "1.4 Turbo",
                    "1.0 Turbo",
                    "1.0",
                    "1.0",
                    "2.8 Turbo",
                    "1.0 Turbo",
                    "1.0 Turbo",
                    "1.0",
                    "1.0 Turbo",
                    "1.4",
                    "1.0",
                    "1.0",
                    "1.0 Turbo",
                    "1.0",
                    "1.0 Turbo",
                    "1.0",
                    "1.6",
                    "1.0",
                    "1.0",
                    "1.4",
                    "1.0 Turbo",
                    "1.0",
                    "1.2 Turbo",
                    "2.8 Turbo",
                    "1.6",
                    "1.0",
                    "1.0",
                    "1.0",
                    "1.8",
                    "1.0 Turbo",
                    "1.2 Turbo",
                    "1.0",
                    "1.0 Turbo",
                    "1.0 Turbo",
                    "1.6",
                    "1.0",
                    "1.0",
                    "1.0",
                    "1.0",
                    "1.0 Turbo",
                    "1.0",
                    "1.0",
                    "1.4 Turbo",
                    "1.0",
                    "1.0",
                    "1.0",
                    "1.6",
                    "1.0",
                    "1.0 Turbo",
                    "1.6",
                    "1.0 Turbo",
                    "1.0",
                    "2.0",
                    "1.0",
                    "1.2 Turbo",
                    "1.4",
                    "1.0",
                    "1.0 Turbo",
                    "1.0",
                    "1.0",
                    "1.0 Turbo",
                    "1.0 Turbo",
                    "1.0 Turbo",
                    "1.3",
                    "1.4",
                    "1.0 Turbo",
                    "1.6",
                    "1.0",
                    "1.0 Turbo",
                    "1.3",
                    "1.0",
                    "1.0",
                    "1.0",
                    "1.0 Turbo",
                    "1.0 Turbo",
                    "1.2 Turbo",
                    "1.6",
                    "1.0",
                    "1.0",
                    "1.5",
                    "1.0 Turbo",
                    "1.0 Turbo",
                    "1.6",
                    "2.0",
                    "1.5",
                    "1.8",
                    "1.0",
                    "1.4 Turbo",
                    "1.0",
                    "1.0",
                    "1.0",
                    "2.8 Turbo",
                    "1.0 Turbo",
                    "1.0",
                    "1.6",
                    "1.0",
                    "2.0",
                    "1.3 Turbo",
                    "1.2 Turbo",
                    "1.0",
                    "1.0",
                    "1.0",
                    "1.4 Turbo",
                    "2.0 Turbo",
                    "1.0",
                    "1.0",
                    "1.0",
                    "1.0",
                    "1.0 Turbo",
                    "1.6",
                    "1.0",
                    "1.0",
                    "1.0",
                    "2.8 Turbo",
                    "1.0",
                    "1.0 Turbo",
                    "1.4 Turbo",
                    "1.6",
                    "2.0",
                    "1.0 Turbo",
                    "1.0",
                    "1.0",
                    "1.0",
                    "1.0",
                    "2.0",
                    "1.0",
                    "3.2 Turbo",
                    "1.0 Turbo",
                    "1.0",
                    "1.0",
                    "1.8",
                    "1.0 Turbo",
                    "1.3",
                    "1.0",
                    "1.0 Turbo",
                    "1.0",
                    "1.6",
                    "1.5",
                    "1.6",
                    "1.0",
                    "2.0",
                    "1.3",
                    "1.0",
                    "1.6",
                    "1.0 Turbo",
                    "1.0",
                    "1.6",
                    "1.5",
                    "1.2 Turbo",
                    "1.0 Turbo",
                    "1.3 Turbo",
                    "1.6 Turbo",
                    "1.3",
                    "2.0",
                    "1.3",
                    "1.0",
                    "1.0",
                    "1.8",
                    "1.0",
                    "1.0",
                    "1.3",
                    "1.3",
                    "2.0",
                    "1.0",
                    "1.8",
                    "2.0",
                    "1.3",
                    "1.4",
                    "1.0",
                    "1.0",
                    "1.0",
                    "1.0",
                    "1.6",
                    "1.8",
                    "1.6",
                    "1.3",
                    "1.3 Turbo",
                    "1.8",
                    "1.8",
                    "1.0",
                    "1.4 Turbo",
                    "2.0",
                    "1.0",
                    "1.4",
                    "1.0",
                    "1.0 Turbo",
                    "1.0",
                    "1.0",
                    "1.0",
                    "1.6",
                    "2.0",
                    "1.5",
                    "1.0",
                    "1.5",
                    "1.0",
                    "1.0",
                    "1.0",
                    "1.0",
                    "2.0",
                    "1.0",
                    "2.0",
                    "1.3 Turbo",
                    "1.6",
                    "1.6",
                    "1.8",
                    "1.6",
                    "1.0",
                    "1.3 Turbo",
                    "1.3 Turbo",
                    "1.3",
                    "1.0",
                    "2.0",
                    "2.0",
                    "1.8",
                    "1.0",
                    "3.6",
                    "1.0",
                    "2.0",
                    "1.8",
                    "1.3",
                    "2.0",
                    "1.6",
                    "2.0",
                    "1.3 Turbo",
                    "2.0",
                    "2.0",
                    "2.0",
                    "2.0",
                    "1.3 Turbo",
                    "1.6 Turbo",
                    "2.0",
                    "1.0 Turbo",
                    "2.0",
                    "1.0",
                    "1.0",
                    "1.0",
                    "1.0",
                    "1.0",
                    "1.3",
                    "1.8",
                    "1.8",
                    "1.0 Turbo",
                    "2.0",
                    "1.0",
                    "1.8",
                    "1.0",
                    "2.0",
                    "1.5 Turbo",
                    "1.6",
                    "1.4",
                    "1.0",
                    "2.0",
                    "2.0",
                    "1.0",
                    "1.0",
                    "1.0",
                    "2.0",
                    "1.0",
                    "1.4",
                    "1.3",
                    "1.0",
                    "2.0",
                    "1.0",
                    "1.6",
                    "1.3 Turbo",
                    "1.3 Turbo",
                    "1.0",
                    "1.0",
                    "2.0",
                    "1.0",
                    "1.6",
                    "1.6",
                    "1.0",
                    "2.0",
                    "1.0 Turbo",
                    "1.0 Turbo",
                    "1.6",
                    "1.0",
                    "1.0 Turbo",
                    "1.0",
                    "1.0 Turbo",
                    "2.0",
                    "1.3 Turbo",
                    "1.0 Turbo",
                    "1.3",
                    "1.3 Turbo",
                    "1.0",
                    "1.6",
                    "1.0",
                    "1.0",
                    "1.6",
                    "1.8",
                    "1.4",
                    "1.0",
                    "1.0",
                    "1.6",
                    "1.0",
                    "1.0",
                    "1.0 Turbo",
                    "1.0",
                    "1.0",
                    "1.0",
                    "1.0 Turbo",
                    "1.6",
                    "1.0 Turbo",
                    "1.0",
                    "1.4",
                    "1.0",
                    "1.0 Turbo",
                    "1.0 Turbo",
                    "1.0 Turbo",
                    "1.0 Turbo",
                    "1.8",
                    "1.0 Turbo",
                    "1.0 Turbo",
                    "2.0",
                    "1.3",
                    "1.4",
                    "1.3",
                    "1.0 Turbo",
                    "1.0 Turbo",
                    "1.0",
                    "1.3",
                    "1.4 Turbo",
                    "1.0",
                    "1.0",
                    "1.4",
                    "1.5",
                    "1.4",
                    "1.6",
                    "1.2 Turbo",
                    "1.6",
                    "1.0",
                    "1.0",
                    "1.0",
                    "1.0",
                    "1.8",
                    "1.0",
                    "1.0",
                    "1.0",
                    "2.8 Turbo",
                    "1.0 Turbo",
                    "1.0",
                    "1.6",
                    "1.0",
                    "1.6",
                    "1.0",
                    "1.0",
                    "1.6",
                    "1.4",
                    "1.0",
                    "1.0",
                    "1.0",
                    "3.6",
                    "1.8",
                    "1.3",
                    "1.5 Turbo",
                    "2.8 Turbo",
                    "1.4",
                    "1.0",
                    "1.0",
                    "1.5",
                    "1.6",
                    "1.6",
                    "1.6",
                    "1.4",
                    "1.6",
                    "1.6",
                    "1.0",
                    "1.4",
                    "1.4",
                    "1.6",
                    "1.0",
                    "1.0",
                    "1.6",
                    "1.0 Turbo",
                    "1.0",
                    "1.6",
                    "1.6",
                    "1.0",
                    "1.0",
                    "1.0",
                    "1.5 Turbo",
                    "1.8",
                    "1.0",
                    "2.0",
                    "1.3 Turbo",
                    "1.0",
                    "1.0",
                    "1.6",
                    "1.0",
                    "1.0",
                    "2.0",
                    "1.5",
                    "1.5",
                    "1.0",
                    "1.8",
                    "1.0",
                    "1.0",
                    "1.0",
                    "2.0",
                    "2.0 Turbo",
                    "1.8",
                    "1.0",
                    "2.0",
                    "1.0",
                    "1.6 Turbo",
                    "1.8",
                    "2.0 Turbo",
                    "1.8",
                    "2.0",
                    "2.0",
                    "2.0 Turbo",
                    "1.0",
                    "1.0",
                    "2.0",
                    "1.0",
                    "1.4 Turbo",
                    "1.3",
                    "2.0",
                    "1.3 Turbo",
                    "1.0",
                    "1.0",
                    "1.6",
                    "1.0",
                    "1.0 Turbo",
                    "1.5",
                    "1.0 Turbo",
                    "1.5",
                    "1.5",
                    "1.0 Turbo",
                    "1.6",
                    "1.0",
                    "1.8",
                    "1.0",
                    "1.5",
                    "1.6",
                    "1.0 Turbo",
                    "1.4",
                    "1.0",
                    "1.2",
                    "1.0",
                    "3.0 Turbo",
                    "3.0",
                    "2.0",
                    "3.0 Turbo",
                    "3.0",
                    "2.0",
                    "2.0",
                    "2.8",
                    "2.0",
                    "2.0",
                    "2.0",
                    "1.0",
                    "1.6",
                    "3.0",
                    "3.0",
                    "2.0",
                    "Elétrico",
                    "2.0",
                    "1.5",
                    "Elétrico",
                    "1.8",
                    "3.0 Turbo",
                    "2.8 Turbo",
                    "1.0",
                    "1.0 Turbo",
                    "1.0 Turbo",
                    "1.8",
                    "1.6",
                    "1.0",
                    "1.0",
                    "1.4",
                    "1.0",
                    "1.8",
                    "1.6",
                    "2.0",
                    "1.6",
                    "1.4",
                    "1.8",
                    "2.7",
                    "1.8",
                    "1.8",
                    "1.6",
                    "1.4 Turbo",
                    "1.6",
                    "1.0",
                    "1.0",
                    "1.6",
                    "1.4",
                    "1.6",
                    "1.4",
                    "1.3",
                    "2.0",
                    "1.0",
                    "1.6",
                    "1.6",
                    "1.6",
                    "2.9",
                    "3.0 Turbo",
                    "4.0",
                    "3.0 Turbo",
                    "3.0",
                    "2.8 Turbo",
                    "2.8 Turbo",
                    "Elétrico",
                    "1.5 Turbo",
                    "1.5",
                    "2.5",
                    "1.5",
                    "1.2 Turbo",
                    "1.0 Turbo",
                    "1.2 Turbo",
                    "1.4",
                    "1.8",
                    "2.0 Turbo",
                    "1.5",
                    "1.3",
                    "1.4 Turbo",
                    "1.3 Turbo",
                    "3.2",
                    "2.0",
                    "1.0 Turbo",
                    "2.0",
                    "1.0 Turbo",
                    "1.4",
                    "1.8",
                    "1.6",
                    "1.6",
                    "1.3",
                    "1.0",
                    "2.0 Turbo",
                    "2.0",
                    "2.0",
                    "2.5",
                    "Elétrico",
                    "1.4",
                    "1.3",
                    "2.0",
                    "1.5",
                    "1.4",
                    "1.3 Turbo",
                    "1.0",
                    "1.0",
                    "1.3 Turbo",
                    "1.3 Turbo",
                    "1.0",
                    "1.3 Turbo",
                    "1.3 Turbo",
                    "1.8",
                    "1.0",
                    "1.5",
                    "1.6",
                    "1.3",
                    "4.0",
                    "2.0",
                    "2.0",
                    "6.7 Turbo",
                    "2.0",
                    "2.0",
                    "Elétrico",
                    "2.0 Turbo",
                    "2.0 Turbo",
                    "2.0 Turbo",
                    "Elétrico",
                    "Elétrico",
                    "Elétrico",
                    "2.0",
                    "2.8",
                    "2.0 Turbo",
                    "1.4",
                    "2.0 Turbo",
                    "2.0 Turbo",
                    "2.5",
                    "1.0",
                    "1.0",
                    "1.2 Turbo",
                    "1.0 Turbo",
                    "1.8",
                    "1.6",
                    "1.6",
                    "1.8",
                    "1.0 Turbo",
                    "1.6",
                    "1.8",
                    "1.6",
                    "1.0",
                    "1.0",
                    "1.0",
                    "1.6",
                    "1.3",
                    "2.0",
                    "1.6",
                    "1.0 Turbo",
                    "1.0 Turbo",
                    "1.6",
                    "1.0",
                    "3.0",
                    "Elétrico",
                    "2.0 Turbo",
                    "1.2 Turbo",
                    "1.3 Turbo",
                    "1.3",
                    "1.3",
                    "2.0",
                    "1.0",
                    "1.0",
                    "1.5",
                    "1.8",
                    "1.6",
                    "1.6",
                    "1.0",
                    "1.0",
                    "1.0",
                    "2.3",
                    "2.0 Turbo",
                    "1.8",
                    "2.0",
                    "1.6",
                    "1.0",
                    "1.6",
                    "1.0",
                    "1.0",
                    "2.0",
                    "1.6",
                    "1.0",
                    "1.0",
                    "1.0",
                    "1.6",
                    "1.5",
                    "1.6",
                    "1.4",
                    "1.0",
                    "1.8",
                    "1.0",
                    "1.0",
                    "1.6",
                    "1.6",
                    "1.0",
                    "1.0",
                    "1.6",
                    "1.0",
                    "1.4",
                    "1.4",
                    "2.0 Turbo",
                    "1.8",
                    "1.6",
                    "1.4",
                    "2.0",
                    "1.0",
                    "2.0 Turbo",
                    "1.0 Turbo",
                    "2.0",
                    "2.5",
                    "1.0 Turbo",
                    "1.6",
                    "2.5",
                    "1.6",
                    "1.8",
                    "1.6",
                    "1.0",
                    "1.8",
                    "2.0",
                    "1.8",
                    "1.0",
                    "1.6",
                    "1.8",
                    "2.0",
                    "1.0",
                    "1.8",
                    "1.0",
                    "2.0",
                    "1.8",
                    "1.8",
                    "1.6",
                    "1.8",
                    "1.0",
                    "1.8",
                    "1.0",
                    "1.5",
                    "1.0 Turbo",
                    "1.4",
                    "1.0",
                    "1.0",
                    "1.4",
                    "1.5",
                    "1.0",
                    "1.0",
                    "1.0",
                    "1.4",
                    "1.0",
                    "1.4",
                    "1.8",
                    "1.4",
                    "1.8",
                    "1.8",
                    "1.5",
                    "1.4",
                    "1.0",
                    "1.0",
                    "1.0",
                    "1.4",
                    "1.6",
                    "1.0",
                    "1.0",
                    "1.3",
                    "1.0",
                    "1.0",
                    "1.6",
                    "1.0",
                    "1.4",
                    "2.8 Turbo",
                    "2.0 Turbo",
                    "2.0",
                    "1.0",
                    "1.0",
                    "2.0",
                    "1.6",
                    "1.6",
                    "1.6",
                    "1.0",
                    "1.0",
                    "1.4",
                    "1.8",
                    "1.4",
                    "1.6",
                    "1.0",
                    "2.8 Turbo",
                    "1.0",
                    "1.5",
                    "1.5",
                    "1.0",
                    "1.0",
                    "1.0",
                    "1.6",
                    "3.0",
                    "2.0",
                    "1.4",
                    "1.6",
                    "1.0 Turbo",
                    "1.0 Turbo",
                    "1.0",
                    "1.0",
                    "2.0",
                    "1.8",
                    "1.0",
                    "1.0",
                    "2.0 Turbo",
                    "1.4",
                    "1.0",
                    "1.0",
                    "1.0",
                    "1.0",
                    "1.0",
                    "1.4",
                    "3.0",
                    "2.0",
                    "2.0",
                    "2.0",
                    "2.0",
                    "1.3",
                    "1.8",
                    "1.4",
                    "1.6",
                    "1.0",
                    "1.0",
                    "1.0",
                    "1.5",
                    "1.0",
                    "1.6",
                    "1.0",
                    "2.0",
                    "2.0",
                    "1.8",
                    "1.6",
                    "1.8",
                    "2.0",
                    "1.8",
                    "1.0",
                    "1.0",
                    "2.0",
                    "1.0",
                    "1.0",
                    "1.6",
                    "1.6",
                    "1.0 Turbo",
                    "1.0",
                    "1.0",
                    "1.0",
                    "1.6",
                    "1.0",
                    "1.6",
                    "1.6",
                    "1.0",
                    "1.0",
                    "1.0",
                    "1.0 Turbo",
                    "1.4 Turbo",
                    "1.8",
                    "1.0 Turbo",
                    "1.8",
                    "1.0",
                    "1.0 Turbo",
                    "2.0",
                    "1.6",
                    "1.6",
                    "1.0",
                    "2.0 Turbo",
                    "2.0 Turbo",
                    "1.6",
                    "1.6",
                    "1.0",
                    "2.0",
                    "1.0 Turbo",
                    "1.0",
                    "1.0",
                    "1.0",
                    "1.4",
                    "1.6",
                    "1.0",
                    "1.4",
                    "1.0",
                    "3.0",
                    "2.0",
                    "3.0 Turbo",
                    "2.5",
                    "2.9",
                    "2.5",
                    "2.0",
                    "2.5",
                    "3.0",
                    "2.0",
                    "1.8",
                    "1.3",
                    "1.6",
                    "1.0",
                    "1.3 Turbo",
                    "1.8",
                    "1.8",
                    "1.5",
                    "1.6",
                    "1.3 Turbo",
                    "1.4 Turbo",
                    "2.0",
                    "2.7",
                    "2.8",
                    "1.6",
                    "2.0",
                    "1.0",
                    "1.6",
                    "2.0",
                    "1.0",
                    "2.8",
                    "1.4",
                    "2.5",
                    "1.4",
                    "1.6",
                    "1.3 Turbo",
                    "1.4",
                    "1.0",
                    "1.0",
                    "1.6",
                    "1.0",
                    "1.0",
                    "1.0",
                    "1.6",
                    "1.0",
                    "1.6",
                    "1.6",
                    "1.0",
                    "1.0",
                    "1.0",
                    "1.0",
                    "1.0",
                    "2.8 Turbo",
                    "1.0",
                    "1.8",
                    "1.8",
                    "1.6",
                    "1.0",
                    "1.0",
                    "1.0",
                    "1.0",
                    "1.2 Turbo",
                    "1.8",
                    "1.6",
                    "1.6",
                    "1.6",
                    "1.8",
                    "1.0",
                    "1.4",
                    "1.6",
                    "1.0",
                    "1.0",
                    "1.0",
                    "1.0",
                    "1.6",
                    "1.6",
                    "1.0",
                    "1.8",
                    "2.0",
                    "1.0",
                    "1.8",
                    "1.4",
                    "1.8",
                    "1.0",
                    "1.0",
                    "1.0",
                    "1.0",
                    "1.6",
                    "1.0",
                    "3.0",
                    "2.3",
                    "1.4",
                    "1.6",
                    "1.0",
                    "1.0",
                    "1.6",
                    "1.4",
                    "1.0",
                    "1.8",
                    "1.4",
                    "1.0",
                    "1.0",
                    "1.4",
                    "2.0 Turbo",
                    "2.0 Turbo",
                    "1.5",
                    "1.8",
                    "1.5",
                    "1.0",
                    "1.0",
                    "1.0",
                    "1.6",
                    "1.4",
                    "1.6",
                    "2.0",
                    "1.3 Turbo",
                    "2.0",
                    "2.3",
                    "1.0",
                    "1.5",
                    "3.0",
                    "1.6",
                    "1.0",
                    "1.6",
                    "1.3 Turbo",
                    "1.6",
                    "1.0",
                    "1.4",
                    "1.4",
                    "1.6",
                    "1.0",
                    "2.0",
                    "3.0 Turbo",
                    "1.8",
                    "1.5",
                    "3.0",
                    "2.0",
                    "1.0",
                    "1.0",
                    "1.0",
                    "1.0",
                    "2.0",
                    "1.5",
                    "2.0 Turbo",
                    "2.0",
                    "2.0",
                    "2.0",
                    "1.4 Turbo",
                    "1.0",
                    "2.0",
                    "2.0",
                    "1.6",
                    "1.3",
                    "1.6",
                    "1.0",
                    "1.0",
                    "1.0",
                    "2.0",
                    "1.0",
                    "1.4",
                    "1.4",
                    "1.0",
                    "2.0 Turbo",
                    "2.8 Turbo",
                    "1.6",
                    "1.6",
                    "1.6",
                    "1.4",
                    "2.0",
                    "1.4",
                    "2.0",
                    "2.0",
                    "2.0",
                    "2.0 Turbo",
                    "2.0",
                    "2.0",
                    "2.0 Turbo",
                    "1.3",
                    "2.0",
                    "1.8",
                    "1.6",
                    "1.6",
                    "1.0",
                    "1.3 Turbo",
                    "1.3 Turbo",
                    "1.3",
                    "1.0",
                    "2.0 Turbo",
                    "1.6",
                    "1.8",
                    "1.6",
                    "1.5",
                    "1.8",
                    "1.0",
                    "1.6",
                    "1.6",
                    "2.4",
                    "1.6",
                    "1.8",
                    "1.2",
                    "1.0",
                    "1.0",
                    "1.0",
                    "1.6",
                    "1.0",
                    "1.0",
                    "1.0",
                    "1.0",
                    "1.0",
                    "1.0",
                    "2.0",
                    "2.0",
                    "1.6",
                    "1.0",
                    "1.8",
                    "1.3",
                    "2.0",
                    "1.5",
                    "1.5",
                    "1.6",
                    "1.0",
                    "1.0",
                    "1.0",
                    "1.8",
                    "1.5",
                    "1.2",
                    "1.0",
                    "1.6",
                    "1.0",
                    "1.0",
                    "1.0",
                    "1.0 Turbo",
                    "1.8",
                    "2.0",
                    "1.3",
                    "1.0",
                    "1.0",
                    "2.0 Turbo",
                    "1.8",
                    "1.6",
                    "1.0",
                    "1.0",
                    "2.3",
                    "1.3",
                    "1.5",
                    "1.0",
                    "1.0",
                    "1.3",
                    "1.6",
                    "1.6",
                    "1.0",
                    "1.5",
                    "1.4",
                    "1.0",
                    "1.6"
                  ]
                }
              ],
              "layout": {
                "height": 900,
                "template": {
                  "data": {
                    "bar": [
                      {
                        "error_x": {
                          "color": "#2a3f5f"
                        },
                        "error_y": {
                          "color": "#2a3f5f"
                        },
                        "marker": {
                          "line": {
                            "color": "#E5ECF6",
                            "width": 0.5
                          },
                          "pattern": {
                            "fillmode": "overlay",
                            "size": 10,
                            "solidity": 0.2
                          }
                        },
                        "type": "bar"
                      }
                    ],
                    "barpolar": [
                      {
                        "marker": {
                          "line": {
                            "color": "#E5ECF6",
                            "width": 0.5
                          },
                          "pattern": {
                            "fillmode": "overlay",
                            "size": 10,
                            "solidity": 0.2
                          }
                        },
                        "type": "barpolar"
                      }
                    ],
                    "carpet": [
                      {
                        "aaxis": {
                          "endlinecolor": "#2a3f5f",
                          "gridcolor": "white",
                          "linecolor": "white",
                          "minorgridcolor": "white",
                          "startlinecolor": "#2a3f5f"
                        },
                        "baxis": {
                          "endlinecolor": "#2a3f5f",
                          "gridcolor": "white",
                          "linecolor": "white",
                          "minorgridcolor": "white",
                          "startlinecolor": "#2a3f5f"
                        },
                        "type": "carpet"
                      }
                    ],
                    "choropleth": [
                      {
                        "colorbar": {
                          "outlinewidth": 0,
                          "ticks": ""
                        },
                        "type": "choropleth"
                      }
                    ],
                    "contour": [
                      {
                        "colorbar": {
                          "outlinewidth": 0,
                          "ticks": ""
                        },
                        "colorscale": [
                          [
                            0,
                            "#0d0887"
                          ],
                          [
                            0.1111111111111111,
                            "#46039f"
                          ],
                          [
                            0.2222222222222222,
                            "#7201a8"
                          ],
                          [
                            0.3333333333333333,
                            "#9c179e"
                          ],
                          [
                            0.4444444444444444,
                            "#bd3786"
                          ],
                          [
                            0.5555555555555556,
                            "#d8576b"
                          ],
                          [
                            0.6666666666666666,
                            "#ed7953"
                          ],
                          [
                            0.7777777777777778,
                            "#fb9f3a"
                          ],
                          [
                            0.8888888888888888,
                            "#fdca26"
                          ],
                          [
                            1,
                            "#f0f921"
                          ]
                        ],
                        "type": "contour"
                      }
                    ],
                    "contourcarpet": [
                      {
                        "colorbar": {
                          "outlinewidth": 0,
                          "ticks": ""
                        },
                        "type": "contourcarpet"
                      }
                    ],
                    "heatmap": [
                      {
                        "colorbar": {
                          "outlinewidth": 0,
                          "ticks": ""
                        },
                        "colorscale": [
                          [
                            0,
                            "#0d0887"
                          ],
                          [
                            0.1111111111111111,
                            "#46039f"
                          ],
                          [
                            0.2222222222222222,
                            "#7201a8"
                          ],
                          [
                            0.3333333333333333,
                            "#9c179e"
                          ],
                          [
                            0.4444444444444444,
                            "#bd3786"
                          ],
                          [
                            0.5555555555555556,
                            "#d8576b"
                          ],
                          [
                            0.6666666666666666,
                            "#ed7953"
                          ],
                          [
                            0.7777777777777778,
                            "#fb9f3a"
                          ],
                          [
                            0.8888888888888888,
                            "#fdca26"
                          ],
                          [
                            1,
                            "#f0f921"
                          ]
                        ],
                        "type": "heatmap"
                      }
                    ],
                    "heatmapgl": [
                      {
                        "colorbar": {
                          "outlinewidth": 0,
                          "ticks": ""
                        },
                        "colorscale": [
                          [
                            0,
                            "#0d0887"
                          ],
                          [
                            0.1111111111111111,
                            "#46039f"
                          ],
                          [
                            0.2222222222222222,
                            "#7201a8"
                          ],
                          [
                            0.3333333333333333,
                            "#9c179e"
                          ],
                          [
                            0.4444444444444444,
                            "#bd3786"
                          ],
                          [
                            0.5555555555555556,
                            "#d8576b"
                          ],
                          [
                            0.6666666666666666,
                            "#ed7953"
                          ],
                          [
                            0.7777777777777778,
                            "#fb9f3a"
                          ],
                          [
                            0.8888888888888888,
                            "#fdca26"
                          ],
                          [
                            1,
                            "#f0f921"
                          ]
                        ],
                        "type": "heatmapgl"
                      }
                    ],
                    "histogram": [
                      {
                        "marker": {
                          "pattern": {
                            "fillmode": "overlay",
                            "size": 10,
                            "solidity": 0.2
                          }
                        },
                        "type": "histogram"
                      }
                    ],
                    "histogram2d": [
                      {
                        "colorbar": {
                          "outlinewidth": 0,
                          "ticks": ""
                        },
                        "colorscale": [
                          [
                            0,
                            "#0d0887"
                          ],
                          [
                            0.1111111111111111,
                            "#46039f"
                          ],
                          [
                            0.2222222222222222,
                            "#7201a8"
                          ],
                          [
                            0.3333333333333333,
                            "#9c179e"
                          ],
                          [
                            0.4444444444444444,
                            "#bd3786"
                          ],
                          [
                            0.5555555555555556,
                            "#d8576b"
                          ],
                          [
                            0.6666666666666666,
                            "#ed7953"
                          ],
                          [
                            0.7777777777777778,
                            "#fb9f3a"
                          ],
                          [
                            0.8888888888888888,
                            "#fdca26"
                          ],
                          [
                            1,
                            "#f0f921"
                          ]
                        ],
                        "type": "histogram2d"
                      }
                    ],
                    "histogram2dcontour": [
                      {
                        "colorbar": {
                          "outlinewidth": 0,
                          "ticks": ""
                        },
                        "colorscale": [
                          [
                            0,
                            "#0d0887"
                          ],
                          [
                            0.1111111111111111,
                            "#46039f"
                          ],
                          [
                            0.2222222222222222,
                            "#7201a8"
                          ],
                          [
                            0.3333333333333333,
                            "#9c179e"
                          ],
                          [
                            0.4444444444444444,
                            "#bd3786"
                          ],
                          [
                            0.5555555555555556,
                            "#d8576b"
                          ],
                          [
                            0.6666666666666666,
                            "#ed7953"
                          ],
                          [
                            0.7777777777777778,
                            "#fb9f3a"
                          ],
                          [
                            0.8888888888888888,
                            "#fdca26"
                          ],
                          [
                            1,
                            "#f0f921"
                          ]
                        ],
                        "type": "histogram2dcontour"
                      }
                    ],
                    "mesh3d": [
                      {
                        "colorbar": {
                          "outlinewidth": 0,
                          "ticks": ""
                        },
                        "type": "mesh3d"
                      }
                    ],
                    "parcoords": [
                      {
                        "line": {
                          "colorbar": {
                            "outlinewidth": 0,
                            "ticks": ""
                          }
                        },
                        "type": "parcoords"
                      }
                    ],
                    "pie": [
                      {
                        "automargin": true,
                        "type": "pie"
                      }
                    ],
                    "scatter": [
                      {
                        "fillpattern": {
                          "fillmode": "overlay",
                          "size": 10,
                          "solidity": 0.2
                        },
                        "type": "scatter"
                      }
                    ],
                    "scatter3d": [
                      {
                        "line": {
                          "colorbar": {
                            "outlinewidth": 0,
                            "ticks": ""
                          }
                        },
                        "marker": {
                          "colorbar": {
                            "outlinewidth": 0,
                            "ticks": ""
                          }
                        },
                        "type": "scatter3d"
                      }
                    ],
                    "scattercarpet": [
                      {
                        "marker": {
                          "colorbar": {
                            "outlinewidth": 0,
                            "ticks": ""
                          }
                        },
                        "type": "scattercarpet"
                      }
                    ],
                    "scattergeo": [
                      {
                        "marker": {
                          "colorbar": {
                            "outlinewidth": 0,
                            "ticks": ""
                          }
                        },
                        "type": "scattergeo"
                      }
                    ],
                    "scattergl": [
                      {
                        "marker": {
                          "colorbar": {
                            "outlinewidth": 0,
                            "ticks": ""
                          }
                        },
                        "type": "scattergl"
                      }
                    ],
                    "scattermapbox": [
                      {
                        "marker": {
                          "colorbar": {
                            "outlinewidth": 0,
                            "ticks": ""
                          }
                        },
                        "type": "scattermapbox"
                      }
                    ],
                    "scatterpolar": [
                      {
                        "marker": {
                          "colorbar": {
                            "outlinewidth": 0,
                            "ticks": ""
                          }
                        },
                        "type": "scatterpolar"
                      }
                    ],
                    "scatterpolargl": [
                      {
                        "marker": {
                          "colorbar": {
                            "outlinewidth": 0,
                            "ticks": ""
                          }
                        },
                        "type": "scatterpolargl"
                      }
                    ],
                    "scatterternary": [
                      {
                        "marker": {
                          "colorbar": {
                            "outlinewidth": 0,
                            "ticks": ""
                          }
                        },
                        "type": "scatterternary"
                      }
                    ],
                    "surface": [
                      {
                        "colorbar": {
                          "outlinewidth": 0,
                          "ticks": ""
                        },
                        "colorscale": [
                          [
                            0,
                            "#0d0887"
                          ],
                          [
                            0.1111111111111111,
                            "#46039f"
                          ],
                          [
                            0.2222222222222222,
                            "#7201a8"
                          ],
                          [
                            0.3333333333333333,
                            "#9c179e"
                          ],
                          [
                            0.4444444444444444,
                            "#bd3786"
                          ],
                          [
                            0.5555555555555556,
                            "#d8576b"
                          ],
                          [
                            0.6666666666666666,
                            "#ed7953"
                          ],
                          [
                            0.7777777777777778,
                            "#fb9f3a"
                          ],
                          [
                            0.8888888888888888,
                            "#fdca26"
                          ],
                          [
                            1,
                            "#f0f921"
                          ]
                        ],
                        "type": "surface"
                      }
                    ],
                    "table": [
                      {
                        "cells": {
                          "fill": {
                            "color": "#EBF0F8"
                          },
                          "line": {
                            "color": "white"
                          }
                        },
                        "header": {
                          "fill": {
                            "color": "#C8D4E3"
                          },
                          "line": {
                            "color": "white"
                          }
                        },
                        "type": "table"
                      }
                    ]
                  },
                  "layout": {
                    "annotationdefaults": {
                      "arrowcolor": "#2a3f5f",
                      "arrowhead": 0,
                      "arrowwidth": 1
                    },
                    "autotypenumbers": "strict",
                    "coloraxis": {
                      "colorbar": {
                        "outlinewidth": 0,
                        "ticks": ""
                      }
                    },
                    "colorscale": {
                      "diverging": [
                        [
                          0,
                          "#8e0152"
                        ],
                        [
                          0.1,
                          "#c51b7d"
                        ],
                        [
                          0.2,
                          "#de77ae"
                        ],
                        [
                          0.3,
                          "#f1b6da"
                        ],
                        [
                          0.4,
                          "#fde0ef"
                        ],
                        [
                          0.5,
                          "#f7f7f7"
                        ],
                        [
                          0.6,
                          "#e6f5d0"
                        ],
                        [
                          0.7,
                          "#b8e186"
                        ],
                        [
                          0.8,
                          "#7fbc41"
                        ],
                        [
                          0.9,
                          "#4d9221"
                        ],
                        [
                          1,
                          "#276419"
                        ]
                      ],
                      "sequential": [
                        [
                          0,
                          "#0d0887"
                        ],
                        [
                          0.1111111111111111,
                          "#46039f"
                        ],
                        [
                          0.2222222222222222,
                          "#7201a8"
                        ],
                        [
                          0.3333333333333333,
                          "#9c179e"
                        ],
                        [
                          0.4444444444444444,
                          "#bd3786"
                        ],
                        [
                          0.5555555555555556,
                          "#d8576b"
                        ],
                        [
                          0.6666666666666666,
                          "#ed7953"
                        ],
                        [
                          0.7777777777777778,
                          "#fb9f3a"
                        ],
                        [
                          0.8888888888888888,
                          "#fdca26"
                        ],
                        [
                          1,
                          "#f0f921"
                        ]
                      ],
                      "sequentialminus": [
                        [
                          0,
                          "#0d0887"
                        ],
                        [
                          0.1111111111111111,
                          "#46039f"
                        ],
                        [
                          0.2222222222222222,
                          "#7201a8"
                        ],
                        [
                          0.3333333333333333,
                          "#9c179e"
                        ],
                        [
                          0.4444444444444444,
                          "#bd3786"
                        ],
                        [
                          0.5555555555555556,
                          "#d8576b"
                        ],
                        [
                          0.6666666666666666,
                          "#ed7953"
                        ],
                        [
                          0.7777777777777778,
                          "#fb9f3a"
                        ],
                        [
                          0.8888888888888888,
                          "#fdca26"
                        ],
                        [
                          1,
                          "#f0f921"
                        ]
                      ]
                    },
                    "colorway": [
                      "#636efa",
                      "#EF553B",
                      "#00cc96",
                      "#ab63fa",
                      "#FFA15A",
                      "#19d3f3",
                      "#FF6692",
                      "#B6E880",
                      "#FF97FF",
                      "#FECB52"
                    ],
                    "font": {
                      "color": "#2a3f5f"
                    },
                    "geo": {
                      "bgcolor": "white",
                      "lakecolor": "white",
                      "landcolor": "#E5ECF6",
                      "showlakes": true,
                      "showland": true,
                      "subunitcolor": "white"
                    },
                    "hoverlabel": {
                      "align": "left"
                    },
                    "hovermode": "closest",
                    "mapbox": {
                      "style": "light"
                    },
                    "paper_bgcolor": "white",
                    "plot_bgcolor": "#E5ECF6",
                    "polar": {
                      "angularaxis": {
                        "gridcolor": "white",
                        "linecolor": "white",
                        "ticks": ""
                      },
                      "bgcolor": "#E5ECF6",
                      "radialaxis": {
                        "gridcolor": "white",
                        "linecolor": "white",
                        "ticks": ""
                      }
                    },
                    "scene": {
                      "xaxis": {
                        "backgroundcolor": "#E5ECF6",
                        "gridcolor": "white",
                        "gridwidth": 2,
                        "linecolor": "white",
                        "showbackground": true,
                        "ticks": "",
                        "zerolinecolor": "white"
                      },
                      "yaxis": {
                        "backgroundcolor": "#E5ECF6",
                        "gridcolor": "white",
                        "gridwidth": 2,
                        "linecolor": "white",
                        "showbackground": true,
                        "ticks": "",
                        "zerolinecolor": "white"
                      },
                      "zaxis": {
                        "backgroundcolor": "#E5ECF6",
                        "gridcolor": "white",
                        "gridwidth": 2,
                        "linecolor": "white",
                        "showbackground": true,
                        "ticks": "",
                        "zerolinecolor": "white"
                      }
                    },
                    "shapedefaults": {
                      "line": {
                        "color": "#2a3f5f"
                      }
                    },
                    "ternary": {
                      "aaxis": {
                        "gridcolor": "white",
                        "linecolor": "white",
                        "ticks": ""
                      },
                      "baxis": {
                        "gridcolor": "white",
                        "linecolor": "white",
                        "ticks": ""
                      },
                      "bgcolor": "#E5ECF6",
                      "caxis": {
                        "gridcolor": "white",
                        "linecolor": "white",
                        "ticks": ""
                      }
                    },
                    "title": {
                      "x": 0.05
                    },
                    "xaxis": {
                      "automargin": true,
                      "gridcolor": "white",
                      "linecolor": "white",
                      "ticks": "",
                      "title": {
                        "standoff": 15
                      },
                      "zerolinecolor": "white",
                      "zerolinewidth": 2
                    },
                    "yaxis": {
                      "automargin": true,
                      "gridcolor": "white",
                      "linecolor": "white",
                      "ticks": "",
                      "title": {
                        "standoff": 15
                      },
                      "zerolinecolor": "white",
                      "zerolinewidth": 2
                    }
                  }
                },
                "title": {
                  "text": "Numerical Columns Histogram"
                },
                "width": 970
              }
            }
          },
          "metadata": {},
          "output_type": "display_data"
        }
      ],
      "source": [
        "fig = go.Figure()\n",
        "\n",
        "fig.add_trace(\n",
        "    go.Histogram(x=df_categories['car_engine'])\n",
        ")\n",
        "\n",
        "fig.update_layout(height=900, width=970, title_text=\"Engine Histogram\")\n",
        "fig.show()"
      ]
    },
    {
      "cell_type": "markdown",
      "metadata": {},
      "source": [
        "---"
      ]
    },
    {
      "cell_type": "markdown",
      "metadata": {},
      "source": [
        "### Teste de Hipóteses"
      ]
    },
    {
      "cell_type": "code",
      "execution_count": null,
      "metadata": {},
      "outputs": [],
      "source": []
    },
    {
      "cell_type": "markdown",
      "metadata": {
        "id": "VNZae0pXST8X"
      },
      "source": [
        "---"
      ]
    },
    {
      "cell_type": "markdown",
      "metadata": {
        "id": "F_tKTPVDSQkN"
      },
      "source": [
        "## Referências\n",
        "\n",
        "- https://plotly.com/python/histograms/\n",
        "- https://plotly.com/python/legend/"
      ]
    }
  ],
  "metadata": {
    "colab": {
      "provenance": []
    },
    "kernelspec": {
      "display_name": "Python 3",
      "name": "python3"
    },
    "language_info": {
      "codemirror_mode": {
        "name": "ipython",
        "version": 3
      },
      "file_extension": ".py",
      "mimetype": "text/x-python",
      "name": "python",
      "nbconvert_exporter": "python",
      "pygments_lexer": "ipython3",
      "version": "3.11.7"
    }
  },
  "nbformat": 4,
  "nbformat_minor": 0
}
