{
 "cells": [
  {
   "cell_type": "markdown",
   "metadata": {},
   "source": [
    "# Introdução à Ciência de Dados - Projeto Parte 2\n",
    "\n",
    "<p align=\"justify\">\n",
    "Nessa etapa, iremos escolher uma das colunas do nosso dataset para para fazermos uma regressão baseada nas demais features. Avaliaremos quatro diferentes algoritmos para essa tarefa e utilizaremos o MLFlow para fazer o rastreamento. Adicionalmente, usaremos o Optuna para variar os hiperparâmetros de cada abordagem e escolher o melhor deles.\n",
    "\n",
    "### Equipe:\n",
    "> Pedro Henrique Almeida Girão Peixinho (phagp)\n",
    "\n",
    "> Victor Gabriel de Carvalho (vgc3)\n",
    "\n",
    "### Tópicos Avançados em Gerenciamento de Dados e Informação IF697 - 2024.1 - Centro de Informáica UFPE"
   ]
  },
  {
   "cell_type": "code",
   "execution_count": 180,
   "metadata": {},
   "outputs": [],
   "source": [
    "import pandas as pd\n",
    "import numpy as np\n",
    "\n",
    "from sklearn.covariance import EllipticEnvelope\n",
    "from sklearn.preprocessing import MinMaxScaler\n",
    "from sklearn.model_selection import train_test_split\n",
    "from sklearn.linear_model import LinearRegression\n",
    "from sklearn.ensemble import RandomForestRegressor, GradientBoostingRegressor\n",
    "from sklearn.impute import KNNImputer\n",
    "\n",
    "import tensorflow as tf\n",
    "from tensorflow import keras\n",
    "from tensorflow.keras import layers\n",
    "from tensorflow.keras.models import Sequential\n",
    "\n",
    "import matplotlib.pyplot as plt\n",
    "\n",
    "import optuna\n",
    "# import autosklearn.regression\n",
    "\n",
    "tf.random.set_seed(9)\n",
    "keras.utils.set_random_seed(9)"
   ]
  },
  {
   "cell_type": "code",
   "execution_count": 181,
   "metadata": {},
   "outputs": [
    {
     "data": {
      "text/html": [
       "<div>\n",
       "<style scoped>\n",
       "    .dataframe tbody tr th:only-of-type {\n",
       "        vertical-align: middle;\n",
       "    }\n",
       "\n",
       "    .dataframe tbody tr th {\n",
       "        vertical-align: top;\n",
       "    }\n",
       "\n",
       "    .dataframe thead th {\n",
       "        text-align: right;\n",
       "    }\n",
       "</style>\n",
       "<table border=\"1\" class=\"dataframe\">\n",
       "  <thead>\n",
       "    <tr style=\"text-align: right;\">\n",
       "      <th></th>\n",
       "      <th>page</th>\n",
       "      <th>car_brand</th>\n",
       "      <th>car_name</th>\n",
       "      <th>car_price</th>\n",
       "      <th>car_km</th>\n",
       "      <th>car_year</th>\n",
       "      <th>car_desc</th>\n",
       "      <th>car_store</th>\n",
       "      <th>car_engine</th>\n",
       "      <th>car_gearbox</th>\n",
       "      <th>car_fuel</th>\n",
       "      <th>car_color</th>\n",
       "    </tr>\n",
       "  </thead>\n",
       "  <tbody>\n",
       "    <tr>\n",
       "      <th>0</th>\n",
       "      <td>https://grupoautonunes.com/estoque/?zero_km=0&amp;...</td>\n",
       "      <td>Fiat</td>\n",
       "      <td>500E</td>\n",
       "      <td>125990.0</td>\n",
       "      <td>7521.0</td>\n",
       "      <td>2022</td>\n",
       "      <td>ICON ELÉTRICO</td>\n",
       "      <td>NaN</td>\n",
       "      <td>Elétrico</td>\n",
       "      <td>Automatico</td>\n",
       "      <td>Elétrico</td>\n",
       "      <td>NaN</td>\n",
       "    </tr>\n",
       "    <tr>\n",
       "      <th>1</th>\n",
       "      <td>https://grupoautonunes.com/estoque/?zero_km=0&amp;...</td>\n",
       "      <td>Audi</td>\n",
       "      <td>Q3</td>\n",
       "      <td>128980.0</td>\n",
       "      <td>40000.0</td>\n",
       "      <td>2018</td>\n",
       "      <td>1.4 TFSI AMBIENTE FLEX 4P S TRONIC</td>\n",
       "      <td>NaN</td>\n",
       "      <td>1.4</td>\n",
       "      <td>Automatico</td>\n",
       "      <td>Flex</td>\n",
       "      <td>NaN</td>\n",
       "    </tr>\n",
       "    <tr>\n",
       "      <th>2</th>\n",
       "      <td>https://grupoautonunes.com/estoque/?zero_km=0&amp;...</td>\n",
       "      <td>Chevrolet</td>\n",
       "      <td>Onix</td>\n",
       "      <td>70990.0</td>\n",
       "      <td>40686.0</td>\n",
       "      <td>2023</td>\n",
       "      <td>1.0 FLEX LT MANUAL</td>\n",
       "      <td>NaN</td>\n",
       "      <td>1.0</td>\n",
       "      <td>Manual</td>\n",
       "      <td>Flex</td>\n",
       "      <td>NaN</td>\n",
       "    </tr>\n",
       "    <tr>\n",
       "      <th>3</th>\n",
       "      <td>https://grupoautonunes.com/estoque/?zero_km=0&amp;...</td>\n",
       "      <td>Chevrolet</td>\n",
       "      <td>Onix</td>\n",
       "      <td>79990.0</td>\n",
       "      <td>57643.0</td>\n",
       "      <td>2022</td>\n",
       "      <td>1.0 TURBO FLEX PLUS LTZ AUTOMÁTICO</td>\n",
       "      <td>NaN</td>\n",
       "      <td>1.0 Turbo</td>\n",
       "      <td>Automatico</td>\n",
       "      <td>Flex</td>\n",
       "      <td>NaN</td>\n",
       "    </tr>\n",
       "    <tr>\n",
       "      <th>4</th>\n",
       "      <td>https://grupoautonunes.com/estoque/?zero_km=0&amp;...</td>\n",
       "      <td>Volkswagen</td>\n",
       "      <td>Saveiro</td>\n",
       "      <td>77990.0</td>\n",
       "      <td>29000.0</td>\n",
       "      <td>2023</td>\n",
       "      <td>1.6 MSI TRENDLINE CS 8V FLEX 2P MANUAL</td>\n",
       "      <td>NaN</td>\n",
       "      <td>1.6</td>\n",
       "      <td>Manual</td>\n",
       "      <td>Flex</td>\n",
       "      <td>NaN</td>\n",
       "    </tr>\n",
       "  </tbody>\n",
       "</table>\n",
       "</div>"
      ],
      "text/plain": [
       "                                                page   car_brand car_name  \\\n",
       "0  https://grupoautonunes.com/estoque/?zero_km=0&...        Fiat     500E   \n",
       "1  https://grupoautonunes.com/estoque/?zero_km=0&...        Audi       Q3   \n",
       "2  https://grupoautonunes.com/estoque/?zero_km=0&...   Chevrolet     Onix   \n",
       "3  https://grupoautonunes.com/estoque/?zero_km=0&...   Chevrolet     Onix   \n",
       "4  https://grupoautonunes.com/estoque/?zero_km=0&...  Volkswagen  Saveiro   \n",
       "\n",
       "   car_price   car_km  car_year                                car_desc  \\\n",
       "0   125990.0   7521.0      2022                           ICON ELÉTRICO   \n",
       "1   128980.0  40000.0      2018      1.4 TFSI AMBIENTE FLEX 4P S TRONIC   \n",
       "2    70990.0  40686.0      2023                      1.0 FLEX LT MANUAL   \n",
       "3    79990.0  57643.0      2022      1.0 TURBO FLEX PLUS LTZ AUTOMÁTICO   \n",
       "4    77990.0  29000.0      2023  1.6 MSI TRENDLINE CS 8V FLEX 2P MANUAL   \n",
       "\n",
       "  car_store car_engine car_gearbox  car_fuel car_color  \n",
       "0       NaN   Elétrico  Automatico  Elétrico       NaN  \n",
       "1       NaN        1.4  Automatico      Flex       NaN  \n",
       "2       NaN        1.0      Manual      Flex       NaN  \n",
       "3       NaN  1.0 Turbo  Automatico      Flex       NaN  \n",
       "4       NaN        1.6      Manual      Flex       NaN  "
      ]
     },
     "execution_count": 181,
     "metadata": {},
     "output_type": "execute_result"
    }
   ],
   "source": [
    "df_cars = pd.read_csv('carscraper\\cars.csv')\n",
    "df_cars.head()"
   ]
  },
  {
   "cell_type": "code",
   "execution_count": 182,
   "metadata": {},
   "outputs": [
    {
     "data": {
      "text/plain": [
       "(1124, 12)"
      ]
     },
     "execution_count": 182,
     "metadata": {},
     "output_type": "execute_result"
    }
   ],
   "source": [
    "df_cars.shape"
   ]
  },
  {
   "cell_type": "code",
   "execution_count": 183,
   "metadata": {},
   "outputs": [
    {
     "data": {
      "text/html": [
       "<div>\n",
       "<style scoped>\n",
       "    .dataframe tbody tr th:only-of-type {\n",
       "        vertical-align: middle;\n",
       "    }\n",
       "\n",
       "    .dataframe tbody tr th {\n",
       "        vertical-align: top;\n",
       "    }\n",
       "\n",
       "    .dataframe thead th {\n",
       "        text-align: right;\n",
       "    }\n",
       "</style>\n",
       "<table border=\"1\" class=\"dataframe\">\n",
       "  <thead>\n",
       "    <tr style=\"text-align: right;\">\n",
       "      <th></th>\n",
       "      <th>car_brand</th>\n",
       "      <th>car_name</th>\n",
       "      <th>car_price</th>\n",
       "      <th>car_km</th>\n",
       "      <th>car_year</th>\n",
       "      <th>car_store</th>\n",
       "      <th>car_engine</th>\n",
       "      <th>car_gearbox</th>\n",
       "      <th>car_fuel</th>\n",
       "      <th>car_color</th>\n",
       "    </tr>\n",
       "  </thead>\n",
       "  <tbody>\n",
       "    <tr>\n",
       "      <th>0</th>\n",
       "      <td>Fiat</td>\n",
       "      <td>500E</td>\n",
       "      <td>125990.0</td>\n",
       "      <td>7521.0</td>\n",
       "      <td>2022</td>\n",
       "      <td>NaN</td>\n",
       "      <td>Elétrico</td>\n",
       "      <td>Automatico</td>\n",
       "      <td>Elétrico</td>\n",
       "      <td>NaN</td>\n",
       "    </tr>\n",
       "    <tr>\n",
       "      <th>1</th>\n",
       "      <td>Audi</td>\n",
       "      <td>Q3</td>\n",
       "      <td>128980.0</td>\n",
       "      <td>40000.0</td>\n",
       "      <td>2018</td>\n",
       "      <td>NaN</td>\n",
       "      <td>1.4</td>\n",
       "      <td>Automatico</td>\n",
       "      <td>Flex</td>\n",
       "      <td>NaN</td>\n",
       "    </tr>\n",
       "    <tr>\n",
       "      <th>2</th>\n",
       "      <td>Chevrolet</td>\n",
       "      <td>Onix</td>\n",
       "      <td>70990.0</td>\n",
       "      <td>40686.0</td>\n",
       "      <td>2023</td>\n",
       "      <td>NaN</td>\n",
       "      <td>1.0</td>\n",
       "      <td>Manual</td>\n",
       "      <td>Flex</td>\n",
       "      <td>NaN</td>\n",
       "    </tr>\n",
       "    <tr>\n",
       "      <th>3</th>\n",
       "      <td>Chevrolet</td>\n",
       "      <td>Onix</td>\n",
       "      <td>79990.0</td>\n",
       "      <td>57643.0</td>\n",
       "      <td>2022</td>\n",
       "      <td>NaN</td>\n",
       "      <td>1.0 Turbo</td>\n",
       "      <td>Automatico</td>\n",
       "      <td>Flex</td>\n",
       "      <td>NaN</td>\n",
       "    </tr>\n",
       "    <tr>\n",
       "      <th>4</th>\n",
       "      <td>Volkswagen</td>\n",
       "      <td>Saveiro</td>\n",
       "      <td>77990.0</td>\n",
       "      <td>29000.0</td>\n",
       "      <td>2023</td>\n",
       "      <td>NaN</td>\n",
       "      <td>1.6</td>\n",
       "      <td>Manual</td>\n",
       "      <td>Flex</td>\n",
       "      <td>NaN</td>\n",
       "    </tr>\n",
       "  </tbody>\n",
       "</table>\n",
       "</div>"
      ],
      "text/plain": [
       "    car_brand car_name  car_price   car_km  car_year car_store car_engine  \\\n",
       "0        Fiat     500E   125990.0   7521.0      2022       NaN   Elétrico   \n",
       "1        Audi       Q3   128980.0  40000.0      2018       NaN        1.4   \n",
       "2   Chevrolet     Onix    70990.0  40686.0      2023       NaN        1.0   \n",
       "3   Chevrolet     Onix    79990.0  57643.0      2022       NaN  1.0 Turbo   \n",
       "4  Volkswagen  Saveiro    77990.0  29000.0      2023       NaN        1.6   \n",
       "\n",
       "  car_gearbox  car_fuel car_color  \n",
       "0  Automatico  Elétrico       NaN  \n",
       "1  Automatico      Flex       NaN  \n",
       "2      Manual      Flex       NaN  \n",
       "3  Automatico      Flex       NaN  \n",
       "4      Manual      Flex       NaN  "
      ]
     },
     "execution_count": 183,
     "metadata": {},
     "output_type": "execute_result"
    }
   ],
   "source": [
    "df_cars.drop(['page', 'car_desc'], axis=1, inplace=True)\n",
    "df_cars.drop_duplicates(inplace=True)\n",
    "\n",
    "df_cars.head()"
   ]
  },
  {
   "cell_type": "code",
   "execution_count": 184,
   "metadata": {},
   "outputs": [
    {
     "data": {
      "text/plain": [
       "car_brand       object\n",
       "car_name        object\n",
       "car_price      float64\n",
       "car_km         float64\n",
       "car_year         int64\n",
       "car_store       object\n",
       "car_engine      object\n",
       "car_gearbox     object\n",
       "car_fuel        object\n",
       "car_color       object\n",
       "dtype: object"
      ]
     },
     "execution_count": 184,
     "metadata": {},
     "output_type": "execute_result"
    }
   ],
   "source": [
    "df_cars.dtypes"
   ]
  },
  {
   "cell_type": "code",
   "execution_count": 185,
   "metadata": {},
   "outputs": [
    {
     "data": {
      "text/plain": [
       "car_brand      category\n",
       "car_name       category\n",
       "car_price       float64\n",
       "car_km          float64\n",
       "car_year          int64\n",
       "car_store      category\n",
       "car_engine     category\n",
       "car_gearbox    category\n",
       "car_fuel       category\n",
       "car_color      category\n",
       "dtype: object"
      ]
     },
     "execution_count": 185,
     "metadata": {},
     "output_type": "execute_result"
    }
   ],
   "source": [
    "df_cars_cat = df_cars.copy()\n",
    "object_columns = df_cars.select_dtypes(['object']).columns\n",
    "df_cars_cat[object_columns] = df_cars[object_columns].astype('category')\n",
    "\n",
    "df_cars_cat.dtypes"
   ]
  },
  {
   "cell_type": "code",
   "execution_count": 186,
   "metadata": {},
   "outputs": [
    {
     "data": {
      "text/plain": [
       "car_brand         0\n",
       "car_name          0\n",
       "car_price         0\n",
       "car_km            0\n",
       "car_year          0\n",
       "car_store      1095\n",
       "car_engine        0\n",
       "car_gearbox       0\n",
       "car_fuel         48\n",
       "car_color       986\n",
       "dtype: int64"
      ]
     },
     "execution_count": 186,
     "metadata": {},
     "output_type": "execute_result"
    }
   ],
   "source": [
    "df_cars_cat.isnull().sum()"
   ]
  },
  {
   "cell_type": "code",
   "execution_count": 187,
   "metadata": {},
   "outputs": [
    {
     "data": {
      "text/plain": [
       "car_brand      1103\n",
       "car_name       1103\n",
       "car_price      1103\n",
       "car_km         1103\n",
       "car_year       1103\n",
       "car_engine     1103\n",
       "car_gearbox    1103\n",
       "car_fuel       1055\n",
       "dtype: int64"
      ]
     },
     "execution_count": 187,
     "metadata": {},
     "output_type": "execute_result"
    }
   ],
   "source": [
    "df_cars_cat.dropna(thresh=0.7*len(df_cars_cat), axis=1, inplace=True)\n",
    "df_cars_cat.count()"
   ]
  },
  {
   "cell_type": "code",
   "execution_count": 188,
   "metadata": {},
   "outputs": [
    {
     "data": {
      "text/html": [
       "<div>\n",
       "<style scoped>\n",
       "    .dataframe tbody tr th:only-of-type {\n",
       "        vertical-align: middle;\n",
       "    }\n",
       "\n",
       "    .dataframe tbody tr th {\n",
       "        vertical-align: top;\n",
       "    }\n",
       "\n",
       "    .dataframe thead th {\n",
       "        text-align: right;\n",
       "    }\n",
       "</style>\n",
       "<table border=\"1\" class=\"dataframe\">\n",
       "  <thead>\n",
       "    <tr style=\"text-align: right;\">\n",
       "      <th></th>\n",
       "      <th>car_brand</th>\n",
       "      <th>car_name</th>\n",
       "      <th>car_price</th>\n",
       "      <th>car_km</th>\n",
       "      <th>car_year</th>\n",
       "      <th>car_engine</th>\n",
       "      <th>car_gearbox</th>\n",
       "      <th>car_fuel</th>\n",
       "    </tr>\n",
       "  </thead>\n",
       "  <tbody>\n",
       "    <tr>\n",
       "      <th>0</th>\n",
       "      <td>8</td>\n",
       "      <td>9</td>\n",
       "      <td>125990.0</td>\n",
       "      <td>7521.0</td>\n",
       "      <td>2022</td>\n",
       "      <td>29</td>\n",
       "      <td>0</td>\n",
       "      <td>1.0</td>\n",
       "    </tr>\n",
       "    <tr>\n",
       "      <th>1</th>\n",
       "      <td>1</td>\n",
       "      <td>108</td>\n",
       "      <td>128980.0</td>\n",
       "      <td>40000.0</td>\n",
       "      <td>2018</td>\n",
       "      <td>6</td>\n",
       "      <td>0</td>\n",
       "      <td>2.0</td>\n",
       "    </tr>\n",
       "    <tr>\n",
       "      <th>2</th>\n",
       "      <td>6</td>\n",
       "      <td>96</td>\n",
       "      <td>70990.0</td>\n",
       "      <td>40686.0</td>\n",
       "      <td>2023</td>\n",
       "      <td>0</td>\n",
       "      <td>1</td>\n",
       "      <td>2.0</td>\n",
       "    </tr>\n",
       "    <tr>\n",
       "      <th>3</th>\n",
       "      <td>6</td>\n",
       "      <td>96</td>\n",
       "      <td>79990.0</td>\n",
       "      <td>57643.0</td>\n",
       "      <td>2022</td>\n",
       "      <td>1</td>\n",
       "      <td>0</td>\n",
       "      <td>2.0</td>\n",
       "    </tr>\n",
       "    <tr>\n",
       "      <th>4</th>\n",
       "      <td>29</td>\n",
       "      <td>122</td>\n",
       "      <td>77990.0</td>\n",
       "      <td>29000.0</td>\n",
       "      <td>2023</td>\n",
       "      <td>10</td>\n",
       "      <td>1</td>\n",
       "      <td>2.0</td>\n",
       "    </tr>\n",
       "  </tbody>\n",
       "</table>\n",
       "</div>"
      ],
      "text/plain": [
       "   car_brand  car_name  car_price   car_km  car_year  car_engine  car_gearbox  \\\n",
       "0          8         9   125990.0   7521.0      2022          29            0   \n",
       "1          1       108   128980.0  40000.0      2018           6            0   \n",
       "2          6        96    70990.0  40686.0      2023           0            1   \n",
       "3          6        96    79990.0  57643.0      2022           1            0   \n",
       "4         29       122    77990.0  29000.0      2023          10            1   \n",
       "\n",
       "   car_fuel  \n",
       "0       1.0  \n",
       "1       2.0  \n",
       "2       2.0  \n",
       "3       2.0  \n",
       "4       2.0  "
      ]
     },
     "execution_count": 188,
     "metadata": {},
     "output_type": "execute_result"
    }
   ],
   "source": [
    "df_cars_codes = df_cars_cat.copy()\n",
    "category_columns = df_cars_cat.select_dtypes(['category']).columns\n",
    "df_cars_codes[category_columns] = df_cars_cat[category_columns].apply(lambda x: x.cat.codes.replace(-1, np.nan))\n",
    "\n",
    "df_cars_codes.head()"
   ]
  },
  {
   "cell_type": "markdown",
   "metadata": {},
   "source": [
    "---"
   ]
  },
  {
   "cell_type": "code",
   "execution_count": 189,
   "metadata": {},
   "outputs": [],
   "source": [
    "# imputer = KNNImputer(n_neighbors=5)\n",
    "# knn_fill = imputer.fit_transform(df_cars_codes)\n",
    "# df_knn_fill = pd.DataFrame(data=knn_fill, columns=[df_cars_codes.columns])\n",
    "\n",
    "# df_knn_fill.head()"
   ]
  },
  {
   "cell_type": "code",
   "execution_count": 190,
   "metadata": {},
   "outputs": [],
   "source": [
    "# df_knn_fill_ee = df_knn_fill.copy()\n",
    "\n",
    "# detector = EllipticEnvelope(contamination=0.01, support_fraction=0.85)\n",
    "# detector.fit(df_knn_fill_ee)"
   ]
  },
  {
   "cell_type": "code",
   "execution_count": 191,
   "metadata": {},
   "outputs": [],
   "source": [
    "# scores = detector.predict(df_knn_fill_ee)\n",
    "# df_knn_fill_ee['outlier'] = scores\n",
    "\n",
    "# df_knn_fill_ee.head()"
   ]
  },
  {
   "cell_type": "code",
   "execution_count": 192,
   "metadata": {},
   "outputs": [],
   "source": [
    "# df_knn_fill_ee = df_knn_fill_ee[df_knn_fill_ee['outlier'] != -1]\n",
    "# df_knn_fill_ee.head()"
   ]
  },
  {
   "cell_type": "markdown",
   "metadata": {},
   "source": [
    "---"
   ]
  },
  {
   "cell_type": "code",
   "execution_count": 193,
   "metadata": {},
   "outputs": [
    {
     "data": {
      "text/plain": [
       "car_brand      0\n",
       "car_name       0\n",
       "car_price      0\n",
       "car_km         0\n",
       "car_year       0\n",
       "car_engine     0\n",
       "car_gearbox    0\n",
       "car_fuel       0\n",
       "dtype: int64"
      ]
     },
     "execution_count": 193,
     "metadata": {},
     "output_type": "execute_result"
    }
   ],
   "source": [
    "df_median_fill = df_cars_codes.copy()\n",
    "\n",
    "df_median_fill['car_fuel'] = df_median_fill['car_fuel'].fillna(df_median_fill['car_fuel'].median())\n",
    "df_median_fill.isnull().sum()"
   ]
  },
  {
   "cell_type": "code",
   "execution_count": 194,
   "metadata": {},
   "outputs": [
    {
     "data": {
      "text/plain": [
       "car_brand      1091\n",
       "car_name       1091\n",
       "car_price      1091\n",
       "car_km         1091\n",
       "car_year       1091\n",
       "car_engine     1091\n",
       "car_gearbox    1091\n",
       "car_fuel       1091\n",
       "dtype: int64"
      ]
     },
     "execution_count": 194,
     "metadata": {},
     "output_type": "execute_result"
    }
   ],
   "source": [
    "df_median_fill_ee = df_median_fill.copy()\n",
    "\n",
    "detector = EllipticEnvelope(contamination=0.01, support_fraction=0.85)\n",
    "detector.fit(df_median_fill_ee)\n",
    "\n",
    "scores = detector.predict(df_median_fill_ee)\n",
    "df_median_fill_ee['outlier'] = scores\n",
    "\n",
    "df_median_fill_ee['outlier'] = df_median_fill_ee['outlier'].astype('int')\n",
    "\n",
    "df_median_fill_ee.head()\n",
    "\n",
    "df_median_fill_ee = df_median_fill_ee[df_median_fill_ee['outlier'] != -1]\n",
    "df_median_fill_ee.drop('outlier', axis=1, inplace=True)\n",
    "df_median_fill_ee.count()"
   ]
  },
  {
   "cell_type": "code",
   "execution_count": 195,
   "metadata": {},
   "outputs": [
    {
     "data": {
      "text/html": [
       "<div>\n",
       "<style scoped>\n",
       "    .dataframe tbody tr th:only-of-type {\n",
       "        vertical-align: middle;\n",
       "    }\n",
       "\n",
       "    .dataframe tbody tr th {\n",
       "        vertical-align: top;\n",
       "    }\n",
       "\n",
       "    .dataframe thead th {\n",
       "        text-align: right;\n",
       "    }\n",
       "</style>\n",
       "<table border=\"1\" class=\"dataframe\">\n",
       "  <thead>\n",
       "    <tr style=\"text-align: right;\">\n",
       "      <th></th>\n",
       "      <th>car_brand</th>\n",
       "      <th>car_name</th>\n",
       "      <th>car_price</th>\n",
       "      <th>car_km</th>\n",
       "      <th>car_year</th>\n",
       "      <th>car_engine</th>\n",
       "      <th>car_gearbox</th>\n",
       "      <th>car_fuel</th>\n",
       "    </tr>\n",
       "  </thead>\n",
       "  <tbody>\n",
       "    <tr>\n",
       "      <th>0</th>\n",
       "      <td>0.266667</td>\n",
       "      <td>0.057325</td>\n",
       "      <td>0.175680</td>\n",
       "      <td>0.011500</td>\n",
       "      <td>0.88</td>\n",
       "      <td>1.000000</td>\n",
       "      <td>0.0</td>\n",
       "      <td>0.2</td>\n",
       "    </tr>\n",
       "    <tr>\n",
       "      <th>1</th>\n",
       "      <td>0.033333</td>\n",
       "      <td>0.687898</td>\n",
       "      <td>0.180880</td>\n",
       "      <td>0.061162</td>\n",
       "      <td>0.72</td>\n",
       "      <td>0.206897</td>\n",
       "      <td>0.0</td>\n",
       "      <td>0.4</td>\n",
       "    </tr>\n",
       "    <tr>\n",
       "      <th>2</th>\n",
       "      <td>0.200000</td>\n",
       "      <td>0.611465</td>\n",
       "      <td>0.080013</td>\n",
       "      <td>0.062211</td>\n",
       "      <td>0.92</td>\n",
       "      <td>0.000000</td>\n",
       "      <td>1.0</td>\n",
       "      <td>0.4</td>\n",
       "    </tr>\n",
       "    <tr>\n",
       "      <th>3</th>\n",
       "      <td>0.200000</td>\n",
       "      <td>0.611465</td>\n",
       "      <td>0.095667</td>\n",
       "      <td>0.088139</td>\n",
       "      <td>0.88</td>\n",
       "      <td>0.034483</td>\n",
       "      <td>0.0</td>\n",
       "      <td>0.4</td>\n",
       "    </tr>\n",
       "    <tr>\n",
       "      <th>4</th>\n",
       "      <td>0.966667</td>\n",
       "      <td>0.777070</td>\n",
       "      <td>0.092188</td>\n",
       "      <td>0.044343</td>\n",
       "      <td>0.92</td>\n",
       "      <td>0.344828</td>\n",
       "      <td>1.0</td>\n",
       "      <td>0.4</td>\n",
       "    </tr>\n",
       "  </tbody>\n",
       "</table>\n",
       "</div>"
      ],
      "text/plain": [
       "   car_brand  car_name  car_price    car_km  car_year  car_engine  \\\n",
       "0   0.266667  0.057325   0.175680  0.011500      0.88    1.000000   \n",
       "1   0.033333  0.687898   0.180880  0.061162      0.72    0.206897   \n",
       "2   0.200000  0.611465   0.080013  0.062211      0.92    0.000000   \n",
       "3   0.200000  0.611465   0.095667  0.088139      0.88    0.034483   \n",
       "4   0.966667  0.777070   0.092188  0.044343      0.92    0.344828   \n",
       "\n",
       "   car_gearbox  car_fuel  \n",
       "0          0.0       0.2  \n",
       "1          0.0       0.4  \n",
       "2          1.0       0.4  \n",
       "3          0.0       0.4  \n",
       "4          1.0       0.4  "
      ]
     },
     "execution_count": 195,
     "metadata": {},
     "output_type": "execute_result"
    }
   ],
   "source": [
    "min_max_scaler = MinMaxScaler()\n",
    "df_knn_fill_norm = min_max_scaler.fit_transform(df_median_fill_ee)\n",
    "df_knn_fill_norm = pd.DataFrame(df_knn_fill_norm, columns=df_median_fill_ee.columns)\n",
    "df_knn_fill_norm.head()"
   ]
  },
  {
   "cell_type": "markdown",
   "metadata": {},
   "source": [
    "---\n",
    "\n",
    "## Modelos de Inferência "
   ]
  },
  {
   "cell_type": "code",
   "execution_count": 196,
   "metadata": {},
   "outputs": [
    {
     "name": "stdout",
     "output_type": "stream",
     "text": [
      "(872, 7) (110, 7) (109, 7)\n",
      "(872,) (110,) (109,)\n"
     ]
    }
   ],
   "source": [
    "X_train, X_test, y_train, y_test = train_test_split(df_knn_fill_norm.drop('car_price', axis=1), df_knn_fill_norm['car_price'], test_size=0.2, random_state=9)\n",
    "X_test, X_val, y_test, y_val = train_test_split(X_test, y_test, test_size=0.5, random_state=9)\n",
    "\n",
    "print(X_train.shape, X_val.shape, X_test.shape)\n",
    "print(y_train.shape, y_val.shape, y_test.shape)"
   ]
  },
  {
   "cell_type": "markdown",
   "metadata": {},
   "source": [
    "---"
   ]
  },
  {
   "cell_type": "markdown",
   "metadata": {},
   "source": [
    "### Linear Regression"
   ]
  },
  {
   "cell_type": "code",
   "execution_count": 197,
   "metadata": {},
   "outputs": [
    {
     "data": {
      "text/plain": [
       "0.5063485534942351"
      ]
     },
     "execution_count": 197,
     "metadata": {},
     "output_type": "execute_result"
    }
   ],
   "source": [
    "lin_reg = LinearRegression()\n",
    "lin_reg.fit(X_train, y_train)\n",
    "lin_reg.score(X_val, y_val)"
   ]
  },
  {
   "cell_type": "code",
   "execution_count": 198,
   "metadata": {},
   "outputs": [],
   "source": [
    "lin_reg_pred = lin_reg.predict(X_test)"
   ]
  },
  {
   "cell_type": "markdown",
   "metadata": {},
   "source": [
    "---"
   ]
  },
  {
   "cell_type": "markdown",
   "metadata": {},
   "source": [
    "### Random Forest Regressor"
   ]
  },
  {
   "cell_type": "code",
   "execution_count": 199,
   "metadata": {},
   "outputs": [
    {
     "data": {
      "text/plain": [
       "0.6994450151691001"
      ]
     },
     "execution_count": 199,
     "metadata": {},
     "output_type": "execute_result"
    }
   ],
   "source": [
    "rf_reg = RandomForestRegressor(n_estimators=100, criterion='squared_error', min_samples_split=2, random_state=9)\n",
    "rf_reg.fit(X_train, y_train)\n",
    "rf_reg.score(X_val, y_val)"
   ]
  },
  {
   "cell_type": "code",
   "execution_count": 200,
   "metadata": {},
   "outputs": [],
   "source": [
    "rf_reg_pred = rf_reg.predict(X_test)"
   ]
  },
  {
   "cell_type": "markdown",
   "metadata": {},
   "source": [
    "---"
   ]
  },
  {
   "cell_type": "markdown",
   "metadata": {},
   "source": [
    "### Gradient Boosting Regressor"
   ]
  },
  {
   "cell_type": "code",
   "execution_count": 201,
   "metadata": {},
   "outputs": [
    {
     "data": {
      "text/plain": [
       "0.8066778883652442"
      ]
     },
     "execution_count": 201,
     "metadata": {},
     "output_type": "execute_result"
    }
   ],
   "source": [
    "gb_reg = GradientBoostingRegressor(loss='squared_error', n_estimators=100, random_state=9)\n",
    "gb_reg.fit(X_train, y_train)\n",
    "gb_reg.score(X_val, y_val)"
   ]
  },
  {
   "cell_type": "code",
   "execution_count": 202,
   "metadata": {},
   "outputs": [],
   "source": [
    "gb_reg_pred = gb_reg.predict(X_test)"
   ]
  },
  {
   "cell_type": "markdown",
   "metadata": {},
   "source": [
    "---"
   ]
  },
  {
   "cell_type": "markdown",
   "metadata": {},
   "source": [
    "### Artificial Neural Network"
   ]
  },
  {
   "cell_type": "code",
   "execution_count": 203,
   "metadata": {},
   "outputs": [
    {
     "data": {
      "text/html": [
       "<pre style=\"white-space:pre;overflow-x:auto;line-height:normal;font-family:Menlo,'DejaVu Sans Mono',consolas,'Courier New',monospace\"><span style=\"font-weight: bold\">Model: \"sequential_2\"</span>\n",
       "</pre>\n"
      ],
      "text/plain": [
       "\u001b[1mModel: \"sequential_2\"\u001b[0m\n"
      ]
     },
     "metadata": {},
     "output_type": "display_data"
    },
    {
     "data": {
      "text/html": [
       "<pre style=\"white-space:pre;overflow-x:auto;line-height:normal;font-family:Menlo,'DejaVu Sans Mono',consolas,'Courier New',monospace\">┏━━━━━━━━━━━━━━━━━━━━━━━━━━━━━━━━━┳━━━━━━━━━━━━━━━━━━━━━━━━┳━━━━━━━━━━━━━━━┓\n",
       "┃<span style=\"font-weight: bold\"> Layer (type)                    </span>┃<span style=\"font-weight: bold\"> Output Shape           </span>┃<span style=\"font-weight: bold\">       Param # </span>┃\n",
       "┡━━━━━━━━━━━━━━━━━━━━━━━━━━━━━━━━━╇━━━━━━━━━━━━━━━━━━━━━━━━╇━━━━━━━━━━━━━━━┩\n",
       "│ dense_8 (<span style=\"color: #0087ff; text-decoration-color: #0087ff\">Dense</span>)                 │ (<span style=\"color: #00d7ff; text-decoration-color: #00d7ff\">None</span>, <span style=\"color: #00af00; text-decoration-color: #00af00\">16</span>)             │           <span style=\"color: #00af00; text-decoration-color: #00af00\">128</span> │\n",
       "├─────────────────────────────────┼────────────────────────┼───────────────┤\n",
       "│ dense_9 (<span style=\"color: #0087ff; text-decoration-color: #0087ff\">Dense</span>)                 │ (<span style=\"color: #00d7ff; text-decoration-color: #00d7ff\">None</span>, <span style=\"color: #00af00; text-decoration-color: #00af00\">32</span>)             │           <span style=\"color: #00af00; text-decoration-color: #00af00\">544</span> │\n",
       "├─────────────────────────────────┼────────────────────────┼───────────────┤\n",
       "│ dense_10 (<span style=\"color: #0087ff; text-decoration-color: #0087ff\">Dense</span>)                │ (<span style=\"color: #00d7ff; text-decoration-color: #00d7ff\">None</span>, <span style=\"color: #00af00; text-decoration-color: #00af00\">16</span>)             │           <span style=\"color: #00af00; text-decoration-color: #00af00\">528</span> │\n",
       "├─────────────────────────────────┼────────────────────────┼───────────────┤\n",
       "│ dense_11 (<span style=\"color: #0087ff; text-decoration-color: #0087ff\">Dense</span>)                │ (<span style=\"color: #00d7ff; text-decoration-color: #00d7ff\">None</span>, <span style=\"color: #00af00; text-decoration-color: #00af00\">1</span>)              │            <span style=\"color: #00af00; text-decoration-color: #00af00\">17</span> │\n",
       "└─────────────────────────────────┴────────────────────────┴───────────────┘\n",
       "</pre>\n"
      ],
      "text/plain": [
       "┏━━━━━━━━━━━━━━━━━━━━━━━━━━━━━━━━━┳━━━━━━━━━━━━━━━━━━━━━━━━┳━━━━━━━━━━━━━━━┓\n",
       "┃\u001b[1m \u001b[0m\u001b[1mLayer (type)                   \u001b[0m\u001b[1m \u001b[0m┃\u001b[1m \u001b[0m\u001b[1mOutput Shape          \u001b[0m\u001b[1m \u001b[0m┃\u001b[1m \u001b[0m\u001b[1m      Param #\u001b[0m\u001b[1m \u001b[0m┃\n",
       "┡━━━━━━━━━━━━━━━━━━━━━━━━━━━━━━━━━╇━━━━━━━━━━━━━━━━━━━━━━━━╇━━━━━━━━━━━━━━━┩\n",
       "│ dense_8 (\u001b[38;5;33mDense\u001b[0m)                 │ (\u001b[38;5;45mNone\u001b[0m, \u001b[38;5;34m16\u001b[0m)             │           \u001b[38;5;34m128\u001b[0m │\n",
       "├─────────────────────────────────┼────────────────────────┼───────────────┤\n",
       "│ dense_9 (\u001b[38;5;33mDense\u001b[0m)                 │ (\u001b[38;5;45mNone\u001b[0m, \u001b[38;5;34m32\u001b[0m)             │           \u001b[38;5;34m544\u001b[0m │\n",
       "├─────────────────────────────────┼────────────────────────┼───────────────┤\n",
       "│ dense_10 (\u001b[38;5;33mDense\u001b[0m)                │ (\u001b[38;5;45mNone\u001b[0m, \u001b[38;5;34m16\u001b[0m)             │           \u001b[38;5;34m528\u001b[0m │\n",
       "├─────────────────────────────────┼────────────────────────┼───────────────┤\n",
       "│ dense_11 (\u001b[38;5;33mDense\u001b[0m)                │ (\u001b[38;5;45mNone\u001b[0m, \u001b[38;5;34m1\u001b[0m)              │            \u001b[38;5;34m17\u001b[0m │\n",
       "└─────────────────────────────────┴────────────────────────┴───────────────┘\n"
      ]
     },
     "metadata": {},
     "output_type": "display_data"
    },
    {
     "data": {
      "text/html": [
       "<pre style=\"white-space:pre;overflow-x:auto;line-height:normal;font-family:Menlo,'DejaVu Sans Mono',consolas,'Courier New',monospace\"><span style=\"font-weight: bold\"> Total params: </span><span style=\"color: #00af00; text-decoration-color: #00af00\">1,217</span> (4.75 KB)\n",
       "</pre>\n"
      ],
      "text/plain": [
       "\u001b[1m Total params: \u001b[0m\u001b[38;5;34m1,217\u001b[0m (4.75 KB)\n"
      ]
     },
     "metadata": {},
     "output_type": "display_data"
    },
    {
     "data": {
      "text/html": [
       "<pre style=\"white-space:pre;overflow-x:auto;line-height:normal;font-family:Menlo,'DejaVu Sans Mono',consolas,'Courier New',monospace\"><span style=\"font-weight: bold\"> Trainable params: </span><span style=\"color: #00af00; text-decoration-color: #00af00\">1,217</span> (4.75 KB)\n",
       "</pre>\n"
      ],
      "text/plain": [
       "\u001b[1m Trainable params: \u001b[0m\u001b[38;5;34m1,217\u001b[0m (4.75 KB)\n"
      ]
     },
     "metadata": {},
     "output_type": "display_data"
    },
    {
     "data": {
      "text/html": [
       "<pre style=\"white-space:pre;overflow-x:auto;line-height:normal;font-family:Menlo,'DejaVu Sans Mono',consolas,'Courier New',monospace\"><span style=\"font-weight: bold\"> Non-trainable params: </span><span style=\"color: #00af00; text-decoration-color: #00af00\">0</span> (0.00 B)\n",
       "</pre>\n"
      ],
      "text/plain": [
       "\u001b[1m Non-trainable params: \u001b[0m\u001b[38;5;34m0\u001b[0m (0.00 B)\n"
      ]
     },
     "metadata": {},
     "output_type": "display_data"
    }
   ],
   "source": [
    "nn_reg = tf.keras.Sequential([\n",
    "    keras.Input(shape=(X_train.shape[1],)),\n",
    "    layers.Dense(16, activation='relu'),\n",
    "    layers.Dense(32, activation='relu'),\n",
    "    layers.Dense(16, activation='relu'),\n",
    "    layers.Dense(1),\n",
    "])\n",
    "\n",
    "optimizer = tf.keras.optimizers.Adam(0.001)\n",
    "nn_reg.compile(loss='mse', optimizer=optimizer, metrics=['mae', 'r2_score'])\n",
    "\n",
    "nn_reg.summary()"
   ]
  },
  {
   "cell_type": "code",
   "execution_count": 204,
   "metadata": {},
   "outputs": [
    {
     "name": "stdout",
     "output_type": "stream",
     "text": [
      "Epoch 1/100\n",
      "\u001b[1m28/28\u001b[0m \u001b[32m━━━━━━━━━━━━━━━━━━━━\u001b[0m\u001b[37m\u001b[0m \u001b[1m1s\u001b[0m 8ms/step - loss: 0.0264 - mae: 0.0882 - r2_score: -0.0590 - val_loss: 0.0124 - val_mae: 0.0619 - val_r2_score: 0.3162\n",
      "Epoch 2/100\n",
      "\u001b[1m28/28\u001b[0m \u001b[32m━━━━━━━━━━━━━━━━━━━━\u001b[0m\u001b[37m\u001b[0m \u001b[1m0s\u001b[0m 2ms/step - loss: 0.0165 - mae: 0.0682 - r2_score: 0.3256 - val_loss: 0.0116 - val_mae: 0.0550 - val_r2_score: 0.3583\n",
      "Epoch 3/100\n",
      "\u001b[1m28/28\u001b[0m \u001b[32m━━━━━━━━━━━━━━━━━━━━\u001b[0m\u001b[37m\u001b[0m \u001b[1m0s\u001b[0m 2ms/step - loss: 0.0159 - mae: 0.0631 - r2_score: 0.3525 - val_loss: 0.0112 - val_mae: 0.0542 - val_r2_score: 0.3805\n",
      "Epoch 4/100\n",
      "\u001b[1m28/28\u001b[0m \u001b[32m━━━━━━━━━━━━━━━━━━━━\u001b[0m\u001b[37m\u001b[0m \u001b[1m0s\u001b[0m 2ms/step - loss: 0.0153 - mae: 0.0625 - r2_score: 0.3766 - val_loss: 0.0107 - val_mae: 0.0532 - val_r2_score: 0.4088\n",
      "Epoch 5/100\n",
      "\u001b[1m28/28\u001b[0m \u001b[32m━━━━━━━━━━━━━━━━━━━━\u001b[0m\u001b[37m\u001b[0m \u001b[1m0s\u001b[0m 2ms/step - loss: 0.0148 - mae: 0.0614 - r2_score: 0.3965 - val_loss: 0.0101 - val_mae: 0.0520 - val_r2_score: 0.4420\n",
      "Epoch 6/100\n",
      "\u001b[1m28/28\u001b[0m \u001b[32m━━━━━━━━━━━━━━━━━━━━\u001b[0m\u001b[37m\u001b[0m \u001b[1m0s\u001b[0m 2ms/step - loss: 0.0143 - mae: 0.0605 - r2_score: 0.4183 - val_loss: 0.0097 - val_mae: 0.0515 - val_r2_score: 0.4662\n",
      "Epoch 7/100\n",
      "\u001b[1m28/28\u001b[0m \u001b[32m━━━━━━━━━━━━━━━━━━━━\u001b[0m\u001b[37m\u001b[0m \u001b[1m0s\u001b[0m 2ms/step - loss: 0.0138 - mae: 0.0600 - r2_score: 0.4367 - val_loss: 0.0092 - val_mae: 0.0503 - val_r2_score: 0.4937\n",
      "Epoch 8/100\n",
      "\u001b[1m28/28\u001b[0m \u001b[32m━━━━━━━━━━━━━━━━━━━━\u001b[0m\u001b[37m\u001b[0m \u001b[1m0s\u001b[0m 2ms/step - loss: 0.0133 - mae: 0.0598 - r2_score: 0.4576 - val_loss: 0.0088 - val_mae: 0.0497 - val_r2_score: 0.5144\n",
      "Epoch 9/100\n",
      "\u001b[1m28/28\u001b[0m \u001b[32m━━━━━━━━━━━━━━━━━━━━\u001b[0m\u001b[37m\u001b[0m \u001b[1m0s\u001b[0m 2ms/step - loss: 0.0128 - mae: 0.0594 - r2_score: 0.4798 - val_loss: 0.0083 - val_mae: 0.0486 - val_r2_score: 0.5423\n",
      "Epoch 10/100\n",
      "\u001b[1m28/28\u001b[0m \u001b[32m━━━━━━━━━━━━━━━━━━━━\u001b[0m\u001b[37m\u001b[0m \u001b[1m0s\u001b[0m 2ms/step - loss: 0.0122 - mae: 0.0585 - r2_score: 0.5021 - val_loss: 0.0080 - val_mae: 0.0487 - val_r2_score: 0.5601\n",
      "Epoch 11/100\n",
      "\u001b[1m28/28\u001b[0m \u001b[32m━━━━━━━━━━━━━━━━━━━━\u001b[0m\u001b[37m\u001b[0m \u001b[1m0s\u001b[0m 2ms/step - loss: 0.0117 - mae: 0.0579 - r2_score: 0.5213 - val_loss: 0.0077 - val_mae: 0.0487 - val_r2_score: 0.5750\n",
      "Epoch 12/100\n",
      "\u001b[1m28/28\u001b[0m \u001b[32m━━━━━━━━━━━━━━━━━━━━\u001b[0m\u001b[37m\u001b[0m \u001b[1m0s\u001b[0m 2ms/step - loss: 0.0113 - mae: 0.0573 - r2_score: 0.5373 - val_loss: 0.0075 - val_mae: 0.0489 - val_r2_score: 0.5875\n",
      "Epoch 13/100\n",
      "\u001b[1m28/28\u001b[0m \u001b[32m━━━━━━━━━━━━━━━━━━━━\u001b[0m\u001b[37m\u001b[0m \u001b[1m0s\u001b[0m 2ms/step - loss: 0.0110 - mae: 0.0569 - r2_score: 0.5517 - val_loss: 0.0073 - val_mae: 0.0486 - val_r2_score: 0.5992\n",
      "Epoch 14/100\n",
      "\u001b[1m28/28\u001b[0m \u001b[32m━━━━━━━━━━━━━━━━━━━━\u001b[0m\u001b[37m\u001b[0m \u001b[1m0s\u001b[0m 2ms/step - loss: 0.0107 - mae: 0.0564 - r2_score: 0.5648 - val_loss: 0.0071 - val_mae: 0.0480 - val_r2_score: 0.6114\n",
      "Epoch 15/100\n",
      "\u001b[1m28/28\u001b[0m \u001b[32m━━━━━━━━━━━━━━━━━━━━\u001b[0m\u001b[37m\u001b[0m \u001b[1m0s\u001b[0m 2ms/step - loss: 0.0103 - mae: 0.0556 - r2_score: 0.5769 - val_loss: 0.0069 - val_mae: 0.0481 - val_r2_score: 0.6190\n",
      "Epoch 16/100\n",
      "\u001b[1m28/28\u001b[0m \u001b[32m━━━━━━━━━━━━━━━━━━━━\u001b[0m\u001b[37m\u001b[0m \u001b[1m0s\u001b[0m 2ms/step - loss: 0.0101 - mae: 0.0553 - r2_score: 0.5885 - val_loss: 0.0068 - val_mae: 0.0493 - val_r2_score: 0.6259\n",
      "Epoch 17/100\n",
      "\u001b[1m28/28\u001b[0m \u001b[32m━━━━━━━━━━━━━━━━━━━━\u001b[0m\u001b[37m\u001b[0m \u001b[1m0s\u001b[0m 2ms/step - loss: 0.0098 - mae: 0.0554 - r2_score: 0.5978 - val_loss: 0.0066 - val_mae: 0.0491 - val_r2_score: 0.6374\n",
      "Epoch 18/100\n",
      "\u001b[1m28/28\u001b[0m \u001b[32m━━━━━━━━━━━━━━━━━━━━\u001b[0m\u001b[37m\u001b[0m \u001b[1m0s\u001b[0m 2ms/step - loss: 0.0095 - mae: 0.0544 - r2_score: 0.6092 - val_loss: 0.0064 - val_mae: 0.0480 - val_r2_score: 0.6462\n",
      "Epoch 19/100\n",
      "\u001b[1m28/28\u001b[0m \u001b[32m━━━━━━━━━━━━━━━━━━━━\u001b[0m\u001b[37m\u001b[0m \u001b[1m0s\u001b[0m 2ms/step - loss: 0.0094 - mae: 0.0538 - r2_score: 0.6167 - val_loss: 0.0062 - val_mae: 0.0479 - val_r2_score: 0.6571\n",
      "Epoch 20/100\n",
      "\u001b[1m28/28\u001b[0m \u001b[32m━━━━━━━━━━━━━━━━━━━━\u001b[0m\u001b[37m\u001b[0m \u001b[1m0s\u001b[0m 2ms/step - loss: 0.0091 - mae: 0.0536 - r2_score: 0.6262 - val_loss: 0.0061 - val_mae: 0.0486 - val_r2_score: 0.6619\n",
      "Epoch 21/100\n",
      "\u001b[1m28/28\u001b[0m \u001b[32m━━━━━━━━━━━━━━━━━━━━\u001b[0m\u001b[37m\u001b[0m \u001b[1m0s\u001b[0m 2ms/step - loss: 0.0089 - mae: 0.0531 - r2_score: 0.6341 - val_loss: 0.0060 - val_mae: 0.0475 - val_r2_score: 0.6710\n",
      "Epoch 22/100\n",
      "\u001b[1m28/28\u001b[0m \u001b[32m━━━━━━━━━━━━━━━━━━━━\u001b[0m\u001b[37m\u001b[0m \u001b[1m0s\u001b[0m 2ms/step - loss: 0.0087 - mae: 0.0526 - r2_score: 0.6422 - val_loss: 0.0059 - val_mae: 0.0476 - val_r2_score: 0.6754\n",
      "Epoch 23/100\n",
      "\u001b[1m28/28\u001b[0m \u001b[32m━━━━━━━━━━━━━━━━━━━━\u001b[0m\u001b[37m\u001b[0m \u001b[1m0s\u001b[0m 2ms/step - loss: 0.0085 - mae: 0.0520 - r2_score: 0.6498 - val_loss: 0.0058 - val_mae: 0.0473 - val_r2_score: 0.6798\n",
      "Epoch 24/100\n",
      "\u001b[1m28/28\u001b[0m \u001b[32m━━━━━━━━━━━━━━━━━━━━\u001b[0m\u001b[37m\u001b[0m \u001b[1m0s\u001b[0m 2ms/step - loss: 0.0083 - mae: 0.0516 - r2_score: 0.6589 - val_loss: 0.0058 - val_mae: 0.0472 - val_r2_score: 0.6814\n",
      "Epoch 25/100\n",
      "\u001b[1m28/28\u001b[0m \u001b[32m━━━━━━━━━━━━━━━━━━━━\u001b[0m\u001b[37m\u001b[0m \u001b[1m0s\u001b[0m 2ms/step - loss: 0.0081 - mae: 0.0509 - r2_score: 0.6640 - val_loss: 0.0057 - val_mae: 0.0473 - val_r2_score: 0.6875\n",
      "Epoch 26/100\n",
      "\u001b[1m28/28\u001b[0m \u001b[32m━━━━━━━━━━━━━━━━━━━━\u001b[0m\u001b[37m\u001b[0m \u001b[1m0s\u001b[0m 2ms/step - loss: 0.0080 - mae: 0.0509 - r2_score: 0.6708 - val_loss: 0.0056 - val_mae: 0.0470 - val_r2_score: 0.6891\n",
      "Epoch 27/100\n",
      "\u001b[1m28/28\u001b[0m \u001b[32m━━━━━━━━━━━━━━━━━━━━\u001b[0m\u001b[37m\u001b[0m \u001b[1m0s\u001b[0m 2ms/step - loss: 0.0078 - mae: 0.0502 - r2_score: 0.6766 - val_loss: 0.0056 - val_mae: 0.0472 - val_r2_score: 0.6896\n",
      "Epoch 28/100\n",
      "\u001b[1m28/28\u001b[0m \u001b[32m━━━━━━━━━━━━━━━━━━━━\u001b[0m\u001b[37m\u001b[0m \u001b[1m0s\u001b[0m 2ms/step - loss: 0.0077 - mae: 0.0503 - r2_score: 0.6799 - val_loss: 0.0056 - val_mae: 0.0475 - val_r2_score: 0.6911\n",
      "Epoch 29/100\n",
      "\u001b[1m28/28\u001b[0m \u001b[32m━━━━━━━━━━━━━━━━━━━━\u001b[0m\u001b[37m\u001b[0m \u001b[1m0s\u001b[0m 2ms/step - loss: 0.0076 - mae: 0.0499 - r2_score: 0.6862 - val_loss: 0.0056 - val_mae: 0.0468 - val_r2_score: 0.6941\n",
      "Epoch 30/100\n",
      "\u001b[1m28/28\u001b[0m \u001b[32m━━━━━━━━━━━━━━━━━━━━\u001b[0m\u001b[37m\u001b[0m \u001b[1m0s\u001b[0m 2ms/step - loss: 0.0075 - mae: 0.0496 - r2_score: 0.6883 - val_loss: 0.0055 - val_mae: 0.0469 - val_r2_score: 0.6942\n",
      "Epoch 31/100\n",
      "\u001b[1m28/28\u001b[0m \u001b[32m━━━━━━━━━━━━━━━━━━━━\u001b[0m\u001b[37m\u001b[0m \u001b[1m0s\u001b[0m 2ms/step - loss: 0.0074 - mae: 0.0495 - r2_score: 0.6936 - val_loss: 0.0055 - val_mae: 0.0466 - val_r2_score: 0.6979\n",
      "Epoch 32/100\n",
      "\u001b[1m28/28\u001b[0m \u001b[32m━━━━━━━━━━━━━━━━━━━━\u001b[0m\u001b[37m\u001b[0m \u001b[1m0s\u001b[0m 2ms/step - loss: 0.0073 - mae: 0.0493 - r2_score: 0.6965 - val_loss: 0.0056 - val_mae: 0.0473 - val_r2_score: 0.6935\n",
      "Epoch 33/100\n",
      "\u001b[1m28/28\u001b[0m \u001b[32m━━━━━━━━━━━━━━━━━━━━\u001b[0m\u001b[37m\u001b[0m \u001b[1m0s\u001b[0m 2ms/step - loss: 0.0072 - mae: 0.0492 - r2_score: 0.6997 - val_loss: 0.0055 - val_mae: 0.0467 - val_r2_score: 0.6985\n",
      "Epoch 34/100\n",
      "\u001b[1m28/28\u001b[0m \u001b[32m━━━━━━━━━━━━━━━━━━━━\u001b[0m\u001b[37m\u001b[0m \u001b[1m0s\u001b[0m 2ms/step - loss: 0.0071 - mae: 0.0487 - r2_score: 0.7047 - val_loss: 0.0055 - val_mae: 0.0468 - val_r2_score: 0.6971\n",
      "Epoch 35/100\n",
      "\u001b[1m28/28\u001b[0m \u001b[32m━━━━━━━━━━━━━━━━━━━━\u001b[0m\u001b[37m\u001b[0m \u001b[1m0s\u001b[0m 2ms/step - loss: 0.0071 - mae: 0.0492 - r2_score: 0.7059 - val_loss: 0.0055 - val_mae: 0.0465 - val_r2_score: 0.6969\n",
      "Epoch 36/100\n",
      "\u001b[1m28/28\u001b[0m \u001b[32m━━━━━━━━━━━━━━━━━━━━\u001b[0m\u001b[37m\u001b[0m \u001b[1m0s\u001b[0m 2ms/step - loss: 0.0070 - mae: 0.0490 - r2_score: 0.7096 - val_loss: 0.0054 - val_mae: 0.0455 - val_r2_score: 0.7003\n",
      "Epoch 37/100\n",
      "\u001b[1m28/28\u001b[0m \u001b[32m━━━━━━━━━━━━━━━━━━━━\u001b[0m\u001b[37m\u001b[0m \u001b[1m0s\u001b[0m 2ms/step - loss: 0.0069 - mae: 0.0488 - r2_score: 0.7117 - val_loss: 0.0055 - val_mae: 0.0450 - val_r2_score: 0.6997\n",
      "Epoch 38/100\n",
      "\u001b[1m28/28\u001b[0m \u001b[32m━━━━━━━━━━━━━━━━━━━━\u001b[0m\u001b[37m\u001b[0m \u001b[1m0s\u001b[0m 2ms/step - loss: 0.0069 - mae: 0.0487 - r2_score: 0.7127 - val_loss: 0.0054 - val_mae: 0.0444 - val_r2_score: 0.7041\n",
      "Epoch 39/100\n",
      "\u001b[1m28/28\u001b[0m \u001b[32m━━━━━━━━━━━━━━━━━━━━\u001b[0m\u001b[37m\u001b[0m \u001b[1m0s\u001b[0m 2ms/step - loss: 0.0068 - mae: 0.0487 - r2_score: 0.7153 - val_loss: 0.0053 - val_mae: 0.0436 - val_r2_score: 0.7066\n",
      "Epoch 40/100\n",
      "\u001b[1m28/28\u001b[0m \u001b[32m━━━━━━━━━━━━━━━━━━━━\u001b[0m\u001b[37m\u001b[0m \u001b[1m0s\u001b[0m 2ms/step - loss: 0.0068 - mae: 0.0489 - r2_score: 0.7147 - val_loss: 0.0053 - val_mae: 0.0432 - val_r2_score: 0.7066\n",
      "Epoch 41/100\n",
      "\u001b[1m28/28\u001b[0m \u001b[32m━━━━━━━━━━━━━━━━━━━━\u001b[0m\u001b[37m\u001b[0m \u001b[1m0s\u001b[0m 2ms/step - loss: 0.0068 - mae: 0.0490 - r2_score: 0.7147 - val_loss: 0.0054 - val_mae: 0.0419 - val_r2_score: 0.7045\n",
      "Epoch 42/100\n",
      "\u001b[1m28/28\u001b[0m \u001b[32m━━━━━━━━━━━━━━━━━━━━\u001b[0m\u001b[37m\u001b[0m \u001b[1m0s\u001b[0m 2ms/step - loss: 0.0068 - mae: 0.0488 - r2_score: 0.7146 - val_loss: 0.0054 - val_mae: 0.0405 - val_r2_score: 0.7022\n",
      "Epoch 43/100\n",
      "\u001b[1m28/28\u001b[0m \u001b[32m━━━━━━━━━━━━━━━━━━━━\u001b[0m\u001b[37m\u001b[0m \u001b[1m0s\u001b[0m 2ms/step - loss: 0.0069 - mae: 0.0484 - r2_score: 0.7128 - val_loss: 0.0054 - val_mae: 0.0397 - val_r2_score: 0.7013\n",
      "Epoch 44/100\n",
      "\u001b[1m28/28\u001b[0m \u001b[32m━━━━━━━━━━━━━━━━━━━━\u001b[0m\u001b[37m\u001b[0m \u001b[1m0s\u001b[0m 2ms/step - loss: 0.0069 - mae: 0.0486 - r2_score: 0.7088 - val_loss: 0.0055 - val_mae: 0.0392 - val_r2_score: 0.6966\n",
      "Epoch 45/100\n",
      "\u001b[1m28/28\u001b[0m \u001b[32m━━━━━━━━━━━━━━━━━━━━\u001b[0m\u001b[37m\u001b[0m \u001b[1m0s\u001b[0m 2ms/step - loss: 0.0070 - mae: 0.0488 - r2_score: 0.7049 - val_loss: 0.0059 - val_mae: 0.0398 - val_r2_score: 0.6756\n"
     ]
    },
    {
     "data": {
      "text/plain": [
       "<keras.src.callbacks.history.History at 0x23b022a7910>"
      ]
     },
     "execution_count": 204,
     "metadata": {},
     "output_type": "execute_result"
    }
   ],
   "source": [
    "early_stop = keras.callbacks.EarlyStopping(monitor='val_loss', patience=5, restore_best_weights=True)\n",
    "\n",
    "nn_reg.fit(X_train, y_train, epochs=100, validation_data=(X_val, y_val), callbacks=[early_stop])"
   ]
  },
  {
   "cell_type": "code",
   "execution_count": 205,
   "metadata": {},
   "outputs": [
    {
     "name": "stdout",
     "output_type": "stream",
     "text": [
      "\u001b[1m4/4\u001b[0m \u001b[32m━━━━━━━━━━━━━━━━━━━━\u001b[0m\u001b[37m\u001b[0m \u001b[1m0s\u001b[0m 1ms/step - loss: 0.0030 - mae: 0.0361 - r2_score: 0.8046 \n"
     ]
    },
    {
     "data": {
      "text/plain": [
       "[0.004316628444939852, 0.03915241360664368, 0.7429929971694946]"
      ]
     },
     "execution_count": 205,
     "metadata": {},
     "output_type": "execute_result"
    }
   ],
   "source": [
    "nn_reg.evaluate(X_test, y_test)"
   ]
  },
  {
   "cell_type": "code",
   "execution_count": 206,
   "metadata": {},
   "outputs": [
    {
     "name": "stdout",
     "output_type": "stream",
     "text": [
      "\u001b[1m4/4\u001b[0m \u001b[32m━━━━━━━━━━━━━━━━━━━━\u001b[0m\u001b[37m\u001b[0m \u001b[1m0s\u001b[0m 10ms/step\n"
     ]
    }
   ],
   "source": [
    "nn_reg_pred = nn_reg.predict(X_test)"
   ]
  },
  {
   "cell_type": "markdown",
   "metadata": {},
   "source": [
    "---"
   ]
  },
  {
   "cell_type": "markdown",
   "metadata": {},
   "source": [
    "## Avaliação e Comparações"
   ]
  },
  {
   "cell_type": "code",
   "execution_count": 216,
   "metadata": {},
   "outputs": [
    {
     "data": {
      "text/html": [
       "<div>\n",
       "<style scoped>\n",
       "    .dataframe tbody tr th:only-of-type {\n",
       "        vertical-align: middle;\n",
       "    }\n",
       "\n",
       "    .dataframe tbody tr th {\n",
       "        vertical-align: top;\n",
       "    }\n",
       "\n",
       "    .dataframe thead th {\n",
       "        text-align: right;\n",
       "    }\n",
       "</style>\n",
       "<table border=\"1\" class=\"dataframe\">\n",
       "  <thead>\n",
       "    <tr style=\"text-align: right;\">\n",
       "      <th></th>\n",
       "      <th>car_brand</th>\n",
       "      <th>car_name</th>\n",
       "      <th>car_km</th>\n",
       "      <th>car_year</th>\n",
       "      <th>car_engine</th>\n",
       "      <th>car_gearbox</th>\n",
       "      <th>car_fuel</th>\n",
       "      <th>lin_reg_pred</th>\n",
       "      <th>rf_reg_pred</th>\n",
       "      <th>gb_reg_pred</th>\n",
       "      <th>nn_reg_pred</th>\n",
       "      <th>car_price</th>\n",
       "    </tr>\n",
       "  </thead>\n",
       "  <tbody>\n",
       "    <tr>\n",
       "      <th>964</th>\n",
       "      <td>0.200000</td>\n",
       "      <td>0.668790</td>\n",
       "      <td>0.0</td>\n",
       "      <td>0.76</td>\n",
       "      <td>0.206897</td>\n",
       "      <td>0.0</td>\n",
       "      <td>0.4</td>\n",
       "      <td>0.002104</td>\n",
       "      <td>0.050492</td>\n",
       "      <td>0.050388</td>\n",
       "      <td>0.077348</td>\n",
       "      <td>0.064201</td>\n",
       "    </tr>\n",
       "    <tr>\n",
       "      <th>951</th>\n",
       "      <td>0.433333</td>\n",
       "      <td>0.719745</td>\n",
       "      <td>0.0</td>\n",
       "      <td>0.96</td>\n",
       "      <td>0.172414</td>\n",
       "      <td>0.0</td>\n",
       "      <td>0.4</td>\n",
       "      <td>0.155072</td>\n",
       "      <td>0.241463</td>\n",
       "      <td>0.199692</td>\n",
       "      <td>0.158229</td>\n",
       "      <td>0.182481</td>\n",
       "    </tr>\n",
       "    <tr>\n",
       "      <th>985</th>\n",
       "      <td>1.000000</td>\n",
       "      <td>0.980892</td>\n",
       "      <td>0.0</td>\n",
       "      <td>0.88</td>\n",
       "      <td>0.448276</td>\n",
       "      <td>0.0</td>\n",
       "      <td>1.0</td>\n",
       "      <td>0.100765</td>\n",
       "      <td>0.036306</td>\n",
       "      <td>0.035778</td>\n",
       "      <td>0.072598</td>\n",
       "      <td>0.634812</td>\n",
       "    </tr>\n",
       "    <tr>\n",
       "      <th>708</th>\n",
       "      <td>0.266667</td>\n",
       "      <td>0.885350</td>\n",
       "      <td>0.0</td>\n",
       "      <td>0.84</td>\n",
       "      <td>0.413793</td>\n",
       "      <td>0.0</td>\n",
       "      <td>0.4</td>\n",
       "      <td>0.154451</td>\n",
       "      <td>0.072187</td>\n",
       "      <td>0.075732</td>\n",
       "      <td>0.097398</td>\n",
       "      <td>0.130299</td>\n",
       "    </tr>\n",
       "    <tr>\n",
       "      <th>655</th>\n",
       "      <td>0.800000</td>\n",
       "      <td>0.528662</td>\n",
       "      <td>0.0</td>\n",
       "      <td>0.80</td>\n",
       "      <td>0.000000</td>\n",
       "      <td>1.0</td>\n",
       "      <td>0.4</td>\n",
       "      <td>0.134126</td>\n",
       "      <td>0.131445</td>\n",
       "      <td>0.125462</td>\n",
       "      <td>0.146008</td>\n",
       "      <td>0.027674</td>\n",
       "    </tr>\n",
       "  </tbody>\n",
       "</table>\n",
       "</div>"
      ],
      "text/plain": [
       "     car_brand  car_name  car_km  car_year  car_engine  car_gearbox  car_fuel  \\\n",
       "964   0.200000  0.668790     0.0      0.76    0.206897          0.0       0.4   \n",
       "951   0.433333  0.719745     0.0      0.96    0.172414          0.0       0.4   \n",
       "985   1.000000  0.980892     0.0      0.88    0.448276          0.0       1.0   \n",
       "708   0.266667  0.885350     0.0      0.84    0.413793          0.0       0.4   \n",
       "655   0.800000  0.528662     0.0      0.80    0.000000          1.0       0.4   \n",
       "\n",
       "     lin_reg_pred  rf_reg_pred  gb_reg_pred  nn_reg_pred  car_price  \n",
       "964      0.002104     0.050492     0.050388     0.077348   0.064201  \n",
       "951      0.155072     0.241463     0.199692     0.158229   0.182481  \n",
       "985      0.100765     0.036306     0.035778     0.072598   0.634812  \n",
       "708      0.154451     0.072187     0.075732     0.097398   0.130299  \n",
       "655      0.134126     0.131445     0.125462     0.146008   0.027674  "
      ]
     },
     "execution_count": 216,
     "metadata": {},
     "output_type": "execute_result"
    }
   ],
   "source": [
    "X_test['lin_reg_pred'] = lin_reg_pred\n",
    "X_test['rf_reg_pred'] = rf_reg_pred\n",
    "X_test['gb_reg_pred'] = gb_reg_pred\n",
    "X_test['nn_reg_pred'] = nn_reg_pred\n",
    "X_test['car_price'] = y_test\n",
    "\n",
    "X_test.head()"
   ]
  },
  {
   "cell_type": "code",
   "execution_count": 217,
   "metadata": {},
   "outputs": [],
   "source": [
    "X_test.sort_values(by='car_km', inplace=True)"
   ]
  },
  {
   "cell_type": "code",
   "execution_count": 224,
   "metadata": {},
   "outputs": [
    {
     "data": {
      "image/png": "[encoded data removed]",
      "text/plain": [
       "<Figure size 1500x500 with 1 Axes>"
      ]
     },
     "metadata": {},
     "output_type": "display_data"
    }
   ],
   "source": [
    "fig, ax = plt.subplots(figsize=(15, 5))\n",
    "\n",
    "fig.suptitle('Relationship between Car Kilometers and Price')\n",
    "\n",
    "ax.plot(X_test['car_km'], X_test['lin_reg_pred'], label='Linear Regression')\n",
    "ax.plot(X_test['car_km'], X_test['rf_reg_pred'], label='Random Forest')\n",
    "ax.plot(X_test['car_km'], X_test['gb_reg_pred'], label='Gradient Boosting')\n",
    "ax.plot(X_test['car_km'], X_test['nn_reg_pred'], label='Neural Network')\n",
    "ax.plot(X_test['car_km'], X_test['car_price'], label='Label')\n",
    "\n",
    "plt.legend()\n",
    "plt.show()"
   ]
  },
  {
   "cell_type": "markdown",
   "metadata": {},
   "source": [
    "---"
   ]
  },
  {
   "cell_type": "markdown",
   "metadata": {},
   "source": [
    "## Referêncais"
   ]
  },
  {
   "cell_type": "markdown",
   "metadata": {},
   "source": [
    "Data Treatment\n",
    "- https://pypi.org/project/fancyimpute/#description\n",
    "\n",
    "Regression Models\n",
    "- [Linear Regression] https://scikit-learn.org/stable/modules/generated/sklearn.linear_model.LinearRegression.html\n",
    "- [Random Forest Regressor] https://scikit-learn.org/stable/modules/generated/sklearn.ensemble.RandomForestRegressor.html\n",
    "- [Gradient Boosting Regressor] https://scikit-learn.org/stable/modules/generated/sklearn.ensemble.GradientBoostingRegressor.html#sklearn.ensemble.GradientBoostingRegressor\n",
    "- [Neural Network Rsgressor] https://www.tensorflow.org/api_docs/python/tf/keras/Sequential\n",
    "\n",
    "Further Reading\n",
    "- https://keras.io/examples/keras_recipes/reproducibility_recipes/\n",
    "\n",
    "Automated Optimization\n",
    "- https://optuna.org/\n",
    "- https://automl.github.io/auto-sklearn/master/index.html\n",
    "\n",
    "Didactic Material\n",
    "- https://towardsdatascience.com/7-of-the-most-commonly-used-regression-algorithms-and-how-to-choose-the-right-one-fc3c8890f9e3"
   ]
  }
 ],
 "metadata": {
  "kernelspec": {
   "display_name": "venv",
   "language": "python",
   "name": "python3"
  },
  "language_info": {
   "codemirror_mode": {
    "name": "ipython",
    "version": 3
   },
   "file_extension": ".py",
   "mimetype": "text/x-python",
   "name": "python",
   "nbconvert_exporter": "python",
   "pygments_lexer": "ipython3",
   "version": "3.11.3"
  }
 },
 "nbformat": 4,
 "nbformat_minor": 2
}
