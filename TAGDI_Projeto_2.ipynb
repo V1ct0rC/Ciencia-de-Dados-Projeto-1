{
 "cells": [
  {
   "cell_type": "markdown",
   "metadata": {},
   "source": [
    "# Introdução à Ciência de Dados - Projeto Parte 2\n",
    "\n",
    "<p align=\"justify\">\n",
    "Nessa etapa, iremos escolher uma das colunas do nosso dataset para para fazermos uma regressão baseada nas demais features. Avaliaremos quatro diferentes algoritmos para essa tarefa e utilizaremos o MLFlow para fazer o rastreamento. Adicionalmente, usaremos o Optuna para variar os hiperparâmetros de cada abordagem e escolher o melhor deles.\n",
    "\n",
    "### Equipe:\n",
    "> Pedro Henrique Almeida Girão Peixinho (phagp)\n",
    "\n",
    "> Victor Gabriel de Carvalho (vgc3)\n",
    "\n",
    "### Tópicos Avançados em Gerenciamento de Dados e Informação IF697 - 2024.1 - Centro de Informáica UFPE"
   ]
  },
  {
   "cell_type": "code",
   "execution_count": 1,
   "metadata": {},
   "outputs": [
    {
     "name": "stderr",
     "output_type": "stream",
     "text": [
      "c:\\Victor\\UFPE\\P9\\Tópicos Avançados em Gerenciamento de Dados Informação\\Ciencia-de-Dados-Projeto-1\\venv\\Lib\\site-packages\\tqdm\\auto.py:21: TqdmWarning: IProgress not found. Please update jupyter and ipywidgets. See https://ipywidgets.readthedocs.io/en/stable/user_install.html\n",
      "  from .autonotebook import tqdm as notebook_tqdm\n"
     ]
    }
   ],
   "source": [
    "import pandas as pd\n",
    "import numpy as np\n",
    "\n",
    "from sklearn.covariance import EllipticEnvelope\n",
    "from sklearn.preprocessing import MinMaxScaler\n",
    "from sklearn.model_selection import train_test_split\n",
    "from sklearn.linear_model import LinearRegression\n",
    "from sklearn.ensemble import RandomForestRegressor, GradientBoostingRegressor\n",
    "from sklearn.impute import KNNImputer\n",
    "\n",
    "import tensorflow as tf\n",
    "from tensorflow import keras\n",
    "from tensorflow.keras import layers\n",
    "from tensorflow.keras.models import Sequential\n",
    "\n",
    "import matplotlib.pyplot as plt\n",
    "\n",
    "import logging\n",
    "import mlflow\n",
    "import optuna\n",
    "optuna.logging.set_verbosity(optuna.logging.INFO)\n",
    "# import autosklearn.regression\n",
    "\n",
    "tf.random.set_seed(9)\n",
    "keras.utils.set_random_seed(9)"
   ]
  },
  {
   "cell_type": "markdown",
   "metadata": {},
   "source": [
    "---\n",
    "\n",
    "## Pre-Processamento\n",
    "\n",
    "<p align=\"justify\">\n",
    "O pré-processamento de dados é uma etapa crítica no desenvolvimento de modelos de aprendizado de máquina, sendo essencial para garantir a qualidade e a robustez das previsões. Este processo envolve várias etapas, cada uma destinada a transformar os dados brutos em um formato adequado para análise e modelagem."
   ]
  },
  {
   "cell_type": "code",
   "execution_count": 2,
   "metadata": {},
   "outputs": [
    {
     "data": {
      "text/html": [
       "<div>\n",
       "<style scoped>\n",
       "    .dataframe tbody tr th:only-of-type {\n",
       "        vertical-align: middle;\n",
       "    }\n",
       "\n",
       "    .dataframe tbody tr th {\n",
       "        vertical-align: top;\n",
       "    }\n",
       "\n",
       "    .dataframe thead th {\n",
       "        text-align: right;\n",
       "    }\n",
       "</style>\n",
       "<table border=\"1\" class=\"dataframe\">\n",
       "  <thead>\n",
       "    <tr style=\"text-align: right;\">\n",
       "      <th></th>\n",
       "      <th>page</th>\n",
       "      <th>car_brand</th>\n",
       "      <th>car_name</th>\n",
       "      <th>car_price</th>\n",
       "      <th>car_km</th>\n",
       "      <th>car_year</th>\n",
       "      <th>car_desc</th>\n",
       "      <th>car_store</th>\n",
       "      <th>car_engine</th>\n",
       "      <th>car_gearbox</th>\n",
       "      <th>car_fuel</th>\n",
       "      <th>car_color</th>\n",
       "    </tr>\n",
       "  </thead>\n",
       "  <tbody>\n",
       "    <tr>\n",
       "      <th>0</th>\n",
       "      <td>https://grupoautonunes.com/estoque/?zero_km=0&amp;...</td>\n",
       "      <td>Fiat</td>\n",
       "      <td>500E</td>\n",
       "      <td>125990.0</td>\n",
       "      <td>7521.0</td>\n",
       "      <td>2022</td>\n",
       "      <td>ICON ELÉTRICO</td>\n",
       "      <td>NaN</td>\n",
       "      <td>Elétrico</td>\n",
       "      <td>Automatico</td>\n",
       "      <td>Elétrico</td>\n",
       "      <td>NaN</td>\n",
       "    </tr>\n",
       "    <tr>\n",
       "      <th>1</th>\n",
       "      <td>https://grupoautonunes.com/estoque/?zero_km=0&amp;...</td>\n",
       "      <td>Audi</td>\n",
       "      <td>Q3</td>\n",
       "      <td>128980.0</td>\n",
       "      <td>40000.0</td>\n",
       "      <td>2018</td>\n",
       "      <td>1.4 TFSI AMBIENTE FLEX 4P S TRONIC</td>\n",
       "      <td>NaN</td>\n",
       "      <td>1.4</td>\n",
       "      <td>Automatico</td>\n",
       "      <td>Flex</td>\n",
       "      <td>NaN</td>\n",
       "    </tr>\n",
       "    <tr>\n",
       "      <th>2</th>\n",
       "      <td>https://grupoautonunes.com/estoque/?zero_km=0&amp;...</td>\n",
       "      <td>Chevrolet</td>\n",
       "      <td>Onix</td>\n",
       "      <td>70990.0</td>\n",
       "      <td>40686.0</td>\n",
       "      <td>2023</td>\n",
       "      <td>1.0 FLEX LT MANUAL</td>\n",
       "      <td>NaN</td>\n",
       "      <td>1.0</td>\n",
       "      <td>Manual</td>\n",
       "      <td>Flex</td>\n",
       "      <td>NaN</td>\n",
       "    </tr>\n",
       "    <tr>\n",
       "      <th>3</th>\n",
       "      <td>https://grupoautonunes.com/estoque/?zero_km=0&amp;...</td>\n",
       "      <td>Chevrolet</td>\n",
       "      <td>Onix</td>\n",
       "      <td>79990.0</td>\n",
       "      <td>57643.0</td>\n",
       "      <td>2022</td>\n",
       "      <td>1.0 TURBO FLEX PLUS LTZ AUTOMÁTICO</td>\n",
       "      <td>NaN</td>\n",
       "      <td>1.0 Turbo</td>\n",
       "      <td>Automatico</td>\n",
       "      <td>Flex</td>\n",
       "      <td>NaN</td>\n",
       "    </tr>\n",
       "    <tr>\n",
       "      <th>4</th>\n",
       "      <td>https://grupoautonunes.com/estoque/?zero_km=0&amp;...</td>\n",
       "      <td>Volkswagen</td>\n",
       "      <td>Saveiro</td>\n",
       "      <td>77990.0</td>\n",
       "      <td>29000.0</td>\n",
       "      <td>2023</td>\n",
       "      <td>1.6 MSI TRENDLINE CS 8V FLEX 2P MANUAL</td>\n",
       "      <td>NaN</td>\n",
       "      <td>1.6</td>\n",
       "      <td>Manual</td>\n",
       "      <td>Flex</td>\n",
       "      <td>NaN</td>\n",
       "    </tr>\n",
       "  </tbody>\n",
       "</table>\n",
       "</div>"
      ],
      "text/plain": [
       "                                                page   car_brand car_name  \\\n",
       "0  https://grupoautonunes.com/estoque/?zero_km=0&...        Fiat     500E   \n",
       "1  https://grupoautonunes.com/estoque/?zero_km=0&...        Audi       Q3   \n",
       "2  https://grupoautonunes.com/estoque/?zero_km=0&...   Chevrolet     Onix   \n",
       "3  https://grupoautonunes.com/estoque/?zero_km=0&...   Chevrolet     Onix   \n",
       "4  https://grupoautonunes.com/estoque/?zero_km=0&...  Volkswagen  Saveiro   \n",
       "\n",
       "   car_price   car_km  car_year                                car_desc  \\\n",
       "0   125990.0   7521.0      2022                           ICON ELÉTRICO   \n",
       "1   128980.0  40000.0      2018      1.4 TFSI AMBIENTE FLEX 4P S TRONIC   \n",
       "2    70990.0  40686.0      2023                      1.0 FLEX LT MANUAL   \n",
       "3    79990.0  57643.0      2022      1.0 TURBO FLEX PLUS LTZ AUTOMÁTICO   \n",
       "4    77990.0  29000.0      2023  1.6 MSI TRENDLINE CS 8V FLEX 2P MANUAL   \n",
       "\n",
       "  car_store car_engine car_gearbox  car_fuel car_color  \n",
       "0       NaN   Elétrico  Automatico  Elétrico       NaN  \n",
       "1       NaN        1.4  Automatico      Flex       NaN  \n",
       "2       NaN        1.0      Manual      Flex       NaN  \n",
       "3       NaN  1.0 Turbo  Automatico      Flex       NaN  \n",
       "4       NaN        1.6      Manual      Flex       NaN  "
      ]
     },
     "execution_count": 2,
     "metadata": {},
     "output_type": "execute_result"
    }
   ],
   "source": [
    "df_cars = pd.read_csv(r'carscraper\\cars.csv')\n",
    "df_cars.head()"
   ]
  },
  {
   "cell_type": "markdown",
   "metadata": {},
   "source": [
    "<p align=\"justify\">\n",
    "O dataset é composto originalmente por 1124 amostras de carros usados presentes na região metropolitana do Recife. Cada amostra possui até 12 atributos.\n",
    "\n",
    "- page: URL da página de onde foi tirada a amostra.\n",
    "- car_brand: Marca do veículo.\n",
    "- car_name: Nome do veículo\n",
    "- car_price: Preço do carro no momento da coleta.\n",
    "- car_km: Quilometragem total do carro.\n",
    "- car_year: Ano do modelo.\n",
    "- car_desc: Descrição e informações gerais do veíclulo.\n",
    "- car_store: Loja onde o carro está localizado.\n",
    "- car_engine: Tamanho/Tipo do motor.\n",
    "- car_gearbox: Tipo de embreagem.\n",
    "- car_fuel: Tipo de combustível.\n",
    "- car_color: Cor do automível.\n",
    "\n",
    "<p align=\"justify\">\n",
    "Vale ressaltar que, natualmente, nem todos os campos puderam ser preenchidos para todas as amostras e aguns dos campos não possuem relevância estatística para a modelagem. Isso será tratato a seguir."
   ]
  },
  {
   "cell_type": "code",
   "execution_count": 3,
   "metadata": {},
   "outputs": [
    {
     "data": {
      "text/plain": [
       "(1124, 12)"
      ]
     },
     "execution_count": 3,
     "metadata": {},
     "output_type": "execute_result"
    }
   ],
   "source": [
    "df_cars.shape"
   ]
  },
  {
   "cell_type": "markdown",
   "metadata": {},
   "source": [
    "<p align=\"justify\">\n",
    "Como dito acima, iremos remover as colunas \"page\" e \"car_desc\", já que não ajudarão no treinamento (\"car_desc\" foi já separado em outras colunas durante a elaboração do dataset). Além das colunas irrelevantes, será feita a remoção de linhas duplicadas, caso existam."
   ]
  },
  {
   "cell_type": "code",
   "execution_count": 4,
   "metadata": {},
   "outputs": [
    {
     "data": {
      "text/html": [
       "<div>\n",
       "<style scoped>\n",
       "    .dataframe tbody tr th:only-of-type {\n",
       "        vertical-align: middle;\n",
       "    }\n",
       "\n",
       "    .dataframe tbody tr th {\n",
       "        vertical-align: top;\n",
       "    }\n",
       "\n",
       "    .dataframe thead th {\n",
       "        text-align: right;\n",
       "    }\n",
       "</style>\n",
       "<table border=\"1\" class=\"dataframe\">\n",
       "  <thead>\n",
       "    <tr style=\"text-align: right;\">\n",
       "      <th></th>\n",
       "      <th>car_brand</th>\n",
       "      <th>car_name</th>\n",
       "      <th>car_price</th>\n",
       "      <th>car_km</th>\n",
       "      <th>car_year</th>\n",
       "      <th>car_store</th>\n",
       "      <th>car_engine</th>\n",
       "      <th>car_gearbox</th>\n",
       "      <th>car_fuel</th>\n",
       "      <th>car_color</th>\n",
       "    </tr>\n",
       "  </thead>\n",
       "  <tbody>\n",
       "    <tr>\n",
       "      <th>0</th>\n",
       "      <td>Fiat</td>\n",
       "      <td>500E</td>\n",
       "      <td>125990.0</td>\n",
       "      <td>7521.0</td>\n",
       "      <td>2022</td>\n",
       "      <td>NaN</td>\n",
       "      <td>Elétrico</td>\n",
       "      <td>Automatico</td>\n",
       "      <td>Elétrico</td>\n",
       "      <td>NaN</td>\n",
       "    </tr>\n",
       "    <tr>\n",
       "      <th>1</th>\n",
       "      <td>Audi</td>\n",
       "      <td>Q3</td>\n",
       "      <td>128980.0</td>\n",
       "      <td>40000.0</td>\n",
       "      <td>2018</td>\n",
       "      <td>NaN</td>\n",
       "      <td>1.4</td>\n",
       "      <td>Automatico</td>\n",
       "      <td>Flex</td>\n",
       "      <td>NaN</td>\n",
       "    </tr>\n",
       "    <tr>\n",
       "      <th>2</th>\n",
       "      <td>Chevrolet</td>\n",
       "      <td>Onix</td>\n",
       "      <td>70990.0</td>\n",
       "      <td>40686.0</td>\n",
       "      <td>2023</td>\n",
       "      <td>NaN</td>\n",
       "      <td>1.0</td>\n",
       "      <td>Manual</td>\n",
       "      <td>Flex</td>\n",
       "      <td>NaN</td>\n",
       "    </tr>\n",
       "    <tr>\n",
       "      <th>3</th>\n",
       "      <td>Chevrolet</td>\n",
       "      <td>Onix</td>\n",
       "      <td>79990.0</td>\n",
       "      <td>57643.0</td>\n",
       "      <td>2022</td>\n",
       "      <td>NaN</td>\n",
       "      <td>1.0 Turbo</td>\n",
       "      <td>Automatico</td>\n",
       "      <td>Flex</td>\n",
       "      <td>NaN</td>\n",
       "    </tr>\n",
       "    <tr>\n",
       "      <th>4</th>\n",
       "      <td>Volkswagen</td>\n",
       "      <td>Saveiro</td>\n",
       "      <td>77990.0</td>\n",
       "      <td>29000.0</td>\n",
       "      <td>2023</td>\n",
       "      <td>NaN</td>\n",
       "      <td>1.6</td>\n",
       "      <td>Manual</td>\n",
       "      <td>Flex</td>\n",
       "      <td>NaN</td>\n",
       "    </tr>\n",
       "  </tbody>\n",
       "</table>\n",
       "</div>"
      ],
      "text/plain": [
       "    car_brand car_name  car_price   car_km  car_year car_store car_engine  \\\n",
       "0        Fiat     500E   125990.0   7521.0      2022       NaN   Elétrico   \n",
       "1        Audi       Q3   128980.0  40000.0      2018       NaN        1.4   \n",
       "2   Chevrolet     Onix    70990.0  40686.0      2023       NaN        1.0   \n",
       "3   Chevrolet     Onix    79990.0  57643.0      2022       NaN  1.0 Turbo   \n",
       "4  Volkswagen  Saveiro    77990.0  29000.0      2023       NaN        1.6   \n",
       "\n",
       "  car_gearbox  car_fuel car_color  \n",
       "0  Automatico  Elétrico       NaN  \n",
       "1  Automatico      Flex       NaN  \n",
       "2      Manual      Flex       NaN  \n",
       "3  Automatico      Flex       NaN  \n",
       "4      Manual      Flex       NaN  "
      ]
     },
     "execution_count": 4,
     "metadata": {},
     "output_type": "execute_result"
    }
   ],
   "source": [
    "df_cars.drop(['page', 'car_desc'], axis=1, inplace=True)\n",
    "df_cars.drop_duplicates(inplace=True)\n",
    "\n",
    "df_cars.head()"
   ]
  },
  {
   "cell_type": "code",
   "execution_count": 5,
   "metadata": {},
   "outputs": [
    {
     "data": {
      "text/plain": [
       "car_brand       object\n",
       "car_name        object\n",
       "car_price      float64\n",
       "car_km         float64\n",
       "car_year         int64\n",
       "car_store       object\n",
       "car_engine      object\n",
       "car_gearbox     object\n",
       "car_fuel        object\n",
       "car_color       object\n",
       "dtype: object"
      ]
     },
     "execution_count": 5,
     "metadata": {},
     "output_type": "execute_result"
    }
   ],
   "source": [
    "df_cars.dtypes"
   ]
  },
  {
   "cell_type": "markdown",
   "metadata": {},
   "source": [
    "<p align=\"justify\">\n",
    "Mudaremos o tipo dos dados de \"object\" para \"category\". Isso nos permitirá utilizar alguns métodos ja presenes no dataframe."
   ]
  },
  {
   "cell_type": "code",
   "execution_count": 6,
   "metadata": {},
   "outputs": [
    {
     "data": {
      "text/plain": [
       "car_brand      category\n",
       "car_name       category\n",
       "car_price       float64\n",
       "car_km          float64\n",
       "car_year          int64\n",
       "car_store      category\n",
       "car_engine     category\n",
       "car_gearbox    category\n",
       "car_fuel       category\n",
       "car_color      category\n",
       "dtype: object"
      ]
     },
     "execution_count": 6,
     "metadata": {},
     "output_type": "execute_result"
    }
   ],
   "source": [
    "df_cars_cat = df_cars.copy()\n",
    "object_columns = df_cars.select_dtypes(['object']).columns\n",
    "df_cars_cat[object_columns] = df_cars[object_columns].astype('category')\n",
    "\n",
    "df_cars_cat.dtypes"
   ]
  },
  {
   "cell_type": "markdown",
   "metadata": {},
   "source": [
    "<p align=\"justify\">\n",
    "Abaixo, transformaremos os valores categóricos em valores numérios, para possibilitar a análise pelos modelos."
   ]
  },
  {
   "cell_type": "code",
   "execution_count": 7,
   "metadata": {},
   "outputs": [
    {
     "data": {
      "text/html": [
       "<div>\n",
       "<style scoped>\n",
       "    .dataframe tbody tr th:only-of-type {\n",
       "        vertical-align: middle;\n",
       "    }\n",
       "\n",
       "    .dataframe tbody tr th {\n",
       "        vertical-align: top;\n",
       "    }\n",
       "\n",
       "    .dataframe thead th {\n",
       "        text-align: right;\n",
       "    }\n",
       "</style>\n",
       "<table border=\"1\" class=\"dataframe\">\n",
       "  <thead>\n",
       "    <tr style=\"text-align: right;\">\n",
       "      <th></th>\n",
       "      <th>car_brand</th>\n",
       "      <th>car_name</th>\n",
       "      <th>car_price</th>\n",
       "      <th>car_km</th>\n",
       "      <th>car_year</th>\n",
       "      <th>car_store</th>\n",
       "      <th>car_engine</th>\n",
       "      <th>car_gearbox</th>\n",
       "      <th>car_fuel</th>\n",
       "      <th>car_color</th>\n",
       "    </tr>\n",
       "  </thead>\n",
       "  <tbody>\n",
       "    <tr>\n",
       "      <th>0</th>\n",
       "      <td>8</td>\n",
       "      <td>9</td>\n",
       "      <td>125990.0</td>\n",
       "      <td>7521.0</td>\n",
       "      <td>2022</td>\n",
       "      <td>NaN</td>\n",
       "      <td>29</td>\n",
       "      <td>0</td>\n",
       "      <td>1.0</td>\n",
       "      <td>NaN</td>\n",
       "    </tr>\n",
       "    <tr>\n",
       "      <th>1</th>\n",
       "      <td>1</td>\n",
       "      <td>108</td>\n",
       "      <td>128980.0</td>\n",
       "      <td>40000.0</td>\n",
       "      <td>2018</td>\n",
       "      <td>NaN</td>\n",
       "      <td>6</td>\n",
       "      <td>0</td>\n",
       "      <td>2.0</td>\n",
       "      <td>NaN</td>\n",
       "    </tr>\n",
       "    <tr>\n",
       "      <th>2</th>\n",
       "      <td>6</td>\n",
       "      <td>96</td>\n",
       "      <td>70990.0</td>\n",
       "      <td>40686.0</td>\n",
       "      <td>2023</td>\n",
       "      <td>NaN</td>\n",
       "      <td>0</td>\n",
       "      <td>1</td>\n",
       "      <td>2.0</td>\n",
       "      <td>NaN</td>\n",
       "    </tr>\n",
       "    <tr>\n",
       "      <th>3</th>\n",
       "      <td>6</td>\n",
       "      <td>96</td>\n",
       "      <td>79990.0</td>\n",
       "      <td>57643.0</td>\n",
       "      <td>2022</td>\n",
       "      <td>NaN</td>\n",
       "      <td>1</td>\n",
       "      <td>0</td>\n",
       "      <td>2.0</td>\n",
       "      <td>NaN</td>\n",
       "    </tr>\n",
       "    <tr>\n",
       "      <th>4</th>\n",
       "      <td>29</td>\n",
       "      <td>122</td>\n",
       "      <td>77990.0</td>\n",
       "      <td>29000.0</td>\n",
       "      <td>2023</td>\n",
       "      <td>NaN</td>\n",
       "      <td>10</td>\n",
       "      <td>1</td>\n",
       "      <td>2.0</td>\n",
       "      <td>NaN</td>\n",
       "    </tr>\n",
       "  </tbody>\n",
       "</table>\n",
       "</div>"
      ],
      "text/plain": [
       "   car_brand  car_name  car_price   car_km  car_year  car_store  car_engine  \\\n",
       "0          8         9   125990.0   7521.0      2022        NaN          29   \n",
       "1          1       108   128980.0  40000.0      2018        NaN           6   \n",
       "2          6        96    70990.0  40686.0      2023        NaN           0   \n",
       "3          6        96    79990.0  57643.0      2022        NaN           1   \n",
       "4         29       122    77990.0  29000.0      2023        NaN          10   \n",
       "\n",
       "   car_gearbox  car_fuel  car_color  \n",
       "0            0       1.0        NaN  \n",
       "1            0       2.0        NaN  \n",
       "2            1       2.0        NaN  \n",
       "3            0       2.0        NaN  \n",
       "4            1       2.0        NaN  "
      ]
     },
     "execution_count": 7,
     "metadata": {},
     "output_type": "execute_result"
    }
   ],
   "source": [
    "df_cars_codes = df_cars_cat.copy()\n",
    "category_columns = df_cars_cat.select_dtypes(['category']).columns\n",
    "df_cars_codes[category_columns] = df_cars_cat[category_columns].apply(lambda x: x.cat.codes.replace(-1, np.nan))\n",
    "\n",
    "df_cars_codes.head()"
   ]
  },
  {
   "cell_type": "code",
   "execution_count": 8,
   "metadata": {},
   "outputs": [
    {
     "data": {
      "text/plain": [
       "car_brand         0\n",
       "car_name          0\n",
       "car_price         0\n",
       "car_km            0\n",
       "car_year          0\n",
       "car_store      1095\n",
       "car_engine        0\n",
       "car_gearbox       0\n",
       "car_fuel         48\n",
       "car_color       986\n",
       "dtype: int64"
      ]
     },
     "execution_count": 8,
     "metadata": {},
     "output_type": "execute_result"
    }
   ],
   "source": [
    "df_cars_codes.isnull().sum()"
   ]
  },
  {
   "cell_type": "markdown",
   "metadata": {},
   "source": [
    "Iremos remover as colunas com mais de 70% dos valores ausentes. Nesse cenário, métodos de adição de valores seriam inviáveis, pois a quantidade de faltas é muito grande."
   ]
  },
  {
   "cell_type": "code",
   "execution_count": 9,
   "metadata": {},
   "outputs": [
    {
     "data": {
      "text/html": [
       "<div>\n",
       "<style scoped>\n",
       "    .dataframe tbody tr th:only-of-type {\n",
       "        vertical-align: middle;\n",
       "    }\n",
       "\n",
       "    .dataframe tbody tr th {\n",
       "        vertical-align: top;\n",
       "    }\n",
       "\n",
       "    .dataframe thead th {\n",
       "        text-align: right;\n",
       "    }\n",
       "</style>\n",
       "<table border=\"1\" class=\"dataframe\">\n",
       "  <thead>\n",
       "    <tr style=\"text-align: right;\">\n",
       "      <th></th>\n",
       "      <th>car_brand</th>\n",
       "      <th>car_name</th>\n",
       "      <th>car_price</th>\n",
       "      <th>car_km</th>\n",
       "      <th>car_year</th>\n",
       "      <th>car_engine</th>\n",
       "      <th>car_gearbox</th>\n",
       "      <th>car_fuel</th>\n",
       "    </tr>\n",
       "  </thead>\n",
       "  <tbody>\n",
       "    <tr>\n",
       "      <th>0</th>\n",
       "      <td>8</td>\n",
       "      <td>9</td>\n",
       "      <td>125990.0</td>\n",
       "      <td>7521.0</td>\n",
       "      <td>2022</td>\n",
       "      <td>29</td>\n",
       "      <td>0</td>\n",
       "      <td>1.0</td>\n",
       "    </tr>\n",
       "    <tr>\n",
       "      <th>1</th>\n",
       "      <td>1</td>\n",
       "      <td>108</td>\n",
       "      <td>128980.0</td>\n",
       "      <td>40000.0</td>\n",
       "      <td>2018</td>\n",
       "      <td>6</td>\n",
       "      <td>0</td>\n",
       "      <td>2.0</td>\n",
       "    </tr>\n",
       "    <tr>\n",
       "      <th>2</th>\n",
       "      <td>6</td>\n",
       "      <td>96</td>\n",
       "      <td>70990.0</td>\n",
       "      <td>40686.0</td>\n",
       "      <td>2023</td>\n",
       "      <td>0</td>\n",
       "      <td>1</td>\n",
       "      <td>2.0</td>\n",
       "    </tr>\n",
       "    <tr>\n",
       "      <th>3</th>\n",
       "      <td>6</td>\n",
       "      <td>96</td>\n",
       "      <td>79990.0</td>\n",
       "      <td>57643.0</td>\n",
       "      <td>2022</td>\n",
       "      <td>1</td>\n",
       "      <td>0</td>\n",
       "      <td>2.0</td>\n",
       "    </tr>\n",
       "    <tr>\n",
       "      <th>4</th>\n",
       "      <td>29</td>\n",
       "      <td>122</td>\n",
       "      <td>77990.0</td>\n",
       "      <td>29000.0</td>\n",
       "      <td>2023</td>\n",
       "      <td>10</td>\n",
       "      <td>1</td>\n",
       "      <td>2.0</td>\n",
       "    </tr>\n",
       "  </tbody>\n",
       "</table>\n",
       "</div>"
      ],
      "text/plain": [
       "   car_brand  car_name  car_price   car_km  car_year  car_engine  car_gearbox  \\\n",
       "0          8         9   125990.0   7521.0      2022          29            0   \n",
       "1          1       108   128980.0  40000.0      2018           6            0   \n",
       "2          6        96    70990.0  40686.0      2023           0            1   \n",
       "3          6        96    79990.0  57643.0      2022           1            0   \n",
       "4         29       122    77990.0  29000.0      2023          10            1   \n",
       "\n",
       "   car_fuel  \n",
       "0       1.0  \n",
       "1       2.0  \n",
       "2       2.0  \n",
       "3       2.0  \n",
       "4       2.0  "
      ]
     },
     "execution_count": 9,
     "metadata": {},
     "output_type": "execute_result"
    }
   ],
   "source": [
    "df_cars_codes.dropna(thresh=0.7*len(df_cars_codes), axis=1, inplace=True)\n",
    "df_cars_codes.head()"
   ]
  },
  {
   "cell_type": "code",
   "execution_count": 10,
   "metadata": {},
   "outputs": [
    {
     "data": {
      "text/plain": [
       "car_brand         int8\n",
       "car_name         int16\n",
       "car_price      float64\n",
       "car_km         float64\n",
       "car_year         int64\n",
       "car_engine        int8\n",
       "car_gearbox       int8\n",
       "car_fuel       float64\n",
       "dtype: object"
      ]
     },
     "execution_count": 10,
     "metadata": {},
     "output_type": "execute_result"
    }
   ],
   "source": [
    "df_cars_codes.dtypes"
   ]
  },
  {
   "cell_type": "markdown",
   "metadata": {},
   "source": [
    "<p align=\"justify\">\n",
    "A partir daqui, devemos dividir o dataset em treinamento, validação e teste. Isso é necessário porquê não devemos deixar os valores de teste interferirem no treinamento e vice-versa. Logo, as operações de adição de dados e normalização devem ser feitas de forma independente em cada subset. Devido ao tamanho pequeno do dataset, faremos uma divisão de 80% para treinamento, 10% para validação e 10% para teste."
   ]
  },
  {
   "cell_type": "code",
   "execution_count": 11,
   "metadata": {},
   "outputs": [
    {
     "name": "stdout",
     "output_type": "stream",
     "text": [
      "(882, 8) (111, 8) (110, 8)\n"
     ]
    }
   ],
   "source": [
    "df_train, df_test = train_test_split(df_cars_codes, test_size=0.2, random_state=9)\n",
    "df_test, df_val = train_test_split(df_test, test_size=0.5, random_state=9)\n",
    "\n",
    "print(df_train.shape, df_val.shape, df_test.shape)"
   ]
  },
  {
   "cell_type": "markdown",
   "metadata": {},
   "source": [
    "<p align=\"justify\">\n",
    "A parte de normalização e inputação será feita utilizando como base exclusivamente o dataset de treinamento. Esses mesmos valores serão utilizados, novamente, nos sets de validação e teste, ja que, em uma situação real, apenas teríamos acesso ao treinamento."
   ]
  },
  {
   "cell_type": "code",
   "execution_count": 12,
   "metadata": {},
   "outputs": [
    {
     "data": {
      "text/plain": [
       "car_brand      0\n",
       "car_name       0\n",
       "car_price      0\n",
       "car_km         0\n",
       "car_year       0\n",
       "car_engine     0\n",
       "car_gearbox    0\n",
       "car_fuel       0\n",
       "dtype: int64"
      ]
     },
     "execution_count": 12,
     "metadata": {},
     "output_type": "execute_result"
    }
   ],
   "source": [
    "df_train_median_fill = df_train.copy()\n",
    "\n",
    "car_fuel_train_fill = df_train_median_fill['car_fuel'].median()\n",
    "\n",
    "df_train_median_fill['car_fuel'] = df_train_median_fill['car_fuel'].fillna(car_fuel_train_fill)\n",
    "df_train_median_fill.isnull().sum()"
   ]
  },
  {
   "cell_type": "markdown",
   "metadata": {},
   "source": [
    "<p align=\"justify\">\n",
    "De forma análoga, apenas seria possível tratar os outliers no dataset de treinamento."
   ]
  },
  {
   "cell_type": "code",
   "execution_count": 13,
   "metadata": {},
   "outputs": [
    {
     "data": {
      "text/plain": [
       "car_brand      873\n",
       "car_name       873\n",
       "car_price      873\n",
       "car_km         873\n",
       "car_year       873\n",
       "car_engine     873\n",
       "car_gearbox    873\n",
       "car_fuel       873\n",
       "dtype: int64"
      ]
     },
     "execution_count": 13,
     "metadata": {},
     "output_type": "execute_result"
    }
   ],
   "source": [
    "df_train_median_fill_ee = df_train_median_fill.copy()\n",
    "\n",
    "detector = EllipticEnvelope(contamination=0.01, support_fraction=0.85)\n",
    "detector.fit(df_train_median_fill_ee)\n",
    "\n",
    "scores = detector.predict(df_train_median_fill_ee)\n",
    "df_train_median_fill_ee['outlier'] = scores\n",
    "\n",
    "df_train_median_fill_ee['outlier'] = df_train_median_fill_ee['outlier'].astype('int')\n",
    "\n",
    "df_train_median_fill_ee.head()\n",
    "\n",
    "df_train_median_fill_ee = df_train_median_fill_ee[df_train_median_fill_ee['outlier'] != -1]\n",
    "df_train_median_fill_ee.drop('outlier', axis=1, inplace=True)\n",
    "df_train_median_fill_ee.count()"
   ]
  },
  {
   "cell_type": "code",
   "execution_count": 14,
   "metadata": {},
   "outputs": [
    {
     "name": "stdout",
     "output_type": "stream",
     "text": [
      "[3.000e+01 1.570e+02 6.499e+05 6.540e+05 2.025e+03 2.900e+01 1.000e+00\n",
      " 5.000e+00]\n",
      "[1.000e+00 0.000e+00 2.499e+04 0.000e+00 2.005e+03 0.000e+00 0.000e+00\n",
      " 0.000e+00]\n"
     ]
    }
   ],
   "source": [
    "min_max_scaler = MinMaxScaler()\n",
    "df_train_median_fill_ee_norm = min_max_scaler.fit_transform(df_train_median_fill_ee)\n",
    "df_train_median_fill_ee_norm = pd.DataFrame(df_train_median_fill_ee_norm, columns=df_train_median_fill_ee.columns)\n",
    "\n",
    "print(min_max_scaler.data_max_)\n",
    "print(min_max_scaler.data_min_)"
   ]
  },
  {
   "cell_type": "code",
   "execution_count": 15,
   "metadata": {},
   "outputs": [
    {
     "data": {
      "text/plain": [
       "((873, 7), (873,))"
      ]
     },
     "execution_count": 15,
     "metadata": {},
     "output_type": "execute_result"
    }
   ],
   "source": [
    "X_train = df_train_median_fill_ee_norm.drop('car_price', axis=1)\n",
    "y_train = df_train_median_fill_ee_norm['car_price']\n",
    "\n",
    "X_train.shape, y_train.shape"
   ]
  },
  {
   "cell_type": "markdown",
   "metadata": {},
   "source": [
    "---"
   ]
  },
  {
   "cell_type": "code",
   "execution_count": 16,
   "metadata": {},
   "outputs": [
    {
     "data": {
      "text/plain": [
       "car_brand      0\n",
       "car_name       0\n",
       "car_price      0\n",
       "car_km         0\n",
       "car_year       0\n",
       "car_engine     0\n",
       "car_gearbox    0\n",
       "car_fuel       0\n",
       "dtype: int64"
      ]
     },
     "execution_count": 16,
     "metadata": {},
     "output_type": "execute_result"
    }
   ],
   "source": [
    "df_val_median_fill = df_val.copy()\n",
    "\n",
    "df_val_median_fill['car_fuel'] = df_val_median_fill['car_fuel'].fillna(car_fuel_train_fill)\n",
    "df_val_median_fill.isnull().sum()"
   ]
  },
  {
   "cell_type": "code",
   "execution_count": 17,
   "metadata": {},
   "outputs": [
    {
     "data": {
      "text/plain": [
       "((111, 7), (111,))"
      ]
     },
     "execution_count": 17,
     "metadata": {},
     "output_type": "execute_result"
    }
   ],
   "source": [
    "df_val_median_fill_norm = min_max_scaler.transform(df_val_median_fill)\n",
    "df_val_median_fill_norm = pd.DataFrame(df_val_median_fill_norm, columns=df_val_median_fill.columns)\n",
    "\n",
    "X_val = df_val_median_fill_norm.drop('car_price', axis=1)\n",
    "y_val = df_val_median_fill_norm['car_price']\n",
    "\n",
    "X_val.shape, y_val.shape"
   ]
  },
  {
   "cell_type": "code",
   "execution_count": 18,
   "metadata": {},
   "outputs": [
    {
     "data": {
      "text/plain": [
       "car_brand      0\n",
       "car_name       0\n",
       "car_price      0\n",
       "car_km         0\n",
       "car_year       0\n",
       "car_engine     0\n",
       "car_gearbox    0\n",
       "car_fuel       0\n",
       "dtype: int64"
      ]
     },
     "execution_count": 18,
     "metadata": {},
     "output_type": "execute_result"
    }
   ],
   "source": [
    "df_test_median_fill = df_test.copy()\n",
    "\n",
    "df_test_median_fill['car_fuel'] = df_test_median_fill['car_fuel'].fillna(car_fuel_train_fill)\n",
    "df_test_median_fill.isnull().sum()"
   ]
  },
  {
   "cell_type": "code",
   "execution_count": 19,
   "metadata": {},
   "outputs": [
    {
     "data": {
      "text/plain": [
       "((110, 7), (110,))"
      ]
     },
     "execution_count": 19,
     "metadata": {},
     "output_type": "execute_result"
    }
   ],
   "source": [
    "df_test_median_fill_norm = min_max_scaler.transform(df_test_median_fill)\n",
    "df_test_median_fill_norm = pd.DataFrame(df_test_median_fill_norm, columns=df_test_median_fill.columns)\n",
    "\n",
    "X_test = df_test_median_fill_norm.drop('car_price', axis=1)\n",
    "y_test = df_test_median_fill_norm['car_price']\n",
    "\n",
    "X_test.shape, y_test.shape"
   ]
  },
  {
   "cell_type": "markdown",
   "metadata": {},
   "source": [
    "---\n",
    "\n",
    "## Modelos de Regressão\n",
    "\n",
    "<p align=\"justify\">\n",
    "Os modelos de regressão são uma classe fundamental de algoritmos de aprendizado de máquina. Diferente dos modelos de classificação, que preveem categorias discretas, os modelos de regressão são empregados para tarefas onde a saída é uma variável contínua, como prever preços, temperaturas, ou outras medidas quantitativas.\n",
    "\n",
    "<p align=\"justify\">\n",
    "A escolha do modelo apropriado depende das características do conjunto de dados e da natureza da relação entre as variáveis independentes e dependentes. Nessa etapa do projeto, avaliaremos os modelos de Linar Regression, Random Forest Regressor, Gradient Boosting Regressor e Neural Networks. Cada abordagem contará com a variação e avaliação de multiplos conjuntos de inicializações e parâmetros, fiscalizados pelo MLFlow e selecionados pelo Optuna.\n",
    "\n",
    "<p align=\"justify\">\n",
    "Para todos os modelos, inicialmente veremos o resultado na inicialização base (default) das bibliotecas. Após isso, uma bateria de testes será feita em cada um. A métrica de avaliação majoritária será o R2 Score, amplamente utilizado em abordagens de regressão, outras métricas serão empregadas posteriormente."
   ]
  },
  {
   "cell_type": "markdown",
   "metadata": {},
   "source": [
    "### Configurando o MLflow"
   ]
  },
  {
   "cell_type": "markdown",
   "metadata": {},
   "source": [
    "<p align=\"justify\">\n",
    "Após rodar a célula abaixo, execute o comando \"mlfow ui\" no seu terminal e abra o link \"http://localhost:5000\". É lá onde aparecerão o log de cada execução."
   ]
  },
  {
   "cell_type": "code",
   "execution_count": 21,
   "metadata": {},
   "outputs": [],
   "source": [
    "mlflow.set_tracking_uri(\"http://localhost:5000\")"
   ]
  },
  {
   "cell_type": "markdown",
   "metadata": {},
   "source": [
    "---"
   ]
  },
  {
   "cell_type": "markdown",
   "metadata": {},
   "source": [
    "### Linear Regression\n",
    "\n",
    "<p align=\"justify\">\n",
    "A regressão linear é um método estatístico simples e amplamente utilizado para modelar a relação entre uma variável dependente contínua e uma ou mais variáveis independentes. O modelo assume que essa relação pode ser descrita por uma linha reta (ou hiperplano, em caso de regressão de multiplas variáveis). A regressão linear é popular devido à sua interpretabilidade e eficiência computacional, tornando-se uma escolha padrão para problemas de regressão simples e de pequena escala. No entanto, sua simplicidade pode ser uma limitação em casos onde a relação entre as variáveis é não linear ou complexa."
   ]
  },
  {
   "cell_type": "code",
   "execution_count": 22,
   "metadata": {},
   "outputs": [
    {
     "data": {
      "text/plain": [
       "0.48044819748746637"
      ]
     },
     "execution_count": 22,
     "metadata": {},
     "output_type": "execute_result"
    }
   ],
   "source": [
    "lin_reg = LinearRegression()\n",
    "lin_reg.fit(X_train, y_train)\n",
    "lin_reg.score(X_test, y_test)"
   ]
  },
  {
   "cell_type": "code",
   "execution_count": 23,
   "metadata": {},
   "outputs": [
    {
     "name": "stdout",
     "output_type": "stream",
     "text": [
      "Linear Regression R2: 0.48044819748746637\n",
      "Linear Regression MSE: 0.011984392284794903\n",
      "Linear Regression MAE: 0.058890123714717586\n"
     ]
    }
   ],
   "source": [
    "lin_reg_best_pred = lin_reg.predict(X_test)\n",
    "lin_reg_best_r2 = lin_reg.score(X_test, y_test)\n",
    "lin_reg_best_mse = np.mean((lin_reg_best_pred - y_test)**2)\n",
    "lin_reg_best_mae = np.mean(np.abs(lin_reg_best_pred - y_test))\n",
    "\n",
    "print(f'Linear Regression R2: {lin_reg_best_r2}')\n",
    "print(f'Linear Regression MSE: {lin_reg_best_mse}')\n",
    "print(f'Linear Regression MAE: {lin_reg_best_mae}')"
   ]
  },
  {
   "cell_type": "markdown",
   "metadata": {},
   "source": [
    "---"
   ]
  },
  {
   "cell_type": "markdown",
   "metadata": {},
   "source": [
    "### Random Forest Regressor\n",
    "\n",
    "<p align=\"justify\">\n",
    "O Random Forest Regressor é um poderoso algoritmo de aprendizado de máquina baseado em ensembles (método de bagging) que utiliza múltiplas árvores de decisão para melhorar a precisão preditiva e controlar o overfitting. Cada árvore no conjunto é treinada com um subconjunto aleatório dos dados e das características, e as previsões são feitas pela média das previsões individuais das árvores. O Random Forest Regressor é eficaz em capturar relações complexas e não lineares nos dados e lida bem com grandes volumes de dados."
   ]
  },
  {
   "cell_type": "code",
   "execution_count": 24,
   "metadata": {},
   "outputs": [
    {
     "data": {
      "text/plain": [
       "0.8690817091809793"
      ]
     },
     "execution_count": 24,
     "metadata": {},
     "output_type": "execute_result"
    }
   ],
   "source": [
    "rf_reg = RandomForestRegressor(\n",
    "    n_estimators=100, criterion='squared_error', min_samples_split=2, min_samples_leaf=1, \n",
    "    random_state=9\n",
    ")\n",
    "rf_reg.fit(X_train, y_train)\n",
    "rf_reg.score(X_test, y_test)"
   ]
  },
  {
   "cell_type": "markdown",
   "metadata": {},
   "source": [
    "<p align=\"justify\">\n",
    "O código abaixo faz o ajuste de hiperparâmetros através do Optuna para o RandomForestRegressor. Escolhemos variar os valores de n_estimators, criterion, min_samples_split e min_samples_leaf, por serem considerados uns dos mais impactantes na performance desse tipo de regressor."
   ]
  },
  {
   "cell_type": "code",
   "execution_count": 25,
   "metadata": {},
   "outputs": [],
   "source": [
    "def objective_rf(trial):\n",
    "    with mlflow.start_run(run_name=\"Random Forest\"):\n",
    "        n_estimators = trial.suggest_int('n_estimators', 20, 500)\n",
    "        criterion = trial.suggest_categorical('criterion', ['squared_error', 'absolute_error', 'friedman_mse', 'poisson'])\n",
    "        min_samples_split = trial.suggest_int('min_samples_split', 2, 10)\n",
    "        min_samples_leaf = trial.suggest_int('min_samples_leaf', 1, 10)\n",
    "        \n",
    "        rf_reg_obj = RandomForestRegressor(\n",
    "            n_estimators=n_estimators, criterion=criterion, min_samples_split=min_samples_split, min_samples_leaf=min_samples_leaf, \n",
    "            random_state=9\n",
    "        )\n",
    "        \n",
    "        rf_reg_obj.fit(X_train, y_train)\n",
    "\n",
    "        mlflow.log_param(\"model_type\", \"Random Forest\")\n",
    "        mlflow.log_metric(\"R2\", rf_reg_obj.score(X_test, y_test))\n",
    "        for param in trial.params:\n",
    "            mlflow.log_param(param, trial.params[param])\n",
    "        mlflow.sklearn.log_model(rf_reg_obj, \"model\")\n",
    "\n",
    "    return rf_reg_obj.score(X_test, y_test)"
   ]
  },
  {
   "cell_type": "code",
   "execution_count": 26,
   "metadata": {},
   "outputs": [
    {
     "name": "stderr",
     "output_type": "stream",
     "text": [
      "[I 2024-07-11 23:27:11,318] A new study created in memory with name: Study for random forest regressor\n",
      "[I 2024-07-11 23:27:17,738] Trial 0 finished with value: 0.8031185974977123 and parameters: {'n_estimators': 161, 'criterion': 'squared_error', 'min_samples_split': 9, 'min_samples_leaf': 10}. Best is trial 0 with value: 0.8031185974977123.\n",
      "[I 2024-07-11 23:27:20,703] Trial 1 finished with value: 0.8082467568922567 and parameters: {'n_estimators': 283, 'criterion': 'squared_error', 'min_samples_split': 7, 'min_samples_leaf': 9}. Best is trial 1 with value: 0.8082467568922567.\n",
      "[I 2024-07-11 23:27:23,741] Trial 2 finished with value: 0.8161236159106762 and parameters: {'n_estimators': 348, 'criterion': 'friedman_mse', 'min_samples_split': 9, 'min_samples_leaf': 7}. Best is trial 2 with value: 0.8161236159106762.\n",
      "[I 2024-07-11 23:27:26,562] Trial 3 finished with value: 0.8082717258028089 and parameters: {'n_estimators': 217, 'criterion': 'friedman_mse', 'min_samples_split': 4, 'min_samples_leaf': 9}. Best is trial 2 with value: 0.8161236159106762.\n",
      "[I 2024-07-11 23:27:32,507] Trial 4 finished with value: 0.7132037674618164 and parameters: {'n_estimators': 377, 'criterion': 'absolute_error', 'min_samples_split': 9, 'min_samples_leaf': 10}. Best is trial 2 with value: 0.8161236159106762.\n",
      "[I 2024-07-11 23:27:35,203] Trial 5 finished with value: 0.8289083902962948 and parameters: {'n_estimators': 128, 'criterion': 'squared_error', 'min_samples_split': 9, 'min_samples_leaf': 4}. Best is trial 5 with value: 0.8289083902962948.\n",
      "[I 2024-07-11 23:27:38,063] Trial 6 finished with value: 0.8182076900152064 and parameters: {'n_estimators': 165, 'criterion': 'friedman_mse', 'min_samples_split': 10, 'min_samples_leaf': 5}. Best is trial 5 with value: 0.8289083902962948.\n",
      "[I 2024-07-11 23:27:41,254] Trial 7 finished with value: 0.8616605704557532 and parameters: {'n_estimators': 236, 'criterion': 'poisson', 'min_samples_split': 7, 'min_samples_leaf': 1}. Best is trial 7 with value: 0.8616605704557532.\n",
      "[I 2024-07-11 23:27:47,951] Trial 8 finished with value: 0.8005961261367681 and parameters: {'n_estimators': 341, 'criterion': 'absolute_error', 'min_samples_split': 6, 'min_samples_leaf': 2}. Best is trial 7 with value: 0.8616605704557532.\n",
      "[I 2024-07-11 23:27:50,821] Trial 9 finished with value: 0.8350501037429773 and parameters: {'n_estimators': 156, 'criterion': 'poisson', 'min_samples_split': 2, 'min_samples_leaf': 5}. Best is trial 7 with value: 0.8616605704557532.\n",
      "[I 2024-07-11 23:27:53,365] Trial 10 finished with value: 0.8549442978596148 and parameters: {'n_estimators': 20, 'criterion': 'poisson', 'min_samples_split': 6, 'min_samples_leaf': 1}. Best is trial 7 with value: 0.8616605704557532.\n",
      "[I 2024-07-11 23:27:55,958] Trial 11 finished with value: 0.8670439414105348 and parameters: {'n_estimators': 57, 'criterion': 'poisson', 'min_samples_split': 6, 'min_samples_leaf': 1}. Best is trial 11 with value: 0.8670439414105348.\n",
      "[I 2024-07-11 23:27:59,613] Trial 12 finished with value: 0.8446272572804749 and parameters: {'n_estimators': 474, 'criterion': 'poisson', 'min_samples_split': 7, 'min_samples_leaf': 3}. Best is trial 11 with value: 0.8670439414105348.\n",
      "[I 2024-07-11 23:28:02,257] Trial 13 finished with value: 0.8634713818515405 and parameters: {'n_estimators': 35, 'criterion': 'poisson', 'min_samples_split': 4, 'min_samples_leaf': 1}. Best is trial 11 with value: 0.8670439414105348.\n",
      "[I 2024-07-11 23:28:04,791] Trial 14 finished with value: 0.8306993274405464 and parameters: {'n_estimators': 21, 'criterion': 'poisson', 'min_samples_split': 4, 'min_samples_leaf': 3}. Best is trial 11 with value: 0.8670439414105348.\n",
      "[I 2024-07-11 23:28:07,514] Trial 15 finished with value: 0.8713417461933672 and parameters: {'n_estimators': 85, 'criterion': 'poisson', 'min_samples_split': 4, 'min_samples_leaf': 1}. Best is trial 15 with value: 0.8713417461933672.\n",
      "[I 2024-07-11 23:28:10,192] Trial 16 finished with value: 0.8184909331858173 and parameters: {'n_estimators': 90, 'criterion': 'poisson', 'min_samples_split': 3, 'min_samples_leaf': 7}. Best is trial 15 with value: 0.8713417461933672.\n",
      "[I 2024-07-11 23:28:12,864] Trial 17 finished with value: 0.8476012457048251 and parameters: {'n_estimators': 88, 'criterion': 'poisson', 'min_samples_split': 5, 'min_samples_leaf': 3}. Best is trial 15 with value: 0.8713417461933672.\n",
      "[I 2024-07-11 23:28:16,341] Trial 18 finished with value: 0.822558509396761 and parameters: {'n_estimators': 83, 'criterion': 'absolute_error', 'min_samples_split': 2, 'min_samples_leaf': 2}. Best is trial 15 with value: 0.8713417461933672.\n",
      "[I 2024-07-11 23:28:19,213] Trial 19 finished with value: 0.8293159199146507 and parameters: {'n_estimators': 214, 'criterion': 'poisson', 'min_samples_split': 5, 'min_samples_leaf': 6}. Best is trial 15 with value: 0.8713417461933672.\n",
      "[I 2024-07-11 23:28:22,472] Trial 20 finished with value: 0.8591757721028053 and parameters: {'n_estimators': 290, 'criterion': 'poisson', 'min_samples_split': 3, 'min_samples_leaf': 2}. Best is trial 15 with value: 0.8713417461933672.\n",
      "[I 2024-07-11 23:28:25,085] Trial 21 finished with value: 0.8705071677905909 and parameters: {'n_estimators': 56, 'criterion': 'poisson', 'min_samples_split': 4, 'min_samples_leaf': 1}. Best is trial 15 with value: 0.8713417461933672.\n",
      "[I 2024-07-11 23:28:27,721] Trial 22 finished with value: 0.8700071832239697 and parameters: {'n_estimators': 63, 'criterion': 'poisson', 'min_samples_split': 5, 'min_samples_leaf': 1}. Best is trial 15 with value: 0.8713417461933672.\n",
      "[I 2024-07-11 23:28:30,518] Trial 23 finished with value: 0.8613676117743773 and parameters: {'n_estimators': 123, 'criterion': 'poisson', 'min_samples_split': 5, 'min_samples_leaf': 2}. Best is trial 15 with value: 0.8713417461933672.\n",
      "[I 2024-07-11 23:28:33,186] Trial 24 finished with value: 0.842503344517104 and parameters: {'n_estimators': 62, 'criterion': 'poisson', 'min_samples_split': 4, 'min_samples_leaf': 4}. Best is trial 15 with value: 0.8713417461933672.\n",
      "[I 2024-07-11 23:28:36,075] Trial 25 finished with value: 0.8681790548472966 and parameters: {'n_estimators': 113, 'criterion': 'poisson', 'min_samples_split': 3, 'min_samples_leaf': 1}. Best is trial 15 with value: 0.8713417461933672.\n",
      "[I 2024-07-11 23:28:38,975] Trial 26 finished with value: 0.8397058480633689 and parameters: {'n_estimators': 188, 'criterion': 'friedman_mse', 'min_samples_split': 5, 'min_samples_leaf': 3}. Best is trial 15 with value: 0.8713417461933672.\n",
      "[I 2024-07-11 23:28:42,302] Trial 27 finished with value: 0.8298443902405602 and parameters: {'n_estimators': 62, 'criterion': 'absolute_error', 'min_samples_split': 3, 'min_samples_leaf': 2}. Best is trial 15 with value: 0.8713417461933672.\n",
      "[I 2024-07-11 23:28:45,059] Trial 28 finished with value: 0.8314844982437841 and parameters: {'n_estimators': 130, 'criterion': 'squared_error', 'min_samples_split': 4, 'min_samples_leaf': 4}. Best is trial 15 with value: 0.8713417461933672.\n",
      "[I 2024-07-11 23:28:47,901] Trial 29 finished with value: 0.8506352576435253 and parameters: {'n_estimators': 164, 'criterion': 'squared_error', 'min_samples_split': 8, 'min_samples_leaf': 1}. Best is trial 15 with value: 0.8713417461933672.\n",
      "[I 2024-07-11 23:28:51,784] Trial 30 finished with value: 0.8556656452726225 and parameters: {'n_estimators': 463, 'criterion': 'poisson', 'min_samples_split': 5, 'min_samples_leaf': 2}. Best is trial 15 with value: 0.8713417461933672.\n",
      "[I 2024-07-11 23:28:54,777] Trial 31 finished with value: 0.8641264219247607 and parameters: {'n_estimators': 108, 'criterion': 'poisson', 'min_samples_split': 3, 'min_samples_leaf': 1}. Best is trial 15 with value: 0.8713417461933672.\n",
      "[I 2024-07-11 23:28:57,564] Trial 32 finished with value: 0.8739712083437302 and parameters: {'n_estimators': 64, 'criterion': 'poisson', 'min_samples_split': 2, 'min_samples_leaf': 1}. Best is trial 32 with value: 0.8739712083437302.\n",
      "[I 2024-07-11 23:29:00,260] Trial 33 finished with value: 0.8541103862806827 and parameters: {'n_estimators': 50, 'criterion': 'poisson', 'min_samples_split': 2, 'min_samples_leaf': 2}. Best is trial 32 with value: 0.8739712083437302.\n",
      "[I 2024-07-11 23:29:03,192] Trial 34 finished with value: 0.846779216522198 and parameters: {'n_estimators': 75, 'criterion': 'poisson', 'min_samples_split': 2, 'min_samples_leaf': 3}. Best is trial 32 with value: 0.8739712083437302.\n",
      "[I 2024-07-11 23:29:06,026] Trial 35 finished with value: 0.8115868200741432 and parameters: {'n_estimators': 144, 'criterion': 'friedman_mse', 'min_samples_split': 4, 'min_samples_leaf': 8}. Best is trial 32 with value: 0.8739712083437302.\n",
      "[I 2024-07-11 23:29:08,778] Trial 36 finished with value: 0.8567564891293289 and parameters: {'n_estimators': 98, 'criterion': 'squared_error', 'min_samples_split': 7, 'min_samples_leaf': 1}. Best is trial 32 with value: 0.8739712083437302.\n",
      "[I 2024-07-11 23:29:11,836] Trial 37 finished with value: 0.8592835449784635 and parameters: {'n_estimators': 194, 'criterion': 'poisson', 'min_samples_split': 3, 'min_samples_leaf': 2}. Best is trial 32 with value: 0.8739712083437302.\n",
      "[I 2024-07-11 23:29:14,883] Trial 38 finished with value: 0.8025197648321136 and parameters: {'n_estimators': 275, 'criterion': 'friedman_mse', 'min_samples_split': 5, 'min_samples_leaf': 10}. Best is trial 32 with value: 0.8739712083437302.\n",
      "[I 2024-07-11 23:29:17,967] Trial 39 finished with value: 0.8555130394638141 and parameters: {'n_estimators': 38, 'criterion': 'absolute_error', 'min_samples_split': 4, 'min_samples_leaf': 1}. Best is trial 32 with value: 0.8739712083437302.\n",
      "[I 2024-07-11 23:29:21,509] Trial 40 finished with value: 0.8338531356915548 and parameters: {'n_estimators': 429, 'criterion': 'poisson', 'min_samples_split': 6, 'min_samples_leaf': 4}. Best is trial 32 with value: 0.8739712083437302.\n",
      "[I 2024-07-11 23:29:24,501] Trial 41 finished with value: 0.8690894517185069 and parameters: {'n_estimators': 121, 'criterion': 'poisson', 'min_samples_split': 3, 'min_samples_leaf': 1}. Best is trial 32 with value: 0.8739712083437302.\n",
      "[I 2024-07-11 23:29:27,318] Trial 42 finished with value: 0.8715076140677513 and parameters: {'n_estimators': 69, 'criterion': 'poisson', 'min_samples_split': 2, 'min_samples_leaf': 1}. Best is trial 32 with value: 0.8739712083437302.\n",
      "[I 2024-07-11 23:29:30,107] Trial 43 finished with value: 0.8571724919303311 and parameters: {'n_estimators': 70, 'criterion': 'poisson', 'min_samples_split': 2, 'min_samples_leaf': 2}. Best is trial 32 with value: 0.8739712083437302.\n",
      "[I 2024-07-11 23:29:32,803] Trial 44 finished with value: 0.8617758976015026 and parameters: {'n_estimators': 42, 'criterion': 'poisson', 'min_samples_split': 2, 'min_samples_leaf': 1}. Best is trial 32 with value: 0.8739712083437302.\n",
      "[I 2024-07-11 23:29:35,665] Trial 45 finished with value: 0.8508818158213659 and parameters: {'n_estimators': 142, 'criterion': 'poisson', 'min_samples_split': 10, 'min_samples_leaf': 1}. Best is trial 32 with value: 0.8739712083437302.\n",
      "[I 2024-07-11 23:29:38,840] Trial 46 finished with value: 0.8416297870956544 and parameters: {'n_estimators': 318, 'criterion': 'squared_error', 'min_samples_split': 6, 'min_samples_leaf': 3}. Best is trial 32 with value: 0.8739712083437302.\n",
      "[I 2024-07-11 23:29:41,385] Trial 47 finished with value: 0.8260370404565099 and parameters: {'n_estimators': 21, 'criterion': 'poisson', 'min_samples_split': 4, 'min_samples_leaf': 2}. Best is trial 32 with value: 0.8739712083437302.\n",
      "[I 2024-07-11 23:29:44,068] Trial 48 finished with value: 0.8092136216080703 and parameters: {'n_estimators': 98, 'criterion': 'poisson', 'min_samples_split': 2, 'min_samples_leaf': 9}. Best is trial 32 with value: 0.8739712083437302.\n",
      "[I 2024-07-11 23:29:47,098] Trial 49 finished with value: 0.7670584998791162 and parameters: {'n_estimators': 47, 'criterion': 'absolute_error', 'min_samples_split': 3, 'min_samples_leaf': 5}. Best is trial 32 with value: 0.8739712083437302.\n"
     ]
    },
    {
     "name": "stdout",
     "output_type": "stream",
     "text": [
      "\n",
      "Best trial: FrozenTrial(number=32, state=1, values=[0.8739712083437302], datetime_start=datetime.datetime(2024, 7, 11, 23, 28, 54, 777140), datetime_complete=datetime.datetime(2024, 7, 11, 23, 28, 57, 564639), params={'n_estimators': 64, 'criterion': 'poisson', 'min_samples_split': 2, 'min_samples_leaf': 1}, user_attrs={}, system_attrs={}, intermediate_values={}, distributions={'n_estimators': IntDistribution(high=500, log=False, low=20, step=1), 'criterion': CategoricalDistribution(choices=('squared_error', 'absolute_error', 'friedman_mse', 'poisson')), 'min_samples_split': IntDistribution(high=10, log=False, low=2, step=1), 'min_samples_leaf': IntDistribution(high=10, log=False, low=1, step=1)}, trial_id=32, value=None)\n"
     ]
    }
   ],
   "source": [
    "rf_study = optuna.create_study( study_name=\"Study for random forest regressor\", direction=\"maximize\")\n",
    "rf_study.optimize(objective_rf, n_trials=50)\n",
    "print(f'\\nBest trial: {rf_study.best_trial}')"
   ]
  },
  {
   "cell_type": "code",
   "execution_count": 27,
   "metadata": {},
   "outputs": [
    {
     "name": "stdout",
     "output_type": "stream",
     "text": [
      "Random Forest R2: 0.8739712083437302\n",
      "Random Forest MSE: 0.0029070796618995225\n",
      "Random Forest MAE: 0.025354696606614373\n"
     ]
    }
   ],
   "source": [
    "rf_study.best_trial.params\n",
    "\n",
    "rf_reg_best = RandomForestRegressor(\n",
    "    n_estimators=rf_study.best_params['n_estimators'], criterion=rf_study.best_params['criterion'], \n",
    "    min_samples_split=rf_study.best_params['min_samples_split'], min_samples_leaf=rf_study.best_params['min_samples_leaf'], \n",
    "    random_state=9\n",
    ")\n",
    "rf_reg_best.fit(X_train, y_train)\n",
    "rf_reg_best_pred = rf_reg_best.predict(X_test)\n",
    "\n",
    "rf_reg_best_r2 = rf_reg_best.score(X_test, y_test)\n",
    "rf_reg_best_mse = np.mean((rf_reg_best_pred - y_test)**2)\n",
    "rf_reg_best_mae = np.mean(np.abs(rf_reg_best_pred - y_test))\n",
    "\n",
    "print(f'Random Forest R2: {rf_reg_best_r2}')\n",
    "print(f'Random Forest MSE: {rf_reg_best_mse}')\n",
    "print(f'Random Forest MAE: {rf_reg_best_mae}')"
   ]
  },
  {
   "cell_type": "markdown",
   "metadata": {},
   "source": [
    "---"
   ]
  },
  {
   "cell_type": "markdown",
   "metadata": {},
   "source": [
    "### Gradient Boosting Regressor\n",
    "\n",
    "<p align=\"justify\">\n",
    "O Gradient Boosting Regressor é uma técnica avançada de ensemble que combina múltiplos modelos fracos para criar um modelo forte. Ele trabalha treinando sequencialmente cada novo modelo para corrigir os erros residuais dos modelos anteriores, otimizando iterativamente a função de custo através do gradiente descendente. O Gradient Boosting é altamente flexível e pode modelar relações complexas e não lineares entre as variáveis.  É amplamente utilizado em competições de ciência de dados devido à sua alta performance."
   ]
  },
  {
   "cell_type": "code",
   "execution_count": 28,
   "metadata": {},
   "outputs": [
    {
     "data": {
      "text/plain": [
       "0.8655316624632208"
      ]
     },
     "execution_count": 28,
     "metadata": {},
     "output_type": "execute_result"
    }
   ],
   "source": [
    "gb_reg = GradientBoostingRegressor(\n",
    "    loss='squared_error', learning_rate=0.1, n_estimators=100, criterion='friedman_mse',\n",
    "    random_state=9\n",
    ")\n",
    "gb_reg.fit(X_train, y_train)\n",
    "gb_reg.score(X_test, y_test)"
   ]
  },
  {
   "cell_type": "markdown",
   "metadata": {},
   "source": [
    "<p align=\"justify\">\n",
    "O código abaixo faz o ajuste de hiperparâmetros através do Optuna para o GradientBoostingRegressor. Escolhemos variar os valores de loss, learning_rate, n_estimators e criterion, por serem considerados uns dos mais impactantes na performance desse tipo de regressor."
   ]
  },
  {
   "cell_type": "code",
   "execution_count": 29,
   "metadata": {},
   "outputs": [],
   "source": [
    "def objective_gb(trial):\n",
    "    with mlflow.start_run(run_name=\"Gradient Boosting\"):\n",
    "        loss = trial.suggest_categorical('loss', ['squared_error', 'absolute_error', 'huber', 'quantile'])\n",
    "        learning_rate = trial.suggest_float('learning_rate', 0.05, 0.5)\n",
    "        n_estimators = trial.suggest_int('n_estimators', 20, 500)\n",
    "        criterion = trial.suggest_categorical('criterion', ['friedman_mse', 'squared_error'])\n",
    "        \n",
    "        gb_reg_obj = GradientBoostingRegressor(\n",
    "            loss=loss, learning_rate=learning_rate, n_estimators=n_estimators, criterion=criterion, \n",
    "            random_state=9\n",
    "        )\n",
    "        \n",
    "        gb_reg_obj.fit(X_train, y_train)\n",
    "\n",
    "        mlflow.log_param(\"model_type\", \"Gradient Boosting\")\n",
    "        mlflow.log_metric(\"R2\", gb_reg_obj.score(X_test, y_test))\n",
    "        for param in trial.params:\n",
    "            mlflow.log_param(param, trial.params[param])\n",
    "        mlflow.sklearn.log_model(gb_reg_obj, \"model\")\n",
    "\n",
    "    return gb_reg_obj.score(X_test, y_test)"
   ]
  },
  {
   "cell_type": "code",
   "execution_count": 30,
   "metadata": {},
   "outputs": [
    {
     "name": "stderr",
     "output_type": "stream",
     "text": [
      "[I 2024-07-11 23:29:47,422] A new study created in memory with name: Study for gradient boosting regressor\n",
      "[I 2024-07-11 23:29:49,956] Trial 0 finished with value: 0.8451046436443369 and parameters: {'loss': 'squared_error', 'learning_rate': 0.2745759805765313, 'n_estimators': 24, 'criterion': 'friedman_mse'}. Best is trial 0 with value: 0.8451046436443369.\n",
      "[I 2024-07-11 23:29:52,810] Trial 1 finished with value: 0.6981173663414524 and parameters: {'loss': 'absolute_error', 'learning_rate': 0.31113507560082354, 'n_estimators': 176, 'criterion': 'friedman_mse'}. Best is trial 0 with value: 0.8451046436443369.\n",
      "[I 2024-07-11 23:29:56,002] Trial 2 finished with value: 0.7990989140302552 and parameters: {'loss': 'huber', 'learning_rate': 0.08416013755437057, 'n_estimators': 240, 'criterion': 'friedman_mse'}. Best is trial 0 with value: 0.8451046436443369.\n",
      "[I 2024-07-11 23:29:58,895] Trial 3 finished with value: 0.8908495956995311 and parameters: {'loss': 'squared_error', 'learning_rate': 0.4851701815593076, 'n_estimators': 460, 'criterion': 'friedman_mse'}. Best is trial 3 with value: 0.8908495956995311.\n",
      "[I 2024-07-11 23:30:01,418] Trial 4 finished with value: 0.9316871956935099 and parameters: {'loss': 'squared_error', 'learning_rate': 0.47020369190091627, 'n_estimators': 63, 'criterion': 'friedman_mse'}. Best is trial 4 with value: 0.9316871956935099.\n",
      "[I 2024-07-11 23:30:04,351] Trial 5 finished with value: 0.9028068368978481 and parameters: {'loss': 'squared_error', 'learning_rate': 0.25151751913997866, 'n_estimators': 489, 'criterion': 'squared_error'}. Best is trial 4 with value: 0.9316871956935099.\n",
      "[I 2024-07-11 23:30:07,284] Trial 6 finished with value: 0.7504090204129701 and parameters: {'loss': 'absolute_error', 'learning_rate': 0.33504065605830163, 'n_estimators': 300, 'criterion': 'squared_error'}. Best is trial 4 with value: 0.9316871956935099.\n",
      "[I 2024-07-11 23:30:10,128] Trial 7 finished with value: 0.6614483928994468 and parameters: {'loss': 'absolute_error', 'learning_rate': 0.16832939634390937, 'n_estimators': 159, 'criterion': 'friedman_mse'}. Best is trial 4 with value: 0.9316871956935099.\n",
      "[I 2024-07-11 23:30:12,960] Trial 8 finished with value: 0.8069878068850769 and parameters: {'loss': 'quantile', 'learning_rate': 0.3031515034852318, 'n_estimators': 122, 'criterion': 'squared_error'}. Best is trial 4 with value: 0.9316871956935099.\n",
      "[I 2024-07-11 23:30:15,712] Trial 9 finished with value: 0.6613594556326405 and parameters: {'loss': 'absolute_error', 'learning_rate': 0.2563349563871864, 'n_estimators': 144, 'criterion': 'squared_error'}. Best is trial 4 with value: 0.9316871956935099.\n",
      "[I 2024-07-11 23:30:18,297] Trial 10 finished with value: 0.738106821502942 and parameters: {'loss': 'huber', 'learning_rate': 0.420977220721407, 'n_estimators': 41, 'criterion': 'friedman_mse'}. Best is trial 4 with value: 0.9316871956935099.\n",
      "[I 2024-07-11 23:30:21,256] Trial 11 finished with value: 0.8998466259740007 and parameters: {'loss': 'squared_error', 'learning_rate': 0.1902466942531829, 'n_estimators': 469, 'criterion': 'squared_error'}. Best is trial 4 with value: 0.9316871956935099.\n",
      "[I 2024-07-11 23:30:24,302] Trial 12 finished with value: 0.8770450495803735 and parameters: {'loss': 'squared_error', 'learning_rate': 0.39736461335880774, 'n_estimators': 365, 'criterion': 'squared_error'}. Best is trial 4 with value: 0.9316871956935099.\n",
      "[I 2024-07-11 23:30:27,142] Trial 13 finished with value: 0.8634956449161683 and parameters: {'loss': 'squared_error', 'learning_rate': 0.4942561332489861, 'n_estimators': 379, 'criterion': 'squared_error'}. Best is trial 4 with value: 0.9316871956935099.\n",
      "[I 2024-07-11 23:30:30,165] Trial 14 finished with value: 0.7991594991994777 and parameters: {'loss': 'quantile', 'learning_rate': 0.20000005101878365, 'n_estimators': 247, 'criterion': 'friedman_mse'}. Best is trial 4 with value: 0.9316871956935099.\n",
      "[I 2024-07-11 23:30:33,119] Trial 15 finished with value: 0.8840175870150528 and parameters: {'loss': 'squared_error', 'learning_rate': 0.3847900304719733, 'n_estimators': 397, 'criterion': 'squared_error'}. Best is trial 4 with value: 0.9316871956935099.\n",
      "[I 2024-07-11 23:30:35,683] Trial 16 finished with value: 0.8358831577880669 and parameters: {'loss': 'squared_error', 'learning_rate': 0.10725757592817511, 'n_estimators': 83, 'criterion': 'friedman_mse'}. Best is trial 4 with value: 0.9316871956935099.\n",
      "[I 2024-07-11 23:30:38,574] Trial 17 finished with value: 0.9102408379844152 and parameters: {'loss': 'squared_error', 'learning_rate': 0.22660203996539693, 'n_estimators': 324, 'criterion': 'squared_error'}. Best is trial 4 with value: 0.9316871956935099.\n",
      "[I 2024-07-11 23:30:41,582] Trial 18 finished with value: 0.7957401119088824 and parameters: {'loss': 'quantile', 'learning_rate': 0.1287422351565754, 'n_estimators': 292, 'criterion': 'friedman_mse'}. Best is trial 4 with value: 0.9316871956935099.\n",
      "[I 2024-07-11 23:30:44,530] Trial 19 finished with value: 0.8449034958130739 and parameters: {'loss': 'huber', 'learning_rate': 0.3517108573694989, 'n_estimators': 212, 'criterion': 'squared_error'}. Best is trial 4 with value: 0.9316871956935099.\n",
      "[I 2024-07-11 23:30:47,280] Trial 20 finished with value: 0.8960381214709819 and parameters: {'loss': 'squared_error', 'learning_rate': 0.21479376861919405, 'n_estimators': 334, 'criterion': 'friedman_mse'}. Best is trial 4 with value: 0.9316871956935099.\n",
      "[I 2024-07-11 23:30:50,222] Trial 21 finished with value: 0.8815858329341878 and parameters: {'loss': 'squared_error', 'learning_rate': 0.24788055367660627, 'n_estimators': 498, 'criterion': 'squared_error'}. Best is trial 4 with value: 0.9316871956935099.\n",
      "[I 2024-07-11 23:30:53,174] Trial 22 finished with value: 0.876564028313623 and parameters: {'loss': 'squared_error', 'learning_rate': 0.14918708912404632, 'n_estimators': 418, 'criterion': 'squared_error'}. Best is trial 4 with value: 0.9316871956935099.\n",
      "[I 2024-07-11 23:30:56,057] Trial 23 finished with value: 0.8800806715070114 and parameters: {'loss': 'squared_error', 'learning_rate': 0.23274840413476605, 'n_estimators': 333, 'criterion': 'squared_error'}. Best is trial 4 with value: 0.9316871956935099.\n",
      "[I 2024-07-11 23:30:58,920] Trial 24 finished with value: 0.9163357058057391 and parameters: {'loss': 'squared_error', 'learning_rate': 0.45688626557911866, 'n_estimators': 435, 'criterion': 'squared_error'}. Best is trial 4 with value: 0.9316871956935099.\n",
      "[I 2024-07-11 23:31:01,781] Trial 25 finished with value: 0.9317053363805541 and parameters: {'loss': 'squared_error', 'learning_rate': 0.44687819646177585, 'n_estimators': 432, 'criterion': 'squared_error'}. Best is trial 25 with value: 0.9317053363805541.\n",
      "[I 2024-07-11 23:31:04,611] Trial 26 finished with value: 0.8874181032841754 and parameters: {'loss': 'squared_error', 'learning_rate': 0.4431164914806861, 'n_estimators': 430, 'criterion': 'squared_error'}. Best is trial 25 with value: 0.9317053363805541.\n",
      "[I 2024-07-11 23:31:07,800] Trial 27 finished with value: 0.7869712930635597 and parameters: {'loss': 'quantile', 'learning_rate': 0.4542889830300192, 'n_estimators': 435, 'criterion': 'squared_error'}. Best is trial 25 with value: 0.9317053363805541.\n",
      "[I 2024-07-11 23:31:10,697] Trial 28 finished with value: 0.8063334971286112 and parameters: {'loss': 'huber', 'learning_rate': 0.4608116699247068, 'n_estimators': 194, 'criterion': 'friedman_mse'}. Best is trial 25 with value: 0.9317053363805541.\n",
      "[I 2024-07-11 23:31:13,236] Trial 29 finished with value: 0.8730734102002703 and parameters: {'loss': 'squared_error', 'learning_rate': 0.38926064908336533, 'n_estimators': 66, 'criterion': 'friedman_mse'}. Best is trial 25 with value: 0.9317053363805541.\n",
      "[I 2024-07-11 23:31:15,980] Trial 30 finished with value: 0.861143998248856 and parameters: {'loss': 'squared_error', 'learning_rate': 0.43168676658350297, 'n_estimators': 277, 'criterion': 'squared_error'}. Best is trial 25 with value: 0.9317053363805541.\n",
      "[I 2024-07-11 23:31:18,777] Trial 31 finished with value: 0.9143288827908201 and parameters: {'loss': 'squared_error', 'learning_rate': 0.47067299873233925, 'n_estimators': 336, 'criterion': 'squared_error'}. Best is trial 25 with value: 0.9317053363805541.\n",
      "[I 2024-07-11 23:31:21,652] Trial 32 finished with value: 0.8955681128650994 and parameters: {'loss': 'squared_error', 'learning_rate': 0.47659351163449515, 'n_estimators': 363, 'criterion': 'squared_error'}. Best is trial 25 with value: 0.9317053363805541.\n",
      "[I 2024-07-11 23:31:24,552] Trial 33 finished with value: 0.8582004062122336 and parameters: {'loss': 'squared_error', 'learning_rate': 0.41337954906868896, 'n_estimators': 411, 'criterion': 'squared_error'}. Best is trial 25 with value: 0.9317053363805541.\n",
      "[I 2024-07-11 23:31:27,676] Trial 34 finished with value: 0.9032725996581803 and parameters: {'loss': 'squared_error', 'learning_rate': 0.35717730646565715, 'n_estimators': 450, 'criterion': 'squared_error'}. Best is trial 25 with value: 0.9317053363805541.\n",
      "[I 2024-07-11 23:31:30,980] Trial 35 finished with value: 0.7549873291539628 and parameters: {'loss': 'absolute_error', 'learning_rate': 0.49989356931569984, 'n_estimators': 387, 'criterion': 'friedman_mse'}. Best is trial 25 with value: 0.9317053363805541.\n",
      "[I 2024-07-11 23:31:33,721] Trial 36 finished with value: 0.9408167576832518 and parameters: {'loss': 'squared_error', 'learning_rate': 0.4653490811715117, 'n_estimators': 216, 'criterion': 'squared_error'}. Best is trial 36 with value: 0.9408167576832518.\n",
      "[I 2024-07-11 23:31:36,418] Trial 37 finished with value: 0.7953603784335455 and parameters: {'loss': 'huber', 'learning_rate': 0.44173208826660215, 'n_estimators': 104, 'criterion': 'friedman_mse'}. Best is trial 36 with value: 0.9408167576832518.\n",
      "[I 2024-07-11 23:31:39,172] Trial 38 finished with value: 0.8811776432937364 and parameters: {'loss': 'squared_error', 'learning_rate': 0.3048412655950892, 'n_estimators': 207, 'criterion': 'squared_error'}. Best is trial 36 with value: 0.9408167576832518.\n",
      "[I 2024-07-11 23:31:42,037] Trial 39 finished with value: 0.7380678606627579 and parameters: {'loss': 'absolute_error', 'learning_rate': 0.35613426516286295, 'n_estimators': 235, 'criterion': 'squared_error'}. Best is trial 36 with value: 0.9408167576832518.\n",
      "[I 2024-07-11 23:31:44,578] Trial 40 finished with value: 0.6983262708376836 and parameters: {'loss': 'squared_error', 'learning_rate': 0.05263839266388359, 'n_estimators': 30, 'criterion': 'friedman_mse'}. Best is trial 36 with value: 0.9408167576832518.\n",
      "[I 2024-07-11 23:31:47,505] Trial 41 finished with value: 0.9399579695066672 and parameters: {'loss': 'squared_error', 'learning_rate': 0.465142209346937, 'n_estimators': 465, 'criterion': 'squared_error'}. Best is trial 36 with value: 0.9408167576832518.\n",
      "[I 2024-07-11 23:31:50,422] Trial 42 finished with value: 0.8705567677407745 and parameters: {'loss': 'squared_error', 'learning_rate': 0.41360475447007383, 'n_estimators': 463, 'criterion': 'squared_error'}. Best is trial 36 with value: 0.9408167576832518.\n",
      "[I 2024-07-11 23:31:53,312] Trial 43 finished with value: 0.8902202131612271 and parameters: {'loss': 'squared_error', 'learning_rate': 0.4743420378498239, 'n_estimators': 474, 'criterion': 'squared_error'}. Best is trial 36 with value: 0.9408167576832518.\n",
      "[I 2024-07-11 23:31:55,910] Trial 44 finished with value: 0.924296297988204 and parameters: {'loss': 'squared_error', 'learning_rate': 0.4576356091816356, 'n_estimators': 128, 'criterion': 'squared_error'}. Best is trial 36 with value: 0.9408167576832518.\n",
      "[I 2024-07-11 23:31:58,649] Trial 45 finished with value: 0.7545339822000211 and parameters: {'loss': 'quantile', 'learning_rate': 0.4883026473958911, 'n_estimators': 133, 'criterion': 'squared_error'}. Best is trial 36 with value: 0.9408167576832518.\n",
      "[I 2024-07-11 23:32:01,576] Trial 46 finished with value: 0.7253941999577543 and parameters: {'loss': 'absolute_error', 'learning_rate': 0.42552859316317626, 'n_estimators': 172, 'criterion': 'squared_error'}. Best is trial 36 with value: 0.9408167576832518.\n",
      "[I 2024-07-11 23:32:04,122] Trial 47 finished with value: 0.8466118684899453 and parameters: {'loss': 'squared_error', 'learning_rate': 0.3987672192387607, 'n_estimators': 63, 'criterion': 'squared_error'}. Best is trial 36 with value: 0.9408167576832518.\n",
      "[I 2024-07-11 23:32:06,696] Trial 48 finished with value: 0.9021140144615485 and parameters: {'loss': 'squared_error', 'learning_rate': 0.2794775980488608, 'n_estimators': 109, 'criterion': 'friedman_mse'}. Best is trial 36 with value: 0.9408167576832518.\n",
      "[I 2024-07-11 23:32:09,543] Trial 49 finished with value: 0.8906342067803513 and parameters: {'loss': 'huber', 'learning_rate': 0.3778346903467568, 'n_estimators': 153, 'criterion': 'squared_error'}. Best is trial 36 with value: 0.9408167576832518.\n"
     ]
    },
    {
     "name": "stdout",
     "output_type": "stream",
     "text": [
      "\n",
      "Best trial: FrozenTrial(number=36, state=1, values=[0.9408167576832518], datetime_start=datetime.datetime(2024, 7, 11, 23, 31, 30, 981986), datetime_complete=datetime.datetime(2024, 7, 11, 23, 31, 33, 721933), params={'loss': 'squared_error', 'learning_rate': 0.4653490811715117, 'n_estimators': 216, 'criterion': 'squared_error'}, user_attrs={}, system_attrs={}, intermediate_values={}, distributions={'loss': CategoricalDistribution(choices=('squared_error', 'absolute_error', 'huber', 'quantile')), 'learning_rate': FloatDistribution(high=0.5, log=False, low=0.05, step=None), 'n_estimators': IntDistribution(high=500, log=False, low=20, step=1), 'criterion': CategoricalDistribution(choices=('friedman_mse', 'squared_error'))}, trial_id=36, value=None)\n"
     ]
    }
   ],
   "source": [
    "gb_study = optuna.create_study( study_name=\"Study for gradient boosting regressor\", direction=\"maximize\")\n",
    "gb_study.optimize(objective_gb, n_trials=50)\n",
    "print(f'\\nBest trial: {gb_study.best_trial}')"
   ]
  },
  {
   "cell_type": "code",
   "execution_count": 31,
   "metadata": {},
   "outputs": [
    {
     "name": "stdout",
     "output_type": "stream",
     "text": [
      "Gradient Boosting R2: 0.9408167576832518\n",
      "Gradient Boosting MSE: 0.0013651674177241919\n",
      "Gradient Boosting MAE: 0.02189676612712647\n"
     ]
    }
   ],
   "source": [
    "gb_params = gb_study.best_trial.params\n",
    "\n",
    "gb_reg_best = GradientBoostingRegressor(\n",
    "    loss=gb_params['loss'], learning_rate=gb_params['learning_rate'], n_estimators=gb_params['n_estimators'], criterion=gb_params['criterion'],\n",
    "    random_state=9\n",
    ")\n",
    "gb_reg_best.fit(X_train, y_train)\n",
    "gb_reg_best_pred = gb_reg_best.predict(X_test)\n",
    "\n",
    "gb_reg_best_r2 = gb_reg_best.score(X_test, y_test)\n",
    "gb_reg_best_mse = np.mean((gb_reg_best_pred - y_test)**2)\n",
    "gb_reg_best_mae = np.mean(np.abs(gb_reg_best_pred - y_test))\n",
    "\n",
    "print(f'Gradient Boosting R2: {gb_reg_best_r2}')\n",
    "print(f'Gradient Boosting MSE: {gb_reg_best_mse}')\n",
    "print(f'Gradient Boosting MAE: {gb_reg_best_mae}')"
   ]
  },
  {
   "cell_type": "markdown",
   "metadata": {},
   "source": [
    "---"
   ]
  },
  {
   "cell_type": "markdown",
   "metadata": {},
   "source": [
    "### Artificial Neural Network\n",
    "\n",
    "<p align=\"justify\">\n",
    "Redes neurais para regressão utilizam a arquitetura de camadas densamente conectadas para modelar relações complexas entre variáveis de entrada e uma variável de saída contínua. Cada camada de neurônios aplica uma transformação linear seguida de uma função de ativação não linear, permitindo que a rede capture padrões complexos nos dados. No entanto, apesar de sua notável performance e aplicabilidade, elas requerem uma grande quantidade de dados para treinar de forma eficaz e são mais propensas a overfitting."
   ]
  },
  {
   "cell_type": "code",
   "execution_count": 32,
   "metadata": {},
   "outputs": [
    {
     "data": {
      "text/html": [
       "<pre style=\"white-space:pre;overflow-x:auto;line-height:normal;font-family:Menlo,'DejaVu Sans Mono',consolas,'Courier New',monospace\"><span style=\"font-weight: bold\">Model: \"sequential\"</span>\n",
       "</pre>\n"
      ],
      "text/plain": [
       "\u001b[1mModel: \"sequential\"\u001b[0m\n"
      ]
     },
     "metadata": {},
     "output_type": "display_data"
    },
    {
     "data": {
      "text/html": [
       "<pre style=\"white-space:pre;overflow-x:auto;line-height:normal;font-family:Menlo,'DejaVu Sans Mono',consolas,'Courier New',monospace\">┏━━━━━━━━━━━━━━━━━━━━━━━━━━━━━━━━━┳━━━━━━━━━━━━━━━━━━━━━━━━┳━━━━━━━━━━━━━━━┓\n",
       "┃<span style=\"font-weight: bold\"> Layer (type)                    </span>┃<span style=\"font-weight: bold\"> Output Shape           </span>┃<span style=\"font-weight: bold\">       Param # </span>┃\n",
       "┡━━━━━━━━━━━━━━━━━━━━━━━━━━━━━━━━━╇━━━━━━━━━━━━━━━━━━━━━━━━╇━━━━━━━━━━━━━━━┩\n",
       "│ dense (<span style=\"color: #0087ff; text-decoration-color: #0087ff\">Dense</span>)                   │ (<span style=\"color: #00d7ff; text-decoration-color: #00d7ff\">None</span>, <span style=\"color: #00af00; text-decoration-color: #00af00\">16</span>)             │           <span style=\"color: #00af00; text-decoration-color: #00af00\">128</span> │\n",
       "├─────────────────────────────────┼────────────────────────┼───────────────┤\n",
       "│ dense_1 (<span style=\"color: #0087ff; text-decoration-color: #0087ff\">Dense</span>)                 │ (<span style=\"color: #00d7ff; text-decoration-color: #00d7ff\">None</span>, <span style=\"color: #00af00; text-decoration-color: #00af00\">32</span>)             │           <span style=\"color: #00af00; text-decoration-color: #00af00\">544</span> │\n",
       "├─────────────────────────────────┼────────────────────────┼───────────────┤\n",
       "│ dense_2 (<span style=\"color: #0087ff; text-decoration-color: #0087ff\">Dense</span>)                 │ (<span style=\"color: #00d7ff; text-decoration-color: #00d7ff\">None</span>, <span style=\"color: #00af00; text-decoration-color: #00af00\">16</span>)             │           <span style=\"color: #00af00; text-decoration-color: #00af00\">528</span> │\n",
       "├─────────────────────────────────┼────────────────────────┼───────────────┤\n",
       "│ dense_3 (<span style=\"color: #0087ff; text-decoration-color: #0087ff\">Dense</span>)                 │ (<span style=\"color: #00d7ff; text-decoration-color: #00d7ff\">None</span>, <span style=\"color: #00af00; text-decoration-color: #00af00\">1</span>)              │            <span style=\"color: #00af00; text-decoration-color: #00af00\">17</span> │\n",
       "└─────────────────────────────────┴────────────────────────┴───────────────┘\n",
       "</pre>\n"
      ],
      "text/plain": [
       "┏━━━━━━━━━━━━━━━━━━━━━━━━━━━━━━━━━┳━━━━━━━━━━━━━━━━━━━━━━━━┳━━━━━━━━━━━━━━━┓\n",
       "┃\u001b[1m \u001b[0m\u001b[1mLayer (type)                   \u001b[0m\u001b[1m \u001b[0m┃\u001b[1m \u001b[0m\u001b[1mOutput Shape          \u001b[0m\u001b[1m \u001b[0m┃\u001b[1m \u001b[0m\u001b[1m      Param #\u001b[0m\u001b[1m \u001b[0m┃\n",
       "┡━━━━━━━━━━━━━━━━━━━━━━━━━━━━━━━━━╇━━━━━━━━━━━━━━━━━━━━━━━━╇━━━━━━━━━━━━━━━┩\n",
       "│ dense (\u001b[38;5;33mDense\u001b[0m)                   │ (\u001b[38;5;45mNone\u001b[0m, \u001b[38;5;34m16\u001b[0m)             │           \u001b[38;5;34m128\u001b[0m │\n",
       "├─────────────────────────────────┼────────────────────────┼───────────────┤\n",
       "│ dense_1 (\u001b[38;5;33mDense\u001b[0m)                 │ (\u001b[38;5;45mNone\u001b[0m, \u001b[38;5;34m32\u001b[0m)             │           \u001b[38;5;34m544\u001b[0m │\n",
       "├─────────────────────────────────┼────────────────────────┼───────────────┤\n",
       "│ dense_2 (\u001b[38;5;33mDense\u001b[0m)                 │ (\u001b[38;5;45mNone\u001b[0m, \u001b[38;5;34m16\u001b[0m)             │           \u001b[38;5;34m528\u001b[0m │\n",
       "├─────────────────────────────────┼────────────────────────┼───────────────┤\n",
       "│ dense_3 (\u001b[38;5;33mDense\u001b[0m)                 │ (\u001b[38;5;45mNone\u001b[0m, \u001b[38;5;34m1\u001b[0m)              │            \u001b[38;5;34m17\u001b[0m │\n",
       "└─────────────────────────────────┴────────────────────────┴───────────────┘\n"
      ]
     },
     "metadata": {},
     "output_type": "display_data"
    },
    {
     "data": {
      "text/html": [
       "<pre style=\"white-space:pre;overflow-x:auto;line-height:normal;font-family:Menlo,'DejaVu Sans Mono',consolas,'Courier New',monospace\"><span style=\"font-weight: bold\"> Total params: </span><span style=\"color: #00af00; text-decoration-color: #00af00\">1,217</span> (4.75 KB)\n",
       "</pre>\n"
      ],
      "text/plain": [
       "\u001b[1m Total params: \u001b[0m\u001b[38;5;34m1,217\u001b[0m (4.75 KB)\n"
      ]
     },
     "metadata": {},
     "output_type": "display_data"
    },
    {
     "data": {
      "text/html": [
       "<pre style=\"white-space:pre;overflow-x:auto;line-height:normal;font-family:Menlo,'DejaVu Sans Mono',consolas,'Courier New',monospace\"><span style=\"font-weight: bold\"> Trainable params: </span><span style=\"color: #00af00; text-decoration-color: #00af00\">1,217</span> (4.75 KB)\n",
       "</pre>\n"
      ],
      "text/plain": [
       "\u001b[1m Trainable params: \u001b[0m\u001b[38;5;34m1,217\u001b[0m (4.75 KB)\n"
      ]
     },
     "metadata": {},
     "output_type": "display_data"
    },
    {
     "data": {
      "text/html": [
       "<pre style=\"white-space:pre;overflow-x:auto;line-height:normal;font-family:Menlo,'DejaVu Sans Mono',consolas,'Courier New',monospace\"><span style=\"font-weight: bold\"> Non-trainable params: </span><span style=\"color: #00af00; text-decoration-color: #00af00\">0</span> (0.00 B)\n",
       "</pre>\n"
      ],
      "text/plain": [
       "\u001b[1m Non-trainable params: \u001b[0m\u001b[38;5;34m0\u001b[0m (0.00 B)\n"
      ]
     },
     "metadata": {},
     "output_type": "display_data"
    }
   ],
   "source": [
    "nn_reg = tf.keras.Sequential([\n",
    "    keras.Input(shape=(X_train.shape[1],)),\n",
    "    layers.Dense(16, activation='relu'),\n",
    "    layers.Dense(32, activation='relu'),\n",
    "    layers.Dense(16, activation='relu'),\n",
    "    layers.Dense(1),\n",
    "])\n",
    "\n",
    "optimizer = tf.keras.optimizers.Adam(0.001)\n",
    "nn_reg.compile(loss='mse', optimizer=optimizer, metrics=['mae', 'r2_score'])\n",
    "\n",
    "nn_reg.summary()"
   ]
  },
  {
   "cell_type": "code",
   "execution_count": 33,
   "metadata": {},
   "outputs": [
    {
     "name": "stdout",
     "output_type": "stream",
     "text": [
      "Epoch 1/100\n",
      "\u001b[1m28/28\u001b[0m \u001b[32m━━━━━━━━━━━━━━━━━━━━\u001b[0m\u001b[37m\u001b[0m \u001b[1m1s\u001b[0m 7ms/step - loss: 0.0165 - mae: 0.0716 - r2_score: -0.0620 - val_loss: 0.0258 - val_mae: 0.0800 - val_r2_score: 0.3286\n",
      "Epoch 2/100\n",
      "\u001b[1m28/28\u001b[0m \u001b[32m━━━━━━━━━━━━━━━━━━━━\u001b[0m\u001b[37m\u001b[0m \u001b[1m0s\u001b[0m 2ms/step - loss: 0.0099 - mae: 0.0566 - r2_score: 0.3524 - val_loss: 0.0251 - val_mae: 0.0751 - val_r2_score: 0.3457\n",
      "Epoch 3/100\n",
      "\u001b[1m28/28\u001b[0m \u001b[32m━━━━━━━━━━━━━━━━━━━━\u001b[0m\u001b[37m\u001b[0m \u001b[1m0s\u001b[0m 2ms/step - loss: 0.0091 - mae: 0.0521 - r2_score: 0.4056 - val_loss: 0.0237 - val_mae: 0.0768 - val_r2_score: 0.3823\n",
      "Epoch 4/100\n",
      "\u001b[1m28/28\u001b[0m \u001b[32m━━━━━━━━━━━━━━━━━━━━\u001b[0m\u001b[37m\u001b[0m \u001b[1m0s\u001b[0m 2ms/step - loss: 0.0087 - mae: 0.0512 - r2_score: 0.4273 - val_loss: 0.0227 - val_mae: 0.0746 - val_r2_score: 0.4078\n",
      "Epoch 5/100\n",
      "\u001b[1m28/28\u001b[0m \u001b[32m━━━━━━━━━━━━━━━━━━━━\u001b[0m\u001b[37m\u001b[0m \u001b[1m0s\u001b[0m 2ms/step - loss: 0.0083 - mae: 0.0493 - r2_score: 0.4574 - val_loss: 0.0219 - val_mae: 0.0724 - val_r2_score: 0.4299\n",
      "Epoch 6/100\n",
      "\u001b[1m28/28\u001b[0m \u001b[32m━━━━━━━━━━━━━━━━━━━━\u001b[0m\u001b[37m\u001b[0m \u001b[1m0s\u001b[0m 2ms/step - loss: 0.0078 - mae: 0.0472 - r2_score: 0.4862 - val_loss: 0.0209 - val_mae: 0.0713 - val_r2_score: 0.4565\n",
      "Epoch 7/100\n",
      "\u001b[1m28/28\u001b[0m \u001b[32m━━━━━━━━━━━━━━━━━━━━\u001b[0m\u001b[37m\u001b[0m \u001b[1m0s\u001b[0m 2ms/step - loss: 0.0075 - mae: 0.0464 - r2_score: 0.5071 - val_loss: 0.0198 - val_mae: 0.0695 - val_r2_score: 0.4849\n",
      "Epoch 8/100\n",
      "\u001b[1m28/28\u001b[0m \u001b[32m━━━━━━━━━━━━━━━━━━━━\u001b[0m\u001b[37m\u001b[0m \u001b[1m0s\u001b[0m 2ms/step - loss: 0.0070 - mae: 0.0451 - r2_score: 0.5384 - val_loss: 0.0181 - val_mae: 0.0681 - val_r2_score: 0.5288\n",
      "Epoch 9/100\n",
      "\u001b[1m28/28\u001b[0m \u001b[32m━━━━━━━━━━━━━━━━━━━━\u001b[0m\u001b[37m\u001b[0m \u001b[1m0s\u001b[0m 2ms/step - loss: 0.0065 - mae: 0.0440 - r2_score: 0.5695 - val_loss: 0.0168 - val_mae: 0.0671 - val_r2_score: 0.5622\n",
      "Epoch 10/100\n",
      "\u001b[1m28/28\u001b[0m \u001b[32m━━━━━━━━━━━━━━━━━━━━\u001b[0m\u001b[37m\u001b[0m \u001b[1m0s\u001b[0m 2ms/step - loss: 0.0061 - mae: 0.0435 - r2_score: 0.5974 - val_loss: 0.0158 - val_mae: 0.0655 - val_r2_score: 0.5899\n",
      "Epoch 11/100\n",
      "\u001b[1m28/28\u001b[0m \u001b[32m━━━━━━━━━━━━━━━━━━━━\u001b[0m\u001b[37m\u001b[0m \u001b[1m0s\u001b[0m 2ms/step - loss: 0.0057 - mae: 0.0425 - r2_score: 0.6202 - val_loss: 0.0147 - val_mae: 0.0637 - val_r2_score: 0.6176\n",
      "Epoch 12/100\n",
      "\u001b[1m28/28\u001b[0m \u001b[32m━━━━━━━━━━━━━━━━━━━━\u001b[0m\u001b[37m\u001b[0m \u001b[1m0s\u001b[0m 2ms/step - loss: 0.0053 - mae: 0.0412 - r2_score: 0.6452 - val_loss: 0.0137 - val_mae: 0.0625 - val_r2_score: 0.6422\n",
      "Epoch 13/100\n",
      "\u001b[1m28/28\u001b[0m \u001b[32m━━━━━━━━━━━━━━━━━━━━\u001b[0m\u001b[37m\u001b[0m \u001b[1m0s\u001b[0m 2ms/step - loss: 0.0050 - mae: 0.0399 - r2_score: 0.6673 - val_loss: 0.0127 - val_mae: 0.0615 - val_r2_score: 0.6682\n",
      "Epoch 14/100\n",
      "\u001b[1m28/28\u001b[0m \u001b[32m━━━━━━━━━━━━━━━━━━━━\u001b[0m\u001b[37m\u001b[0m \u001b[1m0s\u001b[0m 2ms/step - loss: 0.0047 - mae: 0.0393 - r2_score: 0.6831 - val_loss: 0.0120 - val_mae: 0.0605 - val_r2_score: 0.6880\n",
      "Epoch 15/100\n",
      "\u001b[1m28/28\u001b[0m \u001b[32m━━━━━━━━━━━━━━━━━━━━\u001b[0m\u001b[37m\u001b[0m \u001b[1m0s\u001b[0m 2ms/step - loss: 0.0045 - mae: 0.0386 - r2_score: 0.6958 - val_loss: 0.0114 - val_mae: 0.0591 - val_r2_score: 0.7034\n",
      "Epoch 16/100\n",
      "\u001b[1m28/28\u001b[0m \u001b[32m━━━━━━━━━━━━━━━━━━━━\u001b[0m\u001b[37m\u001b[0m \u001b[1m0s\u001b[0m 2ms/step - loss: 0.0044 - mae: 0.0377 - r2_score: 0.7064 - val_loss: 0.0108 - val_mae: 0.0574 - val_r2_score: 0.7178\n",
      "Epoch 17/100\n",
      "\u001b[1m28/28\u001b[0m \u001b[32m━━━━━━━━━━━━━━━━━━━━\u001b[0m\u001b[37m\u001b[0m \u001b[1m0s\u001b[0m 2ms/step - loss: 0.0043 - mae: 0.0370 - r2_score: 0.7135 - val_loss: 0.0105 - val_mae: 0.0568 - val_r2_score: 0.7254\n",
      "Epoch 18/100\n",
      "\u001b[1m28/28\u001b[0m \u001b[32m━━━━━━━━━━━━━━━━━━━━\u001b[0m\u001b[37m\u001b[0m \u001b[1m0s\u001b[0m 2ms/step - loss: 0.0042 - mae: 0.0365 - r2_score: 0.7185 - val_loss: 0.0101 - val_mae: 0.0552 - val_r2_score: 0.7360\n",
      "Epoch 19/100\n",
      "\u001b[1m28/28\u001b[0m \u001b[32m━━━━━━━━━━━━━━━━━━━━\u001b[0m\u001b[37m\u001b[0m \u001b[1m0s\u001b[0m 2ms/step - loss: 0.0041 - mae: 0.0363 - r2_score: 0.7236 - val_loss: 0.0100 - val_mae: 0.0552 - val_r2_score: 0.7404\n",
      "Epoch 20/100\n",
      "\u001b[1m28/28\u001b[0m \u001b[32m━━━━━━━━━━━━━━━━━━━━\u001b[0m\u001b[37m\u001b[0m \u001b[1m0s\u001b[0m 2ms/step - loss: 0.0041 - mae: 0.0359 - r2_score: 0.7257 - val_loss: 0.0098 - val_mae: 0.0542 - val_r2_score: 0.7446\n",
      "Epoch 21/100\n",
      "\u001b[1m28/28\u001b[0m \u001b[32m━━━━━━━━━━━━━━━━━━━━\u001b[0m\u001b[37m\u001b[0m \u001b[1m0s\u001b[0m 2ms/step - loss: 0.0040 - mae: 0.0356 - r2_score: 0.7292 - val_loss: 0.0096 - val_mae: 0.0540 - val_r2_score: 0.7488\n",
      "Epoch 22/100\n",
      "\u001b[1m28/28\u001b[0m \u001b[32m━━━━━━━━━━━━━━━━━━━━\u001b[0m\u001b[37m\u001b[0m \u001b[1m0s\u001b[0m 2ms/step - loss: 0.0040 - mae: 0.0355 - r2_score: 0.7300 - val_loss: 0.0095 - val_mae: 0.0537 - val_r2_score: 0.7526\n",
      "Epoch 23/100\n",
      "\u001b[1m28/28\u001b[0m \u001b[32m━━━━━━━━━━━━━━━━━━━━\u001b[0m\u001b[37m\u001b[0m \u001b[1m0s\u001b[0m 2ms/step - loss: 0.0040 - mae: 0.0353 - r2_score: 0.7328 - val_loss: 0.0092 - val_mae: 0.0524 - val_r2_score: 0.7595\n",
      "Epoch 24/100\n",
      "\u001b[1m28/28\u001b[0m \u001b[32m━━━━━━━━━━━━━━━━━━━━\u001b[0m\u001b[37m\u001b[0m \u001b[1m0s\u001b[0m 2ms/step - loss: 0.0039 - mae: 0.0349 - r2_score: 0.7371 - val_loss: 0.0091 - val_mae: 0.0521 - val_r2_score: 0.7643\n",
      "Epoch 25/100\n",
      "\u001b[1m28/28\u001b[0m \u001b[32m━━━━━━━━━━━━━━━━━━━━\u001b[0m\u001b[37m\u001b[0m \u001b[1m0s\u001b[0m 2ms/step - loss: 0.0039 - mae: 0.0345 - r2_score: 0.7380 - val_loss: 0.0089 - val_mae: 0.0513 - val_r2_score: 0.7678\n",
      "Epoch 26/100\n",
      "\u001b[1m28/28\u001b[0m \u001b[32m━━━━━━━━━━━━━━━━━━━━\u001b[0m\u001b[37m\u001b[0m \u001b[1m0s\u001b[0m 2ms/step - loss: 0.0038 - mae: 0.0344 - r2_score: 0.7400 - val_loss: 0.0088 - val_mae: 0.0507 - val_r2_score: 0.7718\n",
      "Epoch 27/100\n",
      "\u001b[1m28/28\u001b[0m \u001b[32m━━━━━━━━━━━━━━━━━━━━\u001b[0m\u001b[37m\u001b[0m \u001b[1m0s\u001b[0m 2ms/step - loss: 0.0038 - mae: 0.0342 - r2_score: 0.7414 - val_loss: 0.0086 - val_mae: 0.0506 - val_r2_score: 0.7758\n",
      "Epoch 28/100\n",
      "\u001b[1m28/28\u001b[0m \u001b[32m━━━━━━━━━━━━━━━━━━━━\u001b[0m\u001b[37m\u001b[0m \u001b[1m0s\u001b[0m 2ms/step - loss: 0.0038 - mae: 0.0340 - r2_score: 0.7431 - val_loss: 0.0085 - val_mae: 0.0500 - val_r2_score: 0.7782\n",
      "Epoch 29/100\n",
      "\u001b[1m28/28\u001b[0m \u001b[32m━━━━━━━━━━━━━━━━━━━━\u001b[0m\u001b[37m\u001b[0m \u001b[1m0s\u001b[0m 2ms/step - loss: 0.0038 - mae: 0.0338 - r2_score: 0.7449 - val_loss: 0.0084 - val_mae: 0.0498 - val_r2_score: 0.7808\n",
      "Epoch 30/100\n",
      "\u001b[1m28/28\u001b[0m \u001b[32m━━━━━━━━━━━━━━━━━━━━\u001b[0m\u001b[37m\u001b[0m \u001b[1m0s\u001b[0m 2ms/step - loss: 0.0038 - mae: 0.0337 - r2_score: 0.7462 - val_loss: 0.0083 - val_mae: 0.0495 - val_r2_score: 0.7839\n",
      "Epoch 31/100\n",
      "\u001b[1m28/28\u001b[0m \u001b[32m━━━━━━━━━━━━━━━━━━━━\u001b[0m\u001b[37m\u001b[0m \u001b[1m0s\u001b[0m 2ms/step - loss: 0.0037 - mae: 0.0335 - r2_score: 0.7493 - val_loss: 0.0082 - val_mae: 0.0492 - val_r2_score: 0.7856\n",
      "Epoch 32/100\n",
      "\u001b[1m28/28\u001b[0m \u001b[32m━━━━━━━━━━━━━━━━━━━━\u001b[0m\u001b[37m\u001b[0m \u001b[1m0s\u001b[0m 2ms/step - loss: 0.0037 - mae: 0.0333 - r2_score: 0.7511 - val_loss: 0.0082 - val_mae: 0.0491 - val_r2_score: 0.7870\n",
      "Epoch 33/100\n",
      "\u001b[1m28/28\u001b[0m \u001b[32m━━━━━━━━━━━━━━━━━━━━\u001b[0m\u001b[37m\u001b[0m \u001b[1m0s\u001b[0m 2ms/step - loss: 0.0036 - mae: 0.0327 - r2_score: 0.7540 - val_loss: 0.0080 - val_mae: 0.0486 - val_r2_score: 0.7905\n",
      "Epoch 34/100\n",
      "\u001b[1m28/28\u001b[0m \u001b[32m━━━━━━━━━━━━━━━━━━━━\u001b[0m\u001b[37m\u001b[0m \u001b[1m0s\u001b[0m 2ms/step - loss: 0.0036 - mae: 0.0332 - r2_score: 0.7551 - val_loss: 0.0080 - val_mae: 0.0486 - val_r2_score: 0.7906\n",
      "Epoch 35/100\n",
      "\u001b[1m28/28\u001b[0m \u001b[32m━━━━━━━━━━━━━━━━━━━━\u001b[0m\u001b[37m\u001b[0m \u001b[1m0s\u001b[0m 2ms/step - loss: 0.0036 - mae: 0.0330 - r2_score: 0.7576 - val_loss: 0.0079 - val_mae: 0.0481 - val_r2_score: 0.7942\n",
      "Epoch 36/100\n",
      "\u001b[1m28/28\u001b[0m \u001b[32m━━━━━━━━━━━━━━━━━━━━\u001b[0m\u001b[37m\u001b[0m \u001b[1m0s\u001b[0m 2ms/step - loss: 0.0036 - mae: 0.0328 - r2_score: 0.7594 - val_loss: 0.0079 - val_mae: 0.0482 - val_r2_score: 0.7941\n",
      "Epoch 37/100\n",
      "\u001b[1m28/28\u001b[0m \u001b[32m━━━━━━━━━━━━━━━━━━━━\u001b[0m\u001b[37m\u001b[0m \u001b[1m0s\u001b[0m 2ms/step - loss: 0.0035 - mae: 0.0326 - r2_score: 0.7615 - val_loss: 0.0077 - val_mae: 0.0478 - val_r2_score: 0.7988\n",
      "Epoch 38/100\n",
      "\u001b[1m28/28\u001b[0m \u001b[32m━━━━━━━━━━━━━━━━━━━━\u001b[0m\u001b[37m\u001b[0m \u001b[1m0s\u001b[0m 2ms/step - loss: 0.0035 - mae: 0.0326 - r2_score: 0.7629 - val_loss: 0.0077 - val_mae: 0.0475 - val_r2_score: 0.7999\n",
      "Epoch 39/100\n",
      "\u001b[1m28/28\u001b[0m \u001b[32m━━━━━━━━━━━━━━━━━━━━\u001b[0m\u001b[37m\u001b[0m \u001b[1m0s\u001b[0m 2ms/step - loss: 0.0035 - mae: 0.0325 - r2_score: 0.7646 - val_loss: 0.0076 - val_mae: 0.0473 - val_r2_score: 0.8013\n",
      "Epoch 40/100\n",
      "\u001b[1m28/28\u001b[0m \u001b[32m━━━━━━━━━━━━━━━━━━━━\u001b[0m\u001b[37m\u001b[0m \u001b[1m0s\u001b[0m 2ms/step - loss: 0.0035 - mae: 0.0323 - r2_score: 0.7654 - val_loss: 0.0076 - val_mae: 0.0472 - val_r2_score: 0.8024\n",
      "Epoch 41/100\n",
      "\u001b[1m28/28\u001b[0m \u001b[32m━━━━━━━━━━━━━━━━━━━━\u001b[0m\u001b[37m\u001b[0m \u001b[1m0s\u001b[0m 2ms/step - loss: 0.0034 - mae: 0.0322 - r2_score: 0.7678 - val_loss: 0.0076 - val_mae: 0.0470 - val_r2_score: 0.8033\n",
      "Epoch 42/100\n",
      "\u001b[1m28/28\u001b[0m \u001b[32m━━━━━━━━━━━━━━━━━━━━\u001b[0m\u001b[37m\u001b[0m \u001b[1m0s\u001b[0m 2ms/step - loss: 0.0034 - mae: 0.0320 - r2_score: 0.7690 - val_loss: 0.0074 - val_mae: 0.0466 - val_r2_score: 0.8065\n",
      "Epoch 43/100\n",
      "\u001b[1m28/28\u001b[0m \u001b[32m━━━━━━━━━━━━━━━━━━━━\u001b[0m\u001b[37m\u001b[0m \u001b[1m0s\u001b[0m 2ms/step - loss: 0.0034 - mae: 0.0319 - r2_score: 0.7704 - val_loss: 0.0074 - val_mae: 0.0468 - val_r2_score: 0.8068\n",
      "Epoch 44/100\n",
      "\u001b[1m28/28\u001b[0m \u001b[32m━━━━━━━━━━━━━━━━━━━━\u001b[0m\u001b[37m\u001b[0m \u001b[1m0s\u001b[0m 2ms/step - loss: 0.0034 - mae: 0.0317 - r2_score: 0.7723 - val_loss: 0.0073 - val_mae: 0.0463 - val_r2_score: 0.8088\n",
      "Epoch 45/100\n",
      "\u001b[1m28/28\u001b[0m \u001b[32m━━━━━━━━━━━━━━━━━━━━\u001b[0m\u001b[37m\u001b[0m \u001b[1m0s\u001b[0m 2ms/step - loss: 0.0033 - mae: 0.0315 - r2_score: 0.7732 - val_loss: 0.0073 - val_mae: 0.0464 - val_r2_score: 0.8090\n",
      "Epoch 46/100\n",
      "\u001b[1m28/28\u001b[0m \u001b[32m━━━━━━━━━━━━━━━━━━━━\u001b[0m\u001b[37m\u001b[0m \u001b[1m0s\u001b[0m 2ms/step - loss: 0.0033 - mae: 0.0315 - r2_score: 0.7749 - val_loss: 0.0073 - val_mae: 0.0464 - val_r2_score: 0.8093\n",
      "Epoch 47/100\n",
      "\u001b[1m28/28\u001b[0m \u001b[32m━━━━━━━━━━━━━━━━━━━━\u001b[0m\u001b[37m\u001b[0m \u001b[1m0s\u001b[0m 2ms/step - loss: 0.0033 - mae: 0.0318 - r2_score: 0.7747 - val_loss: 0.0072 - val_mae: 0.0461 - val_r2_score: 0.8117\n",
      "Epoch 48/100\n",
      "\u001b[1m28/28\u001b[0m \u001b[32m━━━━━━━━━━━━━━━━━━━━\u001b[0m\u001b[37m\u001b[0m \u001b[1m0s\u001b[0m 2ms/step - loss: 0.0033 - mae: 0.0313 - r2_score: 0.7772 - val_loss: 0.0072 - val_mae: 0.0460 - val_r2_score: 0.8117\n",
      "Epoch 49/100\n",
      "\u001b[1m28/28\u001b[0m \u001b[32m━━━━━━━━━━━━━━━━━━━━\u001b[0m\u001b[37m\u001b[0m \u001b[1m0s\u001b[0m 2ms/step - loss: 0.0033 - mae: 0.0313 - r2_score: 0.7782 - val_loss: 0.0071 - val_mae: 0.0457 - val_r2_score: 0.8149\n",
      "Epoch 50/100\n",
      "\u001b[1m28/28\u001b[0m \u001b[32m━━━━━━━━━━━━━━━━━━━━\u001b[0m\u001b[37m\u001b[0m \u001b[1m0s\u001b[0m 2ms/step - loss: 0.0032 - mae: 0.0310 - r2_score: 0.7803 - val_loss: 0.0071 - val_mae: 0.0459 - val_r2_score: 0.8161\n",
      "Epoch 51/100\n",
      "\u001b[1m28/28\u001b[0m \u001b[32m━━━━━━━━━━━━━━━━━━━━\u001b[0m\u001b[37m\u001b[0m \u001b[1m0s\u001b[0m 2ms/step - loss: 0.0032 - mae: 0.0312 - r2_score: 0.7804 - val_loss: 0.0070 - val_mae: 0.0456 - val_r2_score: 0.8169\n",
      "Epoch 52/100\n",
      "\u001b[1m28/28\u001b[0m \u001b[32m━━━━━━━━━━━━━━━━━━━━\u001b[0m\u001b[37m\u001b[0m \u001b[1m0s\u001b[0m 2ms/step - loss: 0.0032 - mae: 0.0312 - r2_score: 0.7818 - val_loss: 0.0070 - val_mae: 0.0454 - val_r2_score: 0.8178\n",
      "Epoch 53/100\n",
      "\u001b[1m28/28\u001b[0m \u001b[32m━━━━━━━━━━━━━━━━━━━━\u001b[0m\u001b[37m\u001b[0m \u001b[1m0s\u001b[0m 2ms/step - loss: 0.0032 - mae: 0.0310 - r2_score: 0.7824 - val_loss: 0.0069 - val_mae: 0.0457 - val_r2_score: 0.8193\n",
      "Epoch 54/100\n",
      "\u001b[1m28/28\u001b[0m \u001b[32m━━━━━━━━━━━━━━━━━━━━\u001b[0m\u001b[37m\u001b[0m \u001b[1m0s\u001b[0m 2ms/step - loss: 0.0032 - mae: 0.0309 - r2_score: 0.7849 - val_loss: 0.0069 - val_mae: 0.0451 - val_r2_score: 0.8212\n",
      "Epoch 55/100\n",
      "\u001b[1m28/28\u001b[0m \u001b[32m━━━━━━━━━━━━━━━━━━━━\u001b[0m\u001b[37m\u001b[0m \u001b[1m0s\u001b[0m 2ms/step - loss: 0.0032 - mae: 0.0307 - r2_score: 0.7860 - val_loss: 0.0069 - val_mae: 0.0454 - val_r2_score: 0.8216\n",
      "Epoch 56/100\n",
      "\u001b[1m28/28\u001b[0m \u001b[32m━━━━━━━━━━━━━━━━━━━━\u001b[0m\u001b[37m\u001b[0m \u001b[1m0s\u001b[0m 2ms/step - loss: 0.0031 - mae: 0.0307 - r2_score: 0.7882 - val_loss: 0.0067 - val_mae: 0.0451 - val_r2_score: 0.8244\n",
      "Epoch 57/100\n",
      "\u001b[1m28/28\u001b[0m \u001b[32m━━━━━━━━━━━━━━━━━━━━\u001b[0m\u001b[37m\u001b[0m \u001b[1m0s\u001b[0m 2ms/step - loss: 0.0031 - mae: 0.0306 - r2_score: 0.7891 - val_loss: 0.0067 - val_mae: 0.0449 - val_r2_score: 0.8257\n",
      "Epoch 58/100\n",
      "\u001b[1m28/28\u001b[0m \u001b[32m━━━━━━━━━━━━━━━━━━━━\u001b[0m\u001b[37m\u001b[0m \u001b[1m0s\u001b[0m 2ms/step - loss: 0.0031 - mae: 0.0305 - r2_score: 0.7903 - val_loss: 0.0066 - val_mae: 0.0447 - val_r2_score: 0.8279\n",
      "Epoch 59/100\n",
      "\u001b[1m28/28\u001b[0m \u001b[32m━━━━━━━━━━━━━━━━━━━━\u001b[0m\u001b[37m\u001b[0m \u001b[1m0s\u001b[0m 2ms/step - loss: 0.0031 - mae: 0.0305 - r2_score: 0.7911 - val_loss: 0.0066 - val_mae: 0.0447 - val_r2_score: 0.8274\n",
      "Epoch 60/100\n",
      "\u001b[1m28/28\u001b[0m \u001b[32m━━━━━━━━━━━━━━━━━━━━\u001b[0m\u001b[37m\u001b[0m \u001b[1m0s\u001b[0m 2ms/step - loss: 0.0031 - mae: 0.0306 - r2_score: 0.7924 - val_loss: 0.0066 - val_mae: 0.0449 - val_r2_score: 0.8275\n",
      "Epoch 61/100\n",
      "\u001b[1m28/28\u001b[0m \u001b[32m━━━━━━━━━━━━━━━━━━━━\u001b[0m\u001b[37m\u001b[0m \u001b[1m0s\u001b[0m 2ms/step - loss: 0.0031 - mae: 0.0309 - r2_score: 0.7920 - val_loss: 0.0065 - val_mae: 0.0443 - val_r2_score: 0.8300\n",
      "Epoch 62/100\n",
      "\u001b[1m28/28\u001b[0m \u001b[32m━━━━━━━━━━━━━━━━━━━━\u001b[0m\u001b[37m\u001b[0m \u001b[1m0s\u001b[0m 2ms/step - loss: 0.0030 - mae: 0.0303 - r2_score: 0.7946 - val_loss: 0.0065 - val_mae: 0.0442 - val_r2_score: 0.8309\n",
      "Epoch 63/100\n",
      "\u001b[1m28/28\u001b[0m \u001b[32m━━━━━━━━━━━━━━━━━━━━\u001b[0m\u001b[37m\u001b[0m \u001b[1m0s\u001b[0m 2ms/step - loss: 0.0030 - mae: 0.0302 - r2_score: 0.7976 - val_loss: 0.0064 - val_mae: 0.0439 - val_r2_score: 0.8333\n",
      "Epoch 64/100\n",
      "\u001b[1m28/28\u001b[0m \u001b[32m━━━━━━━━━━━━━━━━━━━━\u001b[0m\u001b[37m\u001b[0m \u001b[1m0s\u001b[0m 2ms/step - loss: 0.0030 - mae: 0.0302 - r2_score: 0.7980 - val_loss: 0.0064 - val_mae: 0.0438 - val_r2_score: 0.8332\n",
      "Epoch 65/100\n",
      "\u001b[1m28/28\u001b[0m \u001b[32m━━━━━━━━━━━━━━━━━━━━\u001b[0m\u001b[37m\u001b[0m \u001b[1m0s\u001b[0m 2ms/step - loss: 0.0029 - mae: 0.0301 - r2_score: 0.8000 - val_loss: 0.0063 - val_mae: 0.0437 - val_r2_score: 0.8349\n",
      "Epoch 66/100\n",
      "\u001b[1m28/28\u001b[0m \u001b[32m━━━━━━━━━━━━━━━━━━━━\u001b[0m\u001b[37m\u001b[0m \u001b[1m0s\u001b[0m 2ms/step - loss: 0.0030 - mae: 0.0301 - r2_score: 0.7989 - val_loss: 0.0063 - val_mae: 0.0436 - val_r2_score: 0.8368\n",
      "Epoch 67/100\n",
      "\u001b[1m28/28\u001b[0m \u001b[32m━━━━━━━━━━━━━━━━━━━━\u001b[0m\u001b[37m\u001b[0m \u001b[1m0s\u001b[0m 2ms/step - loss: 0.0029 - mae: 0.0299 - r2_score: 0.8007 - val_loss: 0.0063 - val_mae: 0.0435 - val_r2_score: 0.8370\n",
      "Epoch 68/100\n",
      "\u001b[1m28/28\u001b[0m \u001b[32m━━━━━━━━━━━━━━━━━━━━\u001b[0m\u001b[37m\u001b[0m \u001b[1m0s\u001b[0m 2ms/step - loss: 0.0029 - mae: 0.0298 - r2_score: 0.8036 - val_loss: 0.0062 - val_mae: 0.0437 - val_r2_score: 0.8390\n",
      "Epoch 69/100\n",
      "\u001b[1m28/28\u001b[0m \u001b[32m━━━━━━━━━━━━━━━━━━━━\u001b[0m\u001b[37m\u001b[0m \u001b[1m0s\u001b[0m 2ms/step - loss: 0.0029 - mae: 0.0300 - r2_score: 0.8029 - val_loss: 0.0062 - val_mae: 0.0435 - val_r2_score: 0.8378\n",
      "Epoch 70/100\n",
      "\u001b[1m28/28\u001b[0m \u001b[32m━━━━━━━━━━━━━━━━━━━━\u001b[0m\u001b[37m\u001b[0m \u001b[1m0s\u001b[0m 2ms/step - loss: 0.0029 - mae: 0.0298 - r2_score: 0.8039 - val_loss: 0.0062 - val_mae: 0.0436 - val_r2_score: 0.8378\n",
      "Epoch 71/100\n",
      "\u001b[1m28/28\u001b[0m \u001b[32m━━━━━━━━━━━━━━━━━━━━\u001b[0m\u001b[37m\u001b[0m \u001b[1m0s\u001b[0m 2ms/step - loss: 0.0029 - mae: 0.0298 - r2_score: 0.8063 - val_loss: 0.0061 - val_mae: 0.0433 - val_r2_score: 0.8414\n",
      "Epoch 72/100\n",
      "\u001b[1m28/28\u001b[0m \u001b[32m━━━━━━━━━━━━━━━━━━━━\u001b[0m\u001b[37m\u001b[0m \u001b[1m0s\u001b[0m 2ms/step - loss: 0.0029 - mae: 0.0297 - r2_score: 0.8054 - val_loss: 0.0062 - val_mae: 0.0430 - val_r2_score: 0.8391\n",
      "Epoch 73/100\n",
      "\u001b[1m28/28\u001b[0m \u001b[32m━━━━━━━━━━━━━━━━━━━━\u001b[0m\u001b[37m\u001b[0m \u001b[1m0s\u001b[0m 2ms/step - loss: 0.0028 - mae: 0.0294 - r2_score: 0.8078 - val_loss: 0.0061 - val_mae: 0.0432 - val_r2_score: 0.8411\n",
      "Epoch 74/100\n",
      "\u001b[1m28/28\u001b[0m \u001b[32m━━━━━━━━━━━━━━━━━━━━\u001b[0m\u001b[37m\u001b[0m \u001b[1m0s\u001b[0m 2ms/step - loss: 0.0028 - mae: 0.0295 - r2_score: 0.8084 - val_loss: 0.0061 - val_mae: 0.0430 - val_r2_score: 0.8421\n",
      "Epoch 75/100\n",
      "\u001b[1m28/28\u001b[0m \u001b[32m━━━━━━━━━━━━━━━━━━━━\u001b[0m\u001b[37m\u001b[0m \u001b[1m0s\u001b[0m 2ms/step - loss: 0.0028 - mae: 0.0298 - r2_score: 0.8081 - val_loss: 0.0060 - val_mae: 0.0424 - val_r2_score: 0.8437\n",
      "Epoch 76/100\n",
      "\u001b[1m28/28\u001b[0m \u001b[32m━━━━━━━━━━━━━━━━━━━━\u001b[0m\u001b[37m\u001b[0m \u001b[1m0s\u001b[0m 2ms/step - loss: 0.0028 - mae: 0.0292 - r2_score: 0.8110 - val_loss: 0.0061 - val_mae: 0.0432 - val_r2_score: 0.8417\n",
      "Epoch 77/100\n",
      "\u001b[1m28/28\u001b[0m \u001b[32m━━━━━━━━━━━━━━━━━━━━\u001b[0m\u001b[37m\u001b[0m \u001b[1m0s\u001b[0m 2ms/step - loss: 0.0028 - mae: 0.0294 - r2_score: 0.8109 - val_loss: 0.0059 - val_mae: 0.0420 - val_r2_score: 0.8454\n",
      "Epoch 78/100\n",
      "\u001b[1m28/28\u001b[0m \u001b[32m━━━━━━━━━━━━━━━━━━━━\u001b[0m\u001b[37m\u001b[0m \u001b[1m0s\u001b[0m 2ms/step - loss: 0.0027 - mae: 0.0291 - r2_score: 0.8136 - val_loss: 0.0060 - val_mae: 0.0428 - val_r2_score: 0.8443\n",
      "Epoch 79/100\n",
      "\u001b[1m28/28\u001b[0m \u001b[32m━━━━━━━━━━━━━━━━━━━━\u001b[0m\u001b[37m\u001b[0m \u001b[1m0s\u001b[0m 2ms/step - loss: 0.0027 - mae: 0.0288 - r2_score: 0.8166 - val_loss: 0.0058 - val_mae: 0.0418 - val_r2_score: 0.8490\n",
      "Epoch 80/100\n",
      "\u001b[1m28/28\u001b[0m \u001b[32m━━━━━━━━━━━━━━━━━━━━\u001b[0m\u001b[37m\u001b[0m \u001b[1m0s\u001b[0m 2ms/step - loss: 0.0027 - mae: 0.0287 - r2_score: 0.8158 - val_loss: 0.0059 - val_mae: 0.0418 - val_r2_score: 0.8454\n",
      "Epoch 81/100\n",
      "\u001b[1m28/28\u001b[0m \u001b[32m━━━━━━━━━━━━━━━━━━━━\u001b[0m\u001b[37m\u001b[0m \u001b[1m0s\u001b[0m 2ms/step - loss: 0.0027 - mae: 0.0287 - r2_score: 0.8178 - val_loss: 0.0058 - val_mae: 0.0419 - val_r2_score: 0.8496\n",
      "Epoch 82/100\n",
      "\u001b[1m28/28\u001b[0m \u001b[32m━━━━━━━━━━━━━━━━━━━━\u001b[0m\u001b[37m\u001b[0m \u001b[1m0s\u001b[0m 2ms/step - loss: 0.0027 - mae: 0.0289 - r2_score: 0.8171 - val_loss: 0.0058 - val_mae: 0.0417 - val_r2_score: 0.8486\n",
      "Epoch 83/100\n",
      "\u001b[1m28/28\u001b[0m \u001b[32m━━━━━━━━━━━━━━━━━━━━\u001b[0m\u001b[37m\u001b[0m \u001b[1m0s\u001b[0m 2ms/step - loss: 0.0027 - mae: 0.0285 - r2_score: 0.8202 - val_loss: 0.0058 - val_mae: 0.0424 - val_r2_score: 0.8485\n",
      "Epoch 84/100\n",
      "\u001b[1m28/28\u001b[0m \u001b[32m━━━━━━━━━━━━━━━━━━━━\u001b[0m\u001b[37m\u001b[0m \u001b[1m0s\u001b[0m 2ms/step - loss: 0.0027 - mae: 0.0286 - r2_score: 0.8202 - val_loss: 0.0058 - val_mae: 0.0419 - val_r2_score: 0.8479\n",
      "Epoch 85/100\n",
      "\u001b[1m28/28\u001b[0m \u001b[32m━━━━━━━━━━━━━━━━━━━━\u001b[0m\u001b[37m\u001b[0m \u001b[1m0s\u001b[0m 2ms/step - loss: 0.0026 - mae: 0.0288 - r2_score: 0.8209 - val_loss: 0.0057 - val_mae: 0.0420 - val_r2_score: 0.8504\n",
      "Epoch 86/100\n",
      "\u001b[1m28/28\u001b[0m \u001b[32m━━━━━━━━━━━━━━━━━━━━\u001b[0m\u001b[37m\u001b[0m \u001b[1m0s\u001b[0m 2ms/step - loss: 0.0026 - mae: 0.0285 - r2_score: 0.8231 - val_loss: 0.0057 - val_mae: 0.0411 - val_r2_score: 0.8510\n",
      "Epoch 87/100\n",
      "\u001b[1m28/28\u001b[0m \u001b[32m━━━━━━━━━━━━━━━━━━━━\u001b[0m\u001b[37m\u001b[0m \u001b[1m0s\u001b[0m 2ms/step - loss: 0.0026 - mae: 0.0283 - r2_score: 0.8238 - val_loss: 0.0057 - val_mae: 0.0421 - val_r2_score: 0.8518\n",
      "Epoch 88/100\n",
      "\u001b[1m28/28\u001b[0m \u001b[32m━━━━━━━━━━━━━━━━━━━━\u001b[0m\u001b[37m\u001b[0m \u001b[1m0s\u001b[0m 2ms/step - loss: 0.0026 - mae: 0.0283 - r2_score: 0.8247 - val_loss: 0.0057 - val_mae: 0.0417 - val_r2_score: 0.8507\n",
      "Epoch 89/100\n",
      "\u001b[1m28/28\u001b[0m \u001b[32m━━━━━━━━━━━━━━━━━━━━\u001b[0m\u001b[37m\u001b[0m \u001b[1m0s\u001b[0m 2ms/step - loss: 0.0026 - mae: 0.0285 - r2_score: 0.8245 - val_loss: 0.0057 - val_mae: 0.0417 - val_r2_score: 0.8518\n",
      "Epoch 90/100\n",
      "\u001b[1m28/28\u001b[0m \u001b[32m━━━━━━━━━━━━━━━━━━━━\u001b[0m\u001b[37m\u001b[0m \u001b[1m0s\u001b[0m 2ms/step - loss: 0.0026 - mae: 0.0282 - r2_score: 0.8263 - val_loss: 0.0056 - val_mae: 0.0413 - val_r2_score: 0.8536\n",
      "Epoch 91/100\n",
      "\u001b[1m28/28\u001b[0m \u001b[32m━━━━━━━━━━━━━━━━━━━━\u001b[0m\u001b[37m\u001b[0m \u001b[1m0s\u001b[0m 2ms/step - loss: 0.0025 - mae: 0.0281 - r2_score: 0.8281 - val_loss: 0.0056 - val_mae: 0.0408 - val_r2_score: 0.8544\n",
      "Epoch 92/100\n",
      "\u001b[1m28/28\u001b[0m \u001b[32m━━━━━━━━━━━━━━━━━━━━\u001b[0m\u001b[37m\u001b[0m \u001b[1m0s\u001b[0m 2ms/step - loss: 0.0026 - mae: 0.0283 - r2_score: 0.8272 - val_loss: 0.0056 - val_mae: 0.0419 - val_r2_score: 0.8531\n",
      "Epoch 93/100\n",
      "\u001b[1m28/28\u001b[0m \u001b[32m━━━━━━━━━━━━━━━━━━━━\u001b[0m\u001b[37m\u001b[0m \u001b[1m0s\u001b[0m 2ms/step - loss: 0.0025 - mae: 0.0280 - r2_score: 0.8296 - val_loss: 0.0056 - val_mae: 0.0418 - val_r2_score: 0.8537\n",
      "Epoch 94/100\n",
      "\u001b[1m28/28\u001b[0m \u001b[32m━━━━━━━━━━━━━━━━━━━━\u001b[0m\u001b[37m\u001b[0m \u001b[1m0s\u001b[0m 2ms/step - loss: 0.0025 - mae: 0.0284 - r2_score: 0.8282 - val_loss: 0.0056 - val_mae: 0.0417 - val_r2_score: 0.8540\n",
      "Epoch 95/100\n",
      "\u001b[1m28/28\u001b[0m \u001b[32m━━━━━━━━━━━━━━━━━━━━\u001b[0m\u001b[37m\u001b[0m \u001b[1m0s\u001b[0m 2ms/step - loss: 0.0025 - mae: 0.0282 - r2_score: 0.8298 - val_loss: 0.0056 - val_mae: 0.0415 - val_r2_score: 0.8554\n",
      "Epoch 96/100\n",
      "\u001b[1m28/28\u001b[0m \u001b[32m━━━━━━━━━━━━━━━━━━━━\u001b[0m\u001b[37m\u001b[0m \u001b[1m0s\u001b[0m 2ms/step - loss: 0.0025 - mae: 0.0277 - r2_score: 0.8330 - val_loss: 0.0055 - val_mae: 0.0415 - val_r2_score: 0.8562\n",
      "Epoch 97/100\n",
      "\u001b[1m28/28\u001b[0m \u001b[32m━━━━━━━━━━━━━━━━━━━━\u001b[0m\u001b[37m\u001b[0m \u001b[1m0s\u001b[0m 2ms/step - loss: 0.0025 - mae: 0.0279 - r2_score: 0.8311 - val_loss: 0.0056 - val_mae: 0.0415 - val_r2_score: 0.8547\n",
      "Epoch 98/100\n",
      "\u001b[1m28/28\u001b[0m \u001b[32m━━━━━━━━━━━━━━━━━━━━\u001b[0m\u001b[37m\u001b[0m \u001b[1m0s\u001b[0m 2ms/step - loss: 0.0025 - mae: 0.0276 - r2_score: 0.8337 - val_loss: 0.0056 - val_mae: 0.0417 - val_r2_score: 0.8543\n",
      "Epoch 99/100\n",
      "\u001b[1m28/28\u001b[0m \u001b[32m━━━━━━━━━━━━━━━━━━━━\u001b[0m\u001b[37m\u001b[0m \u001b[1m0s\u001b[0m 2ms/step - loss: 0.0025 - mae: 0.0282 - r2_score: 0.8314 - val_loss: 0.0055 - val_mae: 0.0416 - val_r2_score: 0.8556\n",
      "Epoch 100/100\n",
      "\u001b[1m28/28\u001b[0m \u001b[32m━━━━━━━━━━━━━━━━━━━━\u001b[0m\u001b[37m\u001b[0m \u001b[1m0s\u001b[0m 2ms/step - loss: 0.0025 - mae: 0.0279 - r2_score: 0.8327 - val_loss: 0.0055 - val_mae: 0.0414 - val_r2_score: 0.8563\n"
     ]
    },
    {
     "data": {
      "text/plain": [
       "<keras.src.callbacks.history.History at 0x277d050fa70>"
      ]
     },
     "execution_count": 33,
     "metadata": {},
     "output_type": "execute_result"
    }
   ],
   "source": [
    "early_stop = keras.callbacks.EarlyStopping(monitor='val_loss', patience=5, restore_best_weights=True)\n",
    "\n",
    "nn_reg.fit(X_train, y_train, epochs=100, validation_data=(X_val, y_val), callbacks=[early_stop])"
   ]
  },
  {
   "cell_type": "code",
   "execution_count": 34,
   "metadata": {},
   "outputs": [
    {
     "name": "stdout",
     "output_type": "stream",
     "text": [
      "\u001b[1m4/4\u001b[0m \u001b[32m━━━━━━━━━━━━━━━━━━━━\u001b[0m\u001b[37m\u001b[0m \u001b[1m0s\u001b[0m 2ms/step - loss: 0.0067 - mae: 0.0392 - r2_score: 0.7298 \n"
     ]
    },
    {
     "data": {
      "text/plain": [
       "[0.007201795000582933, 0.04257042706012726, 0.6877851486206055]"
      ]
     },
     "execution_count": 34,
     "metadata": {},
     "output_type": "execute_result"
    }
   ],
   "source": [
    "nn_reg.evaluate(X_test, y_test)"
   ]
  },
  {
   "cell_type": "markdown",
   "metadata": {},
   "source": [
    "<p align=\"justify\">\n",
    "O código abaixo faz o ajuste de hiperparâmetros através do Optuna para o Neural Network Regressor. Escolhemos variar os valores de n_layers, weight_decay, n_units e activation, por serem considerados uns dos mais impactantes na performance desse tipo de regressor."
   ]
  },
  {
   "cell_type": "code",
   "execution_count": 35,
   "metadata": {},
   "outputs": [],
   "source": [
    "def create_model(trial):\n",
    "    n_layers = trial.suggest_int('n_layers', 1, 5)\n",
    "    weight_decay = trial.suggest_float(\"weight_decay\", 1e-10, 1e-3, log=True)\n",
    "    \n",
    "    model = tf.keras.Sequential()\n",
    "    model.add(keras.Input(shape=(X_train.shape[1],)))\n",
    "    \n",
    "    for i in range(n_layers):\n",
    "        n_units = trial.suggest_int(f'n_units_{i}', 4, 128)\n",
    "        activation = trial.suggest_categorical(f'activation_{i}', ['relu', 'tanh', 'sigmoid', 'linear'])\n",
    "        \n",
    "        model.add(\n",
    "            layers.Dense(\n",
    "                n_units, activation=activation, kernel_regularizer=keras.regularizers.l2(weight_decay)\n",
    "            )\n",
    "        )\n",
    "    \n",
    "    model.add(layers.Dense(1))\n",
    "    \n",
    "    return model\n",
    "\n",
    "def create_optimizer(trial):\n",
    "    lr = trial.suggest_float('lr', 1e-5, 1e-1, log=True)\n",
    "    optimizer = tf.keras.optimizers.Adam(lr)\n",
    "    \n",
    "    return optimizer"
   ]
  },
  {
   "cell_type": "code",
   "execution_count": 36,
   "metadata": {},
   "outputs": [],
   "source": [
    "def objective_nn(trial):\n",
    "    with mlflow.start_run(run_name=\"Artificial Neural Network\"):\n",
    "        model = create_model(trial)\n",
    "        optimizer = create_optimizer(trial)\n",
    "        \n",
    "        model.compile(loss='mse', optimizer=optimizer, metrics=['mae', 'r2_score'])\n",
    "        \n",
    "        early_stop = keras.callbacks.EarlyStopping(monitor='val_loss', patience=5, restore_best_weights=True)\n",
    "        \n",
    "        model.fit(X_train, y_train, epochs=100, validation_data=(X_val, y_val), callbacks=[early_stop], verbose=0)\n",
    "\n",
    "        mlflow.log_param(\"model_type\", \"Artificial Neural Network\")\n",
    "        mlflow.log_metric(\"R2\", model.evaluate(X_test, y_test, verbose=0)[2])\n",
    "        for param in trial.params:\n",
    "            mlflow.log_param(param, trial.params[param])\n",
    "        mlflow.keras.log_model(model, \"model\")\n",
    "    \n",
    "    return model.evaluate(X_test, y_test, verbose=0)[2]"
   ]
  },
  {
   "cell_type": "code",
   "execution_count": 37,
   "metadata": {},
   "outputs": [
    {
     "name": "stderr",
     "output_type": "stream",
     "text": [
      "[I 2024-07-11 23:32:17,941] A new study created in memory with name: Study for neural network regressor\n",
      "2024/07/11 23:32:25 WARNING mlflow.keras.save: You are saving a Keras model without specifying model signature.\n",
      "[I 2024-07-11 23:32:30,645] Trial 0 finished with value: 0.5147924423217773 and parameters: {'n_layers': 3, 'weight_decay': 1.0407596989508106e-10, 'n_units_0': 17, 'activation_0': 'relu', 'n_units_1': 126, 'activation_1': 'sigmoid', 'n_units_2': 65, 'activation_2': 'tanh', 'lr': 0.00011196940292065177}. Best is trial 0 with value: 0.5147924423217773.\n",
      "2024/07/11 23:32:38 WARNING mlflow.keras.save: You are saving a Keras model without specifying model signature.\n",
      "[I 2024-07-11 23:32:43,561] Trial 1 finished with value: 0.47421908378601074 and parameters: {'n_layers': 4, 'weight_decay': 3.123431953368961e-06, 'n_units_0': 58, 'activation_0': 'linear', 'n_units_1': 50, 'activation_1': 'linear', 'n_units_2': 50, 'activation_2': 'tanh', 'n_units_3': 127, 'activation_3': 'sigmoid', 'lr': 5.531973331459557e-05}. Best is trial 0 with value: 0.5147924423217773.\n",
      "2024/07/11 23:32:50 WARNING mlflow.keras.save: You are saving a Keras model without specifying model signature.\n",
      "[I 2024-07-11 23:32:55,053] Trial 2 finished with value: 0.5252776145935059 and parameters: {'n_layers': 1, 'weight_decay': 1.6418484488975183e-06, 'n_units_0': 36, 'activation_0': 'tanh', 'lr': 0.0006362415813601575}. Best is trial 2 with value: 0.5252776145935059.\n",
      "2024/07/11 23:33:02 WARNING mlflow.keras.save: You are saving a Keras model without specifying model signature.\n",
      "[I 2024-07-11 23:33:06,777] Trial 3 finished with value: -0.8676451444625854 and parameters: {'n_layers': 1, 'weight_decay': 6.31617870639317e-09, 'n_units_0': 9, 'activation_0': 'linear', 'lr': 7.812959096501433e-05}. Best is trial 2 with value: 0.5252776145935059.\n",
      "2024/07/11 23:33:10 WARNING mlflow.keras.save: You are saving a Keras model without specifying model signature.\n",
      "[I 2024-07-11 23:33:15,247] Trial 4 finished with value: 0.6336239576339722 and parameters: {'n_layers': 5, 'weight_decay': 1.7191566642867957e-08, 'n_units_0': 60, 'activation_0': 'linear', 'n_units_1': 70, 'activation_1': 'linear', 'n_units_2': 75, 'activation_2': 'tanh', 'n_units_3': 126, 'activation_3': 'sigmoid', 'n_units_4': 99, 'activation_4': 'sigmoid', 'lr': 0.017749640803165465}. Best is trial 4 with value: 0.6336239576339722.\n",
      "2024/07/11 23:33:22 WARNING mlflow.keras.save: You are saving a Keras model without specifying model signature.\n",
      "[I 2024-07-11 23:33:27,543] Trial 5 finished with value: 0.4044528603553772 and parameters: {'n_layers': 3, 'weight_decay': 0.0002294186688776886, 'n_units_0': 39, 'activation_0': 'linear', 'n_units_1': 93, 'activation_1': 'sigmoid', 'n_units_2': 106, 'activation_2': 'tanh', 'lr': 0.005057720380313979}. Best is trial 4 with value: 0.6336239576339722.\n",
      "2024/07/11 23:33:34 WARNING mlflow.keras.save: You are saving a Keras model without specifying model signature.\n",
      "[I 2024-07-11 23:33:39,121] Trial 6 finished with value: 0.4068509340286255 and parameters: {'n_layers': 1, 'weight_decay': 1.9971022052631777e-05, 'n_units_0': 91, 'activation_0': 'sigmoid', 'lr': 8.317841592897341e-05}. Best is trial 4 with value: 0.6336239576339722.\n",
      "2024/07/11 23:33:46 WARNING mlflow.keras.save: You are saving a Keras model without specifying model signature.\n",
      "[I 2024-07-11 23:33:51,492] Trial 7 finished with value: 0.4430064558982849 and parameters: {'n_layers': 3, 'weight_decay': 8.541098164637662e-07, 'n_units_0': 56, 'activation_0': 'tanh', 'n_units_1': 91, 'activation_1': 'tanh', 'n_units_2': 36, 'activation_2': 'tanh', 'lr': 1.6420607773452726e-05}. Best is trial 4 with value: 0.6336239576339722.\n",
      "2024/07/11 23:33:59 WARNING mlflow.keras.save: You are saving a Keras model without specifying model signature.\n",
      "[I 2024-07-11 23:34:04,344] Trial 8 finished with value: 0.4359859824180603 and parameters: {'n_layers': 4, 'weight_decay': 3.7742014601580664e-10, 'n_units_0': 123, 'activation_0': 'sigmoid', 'n_units_1': 52, 'activation_1': 'tanh', 'n_units_2': 57, 'activation_2': 'tanh', 'n_units_3': 15, 'activation_3': 'linear', 'lr': 2.789494571837263e-05}. Best is trial 4 with value: 0.6336239576339722.\n",
      "2024/07/11 23:34:12 WARNING mlflow.keras.save: You are saving a Keras model without specifying model signature.\n",
      "[I 2024-07-11 23:34:17,376] Trial 9 finished with value: 0.4716793894767761 and parameters: {'n_layers': 4, 'weight_decay': 9.731105105187916e-09, 'n_units_0': 8, 'activation_0': 'sigmoid', 'n_units_1': 39, 'activation_1': 'linear', 'n_units_2': 128, 'activation_2': 'tanh', 'n_units_3': 17, 'activation_3': 'linear', 'lr': 0.0001112469548836459}. Best is trial 4 with value: 0.6336239576339722.\n",
      "2024/07/11 23:34:20 WARNING mlflow.keras.save: You are saving a Keras model without specifying model signature.\n",
      "[I 2024-07-11 23:34:24,759] Trial 10 finished with value: -0.029573798179626465 and parameters: {'n_layers': 5, 'weight_decay': 2.0295030999541994e-08, 'n_units_0': 87, 'activation_0': 'relu', 'n_units_1': 4, 'activation_1': 'relu', 'n_units_2': 8, 'activation_2': 'relu', 'n_units_3': 127, 'activation_3': 'sigmoid', 'n_units_4': 100, 'activation_4': 'sigmoid', 'lr': 0.06243004947396576}. Best is trial 4 with value: 0.6336239576339722.\n",
      "2024/07/11 23:34:32 WARNING mlflow.keras.save: You are saving a Keras model without specifying model signature.\n",
      "[I 2024-07-11 23:34:36,858] Trial 11 finished with value: 0.4970363974571228 and parameters: {'n_layers': 2, 'weight_decay': 1.354003256748256e-07, 'n_units_0': 35, 'activation_0': 'tanh', 'n_units_1': 82, 'activation_1': 'linear', 'lr': 0.0015006818982197872}. Best is trial 4 with value: 0.6336239576339722.\n",
      "2024/07/11 23:34:39 WARNING mlflow.keras.save: You are saving a Keras model without specifying model signature.\n",
      "[I 2024-07-11 23:34:44,560] Trial 12 finished with value: 0.6135202646255493 and parameters: {'n_layers': 5, 'weight_decay': 1.227327273976265e-07, 'n_units_0': 78, 'activation_0': 'tanh', 'n_units_1': 21, 'activation_1': 'relu', 'n_units_2': 91, 'activation_2': 'sigmoid', 'n_units_3': 79, 'activation_3': 'relu', 'n_units_4': 39, 'activation_4': 'relu', 'lr': 0.013679311807281078}. Best is trial 4 with value: 0.6336239576339722.\n",
      "2024/07/11 23:34:47 WARNING mlflow.keras.save: You are saving a Keras model without specifying model signature.\n",
      "[I 2024-07-11 23:34:52,024] Trial 13 finished with value: -0.021314144134521484 and parameters: {'n_layers': 5, 'weight_decay': 9.614721128505407e-08, 'n_units_0': 83, 'activation_0': 'tanh', 'n_units_1': 18, 'activation_1': 'relu', 'n_units_2': 93, 'activation_2': 'sigmoid', 'n_units_3': 78, 'activation_3': 'relu', 'n_units_4': 26, 'activation_4': 'relu', 'lr': 0.03859909822226158}. Best is trial 4 with value: 0.6336239576339722.\n",
      "2024/07/11 23:34:55 WARNING mlflow.keras.save: You are saving a Keras model without specifying model signature.\n",
      "[I 2024-07-11 23:35:00,348] Trial 14 finished with value: 0.650495171546936 and parameters: {'n_layers': 5, 'weight_decay': 1.9627926626799525e-09, 'n_units_0': 106, 'activation_0': 'linear', 'n_units_1': 73, 'activation_1': 'relu', 'n_units_2': 89, 'activation_2': 'sigmoid', 'n_units_3': 82, 'activation_3': 'relu', 'n_units_4': 58, 'activation_4': 'relu', 'lr': 0.010582796397977112}. Best is trial 14 with value: 0.650495171546936.\n",
      "2024/07/11 23:35:03 WARNING mlflow.keras.save: You are saving a Keras model without specifying model signature.\n",
      "[I 2024-07-11 23:35:08,042] Trial 15 finished with value: 0.5733156800270081 and parameters: {'n_layers': 5, 'weight_decay': 1.1638607702287929e-09, 'n_units_0': 115, 'activation_0': 'linear', 'n_units_1': 69, 'activation_1': 'relu', 'n_units_2': 80, 'activation_2': 'linear', 'n_units_3': 93, 'activation_3': 'tanh', 'n_units_4': 92, 'activation_4': 'sigmoid', 'lr': 0.006253530863887365}. Best is trial 14 with value: 0.650495171546936.\n",
      "2024/07/11 23:35:10 WARNING mlflow.keras.save: You are saving a Keras model without specifying model signature.\n",
      "[I 2024-07-11 23:35:14,792] Trial 16 finished with value: -0.0012000799179077148 and parameters: {'n_layers': 4, 'weight_decay': 2.337417796344661e-09, 'n_units_0': 108, 'activation_0': 'linear', 'n_units_1': 115, 'activation_1': 'linear', 'n_units_2': 116, 'activation_2': 'sigmoid', 'n_units_3': 48, 'activation_3': 'relu', 'lr': 0.018176721157521773}. Best is trial 14 with value: 0.650495171546936.\n",
      "2024/07/11 23:35:18 WARNING mlflow.keras.save: You are saving a Keras model without specifying model signature.\n",
      "[I 2024-07-11 23:35:23,517] Trial 17 finished with value: 0.6308952569961548 and parameters: {'n_layers': 5, 'weight_decay': 2.3527295860373277e-08, 'n_units_0': 106, 'activation_0': 'linear', 'n_units_1': 68, 'activation_1': 'relu', 'n_units_2': 77, 'activation_2': 'relu', 'n_units_3': 103, 'activation_3': 'sigmoid', 'n_units_4': 66, 'activation_4': 'tanh', 'lr': 0.0013813502253564602}. Best is trial 14 with value: 0.650495171546936.\n",
      "2024/07/11 23:35:25 WARNING mlflow.keras.save: You are saving a Keras model without specifying model signature.\n",
      "[I 2024-07-11 23:35:30,285] Trial 18 finished with value: -0.03776252269744873 and parameters: {'n_layers': 4, 'weight_decay': 5.53869606893315e-10, 'n_units_0': 68, 'activation_0': 'linear', 'n_units_1': 100, 'activation_1': 'linear', 'n_units_2': 34, 'activation_2': 'linear', 'n_units_3': 48, 'activation_3': 'tanh', 'lr': 0.09421979278903217}. Best is trial 14 with value: 0.650495171546936.\n",
      "2024/07/11 23:35:37 WARNING mlflow.keras.save: You are saving a Keras model without specifying model signature.\n",
      "[I 2024-07-11 23:35:42,319] Trial 19 finished with value: 0.5618810653686523 and parameters: {'n_layers': 2, 'weight_decay': 1.3238422613700275e-10, 'n_units_0': 98, 'activation_0': 'linear', 'n_units_1': 81, 'activation_1': 'tanh', 'lr': 0.0004009636150899939}. Best is trial 14 with value: 0.650495171546936.\n",
      "2024/07/11 23:35:48 WARNING mlflow.keras.save: You are saving a Keras model without specifying model signature.\n",
      "[I 2024-07-11 23:35:52,922] Trial 20 finished with value: 0.6066666841506958 and parameters: {'n_layers': 5, 'weight_decay': 7.258601633094544e-06, 'n_units_0': 67, 'activation_0': 'relu', 'n_units_1': 53, 'activation_1': 'sigmoid', 'n_units_2': 100, 'activation_2': 'sigmoid', 'n_units_3': 106, 'activation_3': 'relu', 'n_units_4': 123, 'activation_4': 'linear', 'lr': 0.003683260751454521}. Best is trial 14 with value: 0.650495171546936.\n",
      "2024/07/11 23:35:56 WARNING mlflow.keras.save: You are saving a Keras model without specifying model signature.\n",
      "[I 2024-07-11 23:36:01,485] Trial 21 finished with value: 0.6442615985870361 and parameters: {'n_layers': 5, 'weight_decay': 2.4792945648696386e-08, 'n_units_0': 103, 'activation_0': 'linear', 'n_units_1': 67, 'activation_1': 'relu', 'n_units_2': 79, 'activation_2': 'relu', 'n_units_3': 105, 'activation_3': 'sigmoid', 'n_units_4': 70, 'activation_4': 'tanh', 'lr': 0.0014518048351473915}. Best is trial 14 with value: 0.650495171546936.\n",
      "2024/07/11 23:36:06 WARNING mlflow.keras.save: You are saving a Keras model without specifying model signature.\n",
      "[I 2024-07-11 23:36:11,158] Trial 22 finished with value: 0.6689339876174927 and parameters: {'n_layers': 5, 'weight_decay': 3.6648976715786678e-09, 'n_units_0': 128, 'activation_0': 'linear', 'n_units_1': 66, 'activation_1': 'relu', 'n_units_2': 73, 'activation_2': 'relu', 'n_units_3': 111, 'activation_3': 'sigmoid', 'n_units_4': 64, 'activation_4': 'tanh', 'lr': 0.01684559528359641}. Best is trial 22 with value: 0.6689339876174927.\n",
      "2024/07/11 23:36:15 WARNING mlflow.keras.save: You are saving a Keras model without specifying model signature.\n",
      "[I 2024-07-11 23:36:20,490] Trial 23 finished with value: 0.706771969795227 and parameters: {'n_layers': 4, 'weight_decay': 2.6435432821839234e-09, 'n_units_0': 127, 'activation_0': 'linear', 'n_units_1': 39, 'activation_1': 'relu', 'n_units_2': 86, 'activation_2': 'relu', 'n_units_3': 104, 'activation_3': 'sigmoid', 'lr': 0.00238875578843557}. Best is trial 23 with value: 0.706771969795227.\n",
      "2024/07/11 23:36:22 WARNING mlflow.keras.save: You are saving a Keras model without specifying model signature.\n",
      "[I 2024-07-11 23:36:27,586] Trial 24 finished with value: 0.5932295918464661 and parameters: {'n_layers': 4, 'weight_decay': 1.3348548929074545e-09, 'n_units_0': 126, 'activation_0': 'linear', 'n_units_1': 41, 'activation_1': 'relu', 'n_units_2': 90, 'activation_2': 'relu', 'n_units_3': 88, 'activation_3': 'sigmoid', 'lr': 0.00706569615374294}. Best is trial 23 with value: 0.706771969795227.\n",
      "2024/07/11 23:36:30 WARNING mlflow.keras.save: You are saving a Keras model without specifying model signature.\n",
      "[I 2024-07-11 23:36:35,521] Trial 25 finished with value: 0.6908174753189087 and parameters: {'n_layers': 4, 'weight_decay': 4.431755416003901e-09, 'n_units_0': 118, 'activation_0': 'linear', 'n_units_1': 37, 'activation_1': 'relu', 'n_units_2': 65, 'activation_2': 'relu', 'n_units_3': 65, 'activation_3': 'sigmoid', 'lr': 0.0025303789240658887}. Best is trial 23 with value: 0.706771969795227.\n",
      "2024/07/11 23:36:38 WARNING mlflow.keras.save: You are saving a Keras model without specifying model signature.\n",
      "[I 2024-07-11 23:36:42,665] Trial 26 finished with value: 0.6137483716011047 and parameters: {'n_layers': 3, 'weight_decay': 5.180523528329303e-09, 'n_units_0': 117, 'activation_0': 'linear', 'n_units_1': 30, 'activation_1': 'relu', 'n_units_2': 46, 'activation_2': 'relu', 'lr': 0.0029402835301049323}. Best is trial 23 with value: 0.706771969795227.\n",
      "2024/07/11 23:36:51 WARNING mlflow.keras.save: You are saving a Keras model without specifying model signature.\n",
      "[I 2024-07-11 23:36:55,951] Trial 27 finished with value: 0.6949770450592041 and parameters: {'n_layers': 4, 'weight_decay': 3.9245508190733333e-10, 'n_units_0': 118, 'activation_0': 'linear', 'n_units_1': 40, 'activation_1': 'relu', 'n_units_2': 63, 'activation_2': 'relu', 'n_units_3': 59, 'activation_3': 'sigmoid', 'lr': 0.00024226767892790972}. Best is trial 23 with value: 0.706771969795227.\n",
      "2024/07/11 23:37:03 WARNING mlflow.keras.save: You are saving a Keras model without specifying model signature.\n",
      "[I 2024-07-11 23:37:08,646] Trial 28 finished with value: 0.6344174146652222 and parameters: {'n_layers': 4, 'weight_decay': 3.5125658590544293e-10, 'n_units_0': 116, 'activation_0': 'relu', 'n_units_1': 31, 'activation_1': 'relu', 'n_units_2': 61, 'activation_2': 'relu', 'n_units_3': 52, 'activation_3': 'sigmoid', 'lr': 0.00035586422667125957}. Best is trial 23 with value: 0.706771969795227.\n",
      "2024/07/11 23:37:16 WARNING mlflow.keras.save: You are saving a Keras model without specifying model signature.\n",
      "[I 2024-07-11 23:37:21,247] Trial 29 finished with value: 0.5250985026359558 and parameters: {'n_layers': 3, 'weight_decay': 1.0584158006433404e-10, 'n_units_0': 97, 'activation_0': 'sigmoid', 'n_units_1': 11, 'activation_1': 'relu', 'n_units_2': 27, 'activation_2': 'relu', 'lr': 0.00018321501176389503}. Best is trial 23 with value: 0.706771969795227.\n",
      "2024/07/11 23:37:28 WARNING mlflow.keras.save: You are saving a Keras model without specifying model signature.\n",
      "[I 2024-07-11 23:37:33,420] Trial 30 finished with value: 0.6245430111885071 and parameters: {'n_layers': 2, 'weight_decay': 5.975953280244541e-08, 'n_units_0': 114, 'activation_0': 'relu', 'n_units_1': 37, 'activation_1': 'relu', 'lr': 0.00022199519887337413}. Best is trial 23 with value: 0.706771969795227.\n",
      "2024/07/11 23:37:38 WARNING mlflow.keras.save: You are saving a Keras model without specifying model signature.\n",
      "[I 2024-07-11 23:37:43,610] Trial 31 finished with value: 0.7154183983802795 and parameters: {'n_layers': 4, 'weight_decay': 4.5681224066889e-09, 'n_units_0': 128, 'activation_0': 'linear', 'n_units_1': 58, 'activation_1': 'relu', 'n_units_2': 69, 'activation_2': 'relu', 'n_units_3': 62, 'activation_3': 'sigmoid', 'lr': 0.0009640338586873993}. Best is trial 31 with value: 0.7154183983802795.\n",
      "2024/07/11 23:37:49 WARNING mlflow.keras.save: You are saving a Keras model without specifying model signature.\n",
      "[I 2024-07-11 23:37:54,361] Trial 32 finished with value: 0.7974918484687805 and parameters: {'n_layers': 4, 'weight_decay': 6.73220761902422e-10, 'n_units_0': 121, 'activation_0': 'linear', 'n_units_1': 55, 'activation_1': 'relu', 'n_units_2': 66, 'activation_2': 'relu', 'n_units_3': 63, 'activation_3': 'sigmoid', 'lr': 0.0007485729150794295}. Best is trial 32 with value: 0.7974918484687805.\n",
      "2024/07/11 23:38:02 WARNING mlflow.keras.save: You are saving a Keras model without specifying model signature.\n",
      "[I 2024-07-11 23:38:07,301] Trial 33 finished with value: 0.6261756420135498 and parameters: {'n_layers': 4, 'weight_decay': 6.942223845007445e-10, 'n_units_0': 125, 'activation_0': 'linear', 'n_units_1': 55, 'activation_1': 'sigmoid', 'n_units_2': 48, 'activation_2': 'relu', 'n_units_3': 62, 'activation_3': 'sigmoid', 'lr': 0.0007070361847293921}. Best is trial 32 with value: 0.7974918484687805.\n",
      "2024/07/11 23:38:13 WARNING mlflow.keras.save: You are saving a Keras model without specifying model signature.\n",
      "[I 2024-07-11 23:38:17,985] Trial 34 finished with value: 0.701736330986023 and parameters: {'n_layers': 4, 'weight_decay': 2.3306115185407486e-10, 'n_units_0': 110, 'activation_0': 'linear', 'n_units_1': 59, 'activation_1': 'relu', 'n_units_2': 69, 'activation_2': 'relu', 'n_units_3': 40, 'activation_3': 'sigmoid', 'lr': 0.0008340470077363374}. Best is trial 32 with value: 0.7974918484687805.\n",
      "2024/07/11 23:38:23 WARNING mlflow.keras.save: You are saving a Keras model without specifying model signature.\n",
      "[I 2024-07-11 23:38:28,080] Trial 35 finished with value: 0.7188493013381958 and parameters: {'n_layers': 3, 'weight_decay': 1.6466373252891217e-10, 'n_units_0': 97, 'activation_0': 'linear', 'n_units_1': 59, 'activation_1': 'relu', 'n_units_2': 71, 'activation_2': 'relu', 'lr': 0.0007783938760314045}. Best is trial 32 with value: 0.7974918484687805.\n",
      "2024/07/11 23:38:36 WARNING mlflow.keras.save: You are saving a Keras model without specifying model signature.\n",
      "[I 2024-07-11 23:38:40,607] Trial 36 finished with value: 0.7467074990272522 and parameters: {'n_layers': 3, 'weight_decay': 4.389869767654003e-07, 'n_units_0': 97, 'activation_0': 'linear', 'n_units_1': 48, 'activation_1': 'relu', 'n_units_2': 83, 'activation_2': 'relu', 'lr': 0.00046590128582732623}. Best is trial 32 with value: 0.7974918484687805.\n",
      "2024/07/11 23:38:48 WARNING mlflow.keras.save: You are saving a Keras model without specifying model signature.\n",
      "[I 2024-07-11 23:38:52,835] Trial 37 finished with value: 0.6060056686401367 and parameters: {'n_layers': 3, 'weight_decay': 6.819772033456734e-07, 'n_units_0': 98, 'activation_0': 'linear', 'n_units_1': 48, 'activation_1': 'sigmoid', 'n_units_2': 56, 'activation_2': 'relu', 'lr': 0.0004001341225703838}. Best is trial 32 with value: 0.7974918484687805.\n",
      "2024/07/11 23:39:00 WARNING mlflow.keras.save: You are saving a Keras model without specifying model signature.\n",
      "[I 2024-07-11 23:39:04,744] Trial 38 finished with value: 0.48787474632263184 and parameters: {'n_layers': 2, 'weight_decay': 2.8491789751062643e-06, 'n_units_0': 91, 'activation_0': 'linear', 'n_units_1': 60, 'activation_1': 'tanh', 'lr': 4.6723970189152465e-05}. Best is trial 32 with value: 0.7974918484687805.\n",
      "2024/07/11 23:39:12 WARNING mlflow.keras.save: You are saving a Keras model without specifying model signature.\n",
      "[I 2024-07-11 23:39:16,582] Trial 39 finished with value: 0.673599898815155 and parameters: {'n_layers': 3, 'weight_decay': 5.4846199903884085e-05, 'n_units_0': 76, 'activation_0': 'linear', 'n_units_1': 47, 'activation_1': 'relu', 'n_units_2': 101, 'activation_2': 'linear', 'lr': 0.0010666738497506023}. Best is trial 32 with value: 0.7974918484687805.\n",
      "2024/07/11 23:39:24 WARNING mlflow.keras.save: You are saving a Keras model without specifying model signature.\n",
      "[I 2024-07-11 23:39:28,803] Trial 40 finished with value: 0.5052003264427185 and parameters: {'n_layers': 3, 'weight_decay': 0.0007760310630341744, 'n_units_0': 50, 'activation_0': 'sigmoid', 'n_units_1': 78, 'activation_1': 'tanh', 'n_units_2': 67, 'activation_2': 'relu', 'lr': 0.0004911474239617166}. Best is trial 32 with value: 0.7974918484687805.\n",
      "2024/07/11 23:39:31 WARNING mlflow.keras.save: You are saving a Keras model without specifying model signature.\n",
      "[I 2024-07-11 23:39:36,034] Trial 41 finished with value: 0.6300679445266724 and parameters: {'n_layers': 3, 'weight_decay': 8.949475925852921e-10, 'n_units_0': 121, 'activation_0': 'linear', 'n_units_1': 62, 'activation_1': 'relu', 'n_units_2': 85, 'activation_2': 'relu', 'lr': 0.002306783701494413}. Best is trial 32 with value: 0.7974918484687805.\n",
      "2024/07/11 23:39:40 WARNING mlflow.keras.save: You are saving a Keras model without specifying model signature.\n",
      "[I 2024-07-11 23:39:45,171] Trial 42 finished with value: 0.6952060461044312 and parameters: {'n_layers': 3, 'weight_decay': 3.3597767517476757e-07, 'n_units_0': 128, 'activation_0': 'linear', 'n_units_1': 47, 'activation_1': 'relu', 'n_units_2': 82, 'activation_2': 'relu', 'lr': 0.0006161795400867886}. Best is trial 32 with value: 0.7974918484687805.\n",
      "2024/07/11 23:39:49 WARNING mlflow.keras.save: You are saving a Keras model without specifying model signature.\n",
      "[I 2024-07-11 23:39:53,939] Trial 43 finished with value: 0.690720796585083 and parameters: {'n_layers': 3, 'weight_decay': 1.8313270161803592e-10, 'n_units_0': 112, 'activation_0': 'linear', 'n_units_1': 28, 'activation_1': 'relu', 'n_units_2': 70, 'activation_2': 'relu', 'lr': 0.0018288888548292854}. Best is trial 32 with value: 0.7974918484687805.\n",
      "2024/07/11 23:39:58 WARNING mlflow.keras.save: You are saving a Keras model without specifying model signature.\n",
      "[I 2024-07-11 23:40:03,302] Trial 44 finished with value: 0.6640224456787109 and parameters: {'n_layers': 4, 'weight_decay': 7.782805925139728e-09, 'n_units_0': 27, 'activation_0': 'linear', 'n_units_1': 57, 'activation_1': 'relu', 'n_units_2': 54, 'activation_2': 'relu', 'n_units_3': 72, 'activation_3': 'linear', 'lr': 0.0010074689429698076}. Best is trial 32 with value: 0.7974918484687805.\n",
      "2024/07/11 23:40:11 WARNING mlflow.keras.save: You are saving a Keras model without specifying model signature.\n",
      "[I 2024-07-11 23:40:16,477] Trial 45 finished with value: 0.6180412769317627 and parameters: {'n_layers': 2, 'weight_decay': 4.99329138336772e-08, 'n_units_0': 92, 'activation_0': 'tanh', 'n_units_1': 47, 'activation_1': 'relu', 'lr': 0.00013009320363019443}. Best is trial 32 with value: 0.7974918484687805.\n",
      "2024/07/11 23:40:24 WARNING mlflow.keras.save: You are saving a Keras model without specifying model signature.\n",
      "[I 2024-07-11 23:40:29,110] Trial 46 finished with value: 0.6581693887710571 and parameters: {'n_layers': 3, 'weight_decay': 1.0009181883912525e-06, 'n_units_0': 101, 'activation_0': 'linear', 'n_units_1': 76, 'activation_1': 'sigmoid', 'n_units_2': 76, 'activation_2': 'relu', 'lr': 0.0038214658049719056}. Best is trial 32 with value: 0.7974918484687805.\n",
      "2024/07/11 23:40:37 WARNING mlflow.keras.save: You are saving a Keras model without specifying model signature.\n",
      "[I 2024-07-11 23:40:42,248] Trial 47 finished with value: 0.5777534246444702 and parameters: {'n_layers': 4, 'weight_decay': 2.6077710756714666e-07, 'n_units_0': 121, 'activation_0': 'sigmoid', 'n_units_1': 87, 'activation_1': 'relu', 'n_units_2': 99, 'activation_2': 'tanh', 'n_units_3': 29, 'activation_3': 'tanh', 'lr': 0.0002974391551976719}. Best is trial 32 with value: 0.7974918484687805.\n",
      "2024/07/11 23:40:48 WARNING mlflow.keras.save: You are saving a Keras model without specifying model signature.\n",
      "[I 2024-07-11 23:40:53,384] Trial 48 finished with value: 0.6848130226135254 and parameters: {'n_layers': 3, 'weight_decay': 1.865248089983241e-09, 'n_units_0': 85, 'activation_0': 'relu', 'n_units_1': 23, 'activation_1': 'linear', 'n_units_2': 111, 'activation_2': 'relu', 'lr': 0.0006295701863195096}. Best is trial 32 with value: 0.7974918484687805.\n",
      "2024/07/11 23:41:01 WARNING mlflow.keras.save: You are saving a Keras model without specifying model signature.\n",
      "[I 2024-07-11 23:41:06,741] Trial 49 finished with value: 0.5976899862289429 and parameters: {'n_layers': 4, 'weight_decay': 1.0095455959279336e-08, 'n_units_0': 77, 'activation_0': 'tanh', 'n_units_1': 52, 'activation_1': 'relu', 'n_units_2': 87, 'activation_2': 'linear', 'n_units_3': 32, 'activation_3': 'sigmoid', 'lr': 0.000156420106204626}. Best is trial 32 with value: 0.7974918484687805.\n"
     ]
    },
    {
     "name": "stdout",
     "output_type": "stream",
     "text": [
      "FrozenTrial(number=32, state=1, values=[0.7974918484687805], datetime_start=datetime.datetime(2024, 7, 11, 23, 37, 43, 611518), datetime_complete=datetime.datetime(2024, 7, 11, 23, 37, 54, 361087), params={'n_layers': 4, 'weight_decay': 6.73220761902422e-10, 'n_units_0': 121, 'activation_0': 'linear', 'n_units_1': 55, 'activation_1': 'relu', 'n_units_2': 66, 'activation_2': 'relu', 'n_units_3': 63, 'activation_3': 'sigmoid', 'lr': 0.0007485729150794295}, user_attrs={}, system_attrs={}, intermediate_values={}, distributions={'n_layers': IntDistribution(high=5, log=False, low=1, step=1), 'weight_decay': FloatDistribution(high=0.001, log=True, low=1e-10, step=None), 'n_units_0': IntDistribution(high=128, log=False, low=4, step=1), 'activation_0': CategoricalDistribution(choices=('relu', 'tanh', 'sigmoid', 'linear')), 'n_units_1': IntDistribution(high=128, log=False, low=4, step=1), 'activation_1': CategoricalDistribution(choices=('relu', 'tanh', 'sigmoid', 'linear')), 'n_units_2': IntDistribution(high=128, log=False, low=4, step=1), 'activation_2': CategoricalDistribution(choices=('relu', 'tanh', 'sigmoid', 'linear')), 'n_units_3': IntDistribution(high=128, log=False, low=4, step=1), 'activation_3': CategoricalDistribution(choices=('relu', 'tanh', 'sigmoid', 'linear')), 'lr': FloatDistribution(high=0.1, log=True, low=1e-05, step=None)}, trial_id=32, value=None)\n"
     ]
    }
   ],
   "source": [
    "study = optuna.create_study( study_name=\"Study for neural network regressor\", direction=\"maximize\")\n",
    "study.optimize(objective_nn, n_trials=50)\n",
    "print(study.best_trial)"
   ]
  },
  {
   "cell_type": "code",
   "execution_count": 39,
   "metadata": {},
   "outputs": [
    {
     "name": "stdout",
     "output_type": "stream",
     "text": [
      "Epoch 1/100\n",
      "\u001b[1m28/28\u001b[0m \u001b[32m━━━━━━━━━━━━━━━━━━━━\u001b[0m\u001b[37m\u001b[0m \u001b[1m1s\u001b[0m 8ms/step - loss: 0.0515 - mae: 0.1697 - r2_score: -2.2973 - val_loss: 0.0319 - val_mae: 0.0732 - val_r2_score: 0.1700\n",
      "Epoch 2/100\n",
      "\u001b[1m28/28\u001b[0m \u001b[32m━━━━━━━━━━━━━━━━━━━━\u001b[0m\u001b[37m\u001b[0m \u001b[1m0s\u001b[0m 2ms/step - loss: 0.0100 - mae: 0.0531 - r2_score: 0.3481 - val_loss: 0.0232 - val_mae: 0.0785 - val_r2_score: 0.3970\n",
      "Epoch 3/100\n",
      "\u001b[1m28/28\u001b[0m \u001b[32m━━━━━━━━━━━━━━━━━━━━\u001b[0m\u001b[37m\u001b[0m \u001b[1m0s\u001b[0m 2ms/step - loss: 0.0085 - mae: 0.0528 - r2_score: 0.4385 - val_loss: 0.0218 - val_mae: 0.0733 - val_r2_score: 0.4313\n",
      "Epoch 4/100\n",
      "\u001b[1m28/28\u001b[0m \u001b[32m━━━━━━━━━━━━━━━━━━━━\u001b[0m\u001b[37m\u001b[0m \u001b[1m0s\u001b[0m 2ms/step - loss: 0.0076 - mae: 0.0489 - r2_score: 0.5011 - val_loss: 0.0199 - val_mae: 0.0733 - val_r2_score: 0.4808\n",
      "Epoch 5/100\n",
      "\u001b[1m28/28\u001b[0m \u001b[32m━━━━━━━━━━━━━━━━━━━━\u001b[0m\u001b[37m\u001b[0m \u001b[1m0s\u001b[0m 2ms/step - loss: 0.0069 - mae: 0.0477 - r2_score: 0.5410 - val_loss: 0.0180 - val_mae: 0.0718 - val_r2_score: 0.5308\n",
      "Epoch 6/100\n",
      "\u001b[1m28/28\u001b[0m \u001b[32m━━━━━━━━━━━━━━━━━━━━\u001b[0m\u001b[37m\u001b[0m \u001b[1m0s\u001b[0m 2ms/step - loss: 0.0063 - mae: 0.0460 - r2_score: 0.5791 - val_loss: 0.0161 - val_mae: 0.0696 - val_r2_score: 0.5807\n",
      "Epoch 7/100\n",
      "\u001b[1m28/28\u001b[0m \u001b[32m━━━━━━━━━━━━━━━━━━━━\u001b[0m\u001b[37m\u001b[0m \u001b[1m0s\u001b[0m 2ms/step - loss: 0.0058 - mae: 0.0442 - r2_score: 0.6112 - val_loss: 0.0143 - val_mae: 0.0665 - val_r2_score: 0.6281\n",
      "Epoch 8/100\n",
      "\u001b[1m28/28\u001b[0m \u001b[32m━━━━━━━━━━━━━━━━━━━━\u001b[0m\u001b[37m\u001b[0m \u001b[1m0s\u001b[0m 2ms/step - loss: 0.0054 - mae: 0.0422 - r2_score: 0.6369 - val_loss: 0.0128 - val_mae: 0.0619 - val_r2_score: 0.6658\n",
      "Epoch 9/100\n",
      "\u001b[1m28/28\u001b[0m \u001b[32m━━━━━━━━━━━━━━━━━━━━\u001b[0m\u001b[37m\u001b[0m \u001b[1m0s\u001b[0m 2ms/step - loss: 0.0051 - mae: 0.0399 - r2_score: 0.6612 - val_loss: 0.0117 - val_mae: 0.0588 - val_r2_score: 0.6945\n",
      "Epoch 10/100\n",
      "\u001b[1m28/28\u001b[0m \u001b[32m━━━━━━━━━━━━━━━━━━━━\u001b[0m\u001b[37m\u001b[0m \u001b[1m0s\u001b[0m 2ms/step - loss: 0.0049 - mae: 0.0388 - r2_score: 0.6738 - val_loss: 0.0108 - val_mae: 0.0557 - val_r2_score: 0.7186\n",
      "Epoch 11/100\n",
      "\u001b[1m28/28\u001b[0m \u001b[32m━━━━━━━━━━━━━━━━━━━━\u001b[0m\u001b[37m\u001b[0m \u001b[1m0s\u001b[0m 2ms/step - loss: 0.0047 - mae: 0.0374 - r2_score: 0.6865 - val_loss: 0.0102 - val_mae: 0.0546 - val_r2_score: 0.7343\n",
      "Epoch 12/100\n",
      "\u001b[1m28/28\u001b[0m \u001b[32m━━━━━━━━━━━━━━━━━━━━\u001b[0m\u001b[37m\u001b[0m \u001b[1m0s\u001b[0m 2ms/step - loss: 0.0046 - mae: 0.0369 - r2_score: 0.6928 - val_loss: 0.0097 - val_mae: 0.0539 - val_r2_score: 0.7467\n",
      "Epoch 13/100\n",
      "\u001b[1m28/28\u001b[0m \u001b[32m━━━━━━━━━━━━━━━━━━━━\u001b[0m\u001b[37m\u001b[0m \u001b[1m0s\u001b[0m 2ms/step - loss: 0.0045 - mae: 0.0363 - r2_score: 0.6989 - val_loss: 0.0095 - val_mae: 0.0534 - val_r2_score: 0.7533\n",
      "Epoch 14/100\n",
      "\u001b[1m28/28\u001b[0m \u001b[32m━━━━━━━━━━━━━━━━━━━━\u001b[0m\u001b[37m\u001b[0m \u001b[1m0s\u001b[0m 2ms/step - loss: 0.0044 - mae: 0.0360 - r2_score: 0.7056 - val_loss: 0.0092 - val_mae: 0.0531 - val_r2_score: 0.7604\n",
      "Epoch 15/100\n",
      "\u001b[1m28/28\u001b[0m \u001b[32m━━━━━━━━━━━━━━━━━━━━\u001b[0m\u001b[37m\u001b[0m \u001b[1m0s\u001b[0m 2ms/step - loss: 0.0043 - mae: 0.0355 - r2_score: 0.7105 - val_loss: 0.0090 - val_mae: 0.0528 - val_r2_score: 0.7655\n",
      "Epoch 16/100\n",
      "\u001b[1m28/28\u001b[0m \u001b[32m━━━━━━━━━━━━━━━━━━━━\u001b[0m\u001b[37m\u001b[0m \u001b[1m0s\u001b[0m 2ms/step - loss: 0.0043 - mae: 0.0355 - r2_score: 0.7117 - val_loss: 0.0089 - val_mae: 0.0526 - val_r2_score: 0.7671\n",
      "Epoch 17/100\n",
      "\u001b[1m28/28\u001b[0m \u001b[32m━━━━━━━━━━━━━━━━━━━━\u001b[0m\u001b[37m\u001b[0m \u001b[1m0s\u001b[0m 3ms/step - loss: 0.0043 - mae: 0.0353 - r2_score: 0.7116 - val_loss: 0.0088 - val_mae: 0.0525 - val_r2_score: 0.7705\n",
      "Epoch 18/100\n",
      "\u001b[1m28/28\u001b[0m \u001b[32m━━━━━━━━━━━━━━━━━━━━\u001b[0m\u001b[37m\u001b[0m \u001b[1m0s\u001b[0m 2ms/step - loss: 0.0042 - mae: 0.0352 - r2_score: 0.7155 - val_loss: 0.0087 - val_mae: 0.0525 - val_r2_score: 0.7743\n",
      "Epoch 19/100\n",
      "\u001b[1m28/28\u001b[0m \u001b[32m━━━━━━━━━━━━━━━━━━━━\u001b[0m\u001b[37m\u001b[0m \u001b[1m0s\u001b[0m 2ms/step - loss: 0.0042 - mae: 0.0349 - r2_score: 0.7204 - val_loss: 0.0086 - val_mae: 0.0521 - val_r2_score: 0.7766\n",
      "Epoch 20/100\n",
      "\u001b[1m28/28\u001b[0m \u001b[32m━━━━━━━━━━━━━━━━━━━━\u001b[0m\u001b[37m\u001b[0m \u001b[1m0s\u001b[0m 2ms/step - loss: 0.0041 - mae: 0.0346 - r2_score: 0.7249 - val_loss: 0.0084 - val_mae: 0.0515 - val_r2_score: 0.7818\n",
      "Epoch 21/100\n",
      "\u001b[1m28/28\u001b[0m \u001b[32m━━━━━━━━━━━━━━━━━━━━\u001b[0m\u001b[37m\u001b[0m \u001b[1m0s\u001b[0m 2ms/step - loss: 0.0040 - mae: 0.0345 - r2_score: 0.7280 - val_loss: 0.0085 - val_mae: 0.0517 - val_r2_score: 0.7800\n",
      "Epoch 22/100\n",
      "\u001b[1m28/28\u001b[0m \u001b[32m━━━━━━━━━━━━━━━━━━━━\u001b[0m\u001b[37m\u001b[0m \u001b[1m0s\u001b[0m 2ms/step - loss: 0.0040 - mae: 0.0343 - r2_score: 0.7282 - val_loss: 0.0083 - val_mae: 0.0515 - val_r2_score: 0.7841\n",
      "Epoch 23/100\n",
      "\u001b[1m28/28\u001b[0m \u001b[32m━━━━━━━━━━━━━━━━━━━━\u001b[0m\u001b[37m\u001b[0m \u001b[1m0s\u001b[0m 2ms/step - loss: 0.0039 - mae: 0.0342 - r2_score: 0.7348 - val_loss: 0.0082 - val_mae: 0.0513 - val_r2_score: 0.7866\n",
      "Epoch 24/100\n",
      "\u001b[1m28/28\u001b[0m \u001b[32m━━━━━━━━━━━━━━━━━━━━\u001b[0m\u001b[37m\u001b[0m \u001b[1m0s\u001b[0m 2ms/step - loss: 0.0039 - mae: 0.0342 - r2_score: 0.7342 - val_loss: 0.0081 - val_mae: 0.0513 - val_r2_score: 0.7886\n",
      "Epoch 25/100\n",
      "\u001b[1m28/28\u001b[0m \u001b[32m━━━━━━━━━━━━━━━━━━━━\u001b[0m\u001b[37m\u001b[0m \u001b[1m0s\u001b[0m 2ms/step - loss: 0.0039 - mae: 0.0341 - r2_score: 0.7400 - val_loss: 0.0081 - val_mae: 0.0511 - val_r2_score: 0.7880\n",
      "Epoch 26/100\n",
      "\u001b[1m28/28\u001b[0m \u001b[32m━━━━━━━━━━━━━━━━━━━━\u001b[0m\u001b[37m\u001b[0m \u001b[1m0s\u001b[0m 2ms/step - loss: 0.0038 - mae: 0.0337 - r2_score: 0.7428 - val_loss: 0.0080 - val_mae: 0.0507 - val_r2_score: 0.7910\n",
      "Epoch 27/100\n",
      "\u001b[1m28/28\u001b[0m \u001b[32m━━━━━━━━━━━━━━━━━━━━\u001b[0m\u001b[37m\u001b[0m \u001b[1m0s\u001b[0m 2ms/step - loss: 0.0038 - mae: 0.0339 - r2_score: 0.7453 - val_loss: 0.0079 - val_mae: 0.0506 - val_r2_score: 0.7940\n",
      "Epoch 28/100\n",
      "\u001b[1m28/28\u001b[0m \u001b[32m━━━━━━━━━━━━━━━━━━━━\u001b[0m\u001b[37m\u001b[0m \u001b[1m0s\u001b[0m 2ms/step - loss: 0.0037 - mae: 0.0334 - r2_score: 0.7511 - val_loss: 0.0079 - val_mae: 0.0501 - val_r2_score: 0.7934\n",
      "Epoch 29/100\n",
      "\u001b[1m28/28\u001b[0m \u001b[32m━━━━━━━━━━━━━━━━━━━━\u001b[0m\u001b[37m\u001b[0m \u001b[1m0s\u001b[0m 2ms/step - loss: 0.0037 - mae: 0.0337 - r2_score: 0.7473 - val_loss: 0.0078 - val_mae: 0.0504 - val_r2_score: 0.7969\n",
      "Epoch 30/100\n",
      "\u001b[1m28/28\u001b[0m \u001b[32m━━━━━━━━━━━━━━━━━━━━\u001b[0m\u001b[37m\u001b[0m \u001b[1m0s\u001b[0m 2ms/step - loss: 0.0036 - mae: 0.0335 - r2_score: 0.7555 - val_loss: 0.0079 - val_mae: 0.0499 - val_r2_score: 0.7942\n",
      "Epoch 31/100\n",
      "\u001b[1m28/28\u001b[0m \u001b[32m━━━━━━━━━━━━━━━━━━━━\u001b[0m\u001b[37m\u001b[0m \u001b[1m0s\u001b[0m 2ms/step - loss: 0.0037 - mae: 0.0335 - r2_score: 0.7533 - val_loss: 0.0078 - val_mae: 0.0496 - val_r2_score: 0.7966\n",
      "Epoch 32/100\n",
      "\u001b[1m28/28\u001b[0m \u001b[32m━━━━━━━━━━━━━━━━━━━━\u001b[0m\u001b[37m\u001b[0m \u001b[1m0s\u001b[0m 2ms/step - loss: 0.0035 - mae: 0.0329 - r2_score: 0.7632 - val_loss: 0.0078 - val_mae: 0.0494 - val_r2_score: 0.7960\n",
      "Epoch 33/100\n",
      "\u001b[1m28/28\u001b[0m \u001b[32m━━━━━━━━━━━━━━━━━━━━\u001b[0m\u001b[37m\u001b[0m \u001b[1m0s\u001b[0m 2ms/step - loss: 0.0035 - mae: 0.0329 - r2_score: 0.7608 - val_loss: 0.0078 - val_mae: 0.0489 - val_r2_score: 0.7963\n",
      "Epoch 34/100\n",
      "\u001b[1m28/28\u001b[0m \u001b[32m━━━━━━━━━━━━━━━━━━━━\u001b[0m\u001b[37m\u001b[0m \u001b[1m0s\u001b[0m 2ms/step - loss: 0.0035 - mae: 0.0333 - r2_score: 0.7625 - val_loss: 0.0079 - val_mae: 0.0496 - val_r2_score: 0.7946\n",
      "\u001b[1m4/4\u001b[0m \u001b[32m━━━━━━━━━━━━━━━━━━━━\u001b[0m\u001b[37m\u001b[0m \u001b[1m0s\u001b[0m 10ms/step\n",
      "\u001b[1m4/4\u001b[0m \u001b[32m━━━━━━━━━━━━━━━━━━━━\u001b[0m\u001b[37m\u001b[0m \u001b[1m0s\u001b[0m 2ms/step - loss: 0.0084 - mae: 0.0441 - r2_score: 0.6604 \n",
      "Neural Network R2: 0.6510336995124817\n",
      "Neural Network MSE: 0.00804968737065792\n",
      "Neural Network MAE: 0.04481186717748642\n"
     ]
    }
   ],
   "source": [
    "nn_params = study.best_trial.params\n",
    "\n",
    "nn_reg_best = create_model(study.best_trial)\n",
    "nn_reg_best.compile(loss='mse', optimizer=create_optimizer(study.best_trial), metrics=['mae', 'r2_score'])\n",
    "early_stop = keras.callbacks.EarlyStopping(monitor='val_loss', patience=5, restore_best_weights=True)\n",
    "nn_reg_best.fit(X_train, y_train, epochs=100, validation_data=(X_val, y_val), callbacks=[early_stop])\n",
    "\n",
    "nn_best_pred = nn_reg_best.predict(X_test)\n",
    "\n",
    "eval_metrics = nn_reg_best.evaluate(X_test, y_test)\n",
    "nn_best_r2 = eval_metrics[2]\n",
    "nn_best_mse = eval_metrics[0]\n",
    "nn_best_mae = eval_metrics[1]\n",
    "\n",
    "print(f'Neural Network R2: {nn_best_r2}')\n",
    "print(f'Neural Network MSE: {nn_best_mse}')\n",
    "print(f'Neural Network MAE: {nn_best_mae}')"
   ]
  },
  {
   "cell_type": "markdown",
   "metadata": {},
   "source": [
    "---"
   ]
  },
  {
   "cell_type": "markdown",
   "metadata": {},
   "source": [
    "## Avaliação e Comparações\n",
    "\n",
    "<p align=\"justify\">\n",
    "A avaliação de modelos de aprendizado de máquina é uma etapa crucial para determinar a eficácia e a robustez das previsões. Nesta seção, apresentamos a análise detalhada dos modelos de regressão desenvolvidos, utilizando métricas de desempenho e gráficos que ilustram a comparação entre os modelos em termos de acurácia e erros.\n",
    "\n",
    "<p align=\"justify\">\n",
    "Para avaliar os modelos de regressão, utilizamos várias métricas de desempenho, incluindo o Erro Médio Absoluto (MAE), Erro Quadrático Médio (MSE) e o R² (coeficiente de determinação). Essas métricas fornecem uma visão abrangente da precisão das previsões e da capacidade do modelo de explicar a variabilidade dos dados."
   ]
  },
  {
   "cell_type": "code",
   "execution_count": 41,
   "metadata": {},
   "outputs": [
    {
     "data": {
      "text/html": [
       "<div>\n",
       "<style scoped>\n",
       "    .dataframe tbody tr th:only-of-type {\n",
       "        vertical-align: middle;\n",
       "    }\n",
       "\n",
       "    .dataframe tbody tr th {\n",
       "        vertical-align: top;\n",
       "    }\n",
       "\n",
       "    .dataframe thead th {\n",
       "        text-align: right;\n",
       "    }\n",
       "</style>\n",
       "<table border=\"1\" class=\"dataframe\">\n",
       "  <thead>\n",
       "    <tr style=\"text-align: right;\">\n",
       "      <th></th>\n",
       "      <th>car_brand</th>\n",
       "      <th>car_name</th>\n",
       "      <th>car_km</th>\n",
       "      <th>car_year</th>\n",
       "      <th>car_engine</th>\n",
       "      <th>car_gearbox</th>\n",
       "      <th>car_fuel</th>\n",
       "      <th>lin_reg_best_pred</th>\n",
       "      <th>rf_reg_best_pred</th>\n",
       "      <th>gb_reg_best_pred</th>\n",
       "      <th>nn_reg_best_pred</th>\n",
       "      <th>car_price</th>\n",
       "    </tr>\n",
       "  </thead>\n",
       "  <tbody>\n",
       "    <tr>\n",
       "      <th>0</th>\n",
       "      <td>0.413793</td>\n",
       "      <td>0.719745</td>\n",
       "      <td>0.144745</td>\n",
       "      <td>0.75</td>\n",
       "      <td>0.413793</td>\n",
       "      <td>0.0</td>\n",
       "      <td>0.4</td>\n",
       "      <td>0.186738</td>\n",
       "      <td>0.085079</td>\n",
       "      <td>0.093606</td>\n",
       "      <td>0.088533</td>\n",
       "      <td>0.081468</td>\n",
       "    </tr>\n",
       "    <tr>\n",
       "      <th>1</th>\n",
       "      <td>0.965517</td>\n",
       "      <td>0.840764</td>\n",
       "      <td>0.051289</td>\n",
       "      <td>0.80</td>\n",
       "      <td>0.000000</td>\n",
       "      <td>0.0</td>\n",
       "      <td>0.4</td>\n",
       "      <td>0.087186</td>\n",
       "      <td>0.125250</td>\n",
       "      <td>0.122470</td>\n",
       "      <td>0.119396</td>\n",
       "      <td>0.120017</td>\n",
       "    </tr>\n",
       "    <tr>\n",
       "      <th>2</th>\n",
       "      <td>0.965517</td>\n",
       "      <td>0.878981</td>\n",
       "      <td>0.059563</td>\n",
       "      <td>0.70</td>\n",
       "      <td>0.448276</td>\n",
       "      <td>0.0</td>\n",
       "      <td>0.6</td>\n",
       "      <td>0.243899</td>\n",
       "      <td>0.313623</td>\n",
       "      <td>0.348918</td>\n",
       "      <td>0.276663</td>\n",
       "      <td>0.238290</td>\n",
       "    </tr>\n",
       "    <tr>\n",
       "      <th>3</th>\n",
       "      <td>0.034483</td>\n",
       "      <td>0.044586</td>\n",
       "      <td>0.004476</td>\n",
       "      <td>0.85</td>\n",
       "      <td>0.448276</td>\n",
       "      <td>0.0</td>\n",
       "      <td>0.6</td>\n",
       "      <td>0.263998</td>\n",
       "      <td>0.532250</td>\n",
       "      <td>0.814438</td>\n",
       "      <td>0.415533</td>\n",
       "      <td>0.841721</td>\n",
       "    </tr>\n",
       "    <tr>\n",
       "      <th>4</th>\n",
       "      <td>0.241379</td>\n",
       "      <td>0.910828</td>\n",
       "      <td>0.107034</td>\n",
       "      <td>0.50</td>\n",
       "      <td>0.000000</td>\n",
       "      <td>1.0</td>\n",
       "      <td>0.4</td>\n",
       "      <td>-0.033410</td>\n",
       "      <td>0.022672</td>\n",
       "      <td>0.029459</td>\n",
       "      <td>0.006271</td>\n",
       "      <td>0.012802</td>\n",
       "    </tr>\n",
       "  </tbody>\n",
       "</table>\n",
       "</div>"
      ],
      "text/plain": [
       "   car_brand  car_name    car_km  car_year  car_engine  car_gearbox  car_fuel  \\\n",
       "0   0.413793  0.719745  0.144745      0.75    0.413793          0.0       0.4   \n",
       "1   0.965517  0.840764  0.051289      0.80    0.000000          0.0       0.4   \n",
       "2   0.965517  0.878981  0.059563      0.70    0.448276          0.0       0.6   \n",
       "3   0.034483  0.044586  0.004476      0.85    0.448276          0.0       0.6   \n",
       "4   0.241379  0.910828  0.107034      0.50    0.000000          1.0       0.4   \n",
       "\n",
       "   lin_reg_best_pred  rf_reg_best_pred  gb_reg_best_pred  nn_reg_best_pred  \\\n",
       "0           0.186738          0.085079          0.093606          0.088533   \n",
       "1           0.087186          0.125250          0.122470          0.119396   \n",
       "2           0.243899          0.313623          0.348918          0.276663   \n",
       "3           0.263998          0.532250          0.814438          0.415533   \n",
       "4          -0.033410          0.022672          0.029459          0.006271   \n",
       "\n",
       "   car_price  \n",
       "0   0.081468  \n",
       "1   0.120017  \n",
       "2   0.238290  \n",
       "3   0.841721  \n",
       "4   0.012802  "
      ]
     },
     "execution_count": 41,
     "metadata": {},
     "output_type": "execute_result"
    }
   ],
   "source": [
    "X_test['lin_reg_best_pred'] = lin_reg_best_pred\n",
    "X_test['rf_reg_best_pred'] = rf_reg_best_pred\n",
    "X_test['gb_reg_best_pred'] = gb_reg_best_pred\n",
    "X_test['nn_reg_best_pred'] = nn_best_pred\n",
    "X_test['car_price'] = y_test\n",
    "\n",
    "X_test.head()"
   ]
  },
  {
   "cell_type": "markdown",
   "metadata": {},
   "source": [
    "<p align=\"justify\">\n",
    "Abaixo está a comparação de todos os valores das métricas. Note que, quanto maior o R2, melhor. Para o MSE e MAE, quanto menor, melhor."
   ]
  },
  {
   "cell_type": "code",
   "execution_count": 45,
   "metadata": {},
   "outputs": [
    {
     "data": {
      "image/png": "[encoded data removed]",
      "text/plain": [
       "<Figure size 1000x600 with 1 Axes>"
      ]
     },
     "metadata": {},
     "output_type": "display_data"
    }
   ],
   "source": [
    "models = ['Linear Regression', 'Random Forest', 'Gradient Boosting', 'Neural Network']\n",
    "\n",
    "model_r2 = [lin_reg_best_r2, rf_reg_best_r2, gb_reg_best_r2, nn_best_r2]\n",
    "model_mse = [lin_reg_best_mse, rf_reg_best_mse, gb_reg_best_mse, nn_best_mse]\n",
    "model_mae = [lin_reg_best_mae, rf_reg_best_mae, gb_reg_best_mae, nn_best_mae]\n",
    "\n",
    "\n",
    "x = np.arange(len(models))\n",
    "width = 0.2\n",
    "\n",
    "fig, ax = plt.subplots(figsize=(10, 6))\n",
    "\n",
    "bar1 = ax.bar(x - width, model_r2, width, label='R²')\n",
    "bar2 = ax.bar(x, model_mse, width, label='MSE')\n",
    "bar3 = ax.bar(x + width, model_mae, width, label='MAE')\n",
    "\n",
    "ax.set_xlabel('Modelos')\n",
    "ax.set_ylabel('Valores das Métricas')\n",
    "ax.set_title('Comparação de Métricas entre Modelos')\n",
    "ax.set_xticks(x)\n",
    "ax.set_xticklabels(models)\n",
    "ax.legend()\n",
    "\n",
    "def add_labels(bars):\n",
    "    for bar in bars:\n",
    "        height = bar.get_height()\n",
    "        ax.annotate(f'{height:.4f}',\n",
    "                    xy=(bar.get_x() + bar.get_width() / 2, height),\n",
    "                    xytext=(0, 3),  # Offset vertical\n",
    "                    textcoords=\"offset points\",\n",
    "                    ha='center', va='bottom')\n",
    "\n",
    "add_labels(bar1)\n",
    "add_labels(bar2)\n",
    "add_labels(bar3)\n",
    "\n",
    "plt.tight_layout()\n",
    "plt.show()\n"
   ]
  },
  {
   "cell_type": "markdown",
   "metadata": {},
   "source": [
    "<p align=\"justify\">\n",
    "Finalmente, aqui está um gráfico mostrando a progressão do preço em relação à quilometragem. Estão dispostos os valores dos labels, assim como os valores das predições de cada modelo."
   ]
  },
  {
   "cell_type": "code",
   "execution_count": 46,
   "metadata": {},
   "outputs": [],
   "source": [
    "X_test.sort_values(by='car_km', inplace=True)"
   ]
  },
  {
   "cell_type": "code",
   "execution_count": 47,
   "metadata": {},
   "outputs": [
    {
     "data": {
      "image/png": "[encoded data removed]",
      "text/plain": [
       "<Figure size 1500x500 with 1 Axes>"
      ]
     },
     "metadata": {},
     "output_type": "display_data"
    }
   ],
   "source": [
    "fig, ax = plt.subplots(figsize=(15, 5))\n",
    "\n",
    "fig.suptitle('Relationship between Car Kilometers and Price')\n",
    "\n",
    "ax.plot(X_test['car_km'], X_test['lin_reg_best_pred'], label='Linear Regression')\n",
    "ax.plot(X_test['car_km'], X_test['rf_reg_best_pred'], label='Random Forest')\n",
    "ax.plot(X_test['car_km'], X_test['gb_reg_best_pred'], label='Gradient Boosting')\n",
    "ax.plot(X_test['car_km'], X_test['nn_reg_best_pred'], label='Neural Network')\n",
    "ax.plot(X_test['car_km'], X_test['car_price'], label='Label')\n",
    "\n",
    "plt.legend()\n",
    "plt.show()"
   ]
  },
  {
   "cell_type": "markdown",
   "metadata": {},
   "source": [
    "---"
   ]
  },
  {
   "cell_type": "markdown",
   "metadata": {},
   "source": [
    "## Referêncais"
   ]
  },
  {
   "cell_type": "markdown",
   "metadata": {},
   "source": [
    "Tratamento de Dados\n",
    "- https://pypi.org/project/fancyimpute/#description\n",
    "\n",
    "Modelos de Regressão\n",
    "- [Linear Regression] https://scikit-learn.org/stable/modules/generated/sklearn.linear_model.LinearRegression.html\n",
    "- [Random Forest Regressor] https://scikit-learn.org/stable/modules/generated/sklearn.ensemble.RandomForestRegressor.html\n",
    "- [Gradient Boosting Regressor] https://scikit-learn.org/stable/modules/generated/sklearn.ensemble.GradientBoostingRegressor.html#sklearn.ensemble.GradientBoostingRegressor\n",
    "- [Neural Network Rsgressor] https://www.tensorflow.org/api_docs/python/tf/keras/Sequential\n",
    "<br> <br>\n",
    "- https://keras.io/examples/keras_recipes/reproducibility_recipes/\n",
    "- https://keras.io/api/models/model_training_apis/\n",
    "\n",
    "Registro de Treinamento\n",
    "- [MLFlow] https://mlflow.org/\n",
    "- https://mlflow.org/docs/latest/python_api/mlflow.sklearn.html\n",
    "- https://mlflow.org/docs/latest/python_api/mlflow.tensorflow.html \n",
    "\n",
    "Otimização Automatizada\n",
    "- [Optuna - A hyperparameter optimization framework] https://optuna.org/\n",
    "- https://optuna.readthedocs.io/en/stable/\n",
    "\n",
    "Leitura Adicional\n",
    "- https://towardsdatascience.com/7-of-the-most-commonly-used-regression-algorithms-and-how-to-choose-the-right-one-fc3c8890f9e3\n",
    "- https://towardsdatascience.com/sciem-an-order-of-operations-for-data-preprocessing-e3af0bf101b8"
   ]
  }
 ],
 "metadata": {
  "kernelspec": {
   "display_name": "venv",
   "language": "python",
   "name": "python3"
  },
  "language_info": {
   "codemirror_mode": {
    "name": "ipython",
    "version": 3
   },
   "file_extension": ".py",
   "mimetype": "text/x-python",
   "name": "python",
   "nbconvert_exporter": "python",
   "pygments_lexer": "ipython3",
   "version": "3.12.4"
  }
 },
 "nbformat": 4,
 "nbformat_minor": 2
}
