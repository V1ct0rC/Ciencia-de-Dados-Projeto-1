{
 "cells": [
  {
   "cell_type": "markdown",
   "metadata": {},
   "source": [
    "# Introdução à Ciência de Dados - Projeto Parte 2\n",
    "\n",
    "<p align=\"justify\">\n",
    "Nessa etapa, iremos escolher uma das colunas do nosso dataset para para fazermos uma regressão baseada nas demais features. Avaliaremos quatro diferentes algoritmos para essa tarefa e utilizaremos o MLFlow para fazer o rastreamento. Adicionalmente, usaremos o Optuna para variar os hiperparâmetros de cada abordagem e escolher o melhor deles.\n",
    "\n",
    "### Equipe:\n",
    "> Pedro Henrique Almeida Girão Peixinho (phagp)\n",
    "\n",
    "> Victor Gabriel de Carvalho (vgc3)\n",
    "\n",
    "### Tópicos Avançados em Gerenciamento de Dados e Informação IF697 - 2024.1 - Centro de Informáica UFPE"
   ]
  },
  {
   "cell_type": "code",
   "execution_count": 2,
   "metadata": {},
   "outputs": [
    {
     "name": "stderr",
     "output_type": "stream",
     "text": [
      "d:\\Cin\\Ciencia-de-Dados-Projeto-1\\venv\\Lib\\site-packages\\tqdm\\auto.py:21: TqdmWarning: IProgress not found. Please update jupyter and ipywidgets. See https://ipywidgets.readthedocs.io/en/stable/user_install.html\n",
      "  from .autonotebook import tqdm as notebook_tqdm\n"
     ]
    }
   ],
   "source": [
    "import pandas as pd\n",
    "import numpy as np\n",
    "\n",
    "from sklearn.covariance import EllipticEnvelope\n",
    "from sklearn.preprocessing import MinMaxScaler\n",
    "from sklearn.model_selection import train_test_split\n",
    "from sklearn.linear_model import LinearRegression\n",
    "from sklearn.ensemble import RandomForestRegressor, GradientBoostingRegressor\n",
    "from sklearn.impute import KNNImputer\n",
    "\n",
    "import tensorflow as tf\n",
    "from tensorflow import keras\n",
    "from tensorflow.keras import layers\n",
    "from tensorflow.keras.models import Sequential\n",
    "\n",
    "import matplotlib.pyplot as plt\n",
    "\n",
    "import logging\n",
    "import mlflow\n",
    "import optuna\n",
    "optuna.logging.set_verbosity(optuna.logging.INFO)\n",
    "# import autosklearn.regression\n",
    "\n",
    "tf.random.set_seed(9)\n",
    "keras.utils.set_random_seed(9)"
   ]
  },
  {
   "cell_type": "markdown",
   "metadata": {},
   "source": [
    "---\n",
    "\n",
    "## Pre-Processamento"
   ]
  },
  {
   "cell_type": "code",
   "execution_count": 3,
   "metadata": {},
   "outputs": [
    {
     "data": {
      "text/html": [
       "<div>\n",
       "<style scoped>\n",
       "    .dataframe tbody tr th:only-of-type {\n",
       "        vertical-align: middle;\n",
       "    }\n",
       "\n",
       "    .dataframe tbody tr th {\n",
       "        vertical-align: top;\n",
       "    }\n",
       "\n",
       "    .dataframe thead th {\n",
       "        text-align: right;\n",
       "    }\n",
       "</style>\n",
       "<table border=\"1\" class=\"dataframe\">\n",
       "  <thead>\n",
       "    <tr style=\"text-align: right;\">\n",
       "      <th></th>\n",
       "      <th>page</th>\n",
       "      <th>car_brand</th>\n",
       "      <th>car_name</th>\n",
       "      <th>car_price</th>\n",
       "      <th>car_km</th>\n",
       "      <th>car_year</th>\n",
       "      <th>car_desc</th>\n",
       "      <th>car_store</th>\n",
       "      <th>car_engine</th>\n",
       "      <th>car_gearbox</th>\n",
       "      <th>car_fuel</th>\n",
       "      <th>car_color</th>\n",
       "    </tr>\n",
       "  </thead>\n",
       "  <tbody>\n",
       "    <tr>\n",
       "      <th>0</th>\n",
       "      <td>https://grupoautonunes.com/estoque/?zero_km=0&amp;...</td>\n",
       "      <td>Fiat</td>\n",
       "      <td>500E</td>\n",
       "      <td>125990.0</td>\n",
       "      <td>7521.0</td>\n",
       "      <td>2022</td>\n",
       "      <td>ICON ELÉTRICO</td>\n",
       "      <td>NaN</td>\n",
       "      <td>Elétrico</td>\n",
       "      <td>Automatico</td>\n",
       "      <td>Elétrico</td>\n",
       "      <td>NaN</td>\n",
       "    </tr>\n",
       "    <tr>\n",
       "      <th>1</th>\n",
       "      <td>https://grupoautonunes.com/estoque/?zero_km=0&amp;...</td>\n",
       "      <td>Audi</td>\n",
       "      <td>Q3</td>\n",
       "      <td>128980.0</td>\n",
       "      <td>40000.0</td>\n",
       "      <td>2018</td>\n",
       "      <td>1.4 TFSI AMBIENTE FLEX 4P S TRONIC</td>\n",
       "      <td>NaN</td>\n",
       "      <td>1.4</td>\n",
       "      <td>Automatico</td>\n",
       "      <td>Flex</td>\n",
       "      <td>NaN</td>\n",
       "    </tr>\n",
       "    <tr>\n",
       "      <th>2</th>\n",
       "      <td>https://grupoautonunes.com/estoque/?zero_km=0&amp;...</td>\n",
       "      <td>Chevrolet</td>\n",
       "      <td>Onix</td>\n",
       "      <td>70990.0</td>\n",
       "      <td>40686.0</td>\n",
       "      <td>2023</td>\n",
       "      <td>1.0 FLEX LT MANUAL</td>\n",
       "      <td>NaN</td>\n",
       "      <td>1.0</td>\n",
       "      <td>Manual</td>\n",
       "      <td>Flex</td>\n",
       "      <td>NaN</td>\n",
       "    </tr>\n",
       "    <tr>\n",
       "      <th>3</th>\n",
       "      <td>https://grupoautonunes.com/estoque/?zero_km=0&amp;...</td>\n",
       "      <td>Chevrolet</td>\n",
       "      <td>Onix</td>\n",
       "      <td>79990.0</td>\n",
       "      <td>57643.0</td>\n",
       "      <td>2022</td>\n",
       "      <td>1.0 TURBO FLEX PLUS LTZ AUTOMÁTICO</td>\n",
       "      <td>NaN</td>\n",
       "      <td>1.0 Turbo</td>\n",
       "      <td>Automatico</td>\n",
       "      <td>Flex</td>\n",
       "      <td>NaN</td>\n",
       "    </tr>\n",
       "    <tr>\n",
       "      <th>4</th>\n",
       "      <td>https://grupoautonunes.com/estoque/?zero_km=0&amp;...</td>\n",
       "      <td>Volkswagen</td>\n",
       "      <td>Saveiro</td>\n",
       "      <td>77990.0</td>\n",
       "      <td>29000.0</td>\n",
       "      <td>2023</td>\n",
       "      <td>1.6 MSI TRENDLINE CS 8V FLEX 2P MANUAL</td>\n",
       "      <td>NaN</td>\n",
       "      <td>1.6</td>\n",
       "      <td>Manual</td>\n",
       "      <td>Flex</td>\n",
       "      <td>NaN</td>\n",
       "    </tr>\n",
       "  </tbody>\n",
       "</table>\n",
       "</div>"
      ],
      "text/plain": [
       "                                                page   car_brand car_name  \\\n",
       "0  https://grupoautonunes.com/estoque/?zero_km=0&...        Fiat     500E   \n",
       "1  https://grupoautonunes.com/estoque/?zero_km=0&...        Audi       Q3   \n",
       "2  https://grupoautonunes.com/estoque/?zero_km=0&...   Chevrolet     Onix   \n",
       "3  https://grupoautonunes.com/estoque/?zero_km=0&...   Chevrolet     Onix   \n",
       "4  https://grupoautonunes.com/estoque/?zero_km=0&...  Volkswagen  Saveiro   \n",
       "\n",
       "   car_price   car_km  car_year                                car_desc  \\\n",
       "0   125990.0   7521.0      2022                           ICON ELÉTRICO   \n",
       "1   128980.0  40000.0      2018      1.4 TFSI AMBIENTE FLEX 4P S TRONIC   \n",
       "2    70990.0  40686.0      2023                      1.0 FLEX LT MANUAL   \n",
       "3    79990.0  57643.0      2022      1.0 TURBO FLEX PLUS LTZ AUTOMÁTICO   \n",
       "4    77990.0  29000.0      2023  1.6 MSI TRENDLINE CS 8V FLEX 2P MANUAL   \n",
       "\n",
       "  car_store car_engine car_gearbox  car_fuel car_color  \n",
       "0       NaN   Elétrico  Automatico  Elétrico       NaN  \n",
       "1       NaN        1.4  Automatico      Flex       NaN  \n",
       "2       NaN        1.0      Manual      Flex       NaN  \n",
       "3       NaN  1.0 Turbo  Automatico      Flex       NaN  \n",
       "4       NaN        1.6      Manual      Flex       NaN  "
      ]
     },
     "execution_count": 3,
     "metadata": {},
     "output_type": "execute_result"
    }
   ],
   "source": [
    "df_cars = pd.read_csv('carscraper\\cars.csv')\n",
    "df_cars.head()"
   ]
  },
  {
   "cell_type": "code",
   "execution_count": 4,
   "metadata": {},
   "outputs": [
    {
     "data": {
      "text/plain": [
       "(1124, 12)"
      ]
     },
     "execution_count": 4,
     "metadata": {},
     "output_type": "execute_result"
    }
   ],
   "source": [
    "df_cars.shape"
   ]
  },
  {
   "cell_type": "code",
   "execution_count": 5,
   "metadata": {},
   "outputs": [
    {
     "data": {
      "text/html": [
       "<div>\n",
       "<style scoped>\n",
       "    .dataframe tbody tr th:only-of-type {\n",
       "        vertical-align: middle;\n",
       "    }\n",
       "\n",
       "    .dataframe tbody tr th {\n",
       "        vertical-align: top;\n",
       "    }\n",
       "\n",
       "    .dataframe thead th {\n",
       "        text-align: right;\n",
       "    }\n",
       "</style>\n",
       "<table border=\"1\" class=\"dataframe\">\n",
       "  <thead>\n",
       "    <tr style=\"text-align: right;\">\n",
       "      <th></th>\n",
       "      <th>car_brand</th>\n",
       "      <th>car_name</th>\n",
       "      <th>car_price</th>\n",
       "      <th>car_km</th>\n",
       "      <th>car_year</th>\n",
       "      <th>car_store</th>\n",
       "      <th>car_engine</th>\n",
       "      <th>car_gearbox</th>\n",
       "      <th>car_fuel</th>\n",
       "      <th>car_color</th>\n",
       "    </tr>\n",
       "  </thead>\n",
       "  <tbody>\n",
       "    <tr>\n",
       "      <th>0</th>\n",
       "      <td>Fiat</td>\n",
       "      <td>500E</td>\n",
       "      <td>125990.0</td>\n",
       "      <td>7521.0</td>\n",
       "      <td>2022</td>\n",
       "      <td>NaN</td>\n",
       "      <td>Elétrico</td>\n",
       "      <td>Automatico</td>\n",
       "      <td>Elétrico</td>\n",
       "      <td>NaN</td>\n",
       "    </tr>\n",
       "    <tr>\n",
       "      <th>1</th>\n",
       "      <td>Audi</td>\n",
       "      <td>Q3</td>\n",
       "      <td>128980.0</td>\n",
       "      <td>40000.0</td>\n",
       "      <td>2018</td>\n",
       "      <td>NaN</td>\n",
       "      <td>1.4</td>\n",
       "      <td>Automatico</td>\n",
       "      <td>Flex</td>\n",
       "      <td>NaN</td>\n",
       "    </tr>\n",
       "    <tr>\n",
       "      <th>2</th>\n",
       "      <td>Chevrolet</td>\n",
       "      <td>Onix</td>\n",
       "      <td>70990.0</td>\n",
       "      <td>40686.0</td>\n",
       "      <td>2023</td>\n",
       "      <td>NaN</td>\n",
       "      <td>1.0</td>\n",
       "      <td>Manual</td>\n",
       "      <td>Flex</td>\n",
       "      <td>NaN</td>\n",
       "    </tr>\n",
       "    <tr>\n",
       "      <th>3</th>\n",
       "      <td>Chevrolet</td>\n",
       "      <td>Onix</td>\n",
       "      <td>79990.0</td>\n",
       "      <td>57643.0</td>\n",
       "      <td>2022</td>\n",
       "      <td>NaN</td>\n",
       "      <td>1.0 Turbo</td>\n",
       "      <td>Automatico</td>\n",
       "      <td>Flex</td>\n",
       "      <td>NaN</td>\n",
       "    </tr>\n",
       "    <tr>\n",
       "      <th>4</th>\n",
       "      <td>Volkswagen</td>\n",
       "      <td>Saveiro</td>\n",
       "      <td>77990.0</td>\n",
       "      <td>29000.0</td>\n",
       "      <td>2023</td>\n",
       "      <td>NaN</td>\n",
       "      <td>1.6</td>\n",
       "      <td>Manual</td>\n",
       "      <td>Flex</td>\n",
       "      <td>NaN</td>\n",
       "    </tr>\n",
       "  </tbody>\n",
       "</table>\n",
       "</div>"
      ],
      "text/plain": [
       "    car_brand car_name  car_price   car_km  car_year car_store car_engine  \\\n",
       "0        Fiat     500E   125990.0   7521.0      2022       NaN   Elétrico   \n",
       "1        Audi       Q3   128980.0  40000.0      2018       NaN        1.4   \n",
       "2   Chevrolet     Onix    70990.0  40686.0      2023       NaN        1.0   \n",
       "3   Chevrolet     Onix    79990.0  57643.0      2022       NaN  1.0 Turbo   \n",
       "4  Volkswagen  Saveiro    77990.0  29000.0      2023       NaN        1.6   \n",
       "\n",
       "  car_gearbox  car_fuel car_color  \n",
       "0  Automatico  Elétrico       NaN  \n",
       "1  Automatico      Flex       NaN  \n",
       "2      Manual      Flex       NaN  \n",
       "3  Automatico      Flex       NaN  \n",
       "4      Manual      Flex       NaN  "
      ]
     },
     "execution_count": 5,
     "metadata": {},
     "output_type": "execute_result"
    }
   ],
   "source": [
    "df_cars.drop(['page', 'car_desc'], axis=1, inplace=True)\n",
    "df_cars.drop_duplicates(inplace=True)\n",
    "\n",
    "df_cars.head()"
   ]
  },
  {
   "cell_type": "code",
   "execution_count": 6,
   "metadata": {},
   "outputs": [
    {
     "data": {
      "text/plain": [
       "car_brand       object\n",
       "car_name        object\n",
       "car_price      float64\n",
       "car_km         float64\n",
       "car_year         int64\n",
       "car_store       object\n",
       "car_engine      object\n",
       "car_gearbox     object\n",
       "car_fuel        object\n",
       "car_color       object\n",
       "dtype: object"
      ]
     },
     "execution_count": 6,
     "metadata": {},
     "output_type": "execute_result"
    }
   ],
   "source": [
    "df_cars.dtypes"
   ]
  },
  {
   "cell_type": "code",
   "execution_count": 7,
   "metadata": {},
   "outputs": [
    {
     "data": {
      "text/plain": [
       "car_brand      category\n",
       "car_name       category\n",
       "car_price       float64\n",
       "car_km          float64\n",
       "car_year          int64\n",
       "car_store      category\n",
       "car_engine     category\n",
       "car_gearbox    category\n",
       "car_fuel       category\n",
       "car_color      category\n",
       "dtype: object"
      ]
     },
     "execution_count": 7,
     "metadata": {},
     "output_type": "execute_result"
    }
   ],
   "source": [
    "df_cars_cat = df_cars.copy()\n",
    "object_columns = df_cars.select_dtypes(['object']).columns\n",
    "df_cars_cat[object_columns] = df_cars[object_columns].astype('category')\n",
    "\n",
    "df_cars_cat.dtypes"
   ]
  },
  {
   "cell_type": "code",
   "execution_count": 8,
   "metadata": {},
   "outputs": [
    {
     "data": {
      "text/plain": [
       "car_brand         0\n",
       "car_name          0\n",
       "car_price         0\n",
       "car_km            0\n",
       "car_year          0\n",
       "car_store      1095\n",
       "car_engine        0\n",
       "car_gearbox       0\n",
       "car_fuel         48\n",
       "car_color       986\n",
       "dtype: int64"
      ]
     },
     "execution_count": 8,
     "metadata": {},
     "output_type": "execute_result"
    }
   ],
   "source": [
    "df_cars_cat.isnull().sum()"
   ]
  },
  {
   "cell_type": "code",
   "execution_count": 9,
   "metadata": {},
   "outputs": [
    {
     "data": {
      "text/plain": [
       "car_brand      1103\n",
       "car_name       1103\n",
       "car_price      1103\n",
       "car_km         1103\n",
       "car_year       1103\n",
       "car_engine     1103\n",
       "car_gearbox    1103\n",
       "car_fuel       1055\n",
       "dtype: int64"
      ]
     },
     "execution_count": 9,
     "metadata": {},
     "output_type": "execute_result"
    }
   ],
   "source": [
    "df_cars_cat.dropna(thresh=0.7*len(df_cars_cat), axis=1, inplace=True)\n",
    "df_cars_cat.count()"
   ]
  },
  {
   "cell_type": "code",
   "execution_count": 10,
   "metadata": {},
   "outputs": [
    {
     "data": {
      "text/html": [
       "<div>\n",
       "<style scoped>\n",
       "    .dataframe tbody tr th:only-of-type {\n",
       "        vertical-align: middle;\n",
       "    }\n",
       "\n",
       "    .dataframe tbody tr th {\n",
       "        vertical-align: top;\n",
       "    }\n",
       "\n",
       "    .dataframe thead th {\n",
       "        text-align: right;\n",
       "    }\n",
       "</style>\n",
       "<table border=\"1\" class=\"dataframe\">\n",
       "  <thead>\n",
       "    <tr style=\"text-align: right;\">\n",
       "      <th></th>\n",
       "      <th>car_brand</th>\n",
       "      <th>car_name</th>\n",
       "      <th>car_price</th>\n",
       "      <th>car_km</th>\n",
       "      <th>car_year</th>\n",
       "      <th>car_engine</th>\n",
       "      <th>car_gearbox</th>\n",
       "      <th>car_fuel</th>\n",
       "    </tr>\n",
       "  </thead>\n",
       "  <tbody>\n",
       "    <tr>\n",
       "      <th>0</th>\n",
       "      <td>8</td>\n",
       "      <td>9</td>\n",
       "      <td>125990.0</td>\n",
       "      <td>7521.0</td>\n",
       "      <td>2022</td>\n",
       "      <td>29</td>\n",
       "      <td>0</td>\n",
       "      <td>1.0</td>\n",
       "    </tr>\n",
       "    <tr>\n",
       "      <th>1</th>\n",
       "      <td>1</td>\n",
       "      <td>108</td>\n",
       "      <td>128980.0</td>\n",
       "      <td>40000.0</td>\n",
       "      <td>2018</td>\n",
       "      <td>6</td>\n",
       "      <td>0</td>\n",
       "      <td>2.0</td>\n",
       "    </tr>\n",
       "    <tr>\n",
       "      <th>2</th>\n",
       "      <td>6</td>\n",
       "      <td>96</td>\n",
       "      <td>70990.0</td>\n",
       "      <td>40686.0</td>\n",
       "      <td>2023</td>\n",
       "      <td>0</td>\n",
       "      <td>1</td>\n",
       "      <td>2.0</td>\n",
       "    </tr>\n",
       "    <tr>\n",
       "      <th>3</th>\n",
       "      <td>6</td>\n",
       "      <td>96</td>\n",
       "      <td>79990.0</td>\n",
       "      <td>57643.0</td>\n",
       "      <td>2022</td>\n",
       "      <td>1</td>\n",
       "      <td>0</td>\n",
       "      <td>2.0</td>\n",
       "    </tr>\n",
       "    <tr>\n",
       "      <th>4</th>\n",
       "      <td>29</td>\n",
       "      <td>122</td>\n",
       "      <td>77990.0</td>\n",
       "      <td>29000.0</td>\n",
       "      <td>2023</td>\n",
       "      <td>10</td>\n",
       "      <td>1</td>\n",
       "      <td>2.0</td>\n",
       "    </tr>\n",
       "  </tbody>\n",
       "</table>\n",
       "</div>"
      ],
      "text/plain": [
       "   car_brand  car_name  car_price   car_km  car_year  car_engine  car_gearbox  \\\n",
       "0          8         9   125990.0   7521.0      2022          29            0   \n",
       "1          1       108   128980.0  40000.0      2018           6            0   \n",
       "2          6        96    70990.0  40686.0      2023           0            1   \n",
       "3          6        96    79990.0  57643.0      2022           1            0   \n",
       "4         29       122    77990.0  29000.0      2023          10            1   \n",
       "\n",
       "   car_fuel  \n",
       "0       1.0  \n",
       "1       2.0  \n",
       "2       2.0  \n",
       "3       2.0  \n",
       "4       2.0  "
      ]
     },
     "execution_count": 10,
     "metadata": {},
     "output_type": "execute_result"
    }
   ],
   "source": [
    "df_cars_codes = df_cars_cat.copy()\n",
    "category_columns = df_cars_cat.select_dtypes(['category']).columns\n",
    "df_cars_codes[category_columns] = df_cars_cat[category_columns].apply(lambda x: x.cat.codes.replace(-1, np.nan))\n",
    "\n",
    "df_cars_codes.head()"
   ]
  },
  {
   "cell_type": "markdown",
   "metadata": {},
   "source": [
    "---"
   ]
  },
  {
   "cell_type": "code",
   "execution_count": null,
   "metadata": {},
   "outputs": [],
   "source": [
    "# imputer = KNNImputer(n_neighbors=5)\n",
    "# knn_fill = imputer.fit_transform(df_cars_codes)\n",
    "# df_knn_fill = pd.DataFrame(data=knn_fill, columns=[df_cars_codes.columns])\n",
    "\n",
    "# df_knn_fill.head()"
   ]
  },
  {
   "cell_type": "code",
   "execution_count": null,
   "metadata": {},
   "outputs": [],
   "source": [
    "# df_knn_fill_ee = df_knn_fill.copy()\n",
    "\n",
    "# detector = EllipticEnvelope(contamination=0.01, support_fraction=0.85)\n",
    "# detector.fit(df_knn_fill_ee)"
   ]
  },
  {
   "cell_type": "code",
   "execution_count": null,
   "metadata": {},
   "outputs": [],
   "source": [
    "# scores = detector.predict(df_knn_fill_ee)\n",
    "# df_knn_fill_ee['outlier'] = scores\n",
    "\n",
    "# df_knn_fill_ee.head()"
   ]
  },
  {
   "cell_type": "code",
   "execution_count": null,
   "metadata": {},
   "outputs": [],
   "source": [
    "# df_knn_fill_ee = df_knn_fill_ee[df_knn_fill_ee['outlier'] != -1]\n",
    "# df_knn_fill_ee.head()"
   ]
  },
  {
   "cell_type": "markdown",
   "metadata": {},
   "source": [
    "---"
   ]
  },
  {
   "cell_type": "code",
   "execution_count": 11,
   "metadata": {},
   "outputs": [
    {
     "data": {
      "text/plain": [
       "car_brand      0\n",
       "car_name       0\n",
       "car_price      0\n",
       "car_km         0\n",
       "car_year       0\n",
       "car_engine     0\n",
       "car_gearbox    0\n",
       "car_fuel       0\n",
       "dtype: int64"
      ]
     },
     "execution_count": 11,
     "metadata": {},
     "output_type": "execute_result"
    }
   ],
   "source": [
    "df_median_fill = df_cars_codes.copy()\n",
    "\n",
    "df_median_fill['car_fuel'] = df_median_fill['car_fuel'].fillna(df_median_fill['car_fuel'].median())\n",
    "df_median_fill.isnull().sum()"
   ]
  },
  {
   "cell_type": "code",
   "execution_count": 12,
   "metadata": {},
   "outputs": [
    {
     "data": {
      "text/plain": [
       "car_brand      1091\n",
       "car_name       1091\n",
       "car_price      1091\n",
       "car_km         1091\n",
       "car_year       1091\n",
       "car_engine     1091\n",
       "car_gearbox    1091\n",
       "car_fuel       1091\n",
       "dtype: int64"
      ]
     },
     "execution_count": 12,
     "metadata": {},
     "output_type": "execute_result"
    }
   ],
   "source": [
    "df_median_fill_ee = df_median_fill.copy()\n",
    "\n",
    "detector = EllipticEnvelope(contamination=0.01, support_fraction=0.85)\n",
    "detector.fit(df_median_fill_ee)\n",
    "\n",
    "scores = detector.predict(df_median_fill_ee)\n",
    "df_median_fill_ee['outlier'] = scores\n",
    "\n",
    "df_median_fill_ee['outlier'] = df_median_fill_ee['outlier'].astype('int')\n",
    "\n",
    "df_median_fill_ee.head()\n",
    "\n",
    "df_median_fill_ee = df_median_fill_ee[df_median_fill_ee['outlier'] != -1]\n",
    "df_median_fill_ee.drop('outlier', axis=1, inplace=True)\n",
    "df_median_fill_ee.count()"
   ]
  },
  {
   "cell_type": "code",
   "execution_count": 13,
   "metadata": {},
   "outputs": [
    {
     "data": {
      "text/html": [
       "<div>\n",
       "<style scoped>\n",
       "    .dataframe tbody tr th:only-of-type {\n",
       "        vertical-align: middle;\n",
       "    }\n",
       "\n",
       "    .dataframe tbody tr th {\n",
       "        vertical-align: top;\n",
       "    }\n",
       "\n",
       "    .dataframe thead th {\n",
       "        text-align: right;\n",
       "    }\n",
       "</style>\n",
       "<table border=\"1\" class=\"dataframe\">\n",
       "  <thead>\n",
       "    <tr style=\"text-align: right;\">\n",
       "      <th></th>\n",
       "      <th>car_brand</th>\n",
       "      <th>car_name</th>\n",
       "      <th>car_price</th>\n",
       "      <th>car_km</th>\n",
       "      <th>car_year</th>\n",
       "      <th>car_engine</th>\n",
       "      <th>car_gearbox</th>\n",
       "      <th>car_fuel</th>\n",
       "    </tr>\n",
       "  </thead>\n",
       "  <tbody>\n",
       "    <tr>\n",
       "      <th>0</th>\n",
       "      <td>0.266667</td>\n",
       "      <td>0.057325</td>\n",
       "      <td>0.175680</td>\n",
       "      <td>0.011500</td>\n",
       "      <td>0.88</td>\n",
       "      <td>1.000000</td>\n",
       "      <td>0.0</td>\n",
       "      <td>0.2</td>\n",
       "    </tr>\n",
       "    <tr>\n",
       "      <th>1</th>\n",
       "      <td>0.033333</td>\n",
       "      <td>0.687898</td>\n",
       "      <td>0.180880</td>\n",
       "      <td>0.061162</td>\n",
       "      <td>0.72</td>\n",
       "      <td>0.206897</td>\n",
       "      <td>0.0</td>\n",
       "      <td>0.4</td>\n",
       "    </tr>\n",
       "    <tr>\n",
       "      <th>2</th>\n",
       "      <td>0.200000</td>\n",
       "      <td>0.611465</td>\n",
       "      <td>0.080013</td>\n",
       "      <td>0.062211</td>\n",
       "      <td>0.92</td>\n",
       "      <td>0.000000</td>\n",
       "      <td>1.0</td>\n",
       "      <td>0.4</td>\n",
       "    </tr>\n",
       "    <tr>\n",
       "      <th>3</th>\n",
       "      <td>0.200000</td>\n",
       "      <td>0.611465</td>\n",
       "      <td>0.095667</td>\n",
       "      <td>0.088139</td>\n",
       "      <td>0.88</td>\n",
       "      <td>0.034483</td>\n",
       "      <td>0.0</td>\n",
       "      <td>0.4</td>\n",
       "    </tr>\n",
       "    <tr>\n",
       "      <th>4</th>\n",
       "      <td>0.966667</td>\n",
       "      <td>0.777070</td>\n",
       "      <td>0.092188</td>\n",
       "      <td>0.044343</td>\n",
       "      <td>0.92</td>\n",
       "      <td>0.344828</td>\n",
       "      <td>1.0</td>\n",
       "      <td>0.4</td>\n",
       "    </tr>\n",
       "  </tbody>\n",
       "</table>\n",
       "</div>"
      ],
      "text/plain": [
       "   car_brand  car_name  car_price    car_km  car_year  car_engine  \\\n",
       "0   0.266667  0.057325   0.175680  0.011500      0.88    1.000000   \n",
       "1   0.033333  0.687898   0.180880  0.061162      0.72    0.206897   \n",
       "2   0.200000  0.611465   0.080013  0.062211      0.92    0.000000   \n",
       "3   0.200000  0.611465   0.095667  0.088139      0.88    0.034483   \n",
       "4   0.966667  0.777070   0.092188  0.044343      0.92    0.344828   \n",
       "\n",
       "   car_gearbox  car_fuel  \n",
       "0          0.0       0.2  \n",
       "1          0.0       0.4  \n",
       "2          1.0       0.4  \n",
       "3          0.0       0.4  \n",
       "4          1.0       0.4  "
      ]
     },
     "execution_count": 13,
     "metadata": {},
     "output_type": "execute_result"
    }
   ],
   "source": [
    "min_max_scaler = MinMaxScaler()\n",
    "df_knn_fill_norm = min_max_scaler.fit_transform(df_median_fill_ee)\n",
    "df_knn_fill_norm = pd.DataFrame(df_knn_fill_norm, columns=df_median_fill_ee.columns)\n",
    "df_knn_fill_norm.head()"
   ]
  },
  {
   "cell_type": "markdown",
   "metadata": {},
   "source": [
    "---\n",
    "\n",
    "## Modelos de Regressão\n",
    "\n",
    "<p align=\"justify\">\n",
    "Os modelos de regressão são uma classe fundamental de algoritmos de aprendizado de máquina. Diferente dos modelos de classificação, que preveem categorias discretas, os modelos de regressão são empregados para tarefas onde a saída é uma variável contínua, como prever preços, temperaturas, ou outras medidas quantitativas.\n",
    "\n",
    "<p align=\"justify\">\n",
    "A escolha do modelo apropriado depende das características do conjunto de dados e da natureza da relação entre as variáveis independentes e dependentes. Nessa etapa do projeto, avaliaremos os modelos de Linar Regression, Random Forest Regressor, Gradient Boosting Regressor e Neural Networks. Cada abordagem contará com a variação e avaliação de multiplos conjuntos de inicializações e parâmetros, fiscalizados pelo MLFlow e selecionados pelo Optuna.\n",
    "\n",
    "<p align=\"justify\">\n",
    "Para todos os modelos, inicialmente veremos o resultado na inicialização base (default) das bibliotecas. Após isso, uma bateria de testes será feita em cada um. A métrica de avaliação majoritária será o R2 Score, amplamente utilizado em abordagens de regressão, outras métricas serão empregadas posteriormente."
   ]
  },
  {
   "cell_type": "code",
   "execution_count": 14,
   "metadata": {},
   "outputs": [
    {
     "name": "stdout",
     "output_type": "stream",
     "text": [
      "(872, 7) (110, 7) (109, 7)\n",
      "(872,) (110,) (109,)\n"
     ]
    }
   ],
   "source": [
    "X_train, X_test, y_train, y_test = train_test_split(df_knn_fill_norm.drop('car_price', axis=1), df_knn_fill_norm['car_price'], test_size=0.2, random_state=9)\n",
    "X_test, X_val, y_test, y_val = train_test_split(X_test, y_test, test_size=0.5, random_state=9)\n",
    "\n",
    "print(X_train.shape, X_val.shape, X_test.shape)\n",
    "print(y_train.shape, y_val.shape, y_test.shape)"
   ]
  },
  {
   "cell_type": "markdown",
   "metadata": {},
   "source": [
    "---"
   ]
  },
  {
   "cell_type": "markdown",
   "metadata": {},
   "source": [
    "### Configurando o MLflow"
   ]
  },
  {
   "cell_type": "code",
   "execution_count": 15,
   "metadata": {},
   "outputs": [],
   "source": [
    "mlflow.set_tracking_uri(\"http://localhost:5000\")"
   ]
  },
  {
   "cell_type": "markdown",
   "metadata": {},
   "source": [
    "### Linear Regression\n",
    "\n",
    "<p align=\"justify\">\n",
    "A regressão linear é um método estatístico simples e amplamente utilizado para modelar a relação entre uma variável dependente contínua e uma ou mais variáveis independentes. O modelo assume que essa relação pode ser descrita por uma linha reta (ou hiperplano, em caso de regressão de multiplas variáveis). A regressão linear é popular devido à sua interpretabilidade e eficiência computacional, tornando-se uma escolha padrão para problemas de regressão simples e de pequena escala. No entanto, sua simplicidade pode ser uma limitação em casos onde a relação entre as variáveis é não linear ou complexa."
   ]
  },
  {
   "cell_type": "code",
   "execution_count": null,
   "metadata": {},
   "outputs": [
    {
     "data": {
      "text/plain": [
       "0.564700453099702"
      ]
     },
     "execution_count": 133,
     "metadata": {},
     "output_type": "execute_result"
    }
   ],
   "source": [
    "lin_reg = LinearRegression()\n",
    "lin_reg.fit(X_train, y_train)\n",
    "lin_reg.score(X_test, y_test)"
   ]
  },
  {
   "cell_type": "code",
   "execution_count": null,
   "metadata": {},
   "outputs": [],
   "source": [
    "lin_reg_pred = lin_reg.predict(X_test)"
   ]
  },
  {
   "cell_type": "markdown",
   "metadata": {},
   "source": [
    "---"
   ]
  },
  {
   "cell_type": "markdown",
   "metadata": {},
   "source": [
    "### Random Forest Regressor\n",
    "\n",
    "<p align=\"justify\">\n",
    "O Random Forest Regressor é um poderoso algoritmo de aprendizado de máquina baseado em ensembles (método de bagging) que utiliza múltiplas árvores de decisão para melhorar a precisão preditiva e controlar o overfitting. Cada árvore no conjunto é treinada com um subconjunto aleatório dos dados e das características, e as previsões são feitas pela média das previsões individuais das árvores. O Random Forest Regressor é eficaz em capturar relações complexas e não lineares nos dados e lida bem com grandes volumes de dados."
   ]
  },
  {
   "cell_type": "code",
   "execution_count": null,
   "metadata": {},
   "outputs": [
    {
     "data": {
      "text/plain": [
       "0.8366525807532437"
      ]
     },
     "execution_count": 135,
     "metadata": {},
     "output_type": "execute_result"
    }
   ],
   "source": [
    "rf_reg = RandomForestRegressor(\n",
    "    n_estimators=100, criterion='squared_error', min_samples_split=2, min_samples_leaf=1, \n",
    "    random_state=9\n",
    ")\n",
    "rf_reg.fit(X_train, y_train)\n",
    "rf_reg.score(X_test, y_test)"
   ]
  },
  {
   "cell_type": "code",
   "execution_count": null,
   "metadata": {},
   "outputs": [],
   "source": [
    "rf_reg_pred = rf_reg.predict(X_test)"
   ]
  },
  {
   "cell_type": "markdown",
   "metadata": {},
   "source": [
    "<p align=\"justify\">\n",
    "O código abaixo faz o ajuste de hiperparâmetros através do Optuna para o RandomForestRegressor. Escolhemos variar os valores de n_estimators, criterion, min_samples_split e min_samples_leaf, por serem considerados uns dos mais impactantes na performance desse tipo de regressor."
   ]
  },
  {
   "cell_type": "code",
   "execution_count": 16,
   "metadata": {},
   "outputs": [],
   "source": [
    "def objective_rf(trial):\n",
    "    with mlflow.start_run(run_name=\"Random Forest\"):\n",
    "        n_estimators = trial.suggest_int('n_estimators', 20, 500)\n",
    "        criterion = trial.suggest_categorical('criterion', ['squared_error', 'absolute_error', 'friedman_mse', 'poisson'])\n",
    "        min_samples_split = trial.suggest_int('min_samples_split', 2, 10)\n",
    "        min_samples_leaf = trial.suggest_int('min_samples_leaf', 1, 10)\n",
    "        \n",
    "        rf_reg_obj = RandomForestRegressor(\n",
    "            n_estimators=n_estimators, criterion=criterion, min_samples_split=min_samples_split, min_samples_leaf=min_samples_leaf, \n",
    "            random_state=9\n",
    "        )\n",
    "        \n",
    "        rf_reg_obj.fit(X_train, y_train)\n",
    "\n",
    "        mlflow.log_param(\"model_type\", \"Random Forest\")\n",
    "        mlflow.log_metric(\"mse\", rf_reg_obj.score(X_val, y_val))\n",
    "        for param in trial.params:\n",
    "            mlflow.log_param(param, trial.params[param])\n",
    "        mlflow.sklearn.log_model(rf_reg_obj, \"model\")\n",
    "\n",
    "    return rf_reg_obj.score(X_val, y_val)"
   ]
  },
  {
   "cell_type": "code",
   "execution_count": 17,
   "metadata": {},
   "outputs": [
    {
     "name": "stderr",
     "output_type": "stream",
     "text": [
      "[I 2024-07-11 21:47:16,993] A new study created in memory with name: Study for random forest regressor\n",
      "[W 2024-07-11 21:48:46,408] Trial 0 failed with parameters: {'n_estimators': 277, 'criterion': 'friedman_mse', 'min_samples_split': 5, 'min_samples_leaf': 9} because of the following error: MlflowException(\"API request to http://localhost:5000/api/2.0/mlflow/runs/create failed with exception HTTPConnectionPool(host='localhost', port=5000): Max retries exceeded with url: /api/2.0/mlflow/runs/create (Caused by NewConnectionError('<urllib3.connection.HTTPConnection object at 0x000001A87DA027D0>: Failed to establish a new connection: [WinError 10061] Nenhuma conexão pôde ser feita porque a máquina de destino as recusou ativamente'))\").\n",
      "Traceback (most recent call last):\n",
      "  File \"d:\\Cin\\Ciencia-de-Dados-Projeto-1\\venv\\Lib\\site-packages\\urllib3\\connection.py\", line 196, in _new_conn\n",
      "    sock = connection.create_connection(\n",
      "           ^^^^^^^^^^^^^^^^^^^^^^^^^^^^^\n",
      "  File \"d:\\Cin\\Ciencia-de-Dados-Projeto-1\\venv\\Lib\\site-packages\\urllib3\\util\\connection.py\", line 85, in create_connection\n",
      "    raise err\n",
      "  File \"d:\\Cin\\Ciencia-de-Dados-Projeto-1\\venv\\Lib\\site-packages\\urllib3\\util\\connection.py\", line 73, in create_connection\n",
      "    sock.connect(sa)\n",
      "ConnectionRefusedError: [WinError 10061] Nenhuma conexão pôde ser feita porque a máquina de destino as recusou ativamente\n",
      "\n",
      "The above exception was the direct cause of the following exception:\n",
      "\n",
      "Traceback (most recent call last):\n",
      "  File \"d:\\Cin\\Ciencia-de-Dados-Projeto-1\\venv\\Lib\\site-packages\\urllib3\\connectionpool.py\", line 789, in urlopen\n",
      "    response = self._make_request(\n",
      "               ^^^^^^^^^^^^^^^^^^^\n",
      "  File \"d:\\Cin\\Ciencia-de-Dados-Projeto-1\\venv\\Lib\\site-packages\\urllib3\\connectionpool.py\", line 495, in _make_request\n",
      "    conn.request(\n",
      "  File \"d:\\Cin\\Ciencia-de-Dados-Projeto-1\\venv\\Lib\\site-packages\\urllib3\\connection.py\", line 398, in request\n",
      "    self.endheaders()\n",
      "  File \"D:\\Program\\anaconda3\\Lib\\http\\client.py\", line 1289, in endheaders\n",
      "    self._send_output(message_body, encode_chunked=encode_chunked)\n",
      "  File \"D:\\Program\\anaconda3\\Lib\\http\\client.py\", line 1048, in _send_output\n",
      "    self.send(msg)\n",
      "  File \"D:\\Program\\anaconda3\\Lib\\http\\client.py\", line 986, in send\n",
      "    self.connect()\n",
      "  File \"d:\\Cin\\Ciencia-de-Dados-Projeto-1\\venv\\Lib\\site-packages\\urllib3\\connection.py\", line 236, in connect\n",
      "    self.sock = self._new_conn()\n",
      "                ^^^^^^^^^^^^^^^^\n",
      "  File \"d:\\Cin\\Ciencia-de-Dados-Projeto-1\\venv\\Lib\\site-packages\\urllib3\\connection.py\", line 211, in _new_conn\n",
      "    raise NewConnectionError(\n",
      "urllib3.exceptions.NewConnectionError: <urllib3.connection.HTTPConnection object at 0x000001A87DA027D0>: Failed to establish a new connection: [WinError 10061] Nenhuma conexão pôde ser feita porque a máquina de destino as recusou ativamente\n",
      "\n",
      "The above exception was the direct cause of the following exception:\n",
      "\n",
      "Traceback (most recent call last):\n",
      "  File \"d:\\Cin\\Ciencia-de-Dados-Projeto-1\\venv\\Lib\\site-packages\\requests\\adapters.py\", line 667, in send\n",
      "    resp = conn.urlopen(\n",
      "           ^^^^^^^^^^^^^\n",
      "  File \"d:\\Cin\\Ciencia-de-Dados-Projeto-1\\venv\\Lib\\site-packages\\urllib3\\connectionpool.py\", line 873, in urlopen\n",
      "    return self.urlopen(\n",
      "           ^^^^^^^^^^^^^\n",
      "  File \"d:\\Cin\\Ciencia-de-Dados-Projeto-1\\venv\\Lib\\site-packages\\urllib3\\connectionpool.py\", line 873, in urlopen\n",
      "    return self.urlopen(\n",
      "           ^^^^^^^^^^^^^\n",
      "  File \"d:\\Cin\\Ciencia-de-Dados-Projeto-1\\venv\\Lib\\site-packages\\urllib3\\connectionpool.py\", line 873, in urlopen\n",
      "    return self.urlopen(\n",
      "           ^^^^^^^^^^^^^\n",
      "  [Previous line repeated 2 more times]\n",
      "  File \"d:\\Cin\\Ciencia-de-Dados-Projeto-1\\venv\\Lib\\site-packages\\urllib3\\connectionpool.py\", line 843, in urlopen\n",
      "    retries = retries.increment(\n",
      "              ^^^^^^^^^^^^^^^^^^\n",
      "  File \"d:\\Cin\\Ciencia-de-Dados-Projeto-1\\venv\\Lib\\site-packages\\urllib3\\util\\retry.py\", line 519, in increment\n",
      "    raise MaxRetryError(_pool, url, reason) from reason  # type: ignore[arg-type]\n",
      "    ^^^^^^^^^^^^^^^^^^^^^^^^^^^^^^^^^^^^^^^^^^^^^^^^^^^\n",
      "urllib3.exceptions.MaxRetryError: HTTPConnectionPool(host='localhost', port=5000): Max retries exceeded with url: /api/2.0/mlflow/runs/create (Caused by NewConnectionError('<urllib3.connection.HTTPConnection object at 0x000001A87DA027D0>: Failed to establish a new connection: [WinError 10061] Nenhuma conexão pôde ser feita porque a máquina de destino as recusou ativamente'))\n",
      "\n",
      "During handling of the above exception, another exception occurred:\n",
      "\n",
      "Traceback (most recent call last):\n",
      "  File \"d:\\Cin\\Ciencia-de-Dados-Projeto-1\\venv\\Lib\\site-packages\\mlflow\\utils\\rest_utils.py\", line 129, in http_request\n",
      "    return _get_http_response_with_retries(\n",
      "           ^^^^^^^^^^^^^^^^^^^^^^^^^^^^^^^^\n",
      "  File \"d:\\Cin\\Ciencia-de-Dados-Projeto-1\\venv\\Lib\\site-packages\\mlflow\\utils\\request_utils.py\", line 237, in _get_http_response_with_retries\n",
      "    return session.request(method, url, allow_redirects=allow_redirects, **kwargs)\n",
      "           ^^^^^^^^^^^^^^^^^^^^^^^^^^^^^^^^^^^^^^^^^^^^^^^^^^^^^^^^^^^^^^^^^^^^^^^\n",
      "  File \"d:\\Cin\\Ciencia-de-Dados-Projeto-1\\venv\\Lib\\site-packages\\requests\\sessions.py\", line 589, in request\n",
      "    resp = self.send(prep, **send_kwargs)\n",
      "           ^^^^^^^^^^^^^^^^^^^^^^^^^^^^^^\n",
      "  File \"d:\\Cin\\Ciencia-de-Dados-Projeto-1\\venv\\Lib\\site-packages\\requests\\sessions.py\", line 703, in send\n",
      "    r = adapter.send(request, **kwargs)\n",
      "        ^^^^^^^^^^^^^^^^^^^^^^^^^^^^^^^\n",
      "  File \"d:\\Cin\\Ciencia-de-Dados-Projeto-1\\venv\\Lib\\site-packages\\requests\\adapters.py\", line 700, in send\n",
      "    raise ConnectionError(e, request=request)\n",
      "requests.exceptions.ConnectionError: HTTPConnectionPool(host='localhost', port=5000): Max retries exceeded with url: /api/2.0/mlflow/runs/create (Caused by NewConnectionError('<urllib3.connection.HTTPConnection object at 0x000001A87DA027D0>: Failed to establish a new connection: [WinError 10061] Nenhuma conexão pôde ser feita porque a máquina de destino as recusou ativamente'))\n",
      "\n",
      "During handling of the above exception, another exception occurred:\n",
      "\n",
      "Traceback (most recent call last):\n",
      "  File \"d:\\Cin\\Ciencia-de-Dados-Projeto-1\\venv\\Lib\\site-packages\\optuna\\study\\_optimize.py\", line 196, in _run_trial\n",
      "    value_or_values = func(trial)\n",
      "                      ^^^^^^^^^^^\n",
      "  File \"C:\\Users\\pedro\\AppData\\Local\\Temp\\ipykernel_15168\\2340404610.py\", line 14, in objective_rf\n",
      "    mlflow.log_param(\"model_type\", \"Random Forest\")\n",
      "  File \"d:\\Cin\\Ciencia-de-Dados-Projeto-1\\venv\\Lib\\site-packages\\mlflow\\tracking\\fluent.py\", line 660, in log_param\n",
      "    run_id = _get_or_start_run().info.run_id\n",
      "             ^^^^^^^^^^^^^^^^^^^\n",
      "  File \"d:\\Cin\\Ciencia-de-Dados-Projeto-1\\venv\\Lib\\site-packages\\mlflow\\tracking\\fluent.py\", line 2065, in _get_or_start_run\n",
      "    return start_run()\n",
      "           ^^^^^^^^^^^\n",
      "  File \"d:\\Cin\\Ciencia-de-Dados-Projeto-1\\venv\\Lib\\site-packages\\mlflow\\tracking\\fluent.py\", line 382, in start_run\n",
      "    active_run_obj = client.create_run(\n",
      "                     ^^^^^^^^^^^^^^^^^^\n",
      "  File \"d:\\Cin\\Ciencia-de-Dados-Projeto-1\\venv\\Lib\\site-packages\\mlflow\\tracking\\client.py\", line 393, in create_run\n",
      "    return self._tracking_client.create_run(experiment_id, start_time, tags, run_name)\n",
      "           ^^^^^^^^^^^^^^^^^^^^^^^^^^^^^^^^^^^^^^^^^^^^^^^^^^^^^^^^^^^^^^^^^^^^^^^^^^^\n",
      "  File \"d:\\Cin\\Ciencia-de-Dados-Projeto-1\\venv\\Lib\\site-packages\\mlflow\\tracking\\_tracking_service\\client.py\", line 165, in create_run\n",
      "    return self.store.create_run(\n",
      "           ^^^^^^^^^^^^^^^^^^^^^^\n",
      "  File \"d:\\Cin\\Ciencia-de-Dados-Projeto-1\\venv\\Lib\\site-packages\\mlflow\\store\\tracking\\rest_store.py\", line 208, in create_run\n",
      "    response_proto = self._call_endpoint(CreateRun, req_body)\n",
      "                     ^^^^^^^^^^^^^^^^^^^^^^^^^^^^^^^^^^^^^^^^\n",
      "  File \"d:\\Cin\\Ciencia-de-Dados-Projeto-1\\venv\\Lib\\site-packages\\mlflow\\store\\tracking\\rest_store.py\", line 81, in _call_endpoint\n",
      "    return call_endpoint(self.get_host_creds(), endpoint, method, json_body, response_proto)\n",
      "           ^^^^^^^^^^^^^^^^^^^^^^^^^^^^^^^^^^^^^^^^^^^^^^^^^^^^^^^^^^^^^^^^^^^^^^^^^^^^^^^^^\n",
      "  File \"d:\\Cin\\Ciencia-de-Dados-Projeto-1\\venv\\Lib\\site-packages\\mlflow\\utils\\rest_utils.py\", line 302, in call_endpoint\n",
      "    response = http_request(**call_kwargs)\n",
      "               ^^^^^^^^^^^^^^^^^^^^^^^^^^^\n",
      "  File \"d:\\Cin\\Ciencia-de-Dados-Projeto-1\\venv\\Lib\\site-packages\\mlflow\\utils\\rest_utils.py\", line 152, in http_request\n",
      "    raise MlflowException(f\"API request to {url} failed with exception {e}\")\n",
      "mlflow.exceptions.MlflowException: API request to http://localhost:5000/api/2.0/mlflow/runs/create failed with exception HTTPConnectionPool(host='localhost', port=5000): Max retries exceeded with url: /api/2.0/mlflow/runs/create (Caused by NewConnectionError('<urllib3.connection.HTTPConnection object at 0x000001A87DA027D0>: Failed to establish a new connection: [WinError 10061] Nenhuma conexão pôde ser feita porque a máquina de destino as recusou ativamente'))\n",
      "[W 2024-07-11 21:48:48,144] Trial 0 failed with value None.\n"
     ]
    },
    {
     "ename": "MlflowException",
     "evalue": "API request to http://localhost:5000/api/2.0/mlflow/runs/create failed with exception HTTPConnectionPool(host='localhost', port=5000): Max retries exceeded with url: /api/2.0/mlflow/runs/create (Caused by NewConnectionError('<urllib3.connection.HTTPConnection object at 0x000001A87DA027D0>: Failed to establish a new connection: [WinError 10061] Nenhuma conexão pôde ser feita porque a máquina de destino as recusou ativamente'))",
     "output_type": "error",
     "traceback": [
      "\u001b[1;31m---------------------------------------------------------------------------\u001b[0m",
      "\u001b[1;31mConnectionRefusedError\u001b[0m                    Traceback (most recent call last)",
      "File \u001b[1;32md:\\Cin\\Ciencia-de-Dados-Projeto-1\\venv\\Lib\\site-packages\\urllib3\\connection.py:196\u001b[0m, in \u001b[0;36mHTTPConnection._new_conn\u001b[1;34m(self)\u001b[0m\n\u001b[0;32m    195\u001b[0m \u001b[38;5;28;01mtry\u001b[39;00m:\n\u001b[1;32m--> 196\u001b[0m     sock \u001b[38;5;241m=\u001b[39m \u001b[43mconnection\u001b[49m\u001b[38;5;241;43m.\u001b[39;49m\u001b[43mcreate_connection\u001b[49m\u001b[43m(\u001b[49m\n\u001b[0;32m    197\u001b[0m \u001b[43m        \u001b[49m\u001b[43m(\u001b[49m\u001b[38;5;28;43mself\u001b[39;49m\u001b[38;5;241;43m.\u001b[39;49m\u001b[43m_dns_host\u001b[49m\u001b[43m,\u001b[49m\u001b[43m \u001b[49m\u001b[38;5;28;43mself\u001b[39;49m\u001b[38;5;241;43m.\u001b[39;49m\u001b[43mport\u001b[49m\u001b[43m)\u001b[49m\u001b[43m,\u001b[49m\n\u001b[0;32m    198\u001b[0m \u001b[43m        \u001b[49m\u001b[38;5;28;43mself\u001b[39;49m\u001b[38;5;241;43m.\u001b[39;49m\u001b[43mtimeout\u001b[49m\u001b[43m,\u001b[49m\n\u001b[0;32m    199\u001b[0m \u001b[43m        \u001b[49m\u001b[43msource_address\u001b[49m\u001b[38;5;241;43m=\u001b[39;49m\u001b[38;5;28;43mself\u001b[39;49m\u001b[38;5;241;43m.\u001b[39;49m\u001b[43msource_address\u001b[49m\u001b[43m,\u001b[49m\n\u001b[0;32m    200\u001b[0m \u001b[43m        \u001b[49m\u001b[43msocket_options\u001b[49m\u001b[38;5;241;43m=\u001b[39;49m\u001b[38;5;28;43mself\u001b[39;49m\u001b[38;5;241;43m.\u001b[39;49m\u001b[43msocket_options\u001b[49m\u001b[43m,\u001b[49m\n\u001b[0;32m    201\u001b[0m \u001b[43m    \u001b[49m\u001b[43m)\u001b[49m\n\u001b[0;32m    202\u001b[0m \u001b[38;5;28;01mexcept\u001b[39;00m socket\u001b[38;5;241m.\u001b[39mgaierror \u001b[38;5;28;01mas\u001b[39;00m e:\n",
      "File \u001b[1;32md:\\Cin\\Ciencia-de-Dados-Projeto-1\\venv\\Lib\\site-packages\\urllib3\\util\\connection.py:85\u001b[0m, in \u001b[0;36mcreate_connection\u001b[1;34m(address, timeout, source_address, socket_options)\u001b[0m\n\u001b[0;32m     84\u001b[0m \u001b[38;5;28;01mtry\u001b[39;00m:\n\u001b[1;32m---> 85\u001b[0m     \u001b[38;5;28;01mraise\u001b[39;00m err\n\u001b[0;32m     86\u001b[0m \u001b[38;5;28;01mfinally\u001b[39;00m:\n\u001b[0;32m     87\u001b[0m     \u001b[38;5;66;03m# Break explicitly a reference cycle\u001b[39;00m\n",
      "File \u001b[1;32md:\\Cin\\Ciencia-de-Dados-Projeto-1\\venv\\Lib\\site-packages\\urllib3\\util\\connection.py:73\u001b[0m, in \u001b[0;36mcreate_connection\u001b[1;34m(address, timeout, source_address, socket_options)\u001b[0m\n\u001b[0;32m     72\u001b[0m     sock\u001b[38;5;241m.\u001b[39mbind(source_address)\n\u001b[1;32m---> 73\u001b[0m sock\u001b[38;5;241m.\u001b[39mconnect(sa)\n\u001b[0;32m     74\u001b[0m \u001b[38;5;66;03m# Break explicitly a reference cycle\u001b[39;00m\n",
      "\u001b[1;31mConnectionRefusedError\u001b[0m: [WinError 10061] Nenhuma conexão pôde ser feita porque a máquina de destino as recusou ativamente",
      "\nThe above exception was the direct cause of the following exception:\n",
      "\u001b[1;31mNewConnectionError\u001b[0m                        Traceback (most recent call last)",
      "File \u001b[1;32md:\\Cin\\Ciencia-de-Dados-Projeto-1\\venv\\Lib\\site-packages\\urllib3\\connectionpool.py:789\u001b[0m, in \u001b[0;36mHTTPConnectionPool.urlopen\u001b[1;34m(self, method, url, body, headers, retries, redirect, assert_same_host, timeout, pool_timeout, release_conn, chunked, body_pos, preload_content, decode_content, **response_kw)\u001b[0m\n\u001b[0;32m    788\u001b[0m \u001b[38;5;66;03m# Make the request on the HTTPConnection object\u001b[39;00m\n\u001b[1;32m--> 789\u001b[0m response \u001b[38;5;241m=\u001b[39m \u001b[38;5;28;43mself\u001b[39;49m\u001b[38;5;241;43m.\u001b[39;49m\u001b[43m_make_request\u001b[49m\u001b[43m(\u001b[49m\n\u001b[0;32m    790\u001b[0m \u001b[43m    \u001b[49m\u001b[43mconn\u001b[49m\u001b[43m,\u001b[49m\n\u001b[0;32m    791\u001b[0m \u001b[43m    \u001b[49m\u001b[43mmethod\u001b[49m\u001b[43m,\u001b[49m\n\u001b[0;32m    792\u001b[0m \u001b[43m    \u001b[49m\u001b[43murl\u001b[49m\u001b[43m,\u001b[49m\n\u001b[0;32m    793\u001b[0m \u001b[43m    \u001b[49m\u001b[43mtimeout\u001b[49m\u001b[38;5;241;43m=\u001b[39;49m\u001b[43mtimeout_obj\u001b[49m\u001b[43m,\u001b[49m\n\u001b[0;32m    794\u001b[0m \u001b[43m    \u001b[49m\u001b[43mbody\u001b[49m\u001b[38;5;241;43m=\u001b[39;49m\u001b[43mbody\u001b[49m\u001b[43m,\u001b[49m\n\u001b[0;32m    795\u001b[0m \u001b[43m    \u001b[49m\u001b[43mheaders\u001b[49m\u001b[38;5;241;43m=\u001b[39;49m\u001b[43mheaders\u001b[49m\u001b[43m,\u001b[49m\n\u001b[0;32m    796\u001b[0m \u001b[43m    \u001b[49m\u001b[43mchunked\u001b[49m\u001b[38;5;241;43m=\u001b[39;49m\u001b[43mchunked\u001b[49m\u001b[43m,\u001b[49m\n\u001b[0;32m    797\u001b[0m \u001b[43m    \u001b[49m\u001b[43mretries\u001b[49m\u001b[38;5;241;43m=\u001b[39;49m\u001b[43mretries\u001b[49m\u001b[43m,\u001b[49m\n\u001b[0;32m    798\u001b[0m \u001b[43m    \u001b[49m\u001b[43mresponse_conn\u001b[49m\u001b[38;5;241;43m=\u001b[39;49m\u001b[43mresponse_conn\u001b[49m\u001b[43m,\u001b[49m\n\u001b[0;32m    799\u001b[0m \u001b[43m    \u001b[49m\u001b[43mpreload_content\u001b[49m\u001b[38;5;241;43m=\u001b[39;49m\u001b[43mpreload_content\u001b[49m\u001b[43m,\u001b[49m\n\u001b[0;32m    800\u001b[0m \u001b[43m    \u001b[49m\u001b[43mdecode_content\u001b[49m\u001b[38;5;241;43m=\u001b[39;49m\u001b[43mdecode_content\u001b[49m\u001b[43m,\u001b[49m\n\u001b[0;32m    801\u001b[0m \u001b[43m    \u001b[49m\u001b[38;5;241;43m*\u001b[39;49m\u001b[38;5;241;43m*\u001b[39;49m\u001b[43mresponse_kw\u001b[49m\u001b[43m,\u001b[49m\n\u001b[0;32m    802\u001b[0m \u001b[43m\u001b[49m\u001b[43m)\u001b[49m\n\u001b[0;32m    804\u001b[0m \u001b[38;5;66;03m# Everything went great!\u001b[39;00m\n",
      "File \u001b[1;32md:\\Cin\\Ciencia-de-Dados-Projeto-1\\venv\\Lib\\site-packages\\urllib3\\connectionpool.py:495\u001b[0m, in \u001b[0;36mHTTPConnectionPool._make_request\u001b[1;34m(self, conn, method, url, body, headers, retries, timeout, chunked, response_conn, preload_content, decode_content, enforce_content_length)\u001b[0m\n\u001b[0;32m    494\u001b[0m \u001b[38;5;28;01mtry\u001b[39;00m:\n\u001b[1;32m--> 495\u001b[0m     \u001b[43mconn\u001b[49m\u001b[38;5;241;43m.\u001b[39;49m\u001b[43mrequest\u001b[49m\u001b[43m(\u001b[49m\n\u001b[0;32m    496\u001b[0m \u001b[43m        \u001b[49m\u001b[43mmethod\u001b[49m\u001b[43m,\u001b[49m\n\u001b[0;32m    497\u001b[0m \u001b[43m        \u001b[49m\u001b[43murl\u001b[49m\u001b[43m,\u001b[49m\n\u001b[0;32m    498\u001b[0m \u001b[43m        \u001b[49m\u001b[43mbody\u001b[49m\u001b[38;5;241;43m=\u001b[39;49m\u001b[43mbody\u001b[49m\u001b[43m,\u001b[49m\n\u001b[0;32m    499\u001b[0m \u001b[43m        \u001b[49m\u001b[43mheaders\u001b[49m\u001b[38;5;241;43m=\u001b[39;49m\u001b[43mheaders\u001b[49m\u001b[43m,\u001b[49m\n\u001b[0;32m    500\u001b[0m \u001b[43m        \u001b[49m\u001b[43mchunked\u001b[49m\u001b[38;5;241;43m=\u001b[39;49m\u001b[43mchunked\u001b[49m\u001b[43m,\u001b[49m\n\u001b[0;32m    501\u001b[0m \u001b[43m        \u001b[49m\u001b[43mpreload_content\u001b[49m\u001b[38;5;241;43m=\u001b[39;49m\u001b[43mpreload_content\u001b[49m\u001b[43m,\u001b[49m\n\u001b[0;32m    502\u001b[0m \u001b[43m        \u001b[49m\u001b[43mdecode_content\u001b[49m\u001b[38;5;241;43m=\u001b[39;49m\u001b[43mdecode_content\u001b[49m\u001b[43m,\u001b[49m\n\u001b[0;32m    503\u001b[0m \u001b[43m        \u001b[49m\u001b[43menforce_content_length\u001b[49m\u001b[38;5;241;43m=\u001b[39;49m\u001b[43menforce_content_length\u001b[49m\u001b[43m,\u001b[49m\n\u001b[0;32m    504\u001b[0m \u001b[43m    \u001b[49m\u001b[43m)\u001b[49m\n\u001b[0;32m    506\u001b[0m \u001b[38;5;66;03m# We are swallowing BrokenPipeError (errno.EPIPE) since the server is\u001b[39;00m\n\u001b[0;32m    507\u001b[0m \u001b[38;5;66;03m# legitimately able to close the connection after sending a valid response.\u001b[39;00m\n\u001b[0;32m    508\u001b[0m \u001b[38;5;66;03m# With this behaviour, the received response is still readable.\u001b[39;00m\n",
      "File \u001b[1;32md:\\Cin\\Ciencia-de-Dados-Projeto-1\\venv\\Lib\\site-packages\\urllib3\\connection.py:398\u001b[0m, in \u001b[0;36mHTTPConnection.request\u001b[1;34m(self, method, url, body, headers, chunked, preload_content, decode_content, enforce_content_length)\u001b[0m\n\u001b[0;32m    397\u001b[0m     \u001b[38;5;28mself\u001b[39m\u001b[38;5;241m.\u001b[39mputheader(header, value)\n\u001b[1;32m--> 398\u001b[0m \u001b[38;5;28;43mself\u001b[39;49m\u001b[38;5;241;43m.\u001b[39;49m\u001b[43mendheaders\u001b[49m\u001b[43m(\u001b[49m\u001b[43m)\u001b[49m\n\u001b[0;32m    400\u001b[0m \u001b[38;5;66;03m# If we're given a body we start sending that in chunks.\u001b[39;00m\n",
      "File \u001b[1;32mD:\\Program\\anaconda3\\Lib\\http\\client.py:1289\u001b[0m, in \u001b[0;36mHTTPConnection.endheaders\u001b[1;34m(self, message_body, encode_chunked)\u001b[0m\n\u001b[0;32m   1288\u001b[0m     \u001b[38;5;28;01mraise\u001b[39;00m CannotSendHeader()\n\u001b[1;32m-> 1289\u001b[0m \u001b[38;5;28;43mself\u001b[39;49m\u001b[38;5;241;43m.\u001b[39;49m\u001b[43m_send_output\u001b[49m\u001b[43m(\u001b[49m\u001b[43mmessage_body\u001b[49m\u001b[43m,\u001b[49m\u001b[43m \u001b[49m\u001b[43mencode_chunked\u001b[49m\u001b[38;5;241;43m=\u001b[39;49m\u001b[43mencode_chunked\u001b[49m\u001b[43m)\u001b[49m\n",
      "File \u001b[1;32mD:\\Program\\anaconda3\\Lib\\http\\client.py:1048\u001b[0m, in \u001b[0;36mHTTPConnection._send_output\u001b[1;34m(self, message_body, encode_chunked)\u001b[0m\n\u001b[0;32m   1047\u001b[0m \u001b[38;5;28;01mdel\u001b[39;00m \u001b[38;5;28mself\u001b[39m\u001b[38;5;241m.\u001b[39m_buffer[:]\n\u001b[1;32m-> 1048\u001b[0m \u001b[38;5;28;43mself\u001b[39;49m\u001b[38;5;241;43m.\u001b[39;49m\u001b[43msend\u001b[49m\u001b[43m(\u001b[49m\u001b[43mmsg\u001b[49m\u001b[43m)\u001b[49m\n\u001b[0;32m   1050\u001b[0m \u001b[38;5;28;01mif\u001b[39;00m message_body \u001b[38;5;129;01mis\u001b[39;00m \u001b[38;5;129;01mnot\u001b[39;00m \u001b[38;5;28;01mNone\u001b[39;00m:\n\u001b[0;32m   1051\u001b[0m \n\u001b[0;32m   1052\u001b[0m     \u001b[38;5;66;03m# create a consistent interface to message_body\u001b[39;00m\n",
      "File \u001b[1;32mD:\\Program\\anaconda3\\Lib\\http\\client.py:986\u001b[0m, in \u001b[0;36mHTTPConnection.send\u001b[1;34m(self, data)\u001b[0m\n\u001b[0;32m    985\u001b[0m \u001b[38;5;28;01mif\u001b[39;00m \u001b[38;5;28mself\u001b[39m\u001b[38;5;241m.\u001b[39mauto_open:\n\u001b[1;32m--> 986\u001b[0m     \u001b[38;5;28;43mself\u001b[39;49m\u001b[38;5;241;43m.\u001b[39;49m\u001b[43mconnect\u001b[49m\u001b[43m(\u001b[49m\u001b[43m)\u001b[49m\n\u001b[0;32m    987\u001b[0m \u001b[38;5;28;01melse\u001b[39;00m:\n",
      "File \u001b[1;32md:\\Cin\\Ciencia-de-Dados-Projeto-1\\venv\\Lib\\site-packages\\urllib3\\connection.py:236\u001b[0m, in \u001b[0;36mHTTPConnection.connect\u001b[1;34m(self)\u001b[0m\n\u001b[0;32m    235\u001b[0m \u001b[38;5;28;01mdef\u001b[39;00m \u001b[38;5;21mconnect\u001b[39m(\u001b[38;5;28mself\u001b[39m) \u001b[38;5;241m-\u001b[39m\u001b[38;5;241m>\u001b[39m \u001b[38;5;28;01mNone\u001b[39;00m:\n\u001b[1;32m--> 236\u001b[0m     \u001b[38;5;28mself\u001b[39m\u001b[38;5;241m.\u001b[39msock \u001b[38;5;241m=\u001b[39m \u001b[38;5;28;43mself\u001b[39;49m\u001b[38;5;241;43m.\u001b[39;49m\u001b[43m_new_conn\u001b[49m\u001b[43m(\u001b[49m\u001b[43m)\u001b[49m\n\u001b[0;32m    237\u001b[0m     \u001b[38;5;28;01mif\u001b[39;00m \u001b[38;5;28mself\u001b[39m\u001b[38;5;241m.\u001b[39m_tunnel_host:\n\u001b[0;32m    238\u001b[0m         \u001b[38;5;66;03m# If we're tunneling it means we're connected to our proxy.\u001b[39;00m\n",
      "File \u001b[1;32md:\\Cin\\Ciencia-de-Dados-Projeto-1\\venv\\Lib\\site-packages\\urllib3\\connection.py:211\u001b[0m, in \u001b[0;36mHTTPConnection._new_conn\u001b[1;34m(self)\u001b[0m\n\u001b[0;32m    210\u001b[0m \u001b[38;5;28;01mexcept\u001b[39;00m \u001b[38;5;167;01mOSError\u001b[39;00m \u001b[38;5;28;01mas\u001b[39;00m e:\n\u001b[1;32m--> 211\u001b[0m     \u001b[38;5;28;01mraise\u001b[39;00m NewConnectionError(\n\u001b[0;32m    212\u001b[0m         \u001b[38;5;28mself\u001b[39m, \u001b[38;5;124mf\u001b[39m\u001b[38;5;124m\"\u001b[39m\u001b[38;5;124mFailed to establish a new connection: \u001b[39m\u001b[38;5;132;01m{\u001b[39;00me\u001b[38;5;132;01m}\u001b[39;00m\u001b[38;5;124m\"\u001b[39m\n\u001b[0;32m    213\u001b[0m     ) \u001b[38;5;28;01mfrom\u001b[39;00m \u001b[38;5;21;01me\u001b[39;00m\n\u001b[0;32m    215\u001b[0m \u001b[38;5;66;03m# Audit hooks are only available in Python 3.8+\u001b[39;00m\n",
      "\u001b[1;31mNewConnectionError\u001b[0m: <urllib3.connection.HTTPConnection object at 0x000001A87DA027D0>: Failed to establish a new connection: [WinError 10061] Nenhuma conexão pôde ser feita porque a máquina de destino as recusou ativamente",
      "\nThe above exception was the direct cause of the following exception:\n",
      "\u001b[1;31mMaxRetryError\u001b[0m                             Traceback (most recent call last)",
      "File \u001b[1;32md:\\Cin\\Ciencia-de-Dados-Projeto-1\\venv\\Lib\\site-packages\\requests\\adapters.py:667\u001b[0m, in \u001b[0;36mHTTPAdapter.send\u001b[1;34m(self, request, stream, timeout, verify, cert, proxies)\u001b[0m\n\u001b[0;32m    666\u001b[0m \u001b[38;5;28;01mtry\u001b[39;00m:\n\u001b[1;32m--> 667\u001b[0m     resp \u001b[38;5;241m=\u001b[39m \u001b[43mconn\u001b[49m\u001b[38;5;241;43m.\u001b[39;49m\u001b[43murlopen\u001b[49m\u001b[43m(\u001b[49m\n\u001b[0;32m    668\u001b[0m \u001b[43m        \u001b[49m\u001b[43mmethod\u001b[49m\u001b[38;5;241;43m=\u001b[39;49m\u001b[43mrequest\u001b[49m\u001b[38;5;241;43m.\u001b[39;49m\u001b[43mmethod\u001b[49m\u001b[43m,\u001b[49m\n\u001b[0;32m    669\u001b[0m \u001b[43m        \u001b[49m\u001b[43murl\u001b[49m\u001b[38;5;241;43m=\u001b[39;49m\u001b[43murl\u001b[49m\u001b[43m,\u001b[49m\n\u001b[0;32m    670\u001b[0m \u001b[43m        \u001b[49m\u001b[43mbody\u001b[49m\u001b[38;5;241;43m=\u001b[39;49m\u001b[43mrequest\u001b[49m\u001b[38;5;241;43m.\u001b[39;49m\u001b[43mbody\u001b[49m\u001b[43m,\u001b[49m\n\u001b[0;32m    671\u001b[0m \u001b[43m        \u001b[49m\u001b[43mheaders\u001b[49m\u001b[38;5;241;43m=\u001b[39;49m\u001b[43mrequest\u001b[49m\u001b[38;5;241;43m.\u001b[39;49m\u001b[43mheaders\u001b[49m\u001b[43m,\u001b[49m\n\u001b[0;32m    672\u001b[0m \u001b[43m        \u001b[49m\u001b[43mredirect\u001b[49m\u001b[38;5;241;43m=\u001b[39;49m\u001b[38;5;28;43;01mFalse\u001b[39;49;00m\u001b[43m,\u001b[49m\n\u001b[0;32m    673\u001b[0m \u001b[43m        \u001b[49m\u001b[43massert_same_host\u001b[49m\u001b[38;5;241;43m=\u001b[39;49m\u001b[38;5;28;43;01mFalse\u001b[39;49;00m\u001b[43m,\u001b[49m\n\u001b[0;32m    674\u001b[0m \u001b[43m        \u001b[49m\u001b[43mpreload_content\u001b[49m\u001b[38;5;241;43m=\u001b[39;49m\u001b[38;5;28;43;01mFalse\u001b[39;49;00m\u001b[43m,\u001b[49m\n\u001b[0;32m    675\u001b[0m \u001b[43m        \u001b[49m\u001b[43mdecode_content\u001b[49m\u001b[38;5;241;43m=\u001b[39;49m\u001b[38;5;28;43;01mFalse\u001b[39;49;00m\u001b[43m,\u001b[49m\n\u001b[0;32m    676\u001b[0m \u001b[43m        \u001b[49m\u001b[43mretries\u001b[49m\u001b[38;5;241;43m=\u001b[39;49m\u001b[38;5;28;43mself\u001b[39;49m\u001b[38;5;241;43m.\u001b[39;49m\u001b[43mmax_retries\u001b[49m\u001b[43m,\u001b[49m\n\u001b[0;32m    677\u001b[0m \u001b[43m        \u001b[49m\u001b[43mtimeout\u001b[49m\u001b[38;5;241;43m=\u001b[39;49m\u001b[43mtimeout\u001b[49m\u001b[43m,\u001b[49m\n\u001b[0;32m    678\u001b[0m \u001b[43m        \u001b[49m\u001b[43mchunked\u001b[49m\u001b[38;5;241;43m=\u001b[39;49m\u001b[43mchunked\u001b[49m\u001b[43m,\u001b[49m\n\u001b[0;32m    679\u001b[0m \u001b[43m    \u001b[49m\u001b[43m)\u001b[49m\n\u001b[0;32m    681\u001b[0m \u001b[38;5;28;01mexcept\u001b[39;00m (ProtocolError, \u001b[38;5;167;01mOSError\u001b[39;00m) \u001b[38;5;28;01mas\u001b[39;00m err:\n",
      "File \u001b[1;32md:\\Cin\\Ciencia-de-Dados-Projeto-1\\venv\\Lib\\site-packages\\urllib3\\connectionpool.py:873\u001b[0m, in \u001b[0;36mHTTPConnectionPool.urlopen\u001b[1;34m(self, method, url, body, headers, retries, redirect, assert_same_host, timeout, pool_timeout, release_conn, chunked, body_pos, preload_content, decode_content, **response_kw)\u001b[0m\n\u001b[0;32m    870\u001b[0m     log\u001b[38;5;241m.\u001b[39mwarning(\n\u001b[0;32m    871\u001b[0m         \u001b[38;5;124m\"\u001b[39m\u001b[38;5;124mRetrying (\u001b[39m\u001b[38;5;132;01m%r\u001b[39;00m\u001b[38;5;124m) after connection broken by \u001b[39m\u001b[38;5;124m'\u001b[39m\u001b[38;5;132;01m%r\u001b[39;00m\u001b[38;5;124m'\u001b[39m\u001b[38;5;124m: \u001b[39m\u001b[38;5;132;01m%s\u001b[39;00m\u001b[38;5;124m\"\u001b[39m, retries, err, url\n\u001b[0;32m    872\u001b[0m     )\n\u001b[1;32m--> 873\u001b[0m     \u001b[38;5;28;01mreturn\u001b[39;00m \u001b[38;5;28;43mself\u001b[39;49m\u001b[38;5;241;43m.\u001b[39;49m\u001b[43murlopen\u001b[49m\u001b[43m(\u001b[49m\n\u001b[0;32m    874\u001b[0m \u001b[43m        \u001b[49m\u001b[43mmethod\u001b[49m\u001b[43m,\u001b[49m\n\u001b[0;32m    875\u001b[0m \u001b[43m        \u001b[49m\u001b[43murl\u001b[49m\u001b[43m,\u001b[49m\n\u001b[0;32m    876\u001b[0m \u001b[43m        \u001b[49m\u001b[43mbody\u001b[49m\u001b[43m,\u001b[49m\n\u001b[0;32m    877\u001b[0m \u001b[43m        \u001b[49m\u001b[43mheaders\u001b[49m\u001b[43m,\u001b[49m\n\u001b[0;32m    878\u001b[0m \u001b[43m        \u001b[49m\u001b[43mretries\u001b[49m\u001b[43m,\u001b[49m\n\u001b[0;32m    879\u001b[0m \u001b[43m        \u001b[49m\u001b[43mredirect\u001b[49m\u001b[43m,\u001b[49m\n\u001b[0;32m    880\u001b[0m \u001b[43m        \u001b[49m\u001b[43massert_same_host\u001b[49m\u001b[43m,\u001b[49m\n\u001b[0;32m    881\u001b[0m \u001b[43m        \u001b[49m\u001b[43mtimeout\u001b[49m\u001b[38;5;241;43m=\u001b[39;49m\u001b[43mtimeout\u001b[49m\u001b[43m,\u001b[49m\n\u001b[0;32m    882\u001b[0m \u001b[43m        \u001b[49m\u001b[43mpool_timeout\u001b[49m\u001b[38;5;241;43m=\u001b[39;49m\u001b[43mpool_timeout\u001b[49m\u001b[43m,\u001b[49m\n\u001b[0;32m    883\u001b[0m \u001b[43m        \u001b[49m\u001b[43mrelease_conn\u001b[49m\u001b[38;5;241;43m=\u001b[39;49m\u001b[43mrelease_conn\u001b[49m\u001b[43m,\u001b[49m\n\u001b[0;32m    884\u001b[0m \u001b[43m        \u001b[49m\u001b[43mchunked\u001b[49m\u001b[38;5;241;43m=\u001b[39;49m\u001b[43mchunked\u001b[49m\u001b[43m,\u001b[49m\n\u001b[0;32m    885\u001b[0m \u001b[43m        \u001b[49m\u001b[43mbody_pos\u001b[49m\u001b[38;5;241;43m=\u001b[39;49m\u001b[43mbody_pos\u001b[49m\u001b[43m,\u001b[49m\n\u001b[0;32m    886\u001b[0m \u001b[43m        \u001b[49m\u001b[43mpreload_content\u001b[49m\u001b[38;5;241;43m=\u001b[39;49m\u001b[43mpreload_content\u001b[49m\u001b[43m,\u001b[49m\n\u001b[0;32m    887\u001b[0m \u001b[43m        \u001b[49m\u001b[43mdecode_content\u001b[49m\u001b[38;5;241;43m=\u001b[39;49m\u001b[43mdecode_content\u001b[49m\u001b[43m,\u001b[49m\n\u001b[0;32m    888\u001b[0m \u001b[43m        \u001b[49m\u001b[38;5;241;43m*\u001b[39;49m\u001b[38;5;241;43m*\u001b[39;49m\u001b[43mresponse_kw\u001b[49m\u001b[43m,\u001b[49m\n\u001b[0;32m    889\u001b[0m \u001b[43m    \u001b[49m\u001b[43m)\u001b[49m\n\u001b[0;32m    891\u001b[0m \u001b[38;5;66;03m# Handle redirect?\u001b[39;00m\n",
      "File \u001b[1;32md:\\Cin\\Ciencia-de-Dados-Projeto-1\\venv\\Lib\\site-packages\\urllib3\\connectionpool.py:873\u001b[0m, in \u001b[0;36mHTTPConnectionPool.urlopen\u001b[1;34m(self, method, url, body, headers, retries, redirect, assert_same_host, timeout, pool_timeout, release_conn, chunked, body_pos, preload_content, decode_content, **response_kw)\u001b[0m\n\u001b[0;32m    870\u001b[0m     log\u001b[38;5;241m.\u001b[39mwarning(\n\u001b[0;32m    871\u001b[0m         \u001b[38;5;124m\"\u001b[39m\u001b[38;5;124mRetrying (\u001b[39m\u001b[38;5;132;01m%r\u001b[39;00m\u001b[38;5;124m) after connection broken by \u001b[39m\u001b[38;5;124m'\u001b[39m\u001b[38;5;132;01m%r\u001b[39;00m\u001b[38;5;124m'\u001b[39m\u001b[38;5;124m: \u001b[39m\u001b[38;5;132;01m%s\u001b[39;00m\u001b[38;5;124m\"\u001b[39m, retries, err, url\n\u001b[0;32m    872\u001b[0m     )\n\u001b[1;32m--> 873\u001b[0m     \u001b[38;5;28;01mreturn\u001b[39;00m \u001b[38;5;28;43mself\u001b[39;49m\u001b[38;5;241;43m.\u001b[39;49m\u001b[43murlopen\u001b[49m\u001b[43m(\u001b[49m\n\u001b[0;32m    874\u001b[0m \u001b[43m        \u001b[49m\u001b[43mmethod\u001b[49m\u001b[43m,\u001b[49m\n\u001b[0;32m    875\u001b[0m \u001b[43m        \u001b[49m\u001b[43murl\u001b[49m\u001b[43m,\u001b[49m\n\u001b[0;32m    876\u001b[0m \u001b[43m        \u001b[49m\u001b[43mbody\u001b[49m\u001b[43m,\u001b[49m\n\u001b[0;32m    877\u001b[0m \u001b[43m        \u001b[49m\u001b[43mheaders\u001b[49m\u001b[43m,\u001b[49m\n\u001b[0;32m    878\u001b[0m \u001b[43m        \u001b[49m\u001b[43mretries\u001b[49m\u001b[43m,\u001b[49m\n\u001b[0;32m    879\u001b[0m \u001b[43m        \u001b[49m\u001b[43mredirect\u001b[49m\u001b[43m,\u001b[49m\n\u001b[0;32m    880\u001b[0m \u001b[43m        \u001b[49m\u001b[43massert_same_host\u001b[49m\u001b[43m,\u001b[49m\n\u001b[0;32m    881\u001b[0m \u001b[43m        \u001b[49m\u001b[43mtimeout\u001b[49m\u001b[38;5;241;43m=\u001b[39;49m\u001b[43mtimeout\u001b[49m\u001b[43m,\u001b[49m\n\u001b[0;32m    882\u001b[0m \u001b[43m        \u001b[49m\u001b[43mpool_timeout\u001b[49m\u001b[38;5;241;43m=\u001b[39;49m\u001b[43mpool_timeout\u001b[49m\u001b[43m,\u001b[49m\n\u001b[0;32m    883\u001b[0m \u001b[43m        \u001b[49m\u001b[43mrelease_conn\u001b[49m\u001b[38;5;241;43m=\u001b[39;49m\u001b[43mrelease_conn\u001b[49m\u001b[43m,\u001b[49m\n\u001b[0;32m    884\u001b[0m \u001b[43m        \u001b[49m\u001b[43mchunked\u001b[49m\u001b[38;5;241;43m=\u001b[39;49m\u001b[43mchunked\u001b[49m\u001b[43m,\u001b[49m\n\u001b[0;32m    885\u001b[0m \u001b[43m        \u001b[49m\u001b[43mbody_pos\u001b[49m\u001b[38;5;241;43m=\u001b[39;49m\u001b[43mbody_pos\u001b[49m\u001b[43m,\u001b[49m\n\u001b[0;32m    886\u001b[0m \u001b[43m        \u001b[49m\u001b[43mpreload_content\u001b[49m\u001b[38;5;241;43m=\u001b[39;49m\u001b[43mpreload_content\u001b[49m\u001b[43m,\u001b[49m\n\u001b[0;32m    887\u001b[0m \u001b[43m        \u001b[49m\u001b[43mdecode_content\u001b[49m\u001b[38;5;241;43m=\u001b[39;49m\u001b[43mdecode_content\u001b[49m\u001b[43m,\u001b[49m\n\u001b[0;32m    888\u001b[0m \u001b[43m        \u001b[49m\u001b[38;5;241;43m*\u001b[39;49m\u001b[38;5;241;43m*\u001b[39;49m\u001b[43mresponse_kw\u001b[49m\u001b[43m,\u001b[49m\n\u001b[0;32m    889\u001b[0m \u001b[43m    \u001b[49m\u001b[43m)\u001b[49m\n\u001b[0;32m    891\u001b[0m \u001b[38;5;66;03m# Handle redirect?\u001b[39;00m\n",
      "    \u001b[1;31m[... skipping similar frames: HTTPConnectionPool.urlopen at line 873 (2 times)]\u001b[0m\n",
      "File \u001b[1;32md:\\Cin\\Ciencia-de-Dados-Projeto-1\\venv\\Lib\\site-packages\\urllib3\\connectionpool.py:873\u001b[0m, in \u001b[0;36mHTTPConnectionPool.urlopen\u001b[1;34m(self, method, url, body, headers, retries, redirect, assert_same_host, timeout, pool_timeout, release_conn, chunked, body_pos, preload_content, decode_content, **response_kw)\u001b[0m\n\u001b[0;32m    870\u001b[0m     log\u001b[38;5;241m.\u001b[39mwarning(\n\u001b[0;32m    871\u001b[0m         \u001b[38;5;124m\"\u001b[39m\u001b[38;5;124mRetrying (\u001b[39m\u001b[38;5;132;01m%r\u001b[39;00m\u001b[38;5;124m) after connection broken by \u001b[39m\u001b[38;5;124m'\u001b[39m\u001b[38;5;132;01m%r\u001b[39;00m\u001b[38;5;124m'\u001b[39m\u001b[38;5;124m: \u001b[39m\u001b[38;5;132;01m%s\u001b[39;00m\u001b[38;5;124m\"\u001b[39m, retries, err, url\n\u001b[0;32m    872\u001b[0m     )\n\u001b[1;32m--> 873\u001b[0m     \u001b[38;5;28;01mreturn\u001b[39;00m \u001b[38;5;28;43mself\u001b[39;49m\u001b[38;5;241;43m.\u001b[39;49m\u001b[43murlopen\u001b[49m\u001b[43m(\u001b[49m\n\u001b[0;32m    874\u001b[0m \u001b[43m        \u001b[49m\u001b[43mmethod\u001b[49m\u001b[43m,\u001b[49m\n\u001b[0;32m    875\u001b[0m \u001b[43m        \u001b[49m\u001b[43murl\u001b[49m\u001b[43m,\u001b[49m\n\u001b[0;32m    876\u001b[0m \u001b[43m        \u001b[49m\u001b[43mbody\u001b[49m\u001b[43m,\u001b[49m\n\u001b[0;32m    877\u001b[0m \u001b[43m        \u001b[49m\u001b[43mheaders\u001b[49m\u001b[43m,\u001b[49m\n\u001b[0;32m    878\u001b[0m \u001b[43m        \u001b[49m\u001b[43mretries\u001b[49m\u001b[43m,\u001b[49m\n\u001b[0;32m    879\u001b[0m \u001b[43m        \u001b[49m\u001b[43mredirect\u001b[49m\u001b[43m,\u001b[49m\n\u001b[0;32m    880\u001b[0m \u001b[43m        \u001b[49m\u001b[43massert_same_host\u001b[49m\u001b[43m,\u001b[49m\n\u001b[0;32m    881\u001b[0m \u001b[43m        \u001b[49m\u001b[43mtimeout\u001b[49m\u001b[38;5;241;43m=\u001b[39;49m\u001b[43mtimeout\u001b[49m\u001b[43m,\u001b[49m\n\u001b[0;32m    882\u001b[0m \u001b[43m        \u001b[49m\u001b[43mpool_timeout\u001b[49m\u001b[38;5;241;43m=\u001b[39;49m\u001b[43mpool_timeout\u001b[49m\u001b[43m,\u001b[49m\n\u001b[0;32m    883\u001b[0m \u001b[43m        \u001b[49m\u001b[43mrelease_conn\u001b[49m\u001b[38;5;241;43m=\u001b[39;49m\u001b[43mrelease_conn\u001b[49m\u001b[43m,\u001b[49m\n\u001b[0;32m    884\u001b[0m \u001b[43m        \u001b[49m\u001b[43mchunked\u001b[49m\u001b[38;5;241;43m=\u001b[39;49m\u001b[43mchunked\u001b[49m\u001b[43m,\u001b[49m\n\u001b[0;32m    885\u001b[0m \u001b[43m        \u001b[49m\u001b[43mbody_pos\u001b[49m\u001b[38;5;241;43m=\u001b[39;49m\u001b[43mbody_pos\u001b[49m\u001b[43m,\u001b[49m\n\u001b[0;32m    886\u001b[0m \u001b[43m        \u001b[49m\u001b[43mpreload_content\u001b[49m\u001b[38;5;241;43m=\u001b[39;49m\u001b[43mpreload_content\u001b[49m\u001b[43m,\u001b[49m\n\u001b[0;32m    887\u001b[0m \u001b[43m        \u001b[49m\u001b[43mdecode_content\u001b[49m\u001b[38;5;241;43m=\u001b[39;49m\u001b[43mdecode_content\u001b[49m\u001b[43m,\u001b[49m\n\u001b[0;32m    888\u001b[0m \u001b[43m        \u001b[49m\u001b[38;5;241;43m*\u001b[39;49m\u001b[38;5;241;43m*\u001b[39;49m\u001b[43mresponse_kw\u001b[49m\u001b[43m,\u001b[49m\n\u001b[0;32m    889\u001b[0m \u001b[43m    \u001b[49m\u001b[43m)\u001b[49m\n\u001b[0;32m    891\u001b[0m \u001b[38;5;66;03m# Handle redirect?\u001b[39;00m\n",
      "File \u001b[1;32md:\\Cin\\Ciencia-de-Dados-Projeto-1\\venv\\Lib\\site-packages\\urllib3\\connectionpool.py:843\u001b[0m, in \u001b[0;36mHTTPConnectionPool.urlopen\u001b[1;34m(self, method, url, body, headers, retries, redirect, assert_same_host, timeout, pool_timeout, release_conn, chunked, body_pos, preload_content, decode_content, **response_kw)\u001b[0m\n\u001b[0;32m    841\u001b[0m     new_e \u001b[38;5;241m=\u001b[39m ProtocolError(\u001b[38;5;124m\"\u001b[39m\u001b[38;5;124mConnection aborted.\u001b[39m\u001b[38;5;124m\"\u001b[39m, new_e)\n\u001b[1;32m--> 843\u001b[0m retries \u001b[38;5;241m=\u001b[39m \u001b[43mretries\u001b[49m\u001b[38;5;241;43m.\u001b[39;49m\u001b[43mincrement\u001b[49m\u001b[43m(\u001b[49m\n\u001b[0;32m    844\u001b[0m \u001b[43m    \u001b[49m\u001b[43mmethod\u001b[49m\u001b[43m,\u001b[49m\u001b[43m \u001b[49m\u001b[43murl\u001b[49m\u001b[43m,\u001b[49m\u001b[43m \u001b[49m\u001b[43merror\u001b[49m\u001b[38;5;241;43m=\u001b[39;49m\u001b[43mnew_e\u001b[49m\u001b[43m,\u001b[49m\u001b[43m \u001b[49m\u001b[43m_pool\u001b[49m\u001b[38;5;241;43m=\u001b[39;49m\u001b[38;5;28;43mself\u001b[39;49m\u001b[43m,\u001b[49m\u001b[43m \u001b[49m\u001b[43m_stacktrace\u001b[49m\u001b[38;5;241;43m=\u001b[39;49m\u001b[43msys\u001b[49m\u001b[38;5;241;43m.\u001b[39;49m\u001b[43mexc_info\u001b[49m\u001b[43m(\u001b[49m\u001b[43m)\u001b[49m\u001b[43m[\u001b[49m\u001b[38;5;241;43m2\u001b[39;49m\u001b[43m]\u001b[49m\n\u001b[0;32m    845\u001b[0m \u001b[43m\u001b[49m\u001b[43m)\u001b[49m\n\u001b[0;32m    846\u001b[0m retries\u001b[38;5;241m.\u001b[39msleep()\n",
      "File \u001b[1;32md:\\Cin\\Ciencia-de-Dados-Projeto-1\\venv\\Lib\\site-packages\\urllib3\\util\\retry.py:519\u001b[0m, in \u001b[0;36mRetry.increment\u001b[1;34m(self, method, url, response, error, _pool, _stacktrace)\u001b[0m\n\u001b[0;32m    518\u001b[0m     reason \u001b[38;5;241m=\u001b[39m error \u001b[38;5;129;01mor\u001b[39;00m ResponseError(cause)\n\u001b[1;32m--> 519\u001b[0m     \u001b[38;5;28;01mraise\u001b[39;00m MaxRetryError(_pool, url, reason) \u001b[38;5;28;01mfrom\u001b[39;00m \u001b[38;5;21;01mreason\u001b[39;00m  \u001b[38;5;66;03m# type: ignore[arg-type]\u001b[39;00m\n\u001b[0;32m    521\u001b[0m log\u001b[38;5;241m.\u001b[39mdebug(\u001b[38;5;124m\"\u001b[39m\u001b[38;5;124mIncremented Retry for (url=\u001b[39m\u001b[38;5;124m'\u001b[39m\u001b[38;5;132;01m%s\u001b[39;00m\u001b[38;5;124m'\u001b[39m\u001b[38;5;124m): \u001b[39m\u001b[38;5;132;01m%r\u001b[39;00m\u001b[38;5;124m\"\u001b[39m, url, new_retry)\n",
      "\u001b[1;31mMaxRetryError\u001b[0m: HTTPConnectionPool(host='localhost', port=5000): Max retries exceeded with url: /api/2.0/mlflow/runs/create (Caused by NewConnectionError('<urllib3.connection.HTTPConnection object at 0x000001A87DA027D0>: Failed to establish a new connection: [WinError 10061] Nenhuma conexão pôde ser feita porque a máquina de destino as recusou ativamente'))",
      "\nDuring handling of the above exception, another exception occurred:\n",
      "\u001b[1;31mConnectionError\u001b[0m                           Traceback (most recent call last)",
      "File \u001b[1;32md:\\Cin\\Ciencia-de-Dados-Projeto-1\\venv\\Lib\\site-packages\\mlflow\\utils\\rest_utils.py:129\u001b[0m, in \u001b[0;36mhttp_request\u001b[1;34m(host_creds, endpoint, method, max_retries, backoff_factor, backoff_jitter, extra_headers, retry_codes, timeout, raise_on_status, respect_retry_after_header, **kwargs)\u001b[0m\n\u001b[0;32m    128\u001b[0m \u001b[38;5;28;01mtry\u001b[39;00m:\n\u001b[1;32m--> 129\u001b[0m     \u001b[38;5;28;01mreturn\u001b[39;00m \u001b[43m_get_http_response_with_retries\u001b[49m\u001b[43m(\u001b[49m\n\u001b[0;32m    130\u001b[0m \u001b[43m        \u001b[49m\u001b[43mmethod\u001b[49m\u001b[43m,\u001b[49m\n\u001b[0;32m    131\u001b[0m \u001b[43m        \u001b[49m\u001b[43murl\u001b[49m\u001b[43m,\u001b[49m\n\u001b[0;32m    132\u001b[0m \u001b[43m        \u001b[49m\u001b[43mmax_retries\u001b[49m\u001b[43m,\u001b[49m\n\u001b[0;32m    133\u001b[0m \u001b[43m        \u001b[49m\u001b[43mbackoff_factor\u001b[49m\u001b[43m,\u001b[49m\n\u001b[0;32m    134\u001b[0m \u001b[43m        \u001b[49m\u001b[43mbackoff_jitter\u001b[49m\u001b[43m,\u001b[49m\n\u001b[0;32m    135\u001b[0m \u001b[43m        \u001b[49m\u001b[43mretry_codes\u001b[49m\u001b[43m,\u001b[49m\n\u001b[0;32m    136\u001b[0m \u001b[43m        \u001b[49m\u001b[43mraise_on_status\u001b[49m\u001b[43m,\u001b[49m\n\u001b[0;32m    137\u001b[0m \u001b[43m        \u001b[49m\u001b[43mheaders\u001b[49m\u001b[38;5;241;43m=\u001b[39;49m\u001b[43mheaders\u001b[49m\u001b[43m,\u001b[49m\n\u001b[0;32m    138\u001b[0m \u001b[43m        \u001b[49m\u001b[43mverify\u001b[49m\u001b[38;5;241;43m=\u001b[39;49m\u001b[43mhost_creds\u001b[49m\u001b[38;5;241;43m.\u001b[39;49m\u001b[43mverify\u001b[49m\u001b[43m,\u001b[49m\n\u001b[0;32m    139\u001b[0m \u001b[43m        \u001b[49m\u001b[43mtimeout\u001b[49m\u001b[38;5;241;43m=\u001b[39;49m\u001b[43mtimeout\u001b[49m\u001b[43m,\u001b[49m\n\u001b[0;32m    140\u001b[0m \u001b[43m        \u001b[49m\u001b[43mrespect_retry_after_header\u001b[49m\u001b[38;5;241;43m=\u001b[39;49m\u001b[43mrespect_retry_after_header\u001b[49m\u001b[43m,\u001b[49m\n\u001b[0;32m    141\u001b[0m \u001b[43m        \u001b[49m\u001b[38;5;241;43m*\u001b[39;49m\u001b[38;5;241;43m*\u001b[39;49m\u001b[43mkwargs\u001b[49m\u001b[43m,\u001b[49m\n\u001b[0;32m    142\u001b[0m \u001b[43m    \u001b[49m\u001b[43m)\u001b[49m\n\u001b[0;32m    143\u001b[0m \u001b[38;5;28;01mexcept\u001b[39;00m requests\u001b[38;5;241m.\u001b[39mexceptions\u001b[38;5;241m.\u001b[39mTimeout \u001b[38;5;28;01mas\u001b[39;00m to:\n",
      "File \u001b[1;32md:\\Cin\\Ciencia-de-Dados-Projeto-1\\venv\\Lib\\site-packages\\mlflow\\utils\\request_utils.py:237\u001b[0m, in \u001b[0;36m_get_http_response_with_retries\u001b[1;34m(method, url, max_retries, backoff_factor, backoff_jitter, retry_codes, raise_on_status, allow_redirects, respect_retry_after_header, **kwargs)\u001b[0m\n\u001b[0;32m    235\u001b[0m allow_redirects \u001b[38;5;241m=\u001b[39m env_value \u001b[38;5;28;01mif\u001b[39;00m allow_redirects \u001b[38;5;129;01mis\u001b[39;00m \u001b[38;5;28;01mNone\u001b[39;00m \u001b[38;5;28;01melse\u001b[39;00m allow_redirects\n\u001b[1;32m--> 237\u001b[0m \u001b[38;5;28;01mreturn\u001b[39;00m \u001b[43msession\u001b[49m\u001b[38;5;241;43m.\u001b[39;49m\u001b[43mrequest\u001b[49m\u001b[43m(\u001b[49m\u001b[43mmethod\u001b[49m\u001b[43m,\u001b[49m\u001b[43m \u001b[49m\u001b[43murl\u001b[49m\u001b[43m,\u001b[49m\u001b[43m \u001b[49m\u001b[43mallow_redirects\u001b[49m\u001b[38;5;241;43m=\u001b[39;49m\u001b[43mallow_redirects\u001b[49m\u001b[43m,\u001b[49m\u001b[43m \u001b[49m\u001b[38;5;241;43m*\u001b[39;49m\u001b[38;5;241;43m*\u001b[39;49m\u001b[43mkwargs\u001b[49m\u001b[43m)\u001b[49m\n",
      "File \u001b[1;32md:\\Cin\\Ciencia-de-Dados-Projeto-1\\venv\\Lib\\site-packages\\requests\\sessions.py:589\u001b[0m, in \u001b[0;36mSession.request\u001b[1;34m(self, method, url, params, data, headers, cookies, files, auth, timeout, allow_redirects, proxies, hooks, stream, verify, cert, json)\u001b[0m\n\u001b[0;32m    588\u001b[0m send_kwargs\u001b[38;5;241m.\u001b[39mupdate(settings)\n\u001b[1;32m--> 589\u001b[0m resp \u001b[38;5;241m=\u001b[39m \u001b[38;5;28;43mself\u001b[39;49m\u001b[38;5;241;43m.\u001b[39;49m\u001b[43msend\u001b[49m\u001b[43m(\u001b[49m\u001b[43mprep\u001b[49m\u001b[43m,\u001b[49m\u001b[43m \u001b[49m\u001b[38;5;241;43m*\u001b[39;49m\u001b[38;5;241;43m*\u001b[39;49m\u001b[43msend_kwargs\u001b[49m\u001b[43m)\u001b[49m\n\u001b[0;32m    591\u001b[0m \u001b[38;5;28;01mreturn\u001b[39;00m resp\n",
      "File \u001b[1;32md:\\Cin\\Ciencia-de-Dados-Projeto-1\\venv\\Lib\\site-packages\\requests\\sessions.py:703\u001b[0m, in \u001b[0;36mSession.send\u001b[1;34m(self, request, **kwargs)\u001b[0m\n\u001b[0;32m    702\u001b[0m \u001b[38;5;66;03m# Send the request\u001b[39;00m\n\u001b[1;32m--> 703\u001b[0m r \u001b[38;5;241m=\u001b[39m \u001b[43madapter\u001b[49m\u001b[38;5;241;43m.\u001b[39;49m\u001b[43msend\u001b[49m\u001b[43m(\u001b[49m\u001b[43mrequest\u001b[49m\u001b[43m,\u001b[49m\u001b[43m \u001b[49m\u001b[38;5;241;43m*\u001b[39;49m\u001b[38;5;241;43m*\u001b[39;49m\u001b[43mkwargs\u001b[49m\u001b[43m)\u001b[49m\n\u001b[0;32m    705\u001b[0m \u001b[38;5;66;03m# Total elapsed time of the request (approximately)\u001b[39;00m\n",
      "File \u001b[1;32md:\\Cin\\Ciencia-de-Dados-Projeto-1\\venv\\Lib\\site-packages\\requests\\adapters.py:700\u001b[0m, in \u001b[0;36mHTTPAdapter.send\u001b[1;34m(self, request, stream, timeout, verify, cert, proxies)\u001b[0m\n\u001b[0;32m    698\u001b[0m         \u001b[38;5;28;01mraise\u001b[39;00m SSLError(e, request\u001b[38;5;241m=\u001b[39mrequest)\n\u001b[1;32m--> 700\u001b[0m     \u001b[38;5;28;01mraise\u001b[39;00m \u001b[38;5;167;01mConnectionError\u001b[39;00m(e, request\u001b[38;5;241m=\u001b[39mrequest)\n\u001b[0;32m    702\u001b[0m \u001b[38;5;28;01mexcept\u001b[39;00m ClosedPoolError \u001b[38;5;28;01mas\u001b[39;00m e:\n",
      "\u001b[1;31mConnectionError\u001b[0m: HTTPConnectionPool(host='localhost', port=5000): Max retries exceeded with url: /api/2.0/mlflow/runs/create (Caused by NewConnectionError('<urllib3.connection.HTTPConnection object at 0x000001A87DA027D0>: Failed to establish a new connection: [WinError 10061] Nenhuma conexão pôde ser feita porque a máquina de destino as recusou ativamente'))",
      "\nDuring handling of the above exception, another exception occurred:\n",
      "\u001b[1;31mMlflowException\u001b[0m                           Traceback (most recent call last)",
      "Cell \u001b[1;32mIn[17], line 2\u001b[0m\n\u001b[0;32m      1\u001b[0m rf_study \u001b[38;5;241m=\u001b[39m optuna\u001b[38;5;241m.\u001b[39mcreate_study( study_name\u001b[38;5;241m=\u001b[39m\u001b[38;5;124m\"\u001b[39m\u001b[38;5;124mStudy for random forest regressor\u001b[39m\u001b[38;5;124m\"\u001b[39m, direction\u001b[38;5;241m=\u001b[39m\u001b[38;5;124m\"\u001b[39m\u001b[38;5;124mmaximize\u001b[39m\u001b[38;5;124m\"\u001b[39m)\n\u001b[1;32m----> 2\u001b[0m \u001b[43mrf_study\u001b[49m\u001b[38;5;241;43m.\u001b[39;49m\u001b[43moptimize\u001b[49m\u001b[43m(\u001b[49m\u001b[43mobjective_rf\u001b[49m\u001b[43m,\u001b[49m\u001b[43m \u001b[49m\u001b[43mn_trials\u001b[49m\u001b[38;5;241;43m=\u001b[39;49m\u001b[38;5;241;43m10\u001b[39;49m\u001b[43m)\u001b[49m\n\u001b[0;32m      3\u001b[0m \u001b[38;5;28mprint\u001b[39m(\u001b[38;5;124mf\u001b[39m\u001b[38;5;124m'\u001b[39m\u001b[38;5;130;01m\\n\u001b[39;00m\u001b[38;5;124mBest trial: \u001b[39m\u001b[38;5;132;01m{\u001b[39;00mrf_study\u001b[38;5;241m.\u001b[39mbest_trial\u001b[38;5;132;01m}\u001b[39;00m\u001b[38;5;124m'\u001b[39m)\n",
      "File \u001b[1;32md:\\Cin\\Ciencia-de-Dados-Projeto-1\\venv\\Lib\\site-packages\\optuna\\study\\study.py:451\u001b[0m, in \u001b[0;36mStudy.optimize\u001b[1;34m(self, func, n_trials, timeout, n_jobs, catch, callbacks, gc_after_trial, show_progress_bar)\u001b[0m\n\u001b[0;32m    348\u001b[0m \u001b[38;5;28;01mdef\u001b[39;00m \u001b[38;5;21moptimize\u001b[39m(\n\u001b[0;32m    349\u001b[0m     \u001b[38;5;28mself\u001b[39m,\n\u001b[0;32m    350\u001b[0m     func: ObjectiveFuncType,\n\u001b[1;32m   (...)\u001b[0m\n\u001b[0;32m    357\u001b[0m     show_progress_bar: \u001b[38;5;28mbool\u001b[39m \u001b[38;5;241m=\u001b[39m \u001b[38;5;28;01mFalse\u001b[39;00m,\n\u001b[0;32m    358\u001b[0m ) \u001b[38;5;241m-\u001b[39m\u001b[38;5;241m>\u001b[39m \u001b[38;5;28;01mNone\u001b[39;00m:\n\u001b[0;32m    359\u001b[0m \u001b[38;5;250m    \u001b[39m\u001b[38;5;124;03m\"\"\"Optimize an objective function.\u001b[39;00m\n\u001b[0;32m    360\u001b[0m \n\u001b[0;32m    361\u001b[0m \u001b[38;5;124;03m    Optimization is done by choosing a suitable set of hyperparameter values from a given\u001b[39;00m\n\u001b[1;32m   (...)\u001b[0m\n\u001b[0;32m    449\u001b[0m \u001b[38;5;124;03m            If nested invocation of this method occurs.\u001b[39;00m\n\u001b[0;32m    450\u001b[0m \u001b[38;5;124;03m    \"\"\"\u001b[39;00m\n\u001b[1;32m--> 451\u001b[0m     \u001b[43m_optimize\u001b[49m\u001b[43m(\u001b[49m\n\u001b[0;32m    452\u001b[0m \u001b[43m        \u001b[49m\u001b[43mstudy\u001b[49m\u001b[38;5;241;43m=\u001b[39;49m\u001b[38;5;28;43mself\u001b[39;49m\u001b[43m,\u001b[49m\n\u001b[0;32m    453\u001b[0m \u001b[43m        \u001b[49m\u001b[43mfunc\u001b[49m\u001b[38;5;241;43m=\u001b[39;49m\u001b[43mfunc\u001b[49m\u001b[43m,\u001b[49m\n\u001b[0;32m    454\u001b[0m \u001b[43m        \u001b[49m\u001b[43mn_trials\u001b[49m\u001b[38;5;241;43m=\u001b[39;49m\u001b[43mn_trials\u001b[49m\u001b[43m,\u001b[49m\n\u001b[0;32m    455\u001b[0m \u001b[43m        \u001b[49m\u001b[43mtimeout\u001b[49m\u001b[38;5;241;43m=\u001b[39;49m\u001b[43mtimeout\u001b[49m\u001b[43m,\u001b[49m\n\u001b[0;32m    456\u001b[0m \u001b[43m        \u001b[49m\u001b[43mn_jobs\u001b[49m\u001b[38;5;241;43m=\u001b[39;49m\u001b[43mn_jobs\u001b[49m\u001b[43m,\u001b[49m\n\u001b[0;32m    457\u001b[0m \u001b[43m        \u001b[49m\u001b[43mcatch\u001b[49m\u001b[38;5;241;43m=\u001b[39;49m\u001b[38;5;28;43mtuple\u001b[39;49m\u001b[43m(\u001b[49m\u001b[43mcatch\u001b[49m\u001b[43m)\u001b[49m\u001b[43m \u001b[49m\u001b[38;5;28;43;01mif\u001b[39;49;00m\u001b[43m \u001b[49m\u001b[38;5;28;43misinstance\u001b[39;49m\u001b[43m(\u001b[49m\u001b[43mcatch\u001b[49m\u001b[43m,\u001b[49m\u001b[43m \u001b[49m\u001b[43mIterable\u001b[49m\u001b[43m)\u001b[49m\u001b[43m \u001b[49m\u001b[38;5;28;43;01melse\u001b[39;49;00m\u001b[43m \u001b[49m\u001b[43m(\u001b[49m\u001b[43mcatch\u001b[49m\u001b[43m,\u001b[49m\u001b[43m)\u001b[49m\u001b[43m,\u001b[49m\n\u001b[0;32m    458\u001b[0m \u001b[43m        \u001b[49m\u001b[43mcallbacks\u001b[49m\u001b[38;5;241;43m=\u001b[39;49m\u001b[43mcallbacks\u001b[49m\u001b[43m,\u001b[49m\n\u001b[0;32m    459\u001b[0m \u001b[43m        \u001b[49m\u001b[43mgc_after_trial\u001b[49m\u001b[38;5;241;43m=\u001b[39;49m\u001b[43mgc_after_trial\u001b[49m\u001b[43m,\u001b[49m\n\u001b[0;32m    460\u001b[0m \u001b[43m        \u001b[49m\u001b[43mshow_progress_bar\u001b[49m\u001b[38;5;241;43m=\u001b[39;49m\u001b[43mshow_progress_bar\u001b[49m\u001b[43m,\u001b[49m\n\u001b[0;32m    461\u001b[0m \u001b[43m    \u001b[49m\u001b[43m)\u001b[49m\n",
      "File \u001b[1;32md:\\Cin\\Ciencia-de-Dados-Projeto-1\\venv\\Lib\\site-packages\\optuna\\study\\_optimize.py:62\u001b[0m, in \u001b[0;36m_optimize\u001b[1;34m(study, func, n_trials, timeout, n_jobs, catch, callbacks, gc_after_trial, show_progress_bar)\u001b[0m\n\u001b[0;32m     60\u001b[0m \u001b[38;5;28;01mtry\u001b[39;00m:\n\u001b[0;32m     61\u001b[0m     \u001b[38;5;28;01mif\u001b[39;00m n_jobs \u001b[38;5;241m==\u001b[39m \u001b[38;5;241m1\u001b[39m:\n\u001b[1;32m---> 62\u001b[0m         \u001b[43m_optimize_sequential\u001b[49m\u001b[43m(\u001b[49m\n\u001b[0;32m     63\u001b[0m \u001b[43m            \u001b[49m\u001b[43mstudy\u001b[49m\u001b[43m,\u001b[49m\n\u001b[0;32m     64\u001b[0m \u001b[43m            \u001b[49m\u001b[43mfunc\u001b[49m\u001b[43m,\u001b[49m\n\u001b[0;32m     65\u001b[0m \u001b[43m            \u001b[49m\u001b[43mn_trials\u001b[49m\u001b[43m,\u001b[49m\n\u001b[0;32m     66\u001b[0m \u001b[43m            \u001b[49m\u001b[43mtimeout\u001b[49m\u001b[43m,\u001b[49m\n\u001b[0;32m     67\u001b[0m \u001b[43m            \u001b[49m\u001b[43mcatch\u001b[49m\u001b[43m,\u001b[49m\n\u001b[0;32m     68\u001b[0m \u001b[43m            \u001b[49m\u001b[43mcallbacks\u001b[49m\u001b[43m,\u001b[49m\n\u001b[0;32m     69\u001b[0m \u001b[43m            \u001b[49m\u001b[43mgc_after_trial\u001b[49m\u001b[43m,\u001b[49m\n\u001b[0;32m     70\u001b[0m \u001b[43m            \u001b[49m\u001b[43mreseed_sampler_rng\u001b[49m\u001b[38;5;241;43m=\u001b[39;49m\u001b[38;5;28;43;01mFalse\u001b[39;49;00m\u001b[43m,\u001b[49m\n\u001b[0;32m     71\u001b[0m \u001b[43m            \u001b[49m\u001b[43mtime_start\u001b[49m\u001b[38;5;241;43m=\u001b[39;49m\u001b[38;5;28;43;01mNone\u001b[39;49;00m\u001b[43m,\u001b[49m\n\u001b[0;32m     72\u001b[0m \u001b[43m            \u001b[49m\u001b[43mprogress_bar\u001b[49m\u001b[38;5;241;43m=\u001b[39;49m\u001b[43mprogress_bar\u001b[49m\u001b[43m,\u001b[49m\n\u001b[0;32m     73\u001b[0m \u001b[43m        \u001b[49m\u001b[43m)\u001b[49m\n\u001b[0;32m     74\u001b[0m     \u001b[38;5;28;01melse\u001b[39;00m:\n\u001b[0;32m     75\u001b[0m         \u001b[38;5;28;01mif\u001b[39;00m n_jobs \u001b[38;5;241m==\u001b[39m \u001b[38;5;241m-\u001b[39m\u001b[38;5;241m1\u001b[39m:\n",
      "File \u001b[1;32md:\\Cin\\Ciencia-de-Dados-Projeto-1\\venv\\Lib\\site-packages\\optuna\\study\\_optimize.py:159\u001b[0m, in \u001b[0;36m_optimize_sequential\u001b[1;34m(study, func, n_trials, timeout, catch, callbacks, gc_after_trial, reseed_sampler_rng, time_start, progress_bar)\u001b[0m\n\u001b[0;32m    156\u001b[0m         \u001b[38;5;28;01mbreak\u001b[39;00m\n\u001b[0;32m    158\u001b[0m \u001b[38;5;28;01mtry\u001b[39;00m:\n\u001b[1;32m--> 159\u001b[0m     frozen_trial \u001b[38;5;241m=\u001b[39m \u001b[43m_run_trial\u001b[49m\u001b[43m(\u001b[49m\u001b[43mstudy\u001b[49m\u001b[43m,\u001b[49m\u001b[43m \u001b[49m\u001b[43mfunc\u001b[49m\u001b[43m,\u001b[49m\u001b[43m \u001b[49m\u001b[43mcatch\u001b[49m\u001b[43m)\u001b[49m\n\u001b[0;32m    160\u001b[0m \u001b[38;5;28;01mfinally\u001b[39;00m:\n\u001b[0;32m    161\u001b[0m     \u001b[38;5;66;03m# The following line mitigates memory problems that can be occurred in some\u001b[39;00m\n\u001b[0;32m    162\u001b[0m     \u001b[38;5;66;03m# environments (e.g., services that use computing containers such as GitHub Actions).\u001b[39;00m\n\u001b[0;32m    163\u001b[0m     \u001b[38;5;66;03m# Please refer to the following PR for further details:\u001b[39;00m\n\u001b[0;32m    164\u001b[0m     \u001b[38;5;66;03m# https://github.com/optuna/optuna/pull/325.\u001b[39;00m\n\u001b[0;32m    165\u001b[0m     \u001b[38;5;28;01mif\u001b[39;00m gc_after_trial:\n",
      "File \u001b[1;32md:\\Cin\\Ciencia-de-Dados-Projeto-1\\venv\\Lib\\site-packages\\optuna\\study\\_optimize.py:247\u001b[0m, in \u001b[0;36m_run_trial\u001b[1;34m(study, func, catch)\u001b[0m\n\u001b[0;32m    240\u001b[0m         \u001b[38;5;28;01massert\u001b[39;00m \u001b[38;5;28;01mFalse\u001b[39;00m, \u001b[38;5;124m\"\u001b[39m\u001b[38;5;124mShould not reach.\u001b[39m\u001b[38;5;124m\"\u001b[39m\n\u001b[0;32m    242\u001b[0m \u001b[38;5;28;01mif\u001b[39;00m (\n\u001b[0;32m    243\u001b[0m     frozen_trial\u001b[38;5;241m.\u001b[39mstate \u001b[38;5;241m==\u001b[39m TrialState\u001b[38;5;241m.\u001b[39mFAIL\n\u001b[0;32m    244\u001b[0m     \u001b[38;5;129;01mand\u001b[39;00m func_err \u001b[38;5;129;01mis\u001b[39;00m \u001b[38;5;129;01mnot\u001b[39;00m \u001b[38;5;28;01mNone\u001b[39;00m\n\u001b[0;32m    245\u001b[0m     \u001b[38;5;129;01mand\u001b[39;00m \u001b[38;5;129;01mnot\u001b[39;00m \u001b[38;5;28misinstance\u001b[39m(func_err, catch)\n\u001b[0;32m    246\u001b[0m ):\n\u001b[1;32m--> 247\u001b[0m     \u001b[38;5;28;01mraise\u001b[39;00m func_err\n\u001b[0;32m    248\u001b[0m \u001b[38;5;28;01mreturn\u001b[39;00m frozen_trial\n",
      "File \u001b[1;32md:\\Cin\\Ciencia-de-Dados-Projeto-1\\venv\\Lib\\site-packages\\optuna\\study\\_optimize.py:196\u001b[0m, in \u001b[0;36m_run_trial\u001b[1;34m(study, func, catch)\u001b[0m\n\u001b[0;32m    194\u001b[0m \u001b[38;5;28;01mwith\u001b[39;00m get_heartbeat_thread(trial\u001b[38;5;241m.\u001b[39m_trial_id, study\u001b[38;5;241m.\u001b[39m_storage):\n\u001b[0;32m    195\u001b[0m     \u001b[38;5;28;01mtry\u001b[39;00m:\n\u001b[1;32m--> 196\u001b[0m         value_or_values \u001b[38;5;241m=\u001b[39m \u001b[43mfunc\u001b[49m\u001b[43m(\u001b[49m\u001b[43mtrial\u001b[49m\u001b[43m)\u001b[49m\n\u001b[0;32m    197\u001b[0m     \u001b[38;5;28;01mexcept\u001b[39;00m exceptions\u001b[38;5;241m.\u001b[39mTrialPruned \u001b[38;5;28;01mas\u001b[39;00m e:\n\u001b[0;32m    198\u001b[0m         \u001b[38;5;66;03m# TODO(mamu): Handle multi-objective cases.\u001b[39;00m\n\u001b[0;32m    199\u001b[0m         state \u001b[38;5;241m=\u001b[39m TrialState\u001b[38;5;241m.\u001b[39mPRUNED\n",
      "Cell \u001b[1;32mIn[16], line 14\u001b[0m, in \u001b[0;36mobjective_rf\u001b[1;34m(trial)\u001b[0m\n\u001b[0;32m      7\u001b[0m rf_reg_obj \u001b[38;5;241m=\u001b[39m RandomForestRegressor(\n\u001b[0;32m      8\u001b[0m     n_estimators\u001b[38;5;241m=\u001b[39mn_estimators, criterion\u001b[38;5;241m=\u001b[39mcriterion, min_samples_split\u001b[38;5;241m=\u001b[39mmin_samples_split, min_samples_leaf\u001b[38;5;241m=\u001b[39mmin_samples_leaf, \n\u001b[0;32m      9\u001b[0m     random_state\u001b[38;5;241m=\u001b[39m\u001b[38;5;241m9\u001b[39m\n\u001b[0;32m     10\u001b[0m )\n\u001b[0;32m     12\u001b[0m rf_reg_obj\u001b[38;5;241m.\u001b[39mfit(X_train, y_train)\n\u001b[1;32m---> 14\u001b[0m \u001b[43mmlflow\u001b[49m\u001b[38;5;241;43m.\u001b[39;49m\u001b[43mlog_param\u001b[49m\u001b[43m(\u001b[49m\u001b[38;5;124;43m\"\u001b[39;49m\u001b[38;5;124;43mmodel_type\u001b[39;49m\u001b[38;5;124;43m\"\u001b[39;49m\u001b[43m,\u001b[49m\u001b[43m \u001b[49m\u001b[38;5;124;43m\"\u001b[39;49m\u001b[38;5;124;43mRandom Forest\u001b[39;49m\u001b[38;5;124;43m\"\u001b[39;49m\u001b[43m)\u001b[49m\n\u001b[0;32m     15\u001b[0m mlflow\u001b[38;5;241m.\u001b[39mlog_metric(\u001b[38;5;124m\"\u001b[39m\u001b[38;5;124mmse\u001b[39m\u001b[38;5;124m\"\u001b[39m, rf_reg_obj\u001b[38;5;241m.\u001b[39mscore(X_val, y_val))\n\u001b[0;32m     16\u001b[0m \u001b[38;5;28;01mfor\u001b[39;00m param \u001b[38;5;129;01min\u001b[39;00m trial\u001b[38;5;241m.\u001b[39mparams:\n",
      "File \u001b[1;32md:\\Cin\\Ciencia-de-Dados-Projeto-1\\venv\\Lib\\site-packages\\mlflow\\tracking\\fluent.py:660\u001b[0m, in \u001b[0;36mlog_param\u001b[1;34m(key, value, synchronous)\u001b[0m\n\u001b[0;32m    628\u001b[0m \u001b[38;5;28;01mdef\u001b[39;00m \u001b[38;5;21mlog_param\u001b[39m(key: \u001b[38;5;28mstr\u001b[39m, value: Any, synchronous: Optional[\u001b[38;5;28mbool\u001b[39m] \u001b[38;5;241m=\u001b[39m \u001b[38;5;28;01mNone\u001b[39;00m) \u001b[38;5;241m-\u001b[39m\u001b[38;5;241m>\u001b[39m Any:\n\u001b[0;32m    629\u001b[0m \u001b[38;5;250m    \u001b[39m\u001b[38;5;124;03m\"\"\"\u001b[39;00m\n\u001b[0;32m    630\u001b[0m \u001b[38;5;124;03m    Log a parameter (e.g. model hyperparameter) under the current run. If no run is active,\u001b[39;00m\n\u001b[0;32m    631\u001b[0m \u001b[38;5;124;03m    this method will create a new active run.\u001b[39;00m\n\u001b[1;32m   (...)\u001b[0m\n\u001b[0;32m    658\u001b[0m \u001b[38;5;124;03m            value = mlflow.log_param(\"learning_rate\", 0.02, synchronous=False)\u001b[39;00m\n\u001b[0;32m    659\u001b[0m \u001b[38;5;124;03m    \"\"\"\u001b[39;00m\n\u001b[1;32m--> 660\u001b[0m     run_id \u001b[38;5;241m=\u001b[39m \u001b[43m_get_or_start_run\u001b[49m\u001b[43m(\u001b[49m\u001b[43m)\u001b[49m\u001b[38;5;241m.\u001b[39minfo\u001b[38;5;241m.\u001b[39mrun_id\n\u001b[0;32m    661\u001b[0m     synchronous \u001b[38;5;241m=\u001b[39m synchronous \u001b[38;5;28;01mif\u001b[39;00m synchronous \u001b[38;5;129;01mis\u001b[39;00m \u001b[38;5;129;01mnot\u001b[39;00m \u001b[38;5;28;01mNone\u001b[39;00m \u001b[38;5;28;01melse\u001b[39;00m \u001b[38;5;129;01mnot\u001b[39;00m MLFLOW_ENABLE_ASYNC_LOGGING\u001b[38;5;241m.\u001b[39mget()\n\u001b[0;32m    662\u001b[0m     \u001b[38;5;28;01mreturn\u001b[39;00m MlflowClient()\u001b[38;5;241m.\u001b[39mlog_param(run_id, key, value, synchronous\u001b[38;5;241m=\u001b[39msynchronous)\n",
      "File \u001b[1;32md:\\Cin\\Ciencia-de-Dados-Projeto-1\\venv\\Lib\\site-packages\\mlflow\\tracking\\fluent.py:2065\u001b[0m, in \u001b[0;36m_get_or_start_run\u001b[1;34m()\u001b[0m\n\u001b[0;32m   2063\u001b[0m \u001b[38;5;28;01mif\u001b[39;00m \u001b[38;5;28mlen\u001b[39m(_active_run_stack) \u001b[38;5;241m>\u001b[39m \u001b[38;5;241m0\u001b[39m:\n\u001b[0;32m   2064\u001b[0m     \u001b[38;5;28;01mreturn\u001b[39;00m _active_run_stack[\u001b[38;5;241m-\u001b[39m\u001b[38;5;241m1\u001b[39m]\n\u001b[1;32m-> 2065\u001b[0m \u001b[38;5;28;01mreturn\u001b[39;00m \u001b[43mstart_run\u001b[49m\u001b[43m(\u001b[49m\u001b[43m)\u001b[49m\n",
      "File \u001b[1;32md:\\Cin\\Ciencia-de-Dados-Projeto-1\\venv\\Lib\\site-packages\\mlflow\\tracking\\fluent.py:382\u001b[0m, in \u001b[0;36mstart_run\u001b[1;34m(run_id, experiment_id, run_name, nested, tags, description, log_system_metrics)\u001b[0m\n\u001b[0;32m    378\u001b[0m         user_specified_tags[MLFLOW_RUN_NAME] \u001b[38;5;241m=\u001b[39m run_name\n\u001b[0;32m    380\u001b[0m     resolved_tags \u001b[38;5;241m=\u001b[39m context_registry\u001b[38;5;241m.\u001b[39mresolve_tags(user_specified_tags)\n\u001b[1;32m--> 382\u001b[0m     active_run_obj \u001b[38;5;241m=\u001b[39m \u001b[43mclient\u001b[49m\u001b[38;5;241;43m.\u001b[39;49m\u001b[43mcreate_run\u001b[49m\u001b[43m(\u001b[49m\n\u001b[0;32m    383\u001b[0m \u001b[43m        \u001b[49m\u001b[43mexperiment_id\u001b[49m\u001b[38;5;241;43m=\u001b[39;49m\u001b[43mexp_id_for_run\u001b[49m\u001b[43m,\u001b[49m\n\u001b[0;32m    384\u001b[0m \u001b[43m        \u001b[49m\u001b[43mtags\u001b[49m\u001b[38;5;241;43m=\u001b[39;49m\u001b[43mresolved_tags\u001b[49m\u001b[43m,\u001b[49m\n\u001b[0;32m    385\u001b[0m \u001b[43m        \u001b[49m\u001b[43mrun_name\u001b[49m\u001b[38;5;241;43m=\u001b[39;49m\u001b[43mrun_name\u001b[49m\u001b[43m,\u001b[49m\n\u001b[0;32m    386\u001b[0m \u001b[43m    \u001b[49m\u001b[43m)\u001b[49m\n\u001b[0;32m    388\u001b[0m \u001b[38;5;28;01mif\u001b[39;00m log_system_metrics \u001b[38;5;129;01mis\u001b[39;00m \u001b[38;5;28;01mNone\u001b[39;00m:\n\u001b[0;32m    389\u001b[0m     \u001b[38;5;66;03m# If `log_system_metrics` is not specified, we will check environment variable.\u001b[39;00m\n\u001b[0;32m    390\u001b[0m     log_system_metrics \u001b[38;5;241m=\u001b[39m MLFLOW_ENABLE_SYSTEM_METRICS_LOGGING\u001b[38;5;241m.\u001b[39mget()\n",
      "File \u001b[1;32md:\\Cin\\Ciencia-de-Dados-Projeto-1\\venv\\Lib\\site-packages\\mlflow\\tracking\\client.py:393\u001b[0m, in \u001b[0;36mMlflowClient.create_run\u001b[1;34m(self, experiment_id, start_time, tags, run_name)\u001b[0m\n\u001b[0;32m    339\u001b[0m \u001b[38;5;28;01mdef\u001b[39;00m \u001b[38;5;21mcreate_run\u001b[39m(\n\u001b[0;32m    340\u001b[0m     \u001b[38;5;28mself\u001b[39m,\n\u001b[0;32m    341\u001b[0m     experiment_id: \u001b[38;5;28mstr\u001b[39m,\n\u001b[1;32m   (...)\u001b[0m\n\u001b[0;32m    344\u001b[0m     run_name: Optional[\u001b[38;5;28mstr\u001b[39m] \u001b[38;5;241m=\u001b[39m \u001b[38;5;28;01mNone\u001b[39;00m,\n\u001b[0;32m    345\u001b[0m ) \u001b[38;5;241m-\u001b[39m\u001b[38;5;241m>\u001b[39m Run:\n\u001b[0;32m    346\u001b[0m \u001b[38;5;250m    \u001b[39m\u001b[38;5;124;03m\"\"\"\u001b[39;00m\n\u001b[0;32m    347\u001b[0m \u001b[38;5;124;03m    Create a :py:class:`mlflow.entities.Run` object that can be associated with\u001b[39;00m\n\u001b[0;32m    348\u001b[0m \u001b[38;5;124;03m    metrics, parameters, artifacts, etc.\u001b[39;00m\n\u001b[1;32m   (...)\u001b[0m\n\u001b[0;32m    391\u001b[0m \u001b[38;5;124;03m        status: RUNNING\u001b[39;00m\n\u001b[0;32m    392\u001b[0m \u001b[38;5;124;03m    \"\"\"\u001b[39;00m\n\u001b[1;32m--> 393\u001b[0m     \u001b[38;5;28;01mreturn\u001b[39;00m \u001b[38;5;28;43mself\u001b[39;49m\u001b[38;5;241;43m.\u001b[39;49m\u001b[43m_tracking_client\u001b[49m\u001b[38;5;241;43m.\u001b[39;49m\u001b[43mcreate_run\u001b[49m\u001b[43m(\u001b[49m\u001b[43mexperiment_id\u001b[49m\u001b[43m,\u001b[49m\u001b[43m \u001b[49m\u001b[43mstart_time\u001b[49m\u001b[43m,\u001b[49m\u001b[43m \u001b[49m\u001b[43mtags\u001b[49m\u001b[43m,\u001b[49m\u001b[43m \u001b[49m\u001b[43mrun_name\u001b[49m\u001b[43m)\u001b[49m\n",
      "File \u001b[1;32md:\\Cin\\Ciencia-de-Dados-Projeto-1\\venv\\Lib\\site-packages\\mlflow\\tracking\\_tracking_service\\client.py:165\u001b[0m, in \u001b[0;36mTrackingServiceClient.create_run\u001b[1;34m(self, experiment_id, start_time, tags, run_name)\u001b[0m\n\u001b[0;32m    160\u001b[0m \u001b[38;5;66;03m# Extract user from tags\u001b[39;00m\n\u001b[0;32m    161\u001b[0m \u001b[38;5;66;03m# This logic is temporary; the user_id attribute of runs is deprecated and will be removed\u001b[39;00m\n\u001b[0;32m    162\u001b[0m \u001b[38;5;66;03m# in a later release.\u001b[39;00m\n\u001b[0;32m    163\u001b[0m user_id \u001b[38;5;241m=\u001b[39m tags\u001b[38;5;241m.\u001b[39mget(MLFLOW_USER, \u001b[38;5;124m\"\u001b[39m\u001b[38;5;124munknown\u001b[39m\u001b[38;5;124m\"\u001b[39m)\n\u001b[1;32m--> 165\u001b[0m \u001b[38;5;28;01mreturn\u001b[39;00m \u001b[38;5;28;43mself\u001b[39;49m\u001b[38;5;241;43m.\u001b[39;49m\u001b[43mstore\u001b[49m\u001b[38;5;241;43m.\u001b[39;49m\u001b[43mcreate_run\u001b[49m\u001b[43m(\u001b[49m\n\u001b[0;32m    166\u001b[0m \u001b[43m    \u001b[49m\u001b[43mexperiment_id\u001b[49m\u001b[38;5;241;43m=\u001b[39;49m\u001b[43mexperiment_id\u001b[49m\u001b[43m,\u001b[49m\n\u001b[0;32m    167\u001b[0m \u001b[43m    \u001b[49m\u001b[43muser_id\u001b[49m\u001b[38;5;241;43m=\u001b[39;49m\u001b[43muser_id\u001b[49m\u001b[43m,\u001b[49m\n\u001b[0;32m    168\u001b[0m \u001b[43m    \u001b[49m\u001b[43mstart_time\u001b[49m\u001b[38;5;241;43m=\u001b[39;49m\u001b[43mstart_time\u001b[49m\u001b[43m \u001b[49m\u001b[38;5;129;43;01mor\u001b[39;49;00m\u001b[43m \u001b[49m\u001b[43mget_current_time_millis\u001b[49m\u001b[43m(\u001b[49m\u001b[43m)\u001b[49m\u001b[43m,\u001b[49m\n\u001b[0;32m    169\u001b[0m \u001b[43m    \u001b[49m\u001b[43mtags\u001b[49m\u001b[38;5;241;43m=\u001b[39;49m\u001b[43m[\u001b[49m\u001b[43mRunTag\u001b[49m\u001b[43m(\u001b[49m\u001b[43mkey\u001b[49m\u001b[43m,\u001b[49m\u001b[43m \u001b[49m\u001b[43mvalue\u001b[49m\u001b[43m)\u001b[49m\u001b[43m \u001b[49m\u001b[38;5;28;43;01mfor\u001b[39;49;00m\u001b[43m \u001b[49m\u001b[43m(\u001b[49m\u001b[43mkey\u001b[49m\u001b[43m,\u001b[49m\u001b[43m \u001b[49m\u001b[43mvalue\u001b[49m\u001b[43m)\u001b[49m\u001b[43m \u001b[49m\u001b[38;5;129;43;01min\u001b[39;49;00m\u001b[43m \u001b[49m\u001b[43mtags\u001b[49m\u001b[38;5;241;43m.\u001b[39;49m\u001b[43mitems\u001b[49m\u001b[43m(\u001b[49m\u001b[43m)\u001b[49m\u001b[43m]\u001b[49m\u001b[43m,\u001b[49m\n\u001b[0;32m    170\u001b[0m \u001b[43m    \u001b[49m\u001b[43mrun_name\u001b[49m\u001b[38;5;241;43m=\u001b[39;49m\u001b[43mrun_name\u001b[49m\u001b[43m,\u001b[49m\n\u001b[0;32m    171\u001b[0m \u001b[43m\u001b[49m\u001b[43m)\u001b[49m\n",
      "File \u001b[1;32md:\\Cin\\Ciencia-de-Dados-Projeto-1\\venv\\Lib\\site-packages\\mlflow\\store\\tracking\\rest_store.py:208\u001b[0m, in \u001b[0;36mRestStore.create_run\u001b[1;34m(self, experiment_id, user_id, start_time, tags, run_name)\u001b[0m\n\u001b[0;32m    198\u001b[0m tag_protos \u001b[38;5;241m=\u001b[39m [tag\u001b[38;5;241m.\u001b[39mto_proto() \u001b[38;5;28;01mfor\u001b[39;00m tag \u001b[38;5;129;01min\u001b[39;00m tags]\n\u001b[0;32m    199\u001b[0m req_body \u001b[38;5;241m=\u001b[39m message_to_json(\n\u001b[0;32m    200\u001b[0m     CreateRun(\n\u001b[0;32m    201\u001b[0m         experiment_id\u001b[38;5;241m=\u001b[39m\u001b[38;5;28mstr\u001b[39m(experiment_id),\n\u001b[1;32m   (...)\u001b[0m\n\u001b[0;32m    206\u001b[0m     )\n\u001b[0;32m    207\u001b[0m )\n\u001b[1;32m--> 208\u001b[0m response_proto \u001b[38;5;241m=\u001b[39m \u001b[38;5;28;43mself\u001b[39;49m\u001b[38;5;241;43m.\u001b[39;49m\u001b[43m_call_endpoint\u001b[49m\u001b[43m(\u001b[49m\u001b[43mCreateRun\u001b[49m\u001b[43m,\u001b[49m\u001b[43m \u001b[49m\u001b[43mreq_body\u001b[49m\u001b[43m)\u001b[49m\n\u001b[0;32m    209\u001b[0m \u001b[38;5;28;01mreturn\u001b[39;00m Run\u001b[38;5;241m.\u001b[39mfrom_proto(response_proto\u001b[38;5;241m.\u001b[39mrun)\n",
      "File \u001b[1;32md:\\Cin\\Ciencia-de-Dados-Projeto-1\\venv\\Lib\\site-packages\\mlflow\\store\\tracking\\rest_store.py:81\u001b[0m, in \u001b[0;36mRestStore._call_endpoint\u001b[1;34m(self, api, json_body, endpoint)\u001b[0m\n\u001b[0;32m     79\u001b[0m     endpoint, method \u001b[38;5;241m=\u001b[39m _METHOD_TO_INFO[api]\n\u001b[0;32m     80\u001b[0m response_proto \u001b[38;5;241m=\u001b[39m api\u001b[38;5;241m.\u001b[39mResponse()\n\u001b[1;32m---> 81\u001b[0m \u001b[38;5;28;01mreturn\u001b[39;00m \u001b[43mcall_endpoint\u001b[49m\u001b[43m(\u001b[49m\u001b[38;5;28;43mself\u001b[39;49m\u001b[38;5;241;43m.\u001b[39;49m\u001b[43mget_host_creds\u001b[49m\u001b[43m(\u001b[49m\u001b[43m)\u001b[49m\u001b[43m,\u001b[49m\u001b[43m \u001b[49m\u001b[43mendpoint\u001b[49m\u001b[43m,\u001b[49m\u001b[43m \u001b[49m\u001b[43mmethod\u001b[49m\u001b[43m,\u001b[49m\u001b[43m \u001b[49m\u001b[43mjson_body\u001b[49m\u001b[43m,\u001b[49m\u001b[43m \u001b[49m\u001b[43mresponse_proto\u001b[49m\u001b[43m)\u001b[49m\n",
      "File \u001b[1;32md:\\Cin\\Ciencia-de-Dados-Projeto-1\\venv\\Lib\\site-packages\\mlflow\\utils\\rest_utils.py:302\u001b[0m, in \u001b[0;36mcall_endpoint\u001b[1;34m(host_creds, endpoint, method, json_body, response_proto, extra_headers)\u001b[0m\n\u001b[0;32m    300\u001b[0m \u001b[38;5;28;01melse\u001b[39;00m:\n\u001b[0;32m    301\u001b[0m     call_kwargs[\u001b[38;5;124m\"\u001b[39m\u001b[38;5;124mjson\u001b[39m\u001b[38;5;124m\"\u001b[39m] \u001b[38;5;241m=\u001b[39m json_body\n\u001b[1;32m--> 302\u001b[0m     response \u001b[38;5;241m=\u001b[39m \u001b[43mhttp_request\u001b[49m\u001b[43m(\u001b[49m\u001b[38;5;241;43m*\u001b[39;49m\u001b[38;5;241;43m*\u001b[39;49m\u001b[43mcall_kwargs\u001b[49m\u001b[43m)\u001b[49m\n\u001b[0;32m    304\u001b[0m response \u001b[38;5;241m=\u001b[39m verify_rest_response(response, endpoint)\n\u001b[0;32m    305\u001b[0m js_dict \u001b[38;5;241m=\u001b[39m json\u001b[38;5;241m.\u001b[39mloads(response\u001b[38;5;241m.\u001b[39mtext)\n",
      "File \u001b[1;32md:\\Cin\\Ciencia-de-Dados-Projeto-1\\venv\\Lib\\site-packages\\mlflow\\utils\\rest_utils.py:152\u001b[0m, in \u001b[0;36mhttp_request\u001b[1;34m(host_creds, endpoint, method, max_retries, backoff_factor, backoff_jitter, extra_headers, retry_codes, timeout, raise_on_status, respect_retry_after_header, **kwargs)\u001b[0m\n\u001b[0;32m    150\u001b[0m     \u001b[38;5;28;01mraise\u001b[39;00m InvalidUrlException(\u001b[38;5;124mf\u001b[39m\u001b[38;5;124m\"\u001b[39m\u001b[38;5;124mInvalid url: \u001b[39m\u001b[38;5;132;01m{\u001b[39;00murl\u001b[38;5;132;01m}\u001b[39;00m\u001b[38;5;124m\"\u001b[39m) \u001b[38;5;28;01mfrom\u001b[39;00m \u001b[38;5;21;01miu\u001b[39;00m\n\u001b[0;32m    151\u001b[0m \u001b[38;5;28;01mexcept\u001b[39;00m \u001b[38;5;167;01mException\u001b[39;00m \u001b[38;5;28;01mas\u001b[39;00m e:\n\u001b[1;32m--> 152\u001b[0m     \u001b[38;5;28;01mraise\u001b[39;00m MlflowException(\u001b[38;5;124mf\u001b[39m\u001b[38;5;124m\"\u001b[39m\u001b[38;5;124mAPI request to \u001b[39m\u001b[38;5;132;01m{\u001b[39;00murl\u001b[38;5;132;01m}\u001b[39;00m\u001b[38;5;124m failed with exception \u001b[39m\u001b[38;5;132;01m{\u001b[39;00me\u001b[38;5;132;01m}\u001b[39;00m\u001b[38;5;124m\"\u001b[39m)\n",
      "\u001b[1;31mMlflowException\u001b[0m: API request to http://localhost:5000/api/2.0/mlflow/runs/create failed with exception HTTPConnectionPool(host='localhost', port=5000): Max retries exceeded with url: /api/2.0/mlflow/runs/create (Caused by NewConnectionError('<urllib3.connection.HTTPConnection object at 0x000001A87DA027D0>: Failed to establish a new connection: [WinError 10061] Nenhuma conexão pôde ser feita porque a máquina de destino as recusou ativamente'))"
     ]
    }
   ],
   "source": [
    "rf_study = optuna.create_study( study_name=\"Study for random forest regressor\", direction=\"maximize\")\n",
    "rf_study.optimize(objective_rf, n_trials=10)\n",
    "print(f'\\nBest trial: {rf_study.best_trial}')"
   ]
  },
  {
   "cell_type": "markdown",
   "metadata": {},
   "source": [
    "---"
   ]
  },
  {
   "cell_type": "markdown",
   "metadata": {},
   "source": [
    "### Gradient Boosting Regressor\n",
    "\n",
    "<p align=\"justify\">\n",
    "O Gradient Boosting Regressor é uma técnica avançada de ensemble que combina múltiplos modelos fracos para criar um modelo forte. Ele trabalha treinando sequencialmente cada novo modelo para corrigir os erros residuais dos modelos anteriores, otimizando iterativamente a função de custo através do gradiente descendente. O Gradient Boosting é altamente flexível e pode modelar relações complexas e não lineares entre as variáveis.  É amplamente utilizado em competições de ciência de dados devido à sua alta performance."
   ]
  },
  {
   "cell_type": "code",
   "execution_count": null,
   "metadata": {},
   "outputs": [
    {
     "data": {
      "text/plain": [
       "0.8174047019583461"
      ]
     },
     "execution_count": 139,
     "metadata": {},
     "output_type": "execute_result"
    }
   ],
   "source": [
    "gb_reg = GradientBoostingRegressor(\n",
    "    loss='squared_error', learning_rate=0.1, n_estimators=100, criterion='friedman_mse',\n",
    "    random_state=9\n",
    ")\n",
    "gb_reg.fit(X_train, y_train)\n",
    "gb_reg.score(X_test, y_test)"
   ]
  },
  {
   "cell_type": "code",
   "execution_count": null,
   "metadata": {},
   "outputs": [],
   "source": [
    "gb_reg_pred = gb_reg.predict(X_test)"
   ]
  },
  {
   "cell_type": "markdown",
   "metadata": {},
   "source": [
    "<p align=\"justify\">\n",
    "O código abaixo faz o ajuste de hiperparâmetros através do Optuna para o GradientBoostingRegressor. Escolhemos variar os valores de loss, learning_rate, n_estimators e criterion, por serem considerados uns dos mais impactantes na performance desse tipo de regressor."
   ]
  },
  {
   "cell_type": "code",
   "execution_count": null,
   "metadata": {},
   "outputs": [],
   "source": [
    "def objective_gb(trial):\n",
    "    loss = trial.suggest_categorical('loss', ['squared_error', 'absolute_error', 'huber', 'quantile'])\n",
    "    learning_rate = trial.suggest_float('learning_rate', 0.05, 0.5)\n",
    "    n_estimators = trial.suggest_int('n_estimators', 20, 500)\n",
    "    criterion = trial.suggest_categorical('criterion', ['friedman_mse', 'squared_error'])\n",
    "    \n",
    "    gb_reg_obj = GradientBoostingRegressor(\n",
    "        loss=loss, learning_rate=learning_rate, n_estimators=n_estimators, criterion=criterion, \n",
    "        random_state=9\n",
    "    )\n",
    "    \n",
    "    gb_reg_obj.fit(X_train, y_train)\n",
    "    return gb_reg_obj.score(X_val, y_val)"
   ]
  },
  {
   "cell_type": "code",
   "execution_count": null,
   "metadata": {},
   "outputs": [
    {
     "name": "stderr",
     "output_type": "stream",
     "text": [
      "[I 2024-07-11 20:46:26,420] A new study created in memory with name: Study for gradient boosting regressor\n",
      "[I 2024-07-11 20:46:27,141] Trial 0 finished with value: 0.5430159037983411 and parameters: {'loss': 'quantile', 'learning_rate': 0.23820501865943827, 'n_estimators': 453, 'criterion': 'squared_error'}. Best is trial 0 with value: 0.5430159037983411.\n",
      "[I 2024-07-11 20:46:27,669] Trial 1 finished with value: 0.7396378994832098 and parameters: {'loss': 'absolute_error', 'learning_rate': 0.07485057164962022, 'n_estimators': 326, 'criterion': 'squared_error'}. Best is trial 1 with value: 0.7396378994832098.\n",
      "[I 2024-07-11 20:46:28,754] Trial 2 finished with value: 0.8772335983894464 and parameters: {'loss': 'huber', 'learning_rate': 0.20457520367665766, 'n_estimators': 480, 'criterion': 'squared_error'}. Best is trial 2 with value: 0.8772335983894464.\n",
      "[I 2024-07-11 20:46:29,535] Trial 3 finished with value: 0.8854055694085927 and parameters: {'loss': 'huber', 'learning_rate': 0.16077838037765604, 'n_estimators': 346, 'criterion': 'friedman_mse'}. Best is trial 3 with value: 0.8854055694085927.\n",
      "[I 2024-07-11 20:46:29,624] Trial 4 finished with value: 0.8700364822504283 and parameters: {'loss': 'squared_error', 'learning_rate': 0.44950770399413653, 'n_estimators': 102, 'criterion': 'squared_error'}. Best is trial 3 with value: 0.8854055694085927.\n",
      "[I 2024-07-11 20:46:29,839] Trial 5 finished with value: 0.8557254195943516 and parameters: {'loss': 'squared_error', 'learning_rate': 0.2726827601372032, 'n_estimators': 258, 'criterion': 'squared_error'}. Best is trial 3 with value: 0.8854055694085927.\n",
      "[I 2024-07-11 20:46:30,219] Trial 6 finished with value: 0.8541035247439523 and parameters: {'loss': 'huber', 'learning_rate': 0.23137789526150782, 'n_estimators': 170, 'criterion': 'squared_error'}. Best is trial 3 with value: 0.8854055694085927.\n",
      "[I 2024-07-11 20:46:30,899] Trial 7 finished with value: 0.35835727864039824 and parameters: {'loss': 'quantile', 'learning_rate': 0.4247311641704592, 'n_estimators': 439, 'criterion': 'friedman_mse'}. Best is trial 3 with value: 0.8854055694085927.\n",
      "[I 2024-07-11 20:46:31,346] Trial 8 finished with value: 0.44660333037168554 and parameters: {'loss': 'quantile', 'learning_rate': 0.2610417681967784, 'n_estimators': 261, 'criterion': 'squared_error'}. Best is trial 3 with value: 0.8854055694085927.\n",
      "[I 2024-07-11 20:46:31,618] Trial 9 finished with value: 0.786241798798827 and parameters: {'loss': 'huber', 'learning_rate': 0.14221581138448616, 'n_estimators': 121, 'criterion': 'friedman_mse'}. Best is trial 3 with value: 0.8854055694085927.\n",
      "[I 2024-07-11 20:46:32,202] Trial 10 finished with value: 0.7763430861371843 and parameters: {'loss': 'absolute_error', 'learning_rate': 0.35721900646304144, 'n_estimators': 361, 'criterion': 'friedman_mse'}. Best is trial 3 with value: 0.8854055694085927.\n",
      "[I 2024-07-11 20:46:33,366] Trial 11 finished with value: 0.8244016080910122 and parameters: {'loss': 'huber', 'learning_rate': 0.15104588765037122, 'n_estimators': 500, 'criterion': 'friedman_mse'}. Best is trial 3 with value: 0.8854055694085927.\n",
      "[I 2024-07-11 20:46:34,248] Trial 12 finished with value: 0.8673332050324779 and parameters: {'loss': 'huber', 'learning_rate': 0.14134997589686044, 'n_estimators': 381, 'criterion': 'friedman_mse'}. Best is trial 3 with value: 0.8854055694085927.\n",
      "[I 2024-07-11 20:46:34,869] Trial 13 finished with value: 0.8042986766496448 and parameters: {'loss': 'huber', 'learning_rate': 0.061064229323362446, 'n_estimators': 265, 'criterion': 'friedman_mse'}. Best is trial 3 with value: 0.8854055694085927.\n",
      "[I 2024-07-11 20:46:35,849] Trial 14 finished with value: 0.8339639009670428 and parameters: {'loss': 'huber', 'learning_rate': 0.3411467078948469, 'n_estimators': 424, 'criterion': 'squared_error'}. Best is trial 3 with value: 0.8854055694085927.\n",
      "[I 2024-07-11 20:46:37,004] Trial 15 finished with value: 0.9069531470975694 and parameters: {'loss': 'huber', 'learning_rate': 0.16453713554469904, 'n_estimators': 496, 'criterion': 'friedman_mse'}. Best is trial 15 with value: 0.9069531470975694.\n",
      "[I 2024-07-11 20:46:37,085] Trial 16 finished with value: 0.7504254844127838 and parameters: {'loss': 'huber', 'learning_rate': 0.17949764175947006, 'n_estimators': 31, 'criterion': 'friedman_mse'}. Best is trial 15 with value: 0.9069531470975694.\n",
      "[I 2024-07-11 20:46:37,631] Trial 17 finished with value: 0.7437386329523552 and parameters: {'loss': 'absolute_error', 'learning_rate': 0.10159596174459776, 'n_estimators': 335, 'criterion': 'friedman_mse'}. Best is trial 15 with value: 0.9069531470975694.\n",
      "[I 2024-07-11 20:46:37,986] Trial 18 finished with value: 0.8486042561211699 and parameters: {'loss': 'squared_error', 'learning_rate': 0.3175696672529029, 'n_estimators': 408, 'criterion': 'friedman_mse'}. Best is trial 15 with value: 0.9069531470975694.\n",
      "[I 2024-07-11 20:46:38,464] Trial 19 finished with value: 0.8264960454158422 and parameters: {'loss': 'huber', 'learning_rate': 0.1136344437729013, 'n_estimators': 207, 'criterion': 'friedman_mse'}. Best is trial 15 with value: 0.9069531470975694.\n",
      "[I 2024-07-11 20:46:39,140] Trial 20 finished with value: 0.854949344050171 and parameters: {'loss': 'huber', 'learning_rate': 0.19111138875185546, 'n_estimators': 293, 'criterion': 'friedman_mse'}. Best is trial 15 with value: 0.9069531470975694.\n",
      "[I 2024-07-11 20:46:40,286] Trial 21 finished with value: 0.7981167269114047 and parameters: {'loss': 'huber', 'learning_rate': 0.22216063019915394, 'n_estimators': 491, 'criterion': 'squared_error'}. Best is trial 15 with value: 0.9069531470975694.\n",
      "[I 2024-07-11 20:46:41,349] Trial 22 finished with value: 0.8399660294640625 and parameters: {'loss': 'huber', 'learning_rate': 0.18459454831151256, 'n_estimators': 465, 'criterion': 'friedman_mse'}. Best is trial 15 with value: 0.9069531470975694.\n",
      "[I 2024-07-11 20:46:42,283] Trial 23 finished with value: 0.8800893323446324 and parameters: {'loss': 'huber', 'learning_rate': 0.20224940669798136, 'n_estimators': 401, 'criterion': 'squared_error'}. Best is trial 15 with value: 0.9069531470975694.\n",
      "[I 2024-07-11 20:46:43,150] Trial 24 finished with value: 0.8461066925574031 and parameters: {'loss': 'huber', 'learning_rate': 0.29530436050213504, 'n_estimators': 376, 'criterion': 'friedman_mse'}. Best is trial 15 with value: 0.9069531470975694.\n",
      "[I 2024-07-11 20:46:44,036] Trial 25 finished with value: 0.8591164470517126 and parameters: {'loss': 'huber', 'learning_rate': 0.11477126516485288, 'n_estimators': 389, 'criterion': 'friedman_mse'}. Best is trial 15 with value: 0.9069531470975694.\n",
      "[I 2024-07-11 20:46:44,539] Trial 26 finished with value: 0.7665377355079642 and parameters: {'loss': 'absolute_error', 'learning_rate': 0.14862608559221435, 'n_estimators': 326, 'criterion': 'squared_error'}. Best is trial 15 with value: 0.9069531470975694.\n",
      "[I 2024-07-11 20:46:45,242] Trial 27 finished with value: 0.4701999026572855 and parameters: {'loss': 'quantile', 'learning_rate': 0.17816779887201303, 'n_estimators': 420, 'criterion': 'friedman_mse'}. Best is trial 15 with value: 0.9069531470975694.\n",
      "[I 2024-07-11 20:46:45,615] Trial 28 finished with value: 0.8732835945178264 and parameters: {'loss': 'squared_error', 'learning_rate': 0.09663184912279961, 'n_estimators': 439, 'criterion': 'squared_error'}. Best is trial 15 with value: 0.9069531470975694.\n",
      "[I 2024-07-11 20:46:46,398] Trial 29 finished with value: 0.5160113809677276 and parameters: {'loss': 'quantile', 'learning_rate': 0.2312697603105699, 'n_estimators': 459, 'criterion': 'squared_error'}. Best is trial 15 with value: 0.9069531470975694.\n",
      "[I 2024-07-11 20:46:47,207] Trial 30 finished with value: 0.8631044768792618 and parameters: {'loss': 'huber', 'learning_rate': 0.25020851596069654, 'n_estimators': 350, 'criterion': 'friedman_mse'}. Best is trial 15 with value: 0.9069531470975694.\n",
      "[I 2024-07-11 20:46:48,292] Trial 31 finished with value: 0.7991163680606392 and parameters: {'loss': 'huber', 'learning_rate': 0.20805002255415148, 'n_estimators': 474, 'criterion': 'squared_error'}. Best is trial 15 with value: 0.9069531470975694.\n",
      "[I 2024-07-11 20:46:49,232] Trial 32 finished with value: 0.826075655470959 and parameters: {'loss': 'huber', 'learning_rate': 0.20885149714960835, 'n_estimators': 403, 'criterion': 'squared_error'}. Best is trial 15 with value: 0.9069531470975694.\n",
      "[I 2024-07-11 20:46:50,297] Trial 33 finished with value: 0.8472751870191393 and parameters: {'loss': 'huber', 'learning_rate': 0.16032140486191698, 'n_estimators': 471, 'criterion': 'squared_error'}. Best is trial 15 with value: 0.9069531470975694.\n",
      "[I 2024-07-11 20:46:50,994] Trial 34 finished with value: 0.8535238192044097 and parameters: {'loss': 'huber', 'learning_rate': 0.29710104293694806, 'n_estimators': 300, 'criterion': 'squared_error'}. Best is trial 15 with value: 0.9069531470975694.\n",
      "[I 2024-07-11 20:46:51,418] Trial 35 finished with value: 0.8500666983247404 and parameters: {'loss': 'squared_error', 'learning_rate': 0.12576488331807567, 'n_estimators': 500, 'criterion': 'squared_error'}. Best is trial 15 with value: 0.9069531470975694.\n",
      "[I 2024-07-11 20:46:52,149] Trial 36 finished with value: 0.7697528905112676 and parameters: {'loss': 'absolute_error', 'learning_rate': 0.08755637089747867, 'n_estimators': 444, 'criterion': 'squared_error'}. Best is trial 15 with value: 0.9069531470975694.\n",
      "[I 2024-07-11 20:46:52,631] Trial 37 finished with value: 0.8351777010489406 and parameters: {'loss': 'huber', 'learning_rate': 0.20989939870859292, 'n_estimators': 212, 'criterion': 'squared_error'}. Best is trial 15 with value: 0.9069531470975694.\n",
      "[I 2024-07-11 20:46:53,333] Trial 38 finished with value: 0.5444892428279653 and parameters: {'loss': 'quantile', 'learning_rate': 0.24769961190649825, 'n_estimators': 433, 'criterion': 'squared_error'}. Best is trial 15 with value: 0.9069531470975694.\n",
      "[I 2024-07-11 20:46:54,255] Trial 39 finished with value: 0.728423867073543 and parameters: {'loss': 'huber', 'learning_rate': 0.4768581808275665, 'n_estimators': 400, 'criterion': 'squared_error'}. Best is trial 15 with value: 0.9069531470975694.\n",
      "[I 2024-07-11 20:46:54,664] Trial 40 finished with value: 0.8213049556171494 and parameters: {'loss': 'squared_error', 'learning_rate': 0.05008077887293649, 'n_estimators': 477, 'criterion': 'friedman_mse'}. Best is trial 15 with value: 0.9069531470975694.\n",
      "[I 2024-07-11 20:46:55,049] Trial 41 finished with value: 0.8689553400912842 and parameters: {'loss': 'squared_error', 'learning_rate': 0.0881066896722684, 'n_estimators': 448, 'criterion': 'squared_error'}. Best is trial 15 with value: 0.9069531470975694.\n",
      "[I 2024-07-11 20:46:55,362] Trial 42 finished with value: 0.8464366536654948 and parameters: {'loss': 'squared_error', 'learning_rate': 0.16546910520835442, 'n_estimators': 363, 'criterion': 'squared_error'}. Best is trial 15 with value: 0.9069531470975694.\n",
      "[I 2024-07-11 20:46:55,739] Trial 43 finished with value: 0.8528090438379055 and parameters: {'loss': 'squared_error', 'learning_rate': 0.13079630512934226, 'n_estimators': 444, 'criterion': 'squared_error'}. Best is trial 15 with value: 0.9069531470975694.\n",
      "[I 2024-07-11 20:46:56,105] Trial 44 finished with value: 0.8456975003758271 and parameters: {'loss': 'squared_error', 'learning_rate': 0.2754326633677862, 'n_estimators': 420, 'criterion': 'squared_error'}. Best is trial 15 with value: 0.9069531470975694.\n",
      "[I 2024-07-11 20:46:56,997] Trial 45 finished with value: 0.8843624388023908 and parameters: {'loss': 'huber', 'learning_rate': 0.3835926272975648, 'n_estimators': 383, 'criterion': 'squared_error'}. Best is trial 15 with value: 0.9069531470975694.\n",
      "[I 2024-07-11 20:46:57,731] Trial 46 finished with value: 0.8731292729682293 and parameters: {'loss': 'huber', 'learning_rate': 0.3970237594887435, 'n_estimators': 302, 'criterion': 'friedman_mse'}. Best is trial 15 with value: 0.9069531470975694.\n",
      "[I 2024-07-11 20:46:58,539] Trial 47 finished with value: 0.821397045180321 and parameters: {'loss': 'huber', 'learning_rate': 0.4094303506289627, 'n_estimators': 352, 'criterion': 'squared_error'}. Best is trial 15 with value: 0.9069531470975694.\n",
      "[I 2024-07-11 20:46:59,405] Trial 48 finished with value: 0.8508837212688611 and parameters: {'loss': 'huber', 'learning_rate': 0.3557364414786251, 'n_estimators': 377, 'criterion': 'friedman_mse'}. Best is trial 15 with value: 0.9069531470975694.\n",
      "[I 2024-07-11 20:47:00,181] Trial 49 finished with value: 0.8141223495709116 and parameters: {'loss': 'huber', 'learning_rate': 0.4898350954662437, 'n_estimators': 329, 'criterion': 'squared_error'}. Best is trial 15 with value: 0.9069531470975694.\n",
      "[I 2024-07-11 20:47:00,730] Trial 50 finished with value: 0.8099150526135243 and parameters: {'loss': 'huber', 'learning_rate': 0.44090571851287175, 'n_estimators': 234, 'criterion': 'friedman_mse'}. Best is trial 15 with value: 0.9069531470975694.\n",
      "[I 2024-07-11 20:47:01,852] Trial 51 finished with value: 0.8797819371286586 and parameters: {'loss': 'huber', 'learning_rate': 0.19722109359238726, 'n_estimators': 481, 'criterion': 'squared_error'}. Best is trial 15 with value: 0.9069531470975694.\n",
      "[I 2024-07-11 20:47:03,033] Trial 52 finished with value: 0.8605876546418503 and parameters: {'loss': 'huber', 'learning_rate': 0.19486111718733143, 'n_estimators': 488, 'criterion': 'squared_error'}. Best is trial 15 with value: 0.9069531470975694.\n",
      "[I 2024-07-11 20:47:04,000] Trial 53 finished with value: 0.8599635970870088 and parameters: {'loss': 'huber', 'learning_rate': 0.16560934643602007, 'n_estimators': 417, 'criterion': 'squared_error'}. Best is trial 15 with value: 0.9069531470975694.\n",
      "[I 2024-07-11 20:47:04,353] Trial 54 finished with value: 0.8345454231187932 and parameters: {'loss': 'huber', 'learning_rate': 0.22668735624598382, 'n_estimators': 147, 'criterion': 'squared_error'}. Best is trial 15 with value: 0.9069531470975694.\n",
      "[I 2024-07-11 20:47:05,108] Trial 55 finished with value: 0.8283419513850365 and parameters: {'loss': 'absolute_error', 'learning_rate': 0.2695593777790338, 'n_estimators': 460, 'criterion': 'friedman_mse'}. Best is trial 15 with value: 0.9069531470975694.\n",
      "[I 2024-07-11 20:47:06,025] Trial 56 finished with value: 0.8577074100797858 and parameters: {'loss': 'huber', 'learning_rate': 0.19717348215595687, 'n_estimators': 394, 'criterion': 'squared_error'}. Best is trial 15 with value: 0.9069531470975694.\n",
      "[I 2024-07-11 20:47:06,696] Trial 57 finished with value: 0.8631303846229754 and parameters: {'loss': 'huber', 'learning_rate': 0.17781395563925295, 'n_estimators': 283, 'criterion': 'friedman_mse'}. Best is trial 15 with value: 0.9069531470975694.\n",
      "[I 2024-07-11 20:47:06,831] Trial 58 finished with value: 0.7758567989470914 and parameters: {'loss': 'huber', 'learning_rate': 0.14225379636721583, 'n_estimators': 53, 'criterion': 'squared_error'}. Best is trial 15 with value: 0.9069531470975694.\n",
      "[I 2024-07-11 20:47:07,633] Trial 59 finished with value: 0.585896637243491 and parameters: {'loss': 'quantile', 'learning_rate': 0.32661963507675396, 'n_estimators': 499, 'criterion': 'friedman_mse'}. Best is trial 15 with value: 0.9069531470975694.\n",
      "[I 2024-07-11 20:47:08,758] Trial 60 finished with value: 0.8416781319239854 and parameters: {'loss': 'huber', 'learning_rate': 0.39095125146544085, 'n_estimators': 482, 'criterion': 'squared_error'}. Best is trial 15 with value: 0.9069531470975694.\n",
      "[I 2024-07-11 20:47:09,170] Trial 61 finished with value: 0.8515051785653136 and parameters: {'loss': 'squared_error', 'learning_rate': 0.07526222004514994, 'n_estimators': 457, 'criterion': 'squared_error'}. Best is trial 15 with value: 0.9069531470975694.\n",
      "[I 2024-07-11 20:47:10,133] Trial 62 finished with value: 0.8487602464298323 and parameters: {'loss': 'huber', 'learning_rate': 0.10235764850514072, 'n_estimators': 426, 'criterion': 'squared_error'}. Best is trial 15 with value: 0.9069531470975694.\n",
      "[I 2024-07-11 20:47:10,802] Trial 63 finished with value: 0.790369046897501 and parameters: {'loss': 'absolute_error', 'learning_rate': 0.24105794040340445, 'n_estimators': 435, 'criterion': 'squared_error'}. Best is trial 15 with value: 0.9069531470975694.\n",
      "[I 2024-07-11 20:47:11,738] Trial 64 finished with value: 0.8811047145160078 and parameters: {'loss': 'huber', 'learning_rate': 0.1270109181683569, 'n_estimators': 411, 'criterion': 'squared_error'}. Best is trial 15 with value: 0.9069531470975694.\n",
      "[I 2024-07-11 20:47:12,561] Trial 65 finished with value: 0.8684203697674135 and parameters: {'loss': 'huber', 'learning_rate': 0.12835082215885402, 'n_estimators': 362, 'criterion': 'squared_error'}. Best is trial 15 with value: 0.9069531470975694.\n",
      "[I 2024-07-11 20:47:13,492] Trial 66 finished with value: 0.8446140020456822 and parameters: {'loss': 'huber', 'learning_rate': 0.15318117058354508, 'n_estimators': 410, 'criterion': 'friedman_mse'}. Best is trial 15 with value: 0.9069531470975694.\n",
      "[I 2024-07-11 20:47:14,356] Trial 67 finished with value: 0.8282443262180692 and parameters: {'loss': 'huber', 'learning_rate': 0.20957251821027317, 'n_estimators': 382, 'criterion': 'squared_error'}. Best is trial 15 with value: 0.9069531470975694.\n",
      "[I 2024-07-11 20:47:15,137] Trial 68 finished with value: 0.837596634740186 and parameters: {'loss': 'huber', 'learning_rate': 0.17088423109537726, 'n_estimators': 342, 'criterion': 'squared_error'}. Best is trial 15 with value: 0.9069531470975694.\n",
      "[I 2024-07-11 20:47:15,848] Trial 69 finished with value: 0.8797892009544216 and parameters: {'loss': 'huber', 'learning_rate': 0.11565163779898963, 'n_estimators': 314, 'criterion': 'friedman_mse'}. Best is trial 15 with value: 0.9069531470975694.\n",
      "[I 2024-07-11 20:47:16,557] Trial 70 finished with value: 0.8455490987678987 and parameters: {'loss': 'huber', 'learning_rate': 0.1186566759372419, 'n_estimators': 313, 'criterion': 'friedman_mse'}. Best is trial 15 with value: 0.9069531470975694.\n",
      "[I 2024-07-11 20:47:17,277] Trial 71 finished with value: 0.8327119024374134 and parameters: {'loss': 'huber', 'learning_rate': 0.14227523500844502, 'n_estimators': 319, 'criterion': 'friedman_mse'}. Best is trial 15 with value: 0.9069531470975694.\n",
      "[I 2024-07-11 20:47:18,334] Trial 72 finished with value: 0.815689616601174 and parameters: {'loss': 'huber', 'learning_rate': 0.18545129554130405, 'n_estimators': 469, 'criterion': 'friedman_mse'}. Best is trial 15 with value: 0.9069531470975694.\n",
      "[I 2024-07-11 20:47:18,979] Trial 73 finished with value: 0.8239804118642519 and parameters: {'loss': 'huber', 'learning_rate': 0.11143576998660155, 'n_estimators': 274, 'criterion': 'friedman_mse'}. Best is trial 15 with value: 0.9069531470975694.\n",
      "[I 2024-07-11 20:47:19,813] Trial 74 finished with value: 0.8357109912895091 and parameters: {'loss': 'huber', 'learning_rate': 0.15642727501012363, 'n_estimators': 366, 'criterion': 'friedman_mse'}. Best is trial 15 with value: 0.9069531470975694.\n",
      "[I 2024-07-11 20:47:20,410] Trial 75 finished with value: 0.5379586109808727 and parameters: {'loss': 'quantile', 'learning_rate': 0.13369117118279555, 'n_estimators': 343, 'criterion': 'squared_error'}. Best is trial 15 with value: 0.9069531470975694.\n",
      "[I 2024-07-11 20:47:21,308] Trial 76 finished with value: 0.798483572212789 and parameters: {'loss': 'huber', 'learning_rate': 0.2217894881475482, 'n_estimators': 395, 'criterion': 'friedman_mse'}. Best is trial 15 with value: 0.9069531470975694.\n",
      "[I 2024-07-11 20:47:22,407] Trial 77 finished with value: 0.8462836799727942 and parameters: {'loss': 'huber', 'learning_rate': 0.2005965119925182, 'n_estimators': 485, 'criterion': 'squared_error'}. Best is trial 15 with value: 0.9069531470975694.\n",
      "[I 2024-07-11 20:47:23,290] Trial 78 finished with value: 0.8352778463954214 and parameters: {'loss': 'huber', 'learning_rate': 0.2936263269094152, 'n_estimators': 372, 'criterion': 'friedman_mse'}. Best is trial 15 with value: 0.9069531470975694.\n",
      "[I 2024-07-11 20:47:24,161] Trial 79 finished with value: 0.8403588789138887 and parameters: {'loss': 'huber', 'learning_rate': 0.07201376483359581, 'n_estimators': 386, 'criterion': 'squared_error'}. Best is trial 15 with value: 0.9069531470975694.\n",
      "[I 2024-07-11 20:47:24,877] Trial 80 finished with value: 0.7808013459264261 and parameters: {'loss': 'absolute_error', 'learning_rate': 0.17479897437279437, 'n_estimators': 449, 'criterion': 'squared_error'}. Best is trial 15 with value: 0.9069531470975694.\n",
      "[I 2024-07-11 20:47:25,250] Trial 81 finished with value: 0.853183984021836 and parameters: {'loss': 'squared_error', 'learning_rate': 0.09735103358937568, 'n_estimators': 438, 'criterion': 'squared_error'}. Best is trial 15 with value: 0.9069531470975694.\n",
      "[I 2024-07-11 20:47:25,599] Trial 82 finished with value: 0.8552450972333212 and parameters: {'loss': 'squared_error', 'learning_rate': 0.10742607124175003, 'n_estimators': 408, 'criterion': 'squared_error'}. Best is trial 15 with value: 0.9069531470975694.\n",
      "[I 2024-07-11 20:47:26,683] Trial 83 finished with value: 0.8495465139715042 and parameters: {'loss': 'huber', 'learning_rate': 0.08820366258977463, 'n_estimators': 472, 'criterion': 'squared_error'}. Best is trial 15 with value: 0.9069531470975694.\n",
      "[I 2024-07-11 20:47:27,694] Trial 84 finished with value: 0.8529843725637745 and parameters: {'loss': 'huber', 'learning_rate': 0.14815367928277295, 'n_estimators': 429, 'criterion': 'squared_error'}. Best is trial 15 with value: 0.9069531470975694.\n",
      "[I 2024-07-11 20:47:28,274] Trial 85 finished with value: 0.851782091510594 and parameters: {'loss': 'huber', 'learning_rate': 0.21786312665877072, 'n_estimators': 250, 'criterion': 'squared_error'}. Best is trial 15 with value: 0.9069531470975694.\n",
      "[I 2024-07-11 20:47:29,102] Trial 86 finished with value: 0.5609058938848991 and parameters: {'loss': 'quantile', 'learning_rate': 0.1221550289115505, 'n_estimators': 500, 'criterion': 'friedman_mse'}. Best is trial 15 with value: 0.9069531470975694.\n",
      "[I 2024-07-11 20:47:29,494] Trial 87 finished with value: 0.8471421649291873 and parameters: {'loss': 'squared_error', 'learning_rate': 0.16003562198802582, 'n_estimators': 457, 'criterion': 'squared_error'}. Best is trial 15 with value: 0.9069531470975694.\n",
      "[I 2024-07-11 20:47:30,425] Trial 88 finished with value: 0.8910175718180218 and parameters: {'loss': 'huber', 'learning_rate': 0.18847859636701705, 'n_estimators': 412, 'criterion': 'squared_error'}. Best is trial 15 with value: 0.9069531470975694.\n",
      "[I 2024-07-11 20:47:31,378] Trial 89 finished with value: 0.8268937599032643 and parameters: {'loss': 'huber', 'learning_rate': 0.19661485714768143, 'n_estimators': 412, 'criterion': 'friedman_mse'}. Best is trial 15 with value: 0.9069531470975694.\n",
      "[I 2024-07-11 20:47:32,194] Trial 90 finished with value: 0.8863338620549553 and parameters: {'loss': 'huber', 'learning_rate': 0.1883159982084867, 'n_estimators': 350, 'criterion': 'squared_error'}. Best is trial 15 with value: 0.9069531470975694.\n",
      "[I 2024-07-11 20:47:32,996] Trial 91 finished with value: 0.8592514192318241 and parameters: {'loss': 'huber', 'learning_rate': 0.18867544618355125, 'n_estimators': 348, 'criterion': 'squared_error'}. Best is trial 15 with value: 0.9069531470975694.\n",
      "[I 2024-07-11 20:47:33,759] Trial 92 finished with value: 0.82010998339394 and parameters: {'loss': 'huber', 'learning_rate': 0.24093325763217624, 'n_estimators': 332, 'criterion': 'squared_error'}. Best is trial 15 with value: 0.9069531470975694.\n",
      "[I 2024-07-11 20:47:34,447] Trial 93 finished with value: 0.8411334437770195 and parameters: {'loss': 'huber', 'learning_rate': 0.1728413073851148, 'n_estimators': 304, 'criterion': 'squared_error'}. Best is trial 15 with value: 0.9069531470975694.\n",
      "[I 2024-07-11 20:47:35,261] Trial 94 finished with value: 0.8668036894385456 and parameters: {'loss': 'huber', 'learning_rate': 0.1358568464004292, 'n_estimators': 357, 'criterion': 'squared_error'}. Best is trial 15 with value: 0.9069531470975694.\n",
      "[I 2024-07-11 20:47:36,170] Trial 95 finished with value: 0.8719051518439644 and parameters: {'loss': 'huber', 'learning_rate': 0.18632821002470018, 'n_estimators': 391, 'criterion': 'squared_error'}. Best is trial 15 with value: 0.9069531470975694.\n",
      "[I 2024-07-11 20:47:37,042] Trial 96 finished with value: 0.8655813855036997 and parameters: {'loss': 'huber', 'learning_rate': 0.26209671117761163, 'n_estimators': 373, 'criterion': 'squared_error'}. Best is trial 15 with value: 0.9069531470975694.\n",
      "[I 2024-07-11 20:47:38,009] Trial 97 finished with value: 0.8564737749184697 and parameters: {'loss': 'huber', 'learning_rate': 0.1690646312110356, 'n_estimators': 422, 'criterion': 'squared_error'}. Best is trial 15 with value: 0.9069531470975694.\n",
      "[I 2024-07-11 20:47:38,794] Trial 98 finished with value: 0.8356279593725696 and parameters: {'loss': 'huber', 'learning_rate': 0.2109800097721462, 'n_estimators': 338, 'criterion': 'friedman_mse'}. Best is trial 15 with value: 0.9069531470975694.\n",
      "[I 2024-07-11 20:47:39,541] Trial 99 finished with value: 0.8738941639106089 and parameters: {'loss': 'huber', 'learning_rate': 0.19995592492626527, 'n_estimators': 320, 'criterion': 'squared_error'}. Best is trial 15 with value: 0.9069531470975694.\n"
     ]
    },
    {
     "name": "stdout",
     "output_type": "stream",
     "text": [
      "\n",
      "Best trial: FrozenTrial(number=15, state=1, values=[0.9069531470975694], datetime_start=datetime.datetime(2024, 7, 11, 20, 46, 35, 850588), datetime_complete=datetime.datetime(2024, 7, 11, 20, 46, 37, 3478), params={'loss': 'huber', 'learning_rate': 0.16453713554469904, 'n_estimators': 496, 'criterion': 'friedman_mse'}, user_attrs={}, system_attrs={}, intermediate_values={}, distributions={'loss': CategoricalDistribution(choices=('squared_error', 'absolute_error', 'huber', 'quantile')), 'learning_rate': FloatDistribution(high=0.5, log=False, low=0.05, step=None), 'n_estimators': IntDistribution(high=500, log=False, low=20, step=1), 'criterion': CategoricalDistribution(choices=('friedman_mse', 'squared_error'))}, trial_id=15, value=None)\n"
     ]
    }
   ],
   "source": [
    "gb_study = optuna.create_study( study_name=\"Study for gradient boosting regressor\", direction=\"maximize\")\n",
    "gb_study.optimize(objective_gb, n_trials=100)\n",
    "print(f'\\nBest trial: {gb_study.best_trial}')"
   ]
  },
  {
   "cell_type": "markdown",
   "metadata": {},
   "source": [
    "---"
   ]
  },
  {
   "cell_type": "markdown",
   "metadata": {},
   "source": [
    "### Artificial Neural Network\n",
    "\n",
    "<p align=\"justify\">\n",
    "Redes neurais para regressão utilizam a arquitetura de camadas densamente conectadas para modelar relações complexas entre variáveis de entrada e uma variável de saída contínua. Cada camada de neurônios aplica uma transformação linear seguida de uma função de ativação não linear, permitindo que a rede capture padrões complexos nos dados. No entanto, apesar de sua notável performance e aplicabilidade, elas requerem uma grande quantidade de dados para treinar de forma eficaz e são mais propensas a overfitting."
   ]
  },
  {
   "cell_type": "code",
   "execution_count": null,
   "metadata": {},
   "outputs": [
    {
     "data": {
      "text/html": [
       "<pre style=\"white-space:pre;overflow-x:auto;line-height:normal;font-family:Menlo,'DejaVu Sans Mono',consolas,'Courier New',monospace\"><span style=\"font-weight: bold\">Model: \"sequential_2\"</span>\n",
       "</pre>\n"
      ],
      "text/plain": [
       "\u001b[1mModel: \"sequential_2\"\u001b[0m\n"
      ]
     },
     "metadata": {},
     "output_type": "display_data"
    },
    {
     "data": {
      "text/html": [
       "<pre style=\"white-space:pre;overflow-x:auto;line-height:normal;font-family:Menlo,'DejaVu Sans Mono',consolas,'Courier New',monospace\">┏━━━━━━━━━━━━━━━━━━━━━━━━━━━━━━━━━┳━━━━━━━━━━━━━━━━━━━━━━━━┳━━━━━━━━━━━━━━━┓\n",
       "┃<span style=\"font-weight: bold\"> Layer (type)                    </span>┃<span style=\"font-weight: bold\"> Output Shape           </span>┃<span style=\"font-weight: bold\">       Param # </span>┃\n",
       "┡━━━━━━━━━━━━━━━━━━━━━━━━━━━━━━━━━╇━━━━━━━━━━━━━━━━━━━━━━━━╇━━━━━━━━━━━━━━━┩\n",
       "│ dense_8 (<span style=\"color: #0087ff; text-decoration-color: #0087ff\">Dense</span>)                 │ (<span style=\"color: #00d7ff; text-decoration-color: #00d7ff\">None</span>, <span style=\"color: #00af00; text-decoration-color: #00af00\">16</span>)             │           <span style=\"color: #00af00; text-decoration-color: #00af00\">128</span> │\n",
       "├─────────────────────────────────┼────────────────────────┼───────────────┤\n",
       "│ dense_9 (<span style=\"color: #0087ff; text-decoration-color: #0087ff\">Dense</span>)                 │ (<span style=\"color: #00d7ff; text-decoration-color: #00d7ff\">None</span>, <span style=\"color: #00af00; text-decoration-color: #00af00\">32</span>)             │           <span style=\"color: #00af00; text-decoration-color: #00af00\">544</span> │\n",
       "├─────────────────────────────────┼────────────────────────┼───────────────┤\n",
       "│ dense_10 (<span style=\"color: #0087ff; text-decoration-color: #0087ff\">Dense</span>)                │ (<span style=\"color: #00d7ff; text-decoration-color: #00d7ff\">None</span>, <span style=\"color: #00af00; text-decoration-color: #00af00\">16</span>)             │           <span style=\"color: #00af00; text-decoration-color: #00af00\">528</span> │\n",
       "├─────────────────────────────────┼────────────────────────┼───────────────┤\n",
       "│ dense_11 (<span style=\"color: #0087ff; text-decoration-color: #0087ff\">Dense</span>)                │ (<span style=\"color: #00d7ff; text-decoration-color: #00d7ff\">None</span>, <span style=\"color: #00af00; text-decoration-color: #00af00\">1</span>)              │            <span style=\"color: #00af00; text-decoration-color: #00af00\">17</span> │\n",
       "└─────────────────────────────────┴────────────────────────┴───────────────┘\n",
       "</pre>\n"
      ],
      "text/plain": [
       "┏━━━━━━━━━━━━━━━━━━━━━━━━━━━━━━━━━┳━━━━━━━━━━━━━━━━━━━━━━━━┳━━━━━━━━━━━━━━━┓\n",
       "┃\u001b[1m \u001b[0m\u001b[1mLayer (type)                   \u001b[0m\u001b[1m \u001b[0m┃\u001b[1m \u001b[0m\u001b[1mOutput Shape          \u001b[0m\u001b[1m \u001b[0m┃\u001b[1m \u001b[0m\u001b[1m      Param #\u001b[0m\u001b[1m \u001b[0m┃\n",
       "┡━━━━━━━━━━━━━━━━━━━━━━━━━━━━━━━━━╇━━━━━━━━━━━━━━━━━━━━━━━━╇━━━━━━━━━━━━━━━┩\n",
       "│ dense_8 (\u001b[38;5;33mDense\u001b[0m)                 │ (\u001b[38;5;45mNone\u001b[0m, \u001b[38;5;34m16\u001b[0m)             │           \u001b[38;5;34m128\u001b[0m │\n",
       "├─────────────────────────────────┼────────────────────────┼───────────────┤\n",
       "│ dense_9 (\u001b[38;5;33mDense\u001b[0m)                 │ (\u001b[38;5;45mNone\u001b[0m, \u001b[38;5;34m32\u001b[0m)             │           \u001b[38;5;34m544\u001b[0m │\n",
       "├─────────────────────────────────┼────────────────────────┼───────────────┤\n",
       "│ dense_10 (\u001b[38;5;33mDense\u001b[0m)                │ (\u001b[38;5;45mNone\u001b[0m, \u001b[38;5;34m16\u001b[0m)             │           \u001b[38;5;34m528\u001b[0m │\n",
       "├─────────────────────────────────┼────────────────────────┼───────────────┤\n",
       "│ dense_11 (\u001b[38;5;33mDense\u001b[0m)                │ (\u001b[38;5;45mNone\u001b[0m, \u001b[38;5;34m1\u001b[0m)              │            \u001b[38;5;34m17\u001b[0m │\n",
       "└─────────────────────────────────┴────────────────────────┴───────────────┘\n"
      ]
     },
     "metadata": {},
     "output_type": "display_data"
    },
    {
     "data": {
      "text/html": [
       "<pre style=\"white-space:pre;overflow-x:auto;line-height:normal;font-family:Menlo,'DejaVu Sans Mono',consolas,'Courier New',monospace\"><span style=\"font-weight: bold\"> Total params: </span><span style=\"color: #00af00; text-decoration-color: #00af00\">1,217</span> (4.75 KB)\n",
       "</pre>\n"
      ],
      "text/plain": [
       "\u001b[1m Total params: \u001b[0m\u001b[38;5;34m1,217\u001b[0m (4.75 KB)\n"
      ]
     },
     "metadata": {},
     "output_type": "display_data"
    },
    {
     "data": {
      "text/html": [
       "<pre style=\"white-space:pre;overflow-x:auto;line-height:normal;font-family:Menlo,'DejaVu Sans Mono',consolas,'Courier New',monospace\"><span style=\"font-weight: bold\"> Trainable params: </span><span style=\"color: #00af00; text-decoration-color: #00af00\">1,217</span> (4.75 KB)\n",
       "</pre>\n"
      ],
      "text/plain": [
       "\u001b[1m Trainable params: \u001b[0m\u001b[38;5;34m1,217\u001b[0m (4.75 KB)\n"
      ]
     },
     "metadata": {},
     "output_type": "display_data"
    },
    {
     "data": {
      "text/html": [
       "<pre style=\"white-space:pre;overflow-x:auto;line-height:normal;font-family:Menlo,'DejaVu Sans Mono',consolas,'Courier New',monospace\"><span style=\"font-weight: bold\"> Non-trainable params: </span><span style=\"color: #00af00; text-decoration-color: #00af00\">0</span> (0.00 B)\n",
       "</pre>\n"
      ],
      "text/plain": [
       "\u001b[1m Non-trainable params: \u001b[0m\u001b[38;5;34m0\u001b[0m (0.00 B)\n"
      ]
     },
     "metadata": {},
     "output_type": "display_data"
    }
   ],
   "source": [
    "nn_reg = tf.keras.Sequential([\n",
    "    keras.Input(shape=(X_train.shape[1],)),\n",
    "    layers.Dense(16, activation='relu'),\n",
    "    layers.Dense(32, activation='relu'),\n",
    "    layers.Dense(16, activation='relu'),\n",
    "    layers.Dense(1),\n",
    "])\n",
    "\n",
    "optimizer = tf.keras.optimizers.Adam(0.001)\n",
    "nn_reg.compile(loss='mse', optimizer=optimizer, metrics=['mae', 'r2_score'])\n",
    "\n",
    "nn_reg.summary()"
   ]
  },
  {
   "cell_type": "code",
   "execution_count": null,
   "metadata": {},
   "outputs": [
    {
     "name": "stdout",
     "output_type": "stream",
     "text": [
      "Epoch 1/100\n",
      "\u001b[1m28/28\u001b[0m \u001b[32m━━━━━━━━━━━━━━━━━━━━\u001b[0m\u001b[37m\u001b[0m \u001b[1m1s\u001b[0m 7ms/step - loss: 0.0264 - mae: 0.0882 - r2_score: -0.0590 - val_loss: 0.0124 - val_mae: 0.0619 - val_r2_score: 0.3162\n",
      "Epoch 2/100\n",
      "\u001b[1m28/28\u001b[0m \u001b[32m━━━━━━━━━━━━━━━━━━━━\u001b[0m\u001b[37m\u001b[0m \u001b[1m0s\u001b[0m 2ms/step - loss: 0.0165 - mae: 0.0682 - r2_score: 0.3256 - val_loss: 0.0116 - val_mae: 0.0550 - val_r2_score: 0.3583\n",
      "Epoch 3/100\n",
      "\u001b[1m28/28\u001b[0m \u001b[32m━━━━━━━━━━━━━━━━━━━━\u001b[0m\u001b[37m\u001b[0m \u001b[1m0s\u001b[0m 2ms/step - loss: 0.0159 - mae: 0.0631 - r2_score: 0.3525 - val_loss: 0.0112 - val_mae: 0.0542 - val_r2_score: 0.3805\n",
      "Epoch 4/100\n",
      "\u001b[1m28/28\u001b[0m \u001b[32m━━━━━━━━━━━━━━━━━━━━\u001b[0m\u001b[37m\u001b[0m \u001b[1m0s\u001b[0m 2ms/step - loss: 0.0153 - mae: 0.0625 - r2_score: 0.3766 - val_loss: 0.0107 - val_mae: 0.0532 - val_r2_score: 0.4088\n",
      "Epoch 5/100\n",
      "\u001b[1m28/28\u001b[0m \u001b[32m━━━━━━━━━━━━━━━━━━━━\u001b[0m\u001b[37m\u001b[0m \u001b[1m0s\u001b[0m 2ms/step - loss: 0.0148 - mae: 0.0614 - r2_score: 0.3965 - val_loss: 0.0101 - val_mae: 0.0520 - val_r2_score: 0.4420\n",
      "Epoch 6/100\n",
      "\u001b[1m28/28\u001b[0m \u001b[32m━━━━━━━━━━━━━━━━━━━━\u001b[0m\u001b[37m\u001b[0m \u001b[1m0s\u001b[0m 2ms/step - loss: 0.0143 - mae: 0.0605 - r2_score: 0.4183 - val_loss: 0.0097 - val_mae: 0.0515 - val_r2_score: 0.4662\n",
      "Epoch 7/100\n",
      "\u001b[1m28/28\u001b[0m \u001b[32m━━━━━━━━━━━━━━━━━━━━\u001b[0m\u001b[37m\u001b[0m \u001b[1m0s\u001b[0m 2ms/step - loss: 0.0138 - mae: 0.0600 - r2_score: 0.4367 - val_loss: 0.0092 - val_mae: 0.0503 - val_r2_score: 0.4937\n",
      "Epoch 8/100\n",
      "\u001b[1m28/28\u001b[0m \u001b[32m━━━━━━━━━━━━━━━━━━━━\u001b[0m\u001b[37m\u001b[0m \u001b[1m0s\u001b[0m 2ms/step - loss: 0.0133 - mae: 0.0598 - r2_score: 0.4576 - val_loss: 0.0088 - val_mae: 0.0497 - val_r2_score: 0.5144\n",
      "Epoch 9/100\n",
      "\u001b[1m28/28\u001b[0m \u001b[32m━━━━━━━━━━━━━━━━━━━━\u001b[0m\u001b[37m\u001b[0m \u001b[1m0s\u001b[0m 2ms/step - loss: 0.0128 - mae: 0.0594 - r2_score: 0.4798 - val_loss: 0.0083 - val_mae: 0.0486 - val_r2_score: 0.5423\n",
      "Epoch 10/100\n",
      "\u001b[1m28/28\u001b[0m \u001b[32m━━━━━━━━━━━━━━━━━━━━\u001b[0m\u001b[37m\u001b[0m \u001b[1m0s\u001b[0m 2ms/step - loss: 0.0122 - mae: 0.0585 - r2_score: 0.5021 - val_loss: 0.0080 - val_mae: 0.0487 - val_r2_score: 0.5601\n",
      "Epoch 11/100\n",
      "\u001b[1m28/28\u001b[0m \u001b[32m━━━━━━━━━━━━━━━━━━━━\u001b[0m\u001b[37m\u001b[0m \u001b[1m0s\u001b[0m 2ms/step - loss: 0.0117 - mae: 0.0579 - r2_score: 0.5213 - val_loss: 0.0077 - val_mae: 0.0487 - val_r2_score: 0.5750\n",
      "Epoch 12/100\n",
      "\u001b[1m28/28\u001b[0m \u001b[32m━━━━━━━━━━━━━━━━━━━━\u001b[0m\u001b[37m\u001b[0m \u001b[1m0s\u001b[0m 2ms/step - loss: 0.0113 - mae: 0.0573 - r2_score: 0.5373 - val_loss: 0.0075 - val_mae: 0.0489 - val_r2_score: 0.5875\n",
      "Epoch 13/100\n",
      "\u001b[1m28/28\u001b[0m \u001b[32m━━━━━━━━━━━━━━━━━━━━\u001b[0m\u001b[37m\u001b[0m \u001b[1m0s\u001b[0m 2ms/step - loss: 0.0110 - mae: 0.0569 - r2_score: 0.5517 - val_loss: 0.0073 - val_mae: 0.0486 - val_r2_score: 0.5992\n",
      "Epoch 14/100\n",
      "\u001b[1m28/28\u001b[0m \u001b[32m━━━━━━━━━━━━━━━━━━━━\u001b[0m\u001b[37m\u001b[0m \u001b[1m0s\u001b[0m 2ms/step - loss: 0.0107 - mae: 0.0564 - r2_score: 0.5648 - val_loss: 0.0071 - val_mae: 0.0480 - val_r2_score: 0.6114\n",
      "Epoch 15/100\n",
      "\u001b[1m28/28\u001b[0m \u001b[32m━━━━━━━━━━━━━━━━━━━━\u001b[0m\u001b[37m\u001b[0m \u001b[1m0s\u001b[0m 2ms/step - loss: 0.0103 - mae: 0.0556 - r2_score: 0.5769 - val_loss: 0.0069 - val_mae: 0.0481 - val_r2_score: 0.6190\n",
      "Epoch 16/100\n",
      "\u001b[1m28/28\u001b[0m \u001b[32m━━━━━━━━━━━━━━━━━━━━\u001b[0m\u001b[37m\u001b[0m \u001b[1m0s\u001b[0m 2ms/step - loss: 0.0101 - mae: 0.0553 - r2_score: 0.5885 - val_loss: 0.0068 - val_mae: 0.0493 - val_r2_score: 0.6259\n",
      "Epoch 17/100\n",
      "\u001b[1m28/28\u001b[0m \u001b[32m━━━━━━━━━━━━━━━━━━━━\u001b[0m\u001b[37m\u001b[0m \u001b[1m0s\u001b[0m 2ms/step - loss: 0.0098 - mae: 0.0554 - r2_score: 0.5978 - val_loss: 0.0066 - val_mae: 0.0491 - val_r2_score: 0.6374\n",
      "Epoch 18/100\n",
      "\u001b[1m28/28\u001b[0m \u001b[32m━━━━━━━━━━━━━━━━━━━━\u001b[0m\u001b[37m\u001b[0m \u001b[1m0s\u001b[0m 2ms/step - loss: 0.0095 - mae: 0.0544 - r2_score: 0.6092 - val_loss: 0.0064 - val_mae: 0.0480 - val_r2_score: 0.6462\n",
      "Epoch 19/100\n",
      "\u001b[1m28/28\u001b[0m \u001b[32m━━━━━━━━━━━━━━━━━━━━\u001b[0m\u001b[37m\u001b[0m \u001b[1m0s\u001b[0m 2ms/step - loss: 0.0094 - mae: 0.0538 - r2_score: 0.6167 - val_loss: 0.0062 - val_mae: 0.0479 - val_r2_score: 0.6571\n",
      "Epoch 20/100\n",
      "\u001b[1m28/28\u001b[0m \u001b[32m━━━━━━━━━━━━━━━━━━━━\u001b[0m\u001b[37m\u001b[0m \u001b[1m0s\u001b[0m 2ms/step - loss: 0.0091 - mae: 0.0536 - r2_score: 0.6262 - val_loss: 0.0061 - val_mae: 0.0486 - val_r2_score: 0.6619\n",
      "Epoch 21/100\n",
      "\u001b[1m28/28\u001b[0m \u001b[32m━━━━━━━━━━━━━━━━━━━━\u001b[0m\u001b[37m\u001b[0m \u001b[1m0s\u001b[0m 2ms/step - loss: 0.0089 - mae: 0.0531 - r2_score: 0.6341 - val_loss: 0.0060 - val_mae: 0.0475 - val_r2_score: 0.6710\n",
      "Epoch 22/100\n",
      "\u001b[1m28/28\u001b[0m \u001b[32m━━━━━━━━━━━━━━━━━━━━\u001b[0m\u001b[37m\u001b[0m \u001b[1m0s\u001b[0m 2ms/step - loss: 0.0087 - mae: 0.0526 - r2_score: 0.6422 - val_loss: 0.0059 - val_mae: 0.0476 - val_r2_score: 0.6754\n",
      "Epoch 23/100\n",
      "\u001b[1m28/28\u001b[0m \u001b[32m━━━━━━━━━━━━━━━━━━━━\u001b[0m\u001b[37m\u001b[0m \u001b[1m0s\u001b[0m 2ms/step - loss: 0.0085 - mae: 0.0520 - r2_score: 0.6498 - val_loss: 0.0058 - val_mae: 0.0473 - val_r2_score: 0.6798\n",
      "Epoch 24/100\n",
      "\u001b[1m28/28\u001b[0m \u001b[32m━━━━━━━━━━━━━━━━━━━━\u001b[0m\u001b[37m\u001b[0m \u001b[1m0s\u001b[0m 2ms/step - loss: 0.0083 - mae: 0.0516 - r2_score: 0.6589 - val_loss: 0.0058 - val_mae: 0.0472 - val_r2_score: 0.6814\n",
      "Epoch 25/100\n",
      "\u001b[1m28/28\u001b[0m \u001b[32m━━━━━━━━━━━━━━━━━━━━\u001b[0m\u001b[37m\u001b[0m \u001b[1m0s\u001b[0m 2ms/step - loss: 0.0081 - mae: 0.0509 - r2_score: 0.6640 - val_loss: 0.0057 - val_mae: 0.0473 - val_r2_score: 0.6875\n",
      "Epoch 26/100\n",
      "\u001b[1m28/28\u001b[0m \u001b[32m━━━━━━━━━━━━━━━━━━━━\u001b[0m\u001b[37m\u001b[0m \u001b[1m0s\u001b[0m 2ms/step - loss: 0.0080 - mae: 0.0509 - r2_score: 0.6708 - val_loss: 0.0056 - val_mae: 0.0470 - val_r2_score: 0.6891\n",
      "Epoch 27/100\n",
      "\u001b[1m28/28\u001b[0m \u001b[32m━━━━━━━━━━━━━━━━━━━━\u001b[0m\u001b[37m\u001b[0m \u001b[1m0s\u001b[0m 2ms/step - loss: 0.0078 - mae: 0.0502 - r2_score: 0.6766 - val_loss: 0.0056 - val_mae: 0.0472 - val_r2_score: 0.6896\n",
      "Epoch 28/100\n",
      "\u001b[1m28/28\u001b[0m \u001b[32m━━━━━━━━━━━━━━━━━━━━\u001b[0m\u001b[37m\u001b[0m \u001b[1m0s\u001b[0m 2ms/step - loss: 0.0077 - mae: 0.0503 - r2_score: 0.6799 - val_loss: 0.0056 - val_mae: 0.0475 - val_r2_score: 0.6911\n",
      "Epoch 29/100\n",
      "\u001b[1m28/28\u001b[0m \u001b[32m━━━━━━━━━━━━━━━━━━━━\u001b[0m\u001b[37m\u001b[0m \u001b[1m0s\u001b[0m 2ms/step - loss: 0.0076 - mae: 0.0499 - r2_score: 0.6862 - val_loss: 0.0056 - val_mae: 0.0468 - val_r2_score: 0.6941\n",
      "Epoch 30/100\n",
      "\u001b[1m28/28\u001b[0m \u001b[32m━━━━━━━━━━━━━━━━━━━━\u001b[0m\u001b[37m\u001b[0m \u001b[1m0s\u001b[0m 2ms/step - loss: 0.0075 - mae: 0.0496 - r2_score: 0.6883 - val_loss: 0.0055 - val_mae: 0.0469 - val_r2_score: 0.6942\n",
      "Epoch 31/100\n",
      "\u001b[1m28/28\u001b[0m \u001b[32m━━━━━━━━━━━━━━━━━━━━\u001b[0m\u001b[37m\u001b[0m \u001b[1m0s\u001b[0m 2ms/step - loss: 0.0074 - mae: 0.0495 - r2_score: 0.6936 - val_loss: 0.0055 - val_mae: 0.0466 - val_r2_score: 0.6979\n",
      "Epoch 32/100\n",
      "\u001b[1m28/28\u001b[0m \u001b[32m━━━━━━━━━━━━━━━━━━━━\u001b[0m\u001b[37m\u001b[0m \u001b[1m0s\u001b[0m 2ms/step - loss: 0.0073 - mae: 0.0493 - r2_score: 0.6965 - val_loss: 0.0056 - val_mae: 0.0473 - val_r2_score: 0.6935\n",
      "Epoch 33/100\n",
      "\u001b[1m28/28\u001b[0m \u001b[32m━━━━━━━━━━━━━━━━━━━━\u001b[0m\u001b[37m\u001b[0m \u001b[1m0s\u001b[0m 2ms/step - loss: 0.0072 - mae: 0.0492 - r2_score: 0.6997 - val_loss: 0.0055 - val_mae: 0.0467 - val_r2_score: 0.6985\n",
      "Epoch 34/100\n",
      "\u001b[1m28/28\u001b[0m \u001b[32m━━━━━━━━━━━━━━━━━━━━\u001b[0m\u001b[37m\u001b[0m \u001b[1m0s\u001b[0m 2ms/step - loss: 0.0071 - mae: 0.0487 - r2_score: 0.7047 - val_loss: 0.0055 - val_mae: 0.0468 - val_r2_score: 0.6971\n",
      "Epoch 35/100\n",
      "\u001b[1m28/28\u001b[0m \u001b[32m━━━━━━━━━━━━━━━━━━━━\u001b[0m\u001b[37m\u001b[0m \u001b[1m0s\u001b[0m 2ms/step - loss: 0.0071 - mae: 0.0492 - r2_score: 0.7059 - val_loss: 0.0055 - val_mae: 0.0465 - val_r2_score: 0.6969\n",
      "Epoch 36/100\n",
      "\u001b[1m28/28\u001b[0m \u001b[32m━━━━━━━━━━━━━━━━━━━━\u001b[0m\u001b[37m\u001b[0m \u001b[1m0s\u001b[0m 2ms/step - loss: 0.0070 - mae: 0.0490 - r2_score: 0.7096 - val_loss: 0.0054 - val_mae: 0.0455 - val_r2_score: 0.7003\n",
      "Epoch 37/100\n",
      "\u001b[1m28/28\u001b[0m \u001b[32m━━━━━━━━━━━━━━━━━━━━\u001b[0m\u001b[37m\u001b[0m \u001b[1m0s\u001b[0m 2ms/step - loss: 0.0069 - mae: 0.0488 - r2_score: 0.7117 - val_loss: 0.0055 - val_mae: 0.0450 - val_r2_score: 0.6997\n",
      "Epoch 38/100\n",
      "\u001b[1m28/28\u001b[0m \u001b[32m━━━━━━━━━━━━━━━━━━━━\u001b[0m\u001b[37m\u001b[0m \u001b[1m0s\u001b[0m 2ms/step - loss: 0.0069 - mae: 0.0487 - r2_score: 0.7127 - val_loss: 0.0054 - val_mae: 0.0444 - val_r2_score: 0.7041\n",
      "Epoch 39/100\n",
      "\u001b[1m28/28\u001b[0m \u001b[32m━━━━━━━━━━━━━━━━━━━━\u001b[0m\u001b[37m\u001b[0m \u001b[1m0s\u001b[0m 2ms/step - loss: 0.0068 - mae: 0.0487 - r2_score: 0.7153 - val_loss: 0.0053 - val_mae: 0.0436 - val_r2_score: 0.7066\n",
      "Epoch 40/100\n",
      "\u001b[1m28/28\u001b[0m \u001b[32m━━━━━━━━━━━━━━━━━━━━\u001b[0m\u001b[37m\u001b[0m \u001b[1m0s\u001b[0m 2ms/step - loss: 0.0068 - mae: 0.0489 - r2_score: 0.7147 - val_loss: 0.0053 - val_mae: 0.0432 - val_r2_score: 0.7066\n",
      "Epoch 41/100\n",
      "\u001b[1m28/28\u001b[0m \u001b[32m━━━━━━━━━━━━━━━━━━━━\u001b[0m\u001b[37m\u001b[0m \u001b[1m0s\u001b[0m 2ms/step - loss: 0.0068 - mae: 0.0490 - r2_score: 0.7147 - val_loss: 0.0054 - val_mae: 0.0419 - val_r2_score: 0.7045\n",
      "Epoch 42/100\n",
      "\u001b[1m28/28\u001b[0m \u001b[32m━━━━━━━━━━━━━━━━━━━━\u001b[0m\u001b[37m\u001b[0m \u001b[1m0s\u001b[0m 2ms/step - loss: 0.0068 - mae: 0.0488 - r2_score: 0.7146 - val_loss: 0.0054 - val_mae: 0.0405 - val_r2_score: 0.7022\n",
      "Epoch 43/100\n",
      "\u001b[1m28/28\u001b[0m \u001b[32m━━━━━━━━━━━━━━━━━━━━\u001b[0m\u001b[37m\u001b[0m \u001b[1m0s\u001b[0m 2ms/step - loss: 0.0069 - mae: 0.0484 - r2_score: 0.7128 - val_loss: 0.0054 - val_mae: 0.0397 - val_r2_score: 0.7013\n",
      "Epoch 44/100\n",
      "\u001b[1m28/28\u001b[0m \u001b[32m━━━━━━━━━━━━━━━━━━━━\u001b[0m\u001b[37m\u001b[0m \u001b[1m0s\u001b[0m 2ms/step - loss: 0.0069 - mae: 0.0486 - r2_score: 0.7088 - val_loss: 0.0055 - val_mae: 0.0392 - val_r2_score: 0.6966\n",
      "Epoch 45/100\n",
      "\u001b[1m28/28\u001b[0m \u001b[32m━━━━━━━━━━━━━━━━━━━━\u001b[0m\u001b[37m\u001b[0m \u001b[1m0s\u001b[0m 2ms/step - loss: 0.0070 - mae: 0.0488 - r2_score: 0.7049 - val_loss: 0.0059 - val_mae: 0.0398 - val_r2_score: 0.6756\n"
     ]
    },
    {
     "data": {
      "text/plain": [
       "<keras.src.callbacks.history.History at 0x23cb58e2150>"
      ]
     },
     "execution_count": 144,
     "metadata": {},
     "output_type": "execute_result"
    }
   ],
   "source": [
    "early_stop = keras.callbacks.EarlyStopping(monitor='val_loss', patience=5, restore_best_weights=True)\n",
    "\n",
    "nn_reg.fit(X_train, y_train, epochs=100, validation_data=(X_val, y_val), callbacks=[early_stop])"
   ]
  },
  {
   "cell_type": "code",
   "execution_count": null,
   "metadata": {},
   "outputs": [
    {
     "name": "stdout",
     "output_type": "stream",
     "text": [
      "\u001b[1m4/4\u001b[0m \u001b[32m━━━━━━━━━━━━━━━━━━━━\u001b[0m\u001b[37m\u001b[0m \u001b[1m0s\u001b[0m 2ms/step - loss: 0.0030 - mae: 0.0361 - r2_score: 0.8046 \n"
     ]
    },
    {
     "data": {
      "text/plain": [
       "[0.004316628444939852, 0.03915241360664368, 0.7429929971694946]"
      ]
     },
     "execution_count": 145,
     "metadata": {},
     "output_type": "execute_result"
    }
   ],
   "source": [
    "nn_reg.evaluate(X_test, y_test)"
   ]
  },
  {
   "cell_type": "code",
   "execution_count": null,
   "metadata": {},
   "outputs": [
    {
     "name": "stdout",
     "output_type": "stream",
     "text": [
      "\u001b[1m4/4\u001b[0m \u001b[32m━━━━━━━━━━━━━━━━━━━━\u001b[0m\u001b[37m\u001b[0m \u001b[1m0s\u001b[0m 9ms/step \n"
     ]
    }
   ],
   "source": [
    "nn_reg_pred = nn_reg.predict(X_test)"
   ]
  },
  {
   "cell_type": "markdown",
   "metadata": {},
   "source": [
    "<p align=\"justify\">\n",
    "O código abaixo faz o ajuste de hiperparâmetros através do Optuna para o Neural Network Regressor. Escolhemos variar os valores de n_layers, weight_decay, n_units e activation, por serem considerados uns dos mais impactantes na performance desse tipo de regressor."
   ]
  },
  {
   "cell_type": "code",
   "execution_count": null,
   "metadata": {},
   "outputs": [],
   "source": [
    "def create_model(trial):\n",
    "    n_layers = trial.suggest_int('n_layers', 1, 5)\n",
    "    weight_decay = trial.suggest_float(\"weight_decay\", 1e-10, 1e-3, log=True)\n",
    "    \n",
    "    model = tf.keras.Sequential()\n",
    "    model.add(keras.Input(shape=(X_train.shape[1],)))\n",
    "    \n",
    "    for i in range(n_layers):\n",
    "        n_units = trial.suggest_int(f'n_units_{i}', 4, 128)\n",
    "        activation = trial.suggest_categorical(f'activation_{i}', ['relu', 'tanh', 'sigmoid', 'linear'])\n",
    "        \n",
    "        model.add(\n",
    "            layers.Dense(\n",
    "                n_units, activation=activation, kernel_regularizer=keras.regularizers.l2(weight_decay)\n",
    "            )\n",
    "        )\n",
    "    \n",
    "    model.add(layers.Dense(1))\n",
    "    \n",
    "    return model\n",
    "\n",
    "def create_optimizer(trial):\n",
    "    lr = trial.suggest_float('lr', 1e-5, 1e-1, log=True)\n",
    "    optimizer = tf.keras.optimizers.Adam(lr)\n",
    "    \n",
    "    return optimizer"
   ]
  },
  {
   "cell_type": "code",
   "execution_count": null,
   "metadata": {},
   "outputs": [],
   "source": [
    "def objective_nn(trial):\n",
    "    model = create_model(trial)\n",
    "    optimizer = create_optimizer(trial)\n",
    "    \n",
    "    model.compile(loss='mse', optimizer=optimizer, metrics=['mae', 'r2_score'])\n",
    "    \n",
    "    early_stop = keras.callbacks.EarlyStopping(monitor='val_loss', patience=5, restore_best_weights=True)\n",
    "    \n",
    "    model.fit(X_train, y_train, epochs=100, validation_data=(X_val, y_val), callbacks=[early_stop], verbose=0)\n",
    "    \n",
    "    return model.evaluate(X_test, y_test, verbose=0)[2]"
   ]
  },
  {
   "cell_type": "code",
   "execution_count": null,
   "metadata": {},
   "outputs": [
    {
     "name": "stderr",
     "output_type": "stream",
     "text": [
      "[I 2024-07-11 20:48:58,301] A new study created in memory with name: Study for neural network regressor\n"
     ]
    },
    {
     "name": "stdout",
     "output_type": "stream",
     "text": [
      "\u001b[1m4/4\u001b[0m \u001b[32m━━━━━━━━━━━━━━━━━━━━\u001b[0m\u001b[37m\u001b[0m \u001b[1m0s\u001b[0m 2ms/step - loss: 0.0155 - mae: 0.0516 - r2_score: 0.5456 \n"
     ]
    },
    {
     "name": "stderr",
     "output_type": "stream",
     "text": [
      "[I 2024-07-11 20:49:06,397] Trial 0 finished with value: 0.5444973111152649 and parameters: {'n_layers': 4, 'weight_decay': 0.000903765778016118, 'n_units_0': 40, 'activation_0': 'linear', 'n_units_1': 11, 'activation_1': 'tanh', 'n_units_2': 126, 'activation_2': 'linear', 'n_units_3': 122, 'activation_3': 'tanh', 'lr': 0.00026562131670520325}. Best is trial 0 with value: 0.5444973111152649.\n"
     ]
    },
    {
     "name": "stdout",
     "output_type": "stream",
     "text": [
      "\u001b[1m4/4\u001b[0m \u001b[32m━━━━━━━━━━━━━━━━━━━━\u001b[0m\u001b[37m\u001b[0m \u001b[1m0s\u001b[0m 2ms/step - loss: 0.0108 - mae: 0.0671 - r2_score: 0.2839 \n"
     ]
    },
    {
     "name": "stderr",
     "output_type": "stream",
     "text": [
      "[I 2024-07-11 20:49:08,681] Trial 1 finished with value: 0.2546149492263794 and parameters: {'n_layers': 3, 'weight_decay': 3.888279422503311e-08, 'n_units_0': 30, 'activation_0': 'tanh', 'n_units_1': 128, 'activation_1': 'sigmoid', 'n_units_2': 114, 'activation_2': 'relu', 'lr': 0.00032874509864748436}. Best is trial 0 with value: 0.5444973111152649.\n"
     ]
    },
    {
     "name": "stdout",
     "output_type": "stream",
     "text": [
      "\u001b[1m4/4\u001b[0m \u001b[32m━━━━━━━━━━━━━━━━━━━━\u001b[0m\u001b[37m\u001b[0m \u001b[1m0s\u001b[0m 2ms/step - loss: 0.0070 - mae: 0.0515 - r2_score: 0.5345 \n"
     ]
    },
    {
     "name": "stderr",
     "output_type": "stream",
     "text": [
      "[I 2024-07-11 20:49:10,477] Trial 2 finished with value: 0.5169340372085571 and parameters: {'n_layers': 2, 'weight_decay': 5.755974263174569e-10, 'n_units_0': 51, 'activation_0': 'tanh', 'n_units_1': 59, 'activation_1': 'linear', 'lr': 0.004765100488649018}. Best is trial 0 with value: 0.5444973111152649.\n"
     ]
    },
    {
     "name": "stdout",
     "output_type": "stream",
     "text": [
      "\u001b[1m4/4\u001b[0m \u001b[32m━━━━━━━━━━━━━━━━━━━━\u001b[0m\u001b[37m\u001b[0m \u001b[1m0s\u001b[0m 2ms/step - loss: 0.0081 - mae: 0.0529 - r2_score: 0.5357 \n"
     ]
    },
    {
     "name": "stderr",
     "output_type": "stream",
     "text": [
      "[I 2024-07-11 20:49:12,785] Trial 3 finished with value: 0.5422408580780029 and parameters: {'n_layers': 1, 'weight_decay': 0.00010079179160355958, 'n_units_0': 102, 'activation_0': 'linear', 'lr': 0.0012783886197649558}. Best is trial 0 with value: 0.5444973111152649.\n"
     ]
    },
    {
     "name": "stdout",
     "output_type": "stream",
     "text": [
      "\u001b[1m4/4\u001b[0m \u001b[32m━━━━━━━━━━━━━━━━━━━━\u001b[0m\u001b[37m\u001b[0m \u001b[1m0s\u001b[0m 2ms/step - loss: 0.0047 - mae: 0.0418 - r2_score: 0.7097 \n"
     ]
    },
    {
     "name": "stderr",
     "output_type": "stream",
     "text": [
      "[I 2024-07-11 20:49:18,168] Trial 4 finished with value: 0.646216630935669 and parameters: {'n_layers': 3, 'weight_decay': 1.5348499720302595e-06, 'n_units_0': 48, 'activation_0': 'relu', 'n_units_1': 108, 'activation_1': 'linear', 'n_units_2': 107, 'activation_2': 'tanh', 'lr': 0.00013723891336242245}. Best is trial 4 with value: 0.646216630935669.\n"
     ]
    },
    {
     "name": "stdout",
     "output_type": "stream",
     "text": [
      "\u001b[1m4/4\u001b[0m \u001b[32m━━━━━━━━━━━━━━━━━━━━\u001b[0m\u001b[37m\u001b[0m \u001b[1m0s\u001b[0m 2ms/step - loss: 0.0101 - mae: 0.0597 - r2_score: 0.3330 \n"
     ]
    },
    {
     "name": "stderr",
     "output_type": "stream",
     "text": [
      "[I 2024-07-11 20:49:26,392] Trial 5 finished with value: 0.2824856638908386 and parameters: {'n_layers': 5, 'weight_decay': 1.0255610904678169e-07, 'n_units_0': 115, 'activation_0': 'sigmoid', 'n_units_1': 97, 'activation_1': 'relu', 'n_units_2': 54, 'activation_2': 'sigmoid', 'n_units_3': 8, 'activation_3': 'relu', 'n_units_4': 55, 'activation_4': 'tanh', 'lr': 6.004154798352474e-05}. Best is trial 4 with value: 0.646216630935669.\n"
     ]
    },
    {
     "name": "stdout",
     "output_type": "stream",
     "text": [
      "\u001b[1m4/4\u001b[0m \u001b[32m━━━━━━━━━━━━━━━━━━━━\u001b[0m\u001b[37m\u001b[0m \u001b[1m0s\u001b[0m 2ms/step - loss: 0.0051 - mae: 0.0417 - r2_score: 0.6602 \n"
     ]
    },
    {
     "name": "stderr",
     "output_type": "stream",
     "text": [
      "[I 2024-07-11 20:49:29,079] Trial 6 finished with value: 0.6241804957389832 and parameters: {'n_layers': 5, 'weight_decay': 1.5405088898873792e-08, 'n_units_0': 112, 'activation_0': 'relu', 'n_units_1': 87, 'activation_1': 'sigmoid', 'n_units_2': 100, 'activation_2': 'linear', 'n_units_3': 95, 'activation_3': 'tanh', 'n_units_4': 91, 'activation_4': 'relu', 'lr': 0.0013075963377854518}. Best is trial 4 with value: 0.646216630935669.\n"
     ]
    },
    {
     "name": "stdout",
     "output_type": "stream",
     "text": [
      "\u001b[1m4/4\u001b[0m \u001b[32m━━━━━━━━━━━━━━━━━━━━\u001b[0m\u001b[37m\u001b[0m \u001b[1m0s\u001b[0m 2ms/step - loss: 0.0029 - mae: 0.0320 - r2_score: 0.8095 \n"
     ]
    },
    {
     "name": "stderr",
     "output_type": "stream",
     "text": [
      "[I 2024-07-11 20:49:32,642] Trial 7 finished with value: 0.7457281947135925 and parameters: {'n_layers': 5, 'weight_decay': 2.46671143512715e-09, 'n_units_0': 54, 'activation_0': 'relu', 'n_units_1': 84, 'activation_1': 'linear', 'n_units_2': 127, 'activation_2': 'tanh', 'n_units_3': 84, 'activation_3': 'relu', 'n_units_4': 105, 'activation_4': 'linear', 'lr': 0.0032067090755254824}. Best is trial 7 with value: 0.7457281947135925.\n"
     ]
    },
    {
     "name": "stdout",
     "output_type": "stream",
     "text": [
      "\u001b[1m4/4\u001b[0m \u001b[32m━━━━━━━━━━━━━━━━━━━━\u001b[0m\u001b[37m\u001b[0m \u001b[1m0s\u001b[0m 2ms/step - loss: 0.0051 - mae: 0.0489 - r2_score: 0.6572 \n"
     ]
    },
    {
     "name": "stderr",
     "output_type": "stream",
     "text": [
      "[I 2024-07-11 20:49:37,506] Trial 8 finished with value: 0.6348251104354858 and parameters: {'n_layers': 4, 'weight_decay': 4.800327746837245e-08, 'n_units_0': 43, 'activation_0': 'sigmoid', 'n_units_1': 11, 'activation_1': 'tanh', 'n_units_2': 20, 'activation_2': 'relu', 'n_units_3': 12, 'activation_3': 'linear', 'lr': 0.0011133037052027802}. Best is trial 7 with value: 0.7457281947135925.\n"
     ]
    },
    {
     "name": "stdout",
     "output_type": "stream",
     "text": [
      "\u001b[1m4/4\u001b[0m \u001b[32m━━━━━━━━━━━━━━━━━━━━\u001b[0m\u001b[37m\u001b[0m \u001b[1m0s\u001b[0m 2ms/step - loss: 0.0044 - mae: 0.0442 - r2_score: 0.7157 \n"
     ]
    },
    {
     "name": "stderr",
     "output_type": "stream",
     "text": [
      "[I 2024-07-11 20:49:40,216] Trial 9 finished with value: 0.6639320850372314 and parameters: {'n_layers': 3, 'weight_decay': 3.2508562581072983e-06, 'n_units_0': 5, 'activation_0': 'relu', 'n_units_1': 5, 'activation_1': 'relu', 'n_units_2': 21, 'activation_2': 'relu', 'lr': 0.009321521376879803}. Best is trial 7 with value: 0.7457281947135925.\n"
     ]
    },
    {
     "name": "stdout",
     "output_type": "stream",
     "text": [
      "\u001b[1m4/4\u001b[0m \u001b[32m━━━━━━━━━━━━━━━━━━━━\u001b[0m\u001b[37m\u001b[0m \u001b[1m0s\u001b[0m 2ms/step - loss: 0.0152 - mae: 0.0804 - r2_score: -0.0135 \n"
     ]
    },
    {
     "name": "stderr",
     "output_type": "stream",
     "text": [
      "[I 2024-07-11 20:49:42,405] Trial 10 finished with value: -0.012318611145019531 and parameters: {'n_layers': 5, 'weight_decay': 3.3933991579593084e-10, 'n_units_0': 79, 'activation_0': 'relu', 'n_units_1': 57, 'activation_1': 'linear', 'n_units_2': 74, 'activation_2': 'tanh', 'n_units_3': 58, 'activation_3': 'sigmoid', 'n_units_4': 125, 'activation_4': 'linear', 'lr': 0.09535408597329084}. Best is trial 7 with value: 0.7457281947135925.\n"
     ]
    },
    {
     "name": "stdout",
     "output_type": "stream",
     "text": [
      "\u001b[1m4/4\u001b[0m \u001b[32m━━━━━━━━━━━━━━━━━━━━\u001b[0m\u001b[37m\u001b[0m \u001b[1m0s\u001b[0m 2ms/step - loss: 0.0048 - mae: 0.0445 - r2_score: 0.6840 \n"
     ]
    },
    {
     "name": "stderr",
     "output_type": "stream",
     "text": [
      "[I 2024-07-11 20:49:44,159] Trial 11 finished with value: 0.6535770893096924 and parameters: {'n_layers': 2, 'weight_decay': 2.5168972542960875e-06, 'n_units_0': 10, 'activation_0': 'relu', 'n_units_1': 34, 'activation_1': 'relu', 'lr': 0.019131169496387615}. Best is trial 7 with value: 0.7457281947135925.\n"
     ]
    },
    {
     "name": "stdout",
     "output_type": "stream",
     "text": [
      "\u001b[1m4/4\u001b[0m \u001b[32m━━━━━━━━━━━━━━━━━━━━\u001b[0m\u001b[37m\u001b[0m \u001b[1m0s\u001b[0m 2ms/step - loss: 0.0043 - mae: 0.0440 - r2_score: 0.7376 \n"
     ]
    },
    {
     "name": "stderr",
     "output_type": "stream",
     "text": [
      "[I 2024-07-11 20:49:47,452] Trial 12 finished with value: 0.6732080578804016 and parameters: {'n_layers': 4, 'weight_decay': 1.1798398146153155e-05, 'n_units_0': 8, 'activation_0': 'relu', 'n_units_1': 75, 'activation_1': 'relu', 'n_units_2': 9, 'activation_2': 'relu', 'n_units_3': 62, 'activation_3': 'relu', 'lr': 0.009001512632419922}. Best is trial 7 with value: 0.7457281947135925.\n"
     ]
    },
    {
     "name": "stdout",
     "output_type": "stream",
     "text": [
      "\u001b[1m4/4\u001b[0m \u001b[32m━━━━━━━━━━━━━━━━━━━━\u001b[0m\u001b[37m\u001b[0m \u001b[1m0s\u001b[0m 2ms/step - loss: 0.0048 - mae: 0.0434 - r2_score: 0.6871 \n"
     ]
    },
    {
     "name": "stderr",
     "output_type": "stream",
     "text": [
      "[I 2024-07-11 20:49:50,065] Trial 13 finished with value: 0.6353076696395874 and parameters: {'n_layers': 4, 'weight_decay': 3.0665983614740647e-09, 'n_units_0': 79, 'activation_0': 'relu', 'n_units_1': 80, 'activation_1': 'relu', 'n_units_2': 56, 'activation_2': 'tanh', 'n_units_3': 64, 'activation_3': 'relu', 'lr': 0.03609997566039517}. Best is trial 7 with value: 0.7457281947135925.\n"
     ]
    },
    {
     "name": "stdout",
     "output_type": "stream",
     "text": [
      "\u001b[1m4/4\u001b[0m \u001b[32m━━━━━━━━━━━━━━━━━━━━\u001b[0m\u001b[37m\u001b[0m \u001b[1m0s\u001b[0m 2ms/step - loss: 0.0146 - mae: 0.0653 - r2_score: 0.1488 \n"
     ]
    },
    {
     "name": "stderr",
     "output_type": "stream",
     "text": [
      "[I 2024-07-11 20:49:58,129] Trial 14 finished with value: 0.11691945791244507 and parameters: {'n_layers': 4, 'weight_decay': 3.0520619614781655e-05, 'n_units_0': 23, 'activation_0': 'relu', 'n_units_1': 69, 'activation_1': 'linear', 'n_units_2': 5, 'activation_2': 'sigmoid', 'n_units_3': 84, 'activation_3': 'relu', 'lr': 1.2988642147176331e-05}. Best is trial 7 with value: 0.7457281947135925.\n"
     ]
    },
    {
     "name": "stdout",
     "output_type": "stream",
     "text": [
      "\u001b[1m4/4\u001b[0m \u001b[32m━━━━━━━━━━━━━━━━━━━━\u001b[0m\u001b[37m\u001b[0m \u001b[1m0s\u001b[0m 2ms/step - loss: 0.0039 - mae: 0.0365 - r2_score: 0.7568 \n"
     ]
    },
    {
     "name": "stderr",
     "output_type": "stream",
     "text": [
      "[I 2024-07-11 20:50:00,695] Trial 15 finished with value: 0.6892846822738647 and parameters: {'n_layers': 5, 'weight_decay': 6.380975269488238e-07, 'n_units_0': 65, 'activation_0': 'relu', 'n_units_1': 43, 'activation_1': 'linear', 'n_units_2': 78, 'activation_2': 'relu', 'n_units_3': 58, 'activation_3': 'relu', 'n_units_4': 4, 'activation_4': 'linear', 'lr': 0.004498310991430246}. Best is trial 7 with value: 0.7457281947135925.\n"
     ]
    },
    {
     "name": "stdout",
     "output_type": "stream",
     "text": [
      "\u001b[1m4/4\u001b[0m \u001b[32m━━━━━━━━━━━━━━━━━━━━\u001b[0m\u001b[37m\u001b[0m \u001b[1m0s\u001b[0m 2ms/step - loss: 0.0071 - mae: 0.0564 - r2_score: 0.5261 \n"
     ]
    },
    {
     "name": "stderr",
     "output_type": "stream",
     "text": [
      "[I 2024-07-11 20:50:03,782] Trial 16 finished with value: 0.5259151458740234 and parameters: {'n_layers': 5, 'weight_decay': 2.883828041100043e-07, 'n_units_0': 68, 'activation_0': 'sigmoid', 'n_units_1': 35, 'activation_1': 'linear', 'n_units_2': 83, 'activation_2': 'tanh', 'n_units_3': 40, 'activation_3': 'relu', 'n_units_4': 13, 'activation_4': 'linear', 'lr': 0.0036858879030399723}. Best is trial 7 with value: 0.7457281947135925.\n"
     ]
    },
    {
     "name": "stdout",
     "output_type": "stream",
     "text": [
      "\u001b[1m4/4\u001b[0m \u001b[32m━━━━━━━━━━━━━━━━━━━━\u001b[0m\u001b[37m\u001b[0m \u001b[1m0s\u001b[0m 2ms/step - loss: 0.0083 - mae: 0.0587 - r2_score: 0.4412 \n"
     ]
    },
    {
     "name": "stderr",
     "output_type": "stream",
     "text": [
      "[I 2024-07-11 20:50:09,560] Trial 17 finished with value: 0.4403238892555237 and parameters: {'n_layers': 5, 'weight_decay': 4.091921116239339e-09, 'n_units_0': 63, 'activation_0': 'tanh', 'n_units_1': 42, 'activation_1': 'linear', 'n_units_2': 88, 'activation_2': 'relu', 'n_units_3': 97, 'activation_3': 'linear', 'n_units_4': 11, 'activation_4': 'linear', 'lr': 0.037512437605459754}. Best is trial 7 with value: 0.7457281947135925.\n"
     ]
    },
    {
     "name": "stdout",
     "output_type": "stream",
     "text": [
      "\u001b[1m4/4\u001b[0m \u001b[32m━━━━━━━━━━━━━━━━━━━━\u001b[0m\u001b[37m\u001b[0m \u001b[1m0s\u001b[0m 2ms/step - loss: 0.0055 - mae: 0.0419 - r2_score: 0.6504 \n"
     ]
    },
    {
     "name": "stderr",
     "output_type": "stream",
     "text": [
      "[I 2024-07-11 20:50:12,800] Trial 18 finished with value: 0.6195237040519714 and parameters: {'n_layers': 5, 'weight_decay': 4.57391693567397e-07, 'n_units_0': 89, 'activation_0': 'linear', 'n_units_1': 48, 'activation_1': 'linear', 'n_units_2': 46, 'activation_2': 'tanh', 'n_units_3': 38, 'activation_3': 'sigmoid', 'n_units_4': 72, 'activation_4': 'linear', 'lr': 0.003169190307486753}. Best is trial 7 with value: 0.7457281947135925.\n"
     ]
    },
    {
     "name": "stdout",
     "output_type": "stream",
     "text": [
      "\u001b[1m4/4\u001b[0m \u001b[32m━━━━━━━━━━━━━━━━━━━━\u001b[0m\u001b[37m\u001b[0m \u001b[1m0s\u001b[0m 2ms/step - loss: 0.0051 - mae: 0.0392 - r2_score: 0.6737 \n"
     ]
    },
    {
     "name": "stderr",
     "output_type": "stream",
     "text": [
      "[I 2024-07-11 20:50:19,864] Trial 19 finished with value: 0.617836594581604 and parameters: {'n_layers': 3, 'weight_decay': 1.0893281787416418e-10, 'n_units_0': 61, 'activation_0': 'relu', 'n_units_1': 26, 'activation_1': 'linear', 'n_units_2': 38, 'activation_2': 'linear', 'lr': 0.0004534149089447227}. Best is trial 7 with value: 0.7457281947135925.\n"
     ]
    },
    {
     "name": "stdout",
     "output_type": "stream",
     "text": [
      "\u001b[1m4/4\u001b[0m \u001b[32m━━━━━━━━━━━━━━━━━━━━\u001b[0m\u001b[37m\u001b[0m \u001b[1m0s\u001b[0m 2ms/step - loss: 0.0035 - mae: 0.0358 - r2_score: 0.7726 \n"
     ]
    },
    {
     "name": "stderr",
     "output_type": "stream",
     "text": [
      "[I 2024-07-11 20:50:22,196] Trial 20 finished with value: 0.7175657153129578 and parameters: {'n_layers': 2, 'weight_decay': 4.8543530962548075e-09, 'n_units_0': 95, 'activation_0': 'relu', 'n_units_1': 111, 'activation_1': 'tanh', 'lr': 0.0023199074093373205}. Best is trial 7 with value: 0.7457281947135925.\n"
     ]
    },
    {
     "name": "stdout",
     "output_type": "stream",
     "text": [
      "\u001b[1m4/4\u001b[0m \u001b[32m━━━━━━━━━━━━━━━━━━━━\u001b[0m\u001b[37m\u001b[0m \u001b[1m0s\u001b[0m 2ms/step - loss: 0.0038 - mae: 0.0392 - r2_score: 0.7494 \n"
     ]
    },
    {
     "name": "stderr",
     "output_type": "stream",
     "text": [
      "[I 2024-07-11 20:50:24,083] Trial 21 finished with value: 0.7080626487731934 and parameters: {'n_layers': 2, 'weight_decay': 4.091473748088433e-09, 'n_units_0': 98, 'activation_0': 'relu', 'n_units_1': 124, 'activation_1': 'tanh', 'lr': 0.002361732958401183}. Best is trial 7 with value: 0.7457281947135925.\n"
     ]
    },
    {
     "name": "stdout",
     "output_type": "stream",
     "text": [
      "\u001b[1m4/4\u001b[0m \u001b[32m━━━━━━━━━━━━━━━━━━━━\u001b[0m\u001b[37m\u001b[0m \u001b[1m0s\u001b[0m 2ms/step - loss: 0.0047 - mae: 0.0374 - r2_score: 0.6809 \n"
     ]
    },
    {
     "name": "stderr",
     "output_type": "stream",
     "text": [
      "[I 2024-07-11 20:50:26,831] Trial 22 finished with value: 0.673924446105957 and parameters: {'n_layers': 2, 'weight_decay': 2.653765657919018e-09, 'n_units_0': 101, 'activation_0': 'relu', 'n_units_1': 126, 'activation_1': 'tanh', 'lr': 0.0020634539120917817}. Best is trial 7 with value: 0.7457281947135925.\n"
     ]
    },
    {
     "name": "stdout",
     "output_type": "stream",
     "text": [
      "\u001b[1m4/4\u001b[0m \u001b[32m━━━━━━━━━━━━━━━━━━━━\u001b[0m\u001b[37m\u001b[0m \u001b[1m0s\u001b[0m 2ms/step - loss: 0.0035 - mae: 0.0390 - r2_score: 0.7722 \n"
     ]
    },
    {
     "name": "stderr",
     "output_type": "stream",
     "text": [
      "[I 2024-07-11 20:50:29,994] Trial 23 finished with value: 0.729629397392273 and parameters: {'n_layers': 1, 'weight_decay': 9.21884511233013e-09, 'n_units_0': 127, 'activation_0': 'relu', 'lr': 0.0007754083751501971}. Best is trial 7 with value: 0.7457281947135925.\n"
     ]
    },
    {
     "name": "stdout",
     "output_type": "stream",
     "text": [
      "\u001b[1m4/4\u001b[0m \u001b[32m━━━━━━━━━━━━━━━━━━━━\u001b[0m\u001b[37m\u001b[0m \u001b[1m0s\u001b[0m 2ms/step - loss: 0.0036 - mae: 0.0357 - r2_score: 0.7674 \n"
     ]
    },
    {
     "name": "stderr",
     "output_type": "stream",
     "text": [
      "[I 2024-07-11 20:50:35,181] Trial 24 finished with value: 0.7101127505302429 and parameters: {'n_layers': 1, 'weight_decay': 7.378442574096818e-10, 'n_units_0': 121, 'activation_0': 'relu', 'lr': 0.0005898667463363845}. Best is trial 7 with value: 0.7457281947135925.\n"
     ]
    },
    {
     "name": "stdout",
     "output_type": "stream",
     "text": [
      "\u001b[1m4/4\u001b[0m \u001b[32m━━━━━━━━━━━━━━━━━━━━\u001b[0m\u001b[37m\u001b[0m \u001b[1m0s\u001b[0m 2ms/step - loss: 0.0038 - mae: 0.0375 - r2_score: 0.7527 \n"
     ]
    },
    {
     "name": "stderr",
     "output_type": "stream",
     "text": [
      "[I 2024-07-11 20:50:41,996] Trial 25 finished with value: 0.7155662178993225 and parameters: {'n_layers': 1, 'weight_decay': 1.3831974932440223e-08, 'n_units_0': 88, 'activation_0': 'relu', 'lr': 0.00012351808892611087}. Best is trial 7 with value: 0.7457281947135925.\n"
     ]
    },
    {
     "name": "stdout",
     "output_type": "stream",
     "text": [
      "\u001b[1m4/4\u001b[0m \u001b[32m━━━━━━━━━━━━━━━━━━━━\u001b[0m\u001b[37m\u001b[0m \u001b[1m0s\u001b[0m 1ms/step - loss: 0.0072 - mae: 0.0517 - r2_score: 0.5201 \n"
     ]
    },
    {
     "name": "stderr",
     "output_type": "stream",
     "text": [
      "[I 2024-07-11 20:50:43,369] Trial 26 finished with value: 0.5065444111824036 and parameters: {'n_layers': 1, 'weight_decay': 1.1965336993889855e-08, 'n_units_0': 128, 'activation_0': 'linear', 'lr': 0.009970756380753641}. Best is trial 7 with value: 0.7457281947135925.\n"
     ]
    },
    {
     "name": "stdout",
     "output_type": "stream",
     "text": [
      "\u001b[1m4/4\u001b[0m \u001b[32m━━━━━━━━━━━━━━━━━━━━\u001b[0m\u001b[37m\u001b[0m \u001b[1m0s\u001b[0m 2ms/step - loss: 0.0083 - mae: 0.0564 - r2_score: 0.4453 \n"
     ]
    },
    {
     "name": "stderr",
     "output_type": "stream",
     "text": [
      "[I 2024-07-11 20:50:46,121] Trial 27 finished with value: 0.42109209299087524 and parameters: {'n_layers': 2, 'weight_decay': 1.1061399296953714e-10, 'n_units_0': 114, 'activation_0': 'sigmoid', 'n_units_1': 110, 'activation_1': 'tanh', 'lr': 0.0006983855317913326}. Best is trial 7 with value: 0.7457281947135925.\n"
     ]
    },
    {
     "name": "stdout",
     "output_type": "stream",
     "text": [
      "\u001b[1m4/4\u001b[0m \u001b[32m━━━━━━━━━━━━━━━━━━━━\u001b[0m\u001b[37m\u001b[0m \u001b[1m0s\u001b[0m 1ms/step - loss: 0.0081 - mae: 0.0580 - r2_score: 0.4621 \n"
     ]
    },
    {
     "name": "stderr",
     "output_type": "stream",
     "text": [
      "[I 2024-07-11 20:50:52,926] Trial 28 finished with value: 0.4424431324005127 and parameters: {'n_layers': 1, 'weight_decay': 1.0564120678160519e-09, 'n_units_0': 77, 'activation_0': 'tanh', 'lr': 5.35233595435667e-05}. Best is trial 7 with value: 0.7457281947135925.\n"
     ]
    },
    {
     "name": "stdout",
     "output_type": "stream",
     "text": [
      "\u001b[1m4/4\u001b[0m \u001b[32m━━━━━━━━━━━━━━━━━━━━\u001b[0m\u001b[37m\u001b[0m \u001b[1m0s\u001b[0m 2ms/step - loss: 0.0248 - mae: 0.0533 - r2_score: 0.4782 \n"
     ]
    },
    {
     "name": "stderr",
     "output_type": "stream",
     "text": [
      "[I 2024-07-11 20:51:00,147] Trial 29 finished with value: 0.4580819010734558 and parameters: {'n_layers': 2, 'weight_decay': 0.0009663599606915894, 'n_units_0': 90, 'activation_0': 'linear', 'n_units_1': 96, 'activation_1': 'sigmoid', 'lr': 0.00020993140871597836}. Best is trial 7 with value: 0.7457281947135925.\n"
     ]
    },
    {
     "name": "stdout",
     "output_type": "stream",
     "text": [
      "\u001b[1m4/4\u001b[0m \u001b[32m━━━━━━━━━━━━━━━━━━━━\u001b[0m\u001b[37m\u001b[0m \u001b[1m0s\u001b[0m 2ms/step - loss: 0.0028 - mae: 0.0327 - r2_score: 0.8193 \n"
     ]
    },
    {
     "name": "stderr",
     "output_type": "stream",
     "text": [
      "[I 2024-07-11 20:51:03,231] Trial 30 finished with value: 0.7603436708450317 and parameters: {'n_layers': 1, 'weight_decay': 1.1876535332201988e-07, 'n_units_0': 127, 'activation_0': 'relu', 'lr': 0.006399391727836228}. Best is trial 30 with value: 0.7603436708450317.\n"
     ]
    },
    {
     "name": "stdout",
     "output_type": "stream",
     "text": [
      "\u001b[1m4/4\u001b[0m \u001b[32m━━━━━━━━━━━━━━━━━━━━\u001b[0m\u001b[37m\u001b[0m \u001b[1m0s\u001b[0m 2ms/step - loss: 0.0036 - mae: 0.0394 - r2_score: 0.7586 \n"
     ]
    },
    {
     "name": "stderr",
     "output_type": "stream",
     "text": [
      "[I 2024-07-11 20:51:05,234] Trial 31 finished with value: 0.7183609008789062 and parameters: {'n_layers': 1, 'weight_decay': 9.964542484253705e-08, 'n_units_0': 122, 'activation_0': 'relu', 'lr': 0.00670908787657941}. Best is trial 30 with value: 0.7603436708450317.\n"
     ]
    },
    {
     "name": "stdout",
     "output_type": "stream",
     "text": [
      "\u001b[1m4/4\u001b[0m \u001b[32m━━━━━━━━━━━━━━━━━━━━\u001b[0m\u001b[37m\u001b[0m \u001b[1m0s\u001b[0m 2ms/step - loss: 0.0034 - mae: 0.0383 - r2_score: 0.7778 \n"
     ]
    },
    {
     "name": "stderr",
     "output_type": "stream",
     "text": [
      "[I 2024-07-11 20:51:07,666] Trial 32 finished with value: 0.7252835035324097 and parameters: {'n_layers': 1, 'weight_decay': 8.597360200811956e-08, 'n_units_0': 128, 'activation_0': 'relu', 'lr': 0.017023587264914906}. Best is trial 30 with value: 0.7603436708450317.\n"
     ]
    },
    {
     "name": "stdout",
     "output_type": "stream",
     "text": [
      "\u001b[1m4/4\u001b[0m \u001b[32m━━━━━━━━━━━━━━━━━━━━\u001b[0m\u001b[37m\u001b[0m \u001b[1m0s\u001b[0m 2ms/step - loss: 0.0032 - mae: 0.0351 - r2_score: 0.7900 \n"
     ]
    },
    {
     "name": "stderr",
     "output_type": "stream",
     "text": [
      "[I 2024-07-11 20:51:10,213] Trial 33 finished with value: 0.7221380472183228 and parameters: {'n_layers': 1, 'weight_decay': 4.1612384544628016e-08, 'n_units_0': 128, 'activation_0': 'relu', 'lr': 0.023331594353306926}. Best is trial 30 with value: 0.7603436708450317.\n"
     ]
    },
    {
     "name": "stdout",
     "output_type": "stream",
     "text": [
      "\u001b[1m4/4\u001b[0m \u001b[32m━━━━━━━━━━━━━━━━━━━━\u001b[0m\u001b[37m\u001b[0m \u001b[1m0s\u001b[0m 2ms/step - loss: 0.0077 - mae: 0.0532 - r2_score: 0.4859 \n"
     ]
    },
    {
     "name": "stderr",
     "output_type": "stream",
     "text": [
      "[I 2024-07-11 20:51:11,618] Trial 34 finished with value: 0.4868130683898926 and parameters: {'n_layers': 1, 'weight_decay': 1.896927303020688e-07, 'n_units_0': 110, 'activation_0': 'tanh', 'lr': 0.08524320429690234}. Best is trial 30 with value: 0.7603436708450317.\n"
     ]
    },
    {
     "name": "stdout",
     "output_type": "stream",
     "text": [
      "\u001b[1m4/4\u001b[0m \u001b[32m━━━━━━━━━━━━━━━━━━━━\u001b[0m\u001b[37m\u001b[0m \u001b[1m0s\u001b[0m 2ms/step - loss: 0.0034 - mae: 0.0357 - r2_score: 0.7781 \n"
     ]
    },
    {
     "name": "stderr",
     "output_type": "stream",
     "text": [
      "[I 2024-07-11 20:51:13,904] Trial 35 finished with value: 0.7141420245170593 and parameters: {'n_layers': 1, 'weight_decay': 3.975121378534574e-08, 'n_units_0': 106, 'activation_0': 'relu', 'lr': 0.018298537149172373}. Best is trial 30 with value: 0.7603436708450317.\n"
     ]
    },
    {
     "name": "stdout",
     "output_type": "stream",
     "text": [
      "\u001b[1m4/4\u001b[0m \u001b[32m━━━━━━━━━━━━━━━━━━━━\u001b[0m\u001b[37m\u001b[0m \u001b[1m0s\u001b[0m 2ms/step - loss: 0.0034 - mae: 0.0370 - r2_score: 0.7720 \n"
     ]
    },
    {
     "name": "stderr",
     "output_type": "stream",
     "text": [
      "[I 2024-07-11 20:51:16,816] Trial 36 finished with value: 0.7298926115036011 and parameters: {'n_layers': 2, 'weight_decay': 1.3684405760401991e-08, 'n_units_0': 31, 'activation_0': 'relu', 'n_units_1': 89, 'activation_1': 'sigmoid', 'lr': 0.005678565676547369}. Best is trial 30 with value: 0.7603436708450317.\n"
     ]
    },
    {
     "name": "stdout",
     "output_type": "stream",
     "text": [
      "\u001b[1m4/4\u001b[0m \u001b[32m━━━━━━━━━━━━━━━━━━━━\u001b[0m\u001b[37m\u001b[0m \u001b[1m0s\u001b[0m 2ms/step - loss: 0.0077 - mae: 0.0559 - r2_score: 0.4847 \n"
     ]
    },
    {
     "name": "stderr",
     "output_type": "stream",
     "text": [
      "[I 2024-07-11 20:51:19,726] Trial 37 finished with value: 0.4740830063819885 and parameters: {'n_layers': 3, 'weight_decay': 1.3798163509529863e-08, 'n_units_0': 28, 'activation_0': 'linear', 'n_units_1': 91, 'activation_1': 'sigmoid', 'n_units_2': 123, 'activation_2': 'sigmoid', 'lr': 0.001329154908503695}. Best is trial 30 with value: 0.7603436708450317.\n"
     ]
    },
    {
     "name": "stdout",
     "output_type": "stream",
     "text": [
      "\u001b[1m4/4\u001b[0m \u001b[32m━━━━━━━━━━━━━━━━━━━━\u001b[0m\u001b[37m\u001b[0m \u001b[1m0s\u001b[0m 2ms/step - loss: 0.0072 - mae: 0.0539 - r2_score: 0.5171 \n"
     ]
    },
    {
     "name": "stderr",
     "output_type": "stream",
     "text": [
      "[I 2024-07-11 20:51:21,458] Trial 38 finished with value: 0.5107253193855286 and parameters: {'n_layers': 2, 'weight_decay': 9.052006912571719e-09, 'n_units_0': 37, 'activation_0': 'tanh', 'n_units_1': 84, 'activation_1': 'sigmoid', 'lr': 0.006684930307257886}. Best is trial 30 with value: 0.7603436708450317.\n"
     ]
    },
    {
     "name": "stdout",
     "output_type": "stream",
     "text": [
      "\u001b[1m4/4\u001b[0m \u001b[32m━━━━━━━━━━━━━━━━━━━━\u001b[0m\u001b[37m\u001b[0m \u001b[1m0s\u001b[0m 2ms/step - loss: 0.0072 - mae: 0.0542 - r2_score: 0.5196 \n"
     ]
    },
    {
     "name": "stderr",
     "output_type": "stream",
     "text": [
      "[I 2024-07-11 20:51:28,598] Trial 39 finished with value: 0.5122318863868713 and parameters: {'n_layers': 2, 'weight_decay': 1.3209759337319457e-09, 'n_units_0': 54, 'activation_0': 'sigmoid', 'n_units_1': 67, 'activation_1': 'sigmoid', 'lr': 0.00032272365528416294}. Best is trial 30 with value: 0.7603436708450317.\n"
     ]
    },
    {
     "name": "stdout",
     "output_type": "stream",
     "text": [
      "\u001b[1m4/4\u001b[0m \u001b[32m━━━━━━━━━━━━━━━━━━━━\u001b[0m\u001b[37m\u001b[0m \u001b[1m0s\u001b[0m 2ms/step - loss: 0.0035 - mae: 0.0400 - r2_score: 0.7708 \n"
     ]
    },
    {
     "name": "stderr",
     "output_type": "stream",
     "text": [
      "[I 2024-07-11 20:51:31,712] Trial 40 finished with value: 0.7269465923309326 and parameters: {'n_layers': 3, 'weight_decay': 2.4516376813591613e-10, 'n_units_0': 38, 'activation_0': 'relu', 'n_units_1': 102, 'activation_1': 'sigmoid', 'n_units_2': 96, 'activation_2': 'tanh', 'lr': 0.0018155051536573018}. Best is trial 30 with value: 0.7603436708450317.\n"
     ]
    },
    {
     "name": "stdout",
     "output_type": "stream",
     "text": [
      "\u001b[1m4/4\u001b[0m \u001b[32m━━━━━━━━━━━━━━━━━━━━\u001b[0m\u001b[37m\u001b[0m \u001b[1m0s\u001b[0m 2ms/step - loss: 0.0050 - mae: 0.0392 - r2_score: 0.6767 \n"
     ]
    },
    {
     "name": "stderr",
     "output_type": "stream",
     "text": [
      "[I 2024-07-11 20:51:34,317] Trial 41 finished with value: 0.604547381401062 and parameters: {'n_layers': 3, 'weight_decay': 3.378941887388513e-10, 'n_units_0': 39, 'activation_0': 'relu', 'n_units_1': 103, 'activation_1': 'sigmoid', 'n_units_2': 101, 'activation_2': 'tanh', 'lr': 0.0018137405222791393}. Best is trial 30 with value: 0.7603436708450317.\n"
     ]
    },
    {
     "name": "stdout",
     "output_type": "stream",
     "text": [
      "\u001b[1m4/4\u001b[0m \u001b[32m━━━━━━━━━━━━━━━━━━━━\u001b[0m\u001b[37m\u001b[0m \u001b[1m0s\u001b[0m 2ms/step - loss: 0.0066 - mae: 0.0461 - r2_score: 0.5686 \n"
     ]
    },
    {
     "name": "stderr",
     "output_type": "stream",
     "text": [
      "[I 2024-07-11 20:51:37,342] Trial 42 finished with value: 0.5263159871101379 and parameters: {'n_layers': 3, 'weight_decay': 3.623952580055509e-10, 'n_units_0': 22, 'activation_0': 'relu', 'n_units_1': 117, 'activation_1': 'sigmoid', 'n_units_2': 92, 'activation_2': 'tanh', 'lr': 0.0006964342843670214}. Best is trial 30 with value: 0.7603436708450317.\n"
     ]
    },
    {
     "name": "stdout",
     "output_type": "stream",
     "text": [
      "\u001b[1m4/4\u001b[0m \u001b[32m━━━━━━━━━━━━━━━━━━━━\u001b[0m\u001b[37m\u001b[0m \u001b[1m0s\u001b[0m 2ms/step - loss: 0.0061 - mae: 0.0455 - r2_score: 0.5967 \n"
     ]
    },
    {
     "name": "stderr",
     "output_type": "stream",
     "text": [
      "[I 2024-07-11 20:51:39,642] Trial 43 finished with value: 0.5595042705535889 and parameters: {'n_layers': 3, 'weight_decay': 1.8552724450606635e-09, 'n_units_0': 50, 'activation_0': 'relu', 'n_units_1': 77, 'activation_1': 'sigmoid', 'n_units_2': 116, 'activation_2': 'tanh', 'lr': 0.0010006291326882441}. Best is trial 30 with value: 0.7603436708450317.\n"
     ]
    },
    {
     "name": "stdout",
     "output_type": "stream",
     "text": [
      "\u001b[1m4/4\u001b[0m \u001b[32m━━━━━━━━━━━━━━━━━━━━\u001b[0m\u001b[37m\u001b[0m \u001b[1m0s\u001b[0m 2ms/step - loss: 0.0181 - mae: 0.0387 - r2_score: 0.6638 \n"
     ]
    },
    {
     "name": "stderr",
     "output_type": "stream",
     "text": [
      "[I 2024-07-11 20:51:47,862] Trial 44 finished with value: 0.6340531706809998 and parameters: {'n_layers': 4, 'weight_decay': 0.0002802466643882172, 'n_units_0': 33, 'activation_0': 'relu', 'n_units_1': 99, 'activation_1': 'sigmoid', 'n_units_2': 128, 'activation_2': 'tanh', 'n_units_3': 120, 'activation_3': 'tanh', 'lr': 0.0048820442382006965}. Best is trial 30 with value: 0.7603436708450317.\n"
     ]
    },
    {
     "name": "stdout",
     "output_type": "stream",
     "text": [
      "\u001b[1m4/4\u001b[0m \u001b[32m━━━━━━━━━━━━━━━━━━━━\u001b[0m\u001b[37m\u001b[0m \u001b[1m0s\u001b[0m 2ms/step - loss: 0.0030 - mae: 0.0343 - r2_score: 0.8085 \n"
     ]
    },
    {
     "name": "stderr",
     "output_type": "stream",
     "text": [
      "[I 2024-07-11 20:51:54,300] Trial 45 finished with value: 0.7492938041687012 and parameters: {'n_layers': 2, 'weight_decay': 2.294166081172248e-08, 'n_units_0': 44, 'activation_0': 'relu', 'n_units_1': 59, 'activation_1': 'sigmoid', 'lr': 0.001689217676919855}. Best is trial 30 with value: 0.7603436708450317.\n"
     ]
    },
    {
     "name": "stdout",
     "output_type": "stream",
     "text": [
      "\u001b[1m4/4\u001b[0m \u001b[32m━━━━━━━━━━━━━━━━━━━━\u001b[0m\u001b[37m\u001b[0m \u001b[1m0s\u001b[0m 2ms/step - loss: 0.0050 - mae: 0.0447 - r2_score: 0.6690 \n"
     ]
    },
    {
     "name": "stderr",
     "output_type": "stream",
     "text": [
      "[I 2024-07-11 20:51:56,063] Trial 46 finished with value: 0.6270662546157837 and parameters: {'n_layers': 2, 'weight_decay': 2.893320834935937e-08, 'n_units_0': 56, 'activation_0': 'relu', 'n_units_1': 59, 'activation_1': 'sigmoid', 'lr': 0.01051361455290223}. Best is trial 30 with value: 0.7603436708450317.\n"
     ]
    },
    {
     "name": "stdout",
     "output_type": "stream",
     "text": [
      "\u001b[1m4/4\u001b[0m \u001b[32m━━━━━━━━━━━━━━━━━━━━\u001b[0m\u001b[37m\u001b[0m \u001b[1m0s\u001b[0m 2ms/step - loss: 0.0035 - mae: 0.0401 - r2_score: 0.7695 \n"
     ]
    },
    {
     "name": "stderr",
     "output_type": "stream",
     "text": [
      "[I 2024-07-11 20:51:59,453] Trial 47 finished with value: 0.7324835062026978 and parameters: {'n_layers': 2, 'weight_decay': 2.4375028676500638e-08, 'n_units_0': 45, 'activation_0': 'relu', 'n_units_1': 55, 'activation_1': 'sigmoid', 'lr': 0.0032016048810135436}. Best is trial 30 with value: 0.7603436708450317.\n"
     ]
    },
    {
     "name": "stdout",
     "output_type": "stream",
     "text": [
      "\u001b[1m4/4\u001b[0m \u001b[32m━━━━━━━━━━━━━━━━━━━━\u001b[0m\u001b[37m\u001b[0m \u001b[1m0s\u001b[0m 2ms/step - loss: 0.0039 - mae: 0.0439 - r2_score: 0.7496 \n"
     ]
    },
    {
     "name": "stderr",
     "output_type": "stream",
     "text": [
      "[I 2024-07-11 20:52:02,572] Trial 48 finished with value: 0.7036734223365784 and parameters: {'n_layers': 2, 'weight_decay': 1.00834244837558e-06, 'n_units_0': 47, 'activation_0': 'relu', 'n_units_1': 54, 'activation_1': 'sigmoid', 'lr': 0.005611824630529394}. Best is trial 30 with value: 0.7603436708450317.\n"
     ]
    },
    {
     "name": "stdout",
     "output_type": "stream",
     "text": [
      "\u001b[1m4/4\u001b[0m \u001b[32m━━━━━━━━━━━━━━━━━━━━\u001b[0m\u001b[37m\u001b[0m \u001b[1m0s\u001b[0m 2ms/step - loss: 0.0074 - mae: 0.0538 - r2_score: 0.5106 \n"
     ]
    },
    {
     "name": "stderr",
     "output_type": "stream",
     "text": [
      "[I 2024-07-11 20:52:04,826] Trial 49 finished with value: 0.4945738911628723 and parameters: {'n_layers': 2, 'weight_decay': 1.4033862837333493e-07, 'n_units_0': 16, 'activation_0': 'sigmoid', 'n_units_1': 71, 'activation_1': 'sigmoid', 'lr': 0.011183947082566533}. Best is trial 30 with value: 0.7603436708450317.\n"
     ]
    },
    {
     "name": "stdout",
     "output_type": "stream",
     "text": [
      "\u001b[1m4/4\u001b[0m \u001b[32m━━━━━━━━━━━━━━━━━━━━\u001b[0m\u001b[37m\u001b[0m \u001b[1m0s\u001b[0m 2ms/step - loss: 0.0037 - mae: 0.0451 - r2_score: 0.7581 \n"
     ]
    },
    {
     "name": "stderr",
     "output_type": "stream",
     "text": [
      "[I 2024-07-11 20:52:08,423] Trial 50 finished with value: 0.7091019153594971 and parameters: {'n_layers': 4, 'weight_decay': 6.716302811613612e-08, 'n_units_0': 44, 'activation_0': 'relu', 'n_units_1': 88, 'activation_1': 'sigmoid', 'n_units_2': 60, 'activation_2': 'sigmoid', 'n_units_3': 82, 'activation_3': 'linear', 'lr': 0.0043337824603464515}. Best is trial 30 with value: 0.7603436708450317.\n"
     ]
    },
    {
     "name": "stdout",
     "output_type": "stream",
     "text": [
      "\u001b[1m4/4\u001b[0m \u001b[32m━━━━━━━━━━━━━━━━━━━━\u001b[0m\u001b[37m\u001b[0m \u001b[1m0s\u001b[0m 2ms/step - loss: 0.0038 - mae: 0.0469 - r2_score: 0.7454 \n"
     ]
    },
    {
     "name": "stderr",
     "output_type": "stream",
     "text": [
      "[I 2024-07-11 20:52:12,547] Trial 51 finished with value: 0.7193578481674194 and parameters: {'n_layers': 2, 'weight_decay': 2.433944067288118e-08, 'n_units_0': 72, 'activation_0': 'relu', 'n_units_1': 62, 'activation_1': 'sigmoid', 'lr': 0.0034646876573504034}. Best is trial 30 with value: 0.7603436708450317.\n"
     ]
    },
    {
     "name": "stdout",
     "output_type": "stream",
     "text": [
      "\u001b[1m4/4\u001b[0m \u001b[32m━━━━━━━━━━━━━━━━━━━━\u001b[0m\u001b[37m\u001b[0m \u001b[1m0s\u001b[0m 2ms/step - loss: 0.0045 - mae: 0.0380 - r2_score: 0.7108 \n"
     ]
    },
    {
     "name": "stderr",
     "output_type": "stream",
     "text": [
      "[I 2024-07-11 20:52:15,809] Trial 52 finished with value: 0.6702225208282471 and parameters: {'n_layers': 1, 'weight_decay': 6.888866174225103e-09, 'n_units_0': 31, 'activation_0': 'relu', 'lr': 0.0014751955950991734}. Best is trial 30 with value: 0.7603436708450317.\n"
     ]
    },
    {
     "name": "stdout",
     "output_type": "stream",
     "text": [
      "\u001b[1m4/4\u001b[0m \u001b[32m━━━━━━━━━━━━━━━━━━━━\u001b[0m\u001b[37m\u001b[0m \u001b[1m0s\u001b[0m 2ms/step - loss: 0.0037 - mae: 0.0369 - r2_score: 0.7622 \n"
     ]
    },
    {
     "name": "stderr",
     "output_type": "stream",
     "text": [
      "[I 2024-07-11 20:52:18,704] Trial 53 finished with value: 0.6954653263092041 and parameters: {'n_layers': 1, 'weight_decay': 2.2888619814781868e-08, 'n_units_0': 57, 'activation_0': 'relu', 'lr': 0.0031789441184349836}. Best is trial 30 with value: 0.7603436708450317.\n"
     ]
    },
    {
     "name": "stdout",
     "output_type": "stream",
     "text": [
      "\u001b[1m4/4\u001b[0m \u001b[32m━━━━━━━━━━━━━━━━━━━━\u001b[0m\u001b[37m\u001b[0m \u001b[1m0s\u001b[0m 2ms/step - loss: 0.0035 - mae: 0.0374 - r2_score: 0.7700 \n"
     ]
    },
    {
     "name": "stderr",
     "output_type": "stream",
     "text": [
      "[I 2024-07-11 20:52:26,326] Trial 54 finished with value: 0.712640643119812 and parameters: {'n_layers': 2, 'weight_decay': 2.343602083031973e-07, 'n_units_0': 45, 'activation_0': 'relu', 'n_units_1': 22, 'activation_1': 'sigmoid', 'lr': 0.0026623195739720663}. Best is trial 30 with value: 0.7603436708450317.\n"
     ]
    },
    {
     "name": "stdout",
     "output_type": "stream",
     "text": [
      "\u001b[1m4/4\u001b[0m \u001b[32m━━━━━━━━━━━━━━━━━━━━\u001b[0m\u001b[37m\u001b[0m \u001b[1m0s\u001b[0m 2ms/step - loss: 0.0042 - mae: 0.0379 - r2_score: 0.7290 \n"
     ]
    },
    {
     "name": "stderr",
     "output_type": "stream",
     "text": [
      "[I 2024-07-11 20:52:32,979] Trial 55 finished with value: 0.6707297563552856 and parameters: {'n_layers': 1, 'weight_decay': 6.5843862726354685e-09, 'n_units_0': 26, 'activation_0': 'relu', 'lr': 0.0010133374616032107}. Best is trial 30 with value: 0.7603436708450317.\n"
     ]
    },
    {
     "name": "stdout",
     "output_type": "stream",
     "text": [
      "\u001b[1m4/4\u001b[0m \u001b[32m━━━━━━━━━━━━━━━━━━━━\u001b[0m\u001b[37m\u001b[0m \u001b[1m0s\u001b[0m 2ms/step - loss: 0.0043 - mae: 0.0375 - r2_score: 0.7467 \n"
     ]
    },
    {
     "name": "stderr",
     "output_type": "stream",
     "text": [
      "[I 2024-07-11 20:52:35,764] Trial 56 finished with value: 0.6761683225631714 and parameters: {'n_layers': 2, 'weight_decay': 5.52791031323784e-06, 'n_units_0': 119, 'activation_0': 'relu', 'n_units_1': 49, 'activation_1': 'linear', 'lr': 0.0004726844828596336}. Best is trial 30 with value: 0.7603436708450317.\n"
     ]
    },
    {
     "name": "stdout",
     "output_type": "stream",
     "text": [
      "\u001b[1m4/4\u001b[0m \u001b[32m━━━━━━━━━━━━━━━━━━━━\u001b[0m\u001b[37m\u001b[0m \u001b[1m0s\u001b[0m 2ms/step - loss: 0.0040 - mae: 0.0420 - r2_score: 0.7369 \n"
     ]
    },
    {
     "name": "stderr",
     "output_type": "stream",
     "text": [
      "[I 2024-07-11 20:52:38,540] Trial 57 finished with value: 0.7076412439346313 and parameters: {'n_layers': 3, 'weight_decay': 2.4003159172041294e-09, 'n_units_0': 17, 'activation_0': 'relu', 'n_units_1': 81, 'activation_1': 'relu', 'n_units_2': 32, 'activation_2': 'linear', 'lr': 0.007748001800029064}. Best is trial 30 with value: 0.7603436708450317.\n"
     ]
    },
    {
     "name": "stdout",
     "output_type": "stream",
     "text": [
      "\u001b[1m4/4\u001b[0m \u001b[32m━━━━━━━━━━━━━━━━━━━━\u001b[0m\u001b[37m\u001b[0m \u001b[1m0s\u001b[0m 2ms/step - loss: 0.0068 - mae: 0.0524 - r2_score: 0.5482 \n"
     ]
    },
    {
     "name": "stderr",
     "output_type": "stream",
     "text": [
      "[I 2024-07-11 20:52:41,154] Trial 58 finished with value: 0.5445129871368408 and parameters: {'n_layers': 1, 'weight_decay': 2.3017461584088114e-08, 'n_units_0': 51, 'activation_0': 'linear', 'lr': 0.0007804950878357713}. Best is trial 30 with value: 0.7603436708450317.\n"
     ]
    },
    {
     "name": "stdout",
     "output_type": "stream",
     "text": [
      "\u001b[1m4/4\u001b[0m \u001b[32m━━━━━━━━━━━━━━━━━━━━\u001b[0m\u001b[37m\u001b[0m \u001b[1m0s\u001b[0m 2ms/step - loss: 0.0073 - mae: 0.0536 - r2_score: 0.5144 \n"
     ]
    },
    {
     "name": "stderr",
     "output_type": "stream",
     "text": [
      "[I 2024-07-11 20:52:42,959] Trial 59 finished with value: 0.504761815071106 and parameters: {'n_layers': 2, 'weight_decay': 6.134497056610993e-08, 'n_units_0': 61, 'activation_0': 'tanh', 'n_units_1': 71, 'activation_1': 'sigmoid', 'lr': 0.013214286966470918}. Best is trial 30 with value: 0.7603436708450317.\n"
     ]
    },
    {
     "name": "stdout",
     "output_type": "stream",
     "text": [
      "\u001b[1m4/4\u001b[0m \u001b[32m━━━━━━━━━━━━━━━━━━━━\u001b[0m\u001b[37m\u001b[0m \u001b[1m0s\u001b[0m 2ms/step - loss: 0.0034 - mae: 0.0356 - r2_score: 0.7777 \n"
     ]
    },
    {
     "name": "stderr",
     "output_type": "stream",
     "text": [
      "[I 2024-07-11 20:52:46,900] Trial 60 finished with value: 0.7271161079406738 and parameters: {'n_layers': 3, 'weight_decay': 3.33489773212224e-07, 'n_units_0': 35, 'activation_0': 'relu', 'n_units_1': 92, 'activation_1': 'linear', 'n_units_2': 74, 'activation_2': 'sigmoid', 'lr': 0.0014911907520051616}. Best is trial 30 with value: 0.7603436708450317.\n"
     ]
    },
    {
     "name": "stdout",
     "output_type": "stream",
     "text": [
      "\u001b[1m4/4\u001b[0m \u001b[32m━━━━━━━━━━━━━━━━━━━━\u001b[0m\u001b[37m\u001b[0m \u001b[1m0s\u001b[0m 2ms/step - loss: 0.0033 - mae: 0.0357 - r2_score: 0.7866 \n"
     ]
    },
    {
     "name": "stderr",
     "output_type": "stream",
     "text": [
      "[I 2024-07-11 20:52:53,598] Trial 61 finished with value: 0.7516871690750122 and parameters: {'n_layers': 3, 'weight_decay': 6.452368686000354e-07, 'n_units_0': 35, 'activation_0': 'relu', 'n_units_1': 64, 'activation_1': 'linear', 'n_units_2': 66, 'activation_2': 'sigmoid', 'lr': 0.0015975872042717748}. Best is trial 30 with value: 0.7603436708450317.\n"
     ]
    },
    {
     "name": "stdout",
     "output_type": "stream",
     "text": [
      "\u001b[1m4/4\u001b[0m \u001b[32m━━━━━━━━━━━━━━━━━━━━\u001b[0m\u001b[37m\u001b[0m \u001b[1m0s\u001b[0m 2ms/step - loss: 0.0043 - mae: 0.0376 - r2_score: 0.7236 \n"
     ]
    },
    {
     "name": "stderr",
     "output_type": "stream",
     "text": [
      "[I 2024-07-11 20:52:55,687] Trial 62 finished with value: 0.6860169172286987 and parameters: {'n_layers': 3, 'weight_decay': 1.0302514635081123e-06, 'n_units_0': 42, 'activation_0': 'relu', 'n_units_1': 64, 'activation_1': 'linear', 'n_units_2': 64, 'activation_2': 'sigmoid', 'lr': 0.0031319717945152347}. Best is trial 30 with value: 0.7603436708450317.\n"
     ]
    },
    {
     "name": "stdout",
     "output_type": "stream",
     "text": [
      "\u001b[1m4/4\u001b[0m \u001b[32m━━━━━━━━━━━━━━━━━━━━\u001b[0m\u001b[37m\u001b[0m \u001b[1m0s\u001b[0m 2ms/step - loss: 0.0036 - mae: 0.0398 - r2_score: 0.7680 \n"
     ]
    },
    {
     "name": "stderr",
     "output_type": "stream",
     "text": [
      "[I 2024-07-11 20:53:00,213] Trial 63 finished with value: 0.7178474068641663 and parameters: {'n_layers': 4, 'weight_decay': 1.4814474348700122e-07, 'n_units_0': 69, 'activation_0': 'relu', 'n_units_1': 53, 'activation_1': 'linear', 'n_units_2': 50, 'activation_2': 'sigmoid', 'n_units_3': 105, 'activation_3': 'sigmoid', 'lr': 0.0022967859842022214}. Best is trial 30 with value: 0.7603436708450317.\n"
     ]
    },
    {
     "name": "stdout",
     "output_type": "stream",
     "text": [
      "\u001b[1m4/4\u001b[0m \u001b[32m━━━━━━━━━━━━━━━━━━━━\u001b[0m\u001b[37m\u001b[0m \u001b[1m0s\u001b[0m 2ms/step - loss: 0.0044 - mae: 0.0474 - r2_score: 0.7092 \n"
     ]
    },
    {
     "name": "stderr",
     "output_type": "stream",
     "text": [
      "[I 2024-07-11 20:53:03,092] Trial 64 finished with value: 0.677043080329895 and parameters: {'n_layers': 5, 'weight_decay': 4.714439025528052e-07, 'n_units_0': 32, 'activation_0': 'relu', 'n_units_1': 73, 'activation_1': 'linear', 'n_units_2': 68, 'activation_2': 'linear', 'n_units_3': 37, 'activation_3': 'relu', 'n_units_4': 127, 'activation_4': 'sigmoid', 'lr': 0.00533567503730148}. Best is trial 30 with value: 0.7603436708450317.\n"
     ]
    },
    {
     "name": "stdout",
     "output_type": "stream",
     "text": [
      "\u001b[1m4/4\u001b[0m \u001b[32m━━━━━━━━━━━━━━━━━━━━\u001b[0m\u001b[37m\u001b[0m \u001b[1m0s\u001b[0m 2ms/step - loss: 0.0048 - mae: 0.0369 - r2_score: 0.6994 \n"
     ]
    },
    {
     "name": "stderr",
     "output_type": "stream",
     "text": [
      "[I 2024-07-11 20:53:09,842] Trial 65 finished with value: 0.6373401284217834 and parameters: {'n_layers': 2, 'weight_decay': 2.278894631323745e-06, 'n_units_0': 41, 'activation_0': 'relu', 'n_units_1': 79, 'activation_1': 'relu', 'lr': 0.00020829498634534848}. Best is trial 30 with value: 0.7603436708450317.\n"
     ]
    },
    {
     "name": "stdout",
     "output_type": "stream",
     "text": [
      "\u001b[1m4/4\u001b[0m \u001b[32m━━━━━━━━━━━━━━━━━━━━\u001b[0m\u001b[37m\u001b[0m \u001b[1m0s\u001b[0m 1ms/step - loss: 0.0067 - mae: 0.0536 - r2_score: 0.5488 \n"
     ]
    },
    {
     "name": "stderr",
     "output_type": "stream",
     "text": [
      "[I 2024-07-11 20:53:16,609] Trial 66 finished with value: 0.5492037534713745 and parameters: {'n_layers': 1, 'weight_decay': 3.5803581985061367e-09, 'n_units_0': 52, 'activation_0': 'sigmoid', 'lr': 0.0004742866143452805}. Best is trial 30 with value: 0.7603436708450317.\n"
     ]
    },
    {
     "name": "stdout",
     "output_type": "stream",
     "text": [
      "\u001b[1m4/4\u001b[0m \u001b[32m━━━━━━━━━━━━━━━━━━━━\u001b[0m\u001b[37m\u001b[0m \u001b[1m0s\u001b[0m 1ms/step - loss: 0.0037 - mae: 0.0365 - r2_score: 0.7635 \n"
     ]
    },
    {
     "name": "stderr",
     "output_type": "stream",
     "text": [
      "[I 2024-07-11 20:53:22,670] Trial 67 finished with value: 0.7023712992668152 and parameters: {'n_layers': 1, 'weight_decay': 7.848683476259982e-09, 'n_units_0': 59, 'activation_0': 'relu', 'lr': 0.0008312581228724802}. Best is trial 30 with value: 0.7603436708450317.\n"
     ]
    },
    {
     "name": "stdout",
     "output_type": "stream",
     "text": [
      "\u001b[1m4/4\u001b[0m \u001b[32m━━━━━━━━━━━━━━━━━━━━\u001b[0m\u001b[37m\u001b[0m \u001b[1m0s\u001b[0m 2ms/step - loss: 0.0115 - mae: 0.0617 - r2_score: 0.2382 \n"
     ]
    },
    {
     "name": "stderr",
     "output_type": "stream",
     "text": [
      "[I 2024-07-11 20:53:30,849] Trial 68 finished with value: 0.2058998942375183 and parameters: {'n_layers': 4, 'weight_decay': 1.8568076564883747e-08, 'n_units_0': 24, 'activation_0': 'relu', 'n_units_1': 38, 'activation_1': 'linear', 'n_units_2': 111, 'activation_2': 'sigmoid', 'n_units_3': 78, 'activation_3': 'tanh', 'lr': 1.0360537659691133e-05}. Best is trial 30 with value: 0.7603436708450317.\n"
     ]
    },
    {
     "name": "stdout",
     "output_type": "stream",
     "text": [
      "\u001b[1m4/4\u001b[0m \u001b[32m━━━━━━━━━━━━━━━━━━━━\u001b[0m\u001b[37m\u001b[0m \u001b[1m0s\u001b[0m 2ms/step - loss: 0.0050 - mae: 0.0541 - r2_score: 0.6705 \n"
     ]
    },
    {
     "name": "stderr",
     "output_type": "stream",
     "text": [
      "[I 2024-07-11 20:53:32,690] Trial 69 finished with value: 0.6132875680923462 and parameters: {'n_layers': 2, 'weight_decay': 3.716141555169298e-08, 'n_units_0': 124, 'activation_0': 'relu', 'n_units_1': 61, 'activation_1': 'linear', 'lr': 0.02582967197240698}. Best is trial 30 with value: 0.7603436708450317.\n"
     ]
    },
    {
     "name": "stdout",
     "output_type": "stream",
     "text": [
      "\u001b[1m4/4\u001b[0m \u001b[32m━━━━━━━━━━━━━━━━━━━━\u001b[0m\u001b[37m\u001b[0m \u001b[1m0s\u001b[0m 2ms/step - loss: 0.0068 - mae: 0.0515 - r2_score: 0.5445 \n"
     ]
    },
    {
     "name": "stderr",
     "output_type": "stream",
     "text": [
      "[I 2024-07-11 20:53:35,142] Trial 70 finished with value: 0.54482102394104 and parameters: {'n_layers': 3, 'weight_decay': 9.782128064290946e-08, 'n_units_0': 18, 'activation_0': 'linear', 'n_units_1': 47, 'activation_1': 'linear', 'n_units_2': 35, 'activation_2': 'sigmoid', 'lr': 0.0012312933908122704}. Best is trial 30 with value: 0.7603436708450317.\n"
     ]
    },
    {
     "name": "stdout",
     "output_type": "stream",
     "text": [
      "\u001b[1m4/4\u001b[0m \u001b[32m━━━━━━━━━━━━━━━━━━━━\u001b[0m\u001b[37m\u001b[0m \u001b[1m0s\u001b[0m 2ms/step - loss: 0.0037 - mae: 0.0351 - r2_score: 0.7628 \n"
     ]
    },
    {
     "name": "stderr",
     "output_type": "stream",
     "text": [
      "[I 2024-07-11 20:53:40,864] Trial 71 finished with value: 0.7178497314453125 and parameters: {'n_layers': 3, 'weight_decay': 4.341897209951352e-07, 'n_units_0': 37, 'activation_0': 'relu', 'n_units_1': 93, 'activation_1': 'linear', 'n_units_2': 74, 'activation_2': 'sigmoid', 'lr': 0.0016418944469990897}. Best is trial 30 with value: 0.7603436708450317.\n"
     ]
    },
    {
     "name": "stdout",
     "output_type": "stream",
     "text": [
      "\u001b[1m4/4\u001b[0m \u001b[32m━━━━━━━━━━━━━━━━━━━━\u001b[0m\u001b[37m\u001b[0m \u001b[1m0s\u001b[0m 2ms/step - loss: 0.0037 - mae: 0.0351 - r2_score: 0.7600 \n"
     ]
    },
    {
     "name": "stderr",
     "output_type": "stream",
     "text": [
      "[I 2024-07-11 20:53:43,986] Trial 72 finished with value: 0.7210787534713745 and parameters: {'n_layers': 3, 'weight_decay': 3.004083014458594e-07, 'n_units_0': 34, 'activation_0': 'relu', 'n_units_1': 89, 'activation_1': 'linear', 'n_units_2': 85, 'activation_2': 'sigmoid', 'lr': 0.0020913972922591935}. Best is trial 30 with value: 0.7603436708450317.\n"
     ]
    },
    {
     "name": "stdout",
     "output_type": "stream",
     "text": [
      "\u001b[1m4/4\u001b[0m \u001b[32m━━━━━━━━━━━━━━━━━━━━\u001b[0m\u001b[37m\u001b[0m \u001b[1m0s\u001b[0m 2ms/step - loss: 0.0039 - mae: 0.0374 - r2_score: 0.7460 \n"
     ]
    },
    {
     "name": "stderr",
     "output_type": "stream",
     "text": [
      "[I 2024-07-11 20:53:46,187] Trial 73 finished with value: 0.6654149293899536 and parameters: {'n_layers': 3, 'weight_decay': 1.1887125022136678e-08, 'n_units_0': 29, 'activation_0': 'relu', 'n_units_1': 82, 'activation_1': 'linear', 'n_units_2': 67, 'activation_2': 'sigmoid', 'lr': 0.0041670593533558445}. Best is trial 30 with value: 0.7603436708450317.\n"
     ]
    },
    {
     "name": "stdout",
     "output_type": "stream",
     "text": [
      "\u001b[1m4/4\u001b[0m \u001b[32m━━━━━━━━━━━━━━━━━━━━\u001b[0m\u001b[37m\u001b[0m \u001b[1m0s\u001b[0m 1ms/step - loss: 0.0035 - mae: 0.0348 - r2_score: 0.7670 \n"
     ]
    },
    {
     "name": "stderr",
     "output_type": "stream",
     "text": [
      "[I 2024-07-11 20:53:50,808] Trial 74 finished with value: 0.6983568668365479 and parameters: {'n_layers': 2, 'weight_decay': 5.593203279118936e-08, 'n_units_0': 47, 'activation_0': 'relu', 'n_units_1': 65, 'activation_1': 'linear', 'lr': 0.0026190898257924637}. Best is trial 30 with value: 0.7603436708450317.\n"
     ]
    },
    {
     "name": "stdout",
     "output_type": "stream",
     "text": [
      "\u001b[1m4/4\u001b[0m \u001b[32m━━━━━━━━━━━━━━━━━━━━\u001b[0m\u001b[37m\u001b[0m \u001b[1m0s\u001b[0m 2ms/step - loss: 0.0150 - mae: 0.0551 - r2_score: 0.4387 \n"
     ]
    },
    {
     "name": "stderr",
     "output_type": "stream",
     "text": [
      "[I 2024-07-11 20:53:53,507] Trial 75 finished with value: 0.4141392111778259 and parameters: {'n_layers': 5, 'weight_decay': 1.8315651035311903e-05, 'n_units_0': 118, 'activation_0': 'tanh', 'n_units_1': 55, 'activation_1': 'tanh', 'n_units_2': 117, 'activation_2': 'sigmoid', 'n_units_3': 109, 'activation_3': 'linear', 'n_units_4': 100, 'activation_4': 'sigmoid', 'lr': 0.001313624493238345}. Best is trial 30 with value: 0.7603436708450317.\n"
     ]
    },
    {
     "name": "stdout",
     "output_type": "stream",
     "text": [
      "\u001b[1m4/4\u001b[0m \u001b[32m━━━━━━━━━━━━━━━━━━━━\u001b[0m\u001b[37m\u001b[0m \u001b[1m0s\u001b[0m 2ms/step - loss: 0.0047 - mae: 0.0372 - r2_score: 0.7009 \n"
     ]
    },
    {
     "name": "stderr",
     "output_type": "stream",
     "text": [
      "[I 2024-07-11 20:53:56,348] Trial 76 finished with value: 0.6543861627578735 and parameters: {'n_layers': 3, 'weight_decay': 7.58851992201427e-07, 'n_units_0': 34, 'activation_0': 'relu', 'n_units_1': 75, 'activation_1': 'relu', 'n_units_2': 105, 'activation_2': 'linear', 'lr': 0.006783023084978292}. Best is trial 30 with value: 0.7603436708450317.\n"
     ]
    },
    {
     "name": "stdout",
     "output_type": "stream",
     "text": [
      "\u001b[1m4/4\u001b[0m \u001b[32m━━━━━━━━━━━━━━━━━━━━\u001b[0m\u001b[37m\u001b[0m \u001b[1m0s\u001b[0m 2ms/step - loss: 0.0034 - mae: 0.0346 - r2_score: 0.7817 \n"
     ]
    },
    {
     "name": "stderr",
     "output_type": "stream",
     "text": [
      "[I 2024-07-11 20:53:59,280] Trial 77 finished with value: 0.724706768989563 and parameters: {'n_layers': 2, 'weight_decay': 5.189700536018634e-09, 'n_units_0': 108, 'activation_0': 'relu', 'n_units_1': 86, 'activation_1': 'linear', 'lr': 0.0006035255744971059}. Best is trial 30 with value: 0.7603436708450317.\n"
     ]
    },
    {
     "name": "stdout",
     "output_type": "stream",
     "text": [
      "\u001b[1m4/4\u001b[0m \u001b[32m━━━━━━━━━━━━━━━━━━━━\u001b[0m\u001b[37m\u001b[0m \u001b[1m0s\u001b[0m 2ms/step - loss: 0.0037 - mae: 0.0316 - r2_score: 0.7905 \n"
     ]
    },
    {
     "name": "stderr",
     "output_type": "stream",
     "text": [
      "[I 2024-07-11 20:54:04,022] Trial 78 finished with value: 0.7289626598358154 and parameters: {'n_layers': 4, 'weight_decay': 1.62756529841995e-06, 'n_units_0': 49, 'activation_0': 'relu', 'n_units_1': 104, 'activation_1': 'sigmoid', 'n_units_2': 47, 'activation_2': 'sigmoid', 'n_units_3': 46, 'activation_3': 'sigmoid', 'lr': 0.0016393229536173293}. Best is trial 30 with value: 0.7603436708450317.\n"
     ]
    },
    {
     "name": "stdout",
     "output_type": "stream",
     "text": [
      "\u001b[1m4/4\u001b[0m \u001b[32m━━━━━━━━━━━━━━━━━━━━\u001b[0m\u001b[37m\u001b[0m \u001b[1m0s\u001b[0m 2ms/step - loss: 0.0160 - mae: 0.0825 - r2_score: -0.0216 \n"
     ]
    },
    {
     "name": "stderr",
     "output_type": "stream",
     "text": [
      "[I 2024-07-11 20:54:06,392] Trial 79 finished with value: -0.019742727279663086 and parameters: {'n_layers': 5, 'weight_decay': 3.034214187531933e-06, 'n_units_0': 53, 'activation_0': 'sigmoid', 'n_units_1': 116, 'activation_1': 'sigmoid', 'n_units_2': 44, 'activation_2': 'sigmoid', 'n_units_3': 24, 'activation_3': 'sigmoid', 'n_units_4': 43, 'activation_4': 'relu', 'lr': 0.013907310915448765}. Best is trial 30 with value: 0.7603436708450317.\n"
     ]
    },
    {
     "name": "stdout",
     "output_type": "stream",
     "text": [
      "\u001b[1m4/4\u001b[0m \u001b[32m━━━━━━━━━━━━━━━━━━━━\u001b[0m\u001b[37m\u001b[0m \u001b[1m0s\u001b[0m 2ms/step - loss: 0.0041 - mae: 0.0418 - r2_score: 0.7485 \n"
     ]
    },
    {
     "name": "stderr",
     "output_type": "stream",
     "text": [
      "[I 2024-07-11 20:54:09,615] Trial 80 finished with value: 0.7016476988792419 and parameters: {'n_layers': 4, 'weight_decay': 1.5548255906864677e-06, 'n_units_0': 47, 'activation_0': 'relu', 'n_units_1': 107, 'activation_1': 'sigmoid', 'n_units_2': 24, 'activation_2': 'relu', 'n_units_3': 47, 'activation_3': 'sigmoid', 'lr': 0.003792580020063089}. Best is trial 30 with value: 0.7603436708450317.\n"
     ]
    },
    {
     "name": "stdout",
     "output_type": "stream",
     "text": [
      "\u001b[1m4/4\u001b[0m \u001b[32m━━━━━━━━━━━━━━━━━━━━\u001b[0m\u001b[37m\u001b[0m \u001b[1m0s\u001b[0m 2ms/step - loss: 0.0049 - mae: 0.0417 - r2_score: 0.7389 \n"
     ]
    },
    {
     "name": "stderr",
     "output_type": "stream",
     "text": [
      "[I 2024-07-11 20:54:16,322] Trial 81 finished with value: 0.6781320571899414 and parameters: {'n_layers': 4, 'weight_decay': 4.220922780474484e-06, 'n_units_0': 36, 'activation_0': 'relu', 'n_units_1': 95, 'activation_1': 'sigmoid', 'n_units_2': 56, 'activation_2': 'sigmoid', 'n_units_3': 78, 'activation_3': 'sigmoid', 'lr': 0.0016477752137185279}. Best is trial 30 with value: 0.7603436708450317.\n"
     ]
    },
    {
     "name": "stdout",
     "output_type": "stream",
     "text": [
      "\u001b[1m4/4\u001b[0m \u001b[32m━━━━━━━━━━━━━━━━━━━━\u001b[0m\u001b[37m\u001b[0m \u001b[1m0s\u001b[0m 2ms/step - loss: 0.0034 - mae: 0.0330 - r2_score: 0.8062 \n"
     ]
    },
    {
     "name": "stderr",
     "output_type": "stream",
     "text": [
      "[I 2024-07-11 20:54:21,959] Trial 82 finished with value: 0.74863201379776 and parameters: {'n_layers': 4, 'weight_decay': 1.6081867310720888e-06, 'n_units_0': 41, 'activation_0': 'relu', 'n_units_1': 99, 'activation_1': 'sigmoid', 'n_units_2': 27, 'activation_2': 'sigmoid', 'n_units_3': 27, 'activation_3': 'sigmoid', 'lr': 0.0010093363637906484}. Best is trial 30 with value: 0.7603436708450317.\n"
     ]
    },
    {
     "name": "stdout",
     "output_type": "stream",
     "text": [
      "\u001b[1m4/4\u001b[0m \u001b[32m━━━━━━━━━━━━━━━━━━━━\u001b[0m\u001b[37m\u001b[0m \u001b[1m0s\u001b[0m 2ms/step - loss: 0.0120 - mae: 0.0703 - r2_score: 0.2228 \n"
     ]
    },
    {
     "name": "stderr",
     "output_type": "stream",
     "text": [
      "[I 2024-07-11 20:54:24,560] Trial 83 finished with value: 0.18093246221542358 and parameters: {'n_layers': 5, 'weight_decay': 1.6611436608484423e-06, 'n_units_0': 41, 'activation_0': 'relu', 'n_units_1': 100, 'activation_1': 'sigmoid', 'n_units_2': 14, 'activation_2': 'sigmoid', 'n_units_3': 19, 'activation_3': 'sigmoid', 'n_units_4': 101, 'activation_4': 'tanh', 'lr': 0.001004665673343279}. Best is trial 30 with value: 0.7603436708450317.\n"
     ]
    },
    {
     "name": "stdout",
     "output_type": "stream",
     "text": [
      "\u001b[1m4/4\u001b[0m \u001b[32m━━━━━━━━━━━━━━━━━━━━\u001b[0m\u001b[37m\u001b[0m \u001b[1m0s\u001b[0m 2ms/step - loss: 0.0041 - mae: 0.0332 - r2_score: 0.8065 \n"
     ]
    },
    {
     "name": "stderr",
     "output_type": "stream",
     "text": [
      "[I 2024-07-11 20:54:29,865] Trial 84 finished with value: 0.7483212947845459 and parameters: {'n_layers': 4, 'weight_decay': 6.481185687052136e-06, 'n_units_0': 49, 'activation_0': 'relu', 'n_units_1': 103, 'activation_1': 'sigmoid', 'n_units_2': 30, 'activation_2': 'sigmoid', 'n_units_3': 27, 'activation_3': 'sigmoid', 'lr': 0.0028274079094759252}. Best is trial 30 with value: 0.7603436708450317.\n"
     ]
    },
    {
     "name": "stdout",
     "output_type": "stream",
     "text": [
      "\u001b[1m4/4\u001b[0m \u001b[32m━━━━━━━━━━━━━━━━━━━━\u001b[0m\u001b[37m\u001b[0m \u001b[1m0s\u001b[0m 2ms/step - loss: 0.0041 - mae: 0.0298 - r2_score: 0.8121 \n"
     ]
    },
    {
     "name": "stderr",
     "output_type": "stream",
     "text": [
      "[I 2024-07-11 20:54:35,034] Trial 85 finished with value: 0.7531207799911499 and parameters: {'n_layers': 4, 'weight_decay': 8.357934798787072e-06, 'n_units_0': 44, 'activation_0': 'relu', 'n_units_1': 68, 'activation_1': 'sigmoid', 'n_units_2': 28, 'activation_2': 'sigmoid', 'n_units_3': 27, 'activation_3': 'sigmoid', 'lr': 0.002885847032412197}. Best is trial 30 with value: 0.7603436708450317.\n"
     ]
    },
    {
     "name": "stdout",
     "output_type": "stream",
     "text": [
      "\u001b[1m4/4\u001b[0m \u001b[32m━━━━━━━━━━━━━━━━━━━━\u001b[0m\u001b[37m\u001b[0m \u001b[1m0s\u001b[0m 2ms/step - loss: 0.0044 - mae: 0.0409 - r2_score: 0.7726 \n"
     ]
    },
    {
     "name": "stderr",
     "output_type": "stream",
     "text": [
      "[I 2024-07-11 20:54:40,182] Trial 86 finished with value: 0.7198019623756409 and parameters: {'n_layers': 4, 'weight_decay': 6.985756439024745e-06, 'n_units_0': 44, 'activation_0': 'relu', 'n_units_1': 68, 'activation_1': 'sigmoid', 'n_units_2': 28, 'activation_2': 'sigmoid', 'n_units_3': 30, 'activation_3': 'sigmoid', 'lr': 0.005557782461024757}. Best is trial 30 with value: 0.7603436708450317.\n"
     ]
    },
    {
     "name": "stdout",
     "output_type": "stream",
     "text": [
      "\u001b[1m4/4\u001b[0m \u001b[32m━━━━━━━━━━━━━━━━━━━━\u001b[0m\u001b[37m\u001b[0m \u001b[1m0s\u001b[0m 2ms/step - loss: 0.0053 - mae: 0.0382 - r2_score: 0.7747 \n"
     ]
    },
    {
     "name": "stderr",
     "output_type": "stream",
     "text": [
      "[I 2024-07-11 20:54:47,600] Trial 87 finished with value: 0.726044774055481 and parameters: {'n_layers': 4, 'weight_decay': 3.144240224305168e-05, 'n_units_0': 56, 'activation_0': 'relu', 'n_units_1': 114, 'activation_1': 'sigmoid', 'n_units_2': 16, 'activation_2': 'sigmoid', 'n_units_3': 18, 'activation_3': 'sigmoid', 'lr': 0.002815442433908429}. Best is trial 30 with value: 0.7603436708450317.\n"
     ]
    },
    {
     "name": "stdout",
     "output_type": "stream",
     "text": [
      "\u001b[1m4/4\u001b[0m \u001b[32m━━━━━━━━━━━━━━━━━━━━\u001b[0m\u001b[37m\u001b[0m \u001b[1m0s\u001b[0m 2ms/step - loss: 0.0064 - mae: 0.0352 - r2_score: 0.7190 \n"
     ]
    },
    {
     "name": "stderr",
     "output_type": "stream",
     "text": [
      "[I 2024-07-11 20:54:52,787] Trial 88 finished with value: 0.6863332390785217 and parameters: {'n_layers': 4, 'weight_decay': 2.8595370813197415e-05, 'n_units_0': 66, 'activation_0': 'relu', 'n_units_1': 50, 'activation_1': 'sigmoid', 'n_units_2': 42, 'activation_2': 'sigmoid', 'n_units_3': 28, 'activation_3': 'sigmoid', 'lr': 0.0075801501432566035}. Best is trial 30 with value: 0.7603436708450317.\n"
     ]
    },
    {
     "name": "stdout",
     "output_type": "stream",
     "text": [
      "\u001b[1m4/4\u001b[0m \u001b[32m━━━━━━━━━━━━━━━━━━━━\u001b[0m\u001b[37m\u001b[0m \u001b[1m0s\u001b[0m 2ms/step - loss: 0.0126 - mae: 0.0567 - r2_score: 0.5171 \n"
     ]
    },
    {
     "name": "stderr",
     "output_type": "stream",
     "text": [
      "[I 2024-07-11 20:55:01,226] Trial 89 finished with value: 0.5040181875228882 and parameters: {'n_layers': 5, 'weight_decay': 6.889335298907804e-05, 'n_units_0': 39, 'activation_0': 'linear', 'n_units_1': 58, 'activation_1': 'sigmoid', 'n_units_2': 26, 'activation_2': 'sigmoid', 'n_units_3': 51, 'activation_3': 'sigmoid', 'n_units_4': 72, 'activation_4': 'tanh', 'lr': 0.0020769117070832464}. Best is trial 30 with value: 0.7603436708450317.\n"
     ]
    },
    {
     "name": "stdout",
     "output_type": "stream",
     "text": [
      "\u001b[1m4/4\u001b[0m \u001b[32m━━━━━━━━━━━━━━━━━━━━\u001b[0m\u001b[37m\u001b[0m \u001b[1m0s\u001b[0m 2ms/step - loss: 0.0157 - mae: 0.0788 - r2_score: -0.0078 \n"
     ]
    },
    {
     "name": "stderr",
     "output_type": "stream",
     "text": [
      "[I 2024-07-11 20:55:03,205] Trial 90 finished with value: -0.007038712501525879 and parameters: {'n_layers': 4, 'weight_decay': 1.0801207199356609e-05, 'n_units_0': 45, 'activation_0': 'relu', 'n_units_1': 43, 'activation_1': 'sigmoid', 'n_units_2': 6, 'activation_2': 'relu', 'n_units_3': 71, 'activation_3': 'sigmoid', 'lr': 0.004403103112119914}. Best is trial 30 with value: 0.7603436708450317.\n"
     ]
    },
    {
     "name": "stdout",
     "output_type": "stream",
     "text": [
      "\u001b[1m4/4\u001b[0m \u001b[32m━━━━━━━━━━━━━━━━━━━━\u001b[0m\u001b[37m\u001b[0m \u001b[1m0s\u001b[0m 2ms/step - loss: 0.0040 - mae: 0.0331 - r2_score: 0.7980 \n"
     ]
    },
    {
     "name": "stderr",
     "output_type": "stream",
     "text": [
      "[I 2024-07-11 20:55:09,872] Trial 91 finished with value: 0.7281537055969238 and parameters: {'n_layers': 4, 'weight_decay': 8.403946433376312e-06, 'n_units_0': 50, 'activation_0': 'relu', 'n_units_1': 84, 'activation_1': 'sigmoid', 'n_units_2': 18, 'activation_2': 'tanh', 'n_units_3': 5, 'activation_3': 'sigmoid', 'lr': 0.0008594130090270289}. Best is trial 30 with value: 0.7603436708450317.\n"
     ]
    },
    {
     "name": "stdout",
     "output_type": "stream",
     "text": [
      "\u001b[1m4/4\u001b[0m \u001b[32m━━━━━━━━━━━━━━━━━━━━\u001b[0m\u001b[37m\u001b[0m \u001b[1m0s\u001b[0m 2ms/step - loss: 0.0033 - mae: 0.0355 - r2_score: 0.7859 \n"
     ]
    },
    {
     "name": "stderr",
     "output_type": "stream",
     "text": [
      "[I 2024-07-11 20:55:15,920] Trial 92 finished with value: 0.7421083450317383 and parameters: {'n_layers': 1, 'weight_decay': 9.3829633120307e-09, 'n_units_0': 124, 'activation_0': 'relu', 'lr': 0.00035151954207965786}. Best is trial 30 with value: 0.7603436708450317.\n"
     ]
    },
    {
     "name": "stdout",
     "output_type": "stream",
     "text": [
      "\u001b[1m4/4\u001b[0m \u001b[32m━━━━━━━━━━━━━━━━━━━━\u001b[0m\u001b[37m\u001b[0m \u001b[1m0s\u001b[0m 2ms/step - loss: 0.0044 - mae: 0.0389 - r2_score: 0.7157 \n"
     ]
    },
    {
     "name": "stderr",
     "output_type": "stream",
     "text": [
      "[I 2024-07-11 20:55:18,387] Trial 93 finished with value: 0.6674873232841492 and parameters: {'n_layers': 1, 'weight_decay': 1.4731721462830656e-09, 'n_units_0': 28, 'activation_0': 'relu', 'lr': 0.0029070874044841897}. Best is trial 30 with value: 0.7603436708450317.\n"
     ]
    },
    {
     "name": "stdout",
     "output_type": "stream",
     "text": [
      "\u001b[1m4/4\u001b[0m \u001b[32m━━━━━━━━━━━━━━━━━━━━\u001b[0m\u001b[37m\u001b[0m \u001b[1m0s\u001b[0m 2ms/step - loss: 0.0034 - mae: 0.0364 - r2_score: 0.7771 \n"
     ]
    },
    {
     "name": "stderr",
     "output_type": "stream",
     "text": [
      "[I 2024-07-11 20:55:25,314] Trial 94 finished with value: 0.7077620029449463 and parameters: {'n_layers': 4, 'weight_decay': 1.622980056860538e-08, 'n_units_0': 43, 'activation_0': 'relu', 'n_units_1': 106, 'activation_1': 'tanh', 'n_units_2': 31, 'activation_2': 'sigmoid', 'n_units_3': 15, 'activation_3': 'tanh', 'lr': 0.0002898923739832666}. Best is trial 30 with value: 0.7603436708450317.\n"
     ]
    },
    {
     "name": "stdout",
     "output_type": "stream",
     "text": [
      "\u001b[1m4/4\u001b[0m \u001b[32m━━━━━━━━━━━━━━━━━━━━\u001b[0m\u001b[37m\u001b[0m \u001b[1m0s\u001b[0m 2ms/step - loss: 0.0059 - mae: 0.0349 - r2_score: 0.7695 \n"
     ]
    },
    {
     "name": "stderr",
     "output_type": "stream",
     "text": [
      "[I 2024-07-11 20:55:33,754] Trial 95 finished with value: 0.7183272838592529 and parameters: {'n_layers': 5, 'weight_decay': 1.8006680935612387e-05, 'n_units_0': 116, 'activation_0': 'tanh', 'n_units_1': 78, 'activation_1': 'sigmoid', 'n_units_2': 11, 'activation_2': 'tanh', 'n_units_3': 32, 'activation_3': 'relu', 'n_units_4': 40, 'activation_4': 'relu', 'lr': 0.00013159505235980223}. Best is trial 30 with value: 0.7603436708450317.\n"
     ]
    },
    {
     "name": "stdout",
     "output_type": "stream",
     "text": [
      "\u001b[1m4/4\u001b[0m \u001b[32m━━━━━━━━━━━━━━━━━━━━\u001b[0m\u001b[37m\u001b[0m \u001b[1m0s\u001b[0m 2ms/step - loss: 0.0034 - mae: 0.0342 - r2_score: 0.7788 \n"
     ]
    },
    {
     "name": "stderr",
     "output_type": "stream",
     "text": [
      "[I 2024-07-11 20:55:41,237] Trial 96 finished with value: 0.7236745357513428 and parameters: {'n_layers': 2, 'weight_decay': 8.332794553046199e-10, 'n_units_0': 124, 'activation_0': 'relu', 'n_units_1': 96, 'activation_1': 'sigmoid', 'lr': 9.580787682376043e-05}. Best is trial 30 with value: 0.7603436708450317.\n"
     ]
    },
    {
     "name": "stdout",
     "output_type": "stream",
     "text": [
      "\u001b[1m4/4\u001b[0m \u001b[32m━━━━━━━━━━━━━━━━━━━━\u001b[0m\u001b[37m\u001b[0m \u001b[1m0s\u001b[0m 1ms/step - loss: 0.0042 - mae: 0.0436 - r2_score: 0.7250 \n"
     ]
    },
    {
     "name": "stderr",
     "output_type": "stream",
     "text": [
      "[I 2024-07-11 20:55:43,608] Trial 97 finished with value: 0.6799593567848206 and parameters: {'n_layers': 1, 'weight_decay': 3.486070683620783e-08, 'n_units_0': 40, 'activation_0': 'relu', 'lr': 0.008590137938257024}. Best is trial 30 with value: 0.7603436708450317.\n"
     ]
    },
    {
     "name": "stdout",
     "output_type": "stream",
     "text": [
      "\u001b[1m4/4\u001b[0m \u001b[32m━━━━━━━━━━━━━━━━━━━━\u001b[0m\u001b[37m\u001b[0m \u001b[1m0s\u001b[0m 2ms/step - loss: 0.0033 - mae: 0.0342 - r2_score: 0.7868 \n"
     ]
    },
    {
     "name": "stderr",
     "output_type": "stream",
     "text": [
      "[I 2024-07-11 20:55:47,434] Trial 98 finished with value: 0.7272739410400391 and parameters: {'n_layers': 1, 'weight_decay': 1.514004807564141e-07, 'n_units_0': 54, 'activation_0': 'relu', 'lr': 0.0035270693734934613}. Best is trial 30 with value: 0.7603436708450317.\n"
     ]
    },
    {
     "name": "stdout",
     "output_type": "stream",
     "text": [
      "\u001b[1m4/4\u001b[0m \u001b[32m━━━━━━━━━━━━━━━━━━━━\u001b[0m\u001b[37m\u001b[0m \u001b[1m0s\u001b[0m 2ms/step - loss: 0.0033 - mae: 0.0346 - r2_score: 0.7884 \n"
     ]
    },
    {
     "name": "stderr",
     "output_type": "stream",
     "text": [
      "[I 2024-07-11 20:55:53,854] Trial 99 finished with value: 0.7244671583175659 and parameters: {'n_layers': 4, 'weight_decay': 1.0491197508968105e-08, 'n_units_0': 86, 'activation_0': 'relu', 'n_units_1': 120, 'activation_1': 'sigmoid', 'n_units_2': 36, 'activation_2': 'linear', 'n_units_3': 10, 'activation_3': 'sigmoid', 'lr': 0.0011531341757282545}. Best is trial 30 with value: 0.7603436708450317.\n"
     ]
    },
    {
     "name": "stdout",
     "output_type": "stream",
     "text": [
      "FrozenTrial(number=30, state=1, values=[0.7603436708450317], datetime_start=datetime.datetime(2024, 7, 11, 20, 51, 0, 147271), datetime_complete=datetime.datetime(2024, 7, 11, 20, 51, 3, 230120), params={'n_layers': 1, 'weight_decay': 1.1876535332201988e-07, 'n_units_0': 127, 'activation_0': 'relu', 'lr': 0.006399391727836228}, user_attrs={}, system_attrs={}, intermediate_values={}, distributions={'n_layers': IntDistribution(high=5, log=False, low=1, step=1), 'weight_decay': FloatDistribution(high=0.001, log=True, low=1e-10, step=None), 'n_units_0': IntDistribution(high=128, log=False, low=4, step=1), 'activation_0': CategoricalDistribution(choices=('relu', 'tanh', 'sigmoid', 'linear')), 'lr': FloatDistribution(high=0.1, log=True, low=1e-05, step=None)}, trial_id=30, value=None)\n"
     ]
    }
   ],
   "source": [
    "study = optuna.create_study( study_name=\"Study for neural network regressor\", direction=\"maximize\")\n",
    "study.optimize(objective_nn, n_trials=100)\n",
    "print(study.best_trial)"
   ]
  },
  {
   "cell_type": "markdown",
   "metadata": {},
   "source": [
    "---"
   ]
  },
  {
   "cell_type": "markdown",
   "metadata": {},
   "source": [
    "## Avaliação e Comparações"
   ]
  },
  {
   "cell_type": "code",
   "execution_count": null,
   "metadata": {},
   "outputs": [
    {
     "data": {
      "text/html": [
       "<div>\n",
       "<style scoped>\n",
       "    .dataframe tbody tr th:only-of-type {\n",
       "        vertical-align: middle;\n",
       "    }\n",
       "\n",
       "    .dataframe tbody tr th {\n",
       "        vertical-align: top;\n",
       "    }\n",
       "\n",
       "    .dataframe thead th {\n",
       "        text-align: right;\n",
       "    }\n",
       "</style>\n",
       "<table border=\"1\" class=\"dataframe\">\n",
       "  <thead>\n",
       "    <tr style=\"text-align: right;\">\n",
       "      <th></th>\n",
       "      <th>car_brand</th>\n",
       "      <th>car_name</th>\n",
       "      <th>car_km</th>\n",
       "      <th>car_year</th>\n",
       "      <th>car_engine</th>\n",
       "      <th>car_gearbox</th>\n",
       "      <th>car_fuel</th>\n",
       "      <th>lin_reg_pred</th>\n",
       "      <th>rf_reg_pred</th>\n",
       "      <th>gb_reg_pred</th>\n",
       "      <th>nn_reg_pred</th>\n",
       "      <th>car_price</th>\n",
       "    </tr>\n",
       "  </thead>\n",
       "  <tbody>\n",
       "    <tr>\n",
       "      <th>769</th>\n",
       "      <td>0.200000</td>\n",
       "      <td>0.611465</td>\n",
       "      <td>0.121131</td>\n",
       "      <td>0.76</td>\n",
       "      <td>0.000000</td>\n",
       "      <td>1.0</td>\n",
       "      <td>0.4</td>\n",
       "      <td>0.002104</td>\n",
       "      <td>0.050492</td>\n",
       "      <td>0.050388</td>\n",
       "      <td>0.077348</td>\n",
       "      <td>0.045224</td>\n",
       "    </tr>\n",
       "    <tr>\n",
       "      <th>550</th>\n",
       "      <td>0.066667</td>\n",
       "      <td>0.025478</td>\n",
       "      <td>0.137904</td>\n",
       "      <td>0.68</td>\n",
       "      <td>0.482759</td>\n",
       "      <td>0.0</td>\n",
       "      <td>0.4</td>\n",
       "      <td>0.155072</td>\n",
       "      <td>0.241463</td>\n",
       "      <td>0.199692</td>\n",
       "      <td>0.158229</td>\n",
       "      <td>0.161764</td>\n",
       "    </tr>\n",
       "    <tr>\n",
       "      <th>854</th>\n",
       "      <td>0.800000</td>\n",
       "      <td>0.770701</td>\n",
       "      <td>0.077982</td>\n",
       "      <td>0.64</td>\n",
       "      <td>0.344828</td>\n",
       "      <td>1.0</td>\n",
       "      <td>0.4</td>\n",
       "      <td>0.100765</td>\n",
       "      <td>0.036306</td>\n",
       "      <td>0.035778</td>\n",
       "      <td>0.072598</td>\n",
       "      <td>0.036371</td>\n",
       "    </tr>\n",
       "    <tr>\n",
       "      <th>601</th>\n",
       "      <td>0.266667</td>\n",
       "      <td>0.108280</td>\n",
       "      <td>0.119266</td>\n",
       "      <td>0.72</td>\n",
       "      <td>0.413793</td>\n",
       "      <td>0.0</td>\n",
       "      <td>0.4</td>\n",
       "      <td>0.154451</td>\n",
       "      <td>0.072187</td>\n",
       "      <td>0.075732</td>\n",
       "      <td>0.097398</td>\n",
       "      <td>0.076377</td>\n",
       "    </tr>\n",
       "    <tr>\n",
       "      <th>124</th>\n",
       "      <td>0.200000</td>\n",
       "      <td>0.891720</td>\n",
       "      <td>0.069535</td>\n",
       "      <td>0.84</td>\n",
       "      <td>0.103448</td>\n",
       "      <td>0.0</td>\n",
       "      <td>0.4</td>\n",
       "      <td>0.134126</td>\n",
       "      <td>0.131445</td>\n",
       "      <td>0.125462</td>\n",
       "      <td>0.146008</td>\n",
       "      <td>0.133934</td>\n",
       "    </tr>\n",
       "  </tbody>\n",
       "</table>\n",
       "</div>"
      ],
      "text/plain": [
       "     car_brand  car_name    car_km  car_year  car_engine  car_gearbox  \\\n",
       "769   0.200000  0.611465  0.121131      0.76    0.000000          1.0   \n",
       "550   0.066667  0.025478  0.137904      0.68    0.482759          0.0   \n",
       "854   0.800000  0.770701  0.077982      0.64    0.344828          1.0   \n",
       "601   0.266667  0.108280  0.119266      0.72    0.413793          0.0   \n",
       "124   0.200000  0.891720  0.069535      0.84    0.103448          0.0   \n",
       "\n",
       "     car_fuel  lin_reg_pred  rf_reg_pred  gb_reg_pred  nn_reg_pred  car_price  \n",
       "769       0.4      0.002104     0.050492     0.050388     0.077348   0.045224  \n",
       "550       0.4      0.155072     0.241463     0.199692     0.158229   0.161764  \n",
       "854       0.4      0.100765     0.036306     0.035778     0.072598   0.036371  \n",
       "601       0.4      0.154451     0.072187     0.075732     0.097398   0.076377  \n",
       "124       0.4      0.134126     0.131445     0.125462     0.146008   0.133934  "
      ]
     },
     "execution_count": 150,
     "metadata": {},
     "output_type": "execute_result"
    }
   ],
   "source": [
    "X_test['lin_reg_pred'] = lin_reg_pred\n",
    "X_test['rf_reg_pred'] = rf_reg_pred\n",
    "X_test['gb_reg_pred'] = gb_reg_pred\n",
    "X_test['nn_reg_pred'] = nn_reg_pred\n",
    "X_test['car_price'] = y_test\n",
    "\n",
    "X_test.head()"
   ]
  },
  {
   "cell_type": "code",
   "execution_count": null,
   "metadata": {},
   "outputs": [],
   "source": [
    "X_test.sort_values(by='car_km', inplace=True)"
   ]
  },
  {
   "cell_type": "code",
   "execution_count": null,
   "metadata": {},
   "outputs": [
    {
     "data": {
      "image/png": "[encoded data removed]",
      "text/plain": [
       "<Figure size 1500x500 with 1 Axes>"
      ]
     },
     "metadata": {},
     "output_type": "display_data"
    }
   ],
   "source": [
    "fig, ax = plt.subplots(figsize=(15, 5))\n",
    "\n",
    "fig.suptitle('Relationship between Car Kilometers and Price')\n",
    "\n",
    "ax.plot(X_test['car_km'], X_test['lin_reg_pred'], label='Linear Regression')\n",
    "ax.plot(X_test['car_km'], X_test['rf_reg_pred'], label='Random Forest')\n",
    "ax.plot(X_test['car_km'], X_test['gb_reg_pred'], label='Gradient Boosting')\n",
    "ax.plot(X_test['car_km'], X_test['nn_reg_pred'], label='Neural Network')\n",
    "ax.plot(X_test['car_km'], X_test['car_price'], label='Label')\n",
    "\n",
    "plt.legend()\n",
    "plt.show()"
   ]
  },
  {
   "cell_type": "markdown",
   "metadata": {},
   "source": [
    "---"
   ]
  },
  {
   "cell_type": "markdown",
   "metadata": {},
   "source": [
    "## Referêncais"
   ]
  },
  {
   "cell_type": "markdown",
   "metadata": {},
   "source": [
    "Data Treatment\n",
    "- https://pypi.org/project/fancyimpute/#description\n",
    "\n",
    "Regression Models\n",
    "- [Linear Regression] https://scikit-learn.org/stable/modules/generated/sklearn.linear_model.LinearRegression.html\n",
    "- [Random Forest Regressor] https://scikit-learn.org/stable/modules/generated/sklearn.ensemble.RandomForestRegressor.html\n",
    "- [Gradient Boosting Regressor] https://scikit-learn.org/stable/modules/generated/sklearn.ensemble.GradientBoostingRegressor.html#sklearn.ensemble.GradientBoostingRegressor\n",
    "- [Neural Network Rsgressor] https://www.tensorflow.org/api_docs/python/tf/keras/Sequential\n",
    "\n",
    "Further Reading\n",
    "- https://keras.io/examples/keras_recipes/reproducibility_recipes/\n",
    "\n",
    "Automated Optimization\n",
    "- [Optuna - A hyperparameter optimization framework] https://optuna.org/\n",
    "- https://automl.github.io/auto-sklearn/master/index.html\n",
    "\n",
    "Didactic Material\n",
    "- https://towardsdatascience.com/7-of-the-most-commonly-used-regression-algorithms-and-how-to-choose-the-right-one-fc3c8890f9e3"
   ]
  }
 ],
 "metadata": {
  "kernelspec": {
   "display_name": "venv",
   "language": "python",
   "name": "python3"
  },
  "language_info": {
   "codemirror_mode": {
    "name": "ipython",
    "version": 3
   },
   "file_extension": ".py",
   "mimetype": "text/x-python",
   "name": "python",
   "nbconvert_exporter": "python",
   "pygments_lexer": "ipython3",
   "version": "3.11.7"
  }
 },
 "nbformat": 4,
 "nbformat_minor": 2
}
